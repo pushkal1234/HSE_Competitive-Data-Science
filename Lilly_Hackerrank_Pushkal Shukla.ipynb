{
  "nbformat": 4,
  "nbformat_minor": 0,
  "metadata": {
    "colab": {
      "name": "Hackerrank.ipynb",
      "provenance": []
    },
    "kernelspec": {
      "name": "python3",
      "display_name": "Python 3"
    },
    "language_info": {
      "name": "python"
    }
  },
  "cells": [
    {
      "cell_type": "code",
      "source": [
        "import pandas as pd"
      ],
      "metadata": {
        "id": "S4oZAGdLVejk"
      },
      "execution_count": 3,
      "outputs": []
    },
    {
      "cell_type": "code",
      "source": [
        "train = pd.read_csv(\"/content/train.csv\")"
      ],
      "metadata": {
        "id": "tX7CgmDdGJvj"
      },
      "execution_count": 4,
      "outputs": []
    },
    {
      "cell_type": "code",
      "source": [
        "test = pd.read_csv(\"/content/test.csv\")"
      ],
      "metadata": {
        "id": "JUaltz3YnqHZ"
      },
      "execution_count": 118,
      "outputs": []
    },
    {
      "cell_type": "code",
      "source": [
        "train"
      ],
      "metadata": {
        "colab": {
          "base_uri": "https://localhost:8080/",
          "height": 687
        },
        "id": "-cKrv6g0VmSZ",
        "outputId": "f41eca70-2642-493c-865b-e53a820ee001"
      },
      "execution_count": 5,
      "outputs": [
        {
          "output_type": "execute_result",
          "data": {
            "text/html": [
              "<div>\n",
              "<style scoped>\n",
              "    .dataframe tbody tr th:only-of-type {\n",
              "        vertical-align: middle;\n",
              "    }\n",
              "\n",
              "    .dataframe tbody tr th {\n",
              "        vertical-align: top;\n",
              "    }\n",
              "\n",
              "    .dataframe thead th {\n",
              "        text-align: right;\n",
              "    }\n",
              "</style>\n",
              "<table border=\"1\" class=\"dataframe\">\n",
              "  <thead>\n",
              "    <tr style=\"text-align: right;\">\n",
              "      <th></th>\n",
              "      <th>instance_id</th>\n",
              "      <th>track_name</th>\n",
              "      <th>popularity</th>\n",
              "      <th>acousticness</th>\n",
              "      <th>danceability</th>\n",
              "      <th>duration_ms</th>\n",
              "      <th>energy</th>\n",
              "      <th>instrumentalness</th>\n",
              "      <th>key</th>\n",
              "      <th>liveness</th>\n",
              "      <th>loudness</th>\n",
              "      <th>voice_gender</th>\n",
              "      <th>mode</th>\n",
              "      <th>speechiness</th>\n",
              "      <th>tempo</th>\n",
              "      <th>musician_category</th>\n",
              "      <th>valence</th>\n",
              "      <th>music_genre</th>\n",
              "    </tr>\n",
              "  </thead>\n",
              "  <tbody>\n",
              "    <tr>\n",
              "      <th>0</th>\n",
              "      <td>MSC_83537.0</td>\n",
              "      <td>Estrellitas y Duendes</td>\n",
              "      <td>49.178</td>\n",
              "      <td>0.970522</td>\n",
              "      <td>0.580508</td>\n",
              "      <td>214625.776</td>\n",
              "      <td>0.192107</td>\n",
              "      <td>0.000000</td>\n",
              "      <td>Scale E</td>\n",
              "      <td>0.147134</td>\n",
              "      <td>-14.140</td>\n",
              "      <td>NaN</td>\n",
              "      <td>Major</td>\n",
              "      <td>0.046404</td>\n",
              "      <td>143.78799999999998</td>\n",
              "      <td>Band</td>\n",
              "      <td>0.598965</td>\n",
              "      <td>Jazz</td>\n",
              "    </tr>\n",
              "    <tr>\n",
              "      <th>1</th>\n",
              "      <td>MSC_22044.0</td>\n",
              "      <td>Al Norte</td>\n",
              "      <td>59.827</td>\n",
              "      <td>1.009380</td>\n",
              "      <td>0.687542</td>\n",
              "      <td>216232.195</td>\n",
              "      <td>0.265942</td>\n",
              "      <td>0.000031</td>\n",
              "      <td>Scale A</td>\n",
              "      <td>0.174655</td>\n",
              "      <td>-13.716</td>\n",
              "      <td>Male</td>\n",
              "      <td>?</td>\n",
              "      <td>0.039949</td>\n",
              "      <td>?</td>\n",
              "      <td>Band</td>\n",
              "      <td>0.357194</td>\n",
              "      <td>Jazz</td>\n",
              "    </tr>\n",
              "    <tr>\n",
              "      <th>2</th>\n",
              "      <td>MSC_62017.0</td>\n",
              "      <td>Yeah! (feat. Lil Jon &amp; Ludacris)</td>\n",
              "      <td>89.023</td>\n",
              "      <td>0.020041</td>\n",
              "      <td>0.967948</td>\n",
              "      <td>273314.723</td>\n",
              "      <td>0.857411</td>\n",
              "      <td>0.000000</td>\n",
              "      <td>Scale D</td>\n",
              "      <td>0.042030</td>\n",
              "      <td>-4.995</td>\n",
              "      <td>Female</td>\n",
              "      <td>Major</td>\n",
              "      <td>0.119917</td>\n",
              "      <td>105.01799999999999</td>\n",
              "      <td>Band</td>\n",
              "      <td>0.635525</td>\n",
              "      <td>Rap</td>\n",
              "    </tr>\n",
              "    <tr>\n",
              "      <th>3</th>\n",
              "      <td>MSC_76365.0</td>\n",
              "      <td>Can’t You See</td>\n",
              "      <td>55.762</td>\n",
              "      <td>0.010284</td>\n",
              "      <td>0.616287</td>\n",
              "      <td>189189.605</td>\n",
              "      <td>0.970513</td>\n",
              "      <td>0.000220</td>\n",
              "      <td>Scale D</td>\n",
              "      <td>0.124637</td>\n",
              "      <td>-4.262</td>\n",
              "      <td>Both</td>\n",
              "      <td>Major</td>\n",
              "      <td>0.167493</td>\n",
              "      <td>?</td>\n",
              "      <td>Duet</td>\n",
              "      <td>0.983750</td>\n",
              "      <td>Rock</td>\n",
              "    </tr>\n",
              "    <tr>\n",
              "      <th>4</th>\n",
              "      <td>MSC_71493.0</td>\n",
              "      <td>Sonata III (G Moll), BWV 1029: Adagio</td>\n",
              "      <td>45.095</td>\n",
              "      <td>0.858769</td>\n",
              "      <td>0.280645</td>\n",
              "      <td>410136.987</td>\n",
              "      <td>0.114732</td>\n",
              "      <td>0.002753</td>\n",
              "      <td>Scale F Sharp</td>\n",
              "      <td>0.134782</td>\n",
              "      <td>-26.922</td>\n",
              "      <td>Female</td>\n",
              "      <td>Minor</td>\n",
              "      <td>0.039139</td>\n",
              "      <td>112.18299999999999</td>\n",
              "      <td>Band</td>\n",
              "      <td>0.074412</td>\n",
              "      <td>Classical</td>\n",
              "    </tr>\n",
              "    <tr>\n",
              "      <th>...</th>\n",
              "      <td>...</td>\n",
              "      <td>...</td>\n",
              "      <td>...</td>\n",
              "      <td>...</td>\n",
              "      <td>...</td>\n",
              "      <td>...</td>\n",
              "      <td>...</td>\n",
              "      <td>...</td>\n",
              "      <td>...</td>\n",
              "      <td>...</td>\n",
              "      <td>...</td>\n",
              "      <td>...</td>\n",
              "      <td>...</td>\n",
              "      <td>...</td>\n",
              "      <td>...</td>\n",
              "      <td>...</td>\n",
              "      <td>...</td>\n",
              "      <td>...</td>\n",
              "    </tr>\n",
              "    <tr>\n",
              "      <th>15676</th>\n",
              "      <td>MSC_73047.0</td>\n",
              "      <td>I. Andante</td>\n",
              "      <td>0.000</td>\n",
              "      <td>0.866988</td>\n",
              "      <td>0.387476</td>\n",
              "      <td>-1.000</td>\n",
              "      <td>0.196799</td>\n",
              "      <td>0.028725</td>\n",
              "      <td>Scale B</td>\n",
              "      <td>0.248399</td>\n",
              "      <td>-16.331</td>\n",
              "      <td>Female</td>\n",
              "      <td>Major</td>\n",
              "      <td>0.045251</td>\n",
              "      <td>123.516</td>\n",
              "      <td>Band</td>\n",
              "      <td>0.624518</td>\n",
              "      <td>Classical</td>\n",
              "    </tr>\n",
              "    <tr>\n",
              "      <th>15677</th>\n",
              "      <td>MSC_34472.0</td>\n",
              "      <td>Only Trust Your Heart</td>\n",
              "      <td>40.514</td>\n",
              "      <td>0.883333</td>\n",
              "      <td>0.459917</td>\n",
              "      <td>378128.464</td>\n",
              "      <td>0.349263</td>\n",
              "      <td>0.000519</td>\n",
              "      <td>Scale F</td>\n",
              "      <td>0.681492</td>\n",
              "      <td>-25.087</td>\n",
              "      <td>Both</td>\n",
              "      <td>Major</td>\n",
              "      <td>0.448377</td>\n",
              "      <td>129.445</td>\n",
              "      <td>Duet</td>\n",
              "      <td>0.609022</td>\n",
              "      <td>Jazz</td>\n",
              "    </tr>\n",
              "    <tr>\n",
              "      <th>15678</th>\n",
              "      <td>MSC_32827.0</td>\n",
              "      <td>Moment's Notice</td>\n",
              "      <td>35.082</td>\n",
              "      <td>0.905281</td>\n",
              "      <td>0.566619</td>\n",
              "      <td>581799.061</td>\n",
              "      <td>0.543673</td>\n",
              "      <td>0.209238</td>\n",
              "      <td>Scale D Sharp</td>\n",
              "      <td>0.416611</td>\n",
              "      <td>-10.246</td>\n",
              "      <td>Female</td>\n",
              "      <td>Major</td>\n",
              "      <td>0.040625</td>\n",
              "      <td>123.17</td>\n",
              "      <td>NaN</td>\n",
              "      <td>0.869294</td>\n",
              "      <td>Jazz</td>\n",
              "    </tr>\n",
              "    <tr>\n",
              "      <th>15679</th>\n",
              "      <td>MSC_89976.0</td>\n",
              "      <td>Such Small Scenes</td>\n",
              "      <td>59.693</td>\n",
              "      <td>0.113408</td>\n",
              "      <td>0.644554</td>\n",
              "      <td>151226.592</td>\n",
              "      <td>0.912201</td>\n",
              "      <td>0.000089</td>\n",
              "      <td>Scale F</td>\n",
              "      <td>0.166336</td>\n",
              "      <td>-7.257</td>\n",
              "      <td>Both</td>\n",
              "      <td>Minor</td>\n",
              "      <td>0.060308</td>\n",
              "      <td>116.07700000000001</td>\n",
              "      <td>Duet</td>\n",
              "      <td>0.402700</td>\n",
              "      <td>Rock</td>\n",
              "    </tr>\n",
              "    <tr>\n",
              "      <th>15680</th>\n",
              "      <td>MSC_43297.0</td>\n",
              "      <td>Dogs of War</td>\n",
              "      <td>56.518</td>\n",
              "      <td>0.847136</td>\n",
              "      <td>0.502160</td>\n",
              "      <td>190735.191</td>\n",
              "      <td>0.470057</td>\n",
              "      <td>0.502878</td>\n",
              "      <td>Scale F</td>\n",
              "      <td>0.143114</td>\n",
              "      <td>-11.043</td>\n",
              "      <td>Female</td>\n",
              "      <td>Major</td>\n",
              "      <td>0.029906</td>\n",
              "      <td>94.2</td>\n",
              "      <td>Solo</td>\n",
              "      <td>0.358777</td>\n",
              "      <td>Classical</td>\n",
              "    </tr>\n",
              "  </tbody>\n",
              "</table>\n",
              "<p>15681 rows × 18 columns</p>\n",
              "</div>"
            ],
            "text/plain": [
              "       instance_id                             track_name  ...   valence  music_genre\n",
              "0      MSC_83537.0                  Estrellitas y Duendes  ...  0.598965         Jazz\n",
              "1      MSC_22044.0                               Al Norte  ...  0.357194         Jazz\n",
              "2      MSC_62017.0       Yeah! (feat. Lil Jon & Ludacris)  ...  0.635525          Rap\n",
              "3      MSC_76365.0                          Can’t You See  ...  0.983750         Rock\n",
              "4      MSC_71493.0  Sonata III (G Moll), BWV 1029: Adagio  ...  0.074412    Classical\n",
              "...            ...                                    ...  ...       ...          ...\n",
              "15676  MSC_73047.0                             I. Andante  ...  0.624518    Classical\n",
              "15677  MSC_34472.0                  Only Trust Your Heart  ...  0.609022         Jazz\n",
              "15678  MSC_32827.0                        Moment's Notice  ...  0.869294         Jazz\n",
              "15679  MSC_89976.0                      Such Small Scenes  ...  0.402700         Rock\n",
              "15680  MSC_43297.0                            Dogs of War  ...  0.358777    Classical\n",
              "\n",
              "[15681 rows x 18 columns]"
            ]
          },
          "metadata": {},
          "execution_count": 5
        }
      ]
    },
    {
      "cell_type": "code",
      "source": [
        "test"
      ],
      "metadata": {
        "colab": {
          "base_uri": "https://localhost:8080/",
          "height": 739
        },
        "id": "OFsr7WVknn3w",
        "outputId": "0b036631-d44b-45ea-fa48-927f93767bfb"
      },
      "execution_count": 119,
      "outputs": [
        {
          "output_type": "execute_result",
          "data": {
            "text/html": [
              "<div>\n",
              "<style scoped>\n",
              "    .dataframe tbody tr th:only-of-type {\n",
              "        vertical-align: middle;\n",
              "    }\n",
              "\n",
              "    .dataframe tbody tr th {\n",
              "        vertical-align: top;\n",
              "    }\n",
              "\n",
              "    .dataframe thead th {\n",
              "        text-align: right;\n",
              "    }\n",
              "</style>\n",
              "<table border=\"1\" class=\"dataframe\">\n",
              "  <thead>\n",
              "    <tr style=\"text-align: right;\">\n",
              "      <th></th>\n",
              "      <th>instance_id</th>\n",
              "      <th>track_name</th>\n",
              "      <th>popularity</th>\n",
              "      <th>acousticness</th>\n",
              "      <th>danceability</th>\n",
              "      <th>duration_ms</th>\n",
              "      <th>energy</th>\n",
              "      <th>instrumentalness</th>\n",
              "      <th>key</th>\n",
              "      <th>liveness</th>\n",
              "      <th>loudness</th>\n",
              "      <th>voice_gender</th>\n",
              "      <th>mode</th>\n",
              "      <th>speechiness</th>\n",
              "      <th>tempo</th>\n",
              "      <th>musician_category</th>\n",
              "      <th>valence</th>\n",
              "    </tr>\n",
              "  </thead>\n",
              "  <tbody>\n",
              "    <tr>\n",
              "      <th>0</th>\n",
              "      <td>MSC_70753.0</td>\n",
              "      <td>Bard, a Man of Lake-town - Extended Version</td>\n",
              "      <td>26.101</td>\n",
              "      <td>0.823765</td>\n",
              "      <td>0.115490</td>\n",
              "      <td>211462.287</td>\n",
              "      <td>0.125325</td>\n",
              "      <td>0.945272</td>\n",
              "      <td>Scale A Sharp</td>\n",
              "      <td>0.120392</td>\n",
              "      <td>-25.541</td>\n",
              "      <td>Both</td>\n",
              "      <td>Minor</td>\n",
              "      <td>0.038657</td>\n",
              "      <td>80.777</td>\n",
              "      <td>Duet</td>\n",
              "      <td>0.041238</td>\n",
              "    </tr>\n",
              "    <tr>\n",
              "      <th>1</th>\n",
              "      <td>MSC_24064.0</td>\n",
              "      <td>New Kings</td>\n",
              "      <td>66.325</td>\n",
              "      <td>0.015441</td>\n",
              "      <td>0.592838</td>\n",
              "      <td>249151.238</td>\n",
              "      <td>0.870798</td>\n",
              "      <td>0.000108</td>\n",
              "      <td>Scale E</td>\n",
              "      <td>0.406722</td>\n",
              "      <td>-3.905</td>\n",
              "      <td>Male</td>\n",
              "      <td>?</td>\n",
              "      <td>0.051368</td>\n",
              "      <td>76.00399999999999</td>\n",
              "      <td>Band</td>\n",
              "      <td>0.456309</td>\n",
              "    </tr>\n",
              "    <tr>\n",
              "      <th>2</th>\n",
              "      <td>MSC_22731.0</td>\n",
              "      <td>Silver Lining</td>\n",
              "      <td>71.871</td>\n",
              "      <td>0.001006</td>\n",
              "      <td>0.510340</td>\n",
              "      <td>215693.240</td>\n",
              "      <td>0.683077</td>\n",
              "      <td>0.000000</td>\n",
              "      <td>Scale C</td>\n",
              "      <td>0.084608</td>\n",
              "      <td>-6.825</td>\n",
              "      <td>Female</td>\n",
              "      <td>Major</td>\n",
              "      <td>0.034303</td>\n",
              "      <td>144.458</td>\n",
              "      <td>Solo</td>\n",
              "      <td>0.193332</td>\n",
              "    </tr>\n",
              "    <tr>\n",
              "      <th>3</th>\n",
              "      <td>MSC_32095.0</td>\n",
              "      <td>A Tale That Wasn't Right</td>\n",
              "      <td>56.151</td>\n",
              "      <td>0.315650</td>\n",
              "      <td>0.338336</td>\n",
              "      <td>307056.179</td>\n",
              "      <td>0.608904</td>\n",
              "      <td>0.000000</td>\n",
              "      <td>Scale A</td>\n",
              "      <td>0.276811</td>\n",
              "      <td>-8.382</td>\n",
              "      <td>Female</td>\n",
              "      <td>Minor</td>\n",
              "      <td>0.036934</td>\n",
              "      <td>118.145</td>\n",
              "      <td>Solo</td>\n",
              "      <td>0.214906</td>\n",
              "    </tr>\n",
              "    <tr>\n",
              "      <th>4</th>\n",
              "      <td>MSC_24198.0</td>\n",
              "      <td>Get Ready</td>\n",
              "      <td>43.687</td>\n",
              "      <td>0.038336</td>\n",
              "      <td>0.773904</td>\n",
              "      <td>352802.872</td>\n",
              "      <td>0.955500</td>\n",
              "      <td>0.000007</td>\n",
              "      <td>Scale D</td>\n",
              "      <td>0.301726</td>\n",
              "      <td>-4.733</td>\n",
              "      <td>Both</td>\n",
              "      <td>Major</td>\n",
              "      <td>0.079688</td>\n",
              "      <td>95.012</td>\n",
              "      <td>Duet</td>\n",
              "      <td>0.757347</td>\n",
              "    </tr>\n",
              "    <tr>\n",
              "      <th>...</th>\n",
              "      <td>...</td>\n",
              "      <td>...</td>\n",
              "      <td>...</td>\n",
              "      <td>...</td>\n",
              "      <td>...</td>\n",
              "      <td>...</td>\n",
              "      <td>...</td>\n",
              "      <td>...</td>\n",
              "      <td>...</td>\n",
              "      <td>...</td>\n",
              "      <td>...</td>\n",
              "      <td>...</td>\n",
              "      <td>...</td>\n",
              "      <td>...</td>\n",
              "      <td>...</td>\n",
              "      <td>...</td>\n",
              "      <td>...</td>\n",
              "    </tr>\n",
              "    <tr>\n",
              "      <th>3916</th>\n",
              "      <td>MSC_80955.0</td>\n",
              "      <td>Violin Concerto No. 1 in A Minor, BWV 1041 : 2...</td>\n",
              "      <td>28.296</td>\n",
              "      <td>0.880373</td>\n",
              "      <td>0.239413</td>\n",
              "      <td>334617.187</td>\n",
              "      <td>0.046885</td>\n",
              "      <td>0.000008</td>\n",
              "      <td>Scale B</td>\n",
              "      <td>0.149835</td>\n",
              "      <td>-26.465</td>\n",
              "      <td>NaN</td>\n",
              "      <td>Major</td>\n",
              "      <td>0.044304</td>\n",
              "      <td>?</td>\n",
              "      <td>Solo</td>\n",
              "      <td>0.159485</td>\n",
              "    </tr>\n",
              "    <tr>\n",
              "      <th>3917</th>\n",
              "      <td>MSC_72767.0</td>\n",
              "      <td>Fly On the Wall</td>\n",
              "      <td>57.506</td>\n",
              "      <td>0.002973</td>\n",
              "      <td>0.658013</td>\n",
              "      <td>266627.734</td>\n",
              "      <td>-1.000000</td>\n",
              "      <td>0.000000</td>\n",
              "      <td>Scale E</td>\n",
              "      <td>0.308676</td>\n",
              "      <td>-6.282</td>\n",
              "      <td>Female</td>\n",
              "      <td>Minor</td>\n",
              "      <td>0.033955</td>\n",
              "      <td>120.04799999999999</td>\n",
              "      <td>Band</td>\n",
              "      <td>0.384031</td>\n",
              "    </tr>\n",
              "    <tr>\n",
              "      <th>3918</th>\n",
              "      <td>MSC_40192.0</td>\n",
              "      <td>Aria mit 30 Veränderungen, BWV 988 \"Goldberg V...</td>\n",
              "      <td>40.085</td>\n",
              "      <td>1.065965</td>\n",
              "      <td>0.199430</td>\n",
              "      <td>237468.634</td>\n",
              "      <td>0.066235</td>\n",
              "      <td>0.998231</td>\n",
              "      <td>Scale G</td>\n",
              "      <td>0.074738</td>\n",
              "      <td>-30.092</td>\n",
              "      <td>NaN</td>\n",
              "      <td>Major</td>\n",
              "      <td>0.051459</td>\n",
              "      <td>66.095</td>\n",
              "      <td>Solo</td>\n",
              "      <td>0.333884</td>\n",
              "    </tr>\n",
              "    <tr>\n",
              "      <th>3919</th>\n",
              "      <td>MSC_56067.0</td>\n",
              "      <td>Buy Me A Rose</td>\n",
              "      <td>52.468</td>\n",
              "      <td>0.607947</td>\n",
              "      <td>0.677778</td>\n",
              "      <td>237945.370</td>\n",
              "      <td>0.313435</td>\n",
              "      <td>0.000002</td>\n",
              "      <td>Scale D Sharp</td>\n",
              "      <td>0.115475</td>\n",
              "      <td>-14.411</td>\n",
              "      <td>NaN</td>\n",
              "      <td>Major</td>\n",
              "      <td>0.032643</td>\n",
              "      <td>97.999</td>\n",
              "      <td>Band</td>\n",
              "      <td>0.203295</td>\n",
              "    </tr>\n",
              "    <tr>\n",
              "      <th>3920</th>\n",
              "      <td>MSC_90169.0</td>\n",
              "      <td>Tankwa Town</td>\n",
              "      <td>55.254</td>\n",
              "      <td>0.108211</td>\n",
              "      <td>0.805525</td>\n",
              "      <td>486815.224</td>\n",
              "      <td>0.421591</td>\n",
              "      <td>0.310566</td>\n",
              "      <td>Scale G</td>\n",
              "      <td>0.098789</td>\n",
              "      <td>-11.934</td>\n",
              "      <td>Female</td>\n",
              "      <td>Major</td>\n",
              "      <td>0.051685</td>\n",
              "      <td>100.008</td>\n",
              "      <td>Band</td>\n",
              "      <td>0.057954</td>\n",
              "    </tr>\n",
              "  </tbody>\n",
              "</table>\n",
              "<p>3921 rows × 17 columns</p>\n",
              "</div>"
            ],
            "text/plain": [
              "      instance_id  ...   valence\n",
              "0     MSC_70753.0  ...  0.041238\n",
              "1     MSC_24064.0  ...  0.456309\n",
              "2     MSC_22731.0  ...  0.193332\n",
              "3     MSC_32095.0  ...  0.214906\n",
              "4     MSC_24198.0  ...  0.757347\n",
              "...           ...  ...       ...\n",
              "3916  MSC_80955.0  ...  0.159485\n",
              "3917  MSC_72767.0  ...  0.384031\n",
              "3918  MSC_40192.0  ...  0.333884\n",
              "3919  MSC_56067.0  ...  0.203295\n",
              "3920  MSC_90169.0  ...  0.057954\n",
              "\n",
              "[3921 rows x 17 columns]"
            ]
          },
          "metadata": {},
          "execution_count": 119
        }
      ]
    },
    {
      "cell_type": "code",
      "source": [
        "train.isnull().sum()"
      ],
      "metadata": {
        "colab": {
          "base_uri": "https://localhost:8080/"
        },
        "id": "Wwjc3OFwVo1F",
        "outputId": "bde267be-2b75-4fd3-ef91-13513dc9b8d0"
      },
      "execution_count": 6,
      "outputs": [
        {
          "output_type": "execute_result",
          "data": {
            "text/plain": [
              "instance_id             0\n",
              "track_name              0\n",
              "popularity            642\n",
              "acousticness            0\n",
              "danceability          556\n",
              "duration_ms            94\n",
              "energy                 94\n",
              "instrumentalness       95\n",
              "key                     0\n",
              "liveness                0\n",
              "loudness               36\n",
              "voice_gender          765\n",
              "mode                   35\n",
              "speechiness            26\n",
              "tempo                   0\n",
              "musician_category    1360\n",
              "valence               677\n",
              "music_genre             0\n",
              "dtype: int64"
            ]
          },
          "metadata": {},
          "execution_count": 6
        }
      ]
    },
    {
      "cell_type": "code",
      "source": [
        "test.isnull().sum()"
      ],
      "metadata": {
        "colab": {
          "base_uri": "https://localhost:8080/"
        },
        "id": "qKDYAQkVnvl2",
        "outputId": "f783ffb1-7279-4190-d816-31af0e0c8073"
      },
      "execution_count": 120,
      "outputs": [
        {
          "output_type": "execute_result",
          "data": {
            "text/plain": [
              "instance_id            0\n",
              "track_name             0\n",
              "popularity           166\n",
              "acousticness           0\n",
              "danceability         139\n",
              "duration_ms           21\n",
              "energy                33\n",
              "instrumentalness      23\n",
              "key                    0\n",
              "liveness               0\n",
              "loudness               3\n",
              "voice_gender         186\n",
              "mode                  14\n",
              "speechiness            7\n",
              "tempo                  0\n",
              "musician_category    312\n",
              "valence              191\n",
              "dtype: int64"
            ]
          },
          "metadata": {},
          "execution_count": 120
        }
      ]
    },
    {
      "cell_type": "code",
      "source": [
        "train.columns"
      ],
      "metadata": {
        "colab": {
          "base_uri": "https://localhost:8080/"
        },
        "id": "lYRvVyjrYbMW",
        "outputId": "05a005bc-20b7-4cee-e1f1-1d5d3d578bcd"
      },
      "execution_count": 14,
      "outputs": [
        {
          "output_type": "execute_result",
          "data": {
            "text/plain": [
              "Index(['instance_id', 'track_name', 'popularity', 'acousticness',\n",
              "       'danceability', 'duration_ms', 'energy', 'instrumentalness', 'key',\n",
              "       'liveness', 'loudness', 'voice_gender', 'mode', 'speechiness', 'tempo',\n",
              "       'musician_category', 'valence', 'music_genre'],\n",
              "      dtype='object')"
            ]
          },
          "metadata": {},
          "execution_count": 14
        }
      ]
    },
    {
      "cell_type": "code",
      "source": [
        "test.columns"
      ],
      "metadata": {
        "colab": {
          "base_uri": "https://localhost:8080/"
        },
        "id": "fpRas-hSnyRR",
        "outputId": "cf3b2b38-5905-4220-9203-a83be8525dcf"
      },
      "execution_count": 121,
      "outputs": [
        {
          "output_type": "execute_result",
          "data": {
            "text/plain": [
              "Index(['instance_id', 'track_name', 'popularity', 'acousticness',\n",
              "       'danceability', 'duration_ms', 'energy', 'instrumentalness', 'key',\n",
              "       'liveness', 'loudness', 'voice_gender', 'mode', 'speechiness', 'tempo',\n",
              "       'musician_category', 'valence'],\n",
              "      dtype='object')"
            ]
          },
          "metadata": {},
          "execution_count": 121
        }
      ]
    },
    {
      "cell_type": "code",
      "source": [
        "import matplotlib.pyplot as plt\n",
        "import seaborn as sns\n",
        "fig, ax = plt.subplots(figsize=(10, 6))\n",
        "sns.boxplot(train.popularity)"
      ],
      "metadata": {
        "colab": {
          "base_uri": "https://localhost:8080/",
          "height": 460
        },
        "id": "0773w-9jXMIF",
        "outputId": "a9cbadd2-ccd3-4c32-d3cd-0b8fd860669b"
      },
      "execution_count": 7,
      "outputs": [
        {
          "output_type": "stream",
          "name": "stderr",
          "text": [
            "/usr/local/lib/python3.7/dist-packages/seaborn/_decorators.py:43: FutureWarning: Pass the following variable as a keyword arg: x. From version 0.12, the only valid positional argument will be `data`, and passing other arguments without an explicit keyword will result in an error or misinterpretation.\n",
            "  FutureWarning\n"
          ]
        },
        {
          "output_type": "execute_result",
          "data": {
            "text/plain": [
              "<matplotlib.axes._subplots.AxesSubplot at 0x7f23473a7f50>"
            ]
          },
          "metadata": {},
          "execution_count": 7
        },
        {
          "output_type": "display_data",
          "data": {
            "image/png": "[encoded data removed]",
            "text/plain": [
              "<Figure size 720x432 with 1 Axes>"
            ]
          },
          "metadata": {
            "needs_background": "light"
          }
        }
      ]
    },
    {
      "cell_type": "markdown",
      "source": [
        "**Checking the Skewness of the Data using Box plot and Distplot to replace the NA values with repective imputer techniques**, \n",
        "i.e if the data is skewed and the values inside it is numerical then we replace the Null values with the median of the data and if the data is non-numerical then we replace with the mode of the data.\n",
        "Similarly if the data is not skewed then we replace the null values with the mode. "
      ],
      "metadata": {
        "id": "rI3U09Ywqgqu"
      }
    },
    {
      "cell_type": "code",
      "source": [
        "fig, ax = plt.subplots(figsize=(10, 6))\n",
        "sns.boxplot(train.danceability)"
      ],
      "metadata": {
        "colab": {
          "base_uri": "https://localhost:8080/",
          "height": 460
        },
        "id": "40R3PlMiYYuZ",
        "outputId": "ea5e5cc8-355b-40a4-b042-1522c9e2bc4c"
      },
      "execution_count": 15,
      "outputs": [
        {
          "output_type": "stream",
          "name": "stderr",
          "text": [
            "/usr/local/lib/python3.7/dist-packages/seaborn/_decorators.py:43: FutureWarning: Pass the following variable as a keyword arg: x. From version 0.12, the only valid positional argument will be `data`, and passing other arguments without an explicit keyword will result in an error or misinterpretation.\n",
            "  FutureWarning\n"
          ]
        },
        {
          "output_type": "execute_result",
          "data": {
            "text/plain": [
              "<matplotlib.axes._subplots.AxesSubplot at 0x7f23464c5410>"
            ]
          },
          "metadata": {},
          "execution_count": 15
        },
        {
          "output_type": "display_data",
          "data": {
            "image/png": "[encoded data removed]",
            "text/plain": [
              "<Figure size 720x432 with 1 Axes>"
            ]
          },
          "metadata": {
            "needs_background": "light"
          }
        }
      ]
    },
    {
      "cell_type": "code",
      "source": [
        "fig, ax = plt.subplots(figsize=(10, 8))\n",
        "sns.distplot(train.popularity)"
      ],
      "metadata": {
        "colab": {
          "base_uri": "https://localhost:8080/",
          "height": 573
        },
        "id": "r9oCC4kqXlCq",
        "outputId": "32104b7e-0e54-4415-beb3-c7e17ee14f42"
      },
      "execution_count": 8,
      "outputs": [
        {
          "output_type": "stream",
          "name": "stderr",
          "text": [
            "/usr/local/lib/python3.7/dist-packages/seaborn/distributions.py:2619: FutureWarning: `distplot` is a deprecated function and will be removed in a future version. Please adapt your code to use either `displot` (a figure-level function with similar flexibility) or `histplot` (an axes-level function for histograms).\n",
            "  warnings.warn(msg, FutureWarning)\n"
          ]
        },
        {
          "output_type": "execute_result",
          "data": {
            "text/plain": [
              "<matplotlib.axes._subplots.AxesSubplot at 0x7f23464c2110>"
            ]
          },
          "metadata": {},
          "execution_count": 8
        },
        {
          "output_type": "display_data",
          "data": {
            "image/png": "[encoded data removed]",
            "text/plain": [
              "<Figure size 720x576 with 1 Axes>"
            ]
          },
          "metadata": {
            "needs_background": "light"
          }
        }
      ]
    },
    {
      "cell_type": "code",
      "source": [
        "fig, ax = plt.subplots(figsize=(10, 6))\n",
        "sns.boxplot(train.duration_ms)"
      ],
      "metadata": {
        "colab": {
          "base_uri": "https://localhost:8080/",
          "height": 461
        },
        "id": "lr-TLPchY-ET",
        "outputId": "f58d4a07-8c0b-4392-f544-3c9d01ade556"
      },
      "execution_count": 18,
      "outputs": [
        {
          "output_type": "stream",
          "name": "stderr",
          "text": [
            "/usr/local/lib/python3.7/dist-packages/seaborn/_decorators.py:43: FutureWarning: Pass the following variable as a keyword arg: x. From version 0.12, the only valid positional argument will be `data`, and passing other arguments without an explicit keyword will result in an error or misinterpretation.\n",
            "  FutureWarning\n"
          ]
        },
        {
          "output_type": "execute_result",
          "data": {
            "text/plain": [
              "<matplotlib.axes._subplots.AxesSubplot at 0x7f233a880f90>"
            ]
          },
          "metadata": {},
          "execution_count": 18
        },
        {
          "output_type": "display_data",
          "data": {
            "image/png": "[encoded data removed]",
            "text/plain": [
              "<Figure size 720x432 with 1 Axes>"
            ]
          },
          "metadata": {
            "needs_background": "light"
          }
        }
      ]
    },
    {
      "cell_type": "code",
      "source": [
        "fig, ax = plt.subplots(figsize=(10, 6))\n",
        "sns.boxplot(train.energy)"
      ],
      "metadata": {
        "colab": {
          "base_uri": "https://localhost:8080/",
          "height": 460
        },
        "id": "_UqxgHXTZd82",
        "outputId": "62c867b0-b18c-424b-8b08-fe31ac629a89"
      },
      "execution_count": 20,
      "outputs": [
        {
          "output_type": "stream",
          "name": "stderr",
          "text": [
            "/usr/local/lib/python3.7/dist-packages/seaborn/_decorators.py:43: FutureWarning: Pass the following variable as a keyword arg: x. From version 0.12, the only valid positional argument will be `data`, and passing other arguments without an explicit keyword will result in an error or misinterpretation.\n",
            "  FutureWarning\n"
          ]
        },
        {
          "output_type": "execute_result",
          "data": {
            "text/plain": [
              "<matplotlib.axes._subplots.AxesSubplot at 0x7f23464cea50>"
            ]
          },
          "metadata": {},
          "execution_count": 20
        },
        {
          "output_type": "display_data",
          "data": {
            "image/png": "[encoded data removed]",
            "text/plain": [
              "<Figure size 720x432 with 1 Axes>"
            ]
          },
          "metadata": {
            "needs_background": "light"
          }
        }
      ]
    },
    {
      "cell_type": "code",
      "source": [
        "fig, ax = plt.subplots(figsize=(10, 6))\n",
        "sns.boxplot(train.instrumentalness)"
      ],
      "metadata": {
        "colab": {
          "base_uri": "https://localhost:8080/",
          "height": 460
        },
        "id": "pJ9to7HBZuPA",
        "outputId": "ee0949df-44c3-4432-936e-64ba0b07bd4d"
      },
      "execution_count": 23,
      "outputs": [
        {
          "output_type": "stream",
          "name": "stderr",
          "text": [
            "/usr/local/lib/python3.7/dist-packages/seaborn/_decorators.py:43: FutureWarning: Pass the following variable as a keyword arg: x. From version 0.12, the only valid positional argument will be `data`, and passing other arguments without an explicit keyword will result in an error or misinterpretation.\n",
            "  FutureWarning\n"
          ]
        },
        {
          "output_type": "execute_result",
          "data": {
            "text/plain": [
              "<matplotlib.axes._subplots.AxesSubplot at 0x7f233a72cb90>"
            ]
          },
          "metadata": {},
          "execution_count": 23
        },
        {
          "output_type": "display_data",
          "data": {
            "image/png": "[encoded data removed]",
            "text/plain": [
              "<Figure size 720x432 with 1 Axes>"
            ]
          },
          "metadata": {
            "needs_background": "light"
          }
        }
      ]
    },
    {
      "cell_type": "code",
      "source": [
        "fig, ax = plt.subplots(figsize=(10, 6))\n",
        "sns.boxplot(train.loudness)"
      ],
      "metadata": {
        "colab": {
          "base_uri": "https://localhost:8080/",
          "height": 460
        },
        "id": "SnJvDbItZurv",
        "outputId": "3dedcfd9-f41b-4a34-cffc-5a402a2b1b3e"
      },
      "execution_count": 27,
      "outputs": [
        {
          "output_type": "stream",
          "name": "stderr",
          "text": [
            "/usr/local/lib/python3.7/dist-packages/seaborn/_decorators.py:43: FutureWarning: Pass the following variable as a keyword arg: x. From version 0.12, the only valid positional argument will be `data`, and passing other arguments without an explicit keyword will result in an error or misinterpretation.\n",
            "  FutureWarning\n"
          ]
        },
        {
          "output_type": "execute_result",
          "data": {
            "text/plain": [
              "<matplotlib.axes._subplots.AxesSubplot at 0x7f233a696810>"
            ]
          },
          "metadata": {},
          "execution_count": 27
        },
        {
          "output_type": "display_data",
          "data": {
            "image/png": "[encoded data removed]",
            "text/plain": [
              "<Figure size 720x432 with 1 Axes>"
            ]
          },
          "metadata": {
            "needs_background": "light"
          }
        }
      ]
    },
    {
      "cell_type": "code",
      "source": [
        "fig, ax = plt.subplots(figsize=(10, 6))\n",
        "sns.boxplot(train.speechiness)"
      ],
      "metadata": {
        "colab": {
          "base_uri": "https://localhost:8080/",
          "height": 460
        },
        "id": "XUGE00AUaJNB",
        "outputId": "635279d5-853d-48e0-e7f1-62b3411e03a0"
      },
      "execution_count": 34,
      "outputs": [
        {
          "output_type": "stream",
          "name": "stderr",
          "text": [
            "/usr/local/lib/python3.7/dist-packages/seaborn/_decorators.py:43: FutureWarning: Pass the following variable as a keyword arg: x. From version 0.12, the only valid positional argument will be `data`, and passing other arguments without an explicit keyword will result in an error or misinterpretation.\n",
            "  FutureWarning\n"
          ]
        },
        {
          "output_type": "execute_result",
          "data": {
            "text/plain": [
              "<matplotlib.axes._subplots.AxesSubplot at 0x7f233a5b4e10>"
            ]
          },
          "metadata": {},
          "execution_count": 34
        },
        {
          "output_type": "display_data",
          "data": {
            "image/png": "[encoded data removed]",
            "text/plain": [
              "<Figure size 720x432 with 1 Axes>"
            ]
          },
          "metadata": {
            "needs_background": "light"
          }
        }
      ]
    },
    {
      "cell_type": "code",
      "source": [
        "fig, ax = plt.subplots(figsize=(10, 6))\n",
        "sns.boxplot(train.valence)"
      ],
      "metadata": {
        "colab": {
          "base_uri": "https://localhost:8080/",
          "height": 460
        },
        "id": "C34m5_fXbZJD",
        "outputId": "7c27c171-5dbb-4297-d154-8520c5897a95"
      },
      "execution_count": 39,
      "outputs": [
        {
          "output_type": "stream",
          "name": "stderr",
          "text": [
            "/usr/local/lib/python3.7/dist-packages/seaborn/_decorators.py:43: FutureWarning: Pass the following variable as a keyword arg: x. From version 0.12, the only valid positional argument will be `data`, and passing other arguments without an explicit keyword will result in an error or misinterpretation.\n",
            "  FutureWarning\n"
          ]
        },
        {
          "output_type": "execute_result",
          "data": {
            "text/plain": [
              "<matplotlib.axes._subplots.AxesSubplot at 0x7f233a572290>"
            ]
          },
          "metadata": {},
          "execution_count": 39
        },
        {
          "output_type": "display_data",
          "data": {
            "image/png": "[encoded data removed]",
            "text/plain": [
              "<Figure size 720x432 with 1 Axes>"
            ]
          },
          "metadata": {
            "needs_background": "light"
          }
        }
      ]
    },
    {
      "cell_type": "code",
      "source": [
        "train[\"popularity\"] = train[\"popularity\"].fillna(train[\"popularity\"].median())"
      ],
      "metadata": {
        "id": "2mmb2LCvXdf5"
      },
      "execution_count": 17,
      "outputs": []
    },
    {
      "cell_type": "code",
      "source": [
        "test[\"popularity\"] = test[\"popularity\"].fillna(test[\"popularity\"].median())"
      ],
      "metadata": {
        "id": "oqrA6BbooCZ_"
      },
      "execution_count": 122,
      "outputs": []
    },
    {
      "cell_type": "code",
      "source": [
        "train[\"danceability\"] = train[\"danceability\"].fillna(train[\"danceability\"].mean())"
      ],
      "metadata": {
        "id": "TBZ-PV8qYnCb"
      },
      "execution_count": 16,
      "outputs": []
    },
    {
      "cell_type": "code",
      "source": [
        "test[\"danceability\"] = test[\"danceability\"].fillna(test[\"danceability\"].mean())"
      ],
      "metadata": {
        "id": "698RUcm6oItY"
      },
      "execution_count": 123,
      "outputs": []
    },
    {
      "cell_type": "code",
      "source": [
        "train[\"duration_ms\"] = train[\"duration_ms\"].fillna(train[\"duration_ms\"].median())"
      ],
      "metadata": {
        "id": "93ECWOe0Y7BW"
      },
      "execution_count": 19,
      "outputs": []
    },
    {
      "cell_type": "code",
      "source": [
        "train[\"loudness\"] = train[\"loudness\"].fillna(train[\"loudness\"].median())"
      ],
      "metadata": {
        "id": "Nx9Vqr8xpWTw"
      },
      "execution_count": null,
      "outputs": []
    },
    {
      "cell_type": "code",
      "source": [
        "test[\"loudness\"] = test[\"loudness\"].fillna(test[\"loudness\"].median())"
      ],
      "metadata": {
        "id": "UdECPlEXpce-"
      },
      "execution_count": 133,
      "outputs": []
    },
    {
      "cell_type": "code",
      "source": [
        "test[\"duration_ms\"] = test[\"duration_ms\"].fillna(test[\"duration_ms\"].median())"
      ],
      "metadata": {
        "id": "m74HtKpwoQvz"
      },
      "execution_count": 124,
      "outputs": []
    },
    {
      "cell_type": "code",
      "source": [
        "train[\"energy\"] = train[\"energy\"].fillna(train[\"energy\"].mean())"
      ],
      "metadata": {
        "id": "exiU8VjqZVQg"
      },
      "execution_count": 22,
      "outputs": []
    },
    {
      "cell_type": "code",
      "source": [
        "test[\"energy\"] = test[\"energy\"].fillna(train[\"energy\"].mean())"
      ],
      "metadata": {
        "id": "29ImmYoHoWMc"
      },
      "execution_count": 125,
      "outputs": []
    },
    {
      "cell_type": "code",
      "source": [
        "train[\"instrumentalness\"] = train[\"instrumentalness\"].fillna(train[\"instrumentalness\"].mean())"
      ],
      "metadata": {
        "id": "kkGQnRgXZY3C"
      },
      "execution_count": 25,
      "outputs": []
    },
    {
      "cell_type": "code",
      "source": [
        "test[\"instrumentalness\"] = test[\"instrumentalness\"].fillna(test[\"instrumentalness\"].mean())"
      ],
      "metadata": {
        "id": "pU2p_QeFocOi"
      },
      "execution_count": 126,
      "outputs": []
    },
    {
      "cell_type": "code",
      "source": [
        "train[\"voice_gender\"] = train[\"voice_gender\"].fillna(train[\"voice_gender\"].mode()[0])"
      ],
      "metadata": {
        "id": "RvICFD0HY7D_"
      },
      "execution_count": 30,
      "outputs": []
    },
    {
      "cell_type": "code",
      "source": [
        "test[\"voice_gender\"] = test[\"voice_gender\"].fillna(test[\"voice_gender\"].mode()[0])"
      ],
      "metadata": {
        "id": "V76WQTrPoqwa"
      },
      "execution_count": 127,
      "outputs": []
    },
    {
      "cell_type": "code",
      "source": [
        "train[\"mode\"] = train[\"mode\"].fillna(train[\"mode\"].mode()[0])"
      ],
      "metadata": {
        "id": "LTbRSc11a1K3"
      },
      "execution_count": 32,
      "outputs": []
    },
    {
      "cell_type": "code",
      "source": [
        "test[\"mode\"] = test[\"mode\"].fillna(test[\"mode\"].mode()[0])"
      ],
      "metadata": {
        "id": "TGG2Ve6ro1-k"
      },
      "execution_count": 128,
      "outputs": []
    },
    {
      "cell_type": "code",
      "source": [
        "train[\"speechiness\"] = train[\"speechiness\"].fillna(train[\"speechiness\"].median())"
      ],
      "metadata": {
        "id": "lMlKY0cOa62z"
      },
      "execution_count": 35,
      "outputs": []
    },
    {
      "cell_type": "code",
      "source": [
        "test[\"speechiness\"] = test[\"speechiness\"].fillna(test[\"speechiness\"].median())"
      ],
      "metadata": {
        "id": "F-p-xj0Go7N_"
      },
      "execution_count": 129,
      "outputs": []
    },
    {
      "cell_type": "code",
      "source": [
        "train[\"musician_category\"] = train[\"musician_category\"].fillna(train[\"musician_category\"].mode()[0])"
      ],
      "metadata": {
        "id": "d_2Grjgma65E"
      },
      "execution_count": 38,
      "outputs": []
    },
    {
      "cell_type": "code",
      "source": [
        "test[\"musician_category\"] = test[\"musician_category\"].fillna(test[\"musician_category\"].mode()[0])"
      ],
      "metadata": {
        "id": "8M2pjl5No_Qb"
      },
      "execution_count": 130,
      "outputs": []
    },
    {
      "cell_type": "code",
      "source": [
        "train[\"valence\"] = train[\"valence\"].fillna(train[\"valence\"].mean())"
      ],
      "metadata": {
        "id": "K0_uzDZgbWg3"
      },
      "execution_count": 40,
      "outputs": []
    },
    {
      "cell_type": "code",
      "source": [
        "test[\"valence\"] = test[\"valence\"].fillna(test[\"valence\"].mean())"
      ],
      "metadata": {
        "id": "oQgG6nOFpBMy"
      },
      "execution_count": 131,
      "outputs": []
    },
    {
      "cell_type": "code",
      "source": [
        "train.isnull().sum()"
      ],
      "metadata": {
        "colab": {
          "base_uri": "https://localhost:8080/"
        },
        "id": "BK30LzVHYJp4",
        "outputId": "3080db31-4ca6-453f-ed3c-c088370af4c6"
      },
      "execution_count": 50,
      "outputs": [
        {
          "output_type": "execute_result",
          "data": {
            "text/plain": [
              "instance_id          0\n",
              "track_name           0\n",
              "popularity           0\n",
              "acousticness         0\n",
              "danceability         0\n",
              "duration_ms          0\n",
              "energy               0\n",
              "instrumentalness     0\n",
              "key                  0\n",
              "liveness             0\n",
              "loudness             0\n",
              "voice_gender         0\n",
              "mode                 0\n",
              "speechiness          0\n",
              "tempo                0\n",
              "musician_category    0\n",
              "valence              0\n",
              "music_genre          0\n",
              "dtype: int64"
            ]
          },
          "metadata": {},
          "execution_count": 50
        }
      ]
    },
    {
      "cell_type": "code",
      "source": [
        "test.isnull().sum()"
      ],
      "metadata": {
        "colab": {
          "base_uri": "https://localhost:8080/"
        },
        "id": "0Igru0p2pIJE",
        "outputId": "a8c8893f-77d3-48f6-aa5a-c87f4847d2ab"
      },
      "execution_count": 134,
      "outputs": [
        {
          "output_type": "execute_result",
          "data": {
            "text/plain": [
              "instance_id          0\n",
              "track_name           0\n",
              "popularity           0\n",
              "acousticness         0\n",
              "danceability         0\n",
              "duration_ms          0\n",
              "energy               0\n",
              "instrumentalness     0\n",
              "key                  0\n",
              "liveness             0\n",
              "loudness             0\n",
              "voice_gender         0\n",
              "mode                 0\n",
              "speechiness          0\n",
              "tempo                0\n",
              "musician_category    0\n",
              "valence              0\n",
              "dtype: int64"
            ]
          },
          "metadata": {},
          "execution_count": 134
        }
      ]
    },
    {
      "cell_type": "code",
      "source": [
        "import pandas as pd \n",
        "import numpy as np\n",
        "\n",
        "import sklearn\n",
        "\n",
        "from sklearn.model_selection import train_test_split\n",
        "\n",
        "from sklearn.ensemble import RandomForestClassifier \n",
        "\n",
        "from sklearn.metrics import accuracy_score \n",
        "\n",
        "from sklearn.datasets import load_iris\n",
        "\n",
        "import sklearn.metrics as metrics"
      ],
      "metadata": {
        "id": "i8nS5qKMayce"
      },
      "execution_count": 98,
      "outputs": []
    },
    {
      "cell_type": "code",
      "source": [
        "train.shape"
      ],
      "metadata": {
        "colab": {
          "base_uri": "https://localhost:8080/"
        },
        "id": "qg5E8qVlcbXp",
        "outputId": "21bdabef-a634-4edc-e46f-8581abc28f54"
      },
      "execution_count": 99,
      "outputs": [
        {
          "output_type": "execute_result",
          "data": {
            "text/plain": [
              "(15681, 18)"
            ]
          },
          "metadata": {},
          "execution_count": 99
        }
      ]
    },
    {
      "cell_type": "code",
      "source": [
        "X = train.iloc[:,0:17]"
      ],
      "metadata": {
        "id": "ZcOrYwiTcWx3"
      },
      "execution_count": 107,
      "outputs": []
    },
    {
      "cell_type": "code",
      "source": [
        "Y = train.iloc[:, 17]"
      ],
      "metadata": {
        "id": "_u-pnaAcdoXr"
      },
      "execution_count": 108,
      "outputs": []
    },
    {
      "cell_type": "code",
      "source": [
        "#X [\"mode\"] = X[\"mode\"].replace(to_replace='?', value=X[\"mode\"].mode()[0], inplace = True)"
      ],
      "metadata": {
        "id": "Gr4s3jVJcyF-"
      },
      "execution_count": 55,
      "outputs": []
    },
    {
      "cell_type": "code",
      "source": [
        "X.isnull().sum()"
      ],
      "metadata": {
        "colab": {
          "base_uri": "https://localhost:8080/"
        },
        "id": "hMrlhhmYdDsJ",
        "outputId": "4c570913-2ef0-401d-bb4d-2e796ce7cdfd"
      },
      "execution_count": 102,
      "outputs": [
        {
          "output_type": "execute_result",
          "data": {
            "text/plain": [
              "instance_id          0\n",
              "track_name           0\n",
              "popularity           0\n",
              "acousticness         0\n",
              "danceability         0\n",
              "duration_ms          0\n",
              "energy               0\n",
              "instrumentalness     0\n",
              "key                  0\n",
              "liveness             0\n",
              "loudness             0\n",
              "voice_gender         0\n",
              "mode                 0\n",
              "speechiness          0\n",
              "tempo                0\n",
              "musician_category    0\n",
              "valence              0\n",
              "dtype: int64"
            ]
          },
          "metadata": {},
          "execution_count": 102
        }
      ]
    },
    {
      "cell_type": "code",
      "source": [
        "train[\"tempo\"].replace('?', np.nan, inplace = True)"
      ],
      "metadata": {
        "id": "dbSpdSHGg76P"
      },
      "execution_count": 93,
      "outputs": []
    },
    {
      "cell_type": "code",
      "source": [
        "train[\"tempo\"] = train[\"tempo\"].fillna(0)"
      ],
      "metadata": {
        "id": "5nCDQ_Csir4b"
      },
      "execution_count": 96,
      "outputs": []
    },
    {
      "cell_type": "code",
      "source": [
        "test[\"tempo\"].replace('?', np.nan, inplace = True)"
      ],
      "metadata": {
        "id": "VQjBFxNJrxRz"
      },
      "execution_count": 140,
      "outputs": []
    },
    {
      "cell_type": "code",
      "source": [
        "test[\"tempo\"] = test[\"tempo\"].fillna(0)"
      ],
      "metadata": {
        "id": "E2sjTQtproMG"
      },
      "execution_count": 142,
      "outputs": []
    },
    {
      "cell_type": "code",
      "source": [
        "cols = [\"instance_id\", \"track_name\", \"key\", \"voice_gender\", \"mode\", \"musician_category\"]\n",
        "from sklearn.preprocessing import LabelEncoder\n",
        "le = LabelEncoder()\n",
        "train[cols] = le.fit_transform(cols)"
      ],
      "metadata": {
        "id": "U-4-zP1BfJmc"
      },
      "execution_count": 79,
      "outputs": []
    },
    {
      "cell_type": "code",
      "source": [
        "cols = [\"instance_id\", \"track_name\", \"key\", \"voice_gender\", \"mode\", \"musician_category\"]\n",
        "from sklearn.preprocessing import LabelEncoder\n",
        "le = LabelEncoder()\n",
        "test[cols] = le.fit_transform(cols)"
      ],
      "metadata": {
        "id": "LQ-h4ZbHr9vi"
      },
      "execution_count": 143,
      "outputs": []
    },
    {
      "cell_type": "code",
      "source": [
        "X_train, X_test, y_train, y_test = train_test_split(X, Y, test_size = 0.3, random_state = 100)"
      ],
      "metadata": {
        "id": "X78rLxv-cG6Z"
      },
      "execution_count": 109,
      "outputs": []
    },
    {
      "cell_type": "code",
      "source": [
        "X_train"
      ],
      "metadata": {
        "colab": {
          "base_uri": "https://localhost:8080/",
          "height": 443
        },
        "id": "ry2PMi7XkBCE",
        "outputId": "818aa394-1d9d-4593-967c-bc4c90f3c5a7"
      },
      "execution_count": 111,
      "outputs": [
        {
          "output_type": "execute_result",
          "data": {
            "text/html": [
              "<div>\n",
              "<style scoped>\n",
              "    .dataframe tbody tr th:only-of-type {\n",
              "        vertical-align: middle;\n",
              "    }\n",
              "\n",
              "    .dataframe tbody tr th {\n",
              "        vertical-align: top;\n",
              "    }\n",
              "\n",
              "    .dataframe thead th {\n",
              "        text-align: right;\n",
              "    }\n",
              "</style>\n",
              "<table border=\"1\" class=\"dataframe\">\n",
              "  <thead>\n",
              "    <tr style=\"text-align: right;\">\n",
              "      <th></th>\n",
              "      <th>instance_id</th>\n",
              "      <th>track_name</th>\n",
              "      <th>popularity</th>\n",
              "      <th>acousticness</th>\n",
              "      <th>danceability</th>\n",
              "      <th>duration_ms</th>\n",
              "      <th>energy</th>\n",
              "      <th>instrumentalness</th>\n",
              "      <th>key</th>\n",
              "      <th>liveness</th>\n",
              "      <th>loudness</th>\n",
              "      <th>voice_gender</th>\n",
              "      <th>mode</th>\n",
              "      <th>speechiness</th>\n",
              "      <th>tempo</th>\n",
              "      <th>musician_category</th>\n",
              "      <th>valence</th>\n",
              "    </tr>\n",
              "  </thead>\n",
              "  <tbody>\n",
              "    <tr>\n",
              "      <th>10363</th>\n",
              "      <td>0</td>\n",
              "      <td>4</td>\n",
              "      <td>81.005</td>\n",
              "      <td>0.311369</td>\n",
              "      <td>0.721600</td>\n",
              "      <td>219081.767</td>\n",
              "      <td>0.913264</td>\n",
              "      <td>0.000000</td>\n",
              "      <td>1</td>\n",
              "      <td>0.130928</td>\n",
              "      <td>-4.837</td>\n",
              "      <td>5</td>\n",
              "      <td>2</td>\n",
              "      <td>0.092692</td>\n",
              "      <td>179.984</td>\n",
              "      <td>3</td>\n",
              "      <td>1.054532</td>\n",
              "    </tr>\n",
              "    <tr>\n",
              "      <th>9477</th>\n",
              "      <td>0</td>\n",
              "      <td>4</td>\n",
              "      <td>32.683</td>\n",
              "      <td>1.068701</td>\n",
              "      <td>0.422237</td>\n",
              "      <td>166799.471</td>\n",
              "      <td>0.046709</td>\n",
              "      <td>0.998884</td>\n",
              "      <td>1</td>\n",
              "      <td>0.120682</td>\n",
              "      <td>-29.719</td>\n",
              "      <td>5</td>\n",
              "      <td>2</td>\n",
              "      <td>0.054271</td>\n",
              "      <td>0</td>\n",
              "      <td>3</td>\n",
              "      <td>0.226051</td>\n",
              "    </tr>\n",
              "    <tr>\n",
              "      <th>3155</th>\n",
              "      <td>0</td>\n",
              "      <td>4</td>\n",
              "      <td>50.318</td>\n",
              "      <td>1.046088</td>\n",
              "      <td>0.356829</td>\n",
              "      <td>260511.101</td>\n",
              "      <td>0.028940</td>\n",
              "      <td>0.960202</td>\n",
              "      <td>1</td>\n",
              "      <td>0.109819</td>\n",
              "      <td>-24.073</td>\n",
              "      <td>5</td>\n",
              "      <td>2</td>\n",
              "      <td>0.049919</td>\n",
              "      <td>76.132</td>\n",
              "      <td>3</td>\n",
              "      <td>0.051716</td>\n",
              "    </tr>\n",
              "    <tr>\n",
              "      <th>8222</th>\n",
              "      <td>0</td>\n",
              "      <td>4</td>\n",
              "      <td>70.541</td>\n",
              "      <td>0.198578</td>\n",
              "      <td>0.801254</td>\n",
              "      <td>151754.855</td>\n",
              "      <td>-1.000000</td>\n",
              "      <td>0.000000</td>\n",
              "      <td>1</td>\n",
              "      <td>0.431386</td>\n",
              "      <td>-1.415</td>\n",
              "      <td>5</td>\n",
              "      <td>2</td>\n",
              "      <td>0.359293</td>\n",
              "      <td>139.944</td>\n",
              "      <td>3</td>\n",
              "      <td>0.939598</td>\n",
              "    </tr>\n",
              "    <tr>\n",
              "      <th>6297</th>\n",
              "      <td>0</td>\n",
              "      <td>4</td>\n",
              "      <td>45.773</td>\n",
              "      <td>0.028431</td>\n",
              "      <td>0.714166</td>\n",
              "      <td>174424.303</td>\n",
              "      <td>0.872246</td>\n",
              "      <td>0.000000</td>\n",
              "      <td>1</td>\n",
              "      <td>0.289742</td>\n",
              "      <td>-6.801</td>\n",
              "      <td>5</td>\n",
              "      <td>2</td>\n",
              "      <td>0.031128</td>\n",
              "      <td>94.01100000000001</td>\n",
              "      <td>3</td>\n",
              "      <td>0.747523</td>\n",
              "    </tr>\n",
              "    <tr>\n",
              "      <th>...</th>\n",
              "      <td>...</td>\n",
              "      <td>...</td>\n",
              "      <td>...</td>\n",
              "      <td>...</td>\n",
              "      <td>...</td>\n",
              "      <td>...</td>\n",
              "      <td>...</td>\n",
              "      <td>...</td>\n",
              "      <td>...</td>\n",
              "      <td>...</td>\n",
              "      <td>...</td>\n",
              "      <td>...</td>\n",
              "      <td>...</td>\n",
              "      <td>...</td>\n",
              "      <td>...</td>\n",
              "      <td>...</td>\n",
              "      <td>...</td>\n",
              "    </tr>\n",
              "    <tr>\n",
              "      <th>12119</th>\n",
              "      <td>0</td>\n",
              "      <td>4</td>\n",
              "      <td>54.991</td>\n",
              "      <td>0.049070</td>\n",
              "      <td>0.545174</td>\n",
              "      <td>247065.691</td>\n",
              "      <td>0.796447</td>\n",
              "      <td>0.000000</td>\n",
              "      <td>1</td>\n",
              "      <td>0.030472</td>\n",
              "      <td>-3.761</td>\n",
              "      <td>5</td>\n",
              "      <td>2</td>\n",
              "      <td>0.036668</td>\n",
              "      <td>113.01700000000001</td>\n",
              "      <td>3</td>\n",
              "      <td>0.451400</td>\n",
              "    </tr>\n",
              "    <tr>\n",
              "      <th>8039</th>\n",
              "      <td>0</td>\n",
              "      <td>4</td>\n",
              "      <td>20.229</td>\n",
              "      <td>1.080577</td>\n",
              "      <td>0.531238</td>\n",
              "      <td>132624.407</td>\n",
              "      <td>0.110812</td>\n",
              "      <td>1.037524</td>\n",
              "      <td>1</td>\n",
              "      <td>0.093158</td>\n",
              "      <td>-29.531</td>\n",
              "      <td>5</td>\n",
              "      <td>2</td>\n",
              "      <td>0.037964</td>\n",
              "      <td>89.57600000000001</td>\n",
              "      <td>3</td>\n",
              "      <td>0.673260</td>\n",
              "    </tr>\n",
              "    <tr>\n",
              "      <th>14147</th>\n",
              "      <td>0</td>\n",
              "      <td>4</td>\n",
              "      <td>50.893</td>\n",
              "      <td>1.062494</td>\n",
              "      <td>0.678673</td>\n",
              "      <td>282573.184</td>\n",
              "      <td>0.124188</td>\n",
              "      <td>0.914113</td>\n",
              "      <td>1</td>\n",
              "      <td>0.124108</td>\n",
              "      <td>-17.961</td>\n",
              "      <td>5</td>\n",
              "      <td>2</td>\n",
              "      <td>0.052441</td>\n",
              "      <td>107.75</td>\n",
              "      <td>3</td>\n",
              "      <td>0.217898</td>\n",
              "    </tr>\n",
              "    <tr>\n",
              "      <th>6936</th>\n",
              "      <td>0</td>\n",
              "      <td>4</td>\n",
              "      <td>51.472</td>\n",
              "      <td>1.051528</td>\n",
              "      <td>0.359378</td>\n",
              "      <td>203892.715</td>\n",
              "      <td>0.078719</td>\n",
              "      <td>0.001335</td>\n",
              "      <td>1</td>\n",
              "      <td>0.069465</td>\n",
              "      <td>-22.829</td>\n",
              "      <td>5</td>\n",
              "      <td>2</td>\n",
              "      <td>0.064349</td>\n",
              "      <td>97.147</td>\n",
              "      <td>3</td>\n",
              "      <td>0.239121</td>\n",
              "    </tr>\n",
              "    <tr>\n",
              "      <th>5640</th>\n",
              "      <td>0</td>\n",
              "      <td>4</td>\n",
              "      <td>78.724</td>\n",
              "      <td>0.023330</td>\n",
              "      <td>0.894966</td>\n",
              "      <td>285814.433</td>\n",
              "      <td>0.773685</td>\n",
              "      <td>0.000024</td>\n",
              "      <td>1</td>\n",
              "      <td>0.116552</td>\n",
              "      <td>-5.575</td>\n",
              "      <td>5</td>\n",
              "      <td>2</td>\n",
              "      <td>0.064027</td>\n",
              "      <td>93.955</td>\n",
              "      <td>3</td>\n",
              "      <td>0.983347</td>\n",
              "    </tr>\n",
              "  </tbody>\n",
              "</table>\n",
              "<p>10976 rows × 17 columns</p>\n",
              "</div>"
            ],
            "text/plain": [
              "       instance_id  track_name  ...  musician_category   valence\n",
              "10363            0           4  ...                  3  1.054532\n",
              "9477             0           4  ...                  3  0.226051\n",
              "3155             0           4  ...                  3  0.051716\n",
              "8222             0           4  ...                  3  0.939598\n",
              "6297             0           4  ...                  3  0.747523\n",
              "...            ...         ...  ...                ...       ...\n",
              "12119            0           4  ...                  3  0.451400\n",
              "8039             0           4  ...                  3  0.673260\n",
              "14147            0           4  ...                  3  0.217898\n",
              "6936             0           4  ...                  3  0.239121\n",
              "5640             0           4  ...                  3  0.983347\n",
              "\n",
              "[10976 rows x 17 columns]"
            ]
          },
          "metadata": {},
          "execution_count": 111
        }
      ]
    },
    {
      "cell_type": "code",
      "source": [
        "\n",
        "#defining random forest classifier \n",
        "\n",
        "clfr= RandomForestClassifier(random_state = 100)\n",
        "\n",
        "# Performing training \n",
        "\n",
        "clfr.fit(X_train, y_train)"
      ],
      "metadata": {
        "colab": {
          "base_uri": "https://localhost:8080/"
        },
        "id": "rN62H0yuejB7",
        "outputId": "69e5245b-c08f-4552-8a3e-dd15a2d3a5a4"
      },
      "execution_count": 112,
      "outputs": [
        {
          "output_type": "execute_result",
          "data": {
            "text/plain": [
              "RandomForestClassifier(random_state=100)"
            ]
          },
          "metadata": {},
          "execution_count": 112
        }
      ]
    },
    {
      "cell_type": "code",
      "source": [
        "Y_pred=clfr.predict(X_test)"
      ],
      "metadata": {
        "id": "RY7h4ByHkb6g"
      },
      "execution_count": 113,
      "outputs": []
    },
    {
      "cell_type": "code",
      "source": [
        "Y_pred"
      ],
      "metadata": {
        "colab": {
          "base_uri": "https://localhost:8080/"
        },
        "id": "GJDW8j9bllJT",
        "outputId": "6421ceef-0e73-4923-84bc-a534f54f95cf"
      },
      "execution_count": 116,
      "outputs": [
        {
          "output_type": "execute_result",
          "data": {
            "text/plain": [
              "array(['Jazz', 'Rock', 'Rap', ..., 'Rock', 'Classical', 'Jazz'],\n",
              "      dtype=object)"
            ]
          },
          "metadata": {},
          "execution_count": 116
        }
      ]
    },
    {
      "cell_type": "code",
      "source": [
        "print(\"Accuracy:\",metrics.accuracy_score(y_test, Y_pred))\n",
        "cm=np.array(sklearn.metrics.confusion_matrix(y_test,Y_pred))\n",
        "cm"
      ],
      "metadata": {
        "colab": {
          "base_uri": "https://localhost:8080/"
        },
        "id": "JGWXHN0KkXiH",
        "outputId": "dec725db-39bc-4583-840b-8e08f37577ed"
      },
      "execution_count": 115,
      "outputs": [
        {
          "output_type": "stream",
          "name": "stdout",
          "text": [
            "Accuracy: 0.7785334750265674\n"
          ]
        },
        {
          "output_type": "execute_result",
          "data": {
            "text/plain": [
              "array([[1079,    4,    4,    0,   71,    0,   23],\n",
              "       [   4,   76,    0,    0,   49,    2,   70],\n",
              "       [  14,    2,   62,    0,   70,   10,   17],\n",
              "       [   0,    1,    0,    0,    6,  122,   10],\n",
              "       [ 110,    8,   17,    0,  682,   27,   68],\n",
              "       [   0,    1,    1,    6,   17,  760,  146],\n",
              "       [   5,    6,    0,    0,   47,  104, 1004]])"
            ]
          },
          "metadata": {},
          "execution_count": 115
        }
      ]
    },
    {
      "cell_type": "code",
      "source": [
        "from pprint import pprint\n",
        "# Look at parameters used by our current forest\n",
        "print('Parameters currently in use:\\n')\n",
        "pprint(clfr.get_params())"
      ],
      "metadata": {
        "colab": {
          "base_uri": "https://localhost:8080/"
        },
        "id": "LbUtxYiK1DUA",
        "outputId": "7af75bc1-c9a2-4f77-8686-e3098a3244a2"
      },
      "execution_count": 203,
      "outputs": [
        {
          "output_type": "stream",
          "name": "stdout",
          "text": [
            "Parameters currently in use:\n",
            "\n",
            "{'bootstrap': True,\n",
            " 'ccp_alpha': 0.0,\n",
            " 'class_weight': None,\n",
            " 'criterion': 'gini',\n",
            " 'max_depth': None,\n",
            " 'max_features': 'auto',\n",
            " 'max_leaf_nodes': None,\n",
            " 'max_samples': None,\n",
            " 'min_impurity_decrease': 0.0,\n",
            " 'min_samples_leaf': 1,\n",
            " 'min_samples_split': 2,\n",
            " 'min_weight_fraction_leaf': 0.0,\n",
            " 'n_estimators': 100,\n",
            " 'n_jobs': None,\n",
            " 'oob_score': False,\n",
            " 'random_state': 100,\n",
            " 'verbose': 0,\n",
            " 'warm_start': False}\n"
          ]
        }
      ]
    },
    {
      "cell_type": "code",
      "source": [
        "from sklearn.model_selection import RandomizedSearchCV\n",
        "# Number of trees in random forest\n",
        "n_estimators = [int(x) for x in np.linspace(start = 200, stop = 2000, num = 10)]\n",
        "# Number of features to consider at every split\n",
        "max_features = ['auto', 'sqrt']\n",
        "# Maximum number of levels in tree\n",
        "max_depth = [int(x) for x in np.linspace(10, 110, num = 11)]\n",
        "max_depth.append(None)\n",
        "# Minimum number of samples required to split a node\n",
        "min_samples_split = [2, 5, 10]\n",
        "# Minimum number of samples required at each leaf node\n",
        "min_samples_leaf = [1, 2, 4]\n",
        "# Method of selecting samples for training each tree\n",
        "bootstrap = [True, False]\n",
        "# Create the random grid\n",
        "random_grid = {'n_estimators': n_estimators,\n",
        "               'max_features': max_features,\n",
        "               'max_depth': max_depth,\n",
        "               'min_samples_split': min_samples_split,\n",
        "               'min_samples_leaf': min_samples_leaf,\n",
        "               'bootstrap': bootstrap}\n",
        "pprint(random_grid)"
      ],
      "metadata": {
        "colab": {
          "base_uri": "https://localhost:8080/"
        },
        "id": "WNkA6IFV1h-t",
        "outputId": "bdba670e-f752-46eb-92ff-2e012eb1f94c"
      },
      "execution_count": 204,
      "outputs": [
        {
          "output_type": "stream",
          "name": "stdout",
          "text": [
            "{'bootstrap': [True, False],\n",
            " 'max_depth': [10, 20, 30, 40, 50, 60, 70, 80, 90, 100, 110, None],\n",
            " 'max_features': ['auto', 'sqrt'],\n",
            " 'min_samples_leaf': [1, 2, 4],\n",
            " 'min_samples_split': [2, 5, 10],\n",
            " 'n_estimators': [200, 400, 600, 800, 1000, 1200, 1400, 1600, 1800, 2000]}\n"
          ]
        }
      ]
    },
    {
      "cell_type": "code",
      "source": [
        "# Use the random grid to search for best hyperparameters\n",
        "# First create the base model to tune\n",
        "# Random search of parameters, using 3 fold cross validation, \n",
        "# search across 100 different combinations, and use all available cores\n",
        "rf_random = RandomizedSearchCV(estimator = clfr, param_distributions = random_grid, n_iter = 100, cv = 3, verbose=2, random_state=42, n_jobs = -1)\n",
        "# Fit the random search model\n",
        "rf_random.fit(X_train, y_train)"
      ],
      "metadata": {
        "colab": {
          "base_uri": "https://localhost:8080/"
        },
        "id": "-IkmfMgh1oup",
        "outputId": "814bb120-e909-400c-f489-5468947bea7c"
      },
      "execution_count": 205,
      "outputs": [
        {
          "output_type": "stream",
          "name": "stdout",
          "text": [
            "Fitting 3 folds for each of 100 candidates, totalling 300 fits\n"
          ]
        },
        {
          "output_type": "stream",
          "name": "stderr",
          "text": [
            "/usr/local/lib/python3.7/dist-packages/joblib/externals/loky/process_executor.py:705: UserWarning: A worker stopped while some jobs were given to the executor. This can be caused by a too short worker timeout or by a memory leak.\n",
            "  \"timeout or by a memory leak.\", UserWarning\n"
          ]
        },
        {
          "output_type": "execute_result",
          "data": {
            "text/plain": [
              "RandomizedSearchCV(cv=3, estimator=RandomForestClassifier(random_state=100),\n",
              "                   n_iter=100, n_jobs=-1,\n",
              "                   param_distributions={'bootstrap': [True, False],\n",
              "                                        'max_depth': [10, 20, 30, 40, 50, 60,\n",
              "                                                      70, 80, 90, 100, 110,\n",
              "                                                      None],\n",
              "                                        'max_features': ['auto', 'sqrt'],\n",
              "                                        'min_samples_leaf': [1, 2, 4],\n",
              "                                        'min_samples_split': [2, 5, 10],\n",
              "                                        'n_estimators': [200, 400, 600, 800,\n",
              "                                                         1000, 1200, 1400, 1600,\n",
              "                                                         1800, 2000]},\n",
              "                   random_state=42, verbose=2)"
            ]
          },
          "metadata": {},
          "execution_count": 205
        }
      ]
    },
    {
      "cell_type": "code",
      "source": [
        "y_output = rf_random.predict(X_test)"
      ],
      "metadata": {
        "id": "5DbVpdEv2IB0"
      },
      "execution_count": 206,
      "outputs": []
    },
    {
      "cell_type": "code",
      "source": [
        "print(\"Accuracy:\",metrics.accuracy_score(y_test, y_output))"
      ],
      "metadata": {
        "colab": {
          "base_uri": "https://localhost:8080/"
        },
        "id": "N1S8Qn8f2Fra",
        "outputId": "d2843bc0-0faa-4cbe-ddf6-d11be9aae519"
      },
      "execution_count": 207,
      "outputs": [
        {
          "output_type": "stream",
          "name": "stdout",
          "text": [
            "Accuracy: 0.7810839532412327\n"
          ]
        }
      ]
    },
    {
      "cell_type": "code",
      "source": [
        "y_ = rf_random.predict(test)"
      ],
      "metadata": {
        "id": "DX8JN5GROWlw"
      },
      "execution_count": 216,
      "outputs": []
    },
    {
      "cell_type": "code",
      "source": [
        "submission = pd.DataFrame()"
      ],
      "metadata": {
        "id": "Q-DToZAROnYg"
      },
      "execution_count": 218,
      "outputs": []
    },
    {
      "cell_type": "code",
      "source": [
        "submission = pd.DataFrame(y_)"
      ],
      "metadata": {
        "id": "zlCrlkhBOd6y"
      },
      "execution_count": 220,
      "outputs": []
    },
    {
      "cell_type": "code",
      "source": [
        "submission['music_genre'] = submission[0]"
      ],
      "metadata": {
        "id": "qBW0rE-cOvCN"
      },
      "execution_count": 222,
      "outputs": []
    },
    {
      "cell_type": "code",
      "source": [
        "submission.drop(0, axis = 1, inplace = True)"
      ],
      "metadata": {
        "id": "lC73q6vtO26h"
      },
      "execution_count": 224,
      "outputs": []
    },
    {
      "cell_type": "code",
      "source": [
        "submission"
      ],
      "metadata": {
        "colab": {
          "base_uri": "https://localhost:8080/",
          "height": 423
        },
        "id": "SNNS0j29O_s0",
        "outputId": "11aa0dec-f62a-40a3-c260-1ee53387dbf0"
      },
      "execution_count": 225,
      "outputs": [
        {
          "output_type": "execute_result",
          "data": {
            "text/html": [
              "<div>\n",
              "<style scoped>\n",
              "    .dataframe tbody tr th:only-of-type {\n",
              "        vertical-align: middle;\n",
              "    }\n",
              "\n",
              "    .dataframe tbody tr th {\n",
              "        vertical-align: top;\n",
              "    }\n",
              "\n",
              "    .dataframe thead th {\n",
              "        text-align: right;\n",
              "    }\n",
              "</style>\n",
              "<table border=\"1\" class=\"dataframe\">\n",
              "  <thead>\n",
              "    <tr style=\"text-align: right;\">\n",
              "      <th></th>\n",
              "      <th>music_genre</th>\n",
              "    </tr>\n",
              "  </thead>\n",
              "  <tbody>\n",
              "    <tr>\n",
              "      <th>0</th>\n",
              "      <td>Classical</td>\n",
              "    </tr>\n",
              "    <tr>\n",
              "      <th>1</th>\n",
              "      <td>Rock</td>\n",
              "    </tr>\n",
              "    <tr>\n",
              "      <th>2</th>\n",
              "      <td>Rock</td>\n",
              "    </tr>\n",
              "    <tr>\n",
              "      <th>3</th>\n",
              "      <td>Rock</td>\n",
              "    </tr>\n",
              "    <tr>\n",
              "      <th>4</th>\n",
              "      <td>Jazz</td>\n",
              "    </tr>\n",
              "    <tr>\n",
              "      <th>...</th>\n",
              "      <td>...</td>\n",
              "    </tr>\n",
              "    <tr>\n",
              "      <th>3916</th>\n",
              "      <td>Classical</td>\n",
              "    </tr>\n",
              "    <tr>\n",
              "      <th>3917</th>\n",
              "      <td>Rock</td>\n",
              "    </tr>\n",
              "    <tr>\n",
              "      <th>3918</th>\n",
              "      <td>Classical</td>\n",
              "    </tr>\n",
              "    <tr>\n",
              "      <th>3919</th>\n",
              "      <td>Rock</td>\n",
              "    </tr>\n",
              "    <tr>\n",
              "      <th>3920</th>\n",
              "      <td>Jazz</td>\n",
              "    </tr>\n",
              "  </tbody>\n",
              "</table>\n",
              "<p>3921 rows × 1 columns</p>\n",
              "</div>"
            ],
            "text/plain": [
              "     music_genre\n",
              "0      Classical\n",
              "1           Rock\n",
              "2           Rock\n",
              "3           Rock\n",
              "4           Jazz\n",
              "...          ...\n",
              "3916   Classical\n",
              "3917        Rock\n",
              "3918   Classical\n",
              "3919        Rock\n",
              "3920        Jazz\n",
              "\n",
              "[3921 rows x 1 columns]"
            ]
          },
          "metadata": {},
          "execution_count": 225
        }
      ]
    },
    {
      "cell_type": "code",
      "source": [
        "submission_final = pd.concat([submission, a], axis = 1)"
      ],
      "metadata": {
        "id": "5-dE4DInO9X2"
      },
      "execution_count": 232,
      "outputs": []
    },
    {
      "cell_type": "code",
      "source": [
        "submission_final"
      ],
      "metadata": {
        "colab": {
          "base_uri": "https://localhost:8080/",
          "height": 423
        },
        "id": "XGN1vMdUP1d7",
        "outputId": "673bb891-e06e-4536-9114-2f64e63ddbc2"
      },
      "execution_count": 233,
      "outputs": [
        {
          "output_type": "execute_result",
          "data": {
            "text/html": [
              "<div>\n",
              "<style scoped>\n",
              "    .dataframe tbody tr th:only-of-type {\n",
              "        vertical-align: middle;\n",
              "    }\n",
              "\n",
              "    .dataframe tbody tr th {\n",
              "        vertical-align: top;\n",
              "    }\n",
              "\n",
              "    .dataframe thead th {\n",
              "        text-align: right;\n",
              "    }\n",
              "</style>\n",
              "<table border=\"1\" class=\"dataframe\">\n",
              "  <thead>\n",
              "    <tr style=\"text-align: right;\">\n",
              "      <th></th>\n",
              "      <th>music_genre</th>\n",
              "      <th>instance_id</th>\n",
              "    </tr>\n",
              "  </thead>\n",
              "  <tbody>\n",
              "    <tr>\n",
              "      <th>0</th>\n",
              "      <td>Classical</td>\n",
              "      <td>MSC_70753.0</td>\n",
              "    </tr>\n",
              "    <tr>\n",
              "      <th>1</th>\n",
              "      <td>Rock</td>\n",
              "      <td>MSC_24064.0</td>\n",
              "    </tr>\n",
              "    <tr>\n",
              "      <th>2</th>\n",
              "      <td>Rock</td>\n",
              "      <td>MSC_22731.0</td>\n",
              "    </tr>\n",
              "    <tr>\n",
              "      <th>3</th>\n",
              "      <td>Rock</td>\n",
              "      <td>MSC_32095.0</td>\n",
              "    </tr>\n",
              "    <tr>\n",
              "      <th>4</th>\n",
              "      <td>Jazz</td>\n",
              "      <td>MSC_24198.0</td>\n",
              "    </tr>\n",
              "    <tr>\n",
              "      <th>...</th>\n",
              "      <td>...</td>\n",
              "      <td>...</td>\n",
              "    </tr>\n",
              "    <tr>\n",
              "      <th>3916</th>\n",
              "      <td>Classical</td>\n",
              "      <td>MSC_80955.0</td>\n",
              "    </tr>\n",
              "    <tr>\n",
              "      <th>3917</th>\n",
              "      <td>Rock</td>\n",
              "      <td>MSC_72767.0</td>\n",
              "    </tr>\n",
              "    <tr>\n",
              "      <th>3918</th>\n",
              "      <td>Classical</td>\n",
              "      <td>MSC_40192.0</td>\n",
              "    </tr>\n",
              "    <tr>\n",
              "      <th>3919</th>\n",
              "      <td>Rock</td>\n",
              "      <td>MSC_56067.0</td>\n",
              "    </tr>\n",
              "    <tr>\n",
              "      <th>3920</th>\n",
              "      <td>Jazz</td>\n",
              "      <td>MSC_90169.0</td>\n",
              "    </tr>\n",
              "  </tbody>\n",
              "</table>\n",
              "<p>3921 rows × 2 columns</p>\n",
              "</div>"
            ],
            "text/plain": [
              "     music_genre  instance_id\n",
              "0      Classical  MSC_70753.0\n",
              "1           Rock  MSC_24064.0\n",
              "2           Rock  MSC_22731.0\n",
              "3           Rock  MSC_32095.0\n",
              "4           Jazz  MSC_24198.0\n",
              "...          ...          ...\n",
              "3916   Classical  MSC_80955.0\n",
              "3917        Rock  MSC_72767.0\n",
              "3918   Classical  MSC_40192.0\n",
              "3919        Rock  MSC_56067.0\n",
              "3920        Jazz  MSC_90169.0\n",
              "\n",
              "[3921 rows x 2 columns]"
            ]
          },
          "metadata": {},
          "execution_count": 233
        }
      ]
    },
    {
      "cell_type": "code",
      "source": [
        "columns_name = [\"instance_id\", \"music_genre\"]\n",
        "submission_final = submission_final.reindex(columns = columns_name)"
      ],
      "metadata": {
        "id": "Wen7WCpkP8Rl"
      },
      "execution_count": 234,
      "outputs": []
    },
    {
      "cell_type": "code",
      "source": [
        "submission_final.to_csv(\"/content/final.csv\", index = None)"
      ],
      "metadata": {
        "id": "n1n-paPqQBbx"
      },
      "execution_count": 236,
      "outputs": []
    },
    {
      "cell_type": "code",
      "source": [
        "rf_random.best_params_"
      ],
      "metadata": {
        "colab": {
          "base_uri": "https://localhost:8080/"
        },
        "id": "UVFJOfa24Kv8",
        "outputId": "81b2b8a1-e409-4f12-9136-3725b140795d"
      },
      "execution_count": 209,
      "outputs": [
        {
          "output_type": "execute_result",
          "data": {
            "text/plain": [
              "{'bootstrap': True,\n",
              " 'max_depth': 80,\n",
              " 'max_features': 'auto',\n",
              " 'min_samples_leaf': 1,\n",
              " 'min_samples_split': 5,\n",
              " 'n_estimators': 600}"
            ]
          },
          "metadata": {},
          "execution_count": 209
        }
      ]
    },
    {
      "cell_type": "code",
      "source": [
        "from sklearn.tree import export_graphviz"
      ],
      "metadata": {
        "id": "vATqOEBf42Aq"
      },
      "execution_count": 208,
      "outputs": []
    },
    {
      "cell_type": "code",
      "source": [
        "export_graphviz(clfr.estimators_[0],\n",
        "                feature_names=X.columns,\n",
        "                filled=True,\n",
        "                rounded=True)"
      ],
      "metadata": {
        "colab": {
          "base_uri": "https://localhost:8080/",
          "height": 191
        },
        "id": "s4KJPp1QNwdn",
        "outputId": "9f0dab34-31a5-4d69-c334-d1d46b715e70"
      },
      "execution_count": 213,
      "outputs": [
        {
          "output_type": "execute_result",
          "data": {
            "application/vnd.google.colaboratory.intrinsic+json": {
              "type": "string"
            },
            "text/plain": [
              "'digraph Tree {\\nnode [shape=box, style=\"filled, rounded\", color=\"black\", fontname=\"helvetica\"] ;\\nedge [fontname=\"helvetica\"] ;\\n0 [label=\"acousticness <= 0.906\\\\ngini = 0.793\\\\nsamples = 6947\\\\nvalue = [2823, 459, 413, 317, 1931, 2257, 2776]\", fillcolor=\"#fffefe\"] ;\\n1 [label=\"energy <= 0.831\\\\ngini = 0.765\\\\nsamples = 5124\\\\nvalue = [450, 434, 410, 315, 1522, 2246, 2697]\", fillcolor=\"#fdf0f6\"] ;\\n0 -> 1 [labeldistance=2.5, labelangle=45, headlabel=\"True\"] ;\\n2 [label=\"danceability <= 0.741\\\\ngini = 0.767\\\\nsamples = 3690\\\\nvalue = [302, 317, 211, 255, 1310, 1794, 1632]\", fillcolor=\"#fcf7fe\"] ;\\n1 -> 2 ;\\n3 [label=\"speechiness <= 0.089\\\\ngini = 0.762\\\\nsamples = 2438\\\\nvalue = [301, 258, 133, 92, 927, 745, 1379]\", fillcolor=\"#fbe0ec\"] ;\\n2 -> 3 ;\\n4 [label=\"loudness <= -18.137\\\\ngini = 0.723\\\\nsamples = 1898\\\\nvalue = [291, 250, 109, 20, 751, 276, 1301]\", fillcolor=\"#f9cfe1\"] ;\\n3 -> 4 ;\\n5 [label=\"popularity <= 41.799\\\\ngini = 0.465\\\\nsamples = 124\\\\nvalue = [127, 2, 1, 0, 40, 0, 13]\", fillcolor=\"#efb287\"] ;\\n4 -> 5 ;\\n6 [label=\"valence <= 0.398\\\\ngini = 0.22\\\\nsamples = 74\\\\nvalue = [97, 0, 0, 0, 14, 0, 0]\", fillcolor=\"#e99356\"] ;\\n5 -> 6 ;\\n7 [label=\"loudness <= -19.564\\\\ngini = 0.088\\\\nsamples = 56\\\\nvalue = [83, 0, 0, 0, 4, 0, 0]\", fillcolor=\"#e68743\"] ;\\n6 -> 7 ;\\n8 [label=\"gini = 0.0\\\\nsamples = 43\\\\nvalue = [70, 0, 0, 0, 0, 0, 0]\", fillcolor=\"#e58139\"] ;\\n7 -> 8 ;\\n9 [label=\"tempo <= 114.771\\\\ngini = 0.36\\\\nsamples = 13\\\\nvalue = [13, 0, 0, 0, 4, 0, 0]\", fillcolor=\"#eda876\"] ;\\n7 -> 9 ;\\n10 [label=\"gini = 0.0\\\\nsamples = 7\\\\nvalue = [8, 0, 0, 0, 0, 0, 0]\", fillcolor=\"#e58139\"] ;\\n9 -> 10 ;\\n11 [label=\"popularity <= 31.174\\\\ngini = 0.494\\\\nsamples = 6\\\\nvalue = [5, 0, 0, 0, 4, 0, 0]\", fillcolor=\"#fae6d7\"] ;\\n9 -> 11 ;\\n12 [label=\"gini = 0.0\\\\nsamples = 2\\\\nvalue = [4, 0, 0, 0, 0, 0, 0]\", fillcolor=\"#e58139\"] ;\\n11 -> 12 ;\\n13 [label=\"liveness <= 0.094\\\\ngini = 0.32\\\\nsamples = 4\\\\nvalue = [1, 0, 0, 0, 4, 0, 0]\", fillcolor=\"#6a80ec\"] ;\\n11 -> 13 ;\\n14 [label=\"gini = 0.0\\\\nsamples = 1\\\\nvalue = [1, 0, 0, 0, 0, 0, 0]\", fillcolor=\"#e58139\"] ;\\n13 -> 14 ;\\n15 [label=\"gini = 0.0\\\\nsamples = 3\\\\nvalue = [0, 0, 0, 0, 4, 0, 0]\", fillcolor=\"#3956e5\"] ;\\n13 -> 15 ;\\n16 [label=\"duration_ms <= 185238.758\\\\ngini = 0.486\\\\nsamples = 18\\\\nvalue = [14, 0, 0, 0, 10, 0, 0]\", fillcolor=\"#f8dbc6\"] ;\\n6 -> 16 ;\\n17 [label=\"gini = 0.0\\\\nsamples = 7\\\\nvalue = [10, 0, 0, 0, 0, 0, 0]\", fillcolor=\"#e58139\"] ;\\n16 -> 17 ;\\n18 [label=\"liveness <= 0.34\\\\ngini = 0.408\\\\nsamples = 11\\\\nvalue = [4, 0, 0, 0, 10, 0, 0]\", fillcolor=\"#889aef\"] ;\\n16 -> 18 ;\\n19 [label=\"duration_ms <= 249822.695\\\\ngini = 0.494\\\\nsamples = 8\\\\nvalue = [4, 0, 0, 0, 5, 0, 0]\", fillcolor=\"#d7ddfa\"] ;\\n18 -> 19 ;\\n20 [label=\"gini = 0.0\\\\nsamples = 3\\\\nvalue = [0, 0, 0, 0, 4, 0, 0]\", fillcolor=\"#3956e5\"] ;\\n19 -> 20 ;\\n21 [label=\"acousticness <= 0.619\\\\ngini = 0.32\\\\nsamples = 5\\\\nvalue = [4, 0, 0, 0, 1, 0, 0]\", fillcolor=\"#eca06a\"] ;\\n19 -> 21 ;\\n22 [label=\"gini = 0.0\\\\nsamples = 1\\\\nvalue = [0, 0, 0, 0, 1, 0, 0]\", fillcolor=\"#3956e5\"] ;\\n21 -> 22 ;\\n23 [label=\"gini = 0.0\\\\nsamples = 4\\\\nvalue = [4, 0, 0, 0, 0, 0, 0]\", fillcolor=\"#e58139\"] ;\\n21 -> 23 ;\\n24 [label=\"gini = 0.0\\\\nsamples = 3\\\\nvalue = [0, 0, 0, 0, 5, 0, 0]\", fillcolor=\"#3956e5\"] ;\\n18 -> 24 ;\\n25 [label=\"valence <= 0.181\\\\ngini = 0.662\\\\nsamples = 50\\\\nvalue = [30, 2, 1, 0, 26, 0, 13]\", fillcolor=\"#fdf4ee\"] ;\\n5 -> 25 ;\\n26 [label=\"acousticness <= 0.201\\\\ngini = 0.37\\\\nsamples = 16\\\\nvalue = [24, 0, 0, 0, 2, 0, 5]\", fillcolor=\"#eca36e\"] ;\\n25 -> 26 ;\\n27 [label=\"gini = 0.0\\\\nsamples = 1\\\\nvalue = [0, 0, 0, 0, 0, 0, 2]\", fillcolor=\"#e53986\"] ;\\n26 -> 27 ;\\n28 [label=\"popularity <= 61.565\\\\ngini = 0.3\\\\nsamples = 15\\\\nvalue = [24, 0, 0, 0, 2, 0, 3]\", fillcolor=\"#ea995f\"] ;\\n26 -> 28 ;\\n29 [label=\"danceability <= 0.196\\\\ngini = 0.142\\\\nsamples = 12\\\\nvalue = [24, 0, 0, 0, 2, 0, 0]\", fillcolor=\"#e78c49\"] ;\\n28 -> 29 ;\\n30 [label=\"gini = 0.0\\\\nsamples = 7\\\\nvalue = [14, 0, 0, 0, 0, 0, 0]\", fillcolor=\"#e58139\"] ;\\n29 -> 30 ;\\n31 [label=\"duration_ms <= 70504.523\\\\ngini = 0.278\\\\nsamples = 5\\\\nvalue = [10, 0, 0, 0, 2, 0, 0]\", fillcolor=\"#ea9a61\"] ;\\n29 -> 31 ;\\n32 [label=\"gini = 0.0\\\\nsamples = 1\\\\nvalue = [0, 0, 0, 0, 2, 0, 0]\", fillcolor=\"#3956e5\"] ;\\n31 -> 32 ;\\n33 [label=\"gini = 0.0\\\\nsamples = 4\\\\nvalue = [10, 0, 0, 0, 0, 0, 0]\", fillcolor=\"#e58139\"] ;\\n31 -> 33 ;\\n34 [label=\"gini = 0.0\\\\nsamples = 3\\\\nvalue = [0, 0, 0, 0, 0, 0, 3]\", fillcolor=\"#e53986\"] ;\\n28 -> 34 ;\\n35 [label=\"liveness <= 0.076\\\\ngini = 0.595\\\\nsamples = 34\\\\nvalue = [6, 2, 1, 0, 24, 0, 8]\", fillcolor=\"#9fadf2\"] ;\\n25 -> 35 ;\\n36 [label=\"danceability <= 0.425\\\\ngini = 0.375\\\\nsamples = 3\\\\nvalue = [1, 0, 0, 0, 0, 0, 3]\", fillcolor=\"#ee7bae\"] ;\\n35 -> 36 ;\\n37 [label=\"gini = 0.0\\\\nsamples = 1\\\\nvalue = [1, 0, 0, 0, 0, 0, 0]\", fillcolor=\"#e58139\"] ;\\n36 -> 37 ;\\n38 [label=\"gini = 0.0\\\\nsamples = 2\\\\nvalue = [0, 0, 0, 0, 0, 0, 3]\", fillcolor=\"#e53986\"] ;\\n36 -> 38 ;\\n39 [label=\"energy <= 0.033\\\\ngini = 0.539\\\\nsamples = 31\\\\nvalue = [5, 2, 1, 0, 24, 0, 5]\", fillcolor=\"#899bf0\"] ;\\n35 -> 39 ;\\n40 [label=\"gini = 0.0\\\\nsamples = 5\\\\nvalue = [0, 0, 0, 0, 6, 0, 0]\", fillcolor=\"#3956e5\"] ;\\n39 -> 40 ;\\n41 [label=\"tempo <= 105.764\\\\ngini = 0.606\\\\nsamples = 26\\\\nvalue = [5, 2, 1, 0, 18, 0, 5]\", fillcolor=\"#9caaf2\"] ;\\n39 -> 41 ;\\n42 [label=\"popularity <= 52.094\\\\ngini = 0.377\\\\nsamples = 14\\\\nvalue = [2, 1, 0, 0, 14, 0, 1]\", fillcolor=\"#6a80ec\"] ;\\n41 -> 42 ;\\n43 [label=\"acousticness <= 0.778\\\\ngini = 0.142\\\\nsamples = 9\\\\nvalue = [1, 0, 0, 0, 12, 0, 0]\", fillcolor=\"#4964e7\"] ;\\n42 -> 43 ;\\n44 [label=\"gini = 0.0\\\\nsamples = 5\\\\nvalue = [0, 0, 0, 0, 8, 0, 0]\", fillcolor=\"#3956e5\"] ;\\n43 -> 44 ;\\n45 [label=\"tempo <= 90.856\\\\ngini = 0.32\\\\nsamples = 4\\\\nvalue = [1, 0, 0, 0, 4, 0, 0]\", fillcolor=\"#6a80ec\"] ;\\n43 -> 45 ;\\n46 [label=\"tempo <= 84.738\\\\ngini = 0.5\\\\nsamples = 2\\\\nvalue = [1, 0, 0, 0, 1, 0, 0]\", fillcolor=\"#ffffff\"] ;\\n45 -> 46 ;\\n47 [label=\"gini = 0.0\\\\nsamples = 1\\\\nvalue = [0, 0, 0, 0, 1, 0, 0]\", fillcolor=\"#3956e5\"] ;\\n46 -> 47 ;\\n48 [label=\"gini = 0.0\\\\nsamples = 1\\\\nvalue = [1, 0, 0, 0, 0, 0, 0]\", fillcolor=\"#e58139\"] ;\\n46 -> 48 ;\\n49 [label=\"gini = 0.0\\\\nsamples = 2\\\\nvalue = [0, 0, 0, 0, 3, 0, 0]\", fillcolor=\"#3956e5\"] ;\\n45 -> 49 ;\\n50 [label=\"tempo <= 91.645\\\\ngini = 0.72\\\\nsamples = 5\\\\nvalue = [1, 1, 0, 0, 2, 0, 1]\", fillcolor=\"#ced5f8\"] ;\\n42 -> 50 ;\\n51 [label=\"liveness <= 0.134\\\\ngini = 0.5\\\\nsamples = 2\\\\nvalue = [1, 0, 0, 0, 0, 0, 1]\", fillcolor=\"#ffffff\"] ;\\n50 -> 51 ;\\n52 [label=\"gini = 0.0\\\\nsamples = 1\\\\nvalue = [1, 0, 0, 0, 0, 0, 0]\", fillcolor=\"#e58139\"] ;\\n51 -> 52 ;\\n53 [label=\"gini = 0.0\\\\nsamples = 1\\\\nvalue = [0, 0, 0, 0, 0, 0, 1]\", fillcolor=\"#e53986\"] ;\\n51 -> 53 ;\\n54 [label=\"tempo <= 96.405\\\\ngini = 0.444\\\\nsamples = 3\\\\nvalue = [0, 1, 0, 0, 2, 0, 0]\", fillcolor=\"#9caaf2\"] ;\\n50 -> 54 ;\\n55 [label=\"gini = 0.0\\\\nsamples = 2\\\\nvalue = [0, 0, 0, 0, 2, 0, 0]\", fillcolor=\"#3956e5\"] ;\\n54 -> 55 ;\\n56 [label=\"gini = 0.0\\\\nsamples = 1\\\\nvalue = [0, 1, 0, 0, 0, 0, 0]\", fillcolor=\"#b7e539\"] ;\\n54 -> 56 ;\\n57 [label=\"danceability <= 0.351\\\\ngini = 0.746\\\\nsamples = 12\\\\nvalue = [3, 1, 1, 0, 4, 0, 4]\", fillcolor=\"#ffffff\"] ;\\n41 -> 57 ;\\n58 [label=\"gini = 0.0\\\\nsamples = 1\\\\nvalue = [2, 0, 0, 0, 0, 0, 0]\", fillcolor=\"#e58139\"] ;\\n57 -> 58 ;\\n59 [label=\"danceability <= 0.628\\\\ngini = 0.711\\\\nsamples = 11\\\\nvalue = [1, 1, 1, 0, 4, 0, 4]\", fillcolor=\"#ffffff\"] ;\\n57 -> 59 ;\\n60 [label=\"popularity <= 57.097\\\\ngini = 0.667\\\\nsamples = 9\\\\nvalue = [1, 1, 0, 0, 3, 0, 4]\", fillcolor=\"#fbdeeb\"] ;\\n59 -> 60 ;\\n61 [label=\"duration_ms <= 289089.391\\\\ngini = 0.56\\\\nsamples = 5\\\\nvalue = [1, 1, 0, 0, 3, 0, 0]\", fillcolor=\"#9caaf2\"] ;\\n60 -> 61 ;\\n62 [label=\"danceability <= 0.556\\\\ngini = 0.5\\\\nsamples = 2\\\\nvalue = [1, 1, 0, 0, 0, 0, 0]\", fillcolor=\"#ffffff\"] ;\\n61 -> 62 ;\\n63 [label=\"gini = 0.0\\\\nsamples = 1\\\\nvalue = [1, 0, 0, 0, 0, 0, 0]\", fillcolor=\"#e58139\"] ;\\n62 -> 63 ;\\n64 [label=\"gini = 0.0\\\\nsamples = 1\\\\nvalue = [0, 1, 0, 0, 0, 0, 0]\", fillcolor=\"#b7e539\"] ;\\n62 -> 64 ;\\n65 [label=\"gini = 0.0\\\\nsamples = 3\\\\nvalue = [0, 0, 0, 0, 3, 0, 0]\", fillcolor=\"#3956e5\"] ;\\n61 -> 65 ;\\n66 [label=\"gini = 0.0\\\\nsamples = 4\\\\nvalue = [0, 0, 0, 0, 0, 0, 4]\", fillcolor=\"#e53986\"] ;\\n60 -> 66 ;\\n67 [label=\"acousticness <= 0.861\\\\ngini = 0.5\\\\nsamples = 2\\\\nvalue = [0, 0, 1, 0, 1, 0, 0]\", fillcolor=\"#ffffff\"] ;\\n59 -> 67 ;\\n68 [label=\"gini = 0.0\\\\nsamples = 1\\\\nvalue = [0, 0, 0, 0, 1, 0, 0]\", fillcolor=\"#3956e5\"] ;\\n67 -> 68 ;\\n69 [label=\"gini = 0.0\\\\nsamples = 1\\\\nvalue = [0, 0, 1, 0, 0, 0, 0]\", fillcolor=\"#39e54d\"] ;\\n67 -> 69 ;\\n70 [label=\"duration_ms <= 298409.344\\\\ngini = 0.705\\\\nsamples = 1774\\\\nvalue = [164, 248, 108, 20, 711, 276, 1288]\", fillcolor=\"#f8c9de\"] ;\\n4 -> 70 ;\\n71 [label=\"instrumentalness <= 0.394\\\\ngini = 0.7\\\\nsamples = 1338\\\\nvalue = [112, 226, 73, 14, 423, 247, 1012]\", fillcolor=\"#f6bad5\"] ;\\n70 -> 71 ;\\n72 [label=\"valence <= 0.222\\\\ngini = 0.663\\\\nsamples = 1146\\\\nvalue = [64, 226, 36, 14, 269, 242, 955]\", fillcolor=\"#f3a7c9\"] ;\\n71 -> 72 ;\\n73 [label=\"tempo <= 98.81\\\\ngini = 0.731\\\\nsamples = 165\\\\nvalue = [23, 16, 15, 2, 29, 78, 110]\", fillcolor=\"#fbdfeb\"] ;\\n72 -> 73 ;\\n74 [label=\"speechiness <= 0.044\\\\ngini = 0.77\\\\nsamples = 73\\\\nvalue = [16, 13, 2, 1, 24, 20, 43]\", fillcolor=\"#fad7e7\"] ;\\n73 -> 74 ;\\n75 [label=\"popularity <= 49.107\\\\ngini = 0.692\\\\nsamples = 52\\\\nvalue = [15, 13, 1, 0, 15, 2, 42]\", fillcolor=\"#f5b6d2\"] ;\\n74 -> 75 ;\\n76 [label=\"liveness <= 0.148\\\\ngini = 0.635\\\\nsamples = 21\\\\nvalue = [14, 5, 1, 0, 15, 0, 0]\", fillcolor=\"#f6f7fe\"] ;\\n75 -> 76 ;\\n77 [label=\"popularity <= 39.821\\\\ngini = 0.64\\\\nsamples = 17\\\\nvalue = [14, 5, 1, 0, 9, 0, 0]\", fillcolor=\"#f8e0ce\"] ;\\n76 -> 77 ;\\n78 [label=\"energy <= 0.364\\\\ngini = 0.278\\\\nsamples = 6\\\\nvalue = [10, 0, 0, 0, 2, 0, 0]\", fillcolor=\"#ea9a61\"] ;\\n77 -> 78 ;\\n79 [label=\"loudness <= -10.667\\\\ngini = 0.48\\\\nsamples = 3\\\\nvalue = [3, 0, 0, 0, 2, 0, 0]\", fillcolor=\"#f6d5bd\"] ;\\n78 -> 79 ;\\n80 [label=\"gini = 0.0\\\\nsamples = 2\\\\nvalue = [3, 0, 0, 0, 0, 0, 0]\", fillcolor=\"#e58139\"] ;\\n79 -> 80 ;\\n81 [label=\"gini = 0.0\\\\nsamples = 1\\\\nvalue = [0, 0, 0, 0, 2, 0, 0]\", fillcolor=\"#3956e5\"] ;\\n79 -> 81 ;\\n82 [label=\"gini = 0.0\\\\nsamples = 3\\\\nvalue = [7, 0, 0, 0, 0, 0, 0]\", fillcolor=\"#e58139\"] ;\\n78 -> 82 ;\\n83 [label=\"loudness <= -7.822\\\\ngini = 0.685\\\\nsamples = 11\\\\nvalue = [4, 5, 1, 0, 7, 0, 0]\", fillcolor=\"#dee3fb\"] ;\\n77 -> 83 ;\\n84 [label=\"danceability <= 0.339\\\\ngini = 0.604\\\\nsamples = 9\\\\nvalue = [4, 1, 1, 0, 7, 0, 0]\", fillcolor=\"#bdc7f6\"] ;\\n83 -> 84 ;\\n85 [label=\"gini = 0.0\\\\nsamples = 3\\\\nvalue = [4, 0, 0, 0, 0, 0, 0]\", fillcolor=\"#e58139\"] ;\\n84 -> 85 ;\\n86 [label=\"duration_ms <= 257378.047\\\\ngini = 0.37\\\\nsamples = 6\\\\nvalue = [0, 1, 1, 0, 7, 0, 0]\", fillcolor=\"#6a80ec\"] ;\\n84 -> 86 ;\\n87 [label=\"gini = 0.0\\\\nsamples = 2\\\\nvalue = [0, 0, 0, 0, 5, 0, 0]\", fillcolor=\"#3956e5\"] ;\\n86 -> 87 ;\\n88 [label=\"acousticness <= 0.484\\\\ngini = 0.625\\\\nsamples = 4\\\\nvalue = [0, 1, 1, 0, 2, 0, 0]\", fillcolor=\"#bdc7f6\"] ;\\n86 -> 88 ;\\n89 [label=\"instrumentalness <= 0.0\\\\ngini = 0.5\\\\nsamples = 2\\\\nvalue = [0, 1, 1, 0, 0, 0, 0]\", fillcolor=\"#ffffff\"] ;\\n88 -> 89 ;\\n90 [label=\"gini = 0.0\\\\nsamples = 1\\\\nvalue = [0, 1, 0, 0, 0, 0, 0]\", fillcolor=\"#b7e539\"] ;\\n89 -> 90 ;\\n91 [label=\"gini = 0.0\\\\nsamples = 1\\\\nvalue = [0, 0, 1, 0, 0, 0, 0]\", fillcolor=\"#39e54d\"] ;\\n89 -> 91 ;\\n92 [label=\"gini = 0.0\\\\nsamples = 2\\\\nvalue = [0, 0, 0, 0, 2, 0, 0]\", fillcolor=\"#3956e5\"] ;\\n88 -> 92 ;\\n93 [label=\"gini = 0.0\\\\nsamples = 2\\\\nvalue = [0, 4, 0, 0, 0, 0, 0]\", fillcolor=\"#b7e539\"] ;\\n83 -> 93 ;\\n94 [label=\"gini = 0.0\\\\nsamples = 4\\\\nvalue = [0, 0, 0, 0, 6, 0, 0]\", fillcolor=\"#3956e5\"] ;\\n76 -> 94 ;\\n95 [label=\"acousticness <= 0.753\\\\ngini = 0.347\\\\nsamples = 31\\\\nvalue = [1, 8, 0, 0, 0, 2, 42]\", fillcolor=\"#eb69a4\"] ;\\n75 -> 95 ;\\n96 [label=\"speechiness <= 0.032\\\\ngini = 0.201\\\\nsamples = 28\\\\nvalue = [1, 2, 0, 0, 0, 2, 41]\", fillcolor=\"#e85094\"] ;\\n95 -> 96 ;\\n97 [label=\"speechiness <= 0.032\\\\ngini = 0.355\\\\nsamples = 12\\\\nvalue = [0, 2, 0, 0, 0, 2, 15]\", fillcolor=\"#eb68a2\"] ;\\n96 -> 97 ;\\n98 [label=\"energy <= -0.362\\\\ngini = 0.29\\\\nsamples = 11\\\\nvalue = [0, 2, 0, 0, 0, 1, 15]\", fillcolor=\"#ea5e9d\"] ;\\n97 -> 98 ;\\n99 [label=\"danceability <= 0.481\\\\ngini = 0.444\\\\nsamples = 2\\\\nvalue = [0, 2, 0, 0, 0, 0, 1]\", fillcolor=\"#dbf29c\"] ;\\n98 -> 99 ;\\n100 [label=\"gini = 0.0\\\\nsamples = 1\\\\nvalue = [0, 2, 0, 0, 0, 0, 0]\", fillcolor=\"#b7e539\"] ;\\n99 -> 100 ;\\n101 [label=\"gini = 0.0\\\\nsamples = 1\\\\nvalue = [0, 0, 0, 0, 0, 0, 1]\", fillcolor=\"#e53986\"] ;\\n99 -> 101 ;\\n102 [label=\"liveness <= 0.108\\\\ngini = 0.124\\\\nsamples = 9\\\\nvalue = [0, 0, 0, 0, 0, 1, 14]\", fillcolor=\"#e7478f\"] ;\\n98 -> 102 ;\\n103 [label=\"gini = 0.0\\\\nsamples = 1\\\\nvalue = [0, 0, 0, 0, 0, 1, 0]\", fillcolor=\"#b139e5\"] ;\\n102 -> 103 ;\\n104 [label=\"gini = 0.0\\\\nsamples = 8\\\\nvalue = [0, 0, 0, 0, 0, 0, 14]\", fillcolor=\"#e53986\"] ;\\n102 -> 104 ;\\n105 [label=\"gini = 0.0\\\\nsamples = 1\\\\nvalue = [0, 0, 0, 0, 0, 1, 0]\", fillcolor=\"#b139e5\"] ;\\n97 -> 105 ;\\n106 [label=\"danceability <= 0.407\\\\ngini = 0.071\\\\nsamples = 16\\\\nvalue = [1, 0, 0, 0, 0, 0, 26]\", fillcolor=\"#e6418b\"] ;\\n96 -> 106 ;\\n107 [label=\"valence <= 0.165\\\\ngini = 0.245\\\\nsamples = 5\\\\nvalue = [1, 0, 0, 0, 0, 0, 6]\", fillcolor=\"#e95a9a\"] ;\\n106 -> 107 ;\\n108 [label=\"gini = 0.0\\\\nsamples = 4\\\\nvalue = [0, 0, 0, 0, 0, 0, 6]\", fillcolor=\"#e53986\"] ;\\n107 -> 108 ;\\n109 [label=\"gini = 0.0\\\\nsamples = 1\\\\nvalue = [1, 0, 0, 0, 0, 0, 0]\", fillcolor=\"#e58139\"] ;\\n107 -> 109 ;\\n110 [label=\"gini = 0.0\\\\nsamples = 11\\\\nvalue = [0, 0, 0, 0, 0, 0, 20]\", fillcolor=\"#e53986\"] ;\\n106 -> 110 ;\\n111 [label=\"tempo <= 88.81\\\\ngini = 0.245\\\\nsamples = 3\\\\nvalue = [0, 6, 0, 0, 0, 0, 1]\", fillcolor=\"#c3e95a\"] ;\\n95 -> 111 ;\\n112 [label=\"gini = 0.0\\\\nsamples = 2\\\\nvalue = [0, 6, 0, 0, 0, 0, 0]\", fillcolor=\"#b7e539\"] ;\\n111 -> 112 ;\\n113 [label=\"gini = 0.0\\\\nsamples = 1\\\\nvalue = [0, 0, 0, 0, 0, 0, 1]\", fillcolor=\"#e53986\"] ;\\n111 -> 113 ;\\n114 [label=\"duration_ms <= 196192.555\\\\ngini = 0.574\\\\nsamples = 21\\\\nvalue = [1, 0, 1, 1, 9, 18, 1]\", fillcolor=\"#dfaef4\"] ;\\n74 -> 114 ;\\n115 [label=\"energy <= 0.39\\\\ngini = 0.133\\\\nsamples = 9\\\\nvalue = [0, 0, 0, 1, 0, 13, 0]\", fillcolor=\"#b748e7\"] ;\\n114 -> 115 ;\\n116 [label=\"acousticness <= 0.615\\\\ngini = 0.444\\\\nsamples = 3\\\\nvalue = [0, 0, 0, 1, 0, 2, 0]\", fillcolor=\"#d89cf2\"] ;\\n115 -> 116 ;\\n117 [label=\"gini = 0.0\\\\nsamples = 1\\\\nvalue = [0, 0, 0, 1, 0, 0, 0]\", fillcolor=\"#39e5e2\"] ;\\n116 -> 117 ;\\n118 [label=\"gini = 0.0\\\\nsamples = 2\\\\nvalue = [0, 0, 0, 0, 0, 2, 0]\", fillcolor=\"#b139e5\"] ;\\n116 -> 118 ;\\n119 [label=\"gini = 0.0\\\\nsamples = 6\\\\nvalue = [0, 0, 0, 0, 0, 11, 0]\", fillcolor=\"#b139e5\"] ;\\n115 -> 119 ;\\n120 [label=\"speechiness <= 0.051\\\\ngini = 0.623\\\\nsamples = 12\\\\nvalue = [1, 0, 1, 0, 9, 5, 1]\", fillcolor=\"#bdc7f6\"] ;\\n114 -> 120 ;\\n121 [label=\"danceability <= 0.558\\\\ngini = 0.688\\\\nsamples = 6\\\\nvalue = [1, 0, 1, 0, 1, 4, 1]\", fillcolor=\"#deaaf4\"] ;\\n120 -> 121 ;\\n122 [label=\"danceability <= 0.184\\\\ngini = 0.667\\\\nsamples = 3\\\\nvalue = [1, 0, 0, 0, 1, 0, 1]\", fillcolor=\"#ffffff\"] ;\\n121 -> 122 ;\\n123 [label=\"gini = 0.0\\\\nsamples = 1\\\\nvalue = [1, 0, 0, 0, 0, 0, 0]\", fillcolor=\"#e58139\"] ;\\n122 -> 123 ;\\n124 [label=\"energy <= 0.581\\\\ngini = 0.5\\\\nsamples = 2\\\\nvalue = [0, 0, 0, 0, 1, 0, 1]\", fillcolor=\"#ffffff\"] ;\\n122 -> 124 ;\\n125 [label=\"gini = 0.0\\\\nsamples = 1\\\\nvalue = [0, 0, 0, 0, 1, 0, 0]\", fillcolor=\"#3956e5\"] ;\\n124 -> 125 ;\\n126 [label=\"gini = 0.0\\\\nsamples = 1\\\\nvalue = [0, 0, 0, 0, 0, 0, 1]\", fillcolor=\"#e53986\"] ;\\n124 -> 126 ;\\n127 [label=\"tempo <= 84.021\\\\ngini = 0.32\\\\nsamples = 3\\\\nvalue = [0, 0, 1, 0, 0, 4, 0]\", fillcolor=\"#c46aec\"] ;\\n121 -> 127 ;\\n128 [label=\"gini = 0.0\\\\nsamples = 2\\\\nvalue = [0, 0, 0, 0, 0, 4, 0]\", fillcolor=\"#b139e5\"] ;\\n127 -> 128 ;\\n129 [label=\"gini = 0.0\\\\nsamples = 1\\\\nvalue = [0, 0, 1, 0, 0, 0, 0]\", fillcolor=\"#39e54d\"] ;\\n127 -> 129 ;\\n130 [label=\"energy <= 0.61\\\\ngini = 0.198\\\\nsamples = 6\\\\nvalue = [0, 0, 0, 0, 8, 1, 0]\", fillcolor=\"#526be8\"] ;\\n120 -> 130 ;\\n131 [label=\"gini = 0.0\\\\nsamples = 5\\\\nvalue = [0, 0, 0, 0, 8, 0, 0]\", fillcolor=\"#3956e5\"] ;\\n130 -> 131 ;\\n132 [label=\"gini = 0.0\\\\nsamples = 1\\\\nvalue = [0, 0, 0, 0, 0, 1, 0]\", fillcolor=\"#b139e5\"] ;\\n130 -> 132 ;\\n133 [label=\"acousticness <= 0.302\\\\ngini = 0.658\\\\nsamples = 92\\\\nvalue = [7, 3, 13, 1, 5, 58, 67]\", fillcolor=\"#fdecf4\"] ;\\n73 -> 133 ;\\n134 [label=\"speechiness <= 0.036\\\\ngini = 0.632\\\\nsamples = 63\\\\nvalue = [1, 0, 13, 1, 4, 54, 40]\", fillcolor=\"#f0d9fa\"] ;\\n133 -> 134 ;\\n135 [label=\"popularity <= 57.635\\\\ngini = 0.393\\\\nsamples = 17\\\\nvalue = [1, 0, 3, 0, 0, 4, 26]\", fillcolor=\"#ec6ea6\"] ;\\n134 -> 135 ;\\n136 [label=\"duration_ms <= 256408.055\\\\ngini = 0.375\\\\nsamples = 3\\\\nvalue = [1, 0, 3, 0, 0, 0, 0]\", fillcolor=\"#7bee88\"] ;\\n135 -> 136 ;\\n137 [label=\"gini = 0.0\\\\nsamples = 2\\\\nvalue = [0, 0, 3, 0, 0, 0, 0]\", fillcolor=\"#39e54d\"] ;\\n136 -> 137 ;\\n138 [label=\"gini = 0.0\\\\nsamples = 1\\\\nvalue = [1, 0, 0, 0, 0, 0, 0]\", fillcolor=\"#e58139\"] ;\\n136 -> 138 ;\\n139 [label=\"liveness <= 0.419\\\\ngini = 0.231\\\\nsamples = 14\\\\nvalue = [0, 0, 0, 0, 0, 4, 26]\", fillcolor=\"#e95799\"] ;\\n135 -> 139 ;\\n140 [label=\"loudness <= -3.007\\\\ngini = 0.185\\\\nsamples = 13\\\\nvalue = [0, 0, 0, 0, 0, 3, 26]\", fillcolor=\"#e85094\"] ;\\n139 -> 140 ;\\n141 [label=\"speechiness <= 0.032\\\\ngini = 0.133\\\\nsamples = 12\\\\nvalue = [0, 0, 0, 0, 0, 2, 26]\", fillcolor=\"#e7488f\"] ;\\n140 -> 141 ;\\n142 [label=\"loudness <= -9.214\\\\ngini = 0.278\\\\nsamples = 7\\\\nvalue = [0, 0, 0, 0, 0, 2, 10]\", fillcolor=\"#ea619e\"] ;\\n141 -> 142 ;\\n143 [label=\"liveness <= 0.105\\\\ngini = 0.444\\\\nsamples = 2\\\\nvalue = [0, 0, 0, 0, 0, 2, 1]\", fillcolor=\"#d89cf2\"] ;\\n142 -> 143 ;\\n144 [label=\"gini = 0.0\\\\nsamples = 1\\\\nvalue = [0, 0, 0, 0, 0, 2, 0]\", fillcolor=\"#b139e5\"] ;\\n143 -> 144 ;\\n145 [label=\"gini = 0.0\\\\nsamples = 1\\\\nvalue = [0, 0, 0, 0, 0, 0, 1]\", fillcolor=\"#e53986\"] ;\\n143 -> 145 ;\\n146 [label=\"gini = 0.0\\\\nsamples = 5\\\\nvalue = [0, 0, 0, 0, 0, 0, 9]\", fillcolor=\"#e53986\"] ;\\n142 -> 146 ;\\n147 [label=\"gini = 0.0\\\\nsamples = 5\\\\nvalue = [0, 0, 0, 0, 0, 0, 16]\", fillcolor=\"#e53986\"] ;\\n141 -> 147 ;\\n148 [label=\"gini = 0.0\\\\nsamples = 1\\\\nvalue = [0, 0, 0, 0, 0, 1, 0]\", fillcolor=\"#b139e5\"] ;\\n140 -> 148 ;\\n149 [label=\"gini = 0.0\\\\nsamples = 1\\\\nvalue = [0, 0, 0, 0, 0, 1, 0]\", fillcolor=\"#b139e5\"] ;\\n139 -> 149 ;\\n150 [label=\"danceability <= 0.544\\\\ngini = 0.549\\\\nsamples = 46\\\\nvalue = [0, 0, 10, 1, 4, 50, 14]\", fillcolor=\"#d491f1\"] ;\\n134 -> 150 ;\\n151 [label=\"popularity <= 48.65\\\\ngini = 0.695\\\\nsamples = 17\\\\nvalue = [0, 0, 4, 0, 3, 9, 10]\", fillcolor=\"#fdf3f8\"] ;\\n150 -> 151 ;\\n152 [label=\"duration_ms <= 216851.961\\\\ngini = 0.48\\\\nsamples = 3\\\\nvalue = [0, 0, 2, 0, 3, 0, 0]\", fillcolor=\"#bdc7f6\"] ;\\n151 -> 152 ;\\n153 [label=\"gini = 0.0\\\\nsamples = 1\\\\nvalue = [0, 0, 0, 0, 3, 0, 0]\", fillcolor=\"#3956e5\"] ;\\n152 -> 153 ;\\n154 [label=\"gini = 0.0\\\\nsamples = 2\\\\nvalue = [0, 0, 2, 0, 0, 0, 0]\", fillcolor=\"#39e54d\"] ;\\n152 -> 154 ;\\n155 [label=\"liveness <= 0.108\\\\ngini = 0.58\\\\nsamples = 14\\\\nvalue = [0, 0, 2, 0, 0, 9, 10]\", fillcolor=\"#fdeef5\"] ;\\n151 -> 155 ;\\n156 [label=\"popularity <= 67.3\\\\ngini = 0.397\\\\nsamples = 5\\\\nvalue = [0, 0, 0, 0, 0, 8, 3]\", fillcolor=\"#ce83ef\"] ;\\n155 -> 156 ;\\n157 [label=\"gini = 0.0\\\\nsamples = 3\\\\nvalue = [0, 0, 0, 0, 0, 8, 0]\", fillcolor=\"#b139e5\"] ;\\n156 -> 157 ;\\n158 [label=\"gini = 0.0\\\\nsamples = 2\\\\nvalue = [0, 0, 0, 0, 0, 0, 3]\", fillcolor=\"#e53986\"] ;\\n156 -> 158 ;\\n159 [label=\"energy <= 0.402\\\\ngini = 0.46\\\\nsamples = 9\\\\nvalue = [0, 0, 2, 0, 0, 1, 7]\", fillcolor=\"#ef83b3\"] ;\\n155 -> 159 ;\\n160 [label=\"gini = 0.0\\\\nsamples = 1\\\\nvalue = [0, 0, 0, 0, 0, 1, 0]\", fillcolor=\"#b139e5\"] ;\\n159 -> 160 ;\\n161 [label=\"danceability <= 0.418\\\\ngini = 0.346\\\\nsamples = 8\\\\nvalue = [0, 0, 2, 0, 0, 0, 7]\", fillcolor=\"#ec72a9\"] ;\\n159 -> 161 ;\\n162 [label=\"gini = 0.0\\\\nsamples = 4\\\\nvalue = [0, 0, 0, 0, 0, 0, 4]\", fillcolor=\"#e53986\"] ;\\n161 -> 162 ;\\n163 [label=\"valence <= 0.118\\\\ngini = 0.48\\\\nsamples = 4\\\\nvalue = [0, 0, 2, 0, 0, 0, 3]\", fillcolor=\"#f6bdd7\"] ;\\n161 -> 163 ;\\n164 [label=\"gini = 0.0\\\\nsamples = 1\\\\nvalue = [0, 0, 0, 0, 0, 0, 2]\", fillcolor=\"#e53986\"] ;\\n163 -> 164 ;\\n165 [label=\"instrumentalness <= 0.0\\\\ngini = 0.444\\\\nsamples = 3\\\\nvalue = [0, 0, 2, 0, 0, 0, 1]\", fillcolor=\"#9cf2a6\"] ;\\n163 -> 165 ;\\n166 [label=\"gini = 0.0\\\\nsamples = 2\\\\nvalue = [0, 0, 2, 0, 0, 0, 0]\", fillcolor=\"#39e54d\"] ;\\n165 -> 166 ;\\n167 [label=\"gini = 0.0\\\\nsamples = 1\\\\nvalue = [0, 0, 0, 0, 0, 0, 1]\", fillcolor=\"#e53986\"] ;\\n165 -> 167 ;\\n168 [label=\"speechiness <= 0.078\\\\ngini = 0.382\\\\nsamples = 29\\\\nvalue = [0, 0, 6, 1, 1, 41, 4]\", fillcolor=\"#c56cec\"] ;\\n150 -> 168 ;\\n169 [label=\"popularity <= 44.611\\\\ngini = 0.329\\\\nsamples = 27\\\\nvalue = [0, 0, 6, 1, 1, 38, 1]\", fillcolor=\"#c264eb\"] ;\\n168 -> 169 ;\\n170 [label=\"duration_ms <= 228904.484\\\\ngini = 0.245\\\\nsamples = 3\\\\nvalue = [0, 0, 6, 0, 1, 0, 0]\", fillcolor=\"#5ae96b\"] ;\\n169 -> 170 ;\\n171 [label=\"gini = 0.0\\\\nsamples = 1\\\\nvalue = [0, 0, 0, 0, 1, 0, 0]\", fillcolor=\"#3956e5\"] ;\\n170 -> 171 ;\\n172 [label=\"gini = 0.0\\\\nsamples = 2\\\\nvalue = [0, 0, 6, 0, 0, 0, 0]\", fillcolor=\"#39e54d\"] ;\\n170 -> 172 ;\\n173 [label=\"energy <= 0.504\\\\ngini = 0.096\\\\nsamples = 24\\\\nvalue = [0, 0, 0, 1, 0, 38, 1]\", fillcolor=\"#b543e6\"] ;\\n169 -> 173 ;\\n174 [label=\"energy <= 0.478\\\\ngini = 0.278\\\\nsamples = 5\\\\nvalue = [0, 0, 0, 1, 0, 5, 0]\", fillcolor=\"#c161ea\"] ;\\n173 -> 174 ;\\n175 [label=\"gini = 0.0\\\\nsamples = 4\\\\nvalue = [0, 0, 0, 0, 0, 5, 0]\", fillcolor=\"#b139e5\"] ;\\n174 -> 175 ;\\n176 [label=\"gini = 0.0\\\\nsamples = 1\\\\nvalue = [0, 0, 0, 1, 0, 0, 0]\", fillcolor=\"#39e5e2\"] ;\\n174 -> 176 ;\\n177 [label=\"liveness <= 0.114\\\\ngini = 0.057\\\\nsamples = 19\\\\nvalue = [0, 0, 0, 0, 0, 33, 1]\", fillcolor=\"#b33fe6\"] ;\\n173 -> 177 ;\\n178 [label=\"speechiness <= 0.041\\\\ngini = 0.142\\\\nsamples = 7\\\\nvalue = [0, 0, 0, 0, 0, 12, 1]\", fillcolor=\"#b749e7\"] ;\\n177 -> 178 ;\\n179 [label=\"gini = 0.0\\\\nsamples = 1\\\\nvalue = [0, 0, 0, 0, 0, 0, 1]\", fillcolor=\"#e53986\"] ;\\n178 -> 179 ;\\n180 [label=\"gini = 0.0\\\\nsamples = 6\\\\nvalue = [0, 0, 0, 0, 0, 12, 0]\", fillcolor=\"#b139e5\"] ;\\n178 -> 180 ;\\n181 [label=\"gini = 0.0\\\\nsamples = 12\\\\nvalue = [0, 0, 0, 0, 0, 21, 0]\", fillcolor=\"#b139e5\"] ;\\n177 -> 181 ;\\n182 [label=\"instrumentalness <= 0.004\\\\ngini = 0.5\\\\nsamples = 2\\\\nvalue = [0, 0, 0, 0, 0, 3, 3]\", fillcolor=\"#ffffff\"] ;\\n168 -> 182 ;\\n183 [label=\"gini = 0.0\\\\nsamples = 1\\\\nvalue = [0, 0, 0, 0, 0, 3, 0]\", fillcolor=\"#b139e5\"] ;\\n182 -> 183 ;\\n184 [label=\"gini = 0.0\\\\nsamples = 1\\\\nvalue = [0, 0, 0, 0, 0, 0, 3]\", fillcolor=\"#e53986\"] ;\\n182 -> 184 ;\\n185 [label=\"popularity <= 50.278\\\\ngini = 0.529\\\\nsamples = 29\\\\nvalue = [6, 3, 0, 0, 1, 4, 27]\", fillcolor=\"#ef88b6\"] ;\\n133 -> 185 ;\\n186 [label=\"liveness <= 0.127\\\\ngini = 0.675\\\\nsamples = 6\\\\nvalue = [6, 3, 0, 0, 1, 0, 3]\", fillcolor=\"#f7d9c4\"] ;\\n185 -> 186 ;\\n187 [label=\"gini = 0.0\\\\nsamples = 3\\\\nvalue = [6, 0, 0, 0, 0, 0, 0]\", fillcolor=\"#e58139\"] ;\\n186 -> 187 ;\\n188 [label=\"valence <= 0.176\\\\ngini = 0.612\\\\nsamples = 3\\\\nvalue = [0, 3, 0, 0, 1, 0, 3]\", fillcolor=\"#ffffff\"] ;\\n186 -> 188 ;\\n189 [label=\"gini = 0.0\\\\nsamples = 1\\\\nvalue = [0, 0, 0, 0, 0, 0, 3]\", fillcolor=\"#e53986\"] ;\\n188 -> 189 ;\\n190 [label=\"instrumentalness <= 0.0\\\\ngini = 0.375\\\\nsamples = 2\\\\nvalue = [0, 3, 0, 0, 1, 0, 0]\", fillcolor=\"#cfee7b\"] ;\\n188 -> 190 ;\\n191 [label=\"gini = 0.0\\\\nsamples = 1\\\\nvalue = [0, 0, 0, 0, 1, 0, 0]\", fillcolor=\"#3956e5\"] ;\\n190 -> 191 ;\\n192 [label=\"gini = 0.0\\\\nsamples = 1\\\\nvalue = [0, 3, 0, 0, 0, 0, 0]\", fillcolor=\"#b7e539\"] ;\\n190 -> 192 ;\\n193 [label=\"acousticness <= 0.422\\\\ngini = 0.245\\\\nsamples = 23\\\\nvalue = [0, 0, 0, 0, 0, 4, 24]\", fillcolor=\"#e95a9a\"] ;\\n185 -> 193 ;\\n194 [label=\"valence <= 0.172\\\\ngini = 0.49\\\\nsamples = 6\\\\nvalue = [0, 0, 0, 0, 0, 3, 4]\", fillcolor=\"#f8cee1\"] ;\\n193 -> 194 ;\\n195 [label=\"gini = 0.0\\\\nsamples = 3\\\\nvalue = [0, 0, 0, 0, 0, 3, 0]\", fillcolor=\"#b139e5\"] ;\\n194 -> 195 ;\\n196 [label=\"gini = 0.0\\\\nsamples = 3\\\\nvalue = [0, 0, 0, 0, 0, 0, 4]\", fillcolor=\"#e53986\"] ;\\n194 -> 196 ;\\n197 [label=\"loudness <= -6.795\\\\ngini = 0.091\\\\nsamples = 17\\\\nvalue = [0, 0, 0, 0, 0, 1, 20]\", fillcolor=\"#e6438c\"] ;\\n193 -> 197 ;\\n198 [label=\"gini = 0.0\\\\nsamples = 15\\\\nvalue = [0, 0, 0, 0, 0, 0, 18]\", fillcolor=\"#e53986\"] ;\\n197 -> 198 ;\\n199 [label=\"energy <= -0.15\\\\ngini = 0.444\\\\nsamples = 2\\\\nvalue = [0, 0, 0, 0, 0, 1, 2]\", fillcolor=\"#f29cc2\"] ;\\n197 -> 199 ;\\n200 [label=\"gini = 0.0\\\\nsamples = 1\\\\nvalue = [0, 0, 0, 0, 0, 0, 2]\", fillcolor=\"#e53986\"] ;\\n199 -> 200 ;\\n201 [label=\"gini = 0.0\\\\nsamples = 1\\\\nvalue = [0, 0, 0, 0, 0, 1, 0]\", fillcolor=\"#b139e5\"] ;\\n199 -> 201 ;\\n202 [label=\"popularity <= 50.808\\\\ngini = 0.64\\\\nsamples = 981\\\\nvalue = [41, 210, 21, 12, 240, 164, 845]\", fillcolor=\"#f3a2c6\"] ;\\n72 -> 202 ;\\n203 [label=\"speechiness <= 0.034\\\\ngini = 0.618\\\\nsamples = 224\\\\nvalue = [35, 114, 14, 0, 173, 1, 4]\", fillcolor=\"#ccd3f8\"] ;\\n202 -> 203 ;\\n204 [label=\"popularity <= 36.529\\\\ngini = 0.545\\\\nsamples = 69\\\\nvalue = [6, 61, 3, 0, 28, 0, 2]\", fillcolor=\"#def3a4\"] ;\\n203 -> 204 ;\\n205 [label=\"popularity <= 29.13\\\\ngini = 0.569\\\\nsamples = 7\\\\nvalue = [3, 0, 0, 0, 7, 0, 2]\", fillcolor=\"#a7b4f3\"] ;\\n204 -> 205 ;\\n206 [label=\"gini = 0.0\\\\nsamples = 1\\\\nvalue = [3, 0, 0, 0, 0, 0, 0]\", fillcolor=\"#e58139\"] ;\\n205 -> 206 ;\\n207 [label=\"energy <= -0.298\\\\ngini = 0.346\\\\nsamples = 6\\\\nvalue = [0, 0, 0, 0, 7, 0, 2]\", fillcolor=\"#7286ec\"] ;\\n205 -> 207 ;\\n208 [label=\"gini = 0.0\\\\nsamples = 1\\\\nvalue = [0, 0, 0, 0, 0, 0, 2]\", fillcolor=\"#e53986\"] ;\\n207 -> 208 ;\\n209 [label=\"gini = 0.0\\\\nsamples = 5\\\\nvalue = [0, 0, 0, 0, 7, 0, 0]\", fillcolor=\"#3956e5\"] ;\\n207 -> 209 ;\\n210 [label=\"danceability <= 0.49\\\\ngini = 0.46\\\\nsamples = 62\\\\nvalue = [3, 61, 3, 0, 21, 0, 0]\", fillcolor=\"#d4ef89\"] ;\\n204 -> 210 ;\\n211 [label=\"instrumentalness <= 0.118\\\\ngini = 0.657\\\\nsamples = 12\\\\nvalue = [1, 5, 3, 0, 8, 0, 0]\", fillcolor=\"#ced5f8\"] ;\\n210 -> 211 ;\\n212 [label=\"instrumentalness <= 0.0\\\\ngini = 0.541\\\\nsamples = 11\\\\nvalue = [1, 5, 0, 0, 8, 0, 0]\", fillcolor=\"#bdc7f6\"] ;\\n211 -> 212 ;\\n213 [label=\"popularity <= 38.499\\\\ngini = 0.406\\\\nsamples = 6\\\\nvalue = [1, 1, 0, 0, 6, 0, 0]\", fillcolor=\"#7286ec\"] ;\\n212 -> 213 ;\\n214 [label=\"gini = 0.0\\\\nsamples = 1\\\\nvalue = [0, 1, 0, 0, 0, 0, 0]\", fillcolor=\"#b7e539\"] ;\\n213 -> 214 ;\\n215 [label=\"danceability <= 0.367\\\\ngini = 0.245\\\\nsamples = 5\\\\nvalue = [1, 0, 0, 0, 6, 0, 0]\", fillcolor=\"#5a72e9\"] ;\\n213 -> 215 ;\\n216 [label=\"gini = 0.0\\\\nsamples = 2\\\\nvalue = [0, 0, 0, 0, 4, 0, 0]\", fillcolor=\"#3956e5\"] ;\\n215 -> 216 ;\\n217 [label=\"loudness <= -9.24\\\\ngini = 0.444\\\\nsamples = 3\\\\nvalue = [1, 0, 0, 0, 2, 0, 0]\", fillcolor=\"#9caaf2\"] ;\\n215 -> 217 ;\\n218 [label=\"gini = 0.0\\\\nsamples = 2\\\\nvalue = [0, 0, 0, 0, 2, 0, 0]\", fillcolor=\"#3956e5\"] ;\\n217 -> 218 ;\\n219 [label=\"gini = 0.0\\\\nsamples = 1\\\\nvalue = [1, 0, 0, 0, 0, 0, 0]\", fillcolor=\"#e58139\"] ;\\n217 -> 219 ;\\n220 [label=\"valence <= 0.499\\\\ngini = 0.444\\\\nsamples = 5\\\\nvalue = [0, 4, 0, 0, 2, 0, 0]\", fillcolor=\"#dbf29c\"] ;\\n212 -> 220 ;\\n221 [label=\"gini = 0.0\\\\nsamples = 3\\\\nvalue = [0, 4, 0, 0, 0, 0, 0]\", fillcolor=\"#b7e539\"] ;\\n220 -> 221 ;\\n222 [label=\"gini = 0.0\\\\nsamples = 2\\\\nvalue = [0, 0, 0, 0, 2, 0, 0]\", fillcolor=\"#3956e5\"] ;\\n220 -> 222 ;\\n223 [label=\"gini = 0.0\\\\nsamples = 1\\\\nvalue = [0, 0, 3, 0, 0, 0, 0]\", fillcolor=\"#39e54d\"] ;\\n211 -> 223 ;\\n224 [label=\"valence <= 0.659\\\\ngini = 0.344\\\\nsamples = 50\\\\nvalue = [2, 56, 0, 0, 13, 0, 0]\", fillcolor=\"#caec6c\"] ;\\n210 -> 224 ;\\n225 [label=\"liveness <= 0.335\\\\ngini = 0.27\\\\nsamples = 35\\\\nvalue = [1, 43, 0, 0, 7, 0, 0]\", fillcolor=\"#c4ea5d\"] ;\\n224 -> 225 ;\\n226 [label=\"acousticness <= 0.343\\\\ngini = 0.219\\\\nsamples = 34\\\\nvalue = [1, 43, 0, 0, 5, 0, 0]\", fillcolor=\"#c1e954\"] ;\\n225 -> 226 ;\\n227 [label=\"gini = 0.0\\\\nsamples = 15\\\\nvalue = [0, 21, 0, 0, 0, 0, 0]\", fillcolor=\"#b7e539\"] ;\\n226 -> 227 ;\\n228 [label=\"energy <= 0.564\\\\ngini = 0.349\\\\nsamples = 19\\\\nvalue = [1, 22, 0, 0, 5, 0, 0]\", fillcolor=\"#caec6d\"] ;\\n226 -> 228 ;\\n229 [label=\"tempo <= 105.107\\\\ngini = 0.105\\\\nsamples = 13\\\\nvalue = [0, 17, 0, 0, 1, 0, 0]\", fillcolor=\"#bbe745\"] ;\\n228 -> 229 ;\\n230 [label=\"instrumentalness <= 0.0\\\\ngini = 0.375\\\\nsamples = 3\\\\nvalue = [0, 3, 0, 0, 1, 0, 0]\", fillcolor=\"#cfee7b\"] ;\\n229 -> 230 ;\\n231 [label=\"gini = 0.0\\\\nsamples = 1\\\\nvalue = [0, 0, 0, 0, 1, 0, 0]\", fillcolor=\"#3956e5\"] ;\\n230 -> 231 ;\\n232 [label=\"gini = 0.0\\\\nsamples = 2\\\\nvalue = [0, 3, 0, 0, 0, 0, 0]\", fillcolor=\"#b7e539\"] ;\\n230 -> 232 ;\\n233 [label=\"gini = 0.0\\\\nsamples = 10\\\\nvalue = [0, 14, 0, 0, 0, 0, 0]\", fillcolor=\"#b7e539\"] ;\\n229 -> 233 ;\\n234 [label=\"energy <= 0.611\\\\ngini = 0.58\\\\nsamples = 6\\\\nvalue = [1, 5, 0, 0, 4, 0, 0]\", fillcolor=\"#f3fbde\"] ;\\n228 -> 234 ;\\n235 [label=\"gini = 0.0\\\\nsamples = 1\\\\nvalue = [0, 0, 0, 0, 3, 0, 0]\", fillcolor=\"#3956e5\"] ;\\n234 -> 235 ;\\n236 [label=\"danceability <= 0.585\\\\ngini = 0.449\\\\nsamples = 5\\\\nvalue = [1, 5, 0, 0, 1, 0, 0]\", fillcolor=\"#cfee7b\"] ;\\n234 -> 236 ;\\n237 [label=\"gini = 0.0\\\\nsamples = 1\\\\nvalue = [0, 0, 0, 0, 1, 0, 0]\", fillcolor=\"#3956e5\"] ;\\n236 -> 237 ;\\n238 [label=\"instrumentalness <= 0.105\\\\ngini = 0.278\\\\nsamples = 4\\\\nvalue = [1, 5, 0, 0, 0, 0, 0]\", fillcolor=\"#c5ea61\"] ;\\n236 -> 238 ;\\n239 [label=\"gini = 0.0\\\\nsamples = 3\\\\nvalue = [0, 5, 0, 0, 0, 0, 0]\", fillcolor=\"#b7e539\"] ;\\n238 -> 239 ;\\n240 [label=\"gini = 0.0\\\\nsamples = 1\\\\nvalue = [1, 0, 0, 0, 0, 0, 0]\", fillcolor=\"#e58139\"] ;\\n238 -> 240 ;\\n241 [label=\"gini = 0.0\\\\nsamples = 1\\\\nvalue = [0, 0, 0, 0, 2, 0, 0]\", fillcolor=\"#3956e5\"] ;\\n225 -> 241 ;\\n242 [label=\"acousticness <= 0.531\\\\ngini = 0.485\\\\nsamples = 15\\\\nvalue = [1, 13, 0, 0, 6, 0, 0]\", fillcolor=\"#dbf29c\"] ;\\n224 -> 242 ;\\n243 [label=\"valence <= 0.673\\\\ngini = 0.153\\\\nsamples = 10\\\\nvalue = [0, 11, 0, 0, 1, 0, 0]\", fillcolor=\"#bee74b\"] ;\\n242 -> 243 ;\\n244 [label=\"gini = 0.0\\\\nsamples = 1\\\\nvalue = [0, 0, 0, 0, 1, 0, 0]\", fillcolor=\"#3956e5\"] ;\\n243 -> 244 ;\\n245 [label=\"gini = 0.0\\\\nsamples = 9\\\\nvalue = [0, 11, 0, 0, 0, 0, 0]\", fillcolor=\"#b7e539\"] ;\\n243 -> 245 ;\\n246 [label=\"acousticness <= 0.802\\\\ngini = 0.531\\\\nsamples = 5\\\\nvalue = [1, 2, 0, 0, 5, 0, 0]\", fillcolor=\"#9caaf2\"] ;\\n242 -> 246 ;\\n247 [label=\"instrumentalness <= 0.0\\\\ngini = 0.278\\\\nsamples = 4\\\\nvalue = [1, 0, 0, 0, 5, 0, 0]\", fillcolor=\"#6178ea\"] ;\\n246 -> 247 ;\\n248 [label=\"gini = 0.0\\\\nsamples = 1\\\\nvalue = [1, 0, 0, 0, 0, 0, 0]\", fillcolor=\"#e58139\"] ;\\n247 -> 248 ;\\n249 [label=\"gini = 0.0\\\\nsamples = 3\\\\nvalue = [0, 0, 0, 0, 5, 0, 0]\", fillcolor=\"#3956e5\"] ;\\n247 -> 249 ;\\n250 [label=\"gini = 0.0\\\\nsamples = 1\\\\nvalue = [0, 2, 0, 0, 0, 0, 0]\", fillcolor=\"#b7e539\"] ;\\n246 -> 250 ;\\n251 [label=\"instrumentalness <= 0.0\\\\ngini = 0.573\\\\nsamples = 155\\\\nvalue = [29, 53, 11, 0, 145, 1, 2]\", fillcolor=\"#9eacf2\"] ;\\n203 -> 251 ;\\n252 [label=\"tempo <= 134.924\\\\ngini = 0.583\\\\nsamples = 90\\\\nvalue = [14, 49, 3, 0, 77, 0, 0]\", fillcolor=\"#c4cdf7\"] ;\\n251 -> 252 ;\\n253 [label=\"loudness <= -9.618\\\\ngini = 0.471\\\\nsamples = 62\\\\nvalue = [7, 24, 0, 0, 66, 0, 0]\", fillcolor=\"#8d9ef0\"] ;\\n252 -> 253 ;\\n254 [label=\"valence <= 0.288\\\\ngini = 0.317\\\\nsamples = 32\\\\nvalue = [4, 5, 0, 0, 40, 0, 0]\", fillcolor=\"#6179ea\"] ;\\n253 -> 254 ;\\n255 [label=\"gini = 0.0\\\\nsamples = 2\\\\nvalue = [0, 3, 0, 0, 0, 0, 0]\", fillcolor=\"#b7e539\"] ;\\n254 -> 255 ;\\n256 [label=\"speechiness <= 0.047\\\\ngini = 0.234\\\\nsamples = 30\\\\nvalue = [4, 2, 0, 0, 40, 0, 0]\", fillcolor=\"#556ee9\"] ;\\n254 -> 256 ;\\n257 [label=\"acousticness <= 0.105\\\\ngini = 0.347\\\\nsamples = 20\\\\nvalue = [4, 2, 0, 0, 23, 0, 0]\", fillcolor=\"#697feb\"] ;\\n256 -> 257 ;\\n258 [label=\"loudness <= -11.977\\\\ngini = 0.625\\\\nsamples = 3\\\\nvalue = [1, 2, 0, 0, 1, 0, 0]\", fillcolor=\"#e7f6bd\"] ;\\n257 -> 258 ;\\n259 [label=\"speechiness <= 0.041\\\\ngini = 0.5\\\\nsamples = 2\\\\nvalue = [1, 0, 0, 0, 1, 0, 0]\", fillcolor=\"#ffffff\"] ;\\n258 -> 259 ;\\n260 [label=\"gini = 0.0\\\\nsamples = 1\\\\nvalue = [1, 0, 0, 0, 0, 0, 0]\", fillcolor=\"#e58139\"] ;\\n259 -> 260 ;\\n261 [label=\"gini = 0.0\\\\nsamples = 1\\\\nvalue = [0, 0, 0, 0, 1, 0, 0]\", fillcolor=\"#3956e5\"] ;\\n259 -> 261 ;\\n262 [label=\"gini = 0.0\\\\nsamples = 1\\\\nvalue = [0, 2, 0, 0, 0, 0, 0]\", fillcolor=\"#b7e539\"] ;\\n258 -> 262 ;\\n263 [label=\"energy <= 0.303\\\\ngini = 0.211\\\\nsamples = 17\\\\nvalue = [3, 0, 0, 0, 22, 0, 0]\", fillcolor=\"#546de9\"] ;\\n257 -> 263 ;\\n264 [label=\"loudness <= -16.696\\\\ngini = 0.5\\\\nsamples = 4\\\\nvalue = [3, 0, 0, 0, 3, 0, 0]\", fillcolor=\"#ffffff\"] ;\\n263 -> 264 ;\\n265 [label=\"gini = 0.0\\\\nsamples = 1\\\\nvalue = [0, 0, 0, 0, 2, 0, 0]\", fillcolor=\"#3956e5\"] ;\\n264 -> 265 ;\\n266 [label=\"speechiness <= 0.041\\\\ngini = 0.375\\\\nsamples = 3\\\\nvalue = [3, 0, 0, 0, 1, 0, 0]\", fillcolor=\"#eeab7b\"] ;\\n264 -> 266 ;\\n267 [label=\"gini = 0.0\\\\nsamples = 1\\\\nvalue = [2, 0, 0, 0, 0, 0, 0]\", fillcolor=\"#e58139\"] ;\\n266 -> 267 ;\\n268 [label=\"valence <= 0.586\\\\ngini = 0.5\\\\nsamples = 2\\\\nvalue = [1, 0, 0, 0, 1, 0, 0]\", fillcolor=\"#ffffff\"] ;\\n266 -> 268 ;\\n269 [label=\"gini = 0.0\\\\nsamples = 1\\\\nvalue = [1, 0, 0, 0, 0, 0, 0]\", fillcolor=\"#e58139\"] ;\\n268 -> 269 ;\\n270 [label=\"gini = 0.0\\\\nsamples = 1\\\\nvalue = [0, 0, 0, 0, 1, 0, 0]\", fillcolor=\"#3956e5\"] ;\\n268 -> 270 ;\\n271 [label=\"gini = 0.0\\\\nsamples = 13\\\\nvalue = [0, 0, 0, 0, 19, 0, 0]\", fillcolor=\"#3956e5\"] ;\\n263 -> 271 ;\\n272 [label=\"gini = 0.0\\\\nsamples = 10\\\\nvalue = [0, 0, 0, 0, 17, 0, 0]\", fillcolor=\"#3956e5\"] ;\\n256 -> 272 ;\\n273 [label=\"energy <= 0.728\\\\ngini = 0.546\\\\nsamples = 30\\\\nvalue = [3, 19, 0, 0, 26, 0, 0]\", fillcolor=\"#cfd6f9\"] ;\\n253 -> 273 ;\\n274 [label=\"speechiness <= 0.039\\\\ngini = 0.467\\\\nsamples = 22\\\\nvalue = [2, 10, 0, 0, 25, 0, 0]\", fillcolor=\"#91a1f1\"] ;\\n273 -> 274 ;\\n275 [label=\"instrumentalness <= 0.0\\\\ngini = 0.569\\\\nsamples = 8\\\\nvalue = [2, 7, 0, 0, 3, 0, 0]\", fillcolor=\"#dff3a7\"] ;\\n274 -> 275 ;\\n276 [label=\"energy <= 0.643\\\\ngini = 0.611\\\\nsamples = 4\\\\nvalue = [2, 1, 0, 0, 3, 0, 0]\", fillcolor=\"#ced5f8\"] ;\\n275 -> 276 ;\\n277 [label=\"loudness <= -6.655\\\\ngini = 0.48\\\\nsamples = 3\\\\nvalue = [2, 0, 0, 0, 3, 0, 0]\", fillcolor=\"#bdc7f6\"] ;\\n276 -> 277 ;\\n278 [label=\"gini = 0.0\\\\nsamples = 1\\\\nvalue = [0, 0, 0, 0, 2, 0, 0]\", fillcolor=\"#3956e5\"] ;\\n277 -> 278 ;\\n279 [label=\"valence <= 0.666\\\\ngini = 0.444\\\\nsamples = 2\\\\nvalue = [2, 0, 0, 0, 1, 0, 0]\", fillcolor=\"#f2c09c\"] ;\\n277 -> 279 ;\\n280 [label=\"gini = 0.0\\\\nsamples = 1\\\\nvalue = [2, 0, 0, 0, 0, 0, 0]\", fillcolor=\"#e58139\"] ;\\n279 -> 280 ;\\n281 [label=\"gini = 0.0\\\\nsamples = 1\\\\nvalue = [0, 0, 0, 0, 1, 0, 0]\", fillcolor=\"#3956e5\"] ;\\n279 -> 281 ;\\n282 [label=\"gini = 0.0\\\\nsamples = 1\\\\nvalue = [0, 1, 0, 0, 0, 0, 0]\", fillcolor=\"#b7e539\"] ;\\n276 -> 282 ;\\n283 [label=\"gini = 0.0\\\\nsamples = 4\\\\nvalue = [0, 6, 0, 0, 0, 0, 0]\", fillcolor=\"#b7e539\"] ;\\n275 -> 283 ;\\n284 [label=\"loudness <= -5.972\\\\ngini = 0.211\\\\nsamples = 14\\\\nvalue = [0, 3, 0, 0, 22, 0, 0]\", fillcolor=\"#546de9\"] ;\\n274 -> 284 ;\\n285 [label=\"danceability <= 0.636\\\\ngini = 0.49\\\\nsamples = 7\\\\nvalue = [0, 3, 0, 0, 4, 0, 0]\", fillcolor=\"#ced5f8\"] ;\\n284 -> 285 ;\\n286 [label=\"energy <= 0.614\\\\ngini = 0.48\\\\nsamples = 5\\\\nvalue = [0, 3, 0, 0, 2, 0, 0]\", fillcolor=\"#e7f6bd\"] ;\\n285 -> 286 ;\\n287 [label=\"duration_ms <= 213833.156\\\\ngini = 0.444\\\\nsamples = 3\\\\nvalue = [0, 1, 0, 0, 2, 0, 0]\", fillcolor=\"#9caaf2\"] ;\\n286 -> 287 ;\\n288 [label=\"gini = 0.0\\\\nsamples = 1\\\\nvalue = [0, 0, 0, 0, 1, 0, 0]\", fillcolor=\"#3956e5\"] ;\\n287 -> 288 ;\\n289 [label=\"energy <= -0.194\\\\ngini = 0.5\\\\nsamples = 2\\\\nvalue = [0, 1, 0, 0, 1, 0, 0]\", fillcolor=\"#ffffff\"] ;\\n287 -> 289 ;\\n290 [label=\"gini = 0.0\\\\nsamples = 1\\\\nvalue = [0, 1, 0, 0, 0, 0, 0]\", fillcolor=\"#b7e539\"] ;\\n289 -> 290 ;\\n291 [label=\"gini = 0.0\\\\nsamples = 1\\\\nvalue = [0, 0, 0, 0, 1, 0, 0]\", fillcolor=\"#3956e5\"] ;\\n289 -> 291 ;\\n292 [label=\"gini = 0.0\\\\nsamples = 2\\\\nvalue = [0, 2, 0, 0, 0, 0, 0]\", fillcolor=\"#b7e539\"] ;\\n286 -> 292 ;\\n293 [label=\"gini = 0.0\\\\nsamples = 2\\\\nvalue = [0, 0, 0, 0, 2, 0, 0]\", fillcolor=\"#3956e5\"] ;\\n285 -> 293 ;\\n294 [label=\"gini = 0.0\\\\nsamples = 7\\\\nvalue = [0, 0, 0, 0, 18, 0, 0]\", fillcolor=\"#3956e5\"] ;\\n284 -> 294 ;\\n295 [label=\"energy <= 0.831\\\\ngini = 0.314\\\\nsamples = 8\\\\nvalue = [1, 9, 0, 0, 1, 0, 0]\", fillcolor=\"#c5ea61\"] ;\\n273 -> 295 ;\\n296 [label=\"acousticness <= 0.396\\\\ngini = 0.18\\\\nsamples = 7\\\\nvalue = [1, 9, 0, 0, 0, 0, 0]\", fillcolor=\"#bfe84f\"] ;\\n295 -> 296 ;\\n297 [label=\"gini = 0.0\\\\nsamples = 5\\\\nvalue = [0, 8, 0, 0, 0, 0, 0]\", fillcolor=\"#b7e539\"] ;\\n296 -> 297 ;\\n298 [label=\"popularity <= 46.367\\\\ngini = 0.5\\\\nsamples = 2\\\\nvalue = [1, 1, 0, 0, 0, 0, 0]\", fillcolor=\"#ffffff\"] ;\\n296 -> 298 ;\\n299 [label=\"gini = 0.0\\\\nsamples = 1\\\\nvalue = [0, 1, 0, 0, 0, 0, 0]\", fillcolor=\"#b7e539\"] ;\\n298 -> 299 ;\\n300 [label=\"gini = 0.0\\\\nsamples = 1\\\\nvalue = [1, 0, 0, 0, 0, 0, 0]\", fillcolor=\"#e58139\"] ;\\n298 -> 300 ;\\n301 [label=\"gini = 0.0\\\\nsamples = 1\\\\nvalue = [0, 0, 0, 0, 1, 0, 0]\", fillcolor=\"#3956e5\"] ;\\n295 -> 301 ;\\n302 [label=\"loudness <= -8.197\\\\ngini = 0.62\\\\nsamples = 28\\\\nvalue = [7, 25, 3, 0, 11, 0, 0]\", fillcolor=\"#e2f5b0\"] ;\\n252 -> 302 ;\\n303 [label=\"instrumentalness <= 0.0\\\\ngini = 0.632\\\\nsamples = 13\\\\nvalue = [6, 4, 0, 0, 9, 0, 0]\", fillcolor=\"#d1d8f9\"] ;\\n302 -> 303 ;\\n304 [label=\"liveness <= 0.117\\\\ngini = 0.551\\\\nsamples = 12\\\\nvalue = [2, 4, 0, 0, 9, 0, 0]\", fillcolor=\"#a5b2f3\"] ;\\n303 -> 304 ;\\n305 [label=\"gini = 0.0\\\\nsamples = 3\\\\nvalue = [0, 3, 0, 0, 0, 0, 0]\", fillcolor=\"#b7e539\"] ;\\n304 -> 305 ;\\n306 [label=\"speechiness <= 0.035\\\\ngini = 0.403\\\\nsamples = 9\\\\nvalue = [2, 1, 0, 0, 9, 0, 0]\", fillcolor=\"#7489ed\"] ;\\n304 -> 306 ;\\n307 [label=\"danceability <= 0.53\\\\ngini = 0.5\\\\nsamples = 2\\\\nvalue = [1, 1, 0, 0, 0, 0, 0]\", fillcolor=\"#ffffff\"] ;\\n306 -> 307 ;\\n308 [label=\"gini = 0.0\\\\nsamples = 1\\\\nvalue = [1, 0, 0, 0, 0, 0, 0]\", fillcolor=\"#e58139\"] ;\\n307 -> 308 ;\\n309 [label=\"gini = 0.0\\\\nsamples = 1\\\\nvalue = [0, 1, 0, 0, 0, 0, 0]\", fillcolor=\"#b7e539\"] ;\\n307 -> 309 ;\\n310 [label=\"tempo <= 177.823\\\\ngini = 0.18\\\\nsamples = 7\\\\nvalue = [1, 0, 0, 0, 9, 0, 0]\", fillcolor=\"#4f69e8\"] ;\\n306 -> 310 ;\\n311 [label=\"gini = 0.0\\\\nsamples = 4\\\\nvalue = [0, 0, 0, 0, 5, 0, 0]\", fillcolor=\"#3956e5\"] ;\\n310 -> 311 ;\\n312 [label=\"speechiness <= 0.055\\\\ngini = 0.32\\\\nsamples = 3\\\\nvalue = [1, 0, 0, 0, 4, 0, 0]\", fillcolor=\"#6a80ec\"] ;\\n310 -> 312 ;\\n313 [label=\"gini = 0.0\\\\nsamples = 2\\\\nvalue = [0, 0, 0, 0, 4, 0, 0]\", fillcolor=\"#3956e5\"] ;\\n312 -> 313 ;\\n314 [label=\"gini = 0.0\\\\nsamples = 1\\\\nvalue = [1, 0, 0, 0, 0, 0, 0]\", fillcolor=\"#e58139\"] ;\\n312 -> 314 ;\\n315 [label=\"gini = 0.0\\\\nsamples = 1\\\\nvalue = [4, 0, 0, 0, 0, 0, 0]\", fillcolor=\"#e58139\"] ;\\n303 -> 315 ;\\n316 [label=\"valence <= 0.323\\\\ngini = 0.376\\\\nsamples = 15\\\\nvalue = [1, 21, 3, 0, 2, 0, 0]\", fillcolor=\"#c9ec6a\"] ;\\n302 -> 316 ;\\n317 [label=\"gini = 0.0\\\\nsamples = 1\\\\nvalue = [0, 0, 3, 0, 0, 0, 0]\", fillcolor=\"#39e54d\"] ;\\n316 -> 317 ;\\n318 [label=\"valence <= 0.431\\\\ngini = 0.226\\\\nsamples = 14\\\\nvalue = [1, 21, 0, 0, 2, 0, 0]\", fillcolor=\"#c1e954\"] ;\\n316 -> 318 ;\\n319 [label=\"instrumentalness <= 0.0\\\\ngini = 0.5\\\\nsamples = 2\\\\nvalue = [1, 1, 0, 0, 0, 0, 0]\", fillcolor=\"#ffffff\"] ;\\n318 -> 319 ;\\n320 [label=\"gini = 0.0\\\\nsamples = 1\\\\nvalue = [0, 1, 0, 0, 0, 0, 0]\", fillcolor=\"#b7e539\"] ;\\n319 -> 320 ;\\n321 [label=\"gini = 0.0\\\\nsamples = 1\\\\nvalue = [1, 0, 0, 0, 0, 0, 0]\", fillcolor=\"#e58139\"] ;\\n319 -> 321 ;\\n322 [label=\"popularity <= 19.198\\\\ngini = 0.165\\\\nsamples = 12\\\\nvalue = [0, 20, 0, 0, 2, 0, 0]\", fillcolor=\"#bee84d\"] ;\\n318 -> 322 ;\\n323 [label=\"gini = 0.0\\\\nsamples = 1\\\\nvalue = [0, 0, 0, 0, 1, 0, 0]\", fillcolor=\"#3956e5\"] ;\\n322 -> 323 ;\\n324 [label=\"speechiness <= 0.063\\\\ngini = 0.091\\\\nsamples = 11\\\\nvalue = [0, 20, 0, 0, 1, 0, 0]\", fillcolor=\"#bbe643\"] ;\\n322 -> 324 ;\\n325 [label=\"gini = 0.0\\\\nsamples = 9\\\\nvalue = [0, 18, 0, 0, 0, 0, 0]\", fillcolor=\"#b7e539\"] ;\\n324 -> 325 ;\\n326 [label=\"duration_ms <= 164294.625\\\\ngini = 0.444\\\\nsamples = 2\\\\nvalue = [0, 2, 0, 0, 1, 0, 0]\", fillcolor=\"#dbf29c\"] ;\\n324 -> 326 ;\\n327 [label=\"gini = 0.0\\\\nsamples = 1\\\\nvalue = [0, 0, 0, 0, 1, 0, 0]\", fillcolor=\"#3956e5\"] ;\\n326 -> 327 ;\\n328 [label=\"gini = 0.0\\\\nsamples = 1\\\\nvalue = [0, 2, 0, 0, 0, 0, 0]\", fillcolor=\"#b7e539\"] ;\\n326 -> 328 ;\\n329 [label=\"instrumentalness <= 0.019\\\\ngini = 0.486\\\\nsamples = 65\\\\nvalue = [15, 4, 8, 0, 68, 1, 2]\", fillcolor=\"#8193ee\"] ;\\n251 -> 329 ;\\n330 [label=\"energy <= 0.718\\\\ngini = 0.36\\\\nsamples = 35\\\\nvalue = [3, 1, 4, 0, 38, 0, 2]\", fillcolor=\"#667ceb\"] ;\\n329 -> 330 ;\\n331 [label=\"acousticness <= 0.169\\\\ngini = 0.284\\\\nsamples = 31\\\\nvalue = [3, 0, 2, 0, 37, 0, 2]\", fillcolor=\"#5b73e9\"] ;\\n330 -> 331 ;\\n332 [label=\"acousticness <= 0.115\\\\ngini = 0.667\\\\nsamples = 4\\\\nvalue = [2, 0, 0, 0, 2, 0, 2]\", fillcolor=\"#ffffff\"] ;\\n331 -> 332 ;\\n333 [label=\"energy <= -0.287\\\\ngini = 0.5\\\\nsamples = 3\\\\nvalue = [0, 0, 0, 0, 2, 0, 2]\", fillcolor=\"#ffffff\"] ;\\n332 -> 333 ;\\n334 [label=\"gini = 0.0\\\\nsamples = 1\\\\nvalue = [0, 0, 0, 0, 0, 0, 2]\", fillcolor=\"#e53986\"] ;\\n333 -> 334 ;\\n335 [label=\"gini = 0.0\\\\nsamples = 2\\\\nvalue = [0, 0, 0, 0, 2, 0, 0]\", fillcolor=\"#3956e5\"] ;\\n333 -> 335 ;\\n336 [label=\"gini = 0.0\\\\nsamples = 1\\\\nvalue = [2, 0, 0, 0, 0, 0, 0]\", fillcolor=\"#e58139\"] ;\\n332 -> 336 ;\\n337 [label=\"liveness <= 0.153\\\\ngini = 0.148\\\\nsamples = 27\\\\nvalue = [1, 0, 2, 0, 35, 0, 0]\", fillcolor=\"#4a64e7\"] ;\\n331 -> 337 ;\\n338 [label=\"gini = 0.0\\\\nsamples = 12\\\\nvalue = [0, 0, 0, 0, 19, 0, 0]\", fillcolor=\"#3956e5\"] ;\\n337 -> 338 ;\\n339 [label=\"speechiness <= 0.048\\\\ngini = 0.277\\\\nsamples = 15\\\\nvalue = [1, 0, 2, 0, 16, 0, 0]\", fillcolor=\"#5c74ea\"] ;\\n337 -> 339 ;\\n340 [label=\"duration_ms <= 251545.477\\\\ngini = 0.117\\\\nsamples = 12\\\\nvalue = [1, 0, 0, 0, 15, 0, 0]\", fillcolor=\"#4661e7\"] ;\\n339 -> 340 ;\\n341 [label=\"gini = 0.0\\\\nsamples = 10\\\\nvalue = [0, 0, 0, 0, 14, 0, 0]\", fillcolor=\"#3956e5\"] ;\\n340 -> 341 ;\\n342 [label=\"duration_ms <= 277432.234\\\\ngini = 0.5\\\\nsamples = 2\\\\nvalue = [1, 0, 0, 0, 1, 0, 0]\", fillcolor=\"#ffffff\"] ;\\n340 -> 342 ;\\n343 [label=\"gini = 0.0\\\\nsamples = 1\\\\nvalue = [1, 0, 0, 0, 0, 0, 0]\", fillcolor=\"#e58139\"] ;\\n342 -> 343 ;\\n344 [label=\"gini = 0.0\\\\nsamples = 1\\\\nvalue = [0, 0, 0, 0, 1, 0, 0]\", fillcolor=\"#3956e5\"] ;\\n342 -> 344 ;\\n345 [label=\"acousticness <= 0.425\\\\ngini = 0.444\\\\nsamples = 3\\\\nvalue = [0, 0, 2, 0, 1, 0, 0]\", fillcolor=\"#9cf2a6\"] ;\\n339 -> 345 ;\\n346 [label=\"gini = 0.0\\\\nsamples = 1\\\\nvalue = [0, 0, 1, 0, 0, 0, 0]\", fillcolor=\"#39e54d\"] ;\\n345 -> 346 ;\\n347 [label=\"liveness <= 0.193\\\\ngini = 0.5\\\\nsamples = 2\\\\nvalue = [0, 0, 1, 0, 1, 0, 0]\", fillcolor=\"#ffffff\"] ;\\n345 -> 347 ;\\n348 [label=\"gini = 0.0\\\\nsamples = 1\\\\nvalue = [0, 0, 1, 0, 0, 0, 0]\", fillcolor=\"#39e54d\"] ;\\n347 -> 348 ;\\n349 [label=\"gini = 0.0\\\\nsamples = 1\\\\nvalue = [0, 0, 0, 0, 1, 0, 0]\", fillcolor=\"#3956e5\"] ;\\n347 -> 349 ;\\n350 [label=\"liveness <= 0.178\\\\ngini = 0.625\\\\nsamples = 4\\\\nvalue = [0, 1, 2, 0, 1, 0, 0]\", fillcolor=\"#bdf6c4\"] ;\\n330 -> 350 ;\\n351 [label=\"loudness <= -7.68\\\\ngini = 0.5\\\\nsamples = 2\\\\nvalue = [0, 1, 0, 0, 1, 0, 0]\", fillcolor=\"#ffffff\"] ;\\n350 -> 351 ;\\n352 [label=\"gini = 0.0\\\\nsamples = 1\\\\nvalue = [0, 0, 0, 0, 1, 0, 0]\", fillcolor=\"#3956e5\"] ;\\n351 -> 352 ;\\n353 [label=\"gini = 0.0\\\\nsamples = 1\\\\nvalue = [0, 1, 0, 0, 0, 0, 0]\", fillcolor=\"#b7e539\"] ;\\n351 -> 353 ;\\n354 [label=\"gini = 0.0\\\\nsamples = 2\\\\nvalue = [0, 0, 2, 0, 0, 0, 0]\", fillcolor=\"#39e54d\"] ;\\n350 -> 354 ;\\n355 [label=\"popularity <= 31.011\\\\ngini = 0.572\\\\nsamples = 30\\\\nvalue = [12, 3, 4, 0, 30, 1, 0]\", fillcolor=\"#a1aff3\"] ;\\n329 -> 355 ;\\n356 [label=\"acousticness <= 0.51\\\\ngini = 0.486\\\\nsamples = 6\\\\nvalue = [8, 0, 3, 0, 0, 1, 0]\", fillcolor=\"#f1b991\"] ;\\n355 -> 356 ;\\n357 [label=\"valence <= 0.461\\\\ngini = 0.375\\\\nsamples = 3\\\\nvalue = [0, 0, 3, 0, 0, 1, 0]\", fillcolor=\"#7bee88\"] ;\\n356 -> 357 ;\\n358 [label=\"gini = 0.0\\\\nsamples = 2\\\\nvalue = [0, 0, 3, 0, 0, 0, 0]\", fillcolor=\"#39e54d\"] ;\\n357 -> 358 ;\\n359 [label=\"gini = 0.0\\\\nsamples = 1\\\\nvalue = [0, 0, 0, 0, 0, 1, 0]\", fillcolor=\"#b139e5\"] ;\\n357 -> 359 ;\\n360 [label=\"gini = 0.0\\\\nsamples = 3\\\\nvalue = [8, 0, 0, 0, 0, 0, 0]\", fillcolor=\"#e58139\"] ;\\n356 -> 360 ;\\n361 [label=\"loudness <= -9.536\\\\ngini = 0.359\\\\nsamples = 24\\\\nvalue = [4, 3, 1, 0, 30, 0, 0]\", fillcolor=\"#687eeb\"] ;\\n355 -> 361 ;\\n362 [label=\"popularity <= 49.001\\\\ngini = 0.227\\\\nsamples = 14\\\\nvalue = [0, 3, 0, 0, 20, 0, 0]\", fillcolor=\"#576fe9\"] ;\\n361 -> 362 ;\\n363 [label=\"popularity <= 43.207\\\\ngini = 0.165\\\\nsamples = 13\\\\nvalue = [0, 2, 0, 0, 20, 0, 0]\", fillcolor=\"#4d67e8\"] ;\\n362 -> 363 ;\\n364 [label=\"gini = 0.0\\\\nsamples = 8\\\\nvalue = [0, 0, 0, 0, 15, 0, 0]\", fillcolor=\"#3956e5\"] ;\\n363 -> 364 ;\\n365 [label=\"tempo <= 140.013\\\\ngini = 0.408\\\\nsamples = 5\\\\nvalue = [0, 2, 0, 0, 5, 0, 0]\", fillcolor=\"#889aef\"] ;\\n363 -> 365 ;\\n366 [label=\"energy <= 0.524\\\\ngini = 0.5\\\\nsamples = 3\\\\nvalue = [0, 2, 0, 0, 2, 0, 0]\", fillcolor=\"#ffffff\"] ;\\n365 -> 366 ;\\n367 [label=\"gini = 0.0\\\\nsamples = 1\\\\nvalue = [0, 2, 0, 0, 0, 0, 0]\", fillcolor=\"#b7e539\"] ;\\n366 -> 367 ;\\n368 [label=\"gini = 0.0\\\\nsamples = 2\\\\nvalue = [0, 0, 0, 0, 2, 0, 0]\", fillcolor=\"#3956e5\"] ;\\n366 -> 368 ;\\n369 [label=\"gini = 0.0\\\\nsamples = 2\\\\nvalue = [0, 0, 0, 0, 3, 0, 0]\", fillcolor=\"#3956e5\"] ;\\n365 -> 369 ;\\n370 [label=\"gini = 0.0\\\\nsamples = 1\\\\nvalue = [0, 1, 0, 0, 0, 0, 0]\", fillcolor=\"#b7e539\"] ;\\n362 -> 370 ;\\n371 [label=\"valence <= 0.638\\\\ngini = 0.48\\\\nsamples = 10\\\\nvalue = [4, 0, 1, 0, 10, 0, 0]\", fillcolor=\"#93a3f1\"] ;\\n361 -> 371 ;\\n372 [label=\"instrumentalness <= 0.032\\\\ngini = 0.18\\\\nsamples = 7\\\\nvalue = [0, 0, 1, 0, 9, 0, 0]\", fillcolor=\"#4f69e8\"] ;\\n371 -> 372 ;\\n373 [label=\"gini = 0.0\\\\nsamples = 1\\\\nvalue = [0, 0, 1, 0, 0, 0, 0]\", fillcolor=\"#39e54d\"] ;\\n372 -> 373 ;\\n374 [label=\"gini = 0.0\\\\nsamples = 6\\\\nvalue = [0, 0, 0, 0, 9, 0, 0]\", fillcolor=\"#3956e5\"] ;\\n372 -> 374 ;\\n375 [label=\"speechiness <= 0.038\\\\ngini = 0.32\\\\nsamples = 3\\\\nvalue = [4, 0, 0, 0, 1, 0, 0]\", fillcolor=\"#eca06a\"] ;\\n371 -> 375 ;\\n376 [label=\"gini = 0.0\\\\nsamples = 1\\\\nvalue = [2, 0, 0, 0, 0, 0, 0]\", fillcolor=\"#e58139\"] ;\\n375 -> 376 ;\\n377 [label=\"popularity <= 41.294\\\\ngini = 0.444\\\\nsamples = 2\\\\nvalue = [2, 0, 0, 0, 1, 0, 0]\", fillcolor=\"#f2c09c\"] ;\\n375 -> 377 ;\\n378 [label=\"gini = 0.0\\\\nsamples = 1\\\\nvalue = [0, 0, 0, 0, 1, 0, 0]\", fillcolor=\"#3956e5\"] ;\\n377 -> 378 ;\\n379 [label=\"gini = 0.0\\\\nsamples = 1\\\\nvalue = [2, 0, 0, 0, 0, 0, 0]\", fillcolor=\"#e58139\"] ;\\n377 -> 379 ;\\n380 [label=\"acousticness <= 0.718\\\\ngini = 0.474\\\\nsamples = 757\\\\nvalue = [6, 96, 7, 12, 67, 163, 841]\", fillcolor=\"#ee7daf\"] ;\\n202 -> 380 ;\\n381 [label=\"danceability <= 0.658\\\\ngini = 0.457\\\\nsamples = 677\\\\nvalue = [5, 92, 7, 12, 33, 155, 768]\", fillcolor=\"#ee7bae\"] ;\\n380 -> 381 ;\\n382 [label=\"liveness <= 0.042\\\\ngini = 0.423\\\\nsamples = 486\\\\nvalue = [5, 73, 7, 7, 29, 73, 570]\", fillcolor=\"#ec71a8\"] ;\\n381 -> 382 ;\\n383 [label=\"energy <= 0.821\\\\ngini = 0.444\\\\nsamples = 4\\\\nvalue = [0, 4, 0, 0, 0, 0, 2]\", fillcolor=\"#dbf29c\"] ;\\n382 -> 383 ;\\n384 [label=\"gini = 0.0\\\\nsamples = 3\\\\nvalue = [0, 4, 0, 0, 0, 0, 0]\", fillcolor=\"#b7e539\"] ;\\n383 -> 384 ;\\n385 [label=\"gini = 0.0\\\\nsamples = 1\\\\nvalue = [0, 0, 0, 0, 0, 0, 2]\", fillcolor=\"#e53986\"] ;\\n383 -> 385 ;\\n386 [label=\"popularity <= 60.365\\\\ngini = 0.419\\\\nsamples = 482\\\\nvalue = [5, 69, 7, 7, 29, 73, 568]\", fillcolor=\"#ec70a8\"] ;\\n382 -> 386 ;\\n387 [label=\"speechiness <= 0.079\\\\ngini = 0.567\\\\nsamples = 190\\\\nvalue = [5, 51, 4, 0, 27, 23, 181]\", fillcolor=\"#f194bd\"] ;\\n386 -> 387 ;\\n388 [label=\"speechiness <= 0.033\\\\ngini = 0.549\\\\nsamples = 184\\\\nvalue = [5, 46, 4, 0, 27, 19, 180]\", fillcolor=\"#f08eba\"] ;\\n387 -> 388 ;\\n389 [label=\"energy <= 0.569\\\\ngini = 0.358\\\\nsamples = 49\\\\nvalue = [0, 8, 2, 0, 3, 2, 57]\", fillcolor=\"#eb67a2\"] ;\\n388 -> 389 ;\\n390 [label=\"liveness <= 0.325\\\\ngini = 0.606\\\\nsamples = 19\\\\nvalue = [0, 7, 2, 0, 3, 0, 15]\", fillcolor=\"#f5b0cf\"] ;\\n389 -> 390 ;\\n391 [label=\"valence <= 0.622\\\\ngini = 0.48\\\\nsamples = 17\\\\nvalue = [0, 7, 0, 0, 1, 0, 15]\", fillcolor=\"#f29cc2\"] ;\\n390 -> 391 ;\\n392 [label=\"tempo <= 147.424\\\\ngini = 0.555\\\\nsamples = 11\\\\nvalue = [0, 7, 0, 0, 1, 0, 8]\", fillcolor=\"#fce9f2\"] ;\\n391 -> 392 ;\\n393 [label=\"popularity <= 53.434\\\\ngini = 0.521\\\\nsamples = 9\\\\nvalue = [0, 4, 0, 0, 1, 0, 8]\", fillcolor=\"#f3a7c9\"] ;\\n392 -> 393 ;\\n394 [label=\"gini = 0.0\\\\nsamples = 2\\\\nvalue = [0, 3, 0, 0, 0, 0, 0]\", fillcolor=\"#b7e539\"] ;\\n393 -> 394 ;\\n395 [label=\"loudness <= -11.963\\\\ngini = 0.34\\\\nsamples = 7\\\\nvalue = [0, 1, 0, 0, 1, 0, 8]\", fillcolor=\"#eb65a1\"] ;\\n393 -> 395 ;\\n396 [label=\"gini = 0.0\\\\nsamples = 1\\\\nvalue = [0, 0, 0, 0, 1, 0, 0]\", fillcolor=\"#3956e5\"] ;\\n395 -> 396 ;\\n397 [label=\"loudness <= -3.823\\\\ngini = 0.198\\\\nsamples = 6\\\\nvalue = [0, 1, 0, 0, 0, 0, 8]\", fillcolor=\"#e85295\"] ;\\n395 -> 397 ;\\n398 [label=\"gini = 0.0\\\\nsamples = 5\\\\nvalue = [0, 0, 0, 0, 0, 0, 8]\", fillcolor=\"#e53986\"] ;\\n397 -> 398 ;\\n399 [label=\"gini = 0.0\\\\nsamples = 1\\\\nvalue = [0, 1, 0, 0, 0, 0, 0]\", fillcolor=\"#b7e539\"] ;\\n397 -> 399 ;\\n400 [label=\"gini = 0.0\\\\nsamples = 2\\\\nvalue = [0, 3, 0, 0, 0, 0, 0]\", fillcolor=\"#b7e539\"] ;\\n392 -> 400 ;\\n401 [label=\"gini = 0.0\\\\nsamples = 6\\\\nvalue = [0, 0, 0, 0, 0, 0, 7]\", fillcolor=\"#e53986\"] ;\\n391 -> 401 ;\\n402 [label=\"danceability <= 0.559\\\\ngini = 0.5\\\\nsamples = 2\\\\nvalue = [0, 0, 2, 0, 2, 0, 0]\", fillcolor=\"#ffffff\"] ;\\n390 -> 402 ;\\n403 [label=\"gini = 0.0\\\\nsamples = 1\\\\nvalue = [0, 0, 2, 0, 0, 0, 0]\", fillcolor=\"#39e54d\"] ;\\n402 -> 403 ;\\n404 [label=\"gini = 0.0\\\\nsamples = 1\\\\nvalue = [0, 0, 0, 0, 2, 0, 0]\", fillcolor=\"#3956e5\"] ;\\n402 -> 404 ;\\n405 [label=\"loudness <= -2.553\\\\ngini = 0.126\\\\nsamples = 30\\\\nvalue = [0, 1, 0, 0, 0, 2, 42]\", fillcolor=\"#e7478e\"] ;\\n389 -> 405 ;\\n406 [label=\"popularity <= 56.011\\\\ngini = 0.087\\\\nsamples = 29\\\\nvalue = [0, 0, 0, 0, 0, 2, 42]\", fillcolor=\"#e6428c\"] ;\\n405 -> 406 ;\\n407 [label=\"valence <= 0.548\\\\ngini = 0.18\\\\nsamples = 14\\\\nvalue = [0, 0, 0, 0, 0, 2, 18]\", fillcolor=\"#e84f93\"] ;\\n406 -> 407 ;\\n408 [label=\"danceability <= 0.611\\\\ngini = 0.408\\\\nsamples = 6\\\\nvalue = [0, 0, 0, 0, 0, 2, 5]\", fillcolor=\"#ef88b6\"] ;\\n407 -> 408 ;\\n409 [label=\"gini = 0.0\\\\nsamples = 4\\\\nvalue = [0, 0, 0, 0, 0, 0, 5]\", fillcolor=\"#e53986\"] ;\\n408 -> 409 ;\\n410 [label=\"gini = 0.0\\\\nsamples = 2\\\\nvalue = [0, 0, 0, 0, 0, 2, 0]\", fillcolor=\"#b139e5\"] ;\\n408 -> 410 ;\\n411 [label=\"gini = 0.0\\\\nsamples = 8\\\\nvalue = [0, 0, 0, 0, 0, 0, 13]\", fillcolor=\"#e53986\"] ;\\n407 -> 411 ;\\n412 [label=\"gini = 0.0\\\\nsamples = 15\\\\nvalue = [0, 0, 0, 0, 0, 0, 24]\", fillcolor=\"#e53986\"] ;\\n406 -> 412 ;\\n413 [label=\"gini = 0.0\\\\nsamples = 1\\\\nvalue = [0, 1, 0, 0, 0, 0, 0]\", fillcolor=\"#b7e539\"] ;\\n405 -> 413 ;\\n414 [label=\"energy <= 0.794\\\\ngini = 0.6\\\\nsamples = 135\\\\nvalue = [5, 38, 2, 0, 24, 17, 123]\", fillcolor=\"#f29dc3\"] ;\\n388 -> 414 ;\\n415 [label=\"acousticness <= 0.278\\\\ngini = 0.632\\\\nsamples = 121\\\\nvalue = [5, 37, 2, 0, 22, 16, 101]\", fillcolor=\"#f4a8ca\"] ;\\n414 -> 415 ;\\n416 [label=\"duration_ms <= 290892.719\\\\ngini = 0.559\\\\nsamples = 76\\\\nvalue = [5, 15, 2, 0, 7, 12, 72]\", fillcolor=\"#f08cb9\"] ;\\n415 -> 416 ;\\n417 [label=\"instrumentalness <= 0.17\\\\ngini = 0.538\\\\nsamples = 74\\\\nvalue = [5, 11, 2, 0, 7, 12, 71]\", fillcolor=\"#ef85b5\"] ;\\n416 -> 417 ;\\n418 [label=\"liveness <= 0.738\\\\ngini = 0.507\\\\nsamples = 71\\\\nvalue = [5, 9, 1, 0, 6, 12, 71]\", fillcolor=\"#ee80b1\"] ;\\n417 -> 418 ;\\n419 [label=\"valence <= 0.539\\\\ngini = 0.49\\\\nsamples = 70\\\\nvalue = [5, 9, 1, 0, 4, 12, 71]\", fillcolor=\"#ee7db0\"] ;\\n418 -> 419 ;\\n420 [label=\"danceability <= 0.647\\\\ngini = 0.676\\\\nsamples = 33\\\\nvalue = [5, 4, 1, 0, 4, 9, 24]\", fillcolor=\"#f5b1cf\"] ;\\n419 -> 420 ;\\n421 [label=\"speechiness <= 0.057\\\\ngini = 0.654\\\\nsamples = 32\\\\nvalue = [5, 4, 1, 0, 4, 6, 24]\", fillcolor=\"#f3a1c6\"] ;\\n420 -> 421 ;\\n422 [label=\"loudness <= -7.382\\\\ngini = 0.622\\\\nsamples = 27\\\\nvalue = [5, 4, 1, 0, 4, 2, 22]\", fillcolor=\"#f299c1\"] ;\\n421 -> 422 ;\\n423 [label=\"liveness <= 0.08\\\\ngini = 0.366\\\\nsamples = 15\\\\nvalue = [0, 1, 1, 0, 1, 1, 15]\", fillcolor=\"#eb65a1\"] ;\\n422 -> 423 ;\\n424 [label=\"gini = 0.0\\\\nsamples = 1\\\\nvalue = [0, 0, 0, 0, 1, 0, 0]\", fillcolor=\"#3956e5\"] ;\\n423 -> 424 ;\\n425 [label=\"danceability <= 0.586\\\\ngini = 0.296\\\\nsamples = 14\\\\nvalue = [0, 1, 1, 0, 0, 1, 15]\", fillcolor=\"#ea5c9b\"] ;\\n423 -> 425 ;\\n426 [label=\"valence <= 0.488\\\\ngini = 0.227\\\\nsamples = 12\\\\nvalue = [0, 1, 1, 0, 0, 0, 14]\", fillcolor=\"#e85396\"] ;\\n425 -> 426 ;\\n427 [label=\"tempo <= 131.286\\\\ngini = 0.124\\\\nsamples = 11\\\\nvalue = [0, 0, 1, 0, 0, 0, 14]\", fillcolor=\"#e7478f\"] ;\\n426 -> 427 ;\\n428 [label=\"acousticness <= 0.049\\\\ngini = 0.245\\\\nsamples = 6\\\\nvalue = [0, 0, 1, 0, 0, 0, 6]\", fillcolor=\"#e95a9a\"] ;\\n427 -> 428 ;\\n429 [label=\"gini = 0.0\\\\nsamples = 1\\\\nvalue = [0, 0, 1, 0, 0, 0, 0]\", fillcolor=\"#39e54d\"] ;\\n428 -> 429 ;\\n430 [label=\"gini = 0.0\\\\nsamples = 5\\\\nvalue = [0, 0, 0, 0, 0, 0, 6]\", fillcolor=\"#e53986\"] ;\\n428 -> 430 ;\\n431 [label=\"gini = 0.0\\\\nsamples = 5\\\\nvalue = [0, 0, 0, 0, 0, 0, 8]\", fillcolor=\"#e53986\"] ;\\n427 -> 431 ;\\n432 [label=\"gini = 0.0\\\\nsamples = 1\\\\nvalue = [0, 1, 0, 0, 0, 0, 0]\", fillcolor=\"#b7e539\"] ;\\n426 -> 432 ;\\n433 [label=\"speechiness <= 0.036\\\\ngini = 0.5\\\\nsamples = 2\\\\nvalue = [0, 0, 0, 0, 0, 1, 1]\", fillcolor=\"#ffffff\"] ;\\n425 -> 433 ;\\n434 [label=\"gini = 0.0\\\\nsamples = 1\\\\nvalue = [0, 0, 0, 0, 0, 0, 1]\", fillcolor=\"#e53986\"] ;\\n433 -> 434 ;\\n435 [label=\"gini = 0.0\\\\nsamples = 1\\\\nvalue = [0, 0, 0, 0, 0, 1, 0]\", fillcolor=\"#b139e5\"] ;\\n433 -> 435 ;\\n436 [label=\"instrumentalness <= 0.006\\\\ngini = 0.742\\\\nsamples = 12\\\\nvalue = [5, 3, 0, 0, 3, 1, 7]\", fillcolor=\"#fbe3ee\"] ;\\n422 -> 436 ;\\n437 [label=\"acousticness <= 0.025\\\\ngini = 0.719\\\\nsamples = 11\\\\nvalue = [2, 3, 0, 0, 3, 1, 7]\", fillcolor=\"#f7c2da\"] ;\\n436 -> 437 ;\\n438 [label=\"energy <= 0.642\\\\ngini = 0.722\\\\nsamples = 4\\\\nvalue = [2, 0, 0, 0, 2, 1, 1]\", fillcolor=\"#ffffff\"] ;\\n437 -> 438 ;\\n439 [label=\"gini = 0.0\\\\nsamples = 1\\\\nvalue = [0, 0, 0, 0, 2, 0, 0]\", fillcolor=\"#3956e5\"] ;\\n438 -> 439 ;\\n440 [label=\"duration_ms <= 103820.547\\\\ngini = 0.625\\\\nsamples = 3\\\\nvalue = [2, 0, 0, 0, 0, 1, 1]\", fillcolor=\"#f6d5bd\"] ;\\n438 -> 440 ;\\n441 [label=\"gini = 0.0\\\\nsamples = 1\\\\nvalue = [2, 0, 0, 0, 0, 0, 0]\", fillcolor=\"#e58139\"] ;\\n440 -> 441 ;\\n442 [label=\"instrumentalness <= 0.0\\\\ngini = 0.5\\\\nsamples = 2\\\\nvalue = [0, 0, 0, 0, 0, 1, 1]\", fillcolor=\"#ffffff\"] ;\\n440 -> 442 ;\\n443 [label=\"gini = 0.0\\\\nsamples = 1\\\\nvalue = [0, 0, 0, 0, 0, 1, 0]\", fillcolor=\"#b139e5\"] ;\\n442 -> 443 ;\\n444 [label=\"gini = 0.0\\\\nsamples = 1\\\\nvalue = [0, 0, 0, 0, 0, 0, 1]\", fillcolor=\"#e53986\"] ;\\n442 -> 444 ;\\n445 [label=\"speechiness <= 0.035\\\\ngini = 0.54\\\\nsamples = 7\\\\nvalue = [0, 3, 0, 0, 1, 0, 6]\", fillcolor=\"#f4aacb\"] ;\\n437 -> 445 ;\\n446 [label=\"gini = 0.0\\\\nsamples = 2\\\\nvalue = [0, 2, 0, 0, 0, 0, 0]\", fillcolor=\"#b7e539\"] ;\\n445 -> 446 ;\\n447 [label=\"acousticness <= 0.208\\\\ngini = 0.406\\\\nsamples = 5\\\\nvalue = [0, 1, 0, 0, 1, 0, 6]\", fillcolor=\"#ec72a9\"] ;\\n445 -> 447 ;\\n448 [label=\"instrumentalness <= 0.001\\\\ngini = 0.245\\\\nsamples = 4\\\\nvalue = [0, 0, 0, 0, 1, 0, 6]\", fillcolor=\"#e95a9a\"] ;\\n447 -> 448 ;\\n449 [label=\"gini = 0.0\\\\nsamples = 3\\\\nvalue = [0, 0, 0, 0, 0, 0, 6]\", fillcolor=\"#e53986\"] ;\\n448 -> 449 ;\\n450 [label=\"gini = 0.0\\\\nsamples = 1\\\\nvalue = [0, 0, 0, 0, 1, 0, 0]\", fillcolor=\"#3956e5\"] ;\\n448 -> 450 ;\\n451 [label=\"gini = 0.0\\\\nsamples = 1\\\\nvalue = [0, 1, 0, 0, 0, 0, 0]\", fillcolor=\"#b7e539\"] ;\\n447 -> 451 ;\\n452 [label=\"gini = 0.0\\\\nsamples = 1\\\\nvalue = [3, 0, 0, 0, 0, 0, 0]\", fillcolor=\"#e58139\"] ;\\n436 -> 452 ;\\n453 [label=\"acousticness <= 0.113\\\\ngini = 0.444\\\\nsamples = 5\\\\nvalue = [0, 0, 0, 0, 0, 4, 2]\", fillcolor=\"#d89cf2\"] ;\\n421 -> 453 ;\\n454 [label=\"tempo <= 157.972\\\\ngini = 0.444\\\\nsamples = 3\\\\nvalue = [0, 0, 0, 0, 0, 1, 2]\", fillcolor=\"#f29cc2\"] ;\\n453 -> 454 ;\\n455 [label=\"gini = 0.0\\\\nsamples = 2\\\\nvalue = [0, 0, 0, 0, 0, 0, 2]\", fillcolor=\"#e53986\"] ;\\n454 -> 455 ;\\n456 [label=\"gini = 0.0\\\\nsamples = 1\\\\nvalue = [0, 0, 0, 0, 0, 1, 0]\", fillcolor=\"#b139e5\"] ;\\n454 -> 456 ;\\n457 [label=\"gini = 0.0\\\\nsamples = 2\\\\nvalue = [0, 0, 0, 0, 0, 3, 0]\", fillcolor=\"#b139e5\"] ;\\n453 -> 457 ;\\n458 [label=\"gini = 0.0\\\\nsamples = 1\\\\nvalue = [0, 0, 0, 0, 0, 3, 0]\", fillcolor=\"#b139e5\"] ;\\n420 -> 458 ;\\n459 [label=\"speechiness <= 0.041\\\\ngini = 0.259\\\\nsamples = 37\\\\nvalue = [0, 5, 0, 0, 0, 3, 47]\", fillcolor=\"#e95999\"] ;\\n419 -> 459 ;\\n460 [label=\"loudness <= -6.799\\\\ngini = 0.069\\\\nsamples = 17\\\\nvalue = [0, 1, 0, 0, 0, 0, 27]\", fillcolor=\"#e6408a\"] ;\\n459 -> 460 ;\\n461 [label=\"gini = 0.0\\\\nsamples = 10\\\\nvalue = [0, 0, 0, 0, 0, 0, 15]\", fillcolor=\"#e53986\"] ;\\n460 -> 461 ;\\n462 [label=\"acousticness <= 0.02\\\\ngini = 0.142\\\\nsamples = 7\\\\nvalue = [0, 1, 0, 0, 0, 0, 12]\", fillcolor=\"#e74990\"] ;\\n460 -> 462 ;\\n463 [label=\"gini = 0.0\\\\nsamples = 1\\\\nvalue = [0, 1, 0, 0, 0, 0, 0]\", fillcolor=\"#b7e539\"] ;\\n462 -> 463 ;\\n464 [label=\"gini = 0.0\\\\nsamples = 6\\\\nvalue = [0, 0, 0, 0, 0, 0, 12]\", fillcolor=\"#e53986\"] ;\\n462 -> 464 ;\\n465 [label=\"valence <= 0.936\\\\ngini = 0.417\\\\nsamples = 20\\\\nvalue = [0, 4, 0, 0, 0, 3, 20]\", fillcolor=\"#ed75ab\"] ;\\n459 -> 465 ;\\n466 [label=\"danceability <= 0.549\\\\ngini = 0.292\\\\nsamples = 18\\\\nvalue = [0, 2, 0, 0, 0, 2, 20]\", fillcolor=\"#ea5d9c\"] ;\\n465 -> 466 ;\\n467 [label=\"gini = 0.0\\\\nsamples = 10\\\\nvalue = [0, 0, 0, 0, 0, 0, 15]\", fillcolor=\"#e53986\"] ;\\n466 -> 467 ;\\n468 [label=\"liveness <= 0.226\\\\ngini = 0.593\\\\nsamples = 8\\\\nvalue = [0, 2, 0, 0, 0, 2, 5]\", fillcolor=\"#f4aacb\"] ;\\n466 -> 468 ;\\n469 [label=\"speechiness <= 0.05\\\\ngini = 0.408\\\\nsamples = 6\\\\nvalue = [0, 2, 0, 0, 0, 0, 5]\", fillcolor=\"#ef88b6\"] ;\\n468 -> 469 ;\\n470 [label=\"tempo <= 115.844\\\\ngini = 0.444\\\\nsamples = 3\\\\nvalue = [0, 2, 0, 0, 0, 0, 1]\", fillcolor=\"#dbf29c\"] ;\\n469 -> 470 ;\\n471 [label=\"gini = 0.0\\\\nsamples = 2\\\\nvalue = [0, 2, 0, 0, 0, 0, 0]\", fillcolor=\"#b7e539\"] ;\\n470 -> 471 ;\\n472 [label=\"gini = 0.0\\\\nsamples = 1\\\\nvalue = [0, 0, 0, 0, 0, 0, 1]\", fillcolor=\"#e53986\"] ;\\n470 -> 472 ;\\n473 [label=\"gini = 0.0\\\\nsamples = 3\\\\nvalue = [0, 0, 0, 0, 0, 0, 4]\", fillcolor=\"#e53986\"] ;\\n469 -> 473 ;\\n474 [label=\"gini = 0.0\\\\nsamples = 2\\\\nvalue = [0, 0, 0, 0, 0, 2, 0]\", fillcolor=\"#b139e5\"] ;\\n468 -> 474 ;\\n475 [label=\"speechiness <= 0.052\\\\ngini = 0.444\\\\nsamples = 2\\\\nvalue = [0, 2, 0, 0, 0, 1, 0]\", fillcolor=\"#dbf29c\"] ;\\n465 -> 475 ;\\n476 [label=\"gini = 0.0\\\\nsamples = 1\\\\nvalue = [0, 2, 0, 0, 0, 0, 0]\", fillcolor=\"#b7e539\"] ;\\n475 -> 476 ;\\n477 [label=\"gini = 0.0\\\\nsamples = 1\\\\nvalue = [0, 0, 0, 0, 0, 1, 0]\", fillcolor=\"#b139e5\"] ;\\n475 -> 477 ;\\n478 [label=\"gini = 0.0\\\\nsamples = 1\\\\nvalue = [0, 0, 0, 0, 2, 0, 0]\", fillcolor=\"#3956e5\"] ;\\n418 -> 478 ;\\n479 [label=\"danceability <= 0.557\\\\ngini = 0.625\\\\nsamples = 3\\\\nvalue = [0, 2, 1, 0, 1, 0, 0]\", fillcolor=\"#e7f6bd\"] ;\\n417 -> 479 ;\\n480 [label=\"gini = 0.0\\\\nsamples = 1\\\\nvalue = [0, 2, 0, 0, 0, 0, 0]\", fillcolor=\"#b7e539\"] ;\\n479 -> 480 ;\\n481 [label=\"instrumentalness <= 0.219\\\\ngini = 0.5\\\\nsamples = 2\\\\nvalue = [0, 0, 1, 0, 1, 0, 0]\", fillcolor=\"#ffffff\"] ;\\n479 -> 481 ;\\n482 [label=\"gini = 0.0\\\\nsamples = 1\\\\nvalue = [0, 0, 1, 0, 0, 0, 0]\", fillcolor=\"#39e54d\"] ;\\n481 -> 482 ;\\n483 [label=\"gini = 0.0\\\\nsamples = 1\\\\nvalue = [0, 0, 0, 0, 1, 0, 0]\", fillcolor=\"#3956e5\"] ;\\n481 -> 483 ;\\n484 [label=\"instrumentalness <= 0.0\\\\ngini = 0.32\\\\nsamples = 2\\\\nvalue = [0, 4, 0, 0, 0, 0, 1]\", fillcolor=\"#c9ec6a\"] ;\\n416 -> 484 ;\\n485 [label=\"gini = 0.0\\\\nsamples = 1\\\\nvalue = [0, 4, 0, 0, 0, 0, 0]\", fillcolor=\"#b7e539\"] ;\\n484 -> 485 ;\\n486 [label=\"gini = 0.0\\\\nsamples = 1\\\\nvalue = [0, 0, 0, 0, 0, 0, 1]\", fillcolor=\"#e53986\"] ;\\n484 -> 486 ;\\n487 [label=\"valence <= 0.633\\\\ngini = 0.68\\\\nsamples = 45\\\\nvalue = [0, 22, 0, 0, 15, 4, 29]\", fillcolor=\"#fbe2ed\"] ;\\n415 -> 487 ;\\n488 [label=\"loudness <= -6.435\\\\ngini = 0.688\\\\nsamples = 31\\\\nvalue = [0, 19, 0, 0, 11, 3, 13]\", fillcolor=\"#f2fadb\"] ;\\n487 -> 488 ;\\n489 [label=\"loudness <= -9.837\\\\ngini = 0.707\\\\nsamples = 22\\\\nvalue = [0, 7, 0, 0, 11, 3, 11]\", fillcolor=\"#ffffff\"] ;\\n488 -> 489 ;\\n490 [label=\"instrumentalness <= 0.0\\\\ngini = 0.645\\\\nsamples = 14\\\\nvalue = [0, 5, 0, 0, 11, 1, 5]\", fillcolor=\"#b9c3f6\"] ;\\n489 -> 490 ;\\n491 [label=\"danceability <= 0.629\\\\ngini = 0.278\\\\nsamples = 3\\\\nvalue = [0, 5, 0, 0, 0, 0, 1]\", fillcolor=\"#c5ea61\"] ;\\n490 -> 491 ;\\n492 [label=\"gini = 0.0\\\\nsamples = 2\\\\nvalue = [0, 5, 0, 0, 0, 0, 0]\", fillcolor=\"#b7e539\"] ;\\n491 -> 492 ;\\n493 [label=\"gini = 0.0\\\\nsamples = 1\\\\nvalue = [0, 0, 0, 0, 0, 0, 1]\", fillcolor=\"#e53986\"] ;\\n491 -> 493 ;\\n494 [label=\"liveness <= 0.1\\\\ngini = 0.461\\\\nsamples = 11\\\\nvalue = [0, 0, 0, 0, 11, 1, 4]\", fillcolor=\"#8c9cf0\"] ;\\n490 -> 494 ;\\n495 [label=\"speechiness <= 0.062\\\\ngini = 0.5\\\\nsamples = 2\\\\nvalue = [0, 0, 0, 0, 0, 1, 1]\", fillcolor=\"#ffffff\"] ;\\n494 -> 495 ;\\n496 [label=\"gini = 0.0\\\\nsamples = 1\\\\nvalue = [0, 0, 0, 0, 0, 0, 1]\", fillcolor=\"#e53986\"] ;\\n495 -> 496 ;\\n497 [label=\"gini = 0.0\\\\nsamples = 1\\\\nvalue = [0, 0, 0, 0, 0, 1, 0]\", fillcolor=\"#b139e5\"] ;\\n495 -> 497 ;\\n498 [label=\"tempo <= 90.239\\\\ngini = 0.337\\\\nsamples = 9\\\\nvalue = [0, 0, 0, 0, 11, 0, 3]\", fillcolor=\"#6f84ec\"] ;\\n494 -> 498 ;\\n499 [label=\"gini = 0.0\\\\nsamples = 3\\\\nvalue = [0, 0, 0, 0, 7, 0, 0]\", fillcolor=\"#3956e5\"] ;\\n498 -> 499 ;\\n500 [label=\"acousticness <= 0.421\\\\ngini = 0.49\\\\nsamples = 6\\\\nvalue = [0, 0, 0, 0, 4, 0, 3]\", fillcolor=\"#ced5f8\"] ;\\n498 -> 500 ;\\n501 [label=\"gini = 0.0\\\\nsamples = 1\\\\nvalue = [0, 0, 0, 0, 0, 0, 1]\", fillcolor=\"#e53986\"] ;\\n500 -> 501 ;\\n502 [label=\"danceability <= 0.434\\\\ngini = 0.444\\\\nsamples = 5\\\\nvalue = [0, 0, 0, 0, 4, 0, 2]\", fillcolor=\"#9caaf2\"] ;\\n500 -> 502 ;\\n503 [label=\"gini = 0.0\\\\nsamples = 1\\\\nvalue = [0, 0, 0, 0, 0, 0, 1]\", fillcolor=\"#e53986\"] ;\\n502 -> 503 ;\\n504 [label=\"tempo <= 103.416\\\\ngini = 0.32\\\\nsamples = 4\\\\nvalue = [0, 0, 0, 0, 4, 0, 1]\", fillcolor=\"#6a80ec\"] ;\\n502 -> 504 ;\\n505 [label=\"gini = 0.0\\\\nsamples = 1\\\\nvalue = [0, 0, 0, 0, 0, 0, 1]\", fillcolor=\"#e53986\"] ;\\n504 -> 505 ;\\n506 [label=\"gini = 0.0\\\\nsamples = 3\\\\nvalue = [0, 0, 0, 0, 4, 0, 0]\", fillcolor=\"#3956e5\"] ;\\n504 -> 506 ;\\n507 [label=\"instrumentalness <= 0.0\\\\ngini = 0.56\\\\nsamples = 8\\\\nvalue = [0, 2, 0, 0, 0, 2, 6]\", fillcolor=\"#f29cc2\"] ;\\n489 -> 507 ;\\n508 [label=\"acousticness <= 0.521\\\\ngini = 0.278\\\\nsamples = 4\\\\nvalue = [0, 0, 0, 0, 0, 1, 5]\", fillcolor=\"#ea619e\"] ;\\n507 -> 508 ;\\n509 [label=\"gini = 0.0\\\\nsamples = 3\\\\nvalue = [0, 0, 0, 0, 0, 0, 5]\", fillcolor=\"#e53986\"] ;\\n508 -> 509 ;\\n510 [label=\"gini = 0.0\\\\nsamples = 1\\\\nvalue = [0, 0, 0, 0, 0, 1, 0]\", fillcolor=\"#b139e5\"] ;\\n508 -> 510 ;\\n511 [label=\"valence <= 0.443\\\\ngini = 0.625\\\\nsamples = 4\\\\nvalue = [0, 2, 0, 0, 0, 1, 1]\", fillcolor=\"#e7f6bd\"] ;\\n507 -> 511 ;\\n512 [label=\"popularity <= 57.432\\\\ngini = 0.444\\\\nsamples = 3\\\\nvalue = [0, 2, 0, 0, 0, 0, 1]\", fillcolor=\"#dbf29c\"] ;\\n511 -> 512 ;\\n513 [label=\"gini = 0.0\\\\nsamples = 2\\\\nvalue = [0, 2, 0, 0, 0, 0, 0]\", fillcolor=\"#b7e539\"] ;\\n512 -> 513 ;\\n514 [label=\"gini = 0.0\\\\nsamples = 1\\\\nvalue = [0, 0, 0, 0, 0, 0, 1]\", fillcolor=\"#e53986\"] ;\\n512 -> 514 ;\\n515 [label=\"gini = 0.0\\\\nsamples = 1\\\\nvalue = [0, 0, 0, 0, 0, 1, 0]\", fillcolor=\"#b139e5\"] ;\\n511 -> 515 ;\\n516 [label=\"duration_ms <= 215182.148\\\\ngini = 0.245\\\\nsamples = 9\\\\nvalue = [0, 12, 0, 0, 0, 0, 2]\", fillcolor=\"#c3e95a\"] ;\\n488 -> 516 ;\\n517 [label=\"energy <= 0.667\\\\ngini = 0.444\\\\nsamples = 4\\\\nvalue = [0, 4, 0, 0, 0, 0, 2]\", fillcolor=\"#dbf29c\"] ;\\n516 -> 517 ;\\n518 [label=\"gini = 0.0\\\\nsamples = 2\\\\nvalue = [0, 0, 0, 0, 0, 0, 2]\", fillcolor=\"#e53986\"] ;\\n517 -> 518 ;\\n519 [label=\"gini = 0.0\\\\nsamples = 2\\\\nvalue = [0, 4, 0, 0, 0, 0, 0]\", fillcolor=\"#b7e539\"] ;\\n517 -> 519 ;\\n520 [label=\"gini = 0.0\\\\nsamples = 5\\\\nvalue = [0, 8, 0, 0, 0, 0, 0]\", fillcolor=\"#b7e539\"] ;\\n516 -> 520 ;\\n521 [label=\"instrumentalness <= 0.0\\\\ngini = 0.51\\\\nsamples = 14\\\\nvalue = [0, 3, 0, 0, 4, 1, 16]\", fillcolor=\"#ef88b6\"] ;\\n487 -> 521 ;\\n522 [label=\"tempo <= 40.298\\\\ngini = 0.7\\\\nsamples = 6\\\\nvalue = [0, 3, 0, 0, 2, 1, 4]\", fillcolor=\"#fbe3ee\"] ;\\n521 -> 522 ;\\n523 [label=\"loudness <= -11.841\\\\ngini = 0.48\\\\nsamples = 2\\\\nvalue = [0, 3, 0, 0, 0, 0, 2]\", fillcolor=\"#e7f6bd\"] ;\\n522 -> 523 ;\\n524 [label=\"gini = 0.0\\\\nsamples = 1\\\\nvalue = [0, 3, 0, 0, 0, 0, 0]\", fillcolor=\"#b7e539\"] ;\\n523 -> 524 ;\\n525 [label=\"gini = 0.0\\\\nsamples = 1\\\\nvalue = [0, 0, 0, 0, 0, 0, 2]\", fillcolor=\"#e53986\"] ;\\n523 -> 525 ;\\n526 [label=\"instrumentalness <= 0.0\\\\ngini = 0.64\\\\nsamples = 4\\\\nvalue = [0, 0, 0, 0, 2, 1, 2]\", fillcolor=\"#ffffff\"] ;\\n522 -> 526 ;\\n527 [label=\"gini = 0.0\\\\nsamples = 1\\\\nvalue = [0, 0, 0, 0, 0, 1, 0]\", fillcolor=\"#b139e5\"] ;\\n526 -> 527 ;\\n528 [label=\"valence <= 0.716\\\\ngini = 0.5\\\\nsamples = 3\\\\nvalue = [0, 0, 0, 0, 2, 0, 2]\", fillcolor=\"#ffffff\"] ;\\n526 -> 528 ;\\n529 [label=\"gini = 0.0\\\\nsamples = 2\\\\nvalue = [0, 0, 0, 0, 2, 0, 0]\", fillcolor=\"#3956e5\"] ;\\n528 -> 529 ;\\n530 [label=\"gini = 0.0\\\\nsamples = 1\\\\nvalue = [0, 0, 0, 0, 0, 0, 2]\", fillcolor=\"#e53986\"] ;\\n528 -> 530 ;\\n531 [label=\"speechiness <= 0.037\\\\ngini = 0.245\\\\nsamples = 8\\\\nvalue = [0, 0, 0, 0, 2, 0, 12]\", fillcolor=\"#e95a9a\"] ;\\n521 -> 531 ;\\n532 [label=\"gini = 0.0\\\\nsamples = 4\\\\nvalue = [0, 0, 0, 0, 0, 0, 7]\", fillcolor=\"#e53986\"] ;\\n531 -> 532 ;\\n533 [label=\"instrumentalness <= 0.007\\\\ngini = 0.408\\\\nsamples = 4\\\\nvalue = [0, 0, 0, 0, 2, 0, 5]\", fillcolor=\"#ef88b6\"] ;\\n531 -> 533 ;\\n534 [label=\"duration_ms <= 272658.031\\\\ngini = 0.444\\\\nsamples = 2\\\\nvalue = [0, 0, 0, 0, 2, 0, 1]\", fillcolor=\"#9caaf2\"] ;\\n533 -> 534 ;\\n535 [label=\"gini = 0.0\\\\nsamples = 1\\\\nvalue = [0, 0, 0, 0, 0, 0, 1]\", fillcolor=\"#e53986\"] ;\\n534 -> 535 ;\\n536 [label=\"gini = 0.0\\\\nsamples = 1\\\\nvalue = [0, 0, 0, 0, 2, 0, 0]\", fillcolor=\"#3956e5\"] ;\\n534 -> 536 ;\\n537 [label=\"gini = 0.0\\\\nsamples = 2\\\\nvalue = [0, 0, 0, 0, 0, 0, 4]\", fillcolor=\"#e53986\"] ;\\n533 -> 537 ;\\n538 [label=\"loudness <= -8.605\\\\ngini = 0.275\\\\nsamples = 14\\\\nvalue = [0, 1, 0, 0, 2, 1, 22]\", fillcolor=\"#e95a9a\"] ;\\n414 -> 538 ;\\n539 [label=\"gini = 0.0\\\\nsamples = 1\\\\nvalue = [0, 0, 0, 0, 2, 0, 0]\", fillcolor=\"#3956e5\"] ;\\n538 -> 539 ;\\n540 [label=\"valence <= 0.69\\\\ngini = 0.156\\\\nsamples = 13\\\\nvalue = [0, 1, 0, 0, 0, 1, 22]\", fillcolor=\"#e74a91\"] ;\\n538 -> 540 ;\\n541 [label=\"duration_ms <= 240478.195\\\\ngini = 0.083\\\\nsamples = 12\\\\nvalue = [0, 0, 0, 0, 0, 1, 22]\", fillcolor=\"#e6428c\"] ;\\n540 -> 541 ;\\n542 [label=\"gini = 0.0\\\\nsamples = 8\\\\nvalue = [0, 0, 0, 0, 0, 0, 18]\", fillcolor=\"#e53986\"] ;\\n541 -> 542 ;\\n543 [label=\"speechiness <= 0.041\\\\ngini = 0.32\\\\nsamples = 4\\\\nvalue = [0, 0, 0, 0, 0, 1, 4]\", fillcolor=\"#ec6aa4\"] ;\\n541 -> 543 ;\\n544 [label=\"gini = 0.0\\\\nsamples = 1\\\\nvalue = [0, 0, 0, 0, 0, 1, 0]\", fillcolor=\"#b139e5\"] ;\\n543 -> 544 ;\\n545 [label=\"gini = 0.0\\\\nsamples = 3\\\\nvalue = [0, 0, 0, 0, 0, 0, 4]\", fillcolor=\"#e53986\"] ;\\n543 -> 545 ;\\n546 [label=\"gini = 0.0\\\\nsamples = 1\\\\nvalue = [0, 1, 0, 0, 0, 0, 0]\", fillcolor=\"#b7e539\"] ;\\n540 -> 546 ;\\n547 [label=\"energy <= -0.21\\\\ngini = 0.58\\\\nsamples = 6\\\\nvalue = [0, 5, 0, 0, 0, 4, 1]\", fillcolor=\"#f3fbde\"] ;\\n387 -> 547 ;\\n548 [label=\"duration_ms <= 217529.445\\\\ngini = 0.449\\\\nsamples = 4\\\\nvalue = [0, 5, 0, 0, 0, 1, 1]\", fillcolor=\"#cfee7b\"] ;\\n547 -> 548 ;\\n549 [label=\"gini = 0.0\\\\nsamples = 2\\\\nvalue = [0, 5, 0, 0, 0, 0, 0]\", fillcolor=\"#b7e539\"] ;\\n548 -> 549 ;\\n550 [label=\"tempo <= 72.018\\\\ngini = 0.5\\\\nsamples = 2\\\\nvalue = [0, 0, 0, 0, 0, 1, 1]\", fillcolor=\"#ffffff\"] ;\\n548 -> 550 ;\\n551 [label=\"gini = 0.0\\\\nsamples = 1\\\\nvalue = [0, 0, 0, 0, 0, 0, 1]\", fillcolor=\"#e53986\"] ;\\n550 -> 551 ;\\n552 [label=\"gini = 0.0\\\\nsamples = 1\\\\nvalue = [0, 0, 0, 0, 0, 1, 0]\", fillcolor=\"#b139e5\"] ;\\n550 -> 552 ;\\n553 [label=\"gini = 0.0\\\\nsamples = 2\\\\nvalue = [0, 0, 0, 0, 0, 3, 0]\", fillcolor=\"#b139e5\"] ;\\n547 -> 553 ;\\n554 [label=\"valence <= 0.577\\\\ngini = 0.3\\\\nsamples = 292\\\\nvalue = [0, 18, 3, 7, 2, 50, 387]\", fillcolor=\"#ea5f9d\"] ;\\n386 -> 554 ;\\n555 [label=\"energy <= 0.426\\\\ngini = 0.359\\\\nsamples = 189\\\\nvalue = [0, 14, 3, 5, 2, 39, 234]\", fillcolor=\"#eb69a4\"] ;\\n554 -> 555 ;\\n556 [label=\"duration_ms <= 158304.703\\\\ngini = 0.056\\\\nsamples = 41\\\\nvalue = [0, 1, 0, 0, 0, 1, 68]\", fillcolor=\"#e63f8a\"] ;\\n555 -> 556 ;\\n557 [label=\"acousticness <= 0.516\\\\ngini = 0.18\\\\nsamples = 8\\\\nvalue = [0, 0, 0, 0, 0, 1, 9]\", fillcolor=\"#e84f93\"] ;\\n556 -> 557 ;\\n558 [label=\"gini = 0.0\\\\nsamples = 7\\\\nvalue = [0, 0, 0, 0, 0, 0, 9]\", fillcolor=\"#e53986\"] ;\\n557 -> 558 ;\\n559 [label=\"gini = 0.0\\\\nsamples = 1\\\\nvalue = [0, 0, 0, 0, 0, 1, 0]\", fillcolor=\"#b139e5\"] ;\\n557 -> 559 ;\\n560 [label=\"popularity <= 61.572\\\\ngini = 0.033\\\\nsamples = 33\\\\nvalue = [0, 1, 0, 0, 0, 0, 59]\", fillcolor=\"#e53c88\"] ;\\n556 -> 560 ;\\n561 [label=\"duration_ms <= 253879.961\\\\ngini = 0.375\\\\nsamples = 3\\\\nvalue = [0, 1, 0, 0, 0, 0, 3]\", fillcolor=\"#ee7bae\"] ;\\n560 -> 561 ;\\n562 [label=\"gini = 0.0\\\\nsamples = 2\\\\nvalue = [0, 0, 0, 0, 0, 0, 3]\", fillcolor=\"#e53986\"] ;\\n561 -> 562 ;\\n563 [label=\"gini = 0.0\\\\nsamples = 1\\\\nvalue = [0, 1, 0, 0, 0, 0, 0]\", fillcolor=\"#b7e539\"] ;\\n561 -> 563 ;\\n564 [label=\"gini = 0.0\\\\nsamples = 30\\\\nvalue = [0, 0, 0, 0, 0, 0, 56]\", fillcolor=\"#e53986\"] ;\\n560 -> 564 ;\\n565 [label=\"energy <= 0.439\\\\ngini = 0.433\\\\nsamples = 148\\\\nvalue = [0, 13, 3, 5, 2, 38, 166]\", fillcolor=\"#ed79ad\"] ;\\n555 -> 565 ;\\n566 [label=\"valence <= 0.466\\\\ngini = 0.278\\\\nsamples = 3\\\\nvalue = [0, 0, 0, 0, 0, 5, 1]\", fillcolor=\"#c161ea\"] ;\\n565 -> 566 ;\\n567 [label=\"gini = 0.0\\\\nsamples = 2\\\\nvalue = [0, 0, 0, 0, 0, 5, 0]\", fillcolor=\"#b139e5\"] ;\\n566 -> 567 ;\\n568 [label=\"gini = 0.0\\\\nsamples = 1\\\\nvalue = [0, 0, 0, 0, 0, 0, 1]\", fillcolor=\"#e53986\"] ;\\n566 -> 568 ;\\n569 [label=\"instrumentalness <= 0.0\\\\ngini = 0.416\\\\nsamples = 145\\\\nvalue = [0, 13, 3, 5, 2, 33, 165]\", fillcolor=\"#ed74aa\"] ;\\n565 -> 569 ;\\n570 [label=\"liveness <= 0.388\\\\ngini = 0.483\\\\nsamples = 79\\\\nvalue = [0, 8, 0, 0, 2, 26, 75]\", fillcolor=\"#f08db9\"] ;\\n569 -> 570 ;\\n571 [label=\"acousticness <= 0.241\\\\ngini = 0.457\\\\nsamples = 71\\\\nvalue = [0, 8, 0, 0, 2, 20, 72]\", fillcolor=\"#ef81b2\"] ;\\n570 -> 571 ;\\n572 [label=\"valence <= 0.565\\\\ngini = 0.522\\\\nsamples = 48\\\\nvalue = [0, 4, 0, 0, 2, 19, 42]\", fillcolor=\"#f3a0c5\"] ;\\n571 -> 572 ;\\n573 [label=\"popularity <= 74.652\\\\ngini = 0.495\\\\nsamples = 47\\\\nvalue = [0, 2, 0, 0, 2, 19, 42]\", fillcolor=\"#f29cc2\"] ;\\n572 -> 573 ;\\n574 [label=\"acousticness <= 0.079\\\\ngini = 0.453\\\\nsamples = 43\\\\nvalue = [0, 2, 0, 0, 2, 14, 42]\", fillcolor=\"#ef86b5\"] ;\\n573 -> 574 ;\\n575 [label=\"acousticness <= 0.03\\\\ngini = 0.545\\\\nsamples = 28\\\\nvalue = [0, 2, 0, 0, 2, 12, 24]\", fillcolor=\"#f4aacb\"] ;\\n574 -> 575 ;\\n576 [label=\"danceability <= 0.57\\\\ngini = 0.287\\\\nsamples = 16\\\\nvalue = [0, 0, 0, 0, 0, 4, 19]\", fillcolor=\"#ea639f\"] ;\\n575 -> 576 ;\\n577 [label=\"gini = 0.0\\\\nsamples = 9\\\\nvalue = [0, 0, 0, 0, 0, 0, 13]\", fillcolor=\"#e53986\"] ;\\n576 -> 577 ;\\n578 [label=\"liveness <= 0.117\\\\ngini = 0.48\\\\nsamples = 7\\\\nvalue = [0, 0, 0, 0, 0, 4, 6]\", fillcolor=\"#f6bdd7\"] ;\\n576 -> 578 ;\\n579 [label=\"gini = 0.0\\\\nsamples = 2\\\\nvalue = [0, 0, 0, 0, 0, 0, 4]\", fillcolor=\"#e53986\"] ;\\n578 -> 579 ;\\n580 [label=\"liveness <= 0.317\\\\ngini = 0.444\\\\nsamples = 5\\\\nvalue = [0, 0, 0, 0, 0, 4, 2]\", fillcolor=\"#d89cf2\"] ;\\n578 -> 580 ;\\n581 [label=\"gini = 0.0\\\\nsamples = 3\\\\nvalue = [0, 0, 0, 0, 0, 4, 0]\", fillcolor=\"#b139e5\"] ;\\n580 -> 581 ;\\n582 [label=\"gini = 0.0\\\\nsamples = 2\\\\nvalue = [0, 0, 0, 0, 0, 0, 2]\", fillcolor=\"#e53986\"] ;\\n580 -> 582 ;\\n583 [label=\"speechiness <= 0.041\\\\ngini = 0.664\\\\nsamples = 12\\\\nvalue = [0, 2, 0, 0, 2, 8, 5]\", fillcolor=\"#eccef8\"] ;\\n575 -> 583 ;\\n584 [label=\"popularity <= 71.328\\\\ngini = 0.741\\\\nsamples = 6\\\\nvalue = [0, 2, 0, 0, 2, 2, 3]\", fillcolor=\"#fbe3ee\"] ;\\n583 -> 584 ;\\n585 [label=\"danceability <= 0.538\\\\ngini = 0.735\\\\nsamples = 5\\\\nvalue = [0, 2, 0, 0, 2, 2, 1]\", fillcolor=\"#ffffff\"] ;\\n584 -> 585 ;\\n586 [label=\"loudness <= -5.982\\\\ngini = 0.64\\\\nsamples = 3\\\\nvalue = [0, 2, 0, 0, 0, 2, 1]\", fillcolor=\"#ffffff\"] ;\\n585 -> 586 ;\\n587 [label=\"gini = 0.0\\\\nsamples = 1\\\\nvalue = [0, 2, 0, 0, 0, 0, 0]\", fillcolor=\"#b7e539\"] ;\\n586 -> 587 ;\\n588 [label=\"energy <= 0.724\\\\ngini = 0.444\\\\nsamples = 2\\\\nvalue = [0, 0, 0, 0, 0, 2, 1]\", fillcolor=\"#d89cf2\"] ;\\n586 -> 588 ;\\n589 [label=\"gini = 0.0\\\\nsamples = 1\\\\nvalue = [0, 0, 0, 0, 0, 2, 0]\", fillcolor=\"#b139e5\"] ;\\n588 -> 589 ;\\n590 [label=\"gini = 0.0\\\\nsamples = 1\\\\nvalue = [0, 0, 0, 0, 0, 0, 1]\", fillcolor=\"#e53986\"] ;\\n588 -> 590 ;\\n591 [label=\"gini = 0.0\\\\nsamples = 2\\\\nvalue = [0, 0, 0, 0, 2, 0, 0]\", fillcolor=\"#3956e5\"] ;\\n585 -> 591 ;\\n592 [label=\"gini = 0.0\\\\nsamples = 1\\\\nvalue = [0, 0, 0, 0, 0, 0, 2]\", fillcolor=\"#e53986\"] ;\\n584 -> 592 ;\\n593 [label=\"energy <= 0.644\\\\ngini = 0.375\\\\nsamples = 6\\\\nvalue = [0, 0, 0, 0, 0, 6, 2]\", fillcolor=\"#cb7bee\"] ;\\n583 -> 593 ;\\n594 [label=\"gini = 0.0\\\\nsamples = 4\\\\nvalue = [0, 0, 0, 0, 0, 6, 0]\", fillcolor=\"#b139e5\"] ;\\n593 -> 594 ;\\n595 [label=\"gini = 0.0\\\\nsamples = 2\\\\nvalue = [0, 0, 0, 0, 0, 0, 2]\", fillcolor=\"#e53986\"] ;\\n593 -> 595 ;\\n596 [label=\"instrumentalness <= 0.0\\\\ngini = 0.18\\\\nsamples = 15\\\\nvalue = [0, 0, 0, 0, 0, 2, 18]\", fillcolor=\"#e84f93\"] ;\\n574 -> 596 ;\\n597 [label=\"duration_ms <= 218933.711\\\\ngini = 0.188\\\\nsamples = 14\\\\nvalue = [0, 0, 0, 0, 0, 2, 17]\", fillcolor=\"#e85094\"] ;\\n596 -> 597 ;\\n598 [label=\"gini = 0.0\\\\nsamples = 6\\\\nvalue = [0, 0, 0, 0, 0, 0, 9]\", fillcolor=\"#e53986\"] ;\\n597 -> 598 ;\\n599 [label=\"energy <= 0.816\\\\ngini = 0.32\\\\nsamples = 8\\\\nvalue = [0, 0, 0, 0, 0, 2, 8]\", fillcolor=\"#ec6aa4\"] ;\\n597 -> 599 ;\\n600 [label=\"speechiness <= 0.057\\\\ngini = 0.198\\\\nsamples = 7\\\\nvalue = [0, 0, 0, 0, 0, 1, 8]\", fillcolor=\"#e85295\"] ;\\n599 -> 600 ;\\n601 [label=\"gini = 0.0\\\\nsamples = 6\\\\nvalue = [0, 0, 0, 0, 0, 0, 8]\", fillcolor=\"#e53986\"] ;\\n600 -> 601 ;\\n602 [label=\"gini = 0.0\\\\nsamples = 1\\\\nvalue = [0, 0, 0, 0, 0, 1, 0]\", fillcolor=\"#b139e5\"] ;\\n600 -> 602 ;\\n603 [label=\"gini = 0.0\\\\nsamples = 1\\\\nvalue = [0, 0, 0, 0, 0, 1, 0]\", fillcolor=\"#b139e5\"] ;\\n599 -> 603 ;\\n604 [label=\"gini = 0.0\\\\nsamples = 1\\\\nvalue = [0, 0, 0, 0, 0, 0, 1]\", fillcolor=\"#e53986\"] ;\\n596 -> 604 ;\\n605 [label=\"gini = 0.0\\\\nsamples = 4\\\\nvalue = [0, 0, 0, 0, 0, 5, 0]\", fillcolor=\"#b139e5\"] ;\\n573 -> 605 ;\\n606 [label=\"gini = 0.0\\\\nsamples = 1\\\\nvalue = [0, 2, 0, 0, 0, 0, 0]\", fillcolor=\"#b7e539\"] ;\\n572 -> 606 ;\\n607 [label=\"instrumentalness <= 0.0\\\\ngini = 0.251\\\\nsamples = 23\\\\nvalue = [0, 4, 0, 0, 0, 1, 30]\", fillcolor=\"#e9599a\"] ;\\n571 -> 607 ;\\n608 [label=\"danceability <= 0.633\\\\ngini = 0.169\\\\nsamples = 22\\\\nvalue = [0, 2, 0, 0, 0, 1, 30]\", fillcolor=\"#e84c92\"] ;\\n607 -> 608 ;\\n609 [label=\"duration_ms <= 244292.352\\\\ngini = 0.062\\\\nsamples = 20\\\\nvalue = [0, 1, 0, 0, 0, 0, 30]\", fillcolor=\"#e6408a\"] ;\\n608 -> 609 ;\\n610 [label=\"gini = 0.0\\\\nsamples = 14\\\\nvalue = [0, 0, 0, 0, 0, 0, 20]\", fillcolor=\"#e53986\"] ;\\n609 -> 610 ;\\n611 [label=\"duration_ms <= 251683.953\\\\ngini = 0.165\\\\nsamples = 6\\\\nvalue = [0, 1, 0, 0, 0, 0, 10]\", fillcolor=\"#e84d92\"] ;\\n609 -> 611 ;\\n612 [label=\"gini = 0.0\\\\nsamples = 1\\\\nvalue = [0, 1, 0, 0, 0, 0, 0]\", fillcolor=\"#b7e539\"] ;\\n611 -> 612 ;\\n613 [label=\"gini = 0.0\\\\nsamples = 5\\\\nvalue = [0, 0, 0, 0, 0, 0, 10]\", fillcolor=\"#e53986\"] ;\\n611 -> 613 ;\\n614 [label=\"acousticness <= 0.428\\\\ngini = 0.5\\\\nsamples = 2\\\\nvalue = [0, 1, 0, 0, 0, 1, 0]\", fillcolor=\"#ffffff\"] ;\\n608 -> 614 ;\\n615 [label=\"gini = 0.0\\\\nsamples = 1\\\\nvalue = [0, 1, 0, 0, 0, 0, 0]\", fillcolor=\"#b7e539\"] ;\\n614 -> 615 ;\\n616 [label=\"gini = 0.0\\\\nsamples = 1\\\\nvalue = [0, 0, 0, 0, 0, 1, 0]\", fillcolor=\"#b139e5\"] ;\\n614 -> 616 ;\\n617 [label=\"gini = 0.0\\\\nsamples = 1\\\\nvalue = [0, 2, 0, 0, 0, 0, 0]\", fillcolor=\"#b7e539\"] ;\\n607 -> 617 ;\\n618 [label=\"energy <= 0.715\\\\ngini = 0.444\\\\nsamples = 8\\\\nvalue = [0, 0, 0, 0, 0, 6, 3]\", fillcolor=\"#d89cf2\"] ;\\n570 -> 618 ;\\n619 [label=\"gini = 0.0\\\\nsamples = 4\\\\nvalue = [0, 0, 0, 0, 0, 5, 0]\", fillcolor=\"#b139e5\"] ;\\n618 -> 619 ;\\n620 [label=\"liveness <= 0.46\\\\ngini = 0.375\\\\nsamples = 4\\\\nvalue = [0, 0, 0, 0, 0, 1, 3]\", fillcolor=\"#ee7bae\"] ;\\n618 -> 620 ;\\n621 [label=\"gini = 0.0\\\\nsamples = 1\\\\nvalue = [0, 0, 0, 0, 0, 1, 0]\", fillcolor=\"#b139e5\"] ;\\n620 -> 621 ;\\n622 [label=\"gini = 0.0\\\\nsamples = 3\\\\nvalue = [0, 0, 0, 0, 0, 0, 3]\", fillcolor=\"#e53986\"] ;\\n620 -> 622 ;\\n623 [label=\"liveness <= 0.072\\\\ngini = 0.322\\\\nsamples = 66\\\\nvalue = [0, 5, 3, 5, 0, 7, 90]\", fillcolor=\"#ea5f9d\"] ;\\n569 -> 623 ;\\n624 [label=\"duration_ms <= 231676.734\\\\ngini = 0.32\\\\nsamples = 3\\\\nvalue = [0, 0, 0, 4, 0, 0, 1]\", fillcolor=\"#6aece9\"] ;\\n623 -> 624 ;\\n625 [label=\"gini = 0.0\\\\nsamples = 1\\\\nvalue = [0, 0, 0, 0, 0, 0, 1]\", fillcolor=\"#e53986\"] ;\\n624 -> 625 ;\\n626 [label=\"gini = 0.0\\\\nsamples = 2\\\\nvalue = [0, 0, 0, 4, 0, 0, 0]\", fillcolor=\"#39e5e2\"] ;\\n624 -> 626 ;\\n627 [label=\"popularity <= 61.991\\\\ngini = 0.274\\\\nsamples = 63\\\\nvalue = [0, 5, 3, 1, 0, 7, 89]\", fillcolor=\"#e9599a\"] ;\\n623 -> 627 ;\\n628 [label=\"instrumentalness <= 0.026\\\\ngini = 0.622\\\\nsamples = 8\\\\nvalue = [0, 4, 3, 0, 0, 0, 7]\", fillcolor=\"#f7c4db\"] ;\\n627 -> 628 ;\\n629 [label=\"instrumentalness <= 0.001\\\\ngini = 0.594\\\\nsamples = 3\\\\nvalue = [0, 4, 3, 0, 0, 0, 1]\", fillcolor=\"#f1fad7\"] ;\\n628 -> 629 ;\\n630 [label=\"instrumentalness <= 0.0\\\\ngini = 0.375\\\\nsamples = 2\\\\nvalue = [0, 0, 3, 0, 0, 0, 1]\", fillcolor=\"#7bee88\"] ;\\n629 -> 630 ;\\n631 [label=\"gini = 0.0\\\\nsamples = 1\\\\nvalue = [0, 0, 3, 0, 0, 0, 0]\", fillcolor=\"#39e54d\"] ;\\n630 -> 631 ;\\n632 [label=\"gini = 0.0\\\\nsamples = 1\\\\nvalue = [0, 0, 0, 0, 0, 0, 1]\", fillcolor=\"#e53986\"] ;\\n630 -> 632 ;\\n633 [label=\"gini = 0.0\\\\nsamples = 1\\\\nvalue = [0, 4, 0, 0, 0, 0, 0]\", fillcolor=\"#b7e539\"] ;\\n629 -> 633 ;\\n634 [label=\"gini = 0.0\\\\nsamples = 5\\\\nvalue = [0, 0, 0, 0, 0, 0, 6]\", fillcolor=\"#e53986\"] ;\\n628 -> 634 ;\\n635 [label=\"tempo <= 107.363\\\\ngini = 0.182\\\\nsamples = 55\\\\nvalue = [0, 1, 0, 1, 0, 7, 82]\", fillcolor=\"#e84e93\"] ;\\n627 -> 635 ;\\n636 [label=\"gini = 0.0\\\\nsamples = 18\\\\nvalue = [0, 0, 0, 0, 0, 0, 33]\", fillcolor=\"#e53986\"] ;\\n635 -> 636 ;\\n637 [label=\"danceability <= 0.636\\\\ngini = 0.271\\\\nsamples = 37\\\\nvalue = [0, 1, 0, 1, 0, 7, 49]\", fillcolor=\"#ea5c9b\"] ;\\n635 -> 637 ;\\n638 [label=\"loudness <= -8.076\\\\ngini = 0.226\\\\nsamples = 35\\\\nvalue = [0, 1, 0, 1, 0, 5, 49]\", fillcolor=\"#e95497\"] ;\\n637 -> 638 ;\\n639 [label=\"loudness <= -8.294\\\\ngini = 0.461\\\\nsamples = 11\\\\nvalue = [0, 0, 0, 1, 0, 4, 11]\", fillcolor=\"#f08cb8\"] ;\\n638 -> 639 ;\\n640 [label=\"popularity <= 65.295\\\\ngini = 0.153\\\\nsamples = 9\\\\nvalue = [0, 0, 0, 1, 0, 0, 11]\", fillcolor=\"#e74b91\"] ;\\n639 -> 640 ;\\n641 [label=\"gini = 0.0\\\\nsamples = 7\\\\nvalue = [0, 0, 0, 0, 0, 0, 10]\", fillcolor=\"#e53986\"] ;\\n640 -> 641 ;\\n642 [label=\"liveness <= 0.468\\\\ngini = 0.5\\\\nsamples = 2\\\\nvalue = [0, 0, 0, 1, 0, 0, 1]\", fillcolor=\"#ffffff\"] ;\\n640 -> 642 ;\\n643 [label=\"gini = 0.0\\\\nsamples = 1\\\\nvalue = [0, 0, 0, 1, 0, 0, 0]\", fillcolor=\"#39e5e2\"] ;\\n642 -> 643 ;\\n644 [label=\"gini = 0.0\\\\nsamples = 1\\\\nvalue = [0, 0, 0, 0, 0, 0, 1]\", fillcolor=\"#e53986\"] ;\\n642 -> 644 ;\\n645 [label=\"gini = 0.0\\\\nsamples = 2\\\\nvalue = [0, 0, 0, 0, 0, 4, 0]\", fillcolor=\"#b139e5\"] ;\\n639 -> 645 ;\\n646 [label=\"valence <= 0.236\\\\ngini = 0.096\\\\nsamples = 24\\\\nvalue = [0, 1, 0, 0, 0, 1, 38]\", fillcolor=\"#e6438c\"] ;\\n638 -> 646 ;\\n647 [label=\"duration_ms <= 137473.406\\\\ngini = 0.444\\\\nsamples = 2\\\\nvalue = [0, 0, 0, 0, 0, 1, 2]\", fillcolor=\"#f29cc2\"] ;\\n646 -> 647 ;\\n648 [label=\"gini = 0.0\\\\nsamples = 1\\\\nvalue = [0, 0, 0, 0, 0, 1, 0]\", fillcolor=\"#b139e5\"] ;\\n647 -> 648 ;\\n649 [label=\"gini = 0.0\\\\nsamples = 1\\\\nvalue = [0, 0, 0, 0, 0, 0, 2]\", fillcolor=\"#e53986\"] ;\\n647 -> 649 ;\\n650 [label=\"popularity <= 68.665\\\\ngini = 0.053\\\\nsamples = 22\\\\nvalue = [0, 1, 0, 0, 0, 0, 36]\", fillcolor=\"#e63e89\"] ;\\n646 -> 650 ;\\n651 [label=\"gini = 0.0\\\\nsamples = 14\\\\nvalue = [0, 0, 0, 0, 0, 0, 25]\", fillcolor=\"#e53986\"] ;\\n650 -> 651 ;\\n652 [label=\"instrumentalness <= 0.0\\\\ngini = 0.153\\\\nsamples = 8\\\\nvalue = [0, 1, 0, 0, 0, 0, 11]\", fillcolor=\"#e74b91\"] ;\\n650 -> 652 ;\\n653 [label=\"gini = 0.0\\\\nsamples = 1\\\\nvalue = [0, 1, 0, 0, 0, 0, 0]\", fillcolor=\"#b7e539\"] ;\\n652 -> 653 ;\\n654 [label=\"gini = 0.0\\\\nsamples = 7\\\\nvalue = [0, 0, 0, 0, 0, 0, 11]\", fillcolor=\"#e53986\"] ;\\n652 -> 654 ;\\n655 [label=\"gini = 0.0\\\\nsamples = 2\\\\nvalue = [0, 0, 0, 0, 0, 2, 0]\", fillcolor=\"#b139e5\"] ;\\n637 -> 655 ;\\n656 [label=\"loudness <= -16.509\\\\ngini = 0.185\\\\nsamples = 103\\\\nvalue = [0, 4, 0, 2, 0, 11, 153]\", fillcolor=\"#e84e93\"] ;\\n554 -> 656 ;\\n657 [label=\"gini = 0.0\\\\nsamples = 1\\\\nvalue = [0, 1, 0, 0, 0, 0, 0]\", fillcolor=\"#b7e539\"] ;\\n656 -> 657 ;\\n658 [label=\"instrumentalness <= 0.0\\\\ngini = 0.176\\\\nsamples = 102\\\\nvalue = [0, 3, 0, 2, 0, 11, 153]\", fillcolor=\"#e84d92\"] ;\\n656 -> 658 ;\\n659 [label=\"liveness <= 0.149\\\\ngini = 0.28\\\\nsamples = 42\\\\nvalue = [0, 3, 0, 2, 0, 6, 59]\", fillcolor=\"#e95b9b\"] ;\\n658 -> 659 ;\\n660 [label=\"duration_ms <= 265159.508\\\\ngini = 0.121\\\\nsamples = 26\\\\nvalue = [0, 1, 0, 0, 0, 2, 44]\", fillcolor=\"#e7468e\"] ;\\n659 -> 660 ;\\n661 [label=\"popularity <= 83.572\\\\ngini = 0.085\\\\nsamples = 24\\\\nvalue = [0, 0, 0, 0, 0, 2, 43]\", fillcolor=\"#e6428c\"] ;\\n660 -> 661 ;\\n662 [label=\"energy <= 0.546\\\\ngini = 0.044\\\\nsamples = 23\\\\nvalue = [0, 0, 0, 0, 0, 1, 43]\", fillcolor=\"#e63e89\"] ;\\n661 -> 662 ;\\n663 [label=\"loudness <= -7.247\\\\ngini = 0.117\\\\nsamples = 8\\\\nvalue = [0, 0, 0, 0, 0, 1, 15]\", fillcolor=\"#e7468e\"] ;\\n662 -> 663 ;\\n664 [label=\"gini = 0.0\\\\nsamples = 6\\\\nvalue = [0, 0, 0, 0, 0, 0, 13]\", fillcolor=\"#e53986\"] ;\\n663 -> 664 ;\\n665 [label=\"valence <= 0.69\\\\ngini = 0.444\\\\nsamples = 2\\\\nvalue = [0, 0, 0, 0, 0, 1, 2]\", fillcolor=\"#f29cc2\"] ;\\n663 -> 665 ;\\n666 [label=\"gini = 0.0\\\\nsamples = 1\\\\nvalue = [0, 0, 0, 0, 0, 0, 2]\", fillcolor=\"#e53986\"] ;\\n665 -> 666 ;\\n667 [label=\"gini = 0.0\\\\nsamples = 1\\\\nvalue = [0, 0, 0, 0, 0, 1, 0]\", fillcolor=\"#b139e5\"] ;\\n665 -> 667 ;\\n668 [label=\"gini = 0.0\\\\nsamples = 15\\\\nvalue = [0, 0, 0, 0, 0, 0, 28]\", fillcolor=\"#e53986\"] ;\\n662 -> 668 ;\\n669 [label=\"gini = 0.0\\\\nsamples = 1\\\\nvalue = [0, 0, 0, 0, 0, 1, 0]\", fillcolor=\"#b139e5\"] ;\\n661 -> 669 ;\\n670 [label=\"loudness <= -3.186\\\\ngini = 0.5\\\\nsamples = 2\\\\nvalue = [0, 1, 0, 0, 0, 0, 1]\", fillcolor=\"#ffffff\"] ;\\n660 -> 670 ;\\n671 [label=\"gini = 0.0\\\\nsamples = 1\\\\nvalue = [0, 1, 0, 0, 0, 0, 0]\", fillcolor=\"#b7e539\"] ;\\n670 -> 671 ;\\n672 [label=\"gini = 0.0\\\\nsamples = 1\\\\nvalue = [0, 0, 0, 0, 0, 0, 1]\", fillcolor=\"#e53986\"] ;\\n670 -> 672 ;\\n673 [label=\"liveness <= 0.158\\\\ngini = 0.529\\\\nsamples = 16\\\\nvalue = [0, 2, 0, 2, 0, 4, 15]\", fillcolor=\"#f08cb9\"] ;\\n659 -> 673 ;\\n674 [label=\"gini = 0.0\\\\nsamples = 1\\\\nvalue = [0, 0, 0, 2, 0, 0, 0]\", fillcolor=\"#39e5e2\"] ;\\n673 -> 674 ;\\n675 [label=\"danceability <= 0.615\\\\ngini = 0.444\\\\nsamples = 15\\\\nvalue = [0, 2, 0, 0, 0, 4, 15]\", fillcolor=\"#ee7fb1\"] ;\\n673 -> 675 ;\\n676 [label=\"loudness <= -5.865\\\\ngini = 0.37\\\\nsamples = 13\\\\nvalue = [0, 2, 0, 0, 0, 2, 14]\", fillcolor=\"#ec6aa4\"] ;\\n675 -> 676 ;\\n677 [label=\"gini = 0.0\\\\nsamples = 9\\\\nvalue = [0, 0, 0, 0, 0, 0, 12]\", fillcolor=\"#e53986\"] ;\\n676 -> 677 ;\\n678 [label=\"speechiness <= 0.052\\\\ngini = 0.667\\\\nsamples = 4\\\\nvalue = [0, 2, 0, 0, 0, 2, 2]\", fillcolor=\"#ffffff\"] ;\\n676 -> 678 ;\\n679 [label=\"energy <= 0.791\\\\ngini = 0.5\\\\nsamples = 3\\\\nvalue = [0, 2, 0, 0, 0, 2, 0]\", fillcolor=\"#ffffff\"] ;\\n678 -> 679 ;\\n680 [label=\"gini = 0.0\\\\nsamples = 2\\\\nvalue = [0, 0, 0, 0, 0, 2, 0]\", fillcolor=\"#b139e5\"] ;\\n679 -> 680 ;\\n681 [label=\"gini = 0.0\\\\nsamples = 1\\\\nvalue = [0, 2, 0, 0, 0, 0, 0]\", fillcolor=\"#b7e539\"] ;\\n679 -> 681 ;\\n682 [label=\"gini = 0.0\\\\nsamples = 1\\\\nvalue = [0, 0, 0, 0, 0, 0, 2]\", fillcolor=\"#e53986\"] ;\\n678 -> 682 ;\\n683 [label=\"acousticness <= 0.208\\\\ngini = 0.444\\\\nsamples = 2\\\\nvalue = [0, 0, 0, 0, 0, 2, 1]\", fillcolor=\"#d89cf2\"] ;\\n675 -> 683 ;\\n684 [label=\"gini = 0.0\\\\nsamples = 1\\\\nvalue = [0, 0, 0, 0, 0, 2, 0]\", fillcolor=\"#b139e5\"] ;\\n683 -> 684 ;\\n685 [label=\"gini = 0.0\\\\nsamples = 1\\\\nvalue = [0, 0, 0, 0, 0, 0, 1]\", fillcolor=\"#e53986\"] ;\\n683 -> 685 ;\\n686 [label=\"tempo <= 126.488\\\\ngini = 0.096\\\\nsamples = 60\\\\nvalue = [0, 0, 0, 0, 0, 5, 94]\", fillcolor=\"#e6448c\"] ;\\n658 -> 686 ;\\n687 [label=\"speechiness <= 0.056\\\\ngini = 0.153\\\\nsamples = 35\\\\nvalue = [0, 0, 0, 0, 0, 5, 55]\", fillcolor=\"#e74b91\"] ;\\n686 -> 687 ;\\n688 [label=\"duration_ms <= 282653.344\\\\ngini = 0.048\\\\nsamples = 26\\\\nvalue = [0, 0, 0, 0, 0, 1, 40]\", fillcolor=\"#e63e89\"] ;\\n687 -> 688 ;\\n689 [label=\"gini = 0.0\\\\nsamples = 22\\\\nvalue = [0, 0, 0, 0, 0, 0, 37]\", fillcolor=\"#e53986\"] ;\\n688 -> 689 ;\\n690 [label=\"loudness <= -8.582\\\\ngini = 0.375\\\\nsamples = 4\\\\nvalue = [0, 0, 0, 0, 0, 1, 3]\", fillcolor=\"#ee7bae\"] ;\\n688 -> 690 ;\\n691 [label=\"gini = 0.0\\\\nsamples = 3\\\\nvalue = [0, 0, 0, 0, 0, 0, 3]\", fillcolor=\"#e53986\"] ;\\n690 -> 691 ;\\n692 [label=\"gini = 0.0\\\\nsamples = 1\\\\nvalue = [0, 0, 0, 0, 0, 1, 0]\", fillcolor=\"#b139e5\"] ;\\n690 -> 692 ;\\n693 [label=\"duration_ms <= 233962.562\\\\ngini = 0.332\\\\nsamples = 9\\\\nvalue = [0, 0, 0, 0, 0, 4, 15]\", fillcolor=\"#ec6ea6\"] ;\\n687 -> 693 ;\\n694 [label=\"acousticness <= 0.529\\\\ngini = 0.208\\\\nsamples = 8\\\\nvalue = [0, 0, 0, 0, 0, 2, 15]\", fillcolor=\"#e85396\"] ;\\n693 -> 694 ;\\n695 [label=\"gini = 0.0\\\\nsamples = 7\\\\nvalue = [0, 0, 0, 0, 0, 0, 15]\", fillcolor=\"#e53986\"] ;\\n694 -> 695 ;\\n696 [label=\"gini = 0.0\\\\nsamples = 1\\\\nvalue = [0, 0, 0, 0, 0, 2, 0]\", fillcolor=\"#b139e5\"] ;\\n694 -> 696 ;\\n697 [label=\"gini = 0.0\\\\nsamples = 1\\\\nvalue = [0, 0, 0, 0, 0, 2, 0]\", fillcolor=\"#b139e5\"] ;\\n693 -> 697 ;\\n698 [label=\"gini = 0.0\\\\nsamples = 25\\\\nvalue = [0, 0, 0, 0, 0, 0, 39]\", fillcolor=\"#e53986\"] ;\\n686 -> 698 ;\\n699 [label=\"loudness <= -9.193\\\\ngini = 0.512\\\\nsamples = 191\\\\nvalue = [0, 19, 0, 5, 4, 82, 198]\", fillcolor=\"#f299c1\"] ;\\n381 -> 699 ;\\n700 [label=\"speechiness <= 0.034\\\\ngini = 0.34\\\\nsamples = 56\\\\nvalue = [0, 7, 0, 2, 0, 7, 65]\", fillcolor=\"#eb64a0\"] ;\\n699 -> 700 ;\\n701 [label=\"duration_ms <= 232510.43\\\\ngini = 0.056\\\\nsamples = 24\\\\nvalue = [0, 1, 0, 0, 0, 0, 34]\", fillcolor=\"#e63f8a\"] ;\\n700 -> 701 ;\\n702 [label=\"gini = 0.0\\\\nsamples = 15\\\\nvalue = [0, 0, 0, 0, 0, 0, 23]\", fillcolor=\"#e53986\"] ;\\n701 -> 702 ;\\n703 [label=\"popularity <= 63.649\\\\ngini = 0.153\\\\nsamples = 9\\\\nvalue = [0, 1, 0, 0, 0, 0, 11]\", fillcolor=\"#e74b91\"] ;\\n701 -> 703 ;\\n704 [label=\"gini = 0.0\\\\nsamples = 7\\\\nvalue = [0, 0, 0, 0, 0, 0, 9]\", fillcolor=\"#e53986\"] ;\\n703 -> 704 ;\\n705 [label=\"speechiness <= 0.027\\\\ngini = 0.444\\\\nsamples = 2\\\\nvalue = [0, 1, 0, 0, 0, 0, 2]\", fillcolor=\"#f29cc2\"] ;\\n703 -> 705 ;\\n706 [label=\"gini = 0.0\\\\nsamples = 1\\\\nvalue = [0, 1, 0, 0, 0, 0, 0]\", fillcolor=\"#b7e539\"] ;\\n705 -> 706 ;\\n707 [label=\"gini = 0.0\\\\nsamples = 1\\\\nvalue = [0, 0, 0, 0, 0, 0, 2]\", fillcolor=\"#e53986\"] ;\\n705 -> 707 ;\\n708 [label=\"popularity <= 59.556\\\\ngini = 0.504\\\\nsamples = 32\\\\nvalue = [0, 6, 0, 2, 0, 7, 31]\", fillcolor=\"#ef85b5\"] ;\\n700 -> 708 ;\\n709 [label=\"energy <= 0.716\\\\ngini = 0.715\\\\nsamples = 16\\\\nvalue = [0, 5, 0, 2, 0, 6, 7]\", fillcolor=\"#fdf1f6\"] ;\\n708 -> 709 ;\\n710 [label=\"liveness <= 0.108\\\\ngini = 0.711\\\\nsamples = 13\\\\nvalue = [0, 5, 0, 2, 0, 6, 3]\", fillcolor=\"#f8edfd\"] ;\\n709 -> 710 ;\\n711 [label=\"liveness <= 0.078\\\\ngini = 0.375\\\\nsamples = 3\\\\nvalue = [0, 1, 0, 0, 0, 0, 3]\", fillcolor=\"#ee7bae\"] ;\\n710 -> 711 ;\\n712 [label=\"gini = 0.0\\\\nsamples = 1\\\\nvalue = [0, 1, 0, 0, 0, 0, 0]\", fillcolor=\"#b7e539\"] ;\\n711 -> 712 ;\\n713 [label=\"gini = 0.0\\\\nsamples = 2\\\\nvalue = [0, 0, 0, 0, 0, 0, 3]\", fillcolor=\"#e53986\"] ;\\n711 -> 713 ;\\n714 [label=\"valence <= 0.704\\\\ngini = 0.611\\\\nsamples = 10\\\\nvalue = [0, 4, 0, 2, 0, 6, 0]\", fillcolor=\"#eccef8\"] ;\\n710 -> 714 ;\\n715 [label=\"loudness <= -13.602\\\\ngini = 0.56\\\\nsamples = 8\\\\nvalue = [0, 2, 0, 2, 0, 6, 0]\", fillcolor=\"#d89cf2\"] ;\\n714 -> 715 ;\\n716 [label=\"gini = 0.0\\\\nsamples = 1\\\\nvalue = [0, 2, 0, 0, 0, 0, 0]\", fillcolor=\"#b7e539\"] ;\\n715 -> 716 ;\\n717 [label=\"liveness <= 0.115\\\\ngini = 0.375\\\\nsamples = 7\\\\nvalue = [0, 0, 0, 2, 0, 6, 0]\", fillcolor=\"#cb7bee\"] ;\\n715 -> 717 ;\\n718 [label=\"gini = 0.0\\\\nsamples = 1\\\\nvalue = [0, 0, 0, 1, 0, 0, 0]\", fillcolor=\"#39e5e2\"] ;\\n717 -> 718 ;\\n719 [label=\"speechiness <= 0.052\\\\ngini = 0.245\\\\nsamples = 6\\\\nvalue = [0, 0, 0, 1, 0, 6, 0]\", fillcolor=\"#be5ae9\"] ;\\n717 -> 719 ;\\n720 [label=\"energy <= 0.534\\\\ngini = 0.444\\\\nsamples = 3\\\\nvalue = [0, 0, 0, 1, 0, 2, 0]\", fillcolor=\"#d89cf2\"] ;\\n719 -> 720 ;\\n721 [label=\"gini = 0.0\\\\nsamples = 2\\\\nvalue = [0, 0, 0, 0, 0, 2, 0]\", fillcolor=\"#b139e5\"] ;\\n720 -> 721 ;\\n722 [label=\"gini = 0.0\\\\nsamples = 1\\\\nvalue = [0, 0, 0, 1, 0, 0, 0]\", fillcolor=\"#39e5e2\"] ;\\n720 -> 722 ;\\n723 [label=\"gini = 0.0\\\\nsamples = 3\\\\nvalue = [0, 0, 0, 0, 0, 4, 0]\", fillcolor=\"#b139e5\"] ;\\n719 -> 723 ;\\n724 [label=\"gini = 0.0\\\\nsamples = 2\\\\nvalue = [0, 2, 0, 0, 0, 0, 0]\", fillcolor=\"#b7e539\"] ;\\n714 -> 724 ;\\n725 [label=\"gini = 0.0\\\\nsamples = 3\\\\nvalue = [0, 0, 0, 0, 0, 0, 4]\", fillcolor=\"#e53986\"] ;\\n709 -> 725 ;\\n726 [label=\"instrumentalness <= 0.0\\\\ngini = 0.145\\\\nsamples = 16\\\\nvalue = [0, 1, 0, 0, 0, 1, 24]\", fillcolor=\"#e74990\"] ;\\n708 -> 726 ;\\n727 [label=\"energy <= 0.723\\\\ngini = 0.314\\\\nsamples = 7\\\\nvalue = [0, 1, 0, 0, 0, 1, 9]\", fillcolor=\"#ea619e\"] ;\\n726 -> 727 ;\\n728 [label=\"danceability <= 0.716\\\\ngini = 0.18\\\\nsamples = 6\\\\nvalue = [0, 1, 0, 0, 0, 0, 9]\", fillcolor=\"#e84f93\"] ;\\n727 -> 728 ;\\n729 [label=\"gini = 0.0\\\\nsamples = 4\\\\nvalue = [0, 0, 0, 0, 0, 0, 8]\", fillcolor=\"#e53986\"] ;\\n728 -> 729 ;\\n730 [label=\"energy <= 0.52\\\\ngini = 0.5\\\\nsamples = 2\\\\nvalue = [0, 1, 0, 0, 0, 0, 1]\", fillcolor=\"#ffffff\"] ;\\n728 -> 730 ;\\n731 [label=\"gini = 0.0\\\\nsamples = 1\\\\nvalue = [0, 0, 0, 0, 0, 0, 1]\", fillcolor=\"#e53986\"] ;\\n730 -> 731 ;\\n732 [label=\"gini = 0.0\\\\nsamples = 1\\\\nvalue = [0, 1, 0, 0, 0, 0, 0]\", fillcolor=\"#b7e539\"] ;\\n730 -> 732 ;\\n733 [label=\"gini = 0.0\\\\nsamples = 1\\\\nvalue = [0, 0, 0, 0, 0, 1, 0]\", fillcolor=\"#b139e5\"] ;\\n727 -> 733 ;\\n734 [label=\"gini = 0.0\\\\nsamples = 9\\\\nvalue = [0, 0, 0, 0, 0, 0, 15]\", fillcolor=\"#e53986\"] ;\\n726 -> 734 ;\\n735 [label=\"valence <= 0.572\\\\ngini = 0.544\\\\nsamples = 135\\\\nvalue = [0, 12, 0, 3, 4, 75, 133]\", fillcolor=\"#f5b3d1\"] ;\\n699 -> 735 ;\\n736 [label=\"instrumentalness <= 0.0\\\\ngini = 0.544\\\\nsamples = 79\\\\nvalue = [0, 3, 0, 2, 1, 59, 64]\", fillcolor=\"#fdf1f6\"] ;\\n735 -> 736 ;\\n737 [label=\"speechiness <= 0.036\\\\ngini = 0.546\\\\nsamples = 59\\\\nvalue = [0, 3, 0, 2, 1, 53, 38]\", fillcolor=\"#ebcdf8\"] ;\\n736 -> 737 ;\\n738 [label=\"popularity <= 82.873\\\\ngini = 0.338\\\\nsamples = 18\\\\nvalue = [0, 2, 0, 0, 0, 4, 24]\", fillcolor=\"#eb67a2\"] ;\\n737 -> 738 ;\\n739 [label=\"liveness <= 0.107\\\\ngini = 0.147\\\\nsamples = 16\\\\nvalue = [0, 2, 0, 0, 0, 0, 23]\", fillcolor=\"#e74a91\"] ;\\n738 -> 739 ;\\n740 [label=\"liveness <= 0.088\\\\ngini = 0.48\\\\nsamples = 4\\\\nvalue = [0, 2, 0, 0, 0, 0, 3]\", fillcolor=\"#f6bdd7\"] ;\\n739 -> 740 ;\\n741 [label=\"gini = 0.0\\\\nsamples = 2\\\\nvalue = [0, 0, 0, 0, 0, 0, 3]\", fillcolor=\"#e53986\"] ;\\n740 -> 741 ;\\n742 [label=\"gini = 0.0\\\\nsamples = 2\\\\nvalue = [0, 2, 0, 0, 0, 0, 0]\", fillcolor=\"#b7e539\"] ;\\n740 -> 742 ;\\n743 [label=\"gini = 0.0\\\\nsamples = 12\\\\nvalue = [0, 0, 0, 0, 0, 0, 20]\", fillcolor=\"#e53986\"] ;\\n739 -> 743 ;\\n744 [label=\"valence <= 0.461\\\\ngini = 0.32\\\\nsamples = 2\\\\nvalue = [0, 0, 0, 0, 0, 4, 1]\", fillcolor=\"#c46aec\"] ;\\n738 -> 744 ;\\n745 [label=\"gini = 0.0\\\\nsamples = 1\\\\nvalue = [0, 0, 0, 0, 0, 4, 0]\", fillcolor=\"#b139e5\"] ;\\n744 -> 745 ;\\n746 [label=\"gini = 0.0\\\\nsamples = 1\\\\nvalue = [0, 0, 0, 0, 0, 0, 1]\", fillcolor=\"#e53986\"] ;\\n744 -> 746 ;\\n747 [label=\"liveness <= 0.109\\\\ngini = 0.42\\\\nsamples = 41\\\\nvalue = [0, 1, 0, 2, 1, 49, 14]\", fillcolor=\"#cb7cee\"] ;\\n737 -> 747 ;\\n748 [label=\"loudness <= -5.474\\\\ngini = 0.648\\\\nsamples = 13\\\\nvalue = [0, 1, 0, 2, 0, 6, 7]\", fillcolor=\"#fcebf3\"] ;\\n747 -> 748 ;\\n749 [label=\"energy <= 0.753\\\\ngini = 0.571\\\\nsamples = 7\\\\nvalue = [0, 1, 0, 2, 0, 4, 0]\", fillcolor=\"#e0b0f5\"] ;\\n748 -> 749 ;\\n750 [label=\"gini = 0.0\\\\nsamples = 4\\\\nvalue = [0, 0, 0, 0, 0, 4, 0]\", fillcolor=\"#b139e5\"] ;\\n749 -> 750 ;\\n751 [label=\"speechiness <= 0.06\\\\ngini = 0.444\\\\nsamples = 3\\\\nvalue = [0, 1, 0, 2, 0, 0, 0]\", fillcolor=\"#9cf2f0\"] ;\\n749 -> 751 ;\\n752 [label=\"gini = 0.0\\\\nsamples = 1\\\\nvalue = [0, 1, 0, 0, 0, 0, 0]\", fillcolor=\"#b7e539\"] ;\\n751 -> 752 ;\\n753 [label=\"gini = 0.0\\\\nsamples = 2\\\\nvalue = [0, 0, 0, 2, 0, 0, 0]\", fillcolor=\"#39e5e2\"] ;\\n751 -> 753 ;\\n754 [label=\"tempo <= 142.52\\\\ngini = 0.346\\\\nsamples = 6\\\\nvalue = [0, 0, 0, 0, 0, 2, 7]\", fillcolor=\"#ec72a9\"] ;\\n748 -> 754 ;\\n755 [label=\"valence <= 0.38\\\\ngini = 0.219\\\\nsamples = 5\\\\nvalue = [0, 0, 0, 0, 0, 1, 7]\", fillcolor=\"#e95597\"] ;\\n754 -> 755 ;\\n756 [label=\"acousticness <= 0.002\\\\ngini = 0.5\\\\nsamples = 2\\\\nvalue = [0, 0, 0, 0, 0, 1, 1]\", fillcolor=\"#ffffff\"] ;\\n755 -> 756 ;\\n757 [label=\"gini = 0.0\\\\nsamples = 1\\\\nvalue = [0, 0, 0, 0, 0, 1, 0]\", fillcolor=\"#b139e5\"] ;\\n756 -> 757 ;\\n758 [label=\"gini = 0.0\\\\nsamples = 1\\\\nvalue = [0, 0, 0, 0, 0, 0, 1]\", fillcolor=\"#e53986\"] ;\\n756 -> 758 ;\\n759 [label=\"gini = 0.0\\\\nsamples = 3\\\\nvalue = [0, 0, 0, 0, 0, 0, 6]\", fillcolor=\"#e53986\"] ;\\n755 -> 759 ;\\n760 [label=\"gini = 0.0\\\\nsamples = 1\\\\nvalue = [0, 0, 0, 0, 0, 1, 0]\", fillcolor=\"#b139e5\"] ;\\n754 -> 760 ;\\n761 [label=\"danceability <= 0.737\\\\ngini = 0.27\\\\nsamples = 28\\\\nvalue = [0, 0, 0, 0, 1, 43, 7]\", fillcolor=\"#bf5dea\"] ;\\n747 -> 761 ;\\n762 [label=\"speechiness <= 0.076\\\\ngini = 0.19\\\\nsamples = 26\\\\nvalue = [0, 0, 0, 0, 1, 43, 4]\", fillcolor=\"#ba50e8\"] ;\\n761 -> 762 ;\\n763 [label=\"energy <= 0.756\\\\ngini = 0.129\\\\nsamples = 24\\\\nvalue = [0, 0, 0, 0, 1, 41, 2]\", fillcolor=\"#b747e7\"] ;\\n762 -> 763 ;\\n764 [label=\"danceability <= 0.725\\\\ngini = 0.099\\\\nsamples = 21\\\\nvalue = [0, 0, 0, 0, 1, 37, 1]\", fillcolor=\"#b543e6\"] ;\\n763 -> 764 ;\\n765 [label=\"loudness <= -6.25\\\\ngini = 0.054\\\\nsamples = 19\\\\nvalue = [0, 0, 0, 0, 0, 35, 1]\", fillcolor=\"#b33fe6\"] ;\\n764 -> 765 ;\\n766 [label=\"gini = 0.0\\\\nsamples = 15\\\\nvalue = [0, 0, 0, 0, 0, 30, 0]\", fillcolor=\"#b139e5\"] ;\\n765 -> 766 ;\\n767 [label=\"liveness <= 0.154\\\\ngini = 0.278\\\\nsamples = 4\\\\nvalue = [0, 0, 0, 0, 0, 5, 1]\", fillcolor=\"#c161ea\"] ;\\n765 -> 767 ;\\n768 [label=\"gini = 0.0\\\\nsamples = 2\\\\nvalue = [0, 0, 0, 0, 0, 4, 0]\", fillcolor=\"#b139e5\"] ;\\n767 -> 768 ;\\n769 [label=\"popularity <= 65.056\\\\ngini = 0.5\\\\nsamples = 2\\\\nvalue = [0, 0, 0, 0, 0, 1, 1]\", fillcolor=\"#ffffff\"] ;\\n767 -> 769 ;\\n770 [label=\"gini = 0.0\\\\nsamples = 1\\\\nvalue = [0, 0, 0, 0, 0, 0, 1]\", fillcolor=\"#e53986\"] ;\\n769 -> 770 ;\\n771 [label=\"gini = 0.0\\\\nsamples = 1\\\\nvalue = [0, 0, 0, 0, 0, 1, 0]\", fillcolor=\"#b139e5\"] ;\\n769 -> 771 ;\\n772 [label=\"loudness <= -5.424\\\\ngini = 0.444\\\\nsamples = 2\\\\nvalue = [0, 0, 0, 0, 1, 2, 0]\", fillcolor=\"#d89cf2\"] ;\\n764 -> 772 ;\\n773 [label=\"gini = 0.0\\\\nsamples = 1\\\\nvalue = [0, 0, 0, 0, 1, 0, 0]\", fillcolor=\"#3956e5\"] ;\\n772 -> 773 ;\\n774 [label=\"gini = 0.0\\\\nsamples = 1\\\\nvalue = [0, 0, 0, 0, 0, 2, 0]\", fillcolor=\"#b139e5\"] ;\\n772 -> 774 ;\\n775 [label=\"popularity <= 70.953\\\\ngini = 0.32\\\\nsamples = 3\\\\nvalue = [0, 0, 0, 0, 0, 4, 1]\", fillcolor=\"#c46aec\"] ;\\n763 -> 775 ;\\n776 [label=\"gini = 0.0\\\\nsamples = 2\\\\nvalue = [0, 0, 0, 0, 0, 4, 0]\", fillcolor=\"#b139e5\"] ;\\n775 -> 776 ;\\n777 [label=\"gini = 0.0\\\\nsamples = 1\\\\nvalue = [0, 0, 0, 0, 0, 0, 1]\", fillcolor=\"#e53986\"] ;\\n775 -> 777 ;\\n778 [label=\"popularity <= 66.904\\\\ngini = 0.5\\\\nsamples = 2\\\\nvalue = [0, 0, 0, 0, 0, 2, 2]\", fillcolor=\"#ffffff\"] ;\\n762 -> 778 ;\\n779 [label=\"gini = 0.0\\\\nsamples = 1\\\\nvalue = [0, 0, 0, 0, 0, 0, 2]\", fillcolor=\"#e53986\"] ;\\n778 -> 779 ;\\n780 [label=\"gini = 0.0\\\\nsamples = 1\\\\nvalue = [0, 0, 0, 0, 0, 2, 0]\", fillcolor=\"#b139e5\"] ;\\n778 -> 780 ;\\n781 [label=\"gini = 0.0\\\\nsamples = 2\\\\nvalue = [0, 0, 0, 0, 0, 0, 3]\", fillcolor=\"#e53986\"] ;\\n761 -> 781 ;\\n782 [label=\"acousticness <= 0.117\\\\ngini = 0.305\\\\nsamples = 20\\\\nvalue = [0, 0, 0, 0, 0, 6, 26]\", fillcolor=\"#eb67a2\"] ;\\n736 -> 782 ;\\n783 [label=\"gini = 0.0\\\\nsamples = 7\\\\nvalue = [0, 0, 0, 0, 0, 0, 13]\", fillcolor=\"#e53986\"] ;\\n782 -> 783 ;\\n784 [label=\"valence <= 0.45\\\\ngini = 0.432\\\\nsamples = 13\\\\nvalue = [0, 0, 0, 0, 0, 6, 13]\", fillcolor=\"#f194be\"] ;\\n782 -> 784 ;\\n785 [label=\"gini = 0.0\\\\nsamples = 7\\\\nvalue = [0, 0, 0, 0, 0, 0, 8]\", fillcolor=\"#e53986\"] ;\\n784 -> 785 ;\\n786 [label=\"danceability <= 0.698\\\\ngini = 0.496\\\\nsamples = 6\\\\nvalue = [0, 0, 0, 0, 0, 6, 5]\", fillcolor=\"#f2defb\"] ;\\n784 -> 786 ;\\n787 [label=\"gini = 0.0\\\\nsamples = 2\\\\nvalue = [0, 0, 0, 0, 0, 0, 4]\", fillcolor=\"#e53986\"] ;\\n786 -> 787 ;\\n788 [label=\"speechiness <= 0.055\\\\ngini = 0.245\\\\nsamples = 4\\\\nvalue = [0, 0, 0, 0, 0, 6, 1]\", fillcolor=\"#be5ae9\"] ;\\n786 -> 788 ;\\n789 [label=\"gini = 0.0\\\\nsamples = 3\\\\nvalue = [0, 0, 0, 0, 0, 6, 0]\", fillcolor=\"#b139e5\"] ;\\n788 -> 789 ;\\n790 [label=\"gini = 0.0\\\\nsamples = 1\\\\nvalue = [0, 0, 0, 0, 0, 0, 1]\", fillcolor=\"#e53986\"] ;\\n788 -> 790 ;\\n791 [label=\"danceability <= 0.678\\\\ngini = 0.468\\\\nsamples = 56\\\\nvalue = [0, 9, 0, 1, 3, 16, 69]\", fillcolor=\"#ee7fb1\"] ;\\n735 -> 791 ;\\n792 [label=\"speechiness <= 0.037\\\\ngini = 0.683\\\\nsamples = 14\\\\nvalue = [0, 5, 0, 0, 2, 8, 11]\", fillcolor=\"#fbdeeb\"] ;\\n791 -> 792 ;\\n793 [label=\"popularity <= 55.864\\\\ngini = 0.459\\\\nsamples = 7\\\\nvalue = [0, 5, 0, 0, 0, 0, 9]\", fillcolor=\"#f3a7c9\"] ;\\n792 -> 793 ;\\n794 [label=\"gini = 0.0\\\\nsamples = 2\\\\nvalue = [0, 5, 0, 0, 0, 0, 0]\", fillcolor=\"#b7e539\"] ;\\n793 -> 794 ;\\n795 [label=\"gini = 0.0\\\\nsamples = 5\\\\nvalue = [0, 0, 0, 0, 0, 0, 9]\", fillcolor=\"#e53986\"] ;\\n793 -> 795 ;\\n796 [label=\"energy <= 0.789\\\\ngini = 0.5\\\\nsamples = 7\\\\nvalue = [0, 0, 0, 0, 2, 8, 2]\", fillcolor=\"#d088ef\"] ;\\n792 -> 796 ;\\n797 [label=\"liveness <= 0.244\\\\ngini = 0.198\\\\nsamples = 5\\\\nvalue = [0, 0, 0, 0, 0, 8, 1]\", fillcolor=\"#bb52e8\"] ;\\n796 -> 797 ;\\n798 [label=\"gini = 0.0\\\\nsamples = 4\\\\nvalue = [0, 0, 0, 0, 0, 8, 0]\", fillcolor=\"#b139e5\"] ;\\n797 -> 798 ;\\n799 [label=\"gini = 0.0\\\\nsamples = 1\\\\nvalue = [0, 0, 0, 0, 0, 0, 1]\", fillcolor=\"#e53986\"] ;\\n797 -> 799 ;\\n800 [label=\"speechiness <= 0.061\\\\ngini = 0.444\\\\nsamples = 2\\\\nvalue = [0, 0, 0, 0, 2, 0, 1]\", fillcolor=\"#9caaf2\"] ;\\n796 -> 800 ;\\n801 [label=\"gini = 0.0\\\\nsamples = 1\\\\nvalue = [0, 0, 0, 0, 2, 0, 0]\", fillcolor=\"#3956e5\"] ;\\n800 -> 801 ;\\n802 [label=\"gini = 0.0\\\\nsamples = 1\\\\nvalue = [0, 0, 0, 0, 0, 0, 1]\", fillcolor=\"#e53986\"] ;\\n800 -> 802 ;\\n803 [label=\"tempo <= 133.073\\\\ngini = 0.335\\\\nsamples = 42\\\\nvalue = [0, 4, 0, 1, 1, 8, 58]\", fillcolor=\"#eb64a0\"] ;\\n791 -> 803 ;\\n804 [label=\"loudness <= -7.25\\\\ngini = 0.236\\\\nsamples = 36\\\\nvalue = [0, 2, 0, 1, 1, 4, 54]\", fillcolor=\"#e95497\"] ;\\n803 -> 804 ;\\n805 [label=\"gini = 0.0\\\\nsamples = 12\\\\nvalue = [0, 0, 0, 0, 0, 0, 28]\", fillcolor=\"#e53986\"] ;\\n804 -> 805 ;\\n806 [label=\"acousticness <= 0.077\\\\ngini = 0.396\\\\nsamples = 24\\\\nvalue = [0, 2, 0, 1, 1, 4, 26]\", fillcolor=\"#ec6ea6\"] ;\\n804 -> 806 ;\\n807 [label=\"instrumentalness <= 0.0\\\\ngini = 0.265\\\\nsamples = 13\\\\nvalue = [0, 0, 0, 0, 1, 2, 17]\", fillcolor=\"#e95a9a\"] ;\\n806 -> 807 ;\\n808 [label=\"liveness <= 0.388\\\\ngini = 0.494\\\\nsamples = 8\\\\nvalue = [0, 0, 0, 0, 1, 2, 6]\", fillcolor=\"#f08eba\"] ;\\n807 -> 808 ;\\n809 [label=\"liveness <= 0.077\\\\ngini = 0.375\\\\nsamples = 7\\\\nvalue = [0, 0, 0, 0, 0, 2, 6]\", fillcolor=\"#ee7bae\"] ;\\n808 -> 809 ;\\n810 [label=\"gini = 0.0\\\\nsamples = 1\\\\nvalue = [0, 0, 0, 0, 0, 1, 0]\", fillcolor=\"#b139e5\"] ;\\n809 -> 810 ;\\n811 [label=\"tempo <= 100.522\\\\ngini = 0.245\\\\nsamples = 6\\\\nvalue = [0, 0, 0, 0, 0, 1, 6]\", fillcolor=\"#e95a9a\"] ;\\n809 -> 811 ;\\n812 [label=\"danceability <= 0.682\\\\ngini = 0.444\\\\nsamples = 3\\\\nvalue = [0, 0, 0, 0, 0, 1, 2]\", fillcolor=\"#f29cc2\"] ;\\n811 -> 812 ;\\n813 [label=\"gini = 0.0\\\\nsamples = 1\\\\nvalue = [0, 0, 0, 0, 0, 0, 1]\", fillcolor=\"#e53986\"] ;\\n812 -> 813 ;\\n814 [label=\"energy <= 0.72\\\\ngini = 0.5\\\\nsamples = 2\\\\nvalue = [0, 0, 0, 0, 0, 1, 1]\", fillcolor=\"#ffffff\"] ;\\n812 -> 814 ;\\n815 [label=\"gini = 0.0\\\\nsamples = 1\\\\nvalue = [0, 0, 0, 0, 0, 0, 1]\", fillcolor=\"#e53986\"] ;\\n814 -> 815 ;\\n816 [label=\"gini = 0.0\\\\nsamples = 1\\\\nvalue = [0, 0, 0, 0, 0, 1, 0]\", fillcolor=\"#b139e5\"] ;\\n814 -> 816 ;\\n817 [label=\"gini = 0.0\\\\nsamples = 3\\\\nvalue = [0, 0, 0, 0, 0, 0, 4]\", fillcolor=\"#e53986\"] ;\\n811 -> 817 ;\\n818 [label=\"gini = 0.0\\\\nsamples = 1\\\\nvalue = [0, 0, 0, 0, 1, 0, 0]\", fillcolor=\"#3956e5\"] ;\\n808 -> 818 ;\\n819 [label=\"gini = 0.0\\\\nsamples = 5\\\\nvalue = [0, 0, 0, 0, 0, 0, 11]\", fillcolor=\"#e53986\"] ;\\n807 -> 819 ;\\n820 [label=\"speechiness <= 0.05\\\\ngini = 0.541\\\\nsamples = 11\\\\nvalue = [0, 2, 0, 1, 0, 2, 9]\", fillcolor=\"#f08cb8\"] ;\\n806 -> 820 ;\\n821 [label=\"loudness <= -6.122\\\\ngini = 0.298\\\\nsamples = 8\\\\nvalue = [0, 2, 0, 0, 0, 0, 9]\", fillcolor=\"#eb65a1\"] ;\\n820 -> 821 ;\\n822 [label=\"danceability <= 0.703\\\\ngini = 0.5\\\\nsamples = 4\\\\nvalue = [0, 2, 0, 0, 0, 0, 2]\", fillcolor=\"#ffffff\"] ;\\n821 -> 822 ;\\n823 [label=\"gini = 0.0\\\\nsamples = 2\\\\nvalue = [0, 2, 0, 0, 0, 0, 0]\", fillcolor=\"#b7e539\"] ;\\n822 -> 823 ;\\n824 [label=\"gini = 0.0\\\\nsamples = 2\\\\nvalue = [0, 0, 0, 0, 0, 0, 2]\", fillcolor=\"#e53986\"] ;\\n822 -> 824 ;\\n825 [label=\"gini = 0.0\\\\nsamples = 4\\\\nvalue = [0, 0, 0, 0, 0, 0, 7]\", fillcolor=\"#e53986\"] ;\\n821 -> 825 ;\\n826 [label=\"loudness <= -7.204\\\\ngini = 0.444\\\\nsamples = 3\\\\nvalue = [0, 0, 0, 1, 0, 2, 0]\", fillcolor=\"#d89cf2\"] ;\\n820 -> 826 ;\\n827 [label=\"gini = 0.0\\\\nsamples = 1\\\\nvalue = [0, 0, 0, 1, 0, 0, 0]\", fillcolor=\"#39e5e2\"] ;\\n826 -> 827 ;\\n828 [label=\"gini = 0.0\\\\nsamples = 2\\\\nvalue = [0, 0, 0, 0, 0, 2, 0]\", fillcolor=\"#b139e5\"] ;\\n826 -> 828 ;\\n829 [label=\"danceability <= 0.696\\\\ngini = 0.64\\\\nsamples = 6\\\\nvalue = [0, 2, 0, 0, 0, 4, 4]\", fillcolor=\"#ffffff\"] ;\\n803 -> 829 ;\\n830 [label=\"gini = 0.0\\\\nsamples = 2\\\\nvalue = [0, 0, 0, 0, 0, 0, 4]\", fillcolor=\"#e53986\"] ;\\n829 -> 830 ;\\n831 [label=\"energy <= 0.616\\\\ngini = 0.444\\\\nsamples = 4\\\\nvalue = [0, 2, 0, 0, 0, 4, 0]\", fillcolor=\"#d89cf2\"] ;\\n829 -> 831 ;\\n832 [label=\"gini = 0.0\\\\nsamples = 1\\\\nvalue = [0, 2, 0, 0, 0, 0, 0]\", fillcolor=\"#b7e539\"] ;\\n831 -> 832 ;\\n833 [label=\"gini = 0.0\\\\nsamples = 3\\\\nvalue = [0, 0, 0, 0, 0, 4, 0]\", fillcolor=\"#b139e5\"] ;\\n831 -> 833 ;\\n834 [label=\"speechiness <= 0.045\\\\ngini = 0.544\\\\nsamples = 80\\\\nvalue = [1, 4, 0, 0, 34, 8, 73]\", fillcolor=\"#f3a5c8\"] ;\\n380 -> 834 ;\\n835 [label=\"tempo <= 86.152\\\\ngini = 0.432\\\\nsamples = 62\\\\nvalue = [1, 4, 0, 0, 16, 4, 68]\", fillcolor=\"#ed79ad\"] ;\\n834 -> 835 ;\\n836 [label=\"speechiness <= 0.035\\\\ngini = 0.635\\\\nsamples = 16\\\\nvalue = [0, 1, 0, 0, 10, 3, 10]\", fillcolor=\"#ffffff\"] ;\\n835 -> 836 ;\\n837 [label=\"loudness <= -4.322\\\\ngini = 0.54\\\\nsamples = 8\\\\nvalue = [0, 0, 0, 0, 1, 3, 6]\", fillcolor=\"#f4aacb\"] ;\\n836 -> 837 ;\\n838 [label=\"tempo <= 37.643\\\\ngini = 0.245\\\\nsamples = 7\\\\nvalue = [0, 0, 0, 0, 1, 0, 6]\", fillcolor=\"#e95a9a\"] ;\\n837 -> 838 ;\\n839 [label=\"speechiness <= 0.033\\\\ngini = 0.5\\\\nsamples = 2\\\\nvalue = [0, 0, 0, 0, 1, 0, 1]\", fillcolor=\"#ffffff\"] ;\\n838 -> 839 ;\\n840 [label=\"gini = 0.0\\\\nsamples = 1\\\\nvalue = [0, 0, 0, 0, 1, 0, 0]\", fillcolor=\"#3956e5\"] ;\\n839 -> 840 ;\\n841 [label=\"gini = 0.0\\\\nsamples = 1\\\\nvalue = [0, 0, 0, 0, 0, 0, 1]\", fillcolor=\"#e53986\"] ;\\n839 -> 841 ;\\n842 [label=\"gini = 0.0\\\\nsamples = 5\\\\nvalue = [0, 0, 0, 0, 0, 0, 5]\", fillcolor=\"#e53986\"] ;\\n838 -> 842 ;\\n843 [label=\"gini = 0.0\\\\nsamples = 1\\\\nvalue = [0, 0, 0, 0, 0, 3, 0]\", fillcolor=\"#b139e5\"] ;\\n837 -> 843 ;\\n844 [label=\"duration_ms <= 84680.156\\\\ngini = 0.5\\\\nsamples = 8\\\\nvalue = [0, 1, 0, 0, 9, 0, 4]\", fillcolor=\"#9caaf2\"] ;\\n836 -> 844 ;\\n845 [label=\"gini = 0.0\\\\nsamples = 1\\\\nvalue = [0, 0, 0, 0, 0, 0, 2]\", fillcolor=\"#e53986\"] ;\\n844 -> 845 ;\\n846 [label=\"liveness <= 0.111\\\\ngini = 0.403\\\\nsamples = 7\\\\nvalue = [0, 1, 0, 0, 9, 0, 2]\", fillcolor=\"#7489ed\"] ;\\n844 -> 846 ;\\n847 [label=\"energy <= 0.364\\\\ngini = 0.571\\\\nsamples = 4\\\\nvalue = [0, 1, 0, 0, 4, 0, 2]\", fillcolor=\"#b0bbf5\"] ;\\n846 -> 847 ;\\n848 [label=\"loudness <= -14.007\\\\ngini = 0.32\\\\nsamples = 3\\\\nvalue = [0, 1, 0, 0, 4, 0, 0]\", fillcolor=\"#6a80ec\"] ;\\n847 -> 848 ;\\n849 [label=\"gini = 0.0\\\\nsamples = 1\\\\nvalue = [0, 1, 0, 0, 0, 0, 0]\", fillcolor=\"#b7e539\"] ;\\n848 -> 849 ;\\n850 [label=\"gini = 0.0\\\\nsamples = 2\\\\nvalue = [0, 0, 0, 0, 4, 0, 0]\", fillcolor=\"#3956e5\"] ;\\n848 -> 850 ;\\n851 [label=\"gini = 0.0\\\\nsamples = 1\\\\nvalue = [0, 0, 0, 0, 0, 0, 2]\", fillcolor=\"#e53986\"] ;\\n847 -> 851 ;\\n852 [label=\"gini = 0.0\\\\nsamples = 3\\\\nvalue = [0, 0, 0, 0, 5, 0, 0]\", fillcolor=\"#3956e5\"] ;\\n846 -> 852 ;\\n853 [label=\"tempo <= 187.607\\\\ngini = 0.284\\\\nsamples = 46\\\\nvalue = [1, 3, 0, 0, 6, 1, 58]\", fillcolor=\"#ea5c9b\"] ;\\n835 -> 853 ;\\n854 [label=\"speechiness <= 0.035\\\\ngini = 0.263\\\\nsamples = 45\\\\nvalue = [0, 3, 0, 0, 6, 1, 58]\", fillcolor=\"#e9599a\"] ;\\n853 -> 854 ;\\n855 [label=\"danceability <= 0.722\\\\ngini = 0.135\\\\nsamples = 24\\\\nvalue = [0, 2, 0, 0, 1, 0, 39]\", fillcolor=\"#e7488f\"] ;\\n854 -> 855 ;\\n856 [label=\"duration_ms <= 179168.445\\\\ngini = 0.093\\\\nsamples = 23\\\\nvalue = [0, 2, 0, 0, 0, 0, 39]\", fillcolor=\"#e6438c\"] ;\\n855 -> 856 ;\\n857 [label=\"instrumentalness <= 0.0\\\\ngini = 0.444\\\\nsamples = 3\\\\nvalue = [0, 1, 0, 0, 0, 0, 2]\", fillcolor=\"#f29cc2\"] ;\\n856 -> 857 ;\\n858 [label=\"gini = 0.0\\\\nsamples = 2\\\\nvalue = [0, 0, 0, 0, 0, 0, 2]\", fillcolor=\"#e53986\"] ;\\n857 -> 858 ;\\n859 [label=\"gini = 0.0\\\\nsamples = 1\\\\nvalue = [0, 1, 0, 0, 0, 0, 0]\", fillcolor=\"#b7e539\"] ;\\n857 -> 859 ;\\n860 [label=\"tempo <= 162.795\\\\ngini = 0.051\\\\nsamples = 20\\\\nvalue = [0, 1, 0, 0, 0, 0, 37]\", fillcolor=\"#e63e89\"] ;\\n856 -> 860 ;\\n861 [label=\"gini = 0.0\\\\nsamples = 17\\\\nvalue = [0, 0, 0, 0, 0, 0, 32]\", fillcolor=\"#e53986\"] ;\\n860 -> 861 ;\\n862 [label=\"acousticness <= 0.828\\\\ngini = 0.278\\\\nsamples = 3\\\\nvalue = [0, 1, 0, 0, 0, 0, 5]\", fillcolor=\"#ea619e\"] ;\\n860 -> 862 ;\\n863 [label=\"gini = 0.0\\\\nsamples = 2\\\\nvalue = [0, 0, 0, 0, 0, 0, 5]\", fillcolor=\"#e53986\"] ;\\n862 -> 863 ;\\n864 [label=\"gini = 0.0\\\\nsamples = 1\\\\nvalue = [0, 1, 0, 0, 0, 0, 0]\", fillcolor=\"#b7e539\"] ;\\n862 -> 864 ;\\n865 [label=\"gini = 0.0\\\\nsamples = 1\\\\nvalue = [0, 0, 0, 0, 1, 0, 0]\", fillcolor=\"#3956e5\"] ;\\n855 -> 865 ;\\n866 [label=\"speechiness <= 0.036\\\\ngini = 0.426\\\\nsamples = 21\\\\nvalue = [0, 1, 0, 0, 5, 1, 19]\", fillcolor=\"#ee7bae\"] ;\\n854 -> 866 ;\\n867 [label=\"gini = 0.0\\\\nsamples = 2\\\\nvalue = [0, 0, 0, 0, 3, 0, 0]\", fillcolor=\"#3956e5\"] ;\\n866 -> 867 ;\\n868 [label=\"popularity <= 59.38\\\\ngini = 0.306\\\\nsamples = 19\\\\nvalue = [0, 1, 0, 0, 2, 1, 19]\", fillcolor=\"#ea5f9d\"] ;\\n866 -> 868 ;\\n869 [label=\"gini = 0.0\\\\nsamples = 5\\\\nvalue = [0, 0, 0, 0, 0, 0, 8]\", fillcolor=\"#e53986\"] ;\\n868 -> 869 ;\\n870 [label=\"popularity <= 62.232\\\\ngini = 0.436\\\\nsamples = 14\\\\nvalue = [0, 1, 0, 0, 2, 1, 11]\", fillcolor=\"#ed76ab\"] ;\\n868 -> 870 ;\\n871 [label=\"energy <= 0.376\\\\ngini = 0.444\\\\nsamples = 3\\\\nvalue = [0, 1, 0, 0, 2, 0, 0]\", fillcolor=\"#9caaf2\"] ;\\n870 -> 871 ;\\n872 [label=\"gini = 0.0\\\\nsamples = 1\\\\nvalue = [0, 1, 0, 0, 0, 0, 0]\", fillcolor=\"#b7e539\"] ;\\n871 -> 872 ;\\n873 [label=\"gini = 0.0\\\\nsamples = 2\\\\nvalue = [0, 0, 0, 0, 2, 0, 0]\", fillcolor=\"#3956e5\"] ;\\n871 -> 873 ;\\n874 [label=\"speechiness <= 0.04\\\\ngini = 0.153\\\\nsamples = 11\\\\nvalue = [0, 0, 0, 0, 0, 1, 11]\", fillcolor=\"#e74b91\"] ;\\n870 -> 874 ;\\n875 [label=\"duration_ms <= 167528.098\\\\ngini = 0.278\\\\nsamples = 6\\\\nvalue = [0, 0, 0, 0, 0, 1, 5]\", fillcolor=\"#ea619e\"] ;\\n874 -> 875 ;\\n876 [label=\"gini = 0.0\\\\nsamples = 1\\\\nvalue = [0, 0, 0, 0, 0, 1, 0]\", fillcolor=\"#b139e5\"] ;\\n875 -> 876 ;\\n877 [label=\"gini = 0.0\\\\nsamples = 5\\\\nvalue = [0, 0, 0, 0, 0, 0, 5]\", fillcolor=\"#e53986\"] ;\\n875 -> 877 ;\\n878 [label=\"gini = 0.0\\\\nsamples = 5\\\\nvalue = [0, 0, 0, 0, 0, 0, 6]\", fillcolor=\"#e53986\"] ;\\n874 -> 878 ;\\n879 [label=\"gini = 0.0\\\\nsamples = 1\\\\nvalue = [1, 0, 0, 0, 0, 0, 0]\", fillcolor=\"#e58139\"] ;\\n853 -> 879 ;\\n880 [label=\"tempo <= 153.327\\\\ngini = 0.499\\\\nsamples = 18\\\\nvalue = [0, 0, 0, 0, 18, 4, 5]\", fillcolor=\"#8a9bf0\"] ;\\n834 -> 880 ;\\n881 [label=\"instrumentalness <= 0.0\\\\ngini = 0.355\\\\nsamples = 15\\\\nvalue = [0, 0, 0, 0, 18, 4, 1]\", fillcolor=\"#6d82ec\"] ;\\n880 -> 881 ;\\n882 [label=\"valence <= 0.355\\\\ngini = 0.208\\\\nsamples = 11\\\\nvalue = [0, 0, 0, 0, 15, 2, 0]\", fillcolor=\"#536de8\"] ;\\n881 -> 882 ;\\n883 [label=\"gini = 0.0\\\\nsamples = 1\\\\nvalue = [0, 0, 0, 0, 0, 1, 0]\", fillcolor=\"#b139e5\"] ;\\n882 -> 883 ;\\n884 [label=\"popularity <= 60.333\\\\ngini = 0.117\\\\nsamples = 10\\\\nvalue = [0, 0, 0, 0, 15, 1, 0]\", fillcolor=\"#4661e7\"] ;\\n882 -> 884 ;\\n885 [label=\"gini = 0.0\\\\nsamples = 8\\\\nvalue = [0, 0, 0, 0, 14, 0, 0]\", fillcolor=\"#3956e5\"] ;\\n884 -> 885 ;\\n886 [label=\"energy <= 0.617\\\\ngini = 0.5\\\\nsamples = 2\\\\nvalue = [0, 0, 0, 0, 1, 1, 0]\", fillcolor=\"#ffffff\"] ;\\n884 -> 886 ;\\n887 [label=\"gini = 0.0\\\\nsamples = 1\\\\nvalue = [0, 0, 0, 0, 0, 1, 0]\", fillcolor=\"#b139e5\"] ;\\n886 -> 887 ;\\n888 [label=\"gini = 0.0\\\\nsamples = 1\\\\nvalue = [0, 0, 0, 0, 1, 0, 0]\", fillcolor=\"#3956e5\"] ;\\n886 -> 888 ;\\n889 [label=\"popularity <= 60.3\\\\ngini = 0.611\\\\nsamples = 4\\\\nvalue = [0, 0, 0, 0, 3, 2, 1]\", fillcolor=\"#ced5f8\"] ;\\n881 -> 889 ;\\n890 [label=\"gini = 0.0\\\\nsamples = 2\\\\nvalue = [0, 0, 0, 0, 3, 0, 0]\", fillcolor=\"#3956e5\"] ;\\n889 -> 890 ;\\n891 [label=\"loudness <= -12.238\\\\ngini = 0.444\\\\nsamples = 2\\\\nvalue = [0, 0, 0, 0, 0, 2, 1]\", fillcolor=\"#d89cf2\"] ;\\n889 -> 891 ;\\n892 [label=\"gini = 0.0\\\\nsamples = 1\\\\nvalue = [0, 0, 0, 0, 0, 0, 1]\", fillcolor=\"#e53986\"] ;\\n891 -> 892 ;\\n893 [label=\"gini = 0.0\\\\nsamples = 1\\\\nvalue = [0, 0, 0, 0, 0, 2, 0]\", fillcolor=\"#b139e5\"] ;\\n891 -> 893 ;\\n894 [label=\"gini = 0.0\\\\nsamples = 3\\\\nvalue = [0, 0, 0, 0, 0, 0, 4]\", fillcolor=\"#e53986\"] ;\\n880 -> 894 ;\\n895 [label=\"danceability <= 0.323\\\\ngini = 0.662\\\\nsamples = 192\\\\nvalue = [48, 0, 37, 0, 154, 5, 57]\", fillcolor=\"#b0bcf5\"] ;\\n71 -> 895 ;\\n896 [label=\"instrumentalness <= 0.946\\\\ngini = 0.558\\\\nsamples = 26\\\\nvalue = [26, 0, 6, 0, 2, 0, 8]\", fillcolor=\"#f1bc96\"] ;\\n895 -> 896 ;\\n897 [label=\"duration_ms <= 272652.375\\\\ngini = 0.226\\\\nsamples = 16\\\\nvalue = [21, 0, 0, 0, 1, 0, 2]\", fillcolor=\"#e99254\"] ;\\n896 -> 897 ;\\n898 [label=\"acousticness <= 0.19\\\\ngini = 0.091\\\\nsamples = 13\\\\nvalue = [20, 0, 0, 0, 1, 0, 0]\", fillcolor=\"#e68743\"] ;\\n897 -> 898 ;\\n899 [label=\"gini = 0.0\\\\nsamples = 1\\\\nvalue = [0, 0, 0, 0, 1, 0, 0]\", fillcolor=\"#3956e5\"] ;\\n898 -> 899 ;\\n900 [label=\"gini = 0.0\\\\nsamples = 12\\\\nvalue = [20, 0, 0, 0, 0, 0, 0]\", fillcolor=\"#e58139\"] ;\\n898 -> 900 ;\\n901 [label=\"duration_ms <= 279870.219\\\\ngini = 0.444\\\\nsamples = 3\\\\nvalue = [1, 0, 0, 0, 0, 0, 2]\", fillcolor=\"#f29cc2\"] ;\\n897 -> 901 ;\\n902 [label=\"gini = 0.0\\\\nsamples = 2\\\\nvalue = [0, 0, 0, 0, 0, 0, 2]\", fillcolor=\"#e53986\"] ;\\n901 -> 902 ;\\n903 [label=\"gini = 0.0\\\\nsamples = 1\\\\nvalue = [1, 0, 0, 0, 0, 0, 0]\", fillcolor=\"#e58139\"] ;\\n901 -> 903 ;\\n904 [label=\"tempo <= 125.695\\\\ngini = 0.698\\\\nsamples = 10\\\\nvalue = [5, 0, 6, 0, 1, 0, 6]\", fillcolor=\"#ffffff\"] ;\\n896 -> 904 ;\\n905 [label=\"liveness <= 0.156\\\\ngini = 0.622\\\\nsamples = 6\\\\nvalue = [1, 0, 6, 0, 1, 0, 6]\", fillcolor=\"#ffffff\"] ;\\n904 -> 905 ;\\n906 [label=\"popularity <= 48.104\\\\ngini = 0.612\\\\nsamples = 5\\\\nvalue = [1, 0, 3, 0, 1, 0, 6]\", fillcolor=\"#f5b5d2\"] ;\\n905 -> 906 ;\\n907 [label=\"instrumentalness <= 1.013\\\\ngini = 0.56\\\\nsamples = 3\\\\nvalue = [1, 0, 3, 0, 1, 0, 0]\", fillcolor=\"#9cf2a6\"] ;\\n906 -> 907 ;\\n908 [label=\"gini = 0.0\\\\nsamples = 1\\\\nvalue = [0, 0, 3, 0, 0, 0, 0]\", fillcolor=\"#39e54d\"] ;\\n907 -> 908 ;\\n909 [label=\"valence <= 0.118\\\\ngini = 0.5\\\\nsamples = 2\\\\nvalue = [1, 0, 0, 0, 1, 0, 0]\", fillcolor=\"#ffffff\"] ;\\n907 -> 909 ;\\n910 [label=\"gini = 0.0\\\\nsamples = 1\\\\nvalue = [0, 0, 0, 0, 1, 0, 0]\", fillcolor=\"#3956e5\"] ;\\n909 -> 910 ;\\n911 [label=\"gini = 0.0\\\\nsamples = 1\\\\nvalue = [1, 0, 0, 0, 0, 0, 0]\", fillcolor=\"#e58139\"] ;\\n909 -> 911 ;\\n912 [label=\"gini = 0.0\\\\nsamples = 2\\\\nvalue = [0, 0, 0, 0, 0, 0, 6]\", fillcolor=\"#e53986\"] ;\\n906 -> 912 ;\\n913 [label=\"gini = 0.0\\\\nsamples = 1\\\\nvalue = [0, 0, 3, 0, 0, 0, 0]\", fillcolor=\"#39e54d\"] ;\\n905 -> 913 ;\\n914 [label=\"gini = 0.0\\\\nsamples = 4\\\\nvalue = [4, 0, 0, 0, 0, 0, 0]\", fillcolor=\"#e58139\"] ;\\n904 -> 914 ;\\n915 [label=\"instrumentalness <= 0.836\\\\ngini = 0.598\\\\nsamples = 166\\\\nvalue = [22, 0, 31, 0, 152, 5, 49]\", fillcolor=\"#9eacf2\"] ;\\n895 -> 915 ;\\n916 [label=\"tempo <= 120.664\\\\ngini = 0.645\\\\nsamples = 76\\\\nvalue = [11, 0, 13, 0, 63, 4, 29]\", fillcolor=\"#b5c0f5\"] ;\\n915 -> 916 ;\\n917 [label=\"duration_ms <= 282010.859\\\\ngini = 0.536\\\\nsamples = 50\\\\nvalue = [6, 0, 7, 0, 50, 4, 9]\", fillcolor=\"#8698ef\"] ;\\n916 -> 917 ;\\n918 [label=\"danceability <= 0.605\\\\ngini = 0.483\\\\nsamples = 44\\\\nvalue = [5, 0, 7, 0, 46, 0, 8]\", fillcolor=\"#7d90ee\"] ;\\n917 -> 918 ;\\n919 [label=\"valence <= 0.286\\\\ngini = 0.673\\\\nsamples = 19\\\\nvalue = [5, 0, 3, 0, 14, 0, 8]\", fillcolor=\"#c9d1f8\"] ;\\n918 -> 919 ;\\n920 [label=\"duration_ms <= 244396.18\\\\ngini = 0.32\\\\nsamples = 6\\\\nvalue = [0, 0, 2, 0, 8, 0, 0]\", fillcolor=\"#6a80ec\"] ;\\n919 -> 920 ;\\n921 [label=\"gini = 0.0\\\\nsamples = 5\\\\nvalue = [0, 0, 0, 0, 8, 0, 0]\", fillcolor=\"#3956e5\"] ;\\n920 -> 921 ;\\n922 [label=\"gini = 0.0\\\\nsamples = 1\\\\nvalue = [0, 0, 2, 0, 0, 0, 0]\", fillcolor=\"#39e54d\"] ;\\n920 -> 922 ;\\n923 [label=\"liveness <= 0.222\\\\ngini = 0.685\\\\nsamples = 13\\\\nvalue = [5, 0, 1, 0, 6, 0, 8]\", fillcolor=\"#fbe3ee\"] ;\\n919 -> 923 ;\\n924 [label=\"tempo <= 94.58\\\\ngini = 0.611\\\\nsamples = 8\\\\nvalue = [4, 0, 0, 0, 6, 0, 2]\", fillcolor=\"#ced5f8\"] ;\\n923 -> 924 ;\\n925 [label=\"energy <= 0.648\\\\ngini = 0.625\\\\nsamples = 5\\\\nvalue = [4, 0, 0, 0, 2, 0, 2]\", fillcolor=\"#f6d5bd\"] ;\\n924 -> 925 ;\\n926 [label=\"duration_ms <= 233754.227\\\\ngini = 0.444\\\\nsamples = 4\\\\nvalue = [4, 0, 0, 0, 0, 0, 2]\", fillcolor=\"#f2c09c\"] ;\\n925 -> 926 ;\\n927 [label=\"gini = 0.0\\\\nsamples = 2\\\\nvalue = [4, 0, 0, 0, 0, 0, 0]\", fillcolor=\"#e58139\"] ;\\n926 -> 927 ;\\n928 [label=\"gini = 0.0\\\\nsamples = 2\\\\nvalue = [0, 0, 0, 0, 0, 0, 2]\", fillcolor=\"#e53986\"] ;\\n926 -> 928 ;\\n929 [label=\"gini = 0.0\\\\nsamples = 1\\\\nvalue = [0, 0, 0, 0, 2, 0, 0]\", fillcolor=\"#3956e5\"] ;\\n925 -> 929 ;\\n930 [label=\"gini = 0.0\\\\nsamples = 3\\\\nvalue = [0, 0, 0, 0, 4, 0, 0]\", fillcolor=\"#3956e5\"] ;\\n924 -> 930 ;\\n931 [label=\"loudness <= -9.013\\\\ngini = 0.406\\\\nsamples = 5\\\\nvalue = [1, 0, 1, 0, 0, 0, 6]\", fillcolor=\"#ec72a9\"] ;\\n923 -> 931 ;\\n932 [label=\"gini = 0.0\\\\nsamples = 3\\\\nvalue = [0, 0, 0, 0, 0, 0, 6]\", fillcolor=\"#e53986\"] ;\\n931 -> 932 ;\\n933 [label=\"tempo <= 81.892\\\\ngini = 0.5\\\\nsamples = 2\\\\nvalue = [1, 0, 1, 0, 0, 0, 0]\", fillcolor=\"#ffffff\"] ;\\n931 -> 933 ;\\n934 [label=\"gini = 0.0\\\\nsamples = 1\\\\nvalue = [1, 0, 0, 0, 0, 0, 0]\", fillcolor=\"#e58139\"] ;\\n933 -> 934 ;\\n935 [label=\"gini = 0.0\\\\nsamples = 1\\\\nvalue = [0, 0, 1, 0, 0, 0, 0]\", fillcolor=\"#39e54d\"] ;\\n933 -> 935 ;\\n936 [label=\"tempo <= 37.319\\\\ngini = 0.198\\\\nsamples = 25\\\\nvalue = [0, 0, 4, 0, 32, 0, 0]\", fillcolor=\"#526be8\"] ;\\n918 -> 936 ;\\n937 [label=\"speechiness <= 0.055\\\\ngini = 0.444\\\\nsamples = 2\\\\nvalue = [0, 0, 1, 0, 2, 0, 0]\", fillcolor=\"#9caaf2\"] ;\\n936 -> 937 ;\\n938 [label=\"gini = 0.0\\\\nsamples = 1\\\\nvalue = [0, 0, 0, 0, 2, 0, 0]\", fillcolor=\"#3956e5\"] ;\\n937 -> 938 ;\\n939 [label=\"gini = 0.0\\\\nsamples = 1\\\\nvalue = [0, 0, 1, 0, 0, 0, 0]\", fillcolor=\"#39e54d\"] ;\\n937 -> 939 ;\\n940 [label=\"energy <= 0.819\\\\ngini = 0.165\\\\nsamples = 23\\\\nvalue = [0, 0, 3, 0, 30, 0, 0]\", fillcolor=\"#4d67e8\"] ;\\n936 -> 940 ;\\n941 [label=\"liveness <= 0.08\\\\ngini = 0.062\\\\nsamples = 22\\\\nvalue = [0, 0, 1, 0, 30, 0, 0]\", fillcolor=\"#405ce6\"] ;\\n940 -> 941 ;\\n942 [label=\"gini = 0.0\\\\nsamples = 1\\\\nvalue = [0, 0, 1, 0, 0, 0, 0]\", fillcolor=\"#39e54d\"] ;\\n941 -> 942 ;\\n943 [label=\"gini = 0.0\\\\nsamples = 21\\\\nvalue = [0, 0, 0, 0, 30, 0, 0]\", fillcolor=\"#3956e5\"] ;\\n941 -> 943 ;\\n944 [label=\"gini = 0.0\\\\nsamples = 1\\\\nvalue = [0, 0, 2, 0, 0, 0, 0]\", fillcolor=\"#39e54d\"] ;\\n940 -> 944 ;\\n945 [label=\"tempo <= 117.173\\\\ngini = 0.66\\\\nsamples = 6\\\\nvalue = [1, 0, 0, 0, 4, 4, 1]\", fillcolor=\"#ffffff\"] ;\\n917 -> 945 ;\\n946 [label=\"instrumentalness <= 0.54\\\\ngini = 0.5\\\\nsamples = 5\\\\nvalue = [1, 0, 0, 0, 4, 0, 1]\", fillcolor=\"#889aef\"] ;\\n945 -> 946 ;\\n947 [label=\"gini = 0.0\\\\nsamples = 1\\\\nvalue = [0, 0, 0, 0, 0, 0, 1]\", fillcolor=\"#e53986\"] ;\\n946 -> 947 ;\\n948 [label=\"energy <= 0.477\\\\ngini = 0.32\\\\nsamples = 4\\\\nvalue = [1, 0, 0, 0, 4, 0, 0]\", fillcolor=\"#6a80ec\"] ;\\n946 -> 948 ;\\n949 [label=\"speechiness <= 0.04\\\\ngini = 0.5\\\\nsamples = 2\\\\nvalue = [1, 0, 0, 0, 1, 0, 0]\", fillcolor=\"#ffffff\"] ;\\n948 -> 949 ;\\n950 [label=\"gini = 0.0\\\\nsamples = 1\\\\nvalue = [0, 0, 0, 0, 1, 0, 0]\", fillcolor=\"#3956e5\"] ;\\n949 -> 950 ;\\n951 [label=\"gini = 0.0\\\\nsamples = 1\\\\nvalue = [1, 0, 0, 0, 0, 0, 0]\", fillcolor=\"#e58139\"] ;\\n949 -> 951 ;\\n952 [label=\"gini = 0.0\\\\nsamples = 2\\\\nvalue = [0, 0, 0, 0, 3, 0, 0]\", fillcolor=\"#3956e5\"] ;\\n948 -> 952 ;\\n953 [label=\"gini = 0.0\\\\nsamples = 1\\\\nvalue = [0, 0, 0, 0, 0, 4, 0]\", fillcolor=\"#b139e5\"] ;\\n945 -> 953 ;\\n954 [label=\"popularity <= 53.745\\\\ngini = 0.675\\\\nsamples = 26\\\\nvalue = [5, 0, 6, 0, 13, 0, 20]\", fillcolor=\"#f9d2e4\"] ;\\n916 -> 954 ;\\n955 [label=\"valence <= 0.322\\\\ngini = 0.615\\\\nsamples = 16\\\\nvalue = [4, 0, 6, 0, 13, 0, 1]\", fillcolor=\"#b2bdf5\"] ;\\n954 -> 955 ;\\n956 [label=\"energy <= -0.229\\\\ngini = 0.571\\\\nsamples = 3\\\\nvalue = [4, 0, 2, 0, 1, 0, 0]\", fillcolor=\"#f5cdb0\"] ;\\n955 -> 956 ;\\n957 [label=\"liveness <= 0.185\\\\ngini = 0.444\\\\nsamples = 2\\\\nvalue = [0, 0, 2, 0, 1, 0, 0]\", fillcolor=\"#9cf2a6\"] ;\\n956 -> 957 ;\\n958 [label=\"gini = 0.0\\\\nsamples = 1\\\\nvalue = [0, 0, 2, 0, 0, 0, 0]\", fillcolor=\"#39e54d\"] ;\\n957 -> 958 ;\\n959 [label=\"gini = 0.0\\\\nsamples = 1\\\\nvalue = [0, 0, 0, 0, 1, 0, 0]\", fillcolor=\"#3956e5\"] ;\\n957 -> 959 ;\\n960 [label=\"gini = 0.0\\\\nsamples = 1\\\\nvalue = [4, 0, 0, 0, 0, 0, 0]\", fillcolor=\"#e58139\"] ;\\n956 -> 960 ;\\n961 [label=\"acousticness <= 0.077\\\\ngini = 0.443\\\\nsamples = 13\\\\nvalue = [0, 0, 4, 0, 12, 0, 1]\", fillcolor=\"#8597ef\"] ;\\n955 -> 961 ;\\n962 [label=\"liveness <= 0.107\\\\ngini = 0.5\\\\nsamples = 4\\\\nvalue = [0, 0, 4, 0, 1, 0, 1]\", fillcolor=\"#88ef94\"] ;\\n961 -> 962 ;\\n963 [label=\"gini = 0.0\\\\nsamples = 2\\\\nvalue = [0, 0, 4, 0, 0, 0, 0]\", fillcolor=\"#39e54d\"] ;\\n962 -> 963 ;\\n964 [label=\"acousticness <= 0.004\\\\ngini = 0.5\\\\nsamples = 2\\\\nvalue = [0, 0, 0, 0, 1, 0, 1]\", fillcolor=\"#ffffff\"] ;\\n962 -> 964 ;\\n965 [label=\"gini = 0.0\\\\nsamples = 1\\\\nvalue = [0, 0, 0, 0, 0, 0, 1]\", fillcolor=\"#e53986\"] ;\\n964 -> 965 ;\\n966 [label=\"gini = 0.0\\\\nsamples = 1\\\\nvalue = [0, 0, 0, 0, 1, 0, 0]\", fillcolor=\"#3956e5\"] ;\\n964 -> 966 ;\\n967 [label=\"gini = 0.0\\\\nsamples = 9\\\\nvalue = [0, 0, 0, 0, 11, 0, 0]\", fillcolor=\"#3956e5\"] ;\\n961 -> 967 ;\\n968 [label=\"acousticness <= 0.461\\\\ngini = 0.095\\\\nsamples = 10\\\\nvalue = [1, 0, 0, 0, 0, 0, 19]\", fillcolor=\"#e6438c\"] ;\\n954 -> 968 ;\\n969 [label=\"gini = 0.0\\\\nsamples = 7\\\\nvalue = [0, 0, 0, 0, 0, 0, 15]\", fillcolor=\"#e53986\"] ;\\n968 -> 969 ;\\n970 [label=\"speechiness <= 0.036\\\\ngini = 0.32\\\\nsamples = 3\\\\nvalue = [1, 0, 0, 0, 0, 0, 4]\", fillcolor=\"#ec6aa4\"] ;\\n968 -> 970 ;\\n971 [label=\"gini = 0.0\\\\nsamples = 1\\\\nvalue = [1, 0, 0, 0, 0, 0, 0]\", fillcolor=\"#e58139\"] ;\\n970 -> 971 ;\\n972 [label=\"gini = 0.0\\\\nsamples = 2\\\\nvalue = [0, 0, 0, 0, 0, 0, 4]\", fillcolor=\"#e53986\"] ;\\n970 -> 972 ;\\n973 [label=\"acousticness <= 0.001\\\\ngini = 0.546\\\\nsamples = 90\\\\nvalue = [11, 0, 18, 0, 89, 1, 20]\", fillcolor=\"#8c9df0\"] ;\\n915 -> 973 ;\\n974 [label=\"energy <= 0.625\\\\ngini = 0.278\\\\nsamples = 3\\\\nvalue = [0, 0, 0, 0, 0, 1, 5]\", fillcolor=\"#ea619e\"] ;\\n973 -> 974 ;\\n975 [label=\"gini = 0.0\\\\nsamples = 1\\\\nvalue = [0, 0, 0, 0, 0, 1, 0]\", fillcolor=\"#b139e5\"] ;\\n974 -> 975 ;\\n976 [label=\"gini = 0.0\\\\nsamples = 2\\\\nvalue = [0, 0, 0, 0, 0, 0, 5]\", fillcolor=\"#e53986\"] ;\\n974 -> 976 ;\\n977 [label=\"liveness <= 0.157\\\\ngini = 0.514\\\\nsamples = 87\\\\nvalue = [11, 0, 18, 0, 89, 0, 15]\", fillcolor=\"#8597ef\"] ;\\n973 -> 977 ;\\n978 [label=\"speechiness <= 0.032\\\\ngini = 0.376\\\\nsamples = 62\\\\nvalue = [4, 0, 5, 0, 73, 0, 12]\", fillcolor=\"#6c81ec\"] ;\\n977 -> 978 ;\\n979 [label=\"acousticness <= 0.208\\\\ngini = 0.486\\\\nsamples = 8\\\\nvalue = [1, 0, 0, 0, 3, 0, 8]\", fillcolor=\"#f191bc\"] ;\\n978 -> 979 ;\\n980 [label=\"gini = 0.0\\\\nsamples = 1\\\\nvalue = [0, 0, 0, 0, 1, 0, 0]\", fillcolor=\"#3956e5\"] ;\\n979 -> 980 ;\\n981 [label=\"valence <= 0.477\\\\ngini = 0.43\\\\nsamples = 7\\\\nvalue = [1, 0, 0, 0, 2, 0, 8]\", fillcolor=\"#ee7bae\"] ;\\n979 -> 981 ;\\n982 [label=\"gini = 0.0\\\\nsamples = 5\\\\nvalue = [0, 0, 0, 0, 0, 0, 8]\", fillcolor=\"#e53986\"] ;\\n981 -> 982 ;\\n983 [label=\"valence <= 0.539\\\\ngini = 0.444\\\\nsamples = 2\\\\nvalue = [1, 0, 0, 0, 2, 0, 0]\", fillcolor=\"#9caaf2\"] ;\\n981 -> 983 ;\\n984 [label=\"gini = 0.0\\\\nsamples = 1\\\\nvalue = [0, 0, 0, 0, 2, 0, 0]\", fillcolor=\"#3956e5\"] ;\\n983 -> 984 ;\\n985 [label=\"gini = 0.0\\\\nsamples = 1\\\\nvalue = [1, 0, 0, 0, 0, 0, 0]\", fillcolor=\"#e58139\"] ;\\n983 -> 985 ;\\n986 [label=\"tempo <= 172.052\\\\ngini = 0.264\\\\nsamples = 54\\\\nvalue = [3, 0, 5, 0, 70, 0, 4]\", fillcolor=\"#5870e9\"] ;\\n978 -> 986 ;\\n987 [label=\"speechiness <= 0.048\\\\ngini = 0.213\\\\nsamples = 51\\\\nvalue = [3, 0, 4, 0, 69, 0, 2]\", fillcolor=\"#516be8\"] ;\\n986 -> 987 ;\\n988 [label=\"speechiness <= 0.046\\\\ngini = 0.307\\\\nsamples = 33\\\\nvalue = [3, 0, 3, 0, 38, 0, 2]\", fillcolor=\"#5e75ea\"] ;\\n987 -> 988 ;\\n989 [label=\"liveness <= 0.116\\\\ngini = 0.247\\\\nsamples = 32\\\\nvalue = [3, 0, 1, 0, 38, 0, 2]\", fillcolor=\"#566fe9\"] ;\\n988 -> 989 ;\\n990 [label=\"energy <= 0.304\\\\ngini = 0.376\\\\nsamples = 20\\\\nvalue = [3, 0, 0, 0, 17, 0, 2]\", fillcolor=\"#6d82ec\"] ;\\n989 -> 990 ;\\n991 [label=\"gini = 0.0\\\\nsamples = 3\\\\nvalue = [3, 0, 0, 0, 0, 0, 0]\", fillcolor=\"#e58139\"] ;\\n990 -> 991 ;\\n992 [label=\"danceability <= 0.525\\\\ngini = 0.188\\\\nsamples = 17\\\\nvalue = [0, 0, 0, 0, 17, 0, 2]\", fillcolor=\"#506ae8\"] ;\\n990 -> 992 ;\\n993 [label=\"danceability <= 0.415\\\\ngini = 0.444\\\\nsamples = 3\\\\nvalue = [0, 0, 0, 0, 1, 0, 2]\", fillcolor=\"#f29cc2\"] ;\\n992 -> 993 ;\\n994 [label=\"gini = 0.0\\\\nsamples = 1\\\\nvalue = [0, 0, 0, 0, 1, 0, 0]\", fillcolor=\"#3956e5\"] ;\\n993 -> 994 ;\\n995 [label=\"gini = 0.0\\\\nsamples = 2\\\\nvalue = [0, 0, 0, 0, 0, 0, 2]\", fillcolor=\"#e53986\"] ;\\n993 -> 995 ;\\n996 [label=\"gini = 0.0\\\\nsamples = 14\\\\nvalue = [0, 0, 0, 0, 16, 0, 0]\", fillcolor=\"#3956e5\"] ;\\n992 -> 996 ;\\n997 [label=\"valence <= 0.071\\\\ngini = 0.087\\\\nsamples = 12\\\\nvalue = [0, 0, 1, 0, 21, 0, 0]\", fillcolor=\"#425ee6\"] ;\\n989 -> 997 ;\\n998 [label=\"gini = 0.0\\\\nsamples = 1\\\\nvalue = [0, 0, 1, 0, 0, 0, 0]\", fillcolor=\"#39e54d\"] ;\\n997 -> 998 ;\\n999 [label=\"gini = 0.0\\\\nsamples = 11\\\\nvalue = [0, 0, 0, 0, 21, 0, 0]\", fillcolor=\"#3956e5\"] ;\\n997 -> 999 ;\\n1000 [label=\"gini = 0.0\\\\nsamples = 1\\\\nvalue = [0, 0, 2, 0, 0, 0, 0]\", fillcolor=\"#39e54d\"] ;\\n988 -> 1000 ;\\n1001 [label=\"tempo <= 130.992\\\\ngini = 0.061\\\\nsamples = 18\\\\nvalue = [0, 0, 1, 0, 31, 0, 0]\", fillcolor=\"#3f5be6\"] ;\\n987 -> 1001 ;\\n1002 [label=\"gini = 0.0\\\\nsamples = 12\\\\nvalue = [0, 0, 0, 0, 24, 0, 0]\", fillcolor=\"#3956e5\"] ;\\n1001 -> 1002 ;\\n1003 [label=\"danceability <= 0.566\\\\ngini = 0.219\\\\nsamples = 6\\\\nvalue = [0, 0, 1, 0, 7, 0, 0]\", fillcolor=\"#556ee9\"] ;\\n1001 -> 1003 ;\\n1004 [label=\"gini = 0.0\\\\nsamples = 1\\\\nvalue = [0, 0, 1, 0, 0, 0, 0]\", fillcolor=\"#39e54d\"] ;\\n1003 -> 1004 ;\\n1005 [label=\"gini = 0.0\\\\nsamples = 5\\\\nvalue = [0, 0, 0, 0, 7, 0, 0]\", fillcolor=\"#3956e5\"] ;\\n1003 -> 1005 ;\\n1006 [label=\"instrumentalness <= 0.975\\\\ngini = 0.625\\\\nsamples = 3\\\\nvalue = [0, 0, 1, 0, 1, 0, 2]\", fillcolor=\"#f6bdd7\"] ;\\n986 -> 1006 ;\\n1007 [label=\"liveness <= 0.104\\\\ngini = 0.5\\\\nsamples = 2\\\\nvalue = [0, 0, 1, 0, 1, 0, 0]\", fillcolor=\"#ffffff\"] ;\\n1006 -> 1007 ;\\n1008 [label=\"gini = 0.0\\\\nsamples = 1\\\\nvalue = [0, 0, 0, 0, 1, 0, 0]\", fillcolor=\"#3956e5\"] ;\\n1007 -> 1008 ;\\n1009 [label=\"gini = 0.0\\\\nsamples = 1\\\\nvalue = [0, 0, 1, 0, 0, 0, 0]\", fillcolor=\"#39e54d\"] ;\\n1007 -> 1009 ;\\n1010 [label=\"gini = 0.0\\\\nsamples = 1\\\\nvalue = [0, 0, 0, 0, 0, 0, 2]\", fillcolor=\"#e53986\"] ;\\n1006 -> 1010 ;\\n1011 [label=\"tempo <= 109.037\\\\ngini = 0.682\\\\nsamples = 25\\\\nvalue = [7, 0, 13, 0, 16, 0, 3]\", fillcolor=\"#e8ecfc\"] ;\\n977 -> 1011 ;\\n1012 [label=\"danceability <= 0.391\\\\ngini = 0.465\\\\nsamples = 14\\\\nvalue = [0, 0, 3, 0, 14, 0, 3]\", fillcolor=\"#7f92ee\"] ;\\n1011 -> 1012 ;\\n1013 [label=\"gini = 0.0\\\\nsamples = 1\\\\nvalue = [0, 0, 0, 0, 0, 0, 1]\", fillcolor=\"#e53986\"] ;\\n1012 -> 1013 ;\\n1014 [label=\"speechiness <= 0.038\\\\ngini = 0.421\\\\nsamples = 13\\\\nvalue = [0, 0, 3, 0, 14, 0, 2]\", fillcolor=\"#778bed\"] ;\\n1012 -> 1014 ;\\n1015 [label=\"speechiness <= 0.036\\\\ngini = 0.653\\\\nsamples = 5\\\\nvalue = [0, 0, 2, 0, 3, 0, 2]\", fillcolor=\"#d7ddfa\"] ;\\n1014 -> 1015 ;\\n1016 [label=\"popularity <= 54.303\\\\ngini = 0.48\\\\nsamples = 4\\\\nvalue = [0, 0, 0, 0, 3, 0, 2]\", fillcolor=\"#bdc7f6\"] ;\\n1015 -> 1016 ;\\n1017 [label=\"gini = 0.0\\\\nsamples = 2\\\\nvalue = [0, 0, 0, 0, 3, 0, 0]\", fillcolor=\"#3956e5\"] ;\\n1016 -> 1017 ;\\n1018 [label=\"gini = 0.0\\\\nsamples = 2\\\\nvalue = [0, 0, 0, 0, 0, 0, 2]\", fillcolor=\"#e53986\"] ;\\n1016 -> 1018 ;\\n1019 [label=\"gini = 0.0\\\\nsamples = 1\\\\nvalue = [0, 0, 2, 0, 0, 0, 0]\", fillcolor=\"#39e54d\"] ;\\n1015 -> 1019 ;\\n1020 [label=\"tempo <= 79.358\\\\ngini = 0.153\\\\nsamples = 8\\\\nvalue = [0, 0, 1, 0, 11, 0, 0]\", fillcolor=\"#4b65e7\"] ;\\n1014 -> 1020 ;\\n1021 [label=\"energy <= 0.645\\\\ngini = 0.444\\\\nsamples = 3\\\\nvalue = [0, 0, 1, 0, 2, 0, 0]\", fillcolor=\"#9caaf2\"] ;\\n1020 -> 1021 ;\\n1022 [label=\"gini = 0.0\\\\nsamples = 1\\\\nvalue = [0, 0, 1, 0, 0, 0, 0]\", fillcolor=\"#39e54d\"] ;\\n1021 -> 1022 ;\\n1023 [label=\"gini = 0.0\\\\nsamples = 2\\\\nvalue = [0, 0, 0, 0, 2, 0, 0]\", fillcolor=\"#3956e5\"] ;\\n1021 -> 1023 ;\\n1024 [label=\"gini = 0.0\\\\nsamples = 5\\\\nvalue = [0, 0, 0, 0, 9, 0, 0]\", fillcolor=\"#3956e5\"] ;\\n1020 -> 1024 ;\\n1025 [label=\"acousticness <= 0.29\\\\ngini = 0.576\\\\nsamples = 11\\\\nvalue = [7, 0, 10, 0, 2, 0, 0]\", fillcolor=\"#cef8d2\"] ;\\n1011 -> 1025 ;\\n1026 [label=\"instrumentalness <= 0.896\\\\ngini = 0.498\\\\nsamples = 9\\\\nvalue = [3, 0, 10, 0, 2, 0, 0]\", fillcolor=\"#8cf097\"] ;\\n1025 -> 1026 ;\\n1027 [label=\"acousticness <= 0.016\\\\ngini = 0.56\\\\nsamples = 4\\\\nvalue = [3, 0, 1, 0, 1, 0, 0]\", fillcolor=\"#f2c09c\"] ;\\n1026 -> 1027 ;\\n1028 [label=\"valence <= 0.341\\\\ngini = 0.5\\\\nsamples = 2\\\\nvalue = [0, 0, 1, 0, 1, 0, 0]\", fillcolor=\"#ffffff\"] ;\\n1027 -> 1028 ;\\n1029 [label=\"gini = 0.0\\\\nsamples = 1\\\\nvalue = [0, 0, 0, 0, 1, 0, 0]\", fillcolor=\"#3956e5\"] ;\\n1028 -> 1029 ;\\n1030 [label=\"gini = 0.0\\\\nsamples = 1\\\\nvalue = [0, 0, 1, 0, 0, 0, 0]\", fillcolor=\"#39e54d\"] ;\\n1028 -> 1030 ;\\n1031 [label=\"gini = 0.0\\\\nsamples = 2\\\\nvalue = [3, 0, 0, 0, 0, 0, 0]\", fillcolor=\"#e58139\"] ;\\n1027 -> 1031 ;\\n1032 [label=\"energy <= 0.766\\\\ngini = 0.18\\\\nsamples = 5\\\\nvalue = [0, 0, 9, 0, 1, 0, 0]\", fillcolor=\"#4fe861\"] ;\\n1026 -> 1032 ;\\n1033 [label=\"gini = 0.0\\\\nsamples = 4\\\\nvalue = [0, 0, 9, 0, 0, 0, 0]\", fillcolor=\"#39e54d\"] ;\\n1032 -> 1033 ;\\n1034 [label=\"gini = 0.0\\\\nsamples = 1\\\\nvalue = [0, 0, 0, 0, 1, 0, 0]\", fillcolor=\"#3956e5\"] ;\\n1032 -> 1034 ;\\n1035 [label=\"gini = 0.0\\\\nsamples = 2\\\\nvalue = [4, 0, 0, 0, 0, 0, 0]\", fillcolor=\"#e58139\"] ;\\n1025 -> 1035 ;\\n1036 [label=\"instrumentalness <= 0.243\\\\ngini = 0.672\\\\nsamples = 436\\\\nvalue = [52, 22, 35, 6, 288, 29, 276]\", fillcolor=\"#fafafe\"] ;\\n70 -> 1036 ;\\n1037 [label=\"popularity <= 50.814\\\\ngini = 0.651\\\\nsamples = 301\\\\nvalue = [25, 22, 15, 6, 156, 27, 240]\", fillcolor=\"#f8cde1\"] ;\\n1036 -> 1037 ;\\n1038 [label=\"loudness <= -6.126\\\\ngini = 0.452\\\\nsamples = 108\\\\nvalue = [21, 10, 15, 0, 128, 0, 3]\", fillcolor=\"#778bed\"] ;\\n1037 -> 1038 ;\\n1039 [label=\"loudness <= -14.468\\\\ngini = 0.399\\\\nsamples = 92\\\\nvalue = [10, 9, 14, 0, 117, 0, 3]\", fillcolor=\"#6c82ec\"] ;\\n1038 -> 1039 ;\\n1040 [label=\"tempo <= 128.716\\\\ngini = 0.549\\\\nsamples = 10\\\\nvalue = [9, 0, 0, 0, 8, 0, 1]\", fillcolor=\"#fcf2eb\"] ;\\n1039 -> 1040 ;\\n1041 [label=\"instrumentalness <= 0.001\\\\ngini = 0.541\\\\nsamples = 8\\\\nvalue = [5, 0, 0, 0, 8, 0, 1]\", fillcolor=\"#bdc7f6\"] ;\\n1040 -> 1041 ;\\n1042 [label=\"duration_ms <= 326820.641\\\\ngini = 0.449\\\\nsamples = 3\\\\nvalue = [5, 0, 0, 0, 1, 0, 1]\", fillcolor=\"#eeab7b\"] ;\\n1041 -> 1042 ;\\n1043 [label=\"gini = 0.0\\\\nsamples = 1\\\\nvalue = [5, 0, 0, 0, 0, 0, 0]\", fillcolor=\"#e58139\"] ;\\n1042 -> 1043 ;\\n1044 [label=\"energy <= -0.302\\\\ngini = 0.5\\\\nsamples = 2\\\\nvalue = [0, 0, 0, 0, 1, 0, 1]\", fillcolor=\"#ffffff\"] ;\\n1042 -> 1044 ;\\n1045 [label=\"gini = 0.0\\\\nsamples = 1\\\\nvalue = [0, 0, 0, 0, 0, 0, 1]\", fillcolor=\"#e53986\"] ;\\n1044 -> 1045 ;\\n1046 [label=\"gini = 0.0\\\\nsamples = 1\\\\nvalue = [0, 0, 0, 0, 1, 0, 0]\", fillcolor=\"#3956e5\"] ;\\n1044 -> 1046 ;\\n1047 [label=\"gini = 0.0\\\\nsamples = 5\\\\nvalue = [0, 0, 0, 0, 7, 0, 0]\", fillcolor=\"#3956e5\"] ;\\n1041 -> 1047 ;\\n1048 [label=\"gini = 0.0\\\\nsamples = 2\\\\nvalue = [4, 0, 0, 0, 0, 0, 0]\", fillcolor=\"#e58139\"] ;\\n1040 -> 1048 ;\\n1049 [label=\"speechiness <= 0.033\\\\ngini = 0.333\\\\nsamples = 82\\\\nvalue = [1, 9, 14, 0, 109, 0, 2]\", fillcolor=\"#647aeb\"] ;\\n1039 -> 1049 ;\\n1050 [label=\"speechiness <= 0.033\\\\ngini = 0.744\\\\nsamples = 12\\\\nvalue = [1, 6, 6, 0, 6, 0, 2]\", fillcolor=\"#ffffff\"] ;\\n1049 -> 1050 ;\\n1051 [label=\"duration_ms <= 325388.938\\\\ngini = 0.735\\\\nsamples = 11\\\\nvalue = [1, 6, 3, 0, 6, 0, 2]\", fillcolor=\"#ffffff\"] ;\\n1050 -> 1051 ;\\n1052 [label=\"acousticness <= 0.722\\\\ngini = 0.568\\\\nsamples = 7\\\\nvalue = [1, 6, 0, 0, 6, 0, 0]\", fillcolor=\"#ffffff\"] ;\\n1051 -> 1052 ;\\n1053 [label=\"popularity <= 44.832\\\\ngini = 0.54\\\\nsamples = 6\\\\nvalue = [1, 3, 0, 0, 6, 0, 0]\", fillcolor=\"#aab7f4\"] ;\\n1052 -> 1053 ;\\n1054 [label=\"tempo <= 95.188\\\\ngini = 0.245\\\\nsamples = 4\\\\nvalue = [1, 0, 0, 0, 6, 0, 0]\", fillcolor=\"#5a72e9\"] ;\\n1053 -> 1054 ;\\n1055 [label=\"gini = 0.0\\\\nsamples = 1\\\\nvalue = [1, 0, 0, 0, 0, 0, 0]\", fillcolor=\"#e58139\"] ;\\n1054 -> 1055 ;\\n1056 [label=\"gini = 0.0\\\\nsamples = 3\\\\nvalue = [0, 0, 0, 0, 6, 0, 0]\", fillcolor=\"#3956e5\"] ;\\n1054 -> 1056 ;\\n1057 [label=\"gini = 0.0\\\\nsamples = 2\\\\nvalue = [0, 3, 0, 0, 0, 0, 0]\", fillcolor=\"#b7e539\"] ;\\n1053 -> 1057 ;\\n1058 [label=\"gini = 0.0\\\\nsamples = 1\\\\nvalue = [0, 3, 0, 0, 0, 0, 0]\", fillcolor=\"#b7e539\"] ;\\n1052 -> 1058 ;\\n1059 [label=\"danceability <= 0.569\\\\ngini = 0.48\\\\nsamples = 4\\\\nvalue = [0, 0, 3, 0, 0, 0, 2]\", fillcolor=\"#bdf6c4\"] ;\\n1051 -> 1059 ;\\n1060 [label=\"gini = 0.0\\\\nsamples = 2\\\\nvalue = [0, 0, 0, 0, 0, 0, 2]\", fillcolor=\"#e53986\"] ;\\n1059 -> 1060 ;\\n1061 [label=\"gini = 0.0\\\\nsamples = 2\\\\nvalue = [0, 0, 3, 0, 0, 0, 0]\", fillcolor=\"#39e54d\"] ;\\n1059 -> 1061 ;\\n1062 [label=\"gini = 0.0\\\\nsamples = 1\\\\nvalue = [0, 0, 3, 0, 0, 0, 0]\", fillcolor=\"#39e54d\"] ;\\n1050 -> 1062 ;\\n1063 [label=\"popularity <= 9.811\\\\ngini = 0.178\\\\nsamples = 70\\\\nvalue = [0, 3, 8, 0, 103, 0, 0]\", fillcolor=\"#4e68e8\"] ;\\n1049 -> 1063 ;\\n1064 [label=\"gini = 0.0\\\\nsamples = 1\\\\nvalue = [0, 1, 0, 0, 0, 0, 0]\", fillcolor=\"#b7e539\"] ;\\n1063 -> 1064 ;\\n1065 [label=\"loudness <= -9.307\\\\ngini = 0.164\\\\nsamples = 69\\\\nvalue = [0, 2, 8, 0, 103, 0, 0]\", fillcolor=\"#4c66e7\"] ;\\n1063 -> 1065 ;\\n1066 [label=\"acousticness <= 0.104\\\\ngini = 0.051\\\\nsamples = 45\\\\nvalue = [0, 2, 0, 0, 74, 0, 0]\", fillcolor=\"#3e5be6\"] ;\\n1065 -> 1066 ;\\n1067 [label=\"energy <= 0.729\\\\ngini = 0.208\\\\nsamples = 9\\\\nvalue = [0, 2, 0, 0, 15, 0, 0]\", fillcolor=\"#536de8\"] ;\\n1066 -> 1067 ;\\n1068 [label=\"gini = 0.0\\\\nsamples = 8\\\\nvalue = [0, 0, 0, 0, 15, 0, 0]\", fillcolor=\"#3956e5\"] ;\\n1067 -> 1068 ;\\n1069 [label=\"gini = 0.0\\\\nsamples = 1\\\\nvalue = [0, 2, 0, 0, 0, 0, 0]\", fillcolor=\"#b7e539\"] ;\\n1067 -> 1069 ;\\n1070 [label=\"gini = 0.0\\\\nsamples = 36\\\\nvalue = [0, 0, 0, 0, 59, 0, 0]\", fillcolor=\"#3956e5\"] ;\\n1066 -> 1070 ;\\n1071 [label=\"valence <= 0.34\\\\ngini = 0.339\\\\nsamples = 24\\\\nvalue = [0, 0, 8, 0, 29, 0, 0]\", fillcolor=\"#7085ec\"] ;\\n1065 -> 1071 ;\\n1072 [label=\"gini = 0.0\\\\nsamples = 2\\\\nvalue = [0, 0, 4, 0, 0, 0, 0]\", fillcolor=\"#39e54d\"] ;\\n1071 -> 1072 ;\\n1073 [label=\"acousticness <= 0.177\\\\ngini = 0.213\\\\nsamples = 22\\\\nvalue = [0, 0, 4, 0, 29, 0, 0]\", fillcolor=\"#546de9\"] ;\\n1071 -> 1073 ;\\n1074 [label=\"liveness <= 0.133\\\\ngini = 0.48\\\\nsamples = 6\\\\nvalue = [0, 0, 4, 0, 6, 0, 0]\", fillcolor=\"#bdc7f6\"] ;\\n1073 -> 1074 ;\\n1075 [label=\"gini = 0.0\\\\nsamples = 3\\\\nvalue = [0, 0, 4, 0, 0, 0, 0]\", fillcolor=\"#39e54d\"] ;\\n1074 -> 1075 ;\\n1076 [label=\"gini = 0.0\\\\nsamples = 3\\\\nvalue = [0, 0, 0, 0, 6, 0, 0]\", fillcolor=\"#3956e5\"] ;\\n1074 -> 1076 ;\\n1077 [label=\"gini = 0.0\\\\nsamples = 16\\\\nvalue = [0, 0, 0, 0, 23, 0, 0]\", fillcolor=\"#3956e5\"] ;\\n1073 -> 1077 ;\\n1078 [label=\"tempo <= 108.549\\\\ngini = 0.576\\\\nsamples = 16\\\\nvalue = [11, 1, 1, 0, 11, 0, 0]\", fillcolor=\"#ffffff\"] ;\\n1038 -> 1078 ;\\n1079 [label=\"valence <= 0.323\\\\ngini = 0.314\\\\nsamples = 6\\\\nvalue = [1, 1, 0, 0, 9, 0, 0]\", fillcolor=\"#6178ea\"] ;\\n1078 -> 1079 ;\\n1080 [label=\"acousticness <= 0.462\\\\ngini = 0.375\\\\nsamples = 2\\\\nvalue = [0, 1, 0, 0, 3, 0, 0]\", fillcolor=\"#7b8eee\"] ;\\n1079 -> 1080 ;\\n1081 [label=\"gini = 0.0\\\\nsamples = 1\\\\nvalue = [0, 0, 0, 0, 3, 0, 0]\", fillcolor=\"#3956e5\"] ;\\n1080 -> 1081 ;\\n1082 [label=\"gini = 0.0\\\\nsamples = 1\\\\nvalue = [0, 1, 0, 0, 0, 0, 0]\", fillcolor=\"#b7e539\"] ;\\n1080 -> 1082 ;\\n1083 [label=\"popularity <= 45.47\\\\ngini = 0.245\\\\nsamples = 4\\\\nvalue = [1, 0, 0, 0, 6, 0, 0]\", fillcolor=\"#5a72e9\"] ;\\n1079 -> 1083 ;\\n1084 [label=\"gini = 0.0\\\\nsamples = 3\\\\nvalue = [0, 0, 0, 0, 6, 0, 0]\", fillcolor=\"#3956e5\"] ;\\n1083 -> 1084 ;\\n1085 [label=\"gini = 0.0\\\\nsamples = 1\\\\nvalue = [1, 0, 0, 0, 0, 0, 0]\", fillcolor=\"#e58139\"] ;\\n1083 -> 1085 ;\\n1086 [label=\"tempo <= 131.272\\\\ngini = 0.379\\\\nsamples = 10\\\\nvalue = [10, 0, 1, 0, 2, 0, 0]\", fillcolor=\"#eca36f\"] ;\\n1078 -> 1086 ;\\n1087 [label=\"popularity <= 34.924\\\\ngini = 0.48\\\\nsamples = 4\\\\nvalue = [3, 0, 0, 0, 2, 0, 0]\", fillcolor=\"#f6d5bd\"] ;\\n1086 -> 1087 ;\\n1088 [label=\"gini = 0.0\\\\nsamples = 1\\\\nvalue = [2, 0, 0, 0, 0, 0, 0]\", fillcolor=\"#e58139\"] ;\\n1087 -> 1088 ;\\n1089 [label=\"duration_ms <= 365557.891\\\\ngini = 0.444\\\\nsamples = 3\\\\nvalue = [1, 0, 0, 0, 2, 0, 0]\", fillcolor=\"#9caaf2\"] ;\\n1087 -> 1089 ;\\n1090 [label=\"gini = 0.0\\\\nsamples = 1\\\\nvalue = [1, 0, 0, 0, 0, 0, 0]\", fillcolor=\"#e58139\"] ;\\n1089 -> 1090 ;\\n1091 [label=\"gini = 0.0\\\\nsamples = 2\\\\nvalue = [0, 0, 0, 0, 2, 0, 0]\", fillcolor=\"#3956e5\"] ;\\n1089 -> 1091 ;\\n1092 [label=\"speechiness <= 0.034\\\\ngini = 0.219\\\\nsamples = 6\\\\nvalue = [7, 0, 1, 0, 0, 0, 0]\", fillcolor=\"#e99355\"] ;\\n1086 -> 1092 ;\\n1093 [label=\"gini = 0.0\\\\nsamples = 1\\\\nvalue = [0, 0, 1, 0, 0, 0, 0]\", fillcolor=\"#39e54d\"] ;\\n1092 -> 1093 ;\\n1094 [label=\"gini = 0.0\\\\nsamples = 5\\\\nvalue = [7, 0, 0, 0, 0, 0, 0]\", fillcolor=\"#e58139\"] ;\\n1092 -> 1094 ;\\n1095 [label=\"valence <= 0.988\\\\ngini = 0.413\\\\nsamples = 193\\\\nvalue = [4, 12, 0, 6, 28, 27, 237]\", fillcolor=\"#ec6ea7\"] ;\\n1037 -> 1095 ;\\n1096 [label=\"danceability <= 0.47\\\\ngini = 0.4\\\\nsamples = 191\\\\nvalue = [4, 12, 0, 6, 24, 27, 237]\", fillcolor=\"#ec6ca5\"] ;\\n1095 -> 1096 ;\\n1097 [label=\"valence <= 0.104\\\\ngini = 0.119\\\\nsamples = 61\\\\nvalue = [0, 0, 0, 2, 2, 2, 91]\", fillcolor=\"#e7468e\"] ;\\n1096 -> 1097 ;\\n1098 [label=\"acousticness <= 0.708\\\\ngini = 0.375\\\\nsamples = 6\\\\nvalue = [0, 0, 0, 0, 2, 0, 6]\", fillcolor=\"#ee7bae\"] ;\\n1097 -> 1098 ;\\n1099 [label=\"gini = 0.0\\\\nsamples = 5\\\\nvalue = [0, 0, 0, 0, 0, 0, 6]\", fillcolor=\"#e53986\"] ;\\n1098 -> 1099 ;\\n1100 [label=\"gini = 0.0\\\\nsamples = 1\\\\nvalue = [0, 0, 0, 0, 2, 0, 0]\", fillcolor=\"#3956e5\"] ;\\n1098 -> 1100 ;\\n1101 [label=\"liveness <= 0.084\\\\ngini = 0.087\\\\nsamples = 55\\\\nvalue = [0, 0, 0, 2, 0, 2, 85]\", fillcolor=\"#e6428c\"] ;\\n1097 -> 1101 ;\\n1102 [label=\"popularity <= 61.301\\\\ngini = 0.34\\\\nsamples = 9\\\\nvalue = [0, 0, 0, 2, 0, 2, 16]\", fillcolor=\"#eb65a1\"] ;\\n1101 -> 1102 ;\\n1103 [label=\"gini = 0.0\\\\nsamples = 5\\\\nvalue = [0, 0, 0, 0, 0, 0, 12]\", fillcolor=\"#e53986\"] ;\\n1102 -> 1103 ;\\n1104 [label=\"liveness <= 0.08\\\\ngini = 0.625\\\\nsamples = 4\\\\nvalue = [0, 0, 0, 2, 0, 2, 4]\", fillcolor=\"#f6bdd7\"] ;\\n1102 -> 1104 ;\\n1105 [label=\"duration_ms <= 316579.891\\\\ngini = 0.444\\\\nsamples = 3\\\\nvalue = [0, 0, 0, 2, 0, 0, 4]\", fillcolor=\"#f29cc2\"] ;\\n1104 -> 1105 ;\\n1106 [label=\"gini = 0.0\\\\nsamples = 1\\\\nvalue = [0, 0, 0, 0, 0, 0, 2]\", fillcolor=\"#e53986\"] ;\\n1105 -> 1106 ;\\n1107 [label=\"liveness <= 0.073\\\\ngini = 0.5\\\\nsamples = 2\\\\nvalue = [0, 0, 0, 2, 0, 0, 2]\", fillcolor=\"#ffffff\"] ;\\n1105 -> 1107 ;\\n1108 [label=\"gini = 0.0\\\\nsamples = 1\\\\nvalue = [0, 0, 0, 2, 0, 0, 0]\", fillcolor=\"#39e5e2\"] ;\\n1107 -> 1108 ;\\n1109 [label=\"gini = 0.0\\\\nsamples = 1\\\\nvalue = [0, 0, 0, 0, 0, 0, 2]\", fillcolor=\"#e53986\"] ;\\n1107 -> 1109 ;\\n1110 [label=\"gini = 0.0\\\\nsamples = 1\\\\nvalue = [0, 0, 0, 0, 0, 2, 0]\", fillcolor=\"#b139e5\"] ;\\n1104 -> 1110 ;\\n1111 [label=\"gini = 0.0\\\\nsamples = 46\\\\nvalue = [0, 0, 0, 0, 0, 0, 69]\", fillcolor=\"#e53986\"] ;\\n1101 -> 1111 ;\\n1112 [label=\"acousticness <= 0.72\\\\ngini = 0.502\\\\nsamples = 130\\\\nvalue = [4, 12, 0, 4, 22, 25, 146]\", fillcolor=\"#ee80b1\"] ;\\n1096 -> 1112 ;\\n1113 [label=\"valence <= 0.137\\\\ngini = 0.442\\\\nsamples = 122\\\\nvalue = [2, 8, 0, 4, 14, 25, 144]\", fillcolor=\"#ed76ab\"] ;\\n1112 -> 1113 ;\\n1114 [label=\"instrumentalness <= 0.011\\\\ngini = 0.66\\\\nsamples = 7\\\\nvalue = [2, 0, 0, 1, 2, 5, 0]\", fillcolor=\"#e2b5f5\"] ;\\n1113 -> 1114 ;\\n1115 [label=\"tempo <= 114.009\\\\ngini = 0.408\\\\nsamples = 4\\\\nvalue = [2, 0, 0, 0, 0, 5, 0]\", fillcolor=\"#d088ef\"] ;\\n1114 -> 1115 ;\\n1116 [label=\"gini = 0.0\\\\nsamples = 3\\\\nvalue = [0, 0, 0, 0, 0, 5, 0]\", fillcolor=\"#b139e5\"] ;\\n1115 -> 1116 ;\\n1117 [label=\"gini = 0.0\\\\nsamples = 1\\\\nvalue = [2, 0, 0, 0, 0, 0, 0]\", fillcolor=\"#e58139\"] ;\\n1115 -> 1117 ;\\n1118 [label=\"energy <= 0.569\\\\ngini = 0.444\\\\nsamples = 3\\\\nvalue = [0, 0, 0, 1, 2, 0, 0]\", fillcolor=\"#9caaf2\"] ;\\n1114 -> 1118 ;\\n1119 [label=\"gini = 0.0\\\\nsamples = 2\\\\nvalue = [0, 0, 0, 0, 2, 0, 0]\", fillcolor=\"#3956e5\"] ;\\n1118 -> 1119 ;\\n1120 [label=\"gini = 0.0\\\\nsamples = 1\\\\nvalue = [0, 0, 0, 1, 0, 0, 0]\", fillcolor=\"#39e5e2\"] ;\\n1118 -> 1120 ;\\n1121 [label=\"speechiness <= 0.04\\\\ngini = 0.389\\\\nsamples = 115\\\\nvalue = [0, 8, 0, 3, 12, 20, 144]\", fillcolor=\"#ec6ca5\"] ;\\n1113 -> 1121 ;\\n1122 [label=\"acousticness <= 0.243\\\\ngini = 0.212\\\\nsamples = 67\\\\nvalue = [0, 4, 0, 1, 6, 3, 108]\", fillcolor=\"#e85195\"] ;\\n1121 -> 1122 ;\\n1123 [label=\"energy <= 0.778\\\\ngini = 0.056\\\\nsamples = 38\\\\nvalue = [0, 0, 0, 0, 0, 2, 67]\", fillcolor=\"#e63f8a\"] ;\\n1122 -> 1123 ;\\n1124 [label=\"gini = 0.0\\\\nsamples = 35\\\\nvalue = [0, 0, 0, 0, 0, 0, 61]\", fillcolor=\"#e53986\"] ;\\n1123 -> 1124 ;\\n1125 [label=\"speechiness <= 0.035\\\\ngini = 0.375\\\\nsamples = 3\\\\nvalue = [0, 0, 0, 0, 0, 2, 6]\", fillcolor=\"#ee7bae\"] ;\\n1123 -> 1125 ;\\n1126 [label=\"gini = 0.0\\\\nsamples = 2\\\\nvalue = [0, 0, 0, 0, 0, 0, 6]\", fillcolor=\"#e53986\"] ;\\n1125 -> 1126 ;\\n1127 [label=\"gini = 0.0\\\\nsamples = 1\\\\nvalue = [0, 0, 0, 0, 0, 2, 0]\", fillcolor=\"#b139e5\"] ;\\n1125 -> 1127 ;\\n1128 [label=\"danceability <= 0.49\\\\ngini = 0.382\\\\nsamples = 29\\\\nvalue = [0, 4, 0, 1, 6, 1, 41]\", fillcolor=\"#ec6ca5\"] ;\\n1122 -> 1128 ;\\n1129 [label=\"tempo <= 76.221\\\\ngini = 0.611\\\\nsamples = 3\\\\nvalue = [0, 3, 0, 0, 2, 0, 1]\", fillcolor=\"#edf8ce\"] ;\\n1128 -> 1129 ;\\n1130 [label=\"gini = 0.0\\\\nsamples = 1\\\\nvalue = [0, 3, 0, 0, 0, 0, 0]\", fillcolor=\"#b7e539\"] ;\\n1129 -> 1130 ;\\n1131 [label=\"loudness <= -11.657\\\\ngini = 0.444\\\\nsamples = 2\\\\nvalue = [0, 0, 0, 0, 2, 0, 1]\", fillcolor=\"#9caaf2\"] ;\\n1129 -> 1131 ;\\n1132 [label=\"gini = 0.0\\\\nsamples = 1\\\\nvalue = [0, 0, 0, 0, 0, 0, 1]\", fillcolor=\"#e53986\"] ;\\n1131 -> 1132 ;\\n1133 [label=\"gini = 0.0\\\\nsamples = 1\\\\nvalue = [0, 0, 0, 0, 2, 0, 0]\", fillcolor=\"#3956e5\"] ;\\n1131 -> 1133 ;\\n1134 [label=\"valence <= 0.702\\\\ngini = 0.267\\\\nsamples = 26\\\\nvalue = [0, 1, 0, 1, 4, 1, 40]\", fillcolor=\"#e9599a\"] ;\\n1128 -> 1134 ;\\n1135 [label=\"tempo <= 149.083\\\\ngini = 0.171\\\\nsamples = 23\\\\nvalue = [0, 1, 0, 1, 1, 1, 40]\", fillcolor=\"#e74b91\"] ;\\n1134 -> 1135 ;\\n1136 [label=\"loudness <= -12.909\\\\ngini = 0.133\\\\nsamples = 22\\\\nvalue = [0, 1, 0, 0, 1, 1, 40]\", fillcolor=\"#e7478f\"] ;\\n1135 -> 1136 ;\\n1137 [label=\"gini = 0.0\\\\nsamples = 1\\\\nvalue = [0, 0, 0, 0, 1, 0, 0]\", fillcolor=\"#3956e5\"] ;\\n1136 -> 1137 ;\\n1138 [label=\"valence <= 0.16\\\\ngini = 0.092\\\\nsamples = 21\\\\nvalue = [0, 1, 0, 0, 0, 1, 40]\", fillcolor=\"#e6438c\"] ;\\n1136 -> 1138 ;\\n1139 [label=\"gini = 0.0\\\\nsamples = 1\\\\nvalue = [0, 1, 0, 0, 0, 0, 0]\", fillcolor=\"#b7e539\"] ;\\n1138 -> 1139 ;\\n1140 [label=\"acousticness <= 0.289\\\\ngini = 0.048\\\\nsamples = 20\\\\nvalue = [0, 0, 0, 0, 0, 1, 40]\", fillcolor=\"#e63e89\"] ;\\n1138 -> 1140 ;\\n1141 [label=\"liveness <= 0.11\\\\ngini = 0.5\\\\nsamples = 2\\\\nvalue = [0, 0, 0, 0, 0, 1, 1]\", fillcolor=\"#ffffff\"] ;\\n1140 -> 1141 ;\\n1142 [label=\"gini = 0.0\\\\nsamples = 1\\\\nvalue = [0, 0, 0, 0, 0, 0, 1]\", fillcolor=\"#e53986\"] ;\\n1141 -> 1142 ;\\n1143 [label=\"gini = 0.0\\\\nsamples = 1\\\\nvalue = [0, 0, 0, 0, 0, 1, 0]\", fillcolor=\"#b139e5\"] ;\\n1141 -> 1143 ;\\n1144 [label=\"gini = 0.0\\\\nsamples = 18\\\\nvalue = [0, 0, 0, 0, 0, 0, 39]\", fillcolor=\"#e53986\"] ;\\n1140 -> 1144 ;\\n1145 [label=\"gini = 0.0\\\\nsamples = 1\\\\nvalue = [0, 0, 0, 1, 0, 0, 0]\", fillcolor=\"#39e5e2\"] ;\\n1135 -> 1145 ;\\n1146 [label=\"gini = 0.0\\\\nsamples = 3\\\\nvalue = [0, 0, 0, 0, 3, 0, 0]\", fillcolor=\"#3956e5\"] ;\\n1134 -> 1146 ;\\n1147 [label=\"tempo <= 158.385\\\\ngini = 0.612\\\\nsamples = 48\\\\nvalue = [0, 4, 0, 2, 6, 17, 36]\", fillcolor=\"#f5b1cf\"] ;\\n1121 -> 1147 ;\\n1148 [label=\"valence <= 0.701\\\\ngini = 0.597\\\\nsamples = 47\\\\nvalue = [0, 4, 0, 2, 6, 14, 36]\", fillcolor=\"#f3a4c8\"] ;\\n1147 -> 1148 ;\\n1149 [label=\"popularity <= 60.015\\\\ngini = 0.674\\\\nsamples = 35\\\\nvalue = [0, 4, 0, 2, 4, 14, 20]\", fillcolor=\"#fad7e7\"] ;\\n1148 -> 1149 ;\\n1150 [label=\"liveness <= 0.055\\\\ngini = 0.554\\\\nsamples = 17\\\\nvalue = [0, 1, 0, 1, 3, 3, 14]\", fillcolor=\"#f08cb9\"] ;\\n1149 -> 1150 ;\\n1151 [label=\"gini = 0.0\\\\nsamples = 1\\\\nvalue = [0, 0, 0, 0, 2, 0, 0]\", fillcolor=\"#3956e5\"] ;\\n1150 -> 1151 ;\\n1152 [label=\"acousticness <= 0.009\\\\ngini = 0.48\\\\nsamples = 16\\\\nvalue = [0, 1, 0, 1, 1, 3, 14]\", fillcolor=\"#ee7fb1\"] ;\\n1150 -> 1152 ;\\n1153 [label=\"gini = 0.0\\\\nsamples = 1\\\\nvalue = [0, 0, 0, 0, 0, 2, 0]\", fillcolor=\"#b139e5\"] ;\\n1152 -> 1153 ;\\n1154 [label=\"danceability <= 0.705\\\\ngini = 0.383\\\\nsamples = 15\\\\nvalue = [0, 1, 0, 1, 1, 1, 14]\", fillcolor=\"#eb68a2\"] ;\\n1152 -> 1154 ;\\n1155 [label=\"speechiness <= 0.042\\\\ngini = 0.227\\\\nsamples = 13\\\\nvalue = [0, 1, 0, 0, 1, 0, 14]\", fillcolor=\"#e85396\"] ;\\n1154 -> 1155 ;\\n1156 [label=\"gini = 0.0\\\\nsamples = 1\\\\nvalue = [0, 1, 0, 0, 0, 0, 0]\", fillcolor=\"#b7e539\"] ;\\n1155 -> 1156 ;\\n1157 [label=\"duration_ms <= 352554.531\\\\ngini = 0.124\\\\nsamples = 12\\\\nvalue = [0, 0, 0, 0, 1, 0, 14]\", fillcolor=\"#e7478f\"] ;\\n1155 -> 1157 ;\\n1158 [label=\"gini = 0.0\\\\nsamples = 9\\\\nvalue = [0, 0, 0, 0, 0, 0, 11]\", fillcolor=\"#e53986\"] ;\\n1157 -> 1158 ;\\n1159 [label=\"loudness <= -10.868\\\\ngini = 0.375\\\\nsamples = 3\\\\nvalue = [0, 0, 0, 0, 1, 0, 3]\", fillcolor=\"#ee7bae\"] ;\\n1157 -> 1159 ;\\n1160 [label=\"gini = 0.0\\\\nsamples = 1\\\\nvalue = [0, 0, 0, 0, 0, 0, 2]\", fillcolor=\"#e53986\"] ;\\n1159 -> 1160 ;\\n1161 [label=\"acousticness <= 0.304\\\\ngini = 0.5\\\\nsamples = 2\\\\nvalue = [0, 0, 0, 0, 1, 0, 1]\", fillcolor=\"#ffffff\"] ;\\n1159 -> 1161 ;\\n1162 [label=\"gini = 0.0\\\\nsamples = 1\\\\nvalue = [0, 0, 0, 0, 0, 0, 1]\", fillcolor=\"#e53986\"] ;\\n1161 -> 1162 ;\\n1163 [label=\"gini = 0.0\\\\nsamples = 1\\\\nvalue = [0, 0, 0, 0, 1, 0, 0]\", fillcolor=\"#3956e5\"] ;\\n1161 -> 1163 ;\\n1164 [label=\"acousticness <= 0.132\\\\ngini = 0.5\\\\nsamples = 2\\\\nvalue = [0, 0, 0, 1, 0, 1, 0]\", fillcolor=\"#ffffff\"] ;\\n1154 -> 1164 ;\\n1165 [label=\"gini = 0.0\\\\nsamples = 1\\\\nvalue = [0, 0, 0, 1, 0, 0, 0]\", fillcolor=\"#39e5e2\"] ;\\n1164 -> 1165 ;\\n1166 [label=\"gini = 0.0\\\\nsamples = 1\\\\nvalue = [0, 0, 0, 0, 0, 1, 0]\", fillcolor=\"#b139e5\"] ;\\n1164 -> 1166 ;\\n1167 [label=\"tempo <= 70.831\\\\ngini = 0.653\\\\nsamples = 18\\\\nvalue = [0, 3, 0, 1, 1, 11, 6]\", fillcolor=\"#e7c1f7\"] ;\\n1149 -> 1167 ;\\n1168 [label=\"energy <= 0.625\\\\ngini = 0.375\\\\nsamples = 3\\\\nvalue = [0, 3, 0, 0, 1, 0, 0]\", fillcolor=\"#cfee7b\"] ;\\n1167 -> 1168 ;\\n1169 [label=\"danceability <= 0.626\\\\ngini = 0.5\\\\nsamples = 2\\\\nvalue = [0, 1, 0, 0, 1, 0, 0]\", fillcolor=\"#ffffff\"] ;\\n1168 -> 1169 ;\\n1170 [label=\"gini = 0.0\\\\nsamples = 1\\\\nvalue = [0, 1, 0, 0, 0, 0, 0]\", fillcolor=\"#b7e539\"] ;\\n1169 -> 1170 ;\\n1171 [label=\"gini = 0.0\\\\nsamples = 1\\\\nvalue = [0, 0, 0, 0, 1, 0, 0]\", fillcolor=\"#3956e5\"] ;\\n1169 -> 1171 ;\\n1172 [label=\"gini = 0.0\\\\nsamples = 1\\\\nvalue = [0, 2, 0, 0, 0, 0, 0]\", fillcolor=\"#b7e539\"] ;\\n1168 -> 1172 ;\\n1173 [label=\"valence <= 0.562\\\\ngini = 0.512\\\\nsamples = 15\\\\nvalue = [0, 0, 0, 1, 0, 11, 6]\", fillcolor=\"#deacf4\"] ;\\n1167 -> 1173 ;\\n1174 [label=\"speechiness <= 0.054\\\\ngini = 0.461\\\\nsamples = 14\\\\nvalue = [0, 0, 0, 1, 0, 11, 4]\", fillcolor=\"#d28cf0\"] ;\\n1173 -> 1174 ;\\n1175 [label=\"danceability <= 0.722\\\\ngini = 0.292\\\\nsamples = 10\\\\nvalue = [0, 0, 0, 1, 0, 10, 1]\", fillcolor=\"#bf5dea\"] ;\\n1174 -> 1175 ;\\n1176 [label=\"popularity <= 60.92\\\\ngini = 0.165\\\\nsamples = 9\\\\nvalue = [0, 0, 0, 1, 0, 10, 0]\", fillcolor=\"#b94de8\"] ;\\n1175 -> 1176 ;\\n1177 [label=\"speechiness <= 0.051\\\\ngini = 0.5\\\\nsamples = 2\\\\nvalue = [0, 0, 0, 1, 0, 1, 0]\", fillcolor=\"#ffffff\"] ;\\n1176 -> 1177 ;\\n1178 [label=\"gini = 0.0\\\\nsamples = 1\\\\nvalue = [0, 0, 0, 0, 0, 1, 0]\", fillcolor=\"#b139e5\"] ;\\n1177 -> 1178 ;\\n1179 [label=\"gini = 0.0\\\\nsamples = 1\\\\nvalue = [0, 0, 0, 1, 0, 0, 0]\", fillcolor=\"#39e5e2\"] ;\\n1177 -> 1179 ;\\n1180 [label=\"gini = 0.0\\\\nsamples = 7\\\\nvalue = [0, 0, 0, 0, 0, 9, 0]\", fillcolor=\"#b139e5\"] ;\\n1176 -> 1180 ;\\n1181 [label=\"gini = 0.0\\\\nsamples = 1\\\\nvalue = [0, 0, 0, 0, 0, 0, 1]\", fillcolor=\"#e53986\"] ;\\n1175 -> 1181 ;\\n1182 [label=\"speechiness <= 0.066\\\\ngini = 0.375\\\\nsamples = 4\\\\nvalue = [0, 0, 0, 0, 0, 1, 3]\", fillcolor=\"#ee7bae\"] ;\\n1174 -> 1182 ;\\n1183 [label=\"gini = 0.0\\\\nsamples = 2\\\\nvalue = [0, 0, 0, 0, 0, 0, 2]\", fillcolor=\"#e53986\"] ;\\n1182 -> 1183 ;\\n1184 [label=\"energy <= 0.733\\\\ngini = 0.5\\\\nsamples = 2\\\\nvalue = [0, 0, 0, 0, 0, 1, 1]\", fillcolor=\"#ffffff\"] ;\\n1182 -> 1184 ;\\n1185 [label=\"gini = 0.0\\\\nsamples = 1\\\\nvalue = [0, 0, 0, 0, 0, 1, 0]\", fillcolor=\"#b139e5\"] ;\\n1184 -> 1185 ;\\n1186 [label=\"gini = 0.0\\\\nsamples = 1\\\\nvalue = [0, 0, 0, 0, 0, 0, 1]\", fillcolor=\"#e53986\"] ;\\n1184 -> 1186 ;\\n1187 [label=\"gini = 0.0\\\\nsamples = 1\\\\nvalue = [0, 0, 0, 0, 0, 0, 2]\", fillcolor=\"#e53986\"] ;\\n1173 -> 1187 ;\\n1188 [label=\"loudness <= -7.973\\\\ngini = 0.198\\\\nsamples = 12\\\\nvalue = [0, 0, 0, 0, 2, 0, 16]\", fillcolor=\"#e85295\"] ;\\n1148 -> 1188 ;\\n1189 [label=\"duration_ms <= 349098.734\\\\ngini = 0.444\\\\nsamples = 5\\\\nvalue = [0, 0, 0, 0, 2, 0, 4]\", fillcolor=\"#f29cc2\"] ;\\n1188 -> 1189 ;\\n1190 [label=\"gini = 0.0\\\\nsamples = 4\\\\nvalue = [0, 0, 0, 0, 0, 0, 4]\", fillcolor=\"#e53986\"] ;\\n1189 -> 1190 ;\\n1191 [label=\"gini = 0.0\\\\nsamples = 1\\\\nvalue = [0, 0, 0, 0, 2, 0, 0]\", fillcolor=\"#3956e5\"] ;\\n1189 -> 1191 ;\\n1192 [label=\"gini = 0.0\\\\nsamples = 7\\\\nvalue = [0, 0, 0, 0, 0, 0, 12]\", fillcolor=\"#e53986\"] ;\\n1188 -> 1192 ;\\n1193 [label=\"gini = 0.0\\\\nsamples = 1\\\\nvalue = [0, 0, 0, 0, 0, 3, 0]\", fillcolor=\"#b139e5\"] ;\\n1147 -> 1193 ;\\n1194 [label=\"danceability <= 0.713\\\\ngini = 0.656\\\\nsamples = 8\\\\nvalue = [2, 4, 0, 0, 8, 0, 2]\", fillcolor=\"#bdc7f6\"] ;\\n1112 -> 1194 ;\\n1195 [label=\"energy <= 0.329\\\\ngini = 0.5\\\\nsamples = 7\\\\nvalue = [2, 0, 0, 0, 8, 0, 2]\", fillcolor=\"#889aef\"] ;\\n1194 -> 1195 ;\\n1196 [label=\"speechiness <= 0.034\\\\ngini = 0.444\\\\nsamples = 2\\\\nvalue = [0, 0, 0, 0, 1, 0, 2]\", fillcolor=\"#f29cc2\"] ;\\n1195 -> 1196 ;\\n1197 [label=\"gini = 0.0\\\\nsamples = 1\\\\nvalue = [0, 0, 0, 0, 0, 0, 2]\", fillcolor=\"#e53986\"] ;\\n1196 -> 1197 ;\\n1198 [label=\"gini = 0.0\\\\nsamples = 1\\\\nvalue = [0, 0, 0, 0, 1, 0, 0]\", fillcolor=\"#3956e5\"] ;\\n1196 -> 1198 ;\\n1199 [label=\"acousticness <= 0.782\\\\ngini = 0.346\\\\nsamples = 5\\\\nvalue = [2, 0, 0, 0, 7, 0, 0]\", fillcolor=\"#7286ec\"] ;\\n1195 -> 1199 ;\\n1200 [label=\"gini = 0.0\\\\nsamples = 1\\\\nvalue = [2, 0, 0, 0, 0, 0, 0]\", fillcolor=\"#e58139\"] ;\\n1199 -> 1200 ;\\n1201 [label=\"gini = 0.0\\\\nsamples = 4\\\\nvalue = [0, 0, 0, 0, 7, 0, 0]\", fillcolor=\"#3956e5\"] ;\\n1199 -> 1201 ;\\n1202 [label=\"gini = 0.0\\\\nsamples = 1\\\\nvalue = [0, 4, 0, 0, 0, 0, 0]\", fillcolor=\"#b7e539\"] ;\\n1194 -> 1202 ;\\n1203 [label=\"gini = 0.0\\\\nsamples = 2\\\\nvalue = [0, 0, 0, 0, 4, 0, 0]\", fillcolor=\"#3956e5\"] ;\\n1095 -> 1203 ;\\n1204 [label=\"popularity <= 52.733\\\\ngini = 0.578\\\\nsamples = 135\\\\nvalue = [27, 0, 20, 0, 132, 2, 36]\", fillcolor=\"#96a5f1\"] ;\\n1036 -> 1204 ;\\n1205 [label=\"danceability <= 0.389\\\\ngini = 0.455\\\\nsamples = 106\\\\nvalue = [25, 0, 20, 0, 122, 0, 4]\", fillcolor=\"#7b8fee\"] ;\\n1204 -> 1205 ;\\n1206 [label=\"danceability <= 0.386\\\\ngini = 0.496\\\\nsamples = 19\\\\nvalue = [17, 0, 3, 0, 4, 0, 1]\", fillcolor=\"#efb184\"] ;\\n1205 -> 1206 ;\\n1207 [label=\"tempo <= 72.797\\\\ngini = 0.42\\\\nsamples = 18\\\\nvalue = [17, 0, 1, 0, 4, 0, 1]\", fillcolor=\"#eda978\"] ;\\n1206 -> 1207 ;\\n1208 [label=\"energy <= 0.363\\\\ngini = 0.375\\\\nsamples = 3\\\\nvalue = [1, 0, 0, 0, 3, 0, 0]\", fillcolor=\"#7b8eee\"] ;\\n1207 -> 1208 ;\\n1209 [label=\"gini = 0.0\\\\nsamples = 1\\\\nvalue = [1, 0, 0, 0, 0, 0, 0]\", fillcolor=\"#e58139\"] ;\\n1208 -> 1209 ;\\n1210 [label=\"gini = 0.0\\\\nsamples = 2\\\\nvalue = [0, 0, 0, 0, 3, 0, 0]\", fillcolor=\"#3956e5\"] ;\\n1208 -> 1210 ;\\n1211 [label=\"acousticness <= 0.023\\\\ngini = 0.283\\\\nsamples = 15\\\\nvalue = [16, 0, 1, 0, 1, 0, 1]\", fillcolor=\"#e9965a\"] ;\\n1207 -> 1211 ;\\n1212 [label=\"tempo <= 95.502\\\\ngini = 0.75\\\\nsamples = 4\\\\nvalue = [1, 0, 1, 0, 1, 0, 1]\", fillcolor=\"#ffffff\"] ;\\n1211 -> 1212 ;\\n1213 [label=\"gini = 0.0\\\\nsamples = 1\\\\nvalue = [1, 0, 0, 0, 0, 0, 0]\", fillcolor=\"#e58139\"] ;\\n1212 -> 1213 ;\\n1214 [label=\"liveness <= 0.134\\\\ngini = 0.667\\\\nsamples = 3\\\\nvalue = [0, 0, 1, 0, 1, 0, 1]\", fillcolor=\"#ffffff\"] ;\\n1212 -> 1214 ;\\n1215 [label=\"gini = 0.0\\\\nsamples = 1\\\\nvalue = [0, 0, 1, 0, 0, 0, 0]\", fillcolor=\"#39e54d\"] ;\\n1214 -> 1215 ;\\n1216 [label=\"duration_ms <= 543490.547\\\\ngini = 0.5\\\\nsamples = 2\\\\nvalue = [0, 0, 0, 0, 1, 0, 1]\", fillcolor=\"#ffffff\"] ;\\n1214 -> 1216 ;\\n1217 [label=\"gini = 0.0\\\\nsamples = 1\\\\nvalue = [0, 0, 0, 0, 1, 0, 0]\", fillcolor=\"#3956e5\"] ;\\n1216 -> 1217 ;\\n1218 [label=\"gini = 0.0\\\\nsamples = 1\\\\nvalue = [0, 0, 0, 0, 0, 0, 1]\", fillcolor=\"#e53986\"] ;\\n1216 -> 1218 ;\\n1219 [label=\"gini = 0.0\\\\nsamples = 11\\\\nvalue = [15, 0, 0, 0, 0, 0, 0]\", fillcolor=\"#e58139\"] ;\\n1211 -> 1219 ;\\n1220 [label=\"gini = 0.0\\\\nsamples = 1\\\\nvalue = [0, 0, 2, 0, 0, 0, 0]\", fillcolor=\"#39e54d\"] ;\\n1206 -> 1220 ;\\n1221 [label=\"instrumentalness <= 0.258\\\\ngini = 0.33\\\\nsamples = 87\\\\nvalue = [8, 0, 17, 0, 118, 0, 3]\", fillcolor=\"#647beb\"] ;\\n1205 -> 1221 ;\\n1222 [label=\"gini = 0.0\\\\nsamples = 1\\\\nvalue = [0, 0, 2, 0, 0, 0, 0]\", fillcolor=\"#39e54d\"] ;\\n1221 -> 1222 ;\\n1223 [label=\"duration_ms <= 554944.938\\\\ngini = 0.314\\\\nsamples = 86\\\\nvalue = [8, 0, 15, 0, 118, 0, 3]\", fillcolor=\"#6178ea\"] ;\\n1221 -> 1223 ;\\n1224 [label=\"tempo <= 115.348\\\\ngini = 0.263\\\\nsamples = 81\\\\nvalue = [8, 0, 10, 0, 116, 0, 2]\", fillcolor=\"#5871e9\"] ;\\n1223 -> 1224 ;\\n1225 [label=\"acousticness <= 0.084\\\\ngini = 0.34\\\\nsamples = 52\\\\nvalue = [7, 0, 8, 0, 69, 0, 2]\", fillcolor=\"#647beb\"] ;\\n1224 -> 1225 ;\\n1226 [label=\"popularity <= 38.883\\\\ngini = 0.675\\\\nsamples = 12\\\\nvalue = [6, 0, 3, 0, 9, 0, 2]\", fillcolor=\"#d5dbf9\"] ;\\n1225 -> 1226 ;\\n1227 [label=\"danceability <= 0.552\\\\ngini = 0.444\\\\nsamples = 5\\\\nvalue = [6, 0, 3, 0, 0, 0, 0]\", fillcolor=\"#f2c09c\"] ;\\n1226 -> 1227 ;\\n1228 [label=\"gini = 0.0\\\\nsamples = 2\\\\nvalue = [4, 0, 0, 0, 0, 0, 0]\", fillcolor=\"#e58139\"] ;\\n1227 -> 1228 ;\\n1229 [label=\"speechiness <= 0.033\\\\ngini = 0.48\\\\nsamples = 3\\\\nvalue = [2, 0, 3, 0, 0, 0, 0]\", fillcolor=\"#bdf6c4\"] ;\\n1227 -> 1229 ;\\n1230 [label=\"gini = 0.0\\\\nsamples = 1\\\\nvalue = [2, 0, 0, 0, 0, 0, 0]\", fillcolor=\"#e58139\"] ;\\n1229 -> 1230 ;\\n1231 [label=\"gini = 0.0\\\\nsamples = 2\\\\nvalue = [0, 0, 3, 0, 0, 0, 0]\", fillcolor=\"#39e54d\"] ;\\n1229 -> 1231 ;\\n1232 [label=\"duration_ms <= 348883.844\\\\ngini = 0.298\\\\nsamples = 7\\\\nvalue = [0, 0, 0, 0, 9, 0, 2]\", fillcolor=\"#657ceb\"] ;\\n1226 -> 1232 ;\\n1233 [label=\"loudness <= -11.772\\\\ngini = 0.48\\\\nsamples = 3\\\\nvalue = [0, 0, 0, 0, 3, 0, 2]\", fillcolor=\"#bdc7f6\"] ;\\n1232 -> 1233 ;\\n1234 [label=\"gini = 0.0\\\\nsamples = 1\\\\nvalue = [0, 0, 0, 0, 0, 0, 2]\", fillcolor=\"#e53986\"] ;\\n1233 -> 1234 ;\\n1235 [label=\"gini = 0.0\\\\nsamples = 2\\\\nvalue = [0, 0, 0, 0, 3, 0, 0]\", fillcolor=\"#3956e5\"] ;\\n1233 -> 1235 ;\\n1236 [label=\"gini = 0.0\\\\nsamples = 4\\\\nvalue = [0, 0, 0, 0, 6, 0, 0]\", fillcolor=\"#3956e5\"] ;\\n1232 -> 1236 ;\\n1237 [label=\"speechiness <= 0.039\\\\ngini = 0.168\\\\nsamples = 40\\\\nvalue = [1, 0, 5, 0, 60, 0, 0]\", fillcolor=\"#4c67e8\"] ;\\n1225 -> 1237 ;\\n1238 [label=\"loudness <= -13.857\\\\ngini = 0.048\\\\nsamples = 23\\\\nvalue = [0, 0, 1, 0, 40, 0, 0]\", fillcolor=\"#3e5ae6\"] ;\\n1237 -> 1238 ;\\n1239 [label=\"liveness <= 0.293\\\\ngini = 0.278\\\\nsamples = 4\\\\nvalue = [0, 0, 1, 0, 5, 0, 0]\", fillcolor=\"#6178ea\"] ;\\n1238 -> 1239 ;\\n1240 [label=\"gini = 0.0\\\\nsamples = 3\\\\nvalue = [0, 0, 0, 0, 5, 0, 0]\", fillcolor=\"#3956e5\"] ;\\n1239 -> 1240 ;\\n1241 [label=\"gini = 0.0\\\\nsamples = 1\\\\nvalue = [0, 0, 1, 0, 0, 0, 0]\", fillcolor=\"#39e54d\"] ;\\n1239 -> 1241 ;\\n1242 [label=\"gini = 0.0\\\\nsamples = 19\\\\nvalue = [0, 0, 0, 0, 35, 0, 0]\", fillcolor=\"#3956e5\"] ;\\n1238 -> 1242 ;\\n1243 [label=\"instrumentalness <= 0.85\\\\ngini = 0.333\\\\nsamples = 17\\\\nvalue = [1, 0, 4, 0, 20, 0, 0]\", fillcolor=\"#687eeb\"] ;\\n1237 -> 1243 ;\\n1244 [label=\"gini = 0.0\\\\nsamples = 8\\\\nvalue = [0, 0, 0, 0, 16, 0, 0]\", fillcolor=\"#3956e5\"] ;\\n1243 -> 1244 ;\\n1245 [label=\"tempo <= 97.319\\\\ngini = 0.593\\\\nsamples = 9\\\\nvalue = [1, 0, 4, 0, 4, 0, 0]\", fillcolor=\"#ffffff\"] ;\\n1243 -> 1245 ;\\n1246 [label=\"liveness <= 0.191\\\\ngini = 0.5\\\\nsamples = 6\\\\nvalue = [1, 0, 1, 0, 4, 0, 0]\", fillcolor=\"#889aef\"] ;\\n1245 -> 1246 ;\\n1247 [label=\"gini = 0.0\\\\nsamples = 4\\\\nvalue = [0, 0, 0, 0, 4, 0, 0]\", fillcolor=\"#3956e5\"] ;\\n1246 -> 1247 ;\\n1248 [label=\"speechiness <= 0.05\\\\ngini = 0.5\\\\nsamples = 2\\\\nvalue = [1, 0, 1, 0, 0, 0, 0]\", fillcolor=\"#ffffff\"] ;\\n1246 -> 1248 ;\\n1249 [label=\"gini = 0.0\\\\nsamples = 1\\\\nvalue = [0, 0, 1, 0, 0, 0, 0]\", fillcolor=\"#39e54d\"] ;\\n1248 -> 1249 ;\\n1250 [label=\"gini = 0.0\\\\nsamples = 1\\\\nvalue = [1, 0, 0, 0, 0, 0, 0]\", fillcolor=\"#e58139\"] ;\\n1248 -> 1250 ;\\n1251 [label=\"gini = 0.0\\\\nsamples = 3\\\\nvalue = [0, 0, 3, 0, 0, 0, 0]\", fillcolor=\"#39e54d\"] ;\\n1245 -> 1251 ;\\n1252 [label=\"speechiness <= 0.03\\\\ngini = 0.114\\\\nsamples = 29\\\\nvalue = [1, 0, 2, 0, 47, 0, 0]\", fillcolor=\"#4561e7\"] ;\\n1224 -> 1252 ;\\n1253 [label=\"gini = 0.0\\\\nsamples = 1\\\\nvalue = [0, 0, 2, 0, 0, 0, 0]\", fillcolor=\"#39e54d\"] ;\\n1252 -> 1253 ;\\n1254 [label=\"energy <= -0.305\\\\ngini = 0.041\\\\nsamples = 28\\\\nvalue = [1, 0, 0, 0, 47, 0, 0]\", fillcolor=\"#3d5ae6\"] ;\\n1252 -> 1254 ;\\n1255 [label=\"liveness <= 0.802\\\\ngini = 0.142\\\\nsamples = 8\\\\nvalue = [1, 0, 0, 0, 12, 0, 0]\", fillcolor=\"#4964e7\"] ;\\n1254 -> 1255 ;\\n1256 [label=\"gini = 0.0\\\\nsamples = 7\\\\nvalue = [0, 0, 0, 0, 12, 0, 0]\", fillcolor=\"#3956e5\"] ;\\n1255 -> 1256 ;\\n1257 [label=\"gini = 0.0\\\\nsamples = 1\\\\nvalue = [1, 0, 0, 0, 0, 0, 0]\", fillcolor=\"#e58139\"] ;\\n1255 -> 1257 ;\\n1258 [label=\"gini = 0.0\\\\nsamples = 20\\\\nvalue = [0, 0, 0, 0, 35, 0, 0]\", fillcolor=\"#3956e5\"] ;\\n1254 -> 1258 ;\\n1259 [label=\"popularity <= 36.488\\\\ngini = 0.531\\\\nsamples = 5\\\\nvalue = [0, 0, 5, 0, 2, 0, 1]\", fillcolor=\"#9cf2a6\"] ;\\n1223 -> 1259 ;\\n1260 [label=\"gini = 0.0\\\\nsamples = 1\\\\nvalue = [0, 0, 4, 0, 0, 0, 0]\", fillcolor=\"#39e54d\"] ;\\n1259 -> 1260 ;\\n1261 [label=\"duration_ms <= 588833.719\\\\ngini = 0.625\\\\nsamples = 4\\\\nvalue = [0, 0, 1, 0, 2, 0, 1]\", fillcolor=\"#bdc7f6\"] ;\\n1259 -> 1261 ;\\n1262 [label=\"energy <= -0.209\\\\ngini = 0.5\\\\nsamples = 2\\\\nvalue = [0, 0, 1, 0, 0, 0, 1]\", fillcolor=\"#ffffff\"] ;\\n1261 -> 1262 ;\\n1263 [label=\"gini = 0.0\\\\nsamples = 1\\\\nvalue = [0, 0, 1, 0, 0, 0, 0]\", fillcolor=\"#39e54d\"] ;\\n1262 -> 1263 ;\\n1264 [label=\"gini = 0.0\\\\nsamples = 1\\\\nvalue = [0, 0, 0, 0, 0, 0, 1]\", fillcolor=\"#e53986\"] ;\\n1262 -> 1264 ;\\n1265 [label=\"gini = 0.0\\\\nsamples = 2\\\\nvalue = [0, 0, 0, 0, 2, 0, 0]\", fillcolor=\"#3956e5\"] ;\\n1261 -> 1265 ;\\n1266 [label=\"popularity <= 59.892\\\\ngini = 0.465\\\\nsamples = 29\\\\nvalue = [2, 0, 0, 0, 10, 2, 32]\", fillcolor=\"#ef86b5\"] ;\\n1204 -> 1266 ;\\n1267 [label=\"speechiness <= 0.034\\\\ngini = 0.563\\\\nsamples = 16\\\\nvalue = [2, 0, 0, 0, 10, 0, 13]\", fillcolor=\"#fad7e7\"] ;\\n1266 -> 1267 ;\\n1268 [label=\"gini = 0.0\\\\nsamples = 2\\\\nvalue = [0, 0, 0, 0, 4, 0, 0]\", fillcolor=\"#3956e5\"] ;\\n1267 -> 1268 ;\\n1269 [label=\"tempo <= 159.678\\\\ngini = 0.526\\\\nsamples = 14\\\\nvalue = [2, 0, 0, 0, 6, 0, 13]\", fillcolor=\"#f3a3c7\"] ;\\n1267 -> 1269 ;\\n1270 [label=\"loudness <= -5.063\\\\ngini = 0.457\\\\nsamples = 11\\\\nvalue = [2, 0, 0, 0, 3, 0, 12]\", fillcolor=\"#ee80b1\"] ;\\n1269 -> 1270 ;\\n1271 [label=\"acousticness <= 0.575\\\\ngini = 0.32\\\\nsamples = 10\\\\nvalue = [0, 0, 0, 0, 3, 0, 12]\", fillcolor=\"#ec6aa4\"] ;\\n1270 -> 1271 ;\\n1272 [label=\"instrumentalness <= 0.909\\\\ngini = 0.142\\\\nsamples = 8\\\\nvalue = [0, 0, 0, 0, 1, 0, 12]\", fillcolor=\"#e74990\"] ;\\n1271 -> 1272 ;\\n1273 [label=\"gini = 0.0\\\\nsamples = 7\\\\nvalue = [0, 0, 0, 0, 0, 0, 12]\", fillcolor=\"#e53986\"] ;\\n1272 -> 1273 ;\\n1274 [label=\"gini = 0.0\\\\nsamples = 1\\\\nvalue = [0, 0, 0, 0, 1, 0, 0]\", fillcolor=\"#3956e5\"] ;\\n1272 -> 1274 ;\\n1275 [label=\"gini = 0.0\\\\nsamples = 2\\\\nvalue = [0, 0, 0, 0, 2, 0, 0]\", fillcolor=\"#3956e5\"] ;\\n1271 -> 1275 ;\\n1276 [label=\"gini = 0.0\\\\nsamples = 1\\\\nvalue = [2, 0, 0, 0, 0, 0, 0]\", fillcolor=\"#e58139\"] ;\\n1270 -> 1276 ;\\n1277 [label=\"loudness <= -10.943\\\\ngini = 0.375\\\\nsamples = 3\\\\nvalue = [0, 0, 0, 0, 3, 0, 1]\", fillcolor=\"#7b8eee\"] ;\\n1269 -> 1277 ;\\n1278 [label=\"gini = 0.0\\\\nsamples = 1\\\\nvalue = [0, 0, 0, 0, 0, 0, 1]\", fillcolor=\"#e53986\"] ;\\n1277 -> 1278 ;\\n1279 [label=\"gini = 0.0\\\\nsamples = 2\\\\nvalue = [0, 0, 0, 0, 3, 0, 0]\", fillcolor=\"#3956e5\"] ;\\n1277 -> 1279 ;\\n1280 [label=\"duration_ms <= 570357.875\\\\ngini = 0.172\\\\nsamples = 13\\\\nvalue = [0, 0, 0, 0, 0, 2, 19]\", fillcolor=\"#e84e93\"] ;\\n1266 -> 1280 ;\\n1281 [label=\"gini = 0.0\\\\nsamples = 11\\\\nvalue = [0, 0, 0, 0, 0, 0, 18]\", fillcolor=\"#e53986\"] ;\\n1280 -> 1281 ;\\n1282 [label=\"instrumentalness <= 0.556\\\\ngini = 0.444\\\\nsamples = 2\\\\nvalue = [0, 0, 0, 0, 0, 2, 1]\", fillcolor=\"#d89cf2\"] ;\\n1280 -> 1282 ;\\n1283 [label=\"gini = 0.0\\\\nsamples = 1\\\\nvalue = [0, 0, 0, 0, 0, 2, 0]\", fillcolor=\"#b139e5\"] ;\\n1282 -> 1283 ;\\n1284 [label=\"gini = 0.0\\\\nsamples = 1\\\\nvalue = [0, 0, 0, 0, 0, 0, 1]\", fillcolor=\"#e53986\"] ;\\n1282 -> 1284 ;\\n1285 [label=\"valence <= 0.547\\\\ngini = 0.625\\\\nsamples = 540\\\\nvalue = [10, 8, 24, 72, 176, 469, 78]\", fillcolor=\"#dca7f3\"] ;\\n3 -> 1285 ;\\n1286 [label=\"popularity <= 50.757\\\\ngini = 0.541\\\\nsamples = 332\\\\nvalue = [7, 6, 19, 42, 52, 327, 45]\", fillcolor=\"#cf85ef\"] ;\\n1285 -> 1286 ;\\n1287 [label=\"danceability <= 0.526\\\\ngini = 0.641\\\\nsamples = 53\\\\nvalue = [5, 6, 16, 0, 42, 7, 1]\", fillcolor=\"#abb7f4\"] ;\\n1286 -> 1287 ;\\n1288 [label=\"loudness <= -18.332\\\\ngini = 0.508\\\\nsamples = 19\\\\nvalue = [5, 3, 0, 0, 18, 0, 1]\", fillcolor=\"#8a9bf0\"] ;\\n1287 -> 1288 ;\\n1289 [label=\"danceability <= 0.47\\\\ngini = 0.48\\\\nsamples = 3\\\\nvalue = [3, 2, 0, 0, 0, 0, 0]\", fillcolor=\"#f6d5bd\"] ;\\n1288 -> 1289 ;\\n1290 [label=\"gini = 0.0\\\\nsamples = 1\\\\nvalue = [0, 2, 0, 0, 0, 0, 0]\", fillcolor=\"#b7e539\"] ;\\n1289 -> 1290 ;\\n1291 [label=\"gini = 0.0\\\\nsamples = 2\\\\nvalue = [3, 0, 0, 0, 0, 0, 0]\", fillcolor=\"#e58139\"] ;\\n1289 -> 1291 ;\\n1292 [label=\"energy <= 0.707\\\\ngini = 0.318\\\\nsamples = 16\\\\nvalue = [2, 1, 0, 0, 18, 0, 1]\", fillcolor=\"#6178ea\"] ;\\n1288 -> 1292 ;\\n1293 [label=\"speechiness <= 0.108\\\\ngini = 0.259\\\\nsamples = 15\\\\nvalue = [1, 1, 0, 0, 18, 0, 1]\", fillcolor=\"#576fe9\"] ;\\n1292 -> 1293 ;\\n1294 [label=\"speechiness <= 0.096\\\\ngini = 0.625\\\\nsamples = 4\\\\nvalue = [0, 1, 0, 0, 2, 0, 1]\", fillcolor=\"#bdc7f6\"] ;\\n1293 -> 1294 ;\\n1295 [label=\"gini = 0.0\\\\nsamples = 2\\\\nvalue = [0, 0, 0, 0, 2, 0, 0]\", fillcolor=\"#3956e5\"] ;\\n1294 -> 1295 ;\\n1296 [label=\"duration_ms <= 249737.477\\\\ngini = 0.5\\\\nsamples = 2\\\\nvalue = [0, 1, 0, 0, 0, 0, 1]\", fillcolor=\"#ffffff\"] ;\\n1294 -> 1296 ;\\n1297 [label=\"gini = 0.0\\\\nsamples = 1\\\\nvalue = [0, 0, 0, 0, 0, 0, 1]\", fillcolor=\"#e53986\"] ;\\n1296 -> 1297 ;\\n1298 [label=\"gini = 0.0\\\\nsamples = 1\\\\nvalue = [0, 1, 0, 0, 0, 0, 0]\", fillcolor=\"#b7e539\"] ;\\n1296 -> 1298 ;\\n1299 [label=\"loudness <= -7.109\\\\ngini = 0.111\\\\nsamples = 11\\\\nvalue = [1, 0, 0, 0, 16, 0, 0]\", fillcolor=\"#4561e7\"] ;\\n1293 -> 1299 ;\\n1300 [label=\"gini = 0.0\\\\nsamples = 7\\\\nvalue = [0, 0, 0, 0, 11, 0, 0]\", fillcolor=\"#3956e5\"] ;\\n1299 -> 1300 ;\\n1301 [label=\"duration_ms <= 145815.234\\\\ngini = 0.278\\\\nsamples = 4\\\\nvalue = [1, 0, 0, 0, 5, 0, 0]\", fillcolor=\"#6178ea\"] ;\\n1299 -> 1301 ;\\n1302 [label=\"gini = 0.0\\\\nsamples = 1\\\\nvalue = [1, 0, 0, 0, 0, 0, 0]\", fillcolor=\"#e58139\"] ;\\n1301 -> 1302 ;\\n1303 [label=\"gini = 0.0\\\\nsamples = 3\\\\nvalue = [0, 0, 0, 0, 5, 0, 0]\", fillcolor=\"#3956e5\"] ;\\n1301 -> 1303 ;\\n1304 [label=\"gini = 0.0\\\\nsamples = 1\\\\nvalue = [1, 0, 0, 0, 0, 0, 0]\", fillcolor=\"#e58139\"] ;\\n1292 -> 1304 ;\\n1305 [label=\"acousticness <= 0.311\\\\ngini = 0.644\\\\nsamples = 34\\\\nvalue = [0, 3, 16, 0, 24, 7, 0]\", fillcolor=\"#d0d7f9\"] ;\\n1287 -> 1305 ;\\n1306 [label=\"energy <= 0.822\\\\ngini = 0.606\\\\nsamples = 20\\\\nvalue = [0, 3, 15, 0, 2, 7, 0]\", fillcolor=\"#b0f5b8\"] ;\\n1305 -> 1306 ;\\n1307 [label=\"instrumentalness <= 0.035\\\\ngini = 0.559\\\\nsamples = 17\\\\nvalue = [0, 3, 14, 0, 0, 7, 0]\", fillcolor=\"#adf4b6\"] ;\\n1306 -> 1307 ;\\n1308 [label=\"liveness <= 0.143\\\\ngini = 0.569\\\\nsamples = 9\\\\nvalue = [0, 3, 2, 0, 0, 7, 0]\", fillcolor=\"#dca7f3\"] ;\\n1307 -> 1308 ;\\n1309 [label=\"gini = 0.0\\\\nsamples = 2\\\\nvalue = [0, 3, 0, 0, 0, 0, 0]\", fillcolor=\"#b7e539\"] ;\\n1308 -> 1309 ;\\n1310 [label=\"duration_ms <= 268785.633\\\\ngini = 0.346\\\\nsamples = 7\\\\nvalue = [0, 0, 2, 0, 0, 7, 0]\", fillcolor=\"#c772ec\"] ;\\n1308 -> 1310 ;\\n1311 [label=\"tempo <= 169.243\\\\ngini = 0.219\\\\nsamples = 6\\\\nvalue = [0, 0, 1, 0, 0, 7, 0]\", fillcolor=\"#bc55e9\"] ;\\n1310 -> 1311 ;\\n1312 [label=\"gini = 0.0\\\\nsamples = 5\\\\nvalue = [0, 0, 0, 0, 0, 7, 0]\", fillcolor=\"#b139e5\"] ;\\n1311 -> 1312 ;\\n1313 [label=\"gini = 0.0\\\\nsamples = 1\\\\nvalue = [0, 0, 1, 0, 0, 0, 0]\", fillcolor=\"#39e54d\"] ;\\n1311 -> 1313 ;\\n1314 [label=\"gini = 0.0\\\\nsamples = 1\\\\nvalue = [0, 0, 1, 0, 0, 0, 0]\", fillcolor=\"#39e54d\"] ;\\n1310 -> 1314 ;\\n1315 [label=\"gini = 0.0\\\\nsamples = 8\\\\nvalue = [0, 0, 12, 0, 0, 0, 0]\", fillcolor=\"#39e54d\"] ;\\n1307 -> 1315 ;\\n1316 [label=\"loudness <= -8.745\\\\ngini = 0.444\\\\nsamples = 3\\\\nvalue = [0, 0, 1, 0, 2, 0, 0]\", fillcolor=\"#9caaf2\"] ;\\n1306 -> 1316 ;\\n1317 [label=\"gini = 0.0\\\\nsamples = 1\\\\nvalue = [0, 0, 1, 0, 0, 0, 0]\", fillcolor=\"#39e54d\"] ;\\n1316 -> 1317 ;\\n1318 [label=\"gini = 0.0\\\\nsamples = 2\\\\nvalue = [0, 0, 0, 0, 2, 0, 0]\", fillcolor=\"#3956e5\"] ;\\n1316 -> 1318 ;\\n1319 [label=\"loudness <= -10.656\\\\ngini = 0.083\\\\nsamples = 14\\\\nvalue = [0, 0, 1, 0, 22, 0, 0]\", fillcolor=\"#425ee6\"] ;\\n1305 -> 1319 ;\\n1320 [label=\"gini = 0.0\\\\nsamples = 9\\\\nvalue = [0, 0, 0, 0, 16, 0, 0]\", fillcolor=\"#3956e5\"] ;\\n1319 -> 1320 ;\\n1321 [label=\"duration_ms <= 120834.156\\\\ngini = 0.245\\\\nsamples = 5\\\\nvalue = [0, 0, 1, 0, 6, 0, 0]\", fillcolor=\"#5a72e9\"] ;\\n1319 -> 1321 ;\\n1322 [label=\"gini = 0.0\\\\nsamples = 1\\\\nvalue = [0, 0, 1, 0, 0, 0, 0]\", fillcolor=\"#39e54d\"] ;\\n1321 -> 1322 ;\\n1323 [label=\"gini = 0.0\\\\nsamples = 4\\\\nvalue = [0, 0, 0, 0, 6, 0, 0]\", fillcolor=\"#3956e5\"] ;\\n1321 -> 1323 ;\\n1324 [label=\"speechiness <= 0.21\\\\ngini = 0.401\\\\nsamples = 279\\\\nvalue = [2, 0, 3, 42, 10, 320, 44]\", fillcolor=\"#c66eec\"] ;\\n1286 -> 1324 ;\\n1325 [label=\"liveness <= 0.686\\\\ngini = 0.538\\\\nsamples = 123\\\\nvalue = [2, 0, 2, 20, 7, 120, 36]\", fillcolor=\"#d491f1\"] ;\\n1324 -> 1325 ;\\n1326 [label=\"acousticness <= 0.847\\\\ngini = 0.511\\\\nsamples = 117\\\\nvalue = [2, 0, 2, 20, 5, 119, 30]\", fillcolor=\"#d088ef\"] ;\\n1325 -> 1326 ;\\n1327 [label=\"popularity <= 50.986\\\\ngini = 0.5\\\\nsamples = 115\\\\nvalue = [2, 0, 2, 20, 5, 119, 27]\", fillcolor=\"#cf84ef\"] ;\\n1326 -> 1327 ;\\n1328 [label=\"valence <= 0.454\\\\ngini = 0.694\\\\nsamples = 5\\\\nvalue = [2, 0, 0, 3, 1, 0, 1]\", fillcolor=\"#d7faf9\"] ;\\n1327 -> 1328 ;\\n1329 [label=\"danceability <= 0.604\\\\ngini = 0.625\\\\nsamples = 4\\\\nvalue = [2, 0, 0, 0, 1, 0, 1]\", fillcolor=\"#f6d5bd\"] ;\\n1328 -> 1329 ;\\n1330 [label=\"energy <= 0.42\\\\ngini = 0.444\\\\nsamples = 3\\\\nvalue = [2, 0, 0, 0, 0, 0, 1]\", fillcolor=\"#f2c09c\"] ;\\n1329 -> 1330 ;\\n1331 [label=\"gini = 0.0\\\\nsamples = 2\\\\nvalue = [2, 0, 0, 0, 0, 0, 0]\", fillcolor=\"#e58139\"] ;\\n1330 -> 1331 ;\\n1332 [label=\"gini = 0.0\\\\nsamples = 1\\\\nvalue = [0, 0, 0, 0, 0, 0, 1]\", fillcolor=\"#e53986\"] ;\\n1330 -> 1332 ;\\n1333 [label=\"gini = 0.0\\\\nsamples = 1\\\\nvalue = [0, 0, 0, 0, 1, 0, 0]\", fillcolor=\"#3956e5\"] ;\\n1329 -> 1333 ;\\n1334 [label=\"gini = 0.0\\\\nsamples = 1\\\\nvalue = [0, 0, 0, 3, 0, 0, 0]\", fillcolor=\"#39e5e2\"] ;\\n1328 -> 1334 ;\\n1335 [label=\"danceability <= 0.561\\\\ngini = 0.463\\\\nsamples = 110\\\\nvalue = [0, 0, 2, 17, 4, 119, 26]\", fillcolor=\"#cc7dee\"] ;\\n1327 -> 1335 ;\\n1336 [label=\"duration_ms <= 292852.906\\\\ngini = 0.656\\\\nsamples = 34\\\\nvalue = [0, 0, 0, 8, 4, 25, 15]\", fillcolor=\"#eac9f8\"] ;\\n1335 -> 1336 ;\\n1337 [label=\"liveness <= 0.216\\\\ngini = 0.679\\\\nsamples = 26\\\\nvalue = [0, 0, 0, 8, 2, 14, 15]\", fillcolor=\"#fef7fa\"] ;\\n1336 -> 1337 ;\\n1338 [label=\"speechiness <= 0.206\\\\ngini = 0.687\\\\nsamples = 20\\\\nvalue = [0, 0, 0, 8, 2, 13, 8]\", fillcolor=\"#eed4f9\"] ;\\n1337 -> 1338 ;\\n1339 [label=\"valence <= 0.307\\\\ngini = 0.647\\\\nsamples = 19\\\\nvalue = [0, 0, 0, 8, 0, 13, 8]\", fillcolor=\"#ecd0f9\"] ;\\n1338 -> 1339 ;\\n1340 [label=\"energy <= 0.608\\\\ngini = 0.444\\\\nsamples = 6\\\\nvalue = [0, 0, 0, 4, 0, 8, 0]\", fillcolor=\"#d89cf2\"] ;\\n1339 -> 1340 ;\\n1341 [label=\"tempo <= 160.219\\\\ngini = 0.32\\\\nsamples = 3\\\\nvalue = [0, 0, 0, 4, 0, 1, 0]\", fillcolor=\"#6aece9\"] ;\\n1340 -> 1341 ;\\n1342 [label=\"gini = 0.0\\\\nsamples = 1\\\\nvalue = [0, 0, 0, 2, 0, 0, 0]\", fillcolor=\"#39e5e2\"] ;\\n1341 -> 1342 ;\\n1343 [label=\"speechiness <= 0.14\\\\ngini = 0.444\\\\nsamples = 2\\\\nvalue = [0, 0, 0, 2, 0, 1, 0]\", fillcolor=\"#9cf2f0\"] ;\\n1341 -> 1343 ;\\n1344 [label=\"gini = 0.0\\\\nsamples = 1\\\\nvalue = [0, 0, 0, 0, 0, 1, 0]\", fillcolor=\"#b139e5\"] ;\\n1343 -> 1344 ;\\n1345 [label=\"gini = 0.0\\\\nsamples = 1\\\\nvalue = [0, 0, 0, 2, 0, 0, 0]\", fillcolor=\"#39e5e2\"] ;\\n1343 -> 1345 ;\\n1346 [label=\"gini = 0.0\\\\nsamples = 3\\\\nvalue = [0, 0, 0, 0, 0, 7, 0]\", fillcolor=\"#b139e5\"] ;\\n1340 -> 1346 ;\\n1347 [label=\"loudness <= -4.614\\\\ngini = 0.637\\\\nsamples = 13\\\\nvalue = [0, 0, 0, 4, 0, 5, 8]\", fillcolor=\"#f8cee1\"] ;\\n1339 -> 1347 ;\\n1348 [label=\"energy <= 0.643\\\\ngini = 0.571\\\\nsamples = 11\\\\nvalue = [0, 0, 0, 4, 0, 2, 8]\", fillcolor=\"#f5b0cf\"] ;\\n1347 -> 1348 ;\\n1349 [label=\"acousticness <= 0.549\\\\ngini = 0.611\\\\nsamples = 5\\\\nvalue = [0, 0, 0, 3, 0, 2, 1]\", fillcolor=\"#cef8f8\"] ;\\n1348 -> 1349 ;\\n1350 [label=\"popularity <= 59.463\\\\ngini = 0.444\\\\nsamples = 3\\\\nvalue = [0, 0, 0, 0, 0, 2, 1]\", fillcolor=\"#d89cf2\"] ;\\n1349 -> 1350 ;\\n1351 [label=\"gini = 0.0\\\\nsamples = 1\\\\nvalue = [0, 0, 0, 0, 0, 0, 1]\", fillcolor=\"#e53986\"] ;\\n1350 -> 1351 ;\\n1352 [label=\"gini = 0.0\\\\nsamples = 2\\\\nvalue = [0, 0, 0, 0, 0, 2, 0]\", fillcolor=\"#b139e5\"] ;\\n1350 -> 1352 ;\\n1353 [label=\"gini = 0.0\\\\nsamples = 2\\\\nvalue = [0, 0, 0, 3, 0, 0, 0]\", fillcolor=\"#39e5e2\"] ;\\n1349 -> 1353 ;\\n1354 [label=\"tempo <= 143.468\\\\ngini = 0.219\\\\nsamples = 6\\\\nvalue = [0, 0, 0, 1, 0, 0, 7]\", fillcolor=\"#e95597\"] ;\\n1348 -> 1354 ;\\n1355 [label=\"gini = 0.0\\\\nsamples = 5\\\\nvalue = [0, 0, 0, 0, 0, 0, 7]\", fillcolor=\"#e53986\"] ;\\n1354 -> 1355 ;\\n1356 [label=\"gini = 0.0\\\\nsamples = 1\\\\nvalue = [0, 0, 0, 1, 0, 0, 0]\", fillcolor=\"#39e5e2\"] ;\\n1354 -> 1356 ;\\n1357 [label=\"gini = 0.0\\\\nsamples = 2\\\\nvalue = [0, 0, 0, 0, 0, 3, 0]\", fillcolor=\"#b139e5\"] ;\\n1347 -> 1357 ;\\n1358 [label=\"gini = 0.0\\\\nsamples = 1\\\\nvalue = [0, 0, 0, 0, 2, 0, 0]\", fillcolor=\"#3956e5\"] ;\\n1338 -> 1358 ;\\n1359 [label=\"liveness <= 0.561\\\\ngini = 0.219\\\\nsamples = 6\\\\nvalue = [0, 0, 0, 0, 0, 1, 7]\", fillcolor=\"#e95597\"] ;\\n1337 -> 1359 ;\\n1360 [label=\"gini = 0.0\\\\nsamples = 5\\\\nvalue = [0, 0, 0, 0, 0, 0, 7]\", fillcolor=\"#e53986\"] ;\\n1359 -> 1360 ;\\n1361 [label=\"gini = 0.0\\\\nsamples = 1\\\\nvalue = [0, 0, 0, 0, 0, 1, 0]\", fillcolor=\"#b139e5\"] ;\\n1359 -> 1361 ;\\n1362 [label=\"danceability <= 0.497\\\\ngini = 0.26\\\\nsamples = 8\\\\nvalue = [0, 0, 0, 0, 2, 11, 0]\", fillcolor=\"#bf5dea\"] ;\\n1336 -> 1362 ;\\n1363 [label=\"gini = 0.0\\\\nsamples = 6\\\\nvalue = [0, 0, 0, 0, 0, 10, 0]\", fillcolor=\"#b139e5\"] ;\\n1362 -> 1363 ;\\n1364 [label=\"valence <= 0.31\\\\ngini = 0.444\\\\nsamples = 2\\\\nvalue = [0, 0, 0, 0, 2, 1, 0]\", fillcolor=\"#9caaf2\"] ;\\n1362 -> 1364 ;\\n1365 [label=\"gini = 0.0\\\\nsamples = 1\\\\nvalue = [0, 0, 0, 0, 2, 0, 0]\", fillcolor=\"#3956e5\"] ;\\n1364 -> 1365 ;\\n1366 [label=\"gini = 0.0\\\\nsamples = 1\\\\nvalue = [0, 0, 0, 0, 0, 1, 0]\", fillcolor=\"#b139e5\"] ;\\n1364 -> 1366 ;\\n1367 [label=\"liveness <= 0.093\\\\ngini = 0.328\\\\nsamples = 76\\\\nvalue = [0, 0, 2, 9, 0, 94, 11]\", fillcolor=\"#c162ea\"] ;\\n1335 -> 1367 ;\\n1368 [label=\"energy <= 0.575\\\\ngini = 0.724\\\\nsamples = 10\\\\nvalue = [0, 0, 2, 4, 0, 5, 3]\", fillcolor=\"#f7ebfc\"] ;\\n1367 -> 1368 ;\\n1369 [label=\"acousticness <= 0.017\\\\ngini = 0.625\\\\nsamples = 5\\\\nvalue = [0, 0, 2, 4, 0, 0, 2]\", fillcolor=\"#bdf6f5\"] ;\\n1368 -> 1369 ;\\n1370 [label=\"gini = 0.0\\\\nsamples = 1\\\\nvalue = [0, 0, 2, 0, 0, 0, 0]\", fillcolor=\"#39e54d\"] ;\\n1369 -> 1370 ;\\n1371 [label=\"liveness <= 0.089\\\\ngini = 0.444\\\\nsamples = 4\\\\nvalue = [0, 0, 0, 4, 0, 0, 2]\", fillcolor=\"#9cf2f0\"] ;\\n1369 -> 1371 ;\\n1372 [label=\"acousticness <= 0.126\\\\ngini = 0.32\\\\nsamples = 3\\\\nvalue = [0, 0, 0, 4, 0, 0, 1]\", fillcolor=\"#6aece9\"] ;\\n1371 -> 1372 ;\\n1373 [label=\"gini = 0.0\\\\nsamples = 2\\\\nvalue = [0, 0, 0, 4, 0, 0, 0]\", fillcolor=\"#39e5e2\"] ;\\n1372 -> 1373 ;\\n1374 [label=\"gini = 0.0\\\\nsamples = 1\\\\nvalue = [0, 0, 0, 0, 0, 0, 1]\", fillcolor=\"#e53986\"] ;\\n1372 -> 1374 ;\\n1375 [label=\"gini = 0.0\\\\nsamples = 1\\\\nvalue = [0, 0, 0, 0, 0, 0, 1]\", fillcolor=\"#e53986\"] ;\\n1371 -> 1375 ;\\n1376 [label=\"valence <= 0.509\\\\ngini = 0.278\\\\nsamples = 5\\\\nvalue = [0, 0, 0, 0, 0, 5, 1]\", fillcolor=\"#c161ea\"] ;\\n1368 -> 1376 ;\\n1377 [label=\"gini = 0.0\\\\nsamples = 4\\\\nvalue = [0, 0, 0, 0, 0, 5, 0]\", fillcolor=\"#b139e5\"] ;\\n1376 -> 1377 ;\\n1378 [label=\"gini = 0.0\\\\nsamples = 1\\\\nvalue = [0, 0, 0, 0, 0, 0, 1]\", fillcolor=\"#e53986\"] ;\\n1376 -> 1378 ;\\n1379 [label=\"danceability <= 0.709\\\\ngini = 0.23\\\\nsamples = 66\\\\nvalue = [0, 0, 0, 5, 0, 89, 8]\", fillcolor=\"#bc54e9\"] ;\\n1367 -> 1379 ;\\n1380 [label=\"instrumentalness <= 0.0\\\\ngini = 0.165\\\\nsamples = 51\\\\nvalue = [0, 0, 0, 2, 0, 72, 5]\", fillcolor=\"#b84ce7\"] ;\\n1379 -> 1380 ;\\n1381 [label=\"tempo <= 178.888\\\\ngini = 0.103\\\\nsamples = 35\\\\nvalue = [0, 0, 0, 1, 0, 53, 2]\", fillcolor=\"#b544e6\"] ;\\n1380 -> 1381 ;\\n1382 [label=\"liveness <= 0.155\\\\ngini = 0.071\\\\nsamples = 34\\\\nvalue = [0, 0, 0, 1, 0, 53, 1]\", fillcolor=\"#b440e6\"] ;\\n1381 -> 1382 ;\\n1383 [label=\"gini = 0.0\\\\nsamples = 20\\\\nvalue = [0, 0, 0, 0, 0, 28, 0]\", fillcolor=\"#b139e5\"] ;\\n1382 -> 1383 ;\\n1384 [label=\"valence <= 0.445\\\\ngini = 0.14\\\\nsamples = 14\\\\nvalue = [0, 0, 0, 1, 0, 25, 1]\", fillcolor=\"#b748e7\"] ;\\n1382 -> 1384 ;\\n1385 [label=\"gini = 0.0\\\\nsamples = 11\\\\nvalue = [0, 0, 0, 0, 0, 21, 0]\", fillcolor=\"#b139e5\"] ;\\n1384 -> 1385 ;\\n1386 [label=\"speechiness <= 0.158\\\\ngini = 0.5\\\\nsamples = 3\\\\nvalue = [0, 0, 0, 1, 0, 4, 1]\", fillcolor=\"#d088ef\"] ;\\n1384 -> 1386 ;\\n1387 [label=\"gini = 0.0\\\\nsamples = 1\\\\nvalue = [0, 0, 0, 0, 0, 4, 0]\", fillcolor=\"#b139e5\"] ;\\n1386 -> 1387 ;\\n1388 [label=\"energy <= -0.219\\\\ngini = 0.5\\\\nsamples = 2\\\\nvalue = [0, 0, 0, 1, 0, 0, 1]\", fillcolor=\"#ffffff\"] ;\\n1386 -> 1388 ;\\n1389 [label=\"gini = 0.0\\\\nsamples = 1\\\\nvalue = [0, 0, 0, 0, 0, 0, 1]\", fillcolor=\"#e53986\"] ;\\n1388 -> 1389 ;\\n1390 [label=\"gini = 0.0\\\\nsamples = 1\\\\nvalue = [0, 0, 0, 1, 0, 0, 0]\", fillcolor=\"#39e5e2\"] ;\\n1388 -> 1390 ;\\n1391 [label=\"gini = 0.0\\\\nsamples = 1\\\\nvalue = [0, 0, 0, 0, 0, 0, 1]\", fillcolor=\"#e53986\"] ;\\n1381 -> 1391 ;\\n1392 [label=\"energy <= -0.337\\\\ngini = 0.299\\\\nsamples = 16\\\\nvalue = [0, 0, 0, 1, 0, 19, 3]\", fillcolor=\"#c161ea\"] ;\\n1380 -> 1392 ;\\n1393 [label=\"tempo <= 62.5\\\\ngini = 0.48\\\\nsamples = 3\\\\nvalue = [0, 0, 0, 0, 0, 2, 3]\", fillcolor=\"#f6bdd7\"] ;\\n1392 -> 1393 ;\\n1394 [label=\"gini = 0.0\\\\nsamples = 1\\\\nvalue = [0, 0, 0, 0, 0, 0, 3]\", fillcolor=\"#e53986\"] ;\\n1393 -> 1394 ;\\n1395 [label=\"gini = 0.0\\\\nsamples = 2\\\\nvalue = [0, 0, 0, 0, 0, 2, 0]\", fillcolor=\"#b139e5\"] ;\\n1393 -> 1395 ;\\n1396 [label=\"tempo <= 104.42\\\\ngini = 0.105\\\\nsamples = 13\\\\nvalue = [0, 0, 0, 1, 0, 17, 0]\", fillcolor=\"#b645e7\"] ;\\n1392 -> 1396 ;\\n1397 [label=\"acousticness <= 0.152\\\\ngini = 0.278\\\\nsamples = 5\\\\nvalue = [0, 0, 0, 1, 0, 5, 0]\", fillcolor=\"#c161ea\"] ;\\n1396 -> 1397 ;\\n1398 [label=\"gini = 0.0\\\\nsamples = 1\\\\nvalue = [0, 0, 0, 1, 0, 0, 0]\", fillcolor=\"#39e5e2\"] ;\\n1397 -> 1398 ;\\n1399 [label=\"gini = 0.0\\\\nsamples = 4\\\\nvalue = [0, 0, 0, 0, 0, 5, 0]\", fillcolor=\"#b139e5\"] ;\\n1397 -> 1399 ;\\n1400 [label=\"gini = 0.0\\\\nsamples = 8\\\\nvalue = [0, 0, 0, 0, 0, 12, 0]\", fillcolor=\"#b139e5\"] ;\\n1396 -> 1400 ;\\n1401 [label=\"danceability <= 0.728\\\\ngini = 0.42\\\\nsamples = 15\\\\nvalue = [0, 0, 0, 3, 0, 17, 3]\", fillcolor=\"#c874ed\"] ;\\n1379 -> 1401 ;\\n1402 [label=\"liveness <= 0.132\\\\ngini = 0.604\\\\nsamples = 9\\\\nvalue = [0, 0, 0, 3, 0, 7, 3]\", fillcolor=\"#e0b0f5\"] ;\\n1401 -> 1402 ;\\n1403 [label=\"acousticness <= 0.298\\\\ngini = 0.5\\\\nsamples = 2\\\\nvalue = [0, 0, 0, 2, 0, 0, 2]\", fillcolor=\"#ffffff\"] ;\\n1402 -> 1403 ;\\n1404 [label=\"gini = 0.0\\\\nsamples = 1\\\\nvalue = [0, 0, 0, 2, 0, 0, 0]\", fillcolor=\"#39e5e2\"] ;\\n1403 -> 1404 ;\\n1405 [label=\"gini = 0.0\\\\nsamples = 1\\\\nvalue = [0, 0, 0, 0, 0, 0, 2]\", fillcolor=\"#e53986\"] ;\\n1403 -> 1405 ;\\n1406 [label=\"danceability <= 0.714\\\\ngini = 0.37\\\\nsamples = 7\\\\nvalue = [0, 0, 0, 1, 0, 7, 1]\", fillcolor=\"#c46aec\"] ;\\n1402 -> 1406 ;\\n1407 [label=\"gini = 0.0\\\\nsamples = 1\\\\nvalue = [0, 0, 0, 0, 0, 0, 1]\", fillcolor=\"#e53986\"] ;\\n1406 -> 1407 ;\\n1408 [label=\"speechiness <= 0.126\\\\ngini = 0.219\\\\nsamples = 6\\\\nvalue = [0, 0, 0, 1, 0, 7, 0]\", fillcolor=\"#bc55e9\"] ;\\n1406 -> 1408 ;\\n1409 [label=\"gini = 0.0\\\\nsamples = 3\\\\nvalue = [0, 0, 0, 0, 0, 5, 0]\", fillcolor=\"#b139e5\"] ;\\n1408 -> 1409 ;\\n1410 [label=\"popularity <= 76.752\\\\ngini = 0.444\\\\nsamples = 3\\\\nvalue = [0, 0, 0, 1, 0, 2, 0]\", fillcolor=\"#d89cf2\"] ;\\n1408 -> 1410 ;\\n1411 [label=\"gini = 0.0\\\\nsamples = 2\\\\nvalue = [0, 0, 0, 0, 0, 2, 0]\", fillcolor=\"#b139e5\"] ;\\n1410 -> 1411 ;\\n1412 [label=\"gini = 0.0\\\\nsamples = 1\\\\nvalue = [0, 0, 0, 1, 0, 0, 0]\", fillcolor=\"#39e5e2\"] ;\\n1410 -> 1412 ;\\n1413 [label=\"gini = 0.0\\\\nsamples = 6\\\\nvalue = [0, 0, 0, 0, 0, 10, 0]\", fillcolor=\"#b139e5\"] ;\\n1401 -> 1413 ;\\n1414 [label=\"gini = 0.0\\\\nsamples = 2\\\\nvalue = [0, 0, 0, 0, 0, 0, 3]\", fillcolor=\"#e53986\"] ;\\n1326 -> 1414 ;\\n1415 [label=\"popularity <= 55.139\\\\ngini = 0.494\\\\nsamples = 6\\\\nvalue = [0, 0, 0, 0, 2, 1, 6]\", fillcolor=\"#f08eba\"] ;\\n1325 -> 1415 ;\\n1416 [label=\"gini = 0.0\\\\nsamples = 1\\\\nvalue = [0, 0, 0, 0, 2, 0, 0]\", fillcolor=\"#3956e5\"] ;\\n1415 -> 1416 ;\\n1417 [label=\"duration_ms <= 291178.922\\\\ngini = 0.245\\\\nsamples = 5\\\\nvalue = [0, 0, 0, 0, 0, 1, 6]\", fillcolor=\"#e95a9a\"] ;\\n1415 -> 1417 ;\\n1418 [label=\"gini = 0.0\\\\nsamples = 4\\\\nvalue = [0, 0, 0, 0, 0, 0, 6]\", fillcolor=\"#e53986\"] ;\\n1417 -> 1418 ;\\n1419 [label=\"gini = 0.0\\\\nsamples = 1\\\\nvalue = [0, 0, 0, 0, 0, 1, 0]\", fillcolor=\"#b139e5\"] ;\\n1417 -> 1419 ;\\n1420 [label=\"instrumentalness <= 0.58\\\\ngini = 0.259\\\\nsamples = 156\\\\nvalue = [0, 0, 1, 22, 3, 200, 8]\", fillcolor=\"#be59e9\"] ;\\n1324 -> 1420 ;\\n1421 [label=\"acousticness <= 0.218\\\\ngini = 0.247\\\\nsamples = 154\\\\nvalue = [0, 0, 1, 22, 1, 200, 8]\", fillcolor=\"#bd57e9\"] ;\\n1420 -> 1421 ;\\n1422 [label=\"danceability <= 0.385\\\\ngini = 0.292\\\\nsamples = 93\\\\nvalue = [0, 0, 1, 19, 0, 117, 4]\", fillcolor=\"#c060ea\"] ;\\n1421 -> 1422 ;\\n1423 [label=\"acousticness <= 0.121\\\\ngini = 0.444\\\\nsamples = 2\\\\nvalue = [0, 0, 1, 2, 0, 0, 0]\", fillcolor=\"#9cf2f0\"] ;\\n1422 -> 1423 ;\\n1424 [label=\"gini = 0.0\\\\nsamples = 1\\\\nvalue = [0, 0, 1, 0, 0, 0, 0]\", fillcolor=\"#39e54d\"] ;\\n1423 -> 1424 ;\\n1425 [label=\"gini = 0.0\\\\nsamples = 1\\\\nvalue = [0, 0, 0, 2, 0, 0, 0]\", fillcolor=\"#39e5e2\"] ;\\n1423 -> 1425 ;\\n1426 [label=\"popularity <= 75.516\\\\ngini = 0.265\\\\nsamples = 91\\\\nvalue = [0, 0, 0, 17, 0, 117, 4]\", fillcolor=\"#bf5bea\"] ;\\n1422 -> 1426 ;\\n1427 [label=\"loudness <= -10.181\\\\ngini = 0.3\\\\nsamples = 81\\\\nvalue = [0, 0, 0, 17, 0, 98, 4]\", fillcolor=\"#c162ea\"] ;\\n1426 -> 1427 ;\\n1428 [label=\"valence <= 0.346\\\\ngini = 0.49\\\\nsamples = 9\\\\nvalue = [0, 0, 0, 8, 0, 6, 0]\", fillcolor=\"#cef8f8\"] ;\\n1427 -> 1428 ;\\n1429 [label=\"danceability <= 0.596\\\\ngini = 0.245\\\\nsamples = 5\\\\nvalue = [0, 0, 0, 1, 0, 6, 0]\", fillcolor=\"#be5ae9\"] ;\\n1428 -> 1429 ;\\n1430 [label=\"gini = 0.0\\\\nsamples = 1\\\\nvalue = [0, 0, 0, 1, 0, 0, 0]\", fillcolor=\"#39e5e2\"] ;\\n1429 -> 1430 ;\\n1431 [label=\"gini = 0.0\\\\nsamples = 4\\\\nvalue = [0, 0, 0, 0, 0, 6, 0]\", fillcolor=\"#b139e5\"] ;\\n1429 -> 1431 ;\\n1432 [label=\"gini = 0.0\\\\nsamples = 4\\\\nvalue = [0, 0, 0, 7, 0, 0, 0]\", fillcolor=\"#39e5e2\"] ;\\n1428 -> 1432 ;\\n1433 [label=\"danceability <= 0.632\\\\ngini = 0.223\\\\nsamples = 72\\\\nvalue = [0, 0, 0, 9, 0, 92, 4]\", fillcolor=\"#bc54e9\"] ;\\n1427 -> 1433 ;\\n1434 [label=\"danceability <= 0.62\\\\ngini = 0.324\\\\nsamples = 39\\\\nvalue = [0, 0, 0, 7, 0, 47, 4]\", fillcolor=\"#c264eb\"] ;\\n1433 -> 1434 ;\\n1435 [label=\"instrumentalness <= 0.0\\\\ngini = 0.25\\\\nsamples = 33\\\\nvalue = [0, 0, 0, 3, 0, 43, 4]\", fillcolor=\"#bd57e9\"] ;\\n1434 -> 1435 ;\\n1436 [label=\"speechiness <= 0.442\\\\ngini = 0.071\\\\nsamples = 20\\\\nvalue = [0, 0, 0, 1, 0, 26, 0]\", fillcolor=\"#b441e6\"] ;\\n1435 -> 1436 ;\\n1437 [label=\"gini = 0.0\\\\nsamples = 18\\\\nvalue = [0, 0, 0, 0, 0, 25, 0]\", fillcolor=\"#b139e5\"] ;\\n1436 -> 1437 ;\\n1438 [label=\"acousticness <= 0.187\\\\ngini = 0.5\\\\nsamples = 2\\\\nvalue = [0, 0, 0, 1, 0, 1, 0]\", fillcolor=\"#ffffff\"] ;\\n1436 -> 1438 ;\\n1439 [label=\"gini = 0.0\\\\nsamples = 1\\\\nvalue = [0, 0, 0, 0, 0, 1, 0]\", fillcolor=\"#b139e5\"] ;\\n1438 -> 1439 ;\\n1440 [label=\"gini = 0.0\\\\nsamples = 1\\\\nvalue = [0, 0, 0, 1, 0, 0, 0]\", fillcolor=\"#39e5e2\"] ;\\n1438 -> 1440 ;\\n1441 [label=\"liveness <= 0.312\\\\ngini = 0.416\\\\nsamples = 13\\\\nvalue = [0, 0, 0, 2, 0, 17, 4]\", fillcolor=\"#ca78ed\"] ;\\n1435 -> 1441 ;\\n1442 [label=\"danceability <= 0.56\\\\ngini = 0.571\\\\nsamples = 8\\\\nvalue = [0, 0, 0, 2, 0, 8, 4]\", fillcolor=\"#e0b0f5\"] ;\\n1441 -> 1442 ;\\n1443 [label=\"speechiness <= 0.35\\\\ngini = 0.5\\\\nsamples = 7\\\\nvalue = [0, 0, 0, 2, 0, 8, 2]\", fillcolor=\"#d088ef\"] ;\\n1442 -> 1443 ;\\n1444 [label=\"energy <= 0.69\\\\ngini = 0.5\\\\nsamples = 3\\\\nvalue = [0, 0, 0, 0, 0, 2, 2]\", fillcolor=\"#ffffff\"] ;\\n1443 -> 1444 ;\\n1445 [label=\"gini = 0.0\\\\nsamples = 1\\\\nvalue = [0, 0, 0, 0, 0, 0, 1]\", fillcolor=\"#e53986\"] ;\\n1444 -> 1445 ;\\n1446 [label=\"energy <= 0.798\\\\ngini = 0.444\\\\nsamples = 2\\\\nvalue = [0, 0, 0, 0, 0, 2, 1]\", fillcolor=\"#d89cf2\"] ;\\n1444 -> 1446 ;\\n1447 [label=\"gini = 0.0\\\\nsamples = 1\\\\nvalue = [0, 0, 0, 0, 0, 2, 0]\", fillcolor=\"#b139e5\"] ;\\n1446 -> 1447 ;\\n1448 [label=\"gini = 0.0\\\\nsamples = 1\\\\nvalue = [0, 0, 0, 0, 0, 0, 1]\", fillcolor=\"#e53986\"] ;\\n1446 -> 1448 ;\\n1449 [label=\"valence <= 0.29\\\\ngini = 0.375\\\\nsamples = 4\\\\nvalue = [0, 0, 0, 2, 0, 6, 0]\", fillcolor=\"#cb7bee\"] ;\\n1443 -> 1449 ;\\n1450 [label=\"gini = 0.0\\\\nsamples = 2\\\\nvalue = [0, 0, 0, 0, 0, 5, 0]\", fillcolor=\"#b139e5\"] ;\\n1449 -> 1450 ;\\n1451 [label=\"popularity <= 61.225\\\\ngini = 0.444\\\\nsamples = 2\\\\nvalue = [0, 0, 0, 2, 0, 1, 0]\", fillcolor=\"#9cf2f0\"] ;\\n1449 -> 1451 ;\\n1452 [label=\"gini = 0.0\\\\nsamples = 1\\\\nvalue = [0, 0, 0, 2, 0, 0, 0]\", fillcolor=\"#39e5e2\"] ;\\n1451 -> 1452 ;\\n1453 [label=\"gini = 0.0\\\\nsamples = 1\\\\nvalue = [0, 0, 0, 0, 0, 1, 0]\", fillcolor=\"#b139e5\"] ;\\n1451 -> 1453 ;\\n1454 [label=\"gini = 0.0\\\\nsamples = 1\\\\nvalue = [0, 0, 0, 0, 0, 0, 2]\", fillcolor=\"#e53986\"] ;\\n1442 -> 1454 ;\\n1455 [label=\"gini = 0.0\\\\nsamples = 5\\\\nvalue = [0, 0, 0, 0, 0, 9, 0]\", fillcolor=\"#b139e5\"] ;\\n1441 -> 1455 ;\\n1456 [label=\"valence <= 0.333\\\\ngini = 0.5\\\\nsamples = 6\\\\nvalue = [0, 0, 0, 4, 0, 4, 0]\", fillcolor=\"#ffffff\"] ;\\n1434 -> 1456 ;\\n1457 [label=\"gini = 0.0\\\\nsamples = 2\\\\nvalue = [0, 0, 0, 3, 0, 0, 0]\", fillcolor=\"#39e5e2\"] ;\\n1456 -> 1457 ;\\n1458 [label=\"danceability <= 0.628\\\\ngini = 0.32\\\\nsamples = 4\\\\nvalue = [0, 0, 0, 1, 0, 4, 0]\", fillcolor=\"#c46aec\"] ;\\n1456 -> 1458 ;\\n1459 [label=\"gini = 0.0\\\\nsamples = 3\\\\nvalue = [0, 0, 0, 0, 0, 4, 0]\", fillcolor=\"#b139e5\"] ;\\n1458 -> 1459 ;\\n1460 [label=\"gini = 0.0\\\\nsamples = 1\\\\nvalue = [0, 0, 0, 1, 0, 0, 0]\", fillcolor=\"#39e5e2\"] ;\\n1458 -> 1460 ;\\n1461 [label=\"loudness <= -7.502\\\\ngini = 0.081\\\\nsamples = 33\\\\nvalue = [0, 0, 0, 2, 0, 45, 0]\", fillcolor=\"#b442e6\"] ;\\n1433 -> 1461 ;\\n1462 [label=\"loudness <= -7.569\\\\ngini = 0.172\\\\nsamples = 15\\\\nvalue = [0, 0, 0, 2, 0, 19, 0]\", fillcolor=\"#b94ee8\"] ;\\n1461 -> 1462 ;\\n1463 [label=\"gini = 0.0\\\\nsamples = 14\\\\nvalue = [0, 0, 0, 0, 0, 19, 0]\", fillcolor=\"#b139e5\"] ;\\n1462 -> 1463 ;\\n1464 [label=\"gini = 0.0\\\\nsamples = 1\\\\nvalue = [0, 0, 0, 2, 0, 0, 0]\", fillcolor=\"#39e5e2\"] ;\\n1462 -> 1464 ;\\n1465 [label=\"gini = 0.0\\\\nsamples = 18\\\\nvalue = [0, 0, 0, 0, 0, 26, 0]\", fillcolor=\"#b139e5\"] ;\\n1461 -> 1465 ;\\n1466 [label=\"gini = 0.0\\\\nsamples = 10\\\\nvalue = [0, 0, 0, 0, 0, 19, 0]\", fillcolor=\"#b139e5\"] ;\\n1426 -> 1466 ;\\n1467 [label=\"loudness <= -13.807\\\\ngini = 0.165\\\\nsamples = 61\\\\nvalue = [0, 0, 0, 3, 1, 83, 4]\", fillcolor=\"#b84be7\"] ;\\n1421 -> 1467 ;\\n1468 [label=\"gini = 0.0\\\\nsamples = 1\\\\nvalue = [0, 0, 0, 0, 1, 0, 0]\", fillcolor=\"#3956e5\"] ;\\n1467 -> 1468 ;\\n1469 [label=\"acousticness <= 0.352\\\\ngini = 0.146\\\\nsamples = 60\\\\nvalue = [0, 0, 0, 3, 0, 83, 4]\", fillcolor=\"#b749e7\"] ;\\n1467 -> 1469 ;\\n1470 [label=\"gini = 0.0\\\\nsamples = 20\\\\nvalue = [0, 0, 0, 0, 0, 30, 0]\", fillcolor=\"#b139e5\"] ;\\n1469 -> 1470 ;\\n1471 [label=\"tempo <= 174.531\\\\ngini = 0.213\\\\nsamples = 40\\\\nvalue = [0, 0, 0, 3, 0, 53, 4]\", fillcolor=\"#bb52e8\"] ;\\n1469 -> 1471 ;\\n1472 [label=\"tempo <= 113.448\\\\ngini = 0.165\\\\nsamples = 37\\\\nvalue = [0, 0, 0, 1, 0, 51, 4]\", fillcolor=\"#b84ce8\"] ;\\n1471 -> 1472 ;\\n1473 [label=\"popularity <= 57.793\\\\ngini = 0.051\\\\nsamples = 24\\\\nvalue = [0, 0, 0, 0, 0, 37, 1]\", fillcolor=\"#b33ee6\"] ;\\n1472 -> 1473 ;\\n1474 [label=\"speechiness <= 0.328\\\\ngini = 0.245\\\\nsamples = 5\\\\nvalue = [0, 0, 0, 0, 0, 6, 1]\", fillcolor=\"#be5ae9\"] ;\\n1473 -> 1474 ;\\n1475 [label=\"gini = 0.0\\\\nsamples = 1\\\\nvalue = [0, 0, 0, 0, 0, 0, 1]\", fillcolor=\"#e53986\"] ;\\n1474 -> 1475 ;\\n1476 [label=\"gini = 0.0\\\\nsamples = 4\\\\nvalue = [0, 0, 0, 0, 0, 6, 0]\", fillcolor=\"#b139e5\"] ;\\n1474 -> 1476 ;\\n1477 [label=\"gini = 0.0\\\\nsamples = 19\\\\nvalue = [0, 0, 0, 0, 0, 31, 0]\", fillcolor=\"#b139e5\"] ;\\n1473 -> 1477 ;\\n1478 [label=\"acousticness <= 0.376\\\\ngini = 0.364\\\\nsamples = 13\\\\nvalue = [0, 0, 0, 1, 0, 14, 3]\", fillcolor=\"#c66eec\"] ;\\n1472 -> 1478 ;\\n1479 [label=\"gini = 0.0\\\\nsamples = 1\\\\nvalue = [0, 0, 0, 0, 0, 0, 2]\", fillcolor=\"#e53986\"] ;\\n1478 -> 1479 ;\\n1480 [label=\"speechiness <= 0.279\\\\ngini = 0.227\\\\nsamples = 12\\\\nvalue = [0, 0, 0, 1, 0, 14, 1]\", fillcolor=\"#bb53e8\"] ;\\n1478 -> 1480 ;\\n1481 [label=\"tempo <= 149.79\\\\ngini = 0.5\\\\nsamples = 2\\\\nvalue = [0, 0, 0, 0, 0, 1, 1]\", fillcolor=\"#ffffff\"] ;\\n1480 -> 1481 ;\\n1482 [label=\"gini = 0.0\\\\nsamples = 1\\\\nvalue = [0, 0, 0, 0, 0, 1, 0]\", fillcolor=\"#b139e5\"] ;\\n1481 -> 1482 ;\\n1483 [label=\"gini = 0.0\\\\nsamples = 1\\\\nvalue = [0, 0, 0, 0, 0, 0, 1]\", fillcolor=\"#e53986\"] ;\\n1481 -> 1483 ;\\n1484 [label=\"instrumentalness <= 0.0\\\\ngini = 0.133\\\\nsamples = 10\\\\nvalue = [0, 0, 0, 1, 0, 13, 0]\", fillcolor=\"#b748e7\"] ;\\n1480 -> 1484 ;\\n1485 [label=\"popularity <= 78.098\\\\ngini = 0.278\\\\nsamples = 4\\\\nvalue = [0, 0, 0, 1, 0, 5, 0]\", fillcolor=\"#c161ea\"] ;\\n1484 -> 1485 ;\\n1486 [label=\"gini = 0.0\\\\nsamples = 3\\\\nvalue = [0, 0, 0, 0, 0, 5, 0]\", fillcolor=\"#b139e5\"] ;\\n1485 -> 1486 ;\\n1487 [label=\"gini = 0.0\\\\nsamples = 1\\\\nvalue = [0, 0, 0, 1, 0, 0, 0]\", fillcolor=\"#39e5e2\"] ;\\n1485 -> 1487 ;\\n1488 [label=\"gini = 0.0\\\\nsamples = 6\\\\nvalue = [0, 0, 0, 0, 0, 8, 0]\", fillcolor=\"#b139e5\"] ;\\n1484 -> 1488 ;\\n1489 [label=\"liveness <= 0.115\\\\ngini = 0.5\\\\nsamples = 3\\\\nvalue = [0, 0, 0, 2, 0, 2, 0]\", fillcolor=\"#ffffff\"] ;\\n1471 -> 1489 ;\\n1490 [label=\"gini = 0.0\\\\nsamples = 2\\\\nvalue = [0, 0, 0, 0, 0, 2, 0]\", fillcolor=\"#b139e5\"] ;\\n1489 -> 1490 ;\\n1491 [label=\"gini = 0.0\\\\nsamples = 1\\\\nvalue = [0, 0, 0, 2, 0, 0, 0]\", fillcolor=\"#39e5e2\"] ;\\n1489 -> 1491 ;\\n1492 [label=\"gini = 0.0\\\\nsamples = 2\\\\nvalue = [0, 0, 0, 0, 2, 0, 0]\", fillcolor=\"#3956e5\"] ;\\n1420 -> 1492 ;\\n1493 [label=\"speechiness <= 0.312\\\\ngini = 0.673\\\\nsamples = 208\\\\nvalue = [3, 2, 5, 30, 124, 142, 33]\", fillcolor=\"#f8eefd\"] ;\\n1285 -> 1493 ;\\n1494 [label=\"instrumentalness <= 0.0\\\\ngini = 0.693\\\\nsamples = 135\\\\nvalue = [3, 2, 5, 16, 95, 65, 32]\", fillcolor=\"#d8defa\"] ;\\n1493 -> 1494 ;\\n1495 [label=\"tempo <= 176.341\\\\ngini = 0.628\\\\nsamples = 65\\\\nvalue = [0, 2, 2, 14, 23, 59, 7]\", fillcolor=\"#deaaf4\"] ;\\n1494 -> 1495 ;\\n1496 [label=\"liveness <= 0.524\\\\ngini = 0.585\\\\nsamples = 61\\\\nvalue = [0, 0, 2, 14, 19, 59, 5]\", fillcolor=\"#d89cf2\"] ;\\n1495 -> 1496 ;\\n1497 [label=\"popularity <= 55.125\\\\ngini = 0.545\\\\nsamples = 56\\\\nvalue = [0, 0, 1, 11, 16, 58, 5]\", fillcolor=\"#d390f0\"] ;\\n1496 -> 1497 ;\\n1498 [label=\"tempo <= 141.322\\\\ngini = 0.445\\\\nsamples = 12\\\\nvalue = [0, 0, 1, 0, 14, 5, 0]\", fillcolor=\"#889aef\"] ;\\n1497 -> 1498 ;\\n1499 [label=\"liveness <= 0.067\\\\ngini = 0.32\\\\nsamples = 9\\\\nvalue = [0, 0, 1, 0, 13, 2, 0]\", fillcolor=\"#637aeb\"] ;\\n1498 -> 1499 ;\\n1500 [label=\"gini = 0.0\\\\nsamples = 1\\\\nvalue = [0, 0, 1, 0, 0, 0, 0]\", fillcolor=\"#39e54d\"] ;\\n1499 -> 1500 ;\\n1501 [label=\"speechiness <= 0.117\\\\ngini = 0.231\\\\nsamples = 8\\\\nvalue = [0, 0, 0, 0, 13, 2, 0]\", fillcolor=\"#5770e9\"] ;\\n1499 -> 1501 ;\\n1502 [label=\"gini = 0.0\\\\nsamples = 1\\\\nvalue = [0, 0, 0, 0, 0, 2, 0]\", fillcolor=\"#b139e5\"] ;\\n1501 -> 1502 ;\\n1503 [label=\"gini = 0.0\\\\nsamples = 7\\\\nvalue = [0, 0, 0, 0, 13, 0, 0]\", fillcolor=\"#3956e5\"] ;\\n1501 -> 1503 ;\\n1504 [label=\"valence <= 0.755\\\\ngini = 0.375\\\\nsamples = 3\\\\nvalue = [0, 0, 0, 0, 1, 3, 0]\", fillcolor=\"#cb7bee\"] ;\\n1498 -> 1504 ;\\n1505 [label=\"gini = 0.0\\\\nsamples = 2\\\\nvalue = [0, 0, 0, 0, 0, 3, 0]\", fillcolor=\"#b139e5\"] ;\\n1504 -> 1505 ;\\n1506 [label=\"gini = 0.0\\\\nsamples = 1\\\\nvalue = [0, 0, 0, 0, 1, 0, 0]\", fillcolor=\"#3956e5\"] ;\\n1504 -> 1506 ;\\n1507 [label=\"tempo <= 71.984\\\\ngini = 0.413\\\\nsamples = 44\\\\nvalue = [0, 0, 0, 11, 2, 53, 5]\", fillcolor=\"#c874ed\"] ;\\n1497 -> 1507 ;\\n1508 [label=\"popularity <= 58.469\\\\ngini = 0.496\\\\nsamples = 4\\\\nvalue = [0, 0, 0, 5, 0, 6, 0]\", fillcolor=\"#f2defb\"] ;\\n1507 -> 1508 ;\\n1509 [label=\"gini = 0.0\\\\nsamples = 1\\\\nvalue = [0, 0, 0, 5, 0, 0, 0]\", fillcolor=\"#39e5e2\"] ;\\n1508 -> 1509 ;\\n1510 [label=\"gini = 0.0\\\\nsamples = 3\\\\nvalue = [0, 0, 0, 0, 0, 6, 0]\", fillcolor=\"#b139e5\"] ;\\n1508 -> 1510 ;\\n1511 [label=\"instrumentalness <= 0.0\\\\ngini = 0.368\\\\nsamples = 40\\\\nvalue = [0, 0, 0, 6, 2, 47, 5]\", fillcolor=\"#c469eb\"] ;\\n1507 -> 1511 ;\\n1512 [label=\"acousticness <= 0.627\\\\ngini = 0.379\\\\nsamples = 38\\\\nvalue = [0, 0, 0, 6, 2, 45, 5]\", fillcolor=\"#c46aec\"] ;\\n1511 -> 1512 ;\\n1513 [label=\"acousticness <= 0.065\\\\ngini = 0.338\\\\nsamples = 36\\\\nvalue = [0, 0, 0, 5, 1, 45, 5]\", fillcolor=\"#c264eb\"] ;\\n1512 -> 1513 ;\\n1514 [label=\"valence <= 0.604\\\\ngini = 0.51\\\\nsamples = 15\\\\nvalue = [0, 0, 0, 5, 0, 15, 3]\", fillcolor=\"#d491f1\"] ;\\n1513 -> 1514 ;\\n1515 [label=\"tempo <= 115.984\\\\ngini = 0.5\\\\nsamples = 4\\\\nvalue = [0, 0, 0, 4, 0, 1, 1]\", fillcolor=\"#88efee\"] ;\\n1514 -> 1515 ;\\n1516 [label=\"gini = 0.0\\\\nsamples = 1\\\\nvalue = [0, 0, 0, 2, 0, 0, 0]\", fillcolor=\"#39e5e2\"] ;\\n1515 -> 1516 ;\\n1517 [label=\"valence <= 0.568\\\\ngini = 0.625\\\\nsamples = 3\\\\nvalue = [0, 0, 0, 2, 0, 1, 1]\", fillcolor=\"#bdf6f5\"] ;\\n1515 -> 1517 ;\\n1518 [label=\"gini = 0.0\\\\nsamples = 1\\\\nvalue = [0, 0, 0, 0, 0, 0, 1]\", fillcolor=\"#e53986\"] ;\\n1517 -> 1518 ;\\n1519 [label=\"valence <= 0.571\\\\ngini = 0.444\\\\nsamples = 2\\\\nvalue = [0, 0, 0, 2, 0, 1, 0]\", fillcolor=\"#9cf2f0\"] ;\\n1517 -> 1519 ;\\n1520 [label=\"gini = 0.0\\\\nsamples = 1\\\\nvalue = [0, 0, 0, 2, 0, 0, 0]\", fillcolor=\"#39e5e2\"] ;\\n1519 -> 1520 ;\\n1521 [label=\"gini = 0.0\\\\nsamples = 1\\\\nvalue = [0, 0, 0, 0, 0, 1, 0]\", fillcolor=\"#b139e5\"] ;\\n1519 -> 1521 ;\\n1522 [label=\"danceability <= 0.721\\\\ngini = 0.304\\\\nsamples = 11\\\\nvalue = [0, 0, 0, 1, 0, 14, 2]\", fillcolor=\"#c161ea\"] ;\\n1514 -> 1522 ;\\n1523 [label=\"tempo <= 140.027\\\\ngini = 0.219\\\\nsamples = 10\\\\nvalue = [0, 0, 0, 0, 0, 14, 2]\", fillcolor=\"#bc55e9\"] ;\\n1522 -> 1523 ;\\n1524 [label=\"gini = 0.0\\\\nsamples = 7\\\\nvalue = [0, 0, 0, 0, 0, 11, 0]\", fillcolor=\"#b139e5\"] ;\\n1523 -> 1524 ;\\n1525 [label=\"liveness <= 0.117\\\\ngini = 0.48\\\\nsamples = 3\\\\nvalue = [0, 0, 0, 0, 0, 3, 2]\", fillcolor=\"#e5bdf6\"] ;\\n1523 -> 1525 ;\\n1526 [label=\"gini = 0.0\\\\nsamples = 1\\\\nvalue = [0, 0, 0, 0, 0, 3, 0]\", fillcolor=\"#b139e5\"] ;\\n1525 -> 1526 ;\\n1527 [label=\"gini = 0.0\\\\nsamples = 2\\\\nvalue = [0, 0, 0, 0, 0, 0, 2]\", fillcolor=\"#e53986\"] ;\\n1525 -> 1527 ;\\n1528 [label=\"gini = 0.0\\\\nsamples = 1\\\\nvalue = [0, 0, 0, 1, 0, 0, 0]\", fillcolor=\"#39e5e2\"] ;\\n1522 -> 1528 ;\\n1529 [label=\"loudness <= -8.349\\\\ngini = 0.169\\\\nsamples = 21\\\\nvalue = [0, 0, 0, 0, 1, 30, 2]\", fillcolor=\"#b94ce8\"] ;\\n1513 -> 1529 ;\\n1530 [label=\"valence <= 0.599\\\\ngini = 0.531\\\\nsamples = 7\\\\nvalue = [0, 0, 0, 0, 1, 5, 2]\", fillcolor=\"#d89cf2\"] ;\\n1529 -> 1530 ;\\n1531 [label=\"gini = 0.0\\\\nsamples = 2\\\\nvalue = [0, 0, 0, 0, 0, 0, 2]\", fillcolor=\"#e53986\"] ;\\n1530 -> 1531 ;\\n1532 [label=\"valence <= 0.885\\\\ngini = 0.278\\\\nsamples = 5\\\\nvalue = [0, 0, 0, 0, 1, 5, 0]\", fillcolor=\"#c161ea\"] ;\\n1530 -> 1532 ;\\n1533 [label=\"gini = 0.0\\\\nsamples = 4\\\\nvalue = [0, 0, 0, 0, 0, 5, 0]\", fillcolor=\"#b139e5\"] ;\\n1532 -> 1533 ;\\n1534 [label=\"gini = 0.0\\\\nsamples = 1\\\\nvalue = [0, 0, 0, 0, 1, 0, 0]\", fillcolor=\"#3956e5\"] ;\\n1532 -> 1534 ;\\n1535 [label=\"gini = 0.0\\\\nsamples = 14\\\\nvalue = [0, 0, 0, 0, 0, 25, 0]\", fillcolor=\"#b139e5\"] ;\\n1529 -> 1535 ;\\n1536 [label=\"popularity <= 64.422\\\\ngini = 0.5\\\\nsamples = 2\\\\nvalue = [0, 0, 0, 1, 1, 0, 0]\", fillcolor=\"#ffffff\"] ;\\n1512 -> 1536 ;\\n1537 [label=\"gini = 0.0\\\\nsamples = 1\\\\nvalue = [0, 0, 0, 0, 1, 0, 0]\", fillcolor=\"#3956e5\"] ;\\n1536 -> 1537 ;\\n1538 [label=\"gini = 0.0\\\\nsamples = 1\\\\nvalue = [0, 0, 0, 1, 0, 0, 0]\", fillcolor=\"#39e5e2\"] ;\\n1536 -> 1538 ;\\n1539 [label=\"gini = 0.0\\\\nsamples = 2\\\\nvalue = [0, 0, 0, 0, 0, 2, 0]\", fillcolor=\"#b139e5\"] ;\\n1511 -> 1539 ;\\n1540 [label=\"loudness <= -8.975\\\\ngini = 0.688\\\\nsamples = 5\\\\nvalue = [0, 0, 1, 3, 3, 1, 0]\", fillcolor=\"#ffffff\"] ;\\n1496 -> 1540 ;\\n1541 [label=\"liveness <= 0.611\\\\ngini = 0.375\\\\nsamples = 3\\\\nvalue = [0, 0, 1, 0, 3, 0, 0]\", fillcolor=\"#7b8eee\"] ;\\n1540 -> 1541 ;\\n1542 [label=\"gini = 0.0\\\\nsamples = 1\\\\nvalue = [0, 0, 1, 0, 0, 0, 0]\", fillcolor=\"#39e54d\"] ;\\n1541 -> 1542 ;\\n1543 [label=\"gini = 0.0\\\\nsamples = 2\\\\nvalue = [0, 0, 0, 0, 3, 0, 0]\", fillcolor=\"#3956e5\"] ;\\n1541 -> 1543 ;\\n1544 [label=\"tempo <= 104.036\\\\ngini = 0.375\\\\nsamples = 2\\\\nvalue = [0, 0, 0, 3, 0, 1, 0]\", fillcolor=\"#7beeec\"] ;\\n1540 -> 1544 ;\\n1545 [label=\"gini = 0.0\\\\nsamples = 1\\\\nvalue = [0, 0, 0, 0, 0, 1, 0]\", fillcolor=\"#b139e5\"] ;\\n1544 -> 1545 ;\\n1546 [label=\"gini = 0.0\\\\nsamples = 1\\\\nvalue = [0, 0, 0, 3, 0, 0, 0]\", fillcolor=\"#39e5e2\"] ;\\n1544 -> 1546 ;\\n1547 [label=\"instrumentalness <= 0.0\\\\ngini = 0.625\\\\nsamples = 4\\\\nvalue = [0, 2, 0, 0, 4, 0, 2]\", fillcolor=\"#bdc7f6\"] ;\\n1495 -> 1547 ;\\n1548 [label=\"acousticness <= 0.273\\\\ngini = 0.444\\\\nsamples = 3\\\\nvalue = [0, 0, 0, 0, 4, 0, 2]\", fillcolor=\"#9caaf2\"] ;\\n1547 -> 1548 ;\\n1549 [label=\"gini = 0.0\\\\nsamples = 1\\\\nvalue = [0, 0, 0, 0, 0, 0, 2]\", fillcolor=\"#e53986\"] ;\\n1548 -> 1549 ;\\n1550 [label=\"gini = 0.0\\\\nsamples = 2\\\\nvalue = [0, 0, 0, 0, 4, 0, 0]\", fillcolor=\"#3956e5\"] ;\\n1548 -> 1550 ;\\n1551 [label=\"gini = 0.0\\\\nsamples = 1\\\\nvalue = [0, 2, 0, 0, 0, 0, 0]\", fillcolor=\"#b7e539\"] ;\\n1547 -> 1551 ;\\n1552 [label=\"duration_ms <= 17884.045\\\\ngini = 0.524\\\\nsamples = 70\\\\nvalue = [3, 0, 3, 2, 72, 6, 25]\", fillcolor=\"#93a3f1\"] ;\\n1494 -> 1552 ;\\n1553 [label=\"loudness <= -9.227\\\\ngini = 0.667\\\\nsamples = 5\\\\nvalue = [1, 0, 0, 0, 1, 1, 3]\", fillcolor=\"#f5b0cf\"] ;\\n1552 -> 1553 ;\\n1554 [label=\"instrumentalness <= 0.503\\\\ngini = 0.5\\\\nsamples = 2\\\\nvalue = [0, 0, 0, 0, 1, 1, 0]\", fillcolor=\"#ffffff\"] ;\\n1553 -> 1554 ;\\n1555 [label=\"gini = 0.0\\\\nsamples = 1\\\\nvalue = [0, 0, 0, 0, 0, 1, 0]\", fillcolor=\"#b139e5\"] ;\\n1554 -> 1555 ;\\n1556 [label=\"gini = 0.0\\\\nsamples = 1\\\\nvalue = [0, 0, 0, 0, 1, 0, 0]\", fillcolor=\"#3956e5\"] ;\\n1554 -> 1556 ;\\n1557 [label=\"liveness <= 0.224\\\\ngini = 0.375\\\\nsamples = 3\\\\nvalue = [1, 0, 0, 0, 0, 0, 3]\", fillcolor=\"#ee7bae\"] ;\\n1553 -> 1557 ;\\n1558 [label=\"gini = 0.0\\\\nsamples = 2\\\\nvalue = [0, 0, 0, 0, 0, 0, 3]\", fillcolor=\"#e53986\"] ;\\n1557 -> 1558 ;\\n1559 [label=\"gini = 0.0\\\\nsamples = 1\\\\nvalue = [1, 0, 0, 0, 0, 0, 0]\", fillcolor=\"#e58139\"] ;\\n1557 -> 1559 ;\\n1560 [label=\"danceability <= 0.736\\\\ngini = 0.495\\\\nsamples = 65\\\\nvalue = [2, 0, 3, 2, 71, 5, 22]\", fillcolor=\"#8a9bf0\"] ;\\n1552 -> 1560 ;\\n1561 [label=\"popularity <= 55.714\\\\ngini = 0.47\\\\nsamples = 63\\\\nvalue = [2, 0, 3, 2, 71, 5, 18]\", fillcolor=\"#8193ee\"] ;\\n1560 -> 1561 ;\\n1562 [label=\"liveness <= 0.214\\\\ngini = 0.225\\\\nsamples = 44\\\\nvalue = [2, 0, 3, 2, 65, 0, 2]\", fillcolor=\"#526be8\"] ;\\n1561 -> 1562 ;\\n1563 [label=\"energy <= -0.374\\\\ngini = 0.043\\\\nsamples = 27\\\\nvalue = [0, 0, 0, 0, 45, 0, 1]\", fillcolor=\"#3d5ae6\"] ;\\n1562 -> 1563 ;\\n1564 [label=\"valence <= 0.592\\\\ngini = 0.5\\\\nsamples = 2\\\\nvalue = [0, 0, 0, 0, 1, 0, 1]\", fillcolor=\"#ffffff\"] ;\\n1563 -> 1564 ;\\n1565 [label=\"gini = 0.0\\\\nsamples = 1\\\\nvalue = [0, 0, 0, 0, 1, 0, 0]\", fillcolor=\"#3956e5\"] ;\\n1564 -> 1565 ;\\n1566 [label=\"gini = 0.0\\\\nsamples = 1\\\\nvalue = [0, 0, 0, 0, 0, 0, 1]\", fillcolor=\"#e53986\"] ;\\n1564 -> 1566 ;\\n1567 [label=\"gini = 0.0\\\\nsamples = 25\\\\nvalue = [0, 0, 0, 0, 44, 0, 0]\", fillcolor=\"#3956e5\"] ;\\n1563 -> 1567 ;\\n1568 [label=\"energy <= 0.778\\\\ngini = 0.467\\\\nsamples = 17\\\\nvalue = [2, 0, 3, 2, 20, 0, 1]\", fillcolor=\"#788ced\"] ;\\n1562 -> 1568 ;\\n1569 [label=\"tempo <= 169.498\\\\ngini = 0.346\\\\nsamples = 15\\\\nvalue = [2, 0, 2, 0, 20, 0, 1]\", fillcolor=\"#647beb\"] ;\\n1568 -> 1569 ;\\n1570 [label=\"danceability <= 0.442\\\\ngini = 0.295\\\\nsamples = 14\\\\nvalue = [2, 0, 1, 0, 20, 0, 1]\", fillcolor=\"#5d75ea\"] ;\\n1569 -> 1570 ;\\n1571 [label=\"gini = 0.0\\\\nsamples = 2\\\\nvalue = [2, 0, 0, 0, 0, 0, 0]\", fillcolor=\"#e58139\"] ;\\n1570 -> 1571 ;\\n1572 [label=\"danceability <= 0.524\\\\ngini = 0.169\\\\nsamples = 12\\\\nvalue = [0, 0, 1, 0, 20, 0, 1]\", fillcolor=\"#4c66e7\"] ;\\n1570 -> 1572 ;\\n1573 [label=\"speechiness <= 0.198\\\\ngini = 0.375\\\\nsamples = 2\\\\nvalue = [0, 0, 0, 0, 3, 0, 1]\", fillcolor=\"#7b8eee\"] ;\\n1572 -> 1573 ;\\n1574 [label=\"gini = 0.0\\\\nsamples = 1\\\\nvalue = [0, 0, 0, 0, 3, 0, 0]\", fillcolor=\"#3956e5\"] ;\\n1573 -> 1574 ;\\n1575 [label=\"gini = 0.0\\\\nsamples = 1\\\\nvalue = [0, 0, 0, 0, 0, 0, 1]\", fillcolor=\"#e53986\"] ;\\n1573 -> 1575 ;\\n1576 [label=\"acousticness <= 0.789\\\\ngini = 0.105\\\\nsamples = 10\\\\nvalue = [0, 0, 1, 0, 17, 0, 0]\", fillcolor=\"#4560e7\"] ;\\n1572 -> 1576 ;\\n1577 [label=\"gini = 0.0\\\\nsamples = 9\\\\nvalue = [0, 0, 0, 0, 17, 0, 0]\", fillcolor=\"#3956e5\"] ;\\n1576 -> 1577 ;\\n1578 [label=\"gini = 0.0\\\\nsamples = 1\\\\nvalue = [0, 0, 1, 0, 0, 0, 0]\", fillcolor=\"#39e54d\"] ;\\n1576 -> 1578 ;\\n1579 [label=\"gini = 0.0\\\\nsamples = 1\\\\nvalue = [0, 0, 1, 0, 0, 0, 0]\", fillcolor=\"#39e54d\"] ;\\n1569 -> 1579 ;\\n1580 [label=\"instrumentalness <= 0.0\\\\ngini = 0.444\\\\nsamples = 2\\\\nvalue = [0, 0, 1, 2, 0, 0, 0]\", fillcolor=\"#9cf2f0\"] ;\\n1568 -> 1580 ;\\n1581 [label=\"gini = 0.0\\\\nsamples = 1\\\\nvalue = [0, 0, 0, 2, 0, 0, 0]\", fillcolor=\"#39e5e2\"] ;\\n1580 -> 1581 ;\\n1582 [label=\"gini = 0.0\\\\nsamples = 1\\\\nvalue = [0, 0, 1, 0, 0, 0, 0]\", fillcolor=\"#39e54d\"] ;\\n1580 -> 1582 ;\\n1583 [label=\"acousticness <= 0.102\\\\ngini = 0.565\\\\nsamples = 19\\\\nvalue = [0, 0, 0, 0, 6, 5, 16]\", fillcolor=\"#f3a1c5\"] ;\\n1561 -> 1583 ;\\n1584 [label=\"danceability <= 0.695\\\\ngini = 0.153\\\\nsamples = 7\\\\nvalue = [0, 0, 0, 0, 1, 0, 11]\", fillcolor=\"#e74b91\"] ;\\n1583 -> 1584 ;\\n1585 [label=\"gini = 0.0\\\\nsamples = 5\\\\nvalue = [0, 0, 0, 0, 0, 0, 10]\", fillcolor=\"#e53986\"] ;\\n1584 -> 1585 ;\\n1586 [label=\"liveness <= 0.133\\\\ngini = 0.5\\\\nsamples = 2\\\\nvalue = [0, 0, 0, 0, 1, 0, 1]\", fillcolor=\"#ffffff\"] ;\\n1584 -> 1586 ;\\n1587 [label=\"gini = 0.0\\\\nsamples = 1\\\\nvalue = [0, 0, 0, 0, 0, 0, 1]\", fillcolor=\"#e53986\"] ;\\n1586 -> 1587 ;\\n1588 [label=\"gini = 0.0\\\\nsamples = 1\\\\nvalue = [0, 0, 0, 0, 1, 0, 0]\", fillcolor=\"#3956e5\"] ;\\n1586 -> 1588 ;\\n1589 [label=\"speechiness <= 0.171\\\\ngini = 0.667\\\\nsamples = 12\\\\nvalue = [0, 0, 0, 0, 5, 5, 5]\", fillcolor=\"#ffffff\"] ;\\n1583 -> 1589 ;\\n1590 [label=\"valence <= 0.686\\\\ngini = 0.449\\\\nsamples = 6\\\\nvalue = [0, 0, 0, 0, 5, 1, 1]\", fillcolor=\"#7b8eee\"] ;\\n1589 -> 1590 ;\\n1591 [label=\"duration_ms <= 206984.75\\\\ngini = 0.667\\\\nsamples = 3\\\\nvalue = [0, 0, 0, 0, 1, 1, 1]\", fillcolor=\"#ffffff\"] ;\\n1590 -> 1591 ;\\n1592 [label=\"gini = 0.0\\\\nsamples = 1\\\\nvalue = [0, 0, 0, 0, 0, 1, 0]\", fillcolor=\"#b139e5\"] ;\\n1591 -> 1592 ;\\n1593 [label=\"danceability <= 0.589\\\\ngini = 0.5\\\\nsamples = 2\\\\nvalue = [0, 0, 0, 0, 1, 0, 1]\", fillcolor=\"#ffffff\"] ;\\n1591 -> 1593 ;\\n1594 [label=\"gini = 0.0\\\\nsamples = 1\\\\nvalue = [0, 0, 0, 0, 0, 0, 1]\", fillcolor=\"#e53986\"] ;\\n1593 -> 1594 ;\\n1595 [label=\"gini = 0.0\\\\nsamples = 1\\\\nvalue = [0, 0, 0, 0, 1, 0, 0]\", fillcolor=\"#3956e5\"] ;\\n1593 -> 1595 ;\\n1596 [label=\"gini = 0.0\\\\nsamples = 3\\\\nvalue = [0, 0, 0, 0, 4, 0, 0]\", fillcolor=\"#3956e5\"] ;\\n1590 -> 1596 ;\\n1597 [label=\"duration_ms <= 193584.445\\\\ngini = 0.5\\\\nsamples = 6\\\\nvalue = [0, 0, 0, 0, 0, 4, 4]\", fillcolor=\"#ffffff\"] ;\\n1589 -> 1597 ;\\n1598 [label=\"gini = 0.0\\\\nsamples = 2\\\\nvalue = [0, 0, 0, 0, 0, 0, 4]\", fillcolor=\"#e53986\"] ;\\n1597 -> 1598 ;\\n1599 [label=\"gini = 0.0\\\\nsamples = 4\\\\nvalue = [0, 0, 0, 0, 0, 4, 0]\", fillcolor=\"#b139e5\"] ;\\n1597 -> 1599 ;\\n1600 [label=\"gini = 0.0\\\\nsamples = 2\\\\nvalue = [0, 0, 0, 0, 0, 0, 4]\", fillcolor=\"#e53986\"] ;\\n1560 -> 1600 ;\\n1601 [label=\"popularity <= 50.135\\\\ngini = 0.524\\\\nsamples = 73\\\\nvalue = [0, 0, 0, 14, 29, 77, 1]\", fillcolor=\"#d698f1\"] ;\\n1493 -> 1601 ;\\n1602 [label=\"acousticness <= 0.008\\\\ngini = 0.071\\\\nsamples = 16\\\\nvalue = [0, 0, 0, 0, 26, 1, 0]\", fillcolor=\"#415de6\"] ;\\n1601 -> 1602 ;\\n1603 [label=\"gini = 0.0\\\\nsamples = 1\\\\nvalue = [0, 0, 0, 0, 0, 1, 0]\", fillcolor=\"#b139e5\"] ;\\n1602 -> 1603 ;\\n1604 [label=\"gini = 0.0\\\\nsamples = 15\\\\nvalue = [0, 0, 0, 0, 26, 0, 0]\", fillcolor=\"#3956e5\"] ;\\n1602 -> 1604 ;\\n1605 [label=\"loudness <= -13.137\\\\ngini = 0.323\\\\nsamples = 57\\\\nvalue = [0, 0, 0, 14, 3, 76, 1]\", fillcolor=\"#c366eb\"] ;\\n1601 -> 1605 ;\\n1606 [label=\"gini = 0.0\\\\nsamples = 1\\\\nvalue = [0, 0, 0, 0, 3, 0, 0]\", fillcolor=\"#3956e5\"] ;\\n1605 -> 1606 ;\\n1607 [label=\"valence <= 1.034\\\\ngini = 0.279\\\\nsamples = 56\\\\nvalue = [0, 0, 0, 14, 0, 76, 1]\", fillcolor=\"#c060ea\"] ;\\n1605 -> 1607 ;\\n1608 [label=\"popularity <= 75.326\\\\ngini = 0.252\\\\nsamples = 54\\\\nvalue = [0, 0, 0, 12, 0, 76, 1]\", fillcolor=\"#be5ae9\"] ;\\n1607 -> 1608 ;\\n1609 [label=\"loudness <= -1.212\\\\ngini = 0.288\\\\nsamples = 47\\\\nvalue = [0, 0, 0, 12, 0, 63, 1]\", fillcolor=\"#c161ea\"] ;\\n1608 -> 1609 ;\\n1610 [label=\"duration_ms <= 261976.156\\\\ngini = 0.2\\\\nsamples = 44\\\\nvalue = [0, 0, 0, 8, 0, 63, 0]\", fillcolor=\"#bb52e8\"] ;\\n1609 -> 1610 ;\\n1611 [label=\"acousticness <= 0.004\\\\ngini = 0.064\\\\nsamples = 37\\\\nvalue = [0, 0, 0, 2, 0, 58, 0]\", fillcolor=\"#b440e6\"] ;\\n1610 -> 1611 ;\\n1612 [label=\"gini = 0.0\\\\nsamples = 1\\\\nvalue = [0, 0, 0, 1, 0, 0, 0]\", fillcolor=\"#39e5e2\"] ;\\n1611 -> 1612 ;\\n1613 [label=\"loudness <= -6.28\\\\ngini = 0.033\\\\nsamples = 36\\\\nvalue = [0, 0, 0, 1, 0, 58, 0]\", fillcolor=\"#b23ce5\"] ;\\n1611 -> 1613 ;\\n1614 [label=\"gini = 0.0\\\\nsamples = 28\\\\nvalue = [0, 0, 0, 0, 0, 46, 0]\", fillcolor=\"#b139e5\"] ;\\n1613 -> 1614 ;\\n1615 [label=\"instrumentalness <= 0.0\\\\ngini = 0.142\\\\nsamples = 8\\\\nvalue = [0, 0, 0, 1, 0, 12, 0]\", fillcolor=\"#b749e7\"] ;\\n1613 -> 1615 ;\\n1616 [label=\"gini = 0.0\\\\nsamples = 7\\\\nvalue = [0, 0, 0, 0, 0, 12, 0]\", fillcolor=\"#b139e5\"] ;\\n1615 -> 1616 ;\\n1617 [label=\"gini = 0.0\\\\nsamples = 1\\\\nvalue = [0, 0, 0, 1, 0, 0, 0]\", fillcolor=\"#39e5e2\"] ;\\n1615 -> 1617 ;\\n1618 [label=\"liveness <= 0.183\\\\ngini = 0.496\\\\nsamples = 7\\\\nvalue = [0, 0, 0, 6, 0, 5, 0]\", fillcolor=\"#defbfa\"] ;\\n1610 -> 1618 ;\\n1619 [label=\"valence <= 0.807\\\\ngini = 0.444\\\\nsamples = 5\\\\nvalue = [0, 0, 0, 6, 0, 3, 0]\", fillcolor=\"#9cf2f0\"] ;\\n1618 -> 1619 ;\\n1620 [label=\"energy <= 0.61\\\\ngini = 0.48\\\\nsamples = 3\\\\nvalue = [0, 0, 0, 2, 0, 3, 0]\", fillcolor=\"#e5bdf6\"] ;\\n1619 -> 1620 ;\\n1621 [label=\"gini = 0.0\\\\nsamples = 2\\\\nvalue = [0, 0, 0, 0, 0, 3, 0]\", fillcolor=\"#b139e5\"] ;\\n1620 -> 1621 ;\\n1622 [label=\"gini = 0.0\\\\nsamples = 1\\\\nvalue = [0, 0, 0, 2, 0, 0, 0]\", fillcolor=\"#39e5e2\"] ;\\n1620 -> 1622 ;\\n1623 [label=\"gini = 0.0\\\\nsamples = 2\\\\nvalue = [0, 0, 0, 4, 0, 0, 0]\", fillcolor=\"#39e5e2\"] ;\\n1619 -> 1623 ;\\n1624 [label=\"gini = 0.0\\\\nsamples = 2\\\\nvalue = [0, 0, 0, 0, 0, 2, 0]\", fillcolor=\"#b139e5\"] ;\\n1618 -> 1624 ;\\n1625 [label=\"instrumentalness <= 0.0\\\\ngini = 0.32\\\\nsamples = 3\\\\nvalue = [0, 0, 0, 4, 0, 0, 1]\", fillcolor=\"#6aece9\"] ;\\n1609 -> 1625 ;\\n1626 [label=\"gini = 0.0\\\\nsamples = 1\\\\nvalue = [0, 0, 0, 0, 0, 0, 1]\", fillcolor=\"#e53986\"] ;\\n1625 -> 1626 ;\\n1627 [label=\"gini = 0.0\\\\nsamples = 2\\\\nvalue = [0, 0, 0, 4, 0, 0, 0]\", fillcolor=\"#39e5e2\"] ;\\n1625 -> 1627 ;\\n1628 [label=\"gini = 0.0\\\\nsamples = 7\\\\nvalue = [0, 0, 0, 0, 0, 13, 0]\", fillcolor=\"#b139e5\"] ;\\n1608 -> 1628 ;\\n1629 [label=\"gini = 0.0\\\\nsamples = 2\\\\nvalue = [0, 0, 0, 2, 0, 0, 0]\", fillcolor=\"#39e5e2\"] ;\\n1607 -> 1629 ;\\n1630 [label=\"speechiness <= 0.081\\\\ngini = 0.658\\\\nsamples = 1252\\\\nvalue = [1, 59, 78, 163, 383, 1049, 253]\", fillcolor=\"#dfadf4\"] ;\\n2 -> 1630 ;\\n1631 [label=\"duration_ms <= 310918.234\\\\ngini = 0.757\\\\nsamples = 537\\\\nvalue = [1, 48, 55, 36, 261, 235, 216]\", fillcolor=\"#f7f8fe\"] ;\\n1630 -> 1631 ;\\n1632 [label=\"instrumentalness <= 0.018\\\\ngini = 0.755\\\\nsamples = 449\\\\nvalue = [1, 47, 38, 32, 189, 229, 190]\", fillcolor=\"#f9f1fd\"] ;\\n1631 -> 1632 ;\\n1633 [label=\"acousticness <= 0.532\\\\ngini = 0.712\\\\nsamples = 325\\\\nvalue = [0, 47, 14, 29, 56, 212, 169]\", fillcolor=\"#f6e7fc\"] ;\\n1632 -> 1633 ;\\n1634 [label=\"popularity <= 55.435\\\\ngini = 0.68\\\\nsamples = 264\\\\nvalue = [0, 38, 14, 26, 27, 202, 119]\", fillcolor=\"#eac9f8\"] ;\\n1633 -> 1634 ;\\n1635 [label=\"speechiness <= 0.033\\\\ngini = 0.781\\\\nsamples = 62\\\\nvalue = [0, 28, 7, 8, 27, 15, 9]\", fillcolor=\"#fefffc\"] ;\\n1634 -> 1635 ;\\n1636 [label=\"danceability <= 0.745\\\\ngini = 0.133\\\\nsamples = 8\\\\nvalue = [0, 13, 1, 0, 0, 0, 0]\", fillcolor=\"#bde748\"] ;\\n1635 -> 1636 ;\\n1637 [label=\"gini = 0.0\\\\nsamples = 1\\\\nvalue = [0, 0, 1, 0, 0, 0, 0]\", fillcolor=\"#39e54d\"] ;\\n1636 -> 1637 ;\\n1638 [label=\"gini = 0.0\\\\nsamples = 7\\\\nvalue = [0, 13, 0, 0, 0, 0, 0]\", fillcolor=\"#b7e539\"] ;\\n1636 -> 1638 ;\\n1639 [label=\"acousticness <= 0.106\\\\ngini = 0.788\\\\nsamples = 54\\\\nvalue = [0, 15, 6, 8, 27, 15, 9]\", fillcolor=\"#dae0fa\"] ;\\n1635 -> 1639 ;\\n1640 [label=\"acousticness <= 0.004\\\\ngini = 0.824\\\\nsamples = 28\\\\nvalue = [0, 9, 6, 7, 4, 6, 6]\", fillcolor=\"#fafdf2\"] ;\\n1639 -> 1640 ;\\n1641 [label=\"gini = 0.0\\\\nsamples = 3\\\\nvalue = [0, 0, 4, 0, 0, 0, 0]\", fillcolor=\"#39e54d\"] ;\\n1640 -> 1641 ;\\n1642 [label=\"instrumentalness <= 0.0\\\\ngini = 0.808\\\\nsamples = 25\\\\nvalue = [0, 9, 2, 7, 4, 6, 6]\", fillcolor=\"#fafdf0\"] ;\\n1640 -> 1642 ;\\n1643 [label=\"danceability <= 0.849\\\\ngini = 0.737\\\\nsamples = 14\\\\nvalue = [0, 2, 0, 7, 1, 5, 4]\", fillcolor=\"#e3fbfb\"] ;\\n1642 -> 1643 ;\\n1644 [label=\"loudness <= -8.252\\\\ngini = 0.714\\\\nsamples = 11\\\\nvalue = [0, 2, 0, 5, 1, 5, 1]\", fillcolor=\"#ffffff\"] ;\\n1643 -> 1644 ;\\n1645 [label=\"danceability <= 0.822\\\\ngini = 0.32\\\\nsamples = 3\\\\nvalue = [0, 0, 0, 4, 1, 0, 0]\", fillcolor=\"#6aece9\"] ;\\n1644 -> 1645 ;\\n1646 [label=\"gini = 0.0\\\\nsamples = 2\\\\nvalue = [0, 0, 0, 4, 0, 0, 0]\", fillcolor=\"#39e5e2\"] ;\\n1645 -> 1646 ;\\n1647 [label=\"gini = 0.0\\\\nsamples = 1\\\\nvalue = [0, 0, 0, 0, 1, 0, 0]\", fillcolor=\"#3956e5\"] ;\\n1645 -> 1647 ;\\n1648 [label=\"popularity <= 49.585\\\\ngini = 0.617\\\\nsamples = 8\\\\nvalue = [0, 2, 0, 1, 0, 5, 1]\", fillcolor=\"#deaaf4\"] ;\\n1644 -> 1648 ;\\n1649 [label=\"gini = 0.0\\\\nsamples = 2\\\\nvalue = [0, 2, 0, 0, 0, 0, 0]\", fillcolor=\"#b7e539\"] ;\\n1648 -> 1649 ;\\n1650 [label=\"energy <= -0.223\\\\ngini = 0.449\\\\nsamples = 6\\\\nvalue = [0, 0, 0, 1, 0, 5, 1]\", fillcolor=\"#cb7bee\"] ;\\n1648 -> 1650 ;\\n1651 [label=\"gini = 0.0\\\\nsamples = 1\\\\nvalue = [0, 0, 0, 1, 0, 0, 0]\", fillcolor=\"#39e5e2\"] ;\\n1650 -> 1651 ;\\n1652 [label=\"liveness <= 0.078\\\\ngini = 0.278\\\\nsamples = 5\\\\nvalue = [0, 0, 0, 0, 0, 5, 1]\", fillcolor=\"#c161ea\"] ;\\n1650 -> 1652 ;\\n1653 [label=\"gini = 0.0\\\\nsamples = 2\\\\nvalue = [0, 0, 0, 0, 0, 3, 0]\", fillcolor=\"#b139e5\"] ;\\n1652 -> 1653 ;\\n1654 [label=\"liveness <= 0.108\\\\ngini = 0.444\\\\nsamples = 3\\\\nvalue = [0, 0, 0, 0, 0, 2, 1]\", fillcolor=\"#d89cf2\"] ;\\n1652 -> 1654 ;\\n1655 [label=\"gini = 0.0\\\\nsamples = 1\\\\nvalue = [0, 0, 0, 0, 0, 0, 1]\", fillcolor=\"#e53986\"] ;\\n1654 -> 1655 ;\\n1656 [label=\"gini = 0.0\\\\nsamples = 2\\\\nvalue = [0, 0, 0, 0, 0, 2, 0]\", fillcolor=\"#b139e5\"] ;\\n1654 -> 1656 ;\\n1657 [label=\"popularity <= 52.141\\\\ngini = 0.48\\\\nsamples = 3\\\\nvalue = [0, 0, 0, 2, 0, 0, 3]\", fillcolor=\"#f6bdd7\"] ;\\n1643 -> 1657 ;\\n1658 [label=\"gini = 0.0\\\\nsamples = 1\\\\nvalue = [0, 0, 0, 2, 0, 0, 0]\", fillcolor=\"#39e5e2\"] ;\\n1657 -> 1658 ;\\n1659 [label=\"gini = 0.0\\\\nsamples = 2\\\\nvalue = [0, 0, 0, 0, 0, 0, 3]\", fillcolor=\"#e53986\"] ;\\n1657 -> 1659 ;\\n1660 [label=\"tempo <= 103.136\\\\ngini = 0.702\\\\nsamples = 11\\\\nvalue = [0, 7, 2, 0, 3, 1, 2]\", fillcolor=\"#e7f6bd\"] ;\\n1642 -> 1660 ;\\n1661 [label=\"speechiness <= 0.072\\\\ngini = 0.64\\\\nsamples = 4\\\\nvalue = [0, 1, 2, 0, 0, 0, 2]\", fillcolor=\"#ffffff\"] ;\\n1660 -> 1661 ;\\n1662 [label=\"duration_ms <= 111093.469\\\\ngini = 0.444\\\\nsamples = 3\\\\nvalue = [0, 1, 0, 0, 0, 0, 2]\", fillcolor=\"#f29cc2\"] ;\\n1661 -> 1662 ;\\n1663 [label=\"gini = 0.0\\\\nsamples = 1\\\\nvalue = [0, 1, 0, 0, 0, 0, 0]\", fillcolor=\"#b7e539\"] ;\\n1662 -> 1663 ;\\n1664 [label=\"gini = 0.0\\\\nsamples = 2\\\\nvalue = [0, 0, 0, 0, 0, 0, 2]\", fillcolor=\"#e53986\"] ;\\n1662 -> 1664 ;\\n1665 [label=\"gini = 0.0\\\\nsamples = 1\\\\nvalue = [0, 0, 2, 0, 0, 0, 0]\", fillcolor=\"#39e54d\"] ;\\n1661 -> 1665 ;\\n1666 [label=\"liveness <= 0.165\\\\ngini = 0.54\\\\nsamples = 7\\\\nvalue = [0, 6, 0, 0, 3, 1, 0]\", fillcolor=\"#e0f4aa\"] ;\\n1660 -> 1666 ;\\n1667 [label=\"popularity <= 53.583\\\\ngini = 0.625\\\\nsamples = 4\\\\nvalue = [0, 1, 0, 0, 2, 1, 0]\", fillcolor=\"#bdc7f6\"] ;\\n1666 -> 1667 ;\\n1668 [label=\"acousticness <= 0.038\\\\ngini = 0.444\\\\nsamples = 3\\\\nvalue = [0, 1, 0, 0, 2, 0, 0]\", fillcolor=\"#9caaf2\"] ;\\n1667 -> 1668 ;\\n1669 [label=\"gini = 0.0\\\\nsamples = 1\\\\nvalue = [0, 1, 0, 0, 0, 0, 0]\", fillcolor=\"#b7e539\"] ;\\n1668 -> 1669 ;\\n1670 [label=\"gini = 0.0\\\\nsamples = 2\\\\nvalue = [0, 0, 0, 0, 2, 0, 0]\", fillcolor=\"#3956e5\"] ;\\n1668 -> 1670 ;\\n1671 [label=\"gini = 0.0\\\\nsamples = 1\\\\nvalue = [0, 0, 0, 0, 0, 1, 0]\", fillcolor=\"#b139e5\"] ;\\n1667 -> 1671 ;\\n1672 [label=\"speechiness <= 0.05\\\\ngini = 0.278\\\\nsamples = 3\\\\nvalue = [0, 5, 0, 0, 1, 0, 0]\", fillcolor=\"#c5ea61\"] ;\\n1666 -> 1672 ;\\n1673 [label=\"gini = 0.0\\\\nsamples = 1\\\\nvalue = [0, 3, 0, 0, 0, 0, 0]\", fillcolor=\"#b7e539\"] ;\\n1672 -> 1673 ;\\n1674 [label=\"energy <= 0.698\\\\ngini = 0.444\\\\nsamples = 2\\\\nvalue = [0, 2, 0, 0, 1, 0, 0]\", fillcolor=\"#dbf29c\"] ;\\n1672 -> 1674 ;\\n1675 [label=\"gini = 0.0\\\\nsamples = 1\\\\nvalue = [0, 2, 0, 0, 0, 0, 0]\", fillcolor=\"#b7e539\"] ;\\n1674 -> 1675 ;\\n1676 [label=\"gini = 0.0\\\\nsamples = 1\\\\nvalue = [0, 0, 0, 0, 1, 0, 0]\", fillcolor=\"#3956e5\"] ;\\n1674 -> 1676 ;\\n1677 [label=\"liveness <= 0.24\\\\ngini = 0.628\\\\nsamples = 26\\\\nvalue = [0, 6, 0, 1, 23, 9, 3]\", fillcolor=\"#abb7f4\"] ;\\n1639 -> 1677 ;\\n1678 [label=\"loudness <= -14.983\\\\ngini = 0.522\\\\nsamples = 18\\\\nvalue = [0, 4, 0, 1, 20, 2, 3]\", fillcolor=\"#8597ef\"] ;\\n1677 -> 1678 ;\\n1679 [label=\"gini = 0.0\\\\nsamples = 1\\\\nvalue = [0, 0, 0, 0, 0, 0, 2]\", fillcolor=\"#e53986\"] ;\\n1678 -> 1679 ;\\n1680 [label=\"loudness <= -4.422\\\\ngini = 0.462\\\\nsamples = 17\\\\nvalue = [0, 4, 0, 1, 20, 2, 1]\", fillcolor=\"#7b8eee\"] ;\\n1678 -> 1680 ;\\n1681 [label=\"valence <= 0.266\\\\ngini = 0.346\\\\nsamples = 15\\\\nvalue = [0, 2, 0, 1, 20, 2, 0]\", fillcolor=\"#647beb\"] ;\\n1680 -> 1681 ;\\n1682 [label=\"gini = 0.0\\\\nsamples = 1\\\\nvalue = [0, 0, 0, 1, 0, 0, 0]\", fillcolor=\"#39e5e2\"] ;\\n1681 -> 1682 ;\\n1683 [label=\"popularity <= 47.435\\\\ngini = 0.292\\\\nsamples = 14\\\\nvalue = [0, 2, 0, 0, 20, 2, 0]\", fillcolor=\"#5d75ea\"] ;\\n1681 -> 1683 ;\\n1684 [label=\"gini = 0.0\\\\nsamples = 8\\\\nvalue = [0, 0, 0, 0, 17, 0, 0]\", fillcolor=\"#3956e5\"] ;\\n1683 -> 1684 ;\\n1685 [label=\"energy <= 0.774\\\\ngini = 0.653\\\\nsamples = 6\\\\nvalue = [0, 2, 0, 0, 3, 2, 0]\", fillcolor=\"#d7ddfa\"] ;\\n1683 -> 1685 ;\\n1686 [label=\"liveness <= 0.116\\\\ngini = 0.48\\\\nsamples = 5\\\\nvalue = [0, 0, 0, 0, 3, 2, 0]\", fillcolor=\"#bdc7f6\"] ;\\n1685 -> 1686 ;\\n1687 [label=\"speechiness <= 0.038\\\\ngini = 0.444\\\\nsamples = 3\\\\nvalue = [0, 0, 0, 0, 1, 2, 0]\", fillcolor=\"#d89cf2\"] ;\\n1686 -> 1687 ;\\n1688 [label=\"gini = 0.0\\\\nsamples = 1\\\\nvalue = [0, 0, 0, 0, 1, 0, 0]\", fillcolor=\"#3956e5\"] ;\\n1687 -> 1688 ;\\n1689 [label=\"gini = 0.0\\\\nsamples = 2\\\\nvalue = [0, 0, 0, 0, 0, 2, 0]\", fillcolor=\"#b139e5\"] ;\\n1687 -> 1689 ;\\n1690 [label=\"gini = 0.0\\\\nsamples = 2\\\\nvalue = [0, 0, 0, 0, 2, 0, 0]\", fillcolor=\"#3956e5\"] ;\\n1686 -> 1690 ;\\n1691 [label=\"gini = 0.0\\\\nsamples = 1\\\\nvalue = [0, 2, 0, 0, 0, 0, 0]\", fillcolor=\"#b7e539\"] ;\\n1685 -> 1691 ;\\n1692 [label=\"loudness <= -2.11\\\\ngini = 0.444\\\\nsamples = 2\\\\nvalue = [0, 2, 0, 0, 0, 0, 1]\", fillcolor=\"#dbf29c\"] ;\\n1680 -> 1692 ;\\n1693 [label=\"gini = 0.0\\\\nsamples = 1\\\\nvalue = [0, 2, 0, 0, 0, 0, 0]\", fillcolor=\"#b7e539\"] ;\\n1692 -> 1693 ;\\n1694 [label=\"gini = 0.0\\\\nsamples = 1\\\\nvalue = [0, 0, 0, 0, 0, 0, 1]\", fillcolor=\"#e53986\"] ;\\n1692 -> 1694 ;\\n1695 [label=\"energy <= 0.753\\\\ngini = 0.569\\\\nsamples = 8\\\\nvalue = [0, 2, 0, 0, 3, 7, 0]\", fillcolor=\"#dca7f3\"] ;\\n1677 -> 1695 ;\\n1696 [label=\"instrumentalness <= 0.002\\\\ngini = 0.278\\\\nsamples = 4\\\\nvalue = [0, 0, 0, 0, 1, 5, 0]\", fillcolor=\"#c161ea\"] ;\\n1695 -> 1696 ;\\n1697 [label=\"gini = 0.0\\\\nsamples = 3\\\\nvalue = [0, 0, 0, 0, 0, 5, 0]\", fillcolor=\"#b139e5\"] ;\\n1696 -> 1697 ;\\n1698 [label=\"gini = 0.0\\\\nsamples = 1\\\\nvalue = [0, 0, 0, 0, 1, 0, 0]\", fillcolor=\"#3956e5\"] ;\\n1696 -> 1698 ;\\n1699 [label=\"duration_ms <= 234985.43\\\\ngini = 0.667\\\\nsamples = 4\\\\nvalue = [0, 2, 0, 0, 2, 2, 0]\", fillcolor=\"#ffffff\"] ;\\n1695 -> 1699 ;\\n1700 [label=\"gini = 0.0\\\\nsamples = 2\\\\nvalue = [0, 0, 0, 0, 0, 2, 0]\", fillcolor=\"#b139e5\"] ;\\n1699 -> 1700 ;\\n1701 [label=\"energy <= 0.776\\\\ngini = 0.5\\\\nsamples = 2\\\\nvalue = [0, 2, 0, 0, 2, 0, 0]\", fillcolor=\"#ffffff\"] ;\\n1699 -> 1701 ;\\n1702 [label=\"gini = 0.0\\\\nsamples = 1\\\\nvalue = [0, 2, 0, 0, 0, 0, 0]\", fillcolor=\"#b7e539\"] ;\\n1701 -> 1702 ;\\n1703 [label=\"gini = 0.0\\\\nsamples = 1\\\\nvalue = [0, 0, 0, 0, 2, 0, 0]\", fillcolor=\"#3956e5\"] ;\\n1701 -> 1703 ;\\n1704 [label=\"speechiness <= 0.037\\\\ngini = 0.569\\\\nsamples = 202\\\\nvalue = [0, 10, 7, 18, 0, 187, 110]\", fillcolor=\"#e4baf6\"] ;\\n1634 -> 1704 ;\\n1705 [label=\"acousticness <= 0.002\\\\ngini = 0.416\\\\nsamples = 39\\\\nvalue = [0, 6, 0, 1, 0, 7, 41]\", fillcolor=\"#ed73a9\"] ;\\n1704 -> 1705 ;\\n1706 [label=\"gini = 0.0\\\\nsamples = 1\\\\nvalue = [0, 0, 0, 0, 0, 2, 0]\", fillcolor=\"#b139e5\"] ;\\n1705 -> 1706 ;\\n1707 [label=\"loudness <= -5.483\\\\ngini = 0.379\\\\nsamples = 38\\\\nvalue = [0, 6, 0, 1, 0, 5, 41]\", fillcolor=\"#ec6ca5\"] ;\\n1705 -> 1707 ;\\n1708 [label=\"valence <= 0.487\\\\ngini = 0.138\\\\nsamples = 31\\\\nvalue = [0, 1, 0, 0, 0, 2, 38]\", fillcolor=\"#e7488f\"] ;\\n1707 -> 1708 ;\\n1709 [label=\"tempo <= 94.472\\\\ngini = 0.64\\\\nsamples = 5\\\\nvalue = [0, 1, 0, 0, 0, 2, 2]\", fillcolor=\"#ffffff\"] ;\\n1708 -> 1709 ;\\n1710 [label=\"gini = 0.0\\\\nsamples = 2\\\\nvalue = [0, 0, 0, 0, 0, 2, 0]\", fillcolor=\"#b139e5\"] ;\\n1709 -> 1710 ;\\n1711 [label=\"danceability <= 0.786\\\\ngini = 0.444\\\\nsamples = 3\\\\nvalue = [0, 1, 0, 0, 0, 0, 2]\", fillcolor=\"#f29cc2\"] ;\\n1709 -> 1711 ;\\n1712 [label=\"gini = 0.0\\\\nsamples = 1\\\\nvalue = [0, 1, 0, 0, 0, 0, 0]\", fillcolor=\"#b7e539\"] ;\\n1711 -> 1712 ;\\n1713 [label=\"gini = 0.0\\\\nsamples = 2\\\\nvalue = [0, 0, 0, 0, 0, 0, 2]\", fillcolor=\"#e53986\"] ;\\n1711 -> 1713 ;\\n1714 [label=\"gini = 0.0\\\\nsamples = 26\\\\nvalue = [0, 0, 0, 0, 0, 0, 36]\", fillcolor=\"#e53986\"] ;\\n1708 -> 1714 ;\\n1715 [label=\"popularity <= 59.783\\\\ngini = 0.694\\\\nsamples = 7\\\\nvalue = [0, 5, 0, 1, 0, 3, 3]\", fillcolor=\"#eff9d3\"] ;\\n1707 -> 1715 ;\\n1716 [label=\"gini = 0.0\\\\nsamples = 2\\\\nvalue = [0, 5, 0, 0, 0, 0, 0]\", fillcolor=\"#b7e539\"] ;\\n1715 -> 1716 ;\\n1717 [label=\"instrumentalness <= 0.0\\\\ngini = 0.612\\\\nsamples = 5\\\\nvalue = [0, 0, 0, 1, 0, 3, 3]\", fillcolor=\"#ffffff\"] ;\\n1715 -> 1717 ;\\n1718 [label=\"energy <= 0.795\\\\ngini = 0.375\\\\nsamples = 3\\\\nvalue = [0, 0, 0, 1, 0, 3, 0]\", fillcolor=\"#cb7bee\"] ;\\n1717 -> 1718 ;\\n1719 [label=\"gini = 0.0\\\\nsamples = 2\\\\nvalue = [0, 0, 0, 0, 0, 3, 0]\", fillcolor=\"#b139e5\"] ;\\n1718 -> 1719 ;\\n1720 [label=\"gini = 0.0\\\\nsamples = 1\\\\nvalue = [0, 0, 0, 1, 0, 0, 0]\", fillcolor=\"#39e5e2\"] ;\\n1718 -> 1720 ;\\n1721 [label=\"gini = 0.0\\\\nsamples = 2\\\\nvalue = [0, 0, 0, 0, 0, 0, 3]\", fillcolor=\"#e53986\"] ;\\n1717 -> 1721 ;\\n1722 [label=\"loudness <= -10.666\\\\ngini = 0.511\\\\nsamples = 163\\\\nvalue = [0, 4, 7, 17, 0, 180, 69]\", fillcolor=\"#d595f1\"] ;\\n1704 -> 1722 ;\\n1723 [label=\"duration_ms <= 286396.859\\\\ngini = 0.469\\\\nsamples = 15\\\\nvalue = [0, 0, 0, 0, 0, 9, 15]\", fillcolor=\"#f5b0cf\"] ;\\n1722 -> 1723 ;\\n1724 [label=\"speechiness <= 0.06\\\\ngini = 0.346\\\\nsamples = 11\\\\nvalue = [0, 0, 0, 0, 0, 4, 14]\", fillcolor=\"#ec72a9\"] ;\\n1723 -> 1724 ;\\n1725 [label=\"energy <= 0.292\\\\ngini = 0.133\\\\nsamples = 8\\\\nvalue = [0, 0, 0, 0, 0, 1, 13]\", fillcolor=\"#e7488f\"] ;\\n1724 -> 1725 ;\\n1726 [label=\"gini = 0.0\\\\nsamples = 1\\\\nvalue = [0, 0, 0, 0, 0, 1, 0]\", fillcolor=\"#b139e5\"] ;\\n1725 -> 1726 ;\\n1727 [label=\"gini = 0.0\\\\nsamples = 7\\\\nvalue = [0, 0, 0, 0, 0, 0, 13]\", fillcolor=\"#e53986\"] ;\\n1725 -> 1727 ;\\n1728 [label=\"loudness <= -12.376\\\\ngini = 0.375\\\\nsamples = 3\\\\nvalue = [0, 0, 0, 0, 0, 3, 1]\", fillcolor=\"#cb7bee\"] ;\\n1724 -> 1728 ;\\n1729 [label=\"gini = 0.0\\\\nsamples = 2\\\\nvalue = [0, 0, 0, 0, 0, 3, 0]\", fillcolor=\"#b139e5\"] ;\\n1728 -> 1729 ;\\n1730 [label=\"gini = 0.0\\\\nsamples = 1\\\\nvalue = [0, 0, 0, 0, 0, 0, 1]\", fillcolor=\"#e53986\"] ;\\n1728 -> 1730 ;\\n1731 [label=\"liveness <= 0.079\\\\ngini = 0.278\\\\nsamples = 4\\\\nvalue = [0, 0, 0, 0, 0, 5, 1]\", fillcolor=\"#c161ea\"] ;\\n1723 -> 1731 ;\\n1732 [label=\"gini = 0.0\\\\nsamples = 1\\\\nvalue = [0, 0, 0, 0, 0, 0, 1]\", fillcolor=\"#e53986\"] ;\\n1731 -> 1732 ;\\n1733 [label=\"gini = 0.0\\\\nsamples = 3\\\\nvalue = [0, 0, 0, 0, 0, 5, 0]\", fillcolor=\"#b139e5\"] ;\\n1731 -> 1733 ;\\n1734 [label=\"popularity <= 75.718\\\\ngini = 0.492\\\\nsamples = 148\\\\nvalue = [0, 4, 7, 17, 0, 171, 54]\", fillcolor=\"#d18bf0\"] ;\\n1722 -> 1734 ;\\n1735 [label=\"instrumentalness <= 0.0\\\\ngini = 0.529\\\\nsamples = 134\\\\nvalue = [0, 4, 7, 17, 0, 145, 54]\", fillcolor=\"#d697f1\"] ;\\n1734 -> 1735 ;\\n1736 [label=\"danceability <= 0.911\\\\ngini = 0.424\\\\nsamples = 99\\\\nvalue = [0, 4, 3, 13, 0, 126, 24]\", fillcolor=\"#c975ed\"] ;\\n1735 -> 1736 ;\\n1737 [label=\"loudness <= -3.531\\\\ngini = 0.47\\\\nsamples = 85\\\\nvalue = [0, 4, 3, 12, 0, 102, 24]\", fillcolor=\"#cd7fee\"] ;\\n1736 -> 1737 ;\\n1738 [label=\"popularity <= 59.359\\\\ngini = 0.438\\\\nsamples = 75\\\\nvalue = [0, 4, 3, 10, 0, 93, 17]\", fillcolor=\"#c976ed\"] ;\\n1737 -> 1738 ;\\n1739 [label=\"duration_ms <= 206755.453\\\\ngini = 0.707\\\\nsamples = 10\\\\nvalue = [0, 4, 3, 1, 0, 10, 4]\", fillcolor=\"#e5bdf6\"] ;\\n1738 -> 1739 ;\\n1740 [label=\"danceability <= 0.819\\\\ngini = 0.49\\\\nsamples = 3\\\\nvalue = [0, 4, 3, 0, 0, 0, 0]\", fillcolor=\"#edf8ce\"] ;\\n1739 -> 1740 ;\\n1741 [label=\"gini = 0.0\\\\nsamples = 1\\\\nvalue = [0, 4, 0, 0, 0, 0, 0]\", fillcolor=\"#b7e539\"] ;\\n1740 -> 1741 ;\\n1742 [label=\"gini = 0.0\\\\nsamples = 2\\\\nvalue = [0, 0, 3, 0, 0, 0, 0]\", fillcolor=\"#39e54d\"] ;\\n1740 -> 1742 ;\\n1743 [label=\"liveness <= 0.117\\\\ngini = 0.48\\\\nsamples = 7\\\\nvalue = [0, 0, 0, 1, 0, 10, 4]\", fillcolor=\"#d493f1\"] ;\\n1739 -> 1743 ;\\n1744 [label=\"gini = 0.0\\\\nsamples = 3\\\\nvalue = [0, 0, 0, 0, 0, 10, 0]\", fillcolor=\"#b139e5\"] ;\\n1743 -> 1744 ;\\n1745 [label=\"tempo <= 126.022\\\\ngini = 0.32\\\\nsamples = 4\\\\nvalue = [0, 0, 0, 1, 0, 0, 4]\", fillcolor=\"#ec6aa4\"] ;\\n1743 -> 1745 ;\\n1746 [label=\"gini = 0.0\\\\nsamples = 3\\\\nvalue = [0, 0, 0, 0, 0, 0, 4]\", fillcolor=\"#e53986\"] ;\\n1745 -> 1746 ;\\n1747 [label=\"gini = 0.0\\\\nsamples = 1\\\\nvalue = [0, 0, 0, 1, 0, 0, 0]\", fillcolor=\"#39e5e2\"] ;\\n1745 -> 1747 ;\\n1748 [label=\"duration_ms <= 62009.34\\\\ngini = 0.352\\\\nsamples = 65\\\\nvalue = [0, 0, 0, 9, 0, 83, 13]\", fillcolor=\"#c468eb\"] ;\\n1738 -> 1748 ;\\n1749 [label=\"speechiness <= 0.067\\\\ngini = 0.48\\\\nsamples = 10\\\\nvalue = [0, 0, 0, 4, 0, 10, 1]\", fillcolor=\"#d493f1\"] ;\\n1748 -> 1749 ;\\n1750 [label=\"danceability <= 0.839\\\\ngini = 0.379\\\\nsamples = 9\\\\nvalue = [0, 0, 0, 2, 0, 10, 1]\", fillcolor=\"#c66fec\"] ;\\n1749 -> 1750 ;\\n1751 [label=\"gini = 0.0\\\\nsamples = 6\\\\nvalue = [0, 0, 0, 0, 0, 10, 0]\", fillcolor=\"#b139e5\"] ;\\n1750 -> 1751 ;\\n1752 [label=\"tempo <= 106.493\\\\ngini = 0.444\\\\nsamples = 3\\\\nvalue = [0, 0, 0, 2, 0, 0, 1]\", fillcolor=\"#9cf2f0\"] ;\\n1750 -> 1752 ;\\n1753 [label=\"gini = 0.0\\\\nsamples = 1\\\\nvalue = [0, 0, 0, 0, 0, 0, 1]\", fillcolor=\"#e53986\"] ;\\n1752 -> 1753 ;\\n1754 [label=\"gini = 0.0\\\\nsamples = 2\\\\nvalue = [0, 0, 0, 2, 0, 0, 0]\", fillcolor=\"#39e5e2\"] ;\\n1752 -> 1754 ;\\n1755 [label=\"gini = 0.0\\\\nsamples = 1\\\\nvalue = [0, 0, 0, 2, 0, 0, 0]\", fillcolor=\"#39e5e2\"] ;\\n1749 -> 1755 ;\\n1756 [label=\"tempo <= 109.925\\\\ngini = 0.321\\\\nsamples = 55\\\\nvalue = [0, 0, 0, 5, 0, 73, 12]\", fillcolor=\"#c264eb\"] ;\\n1748 -> 1756 ;\\n1757 [label=\"energy <= 0.58\\\\ngini = 0.059\\\\nsamples = 20\\\\nvalue = [0, 0, 0, 1, 0, 32, 0]\", fillcolor=\"#b33fe6\"] ;\\n1756 -> 1757 ;\\n1758 [label=\"instrumentalness <= 0.0\\\\ngini = 0.198\\\\nsamples = 7\\\\nvalue = [0, 0, 0, 1, 0, 8, 0]\", fillcolor=\"#bb52e8\"] ;\\n1757 -> 1758 ;\\n1759 [label=\"instrumentalness <= 0.0\\\\ngini = 0.375\\\\nsamples = 4\\\\nvalue = [0, 0, 0, 1, 0, 3, 0]\", fillcolor=\"#cb7bee\"] ;\\n1758 -> 1759 ;\\n1760 [label=\"gini = 0.0\\\\nsamples = 3\\\\nvalue = [0, 0, 0, 0, 0, 3, 0]\", fillcolor=\"#b139e5\"] ;\\n1759 -> 1760 ;\\n1761 [label=\"gini = 0.0\\\\nsamples = 1\\\\nvalue = [0, 0, 0, 1, 0, 0, 0]\", fillcolor=\"#39e5e2\"] ;\\n1759 -> 1761 ;\\n1762 [label=\"gini = 0.0\\\\nsamples = 3\\\\nvalue = [0, 0, 0, 0, 0, 5, 0]\", fillcolor=\"#b139e5\"] ;\\n1758 -> 1762 ;\\n1763 [label=\"gini = 0.0\\\\nsamples = 13\\\\nvalue = [0, 0, 0, 0, 0, 24, 0]\", fillcolor=\"#b139e5\"] ;\\n1757 -> 1763 ;\\n1764 [label=\"acousticness <= 0.16\\\\ngini = 0.433\\\\nsamples = 35\\\\nvalue = [0, 0, 0, 4, 0, 41, 12]\", fillcolor=\"#cd7fee\"] ;\\n1756 -> 1764 ;\\n1765 [label=\"acousticness <= 0.088\\\\ngini = 0.271\\\\nsamples = 24\\\\nvalue = [0, 0, 0, 4, 0, 33, 2]\", fillcolor=\"#be5be9\"] ;\\n1764 -> 1765 ;\\n1766 [label=\"energy <= 0.694\\\\ngini = 0.403\\\\nsamples = 17\\\\nvalue = [0, 0, 0, 4, 0, 18, 2]\", fillcolor=\"#c874ed\"] ;\\n1765 -> 1766 ;\\n1767 [label=\"energy <= 0.443\\\\ngini = 0.124\\\\nsamples = 9\\\\nvalue = [0, 0, 0, 1, 0, 14, 0]\", fillcolor=\"#b747e7\"] ;\\n1766 -> 1767 ;\\n1768 [label=\"gini = 0.0\\\\nsamples = 1\\\\nvalue = [0, 0, 0, 1, 0, 0, 0]\", fillcolor=\"#39e5e2\"] ;\\n1767 -> 1768 ;\\n1769 [label=\"gini = 0.0\\\\nsamples = 8\\\\nvalue = [0, 0, 0, 0, 0, 14, 0]\", fillcolor=\"#b139e5\"] ;\\n1767 -> 1769 ;\\n1770 [label=\"valence <= 0.684\\\\ngini = 0.642\\\\nsamples = 8\\\\nvalue = [0, 0, 0, 3, 0, 4, 2]\", fillcolor=\"#f2defb\"] ;\\n1766 -> 1770 ;\\n1771 [label=\"popularity <= 64.384\\\\ngini = 0.49\\\\nsamples = 6\\\\nvalue = [0, 0, 0, 3, 0, 4, 0]\", fillcolor=\"#eccef8\"] ;\\n1770 -> 1771 ;\\n1772 [label=\"gini = 0.0\\\\nsamples = 3\\\\nvalue = [0, 0, 0, 0, 0, 3, 0]\", fillcolor=\"#b139e5\"] ;\\n1771 -> 1772 ;\\n1773 [label=\"liveness <= 0.133\\\\ngini = 0.375\\\\nsamples = 3\\\\nvalue = [0, 0, 0, 3, 0, 1, 0]\", fillcolor=\"#7beeec\"] ;\\n1771 -> 1773 ;\\n1774 [label=\"gini = 0.0\\\\nsamples = 2\\\\nvalue = [0, 0, 0, 3, 0, 0, 0]\", fillcolor=\"#39e5e2\"] ;\\n1773 -> 1774 ;\\n1775 [label=\"gini = 0.0\\\\nsamples = 1\\\\nvalue = [0, 0, 0, 0, 0, 1, 0]\", fillcolor=\"#b139e5\"] ;\\n1773 -> 1775 ;\\n1776 [label=\"gini = 0.0\\\\nsamples = 2\\\\nvalue = [0, 0, 0, 0, 0, 0, 2]\", fillcolor=\"#e53986\"] ;\\n1770 -> 1776 ;\\n1777 [label=\"gini = 0.0\\\\nsamples = 7\\\\nvalue = [0, 0, 0, 0, 0, 15, 0]\", fillcolor=\"#b139e5\"] ;\\n1765 -> 1777 ;\\n1778 [label=\"liveness <= 0.106\\\\ngini = 0.494\\\\nsamples = 11\\\\nvalue = [0, 0, 0, 0, 0, 8, 10]\", fillcolor=\"#fad7e7\"] ;\\n1764 -> 1778 ;\\n1779 [label=\"gini = 0.0\\\\nsamples = 3\\\\nvalue = [0, 0, 0, 0, 0, 0, 5]\", fillcolor=\"#e53986\"] ;\\n1778 -> 1779 ;\\n1780 [label=\"acousticness <= 0.183\\\\ngini = 0.473\\\\nsamples = 8\\\\nvalue = [0, 0, 0, 0, 0, 8, 5]\", fillcolor=\"#e2b5f5\"] ;\\n1778 -> 1780 ;\\n1781 [label=\"gini = 0.0\\\\nsamples = 1\\\\nvalue = [0, 0, 0, 0, 0, 0, 2]\", fillcolor=\"#e53986\"] ;\\n1780 -> 1781 ;\\n1782 [label=\"duration_ms <= 208310.062\\\\ngini = 0.397\\\\nsamples = 7\\\\nvalue = [0, 0, 0, 0, 0, 8, 3]\", fillcolor=\"#ce83ef\"] ;\\n1780 -> 1782 ;\\n1783 [label=\"gini = 0.0\\\\nsamples = 2\\\\nvalue = [0, 0, 0, 0, 0, 0, 3]\", fillcolor=\"#e53986\"] ;\\n1782 -> 1783 ;\\n1784 [label=\"gini = 0.0\\\\nsamples = 5\\\\nvalue = [0, 0, 0, 0, 0, 8, 0]\", fillcolor=\"#b139e5\"] ;\\n1782 -> 1784 ;\\n1785 [label=\"acousticness <= 0.038\\\\ngini = 0.586\\\\nsamples = 10\\\\nvalue = [0, 0, 0, 2, 0, 9, 7]\", fillcolor=\"#f1dbfa\"] ;\\n1737 -> 1785 ;\\n1786 [label=\"gini = 0.0\\\\nsamples = 2\\\\nvalue = [0, 0, 0, 0, 0, 5, 0]\", fillcolor=\"#b139e5\"] ;\\n1785 -> 1786 ;\\n1787 [label=\"popularity <= 57.203\\\\ngini = 0.592\\\\nsamples = 8\\\\nvalue = [0, 0, 0, 2, 0, 4, 7]\", fillcolor=\"#f6bdd7\"] ;\\n1785 -> 1787 ;\\n1788 [label=\"gini = 0.0\\\\nsamples = 1\\\\nvalue = [0, 0, 0, 0, 0, 3, 0]\", fillcolor=\"#b139e5\"] ;\\n1787 -> 1788 ;\\n1789 [label=\"tempo <= 109.486\\\\ngini = 0.46\\\\nsamples = 7\\\\nvalue = [0, 0, 0, 2, 0, 1, 7]\", fillcolor=\"#ef83b3\"] ;\\n1787 -> 1789 ;\\n1790 [label=\"gini = 0.0\\\\nsamples = 3\\\\nvalue = [0, 0, 0, 0, 0, 0, 6]\", fillcolor=\"#e53986\"] ;\\n1789 -> 1790 ;\\n1791 [label=\"tempo <= 129.481\\\\ngini = 0.625\\\\nsamples = 4\\\\nvalue = [0, 0, 0, 2, 0, 1, 1]\", fillcolor=\"#bdf6f5\"] ;\\n1789 -> 1791 ;\\n1792 [label=\"gini = 0.0\\\\nsamples = 2\\\\nvalue = [0, 0, 0, 2, 0, 0, 0]\", fillcolor=\"#39e5e2\"] ;\\n1791 -> 1792 ;\\n1793 [label=\"tempo <= 139.494\\\\ngini = 0.5\\\\nsamples = 2\\\\nvalue = [0, 0, 0, 0, 0, 1, 1]\", fillcolor=\"#ffffff\"] ;\\n1791 -> 1793 ;\\n1794 [label=\"gini = 0.0\\\\nsamples = 1\\\\nvalue = [0, 0, 0, 0, 0, 0, 1]\", fillcolor=\"#e53986\"] ;\\n1793 -> 1794 ;\\n1795 [label=\"gini = 0.0\\\\nsamples = 1\\\\nvalue = [0, 0, 0, 0, 0, 1, 0]\", fillcolor=\"#b139e5\"] ;\\n1793 -> 1795 ;\\n1796 [label=\"duration_ms <= 193742.234\\\\ngini = 0.077\\\\nsamples = 14\\\\nvalue = [0, 0, 0, 1, 0, 24, 0]\", fillcolor=\"#b441e6\"] ;\\n1736 -> 1796 ;\\n1797 [label=\"danceability <= 0.979\\\\ngini = 0.245\\\\nsamples = 5\\\\nvalue = [0, 0, 0, 1, 0, 6, 0]\", fillcolor=\"#be5ae9\"] ;\\n1796 -> 1797 ;\\n1798 [label=\"gini = 0.0\\\\nsamples = 4\\\\nvalue = [0, 0, 0, 0, 0, 6, 0]\", fillcolor=\"#b139e5\"] ;\\n1797 -> 1798 ;\\n1799 [label=\"gini = 0.0\\\\nsamples = 1\\\\nvalue = [0, 0, 0, 1, 0, 0, 0]\", fillcolor=\"#39e5e2\"] ;\\n1797 -> 1799 ;\\n1800 [label=\"gini = 0.0\\\\nsamples = 9\\\\nvalue = [0, 0, 0, 0, 0, 18, 0]\", fillcolor=\"#b139e5\"] ;\\n1796 -> 1800 ;\\n1801 [label=\"duration_ms <= 205175.523\\\\ngini = 0.602\\\\nsamples = 35\\\\nvalue = [0, 0, 4, 4, 0, 19, 30]\", fillcolor=\"#f7c6dc\"] ;\\n1735 -> 1801 ;\\n1802 [label=\"energy <= 0.823\\\\ngini = 0.539\\\\nsamples = 9\\\\nvalue = [0, 0, 4, 1, 0, 10, 1]\", fillcolor=\"#d89cf2\"] ;\\n1801 -> 1802 ;\\n1803 [label=\"popularity <= 67.544\\\\ngini = 0.292\\\\nsamples = 8\\\\nvalue = [0, 0, 0, 1, 0, 10, 1]\", fillcolor=\"#bf5dea\"] ;\\n1802 -> 1803 ;\\n1804 [label=\"gini = 0.0\\\\nsamples = 5\\\\nvalue = [0, 0, 0, 0, 0, 8, 0]\", fillcolor=\"#b139e5\"] ;\\n1803 -> 1804 ;\\n1805 [label=\"duration_ms <= 87368.023\\\\ngini = 0.625\\\\nsamples = 3\\\\nvalue = [0, 0, 0, 1, 0, 2, 1]\", fillcolor=\"#e5bdf6\"] ;\\n1803 -> 1805 ;\\n1806 [label=\"acousticness <= 0.086\\\\ngini = 0.444\\\\nsamples = 2\\\\nvalue = [0, 0, 0, 0, 0, 2, 1]\", fillcolor=\"#d89cf2\"] ;\\n1805 -> 1806 ;\\n1807 [label=\"gini = 0.0\\\\nsamples = 1\\\\nvalue = [0, 0, 0, 0, 0, 2, 0]\", fillcolor=\"#b139e5\"] ;\\n1806 -> 1807 ;\\n1808 [label=\"gini = 0.0\\\\nsamples = 1\\\\nvalue = [0, 0, 0, 0, 0, 0, 1]\", fillcolor=\"#e53986\"] ;\\n1806 -> 1808 ;\\n1809 [label=\"gini = 0.0\\\\nsamples = 1\\\\nvalue = [0, 0, 0, 1, 0, 0, 0]\", fillcolor=\"#39e5e2\"] ;\\n1805 -> 1809 ;\\n1810 [label=\"gini = 0.0\\\\nsamples = 1\\\\nvalue = [0, 0, 4, 0, 0, 0, 0]\", fillcolor=\"#39e54d\"] ;\\n1802 -> 1810 ;\\n1811 [label=\"acousticness <= 0.516\\\\ngini = 0.446\\\\nsamples = 26\\\\nvalue = [0, 0, 0, 3, 0, 9, 29]\", fillcolor=\"#ef83b3\"] ;\\n1801 -> 1811 ;\\n1812 [label=\"popularity <= 67.125\\\\ngini = 0.386\\\\nsamples = 24\\\\nvalue = [0, 0, 0, 3, 0, 6, 29]\", fillcolor=\"#ec71a8\"] ;\\n1811 -> 1812 ;\\n1813 [label=\"acousticness <= 0.01\\\\ngini = 0.471\\\\nsamples = 18\\\\nvalue = [0, 0, 0, 3, 0, 6, 20]\", fillcolor=\"#ef86b5\"] ;\\n1812 -> 1813 ;\\n1814 [label=\"duration_ms <= 255070.805\\\\ngini = 0.48\\\\nsamples = 3\\\\nvalue = [0, 0, 0, 2, 0, 3, 0]\", fillcolor=\"#e5bdf6\"] ;\\n1813 -> 1814 ;\\n1815 [label=\"gini = 0.0\\\\nsamples = 1\\\\nvalue = [0, 0, 0, 2, 0, 0, 0]\", fillcolor=\"#39e5e2\"] ;\\n1814 -> 1815 ;\\n1816 [label=\"gini = 0.0\\\\nsamples = 2\\\\nvalue = [0, 0, 0, 0, 0, 3, 0]\", fillcolor=\"#b139e5\"] ;\\n1814 -> 1816 ;\\n1817 [label=\"popularity <= 65.82\\\\ngini = 0.288\\\\nsamples = 15\\\\nvalue = [0, 0, 0, 1, 0, 3, 20]\", fillcolor=\"#ea5f9d\"] ;\\n1813 -> 1817 ;\\n1818 [label=\"liveness <= 0.114\\\\ngini = 0.105\\\\nsamples = 12\\\\nvalue = [0, 0, 0, 1, 0, 0, 17]\", fillcolor=\"#e7458d\"] ;\\n1817 -> 1818 ;\\n1819 [label=\"gini = 0.0\\\\nsamples = 5\\\\nvalue = [0, 0, 0, 0, 0, 0, 9]\", fillcolor=\"#e53986\"] ;\\n1818 -> 1819 ;\\n1820 [label=\"duration_ms <= 210674.312\\\\ngini = 0.198\\\\nsamples = 7\\\\nvalue = [0, 0, 0, 1, 0, 0, 8]\", fillcolor=\"#e85295\"] ;\\n1818 -> 1820 ;\\n1821 [label=\"duration_ms <= 208527.953\\\\ngini = 0.444\\\\nsamples = 2\\\\nvalue = [0, 0, 0, 1, 0, 0, 2]\", fillcolor=\"#f29cc2\"] ;\\n1820 -> 1821 ;\\n1822 [label=\"gini = 0.0\\\\nsamples = 1\\\\nvalue = [0, 0, 0, 0, 0, 0, 2]\", fillcolor=\"#e53986\"] ;\\n1821 -> 1822 ;\\n1823 [label=\"gini = 0.0\\\\nsamples = 1\\\\nvalue = [0, 0, 0, 1, 0, 0, 0]\", fillcolor=\"#39e5e2\"] ;\\n1821 -> 1823 ;\\n1824 [label=\"gini = 0.0\\\\nsamples = 5\\\\nvalue = [0, 0, 0, 0, 0, 0, 6]\", fillcolor=\"#e53986\"] ;\\n1820 -> 1824 ;\\n1825 [label=\"popularity <= 66.558\\\\ngini = 0.5\\\\nsamples = 3\\\\nvalue = [0, 0, 0, 0, 0, 3, 3]\", fillcolor=\"#ffffff\"] ;\\n1817 -> 1825 ;\\n1826 [label=\"gini = 0.0\\\\nsamples = 2\\\\nvalue = [0, 0, 0, 0, 0, 3, 0]\", fillcolor=\"#b139e5\"] ;\\n1825 -> 1826 ;\\n1827 [label=\"gini = 0.0\\\\nsamples = 1\\\\nvalue = [0, 0, 0, 0, 0, 0, 3]\", fillcolor=\"#e53986\"] ;\\n1825 -> 1827 ;\\n1828 [label=\"gini = 0.0\\\\nsamples = 6\\\\nvalue = [0, 0, 0, 0, 0, 0, 9]\", fillcolor=\"#e53986\"] ;\\n1812 -> 1828 ;\\n1829 [label=\"gini = 0.0\\\\nsamples = 2\\\\nvalue = [0, 0, 0, 0, 0, 3, 0]\", fillcolor=\"#b139e5\"] ;\\n1811 -> 1829 ;\\n1830 [label=\"gini = 0.0\\\\nsamples = 14\\\\nvalue = [0, 0, 0, 0, 0, 26, 0]\", fillcolor=\"#b139e5\"] ;\\n1734 -> 1830 ;\\n1831 [label=\"acousticness <= 0.699\\\\ngini = 0.654\\\\nsamples = 61\\\\nvalue = [0, 9, 0, 3, 29, 10, 50]\", fillcolor=\"#f7c5dc\"] ;\\n1633 -> 1831 ;\\n1832 [label=\"valence <= 0.469\\\\ngini = 0.441\\\\nsamples = 29\\\\nvalue = [0, 4, 0, 3, 4, 1, 33]\", fillcolor=\"#ed73a9\"] ;\\n1831 -> 1832 ;\\n1833 [label=\"speechiness <= 0.038\\\\ngini = 0.593\\\\nsamples = 6\\\\nvalue = [0, 4, 0, 1, 0, 0, 4]\", fillcolor=\"#ffffff\"] ;\\n1832 -> 1833 ;\\n1834 [label=\"gini = 0.0\\\\nsamples = 3\\\\nvalue = [0, 4, 0, 0, 0, 0, 0]\", fillcolor=\"#b7e539\"] ;\\n1833 -> 1834 ;\\n1835 [label=\"valence <= 0.103\\\\ngini = 0.32\\\\nsamples = 3\\\\nvalue = [0, 0, 0, 1, 0, 0, 4]\", fillcolor=\"#ec6aa4\"] ;\\n1833 -> 1835 ;\\n1836 [label=\"gini = 0.0\\\\nsamples = 1\\\\nvalue = [0, 0, 0, 1, 0, 0, 0]\", fillcolor=\"#39e5e2\"] ;\\n1835 -> 1836 ;\\n1837 [label=\"gini = 0.0\\\\nsamples = 2\\\\nvalue = [0, 0, 0, 0, 0, 0, 4]\", fillcolor=\"#e53986\"] ;\\n1835 -> 1837 ;\\n1838 [label=\"popularity <= 46.497\\\\ngini = 0.335\\\\nsamples = 23\\\\nvalue = [0, 0, 0, 2, 4, 1, 29]\", fillcolor=\"#eb64a0\"] ;\\n1832 -> 1838 ;\\n1839 [label=\"gini = 0.0\\\\nsamples = 2\\\\nvalue = [0, 0, 0, 0, 2, 0, 0]\", fillcolor=\"#3956e5\"] ;\\n1838 -> 1839 ;\\n1840 [label=\"energy <= 0.637\\\\ngini = 0.265\\\\nsamples = 21\\\\nvalue = [0, 0, 0, 2, 2, 1, 29]\", fillcolor=\"#e95899\"] ;\\n1838 -> 1840 ;\\n1841 [label=\"gini = 0.0\\\\nsamples = 16\\\\nvalue = [0, 0, 0, 0, 0, 0, 26]\", fillcolor=\"#e53986\"] ;\\n1840 -> 1841 ;\\n1842 [label=\"popularity <= 51.041\\\\ngini = 0.719\\\\nsamples = 5\\\\nvalue = [0, 0, 0, 2, 2, 1, 3]\", fillcolor=\"#fbdeeb\"] ;\\n1840 -> 1842 ;\\n1843 [label=\"gini = 0.0\\\\nsamples = 1\\\\nvalue = [0, 0, 0, 0, 0, 0, 3]\", fillcolor=\"#e53986\"] ;\\n1842 -> 1843 ;\\n1844 [label=\"tempo <= 96.53\\\\ngini = 0.64\\\\nsamples = 4\\\\nvalue = [0, 0, 0, 2, 2, 1, 0]\", fillcolor=\"#ffffff\"] ;\\n1842 -> 1844 ;\\n1845 [label=\"gini = 0.0\\\\nsamples = 2\\\\nvalue = [0, 0, 0, 0, 2, 0, 0]\", fillcolor=\"#3956e5\"] ;\\n1844 -> 1845 ;\\n1846 [label=\"tempo <= 112.007\\\\ngini = 0.444\\\\nsamples = 2\\\\nvalue = [0, 0, 0, 2, 0, 1, 0]\", fillcolor=\"#9cf2f0\"] ;\\n1844 -> 1846 ;\\n1847 [label=\"gini = 0.0\\\\nsamples = 1\\\\nvalue = [0, 0, 0, 2, 0, 0, 0]\", fillcolor=\"#39e5e2\"] ;\\n1846 -> 1847 ;\\n1848 [label=\"gini = 0.0\\\\nsamples = 1\\\\nvalue = [0, 0, 0, 0, 0, 1, 0]\", fillcolor=\"#b139e5\"] ;\\n1846 -> 1848 ;\\n1849 [label=\"instrumentalness <= 0.0\\\\ngini = 0.675\\\\nsamples = 32\\\\nvalue = [0, 5, 0, 0, 25, 9, 17]\", fillcolor=\"#d6dcfa\"] ;\\n1831 -> 1849 ;\\n1850 [label=\"tempo <= 118.793\\\\ngini = 0.673\\\\nsamples = 20\\\\nvalue = [0, 3, 0, 0, 8, 7, 16]\", fillcolor=\"#f7c2da\"] ;\\n1849 -> 1850 ;\\n1851 [label=\"valence <= 0.273\\\\ngini = 0.719\\\\nsamples = 14\\\\nvalue = [0, 3, 0, 0, 8, 6, 9]\", fillcolor=\"#fef4f8\"] ;\\n1850 -> 1851 ;\\n1852 [label=\"gini = 0.0\\\\nsamples = 1\\\\nvalue = [0, 0, 0, 0, 0, 4, 0]\", fillcolor=\"#b139e5\"] ;\\n1851 -> 1852 ;\\n1853 [label=\"speechiness <= 0.037\\\\ngini = 0.674\\\\nsamples = 13\\\\nvalue = [0, 3, 0, 0, 8, 2, 9]\", fillcolor=\"#fdf1f6\"] ;\\n1851 -> 1853 ;\\n1854 [label=\"gini = 0.0\\\\nsamples = 3\\\\nvalue = [0, 0, 0, 0, 0, 0, 8]\", fillcolor=\"#e53986\"] ;\\n1853 -> 1854 ;\\n1855 [label=\"loudness <= -8.426\\\\ngini = 0.602\\\\nsamples = 10\\\\nvalue = [0, 3, 0, 0, 8, 2, 1]\", fillcolor=\"#a5b2f3\"] ;\\n1853 -> 1855 ;\\n1856 [label=\"danceability <= 0.752\\\\ngini = 0.34\\\\nsamples = 7\\\\nvalue = [0, 1, 0, 0, 8, 0, 1]\", fillcolor=\"#657ceb\"] ;\\n1855 -> 1856 ;\\n1857 [label=\"gini = 0.0\\\\nsamples = 1\\\\nvalue = [0, 0, 0, 0, 0, 0, 1]\", fillcolor=\"#e53986\"] ;\\n1856 -> 1857 ;\\n1858 [label=\"loudness <= -12.445\\\\ngini = 0.198\\\\nsamples = 6\\\\nvalue = [0, 1, 0, 0, 8, 0, 0]\", fillcolor=\"#526be8\"] ;\\n1856 -> 1858 ;\\n1859 [label=\"danceability <= 0.843\\\\ngini = 0.444\\\\nsamples = 3\\\\nvalue = [0, 1, 0, 0, 2, 0, 0]\", fillcolor=\"#9caaf2\"] ;\\n1858 -> 1859 ;\\n1860 [label=\"gini = 0.0\\\\nsamples = 2\\\\nvalue = [0, 0, 0, 0, 2, 0, 0]\", fillcolor=\"#3956e5\"] ;\\n1859 -> 1860 ;\\n1861 [label=\"gini = 0.0\\\\nsamples = 1\\\\nvalue = [0, 1, 0, 0, 0, 0, 0]\", fillcolor=\"#b7e539\"] ;\\n1859 -> 1861 ;\\n1862 [label=\"gini = 0.0\\\\nsamples = 3\\\\nvalue = [0, 0, 0, 0, 6, 0, 0]\", fillcolor=\"#3956e5\"] ;\\n1858 -> 1862 ;\\n1863 [label=\"danceability <= 0.831\\\\ngini = 0.5\\\\nsamples = 3\\\\nvalue = [0, 2, 0, 0, 0, 2, 0]\", fillcolor=\"#ffffff\"] ;\\n1855 -> 1863 ;\\n1864 [label=\"gini = 0.0\\\\nsamples = 1\\\\nvalue = [0, 0, 0, 0, 0, 1, 0]\", fillcolor=\"#b139e5\"] ;\\n1863 -> 1864 ;\\n1865 [label=\"valence <= 0.568\\\\ngini = 0.444\\\\nsamples = 2\\\\nvalue = [0, 2, 0, 0, 0, 1, 0]\", fillcolor=\"#dbf29c\"] ;\\n1863 -> 1865 ;\\n1866 [label=\"gini = 0.0\\\\nsamples = 1\\\\nvalue = [0, 0, 0, 0, 0, 1, 0]\", fillcolor=\"#b139e5\"] ;\\n1865 -> 1866 ;\\n1867 [label=\"gini = 0.0\\\\nsamples = 1\\\\nvalue = [0, 2, 0, 0, 0, 0, 0]\", fillcolor=\"#b7e539\"] ;\\n1865 -> 1867 ;\\n1868 [label=\"acousticness <= 0.854\\\\ngini = 0.219\\\\nsamples = 6\\\\nvalue = [0, 0, 0, 0, 0, 1, 7]\", fillcolor=\"#e95597\"] ;\\n1850 -> 1868 ;\\n1869 [label=\"gini = 0.0\\\\nsamples = 5\\\\nvalue = [0, 0, 0, 0, 0, 0, 7]\", fillcolor=\"#e53986\"] ;\\n1868 -> 1869 ;\\n1870 [label=\"gini = 0.0\\\\nsamples = 1\\\\nvalue = [0, 0, 0, 0, 0, 1, 0]\", fillcolor=\"#b139e5\"] ;\\n1868 -> 1870 ;\\n1871 [label=\"valence <= 0.647\\\\ngini = 0.384\\\\nsamples = 12\\\\nvalue = [0, 2, 0, 0, 17, 2, 1]\", fillcolor=\"#6a80ec\"] ;\\n1849 -> 1871 ;\\n1872 [label=\"tempo <= 106.457\\\\ngini = 0.64\\\\nsamples = 4\\\\nvalue = [0, 2, 0, 0, 0, 2, 1]\", fillcolor=\"#ffffff\"] ;\\n1871 -> 1872 ;\\n1873 [label=\"liveness <= 0.202\\\\ngini = 0.444\\\\nsamples = 3\\\\nvalue = [0, 0, 0, 0, 0, 2, 1]\", fillcolor=\"#d89cf2\"] ;\\n1872 -> 1873 ;\\n1874 [label=\"gini = 0.0\\\\nsamples = 2\\\\nvalue = [0, 0, 0, 0, 0, 2, 0]\", fillcolor=\"#b139e5\"] ;\\n1873 -> 1874 ;\\n1875 [label=\"gini = 0.0\\\\nsamples = 1\\\\nvalue = [0, 0, 0, 0, 0, 0, 1]\", fillcolor=\"#e53986\"] ;\\n1873 -> 1875 ;\\n1876 [label=\"gini = 0.0\\\\nsamples = 1\\\\nvalue = [0, 2, 0, 0, 0, 0, 0]\", fillcolor=\"#b7e539\"] ;\\n1872 -> 1876 ;\\n1877 [label=\"gini = 0.0\\\\nsamples = 8\\\\nvalue = [0, 0, 0, 0, 17, 0, 0]\", fillcolor=\"#3956e5\"] ;\\n1871 -> 1877 ;\\n1878 [label=\"tempo <= 110.024\\\\ngini = 0.52\\\\nsamples = 124\\\\nvalue = [1, 0, 24, 3, 133, 17, 21]\", fillcolor=\"#8496ef\"] ;\\n1632 -> 1878 ;\\n1879 [label=\"valence <= 0.287\\\\ngini = 0.296\\\\nsamples = 84\\\\nvalue = [1, 0, 9, 0, 110, 4, 8]\", fillcolor=\"#5c74ea\"] ;\\n1878 -> 1879 ;\\n1880 [label=\"acousticness <= 0.566\\\\ngini = 0.688\\\\nsamples = 5\\\\nvalue = [0, 0, 3, 0, 1, 1, 3]\", fillcolor=\"#ffffff\"] ;\\n1879 -> 1880 ;\\n1881 [label=\"valence <= 0.128\\\\ngini = 0.56\\\\nsamples = 4\\\\nvalue = [0, 0, 3, 0, 1, 1, 0]\", fillcolor=\"#9cf2a6\"] ;\\n1880 -> 1881 ;\\n1882 [label=\"gini = 0.0\\\\nsamples = 1\\\\nvalue = [0, 0, 0, 0, 0, 1, 0]\", fillcolor=\"#b139e5\"] ;\\n1881 -> 1882 ;\\n1883 [label=\"tempo <= 89.49\\\\ngini = 0.375\\\\nsamples = 3\\\\nvalue = [0, 0, 3, 0, 1, 0, 0]\", fillcolor=\"#7bee88\"] ;\\n1881 -> 1883 ;\\n1884 [label=\"gini = 0.0\\\\nsamples = 1\\\\nvalue = [0, 0, 0, 0, 1, 0, 0]\", fillcolor=\"#3956e5\"] ;\\n1883 -> 1884 ;\\n1885 [label=\"gini = 0.0\\\\nsamples = 2\\\\nvalue = [0, 0, 3, 0, 0, 0, 0]\", fillcolor=\"#39e54d\"] ;\\n1883 -> 1885 ;\\n1886 [label=\"gini = 0.0\\\\nsamples = 1\\\\nvalue = [0, 0, 0, 0, 0, 0, 3]\", fillcolor=\"#e53986\"] ;\\n1880 -> 1886 ;\\n1887 [label=\"acousticness <= 0.491\\\\ngini = 0.223\\\\nsamples = 79\\\\nvalue = [1, 0, 6, 0, 109, 3, 5]\", fillcolor=\"#526be8\"] ;\\n1879 -> 1887 ;\\n1888 [label=\"liveness <= 0.061\\\\ngini = 0.131\\\\nsamples = 55\\\\nvalue = [0, 0, 1, 0, 81, 3, 2]\", fillcolor=\"#4762e7\"] ;\\n1887 -> 1888 ;\\n1889 [label=\"loudness <= -12.417\\\\ngini = 0.48\\\\nsamples = 3\\\\nvalue = [0, 0, 0, 0, 3, 0, 2]\", fillcolor=\"#bdc7f6\"] ;\\n1888 -> 1889 ;\\n1890 [label=\"gini = 0.0\\\\nsamples = 1\\\\nvalue = [0, 0, 0, 0, 0, 0, 2]\", fillcolor=\"#e53986\"] ;\\n1889 -> 1890 ;\\n1891 [label=\"gini = 0.0\\\\nsamples = 2\\\\nvalue = [0, 0, 0, 0, 3, 0, 0]\", fillcolor=\"#3956e5\"] ;\\n1889 -> 1891 ;\\n1892 [label=\"valence <= 0.327\\\\ngini = 0.094\\\\nsamples = 52\\\\nvalue = [0, 0, 1, 0, 78, 3, 0]\", fillcolor=\"#435fe6\"] ;\\n1888 -> 1892 ;\\n1893 [label=\"popularity <= 52.198\\\\ngini = 0.408\\\\nsamples = 4\\\\nvalue = [0, 0, 0, 0, 5, 2, 0]\", fillcolor=\"#889aef\"] ;\\n1892 -> 1893 ;\\n1894 [label=\"gini = 0.0\\\\nsamples = 2\\\\nvalue = [0, 0, 0, 0, 5, 0, 0]\", fillcolor=\"#3956e5\"] ;\\n1893 -> 1894 ;\\n1895 [label=\"gini = 0.0\\\\nsamples = 2\\\\nvalue = [0, 0, 0, 0, 0, 2, 0]\", fillcolor=\"#b139e5\"] ;\\n1893 -> 1895 ;\\n1896 [label=\"popularity <= 72.48\\\\ngini = 0.052\\\\nsamples = 48\\\\nvalue = [0, 0, 1, 0, 73, 1, 0]\", fillcolor=\"#3e5be6\"] ;\\n1892 -> 1896 ;\\n1897 [label=\"danceability <= 0.749\\\\ngini = 0.027\\\\nsamples = 47\\\\nvalue = [0, 0, 1, 0, 73, 0, 0]\", fillcolor=\"#3c58e5\"] ;\\n1896 -> 1897 ;\\n1898 [label=\"loudness <= -11.032\\\\ngini = 0.32\\\\nsamples = 3\\\\nvalue = [0, 0, 1, 0, 4, 0, 0]\", fillcolor=\"#6a80ec\"] ;\\n1897 -> 1898 ;\\n1899 [label=\"gini = 0.0\\\\nsamples = 1\\\\nvalue = [0, 0, 1, 0, 0, 0, 0]\", fillcolor=\"#39e54d\"] ;\\n1898 -> 1899 ;\\n1900 [label=\"gini = 0.0\\\\nsamples = 2\\\\nvalue = [0, 0, 0, 0, 4, 0, 0]\", fillcolor=\"#3956e5\"] ;\\n1898 -> 1900 ;\\n1901 [label=\"gini = 0.0\\\\nsamples = 44\\\\nvalue = [0, 0, 0, 0, 69, 0, 0]\", fillcolor=\"#3956e5\"] ;\\n1897 -> 1901 ;\\n1902 [label=\"gini = 0.0\\\\nsamples = 1\\\\nvalue = [0, 0, 0, 0, 0, 1, 0]\", fillcolor=\"#b139e5\"] ;\\n1896 -> 1902 ;\\n1903 [label=\"loudness <= -8.308\\\\ngini = 0.402\\\\nsamples = 24\\\\nvalue = [1, 0, 5, 0, 28, 0, 3]\", fillcolor=\"#7186ec\"] ;\\n1887 -> 1903 ;\\n1904 [label=\"danceability <= 0.748\\\\ngini = 0.19\\\\nsamples = 19\\\\nvalue = [1, 0, 0, 0, 26, 0, 2]\", fillcolor=\"#4f69e8\"] ;\\n1903 -> 1904 ;\\n1905 [label=\"gini = 0.0\\\\nsamples = 1\\\\nvalue = [0, 0, 0, 0, 0, 0, 2]\", fillcolor=\"#e53986\"] ;\\n1904 -> 1905 ;\\n1906 [label=\"instrumentalness <= 0.982\\\\ngini = 0.071\\\\nsamples = 18\\\\nvalue = [1, 0, 0, 0, 26, 0, 0]\", fillcolor=\"#415de6\"] ;\\n1904 -> 1906 ;\\n1907 [label=\"gini = 0.0\\\\nsamples = 13\\\\nvalue = [0, 0, 0, 0, 19, 0, 0]\", fillcolor=\"#3956e5\"] ;\\n1906 -> 1907 ;\\n1908 [label=\"acousticness <= 0.857\\\\ngini = 0.219\\\\nsamples = 5\\\\nvalue = [1, 0, 0, 0, 7, 0, 0]\", fillcolor=\"#556ee9\"] ;\\n1906 -> 1908 ;\\n1909 [label=\"liveness <= 0.093\\\\ngini = 0.375\\\\nsamples = 4\\\\nvalue = [1, 0, 0, 0, 3, 0, 0]\", fillcolor=\"#7b8eee\"] ;\\n1908 -> 1909 ;\\n1910 [label=\"gini = 0.0\\\\nsamples = 1\\\\nvalue = [1, 0, 0, 0, 0, 0, 0]\", fillcolor=\"#e58139\"] ;\\n1909 -> 1910 ;\\n1911 [label=\"gini = 0.0\\\\nsamples = 3\\\\nvalue = [0, 0, 0, 0, 3, 0, 0]\", fillcolor=\"#3956e5\"] ;\\n1909 -> 1911 ;\\n1912 [label=\"gini = 0.0\\\\nsamples = 1\\\\nvalue = [0, 0, 0, 0, 4, 0, 0]\", fillcolor=\"#3956e5\"] ;\\n1908 -> 1912 ;\\n1913 [label=\"energy <= 0.728\\\\ngini = 0.531\\\\nsamples = 5\\\\nvalue = [0, 0, 5, 0, 2, 0, 1]\", fillcolor=\"#9cf2a6\"] ;\\n1903 -> 1913 ;\\n1914 [label=\"popularity <= 38.886\\\\ngini = 0.278\\\\nsamples = 3\\\\nvalue = [0, 0, 5, 0, 1, 0, 0]\", fillcolor=\"#61ea71\"] ;\\n1913 -> 1914 ;\\n1915 [label=\"gini = 0.0\\\\nsamples = 1\\\\nvalue = [0, 0, 0, 0, 1, 0, 0]\", fillcolor=\"#3956e5\"] ;\\n1914 -> 1915 ;\\n1916 [label=\"gini = 0.0\\\\nsamples = 2\\\\nvalue = [0, 0, 5, 0, 0, 0, 0]\", fillcolor=\"#39e54d\"] ;\\n1914 -> 1916 ;\\n1917 [label=\"duration_ms <= 268079.844\\\\ngini = 0.5\\\\nsamples = 2\\\\nvalue = [0, 0, 0, 0, 1, 0, 1]\", fillcolor=\"#ffffff\"] ;\\n1913 -> 1917 ;\\n1918 [label=\"gini = 0.0\\\\nsamples = 1\\\\nvalue = [0, 0, 0, 0, 0, 0, 1]\", fillcolor=\"#e53986\"] ;\\n1917 -> 1918 ;\\n1919 [label=\"gini = 0.0\\\\nsamples = 1\\\\nvalue = [0, 0, 0, 0, 1, 0, 0]\", fillcolor=\"#3956e5\"] ;\\n1917 -> 1919 ;\\n1920 [label=\"popularity <= 51.758\\\\ngini = 0.755\\\\nsamples = 40\\\\nvalue = [0, 0, 15, 3, 23, 13, 13]\", fillcolor=\"#e1e5fb\"] ;\\n1878 -> 1920 ;\\n1921 [label=\"loudness <= -5.33\\\\ngini = 0.482\\\\nsamples = 23\\\\nvalue = [0, 0, 15, 0, 22, 0, 0]\", fillcolor=\"#c0c9f7\"] ;\\n1920 -> 1921 ;\\n1922 [label=\"liveness <= 0.093\\\\ngini = 0.498\\\\nsamples = 19\\\\nvalue = [0, 0, 15, 0, 17, 0, 0]\", fillcolor=\"#e8ebfc\"] ;\\n1921 -> 1922 ;\\n1923 [label=\"gini = 0.0\\\\nsamples = 6\\\\nvalue = [0, 0, 0, 0, 9, 0, 0]\", fillcolor=\"#3956e5\"] ;\\n1922 -> 1923 ;\\n1924 [label=\"danceability <= 0.856\\\\ngini = 0.454\\\\nsamples = 13\\\\nvalue = [0, 0, 15, 0, 8, 0, 0]\", fillcolor=\"#a3f3ac\"] ;\\n1922 -> 1924 ;\\n1925 [label=\"valence <= 0.585\\\\ngini = 0.5\\\\nsamples = 11\\\\nvalue = [0, 0, 8, 0, 8, 0, 0]\", fillcolor=\"#ffffff\"] ;\\n1924 -> 1925 ;\\n1926 [label=\"valence <= 0.404\\\\ngini = 0.346\\\\nsamples = 7\\\\nvalue = [0, 0, 7, 0, 2, 0, 0]\", fillcolor=\"#72ec80\"] ;\\n1925 -> 1926 ;\\n1927 [label=\"instrumentalness <= 0.878\\\\ngini = 0.48\\\\nsamples = 4\\\\nvalue = [0, 0, 3, 0, 2, 0, 0]\", fillcolor=\"#bdf6c4\"] ;\\n1926 -> 1927 ;\\n1928 [label=\"gini = 0.0\\\\nsamples = 2\\\\nvalue = [0, 0, 0, 0, 2, 0, 0]\", fillcolor=\"#3956e5\"] ;\\n1927 -> 1928 ;\\n1929 [label=\"gini = 0.0\\\\nsamples = 2\\\\nvalue = [0, 0, 3, 0, 0, 0, 0]\", fillcolor=\"#39e54d\"] ;\\n1927 -> 1929 ;\\n1930 [label=\"gini = 0.0\\\\nsamples = 3\\\\nvalue = [0, 0, 4, 0, 0, 0, 0]\", fillcolor=\"#39e54d\"] ;\\n1926 -> 1930 ;\\n1931 [label=\"duration_ms <= 268572.477\\\\ngini = 0.245\\\\nsamples = 4\\\\nvalue = [0, 0, 1, 0, 6, 0, 0]\", fillcolor=\"#5a72e9\"] ;\\n1925 -> 1931 ;\\n1932 [label=\"gini = 0.0\\\\nsamples = 3\\\\nvalue = [0, 0, 0, 0, 6, 0, 0]\", fillcolor=\"#3956e5\"] ;\\n1931 -> 1932 ;\\n1933 [label=\"gini = 0.0\\\\nsamples = 1\\\\nvalue = [0, 0, 1, 0, 0, 0, 0]\", fillcolor=\"#39e54d\"] ;\\n1931 -> 1933 ;\\n1934 [label=\"gini = 0.0\\\\nsamples = 2\\\\nvalue = [0, 0, 7, 0, 0, 0, 0]\", fillcolor=\"#39e54d\"] ;\\n1924 -> 1934 ;\\n1935 [label=\"gini = 0.0\\\\nsamples = 4\\\\nvalue = [0, 0, 0, 0, 5, 0, 0]\", fillcolor=\"#3956e5\"] ;\\n1921 -> 1935 ;\\n1936 [label=\"tempo <= 132.412\\\\ngini = 0.613\\\\nsamples = 17\\\\nvalue = [0, 0, 0, 3, 1, 13, 13]\", fillcolor=\"#ffffff\"] ;\\n1920 -> 1936 ;\\n1937 [label=\"liveness <= 0.081\\\\ngini = 0.558\\\\nsamples = 13\\\\nvalue = [0, 0, 0, 3, 1, 4, 13]\", fillcolor=\"#f196bf\"] ;\\n1936 -> 1937 ;\\n1938 [label=\"liveness <= 0.071\\\\ngini = 0.5\\\\nsamples = 2\\\\nvalue = [0, 0, 0, 0, 1, 1, 0]\", fillcolor=\"#ffffff\"] ;\\n1937 -> 1938 ;\\n1939 [label=\"gini = 0.0\\\\nsamples = 1\\\\nvalue = [0, 0, 0, 0, 0, 1, 0]\", fillcolor=\"#b139e5\"] ;\\n1938 -> 1939 ;\\n1940 [label=\"gini = 0.0\\\\nsamples = 1\\\\nvalue = [0, 0, 0, 0, 1, 0, 0]\", fillcolor=\"#3956e5\"] ;\\n1938 -> 1940 ;\\n1941 [label=\"duration_ms <= 280609.781\\\\ngini = 0.482\\\\nsamples = 11\\\\nvalue = [0, 0, 0, 3, 0, 3, 13]\", fillcolor=\"#ef83b3\"] ;\\n1937 -> 1941 ;\\n1942 [label=\"valence <= 0.387\\\\ngini = 0.305\\\\nsamples = 9\\\\nvalue = [0, 0, 0, 3, 0, 0, 13]\", fillcolor=\"#eb67a2\"] ;\\n1941 -> 1942 ;\\n1943 [label=\"gini = 0.0\\\\nsamples = 1\\\\nvalue = [0, 0, 0, 2, 0, 0, 0]\", fillcolor=\"#39e5e2\"] ;\\n1942 -> 1943 ;\\n1944 [label=\"instrumentalness <= 0.305\\\\ngini = 0.133\\\\nsamples = 8\\\\nvalue = [0, 0, 0, 1, 0, 0, 13]\", fillcolor=\"#e7488f\"] ;\\n1942 -> 1944 ;\\n1945 [label=\"gini = 0.0\\\\nsamples = 6\\\\nvalue = [0, 0, 0, 0, 0, 0, 11]\", fillcolor=\"#e53986\"] ;\\n1944 -> 1945 ;\\n1946 [label=\"instrumentalness <= 0.49\\\\ngini = 0.444\\\\nsamples = 2\\\\nvalue = [0, 0, 0, 1, 0, 0, 2]\", fillcolor=\"#f29cc2\"] ;\\n1944 -> 1946 ;\\n1947 [label=\"gini = 0.0\\\\nsamples = 1\\\\nvalue = [0, 0, 0, 1, 0, 0, 0]\", fillcolor=\"#39e5e2\"] ;\\n1946 -> 1947 ;\\n1948 [label=\"gini = 0.0\\\\nsamples = 1\\\\nvalue = [0, 0, 0, 0, 0, 0, 2]\", fillcolor=\"#e53986\"] ;\\n1946 -> 1948 ;\\n1949 [label=\"gini = 0.0\\\\nsamples = 2\\\\nvalue = [0, 0, 0, 0, 0, 3, 0]\", fillcolor=\"#b139e5\"] ;\\n1941 -> 1949 ;\\n1950 [label=\"gini = 0.0\\\\nsamples = 4\\\\nvalue = [0, 0, 0, 0, 0, 9, 0]\", fillcolor=\"#b139e5\"] ;\\n1936 -> 1950 ;\\n1951 [label=\"speechiness <= 0.048\\\\ngini = 0.609\\\\nsamples = 88\\\\nvalue = [0, 1, 17, 4, 72, 6, 26]\", fillcolor=\"#a4b1f3\"] ;\\n1631 -> 1951 ;\\n1952 [label=\"loudness <= -6.297\\\\ngini = 0.62\\\\nsamples = 50\\\\nvalue = [0, 1, 4, 4, 36, 2, 23]\", fillcolor=\"#c8d0f8\"] ;\\n1951 -> 1952 ;\\n1953 [label=\"popularity <= 54.528\\\\ngini = 0.605\\\\nsamples = 46\\\\nvalue = [0, 1, 4, 4, 35, 2, 16]\", fillcolor=\"#adb9f4\"] ;\\n1952 -> 1953 ;\\n1954 [label=\"tempo <= 41.827\\\\ngini = 0.327\\\\nsamples = 30\\\\nvalue = [0, 0, 4, 0, 34, 0, 4]\", fillcolor=\"#637aea\"] ;\\n1953 -> 1954 ;\\n1955 [label=\"popularity <= 49.193\\\\ngini = 0.444\\\\nsamples = 2\\\\nvalue = [0, 0, 0, 0, 1, 0, 2]\", fillcolor=\"#f29cc2\"] ;\\n1954 -> 1955 ;\\n1956 [label=\"gini = 0.0\\\\nsamples = 1\\\\nvalue = [0, 0, 0, 0, 1, 0, 0]\", fillcolor=\"#3956e5\"] ;\\n1955 -> 1956 ;\\n1957 [label=\"gini = 0.0\\\\nsamples = 1\\\\nvalue = [0, 0, 0, 0, 0, 0, 2]\", fillcolor=\"#e53986\"] ;\\n1955 -> 1957 ;\\n1958 [label=\"acousticness <= 0.007\\\\ngini = 0.271\\\\nsamples = 28\\\\nvalue = [0, 0, 4, 0, 33, 0, 2]\", fillcolor=\"#5b73e9\"] ;\\n1954 -> 1958 ;\\n1959 [label=\"gini = 0.0\\\\nsamples = 1\\\\nvalue = [0, 0, 1, 0, 0, 0, 0]\", fillcolor=\"#39e54d\"] ;\\n1958 -> 1959 ;\\n1960 [label=\"tempo <= 116.014\\\\ngini = 0.237\\\\nsamples = 27\\\\nvalue = [0, 0, 3, 0, 33, 0, 2]\", fillcolor=\"#556ee9\"] ;\\n1958 -> 1960 ;\\n1961 [label=\"gini = 0.0\\\\nsamples = 14\\\\nvalue = [0, 0, 0, 0, 20, 0, 0]\", fillcolor=\"#3956e5\"] ;\\n1960 -> 1961 ;\\n1962 [label=\"loudness <= -13.523\\\\ngini = 0.438\\\\nsamples = 13\\\\nvalue = [0, 0, 3, 0, 13, 0, 2]\", fillcolor=\"#7b8eee\"] ;\\n1960 -> 1962 ;\\n1963 [label=\"instrumentalness <= 0.543\\\\ngini = 0.5\\\\nsamples = 2\\\\nvalue = [0, 0, 1, 0, 0, 0, 1]\", fillcolor=\"#ffffff\"] ;\\n1962 -> 1963 ;\\n1964 [label=\"gini = 0.0\\\\nsamples = 1\\\\nvalue = [0, 0, 0, 0, 0, 0, 1]\", fillcolor=\"#e53986\"] ;\\n1963 -> 1964 ;\\n1965 [label=\"gini = 0.0\\\\nsamples = 1\\\\nvalue = [0, 0, 1, 0, 0, 0, 0]\", fillcolor=\"#39e54d\"] ;\\n1963 -> 1965 ;\\n1966 [label=\"tempo <= 117.966\\\\ngini = 0.32\\\\nsamples = 11\\\\nvalue = [0, 0, 2, 0, 13, 0, 1]\", fillcolor=\"#637aeb\"] ;\\n1962 -> 1966 ;\\n1967 [label=\"acousticness <= 0.574\\\\ngini = 0.5\\\\nsamples = 2\\\\nvalue = [0, 0, 1, 0, 0, 0, 1]\", fillcolor=\"#ffffff\"] ;\\n1966 -> 1967 ;\\n1968 [label=\"gini = 0.0\\\\nsamples = 1\\\\nvalue = [0, 0, 0, 0, 0, 0, 1]\", fillcolor=\"#e53986\"] ;\\n1967 -> 1968 ;\\n1969 [label=\"gini = 0.0\\\\nsamples = 1\\\\nvalue = [0, 0, 1, 0, 0, 0, 0]\", fillcolor=\"#39e54d\"] ;\\n1967 -> 1969 ;\\n1970 [label=\"loudness <= -12.012\\\\ngini = 0.133\\\\nsamples = 9\\\\nvalue = [0, 0, 1, 0, 13, 0, 0]\", fillcolor=\"#4863e7\"] ;\\n1966 -> 1970 ;\\n1971 [label=\"energy <= 0.504\\\\ngini = 0.444\\\\nsamples = 2\\\\nvalue = [0, 0, 1, 0, 2, 0, 0]\", fillcolor=\"#9caaf2\"] ;\\n1970 -> 1971 ;\\n1972 [label=\"gini = 0.0\\\\nsamples = 1\\\\nvalue = [0, 0, 1, 0, 0, 0, 0]\", fillcolor=\"#39e54d\"] ;\\n1971 -> 1972 ;\\n1973 [label=\"gini = 0.0\\\\nsamples = 1\\\\nvalue = [0, 0, 0, 0, 2, 0, 0]\", fillcolor=\"#3956e5\"] ;\\n1971 -> 1973 ;\\n1974 [label=\"gini = 0.0\\\\nsamples = 7\\\\nvalue = [0, 0, 0, 0, 11, 0, 0]\", fillcolor=\"#3956e5\"] ;\\n1970 -> 1974 ;\\n1975 [label=\"speechiness <= 0.04\\\\ngini = 0.585\\\\nsamples = 16\\\\nvalue = [0, 1, 0, 4, 1, 2, 12]\", fillcolor=\"#f29cc2\"] ;\\n1953 -> 1975 ;\\n1976 [label=\"tempo <= 131.081\\\\ngini = 0.278\\\\nsamples = 10\\\\nvalue = [0, 0, 0, 0, 0, 2, 10]\", fillcolor=\"#ea619e\"] ;\\n1975 -> 1976 ;\\n1977 [label=\"liveness <= 0.286\\\\ngini = 0.165\\\\nsamples = 9\\\\nvalue = [0, 0, 0, 0, 0, 1, 10]\", fillcolor=\"#e84d92\"] ;\\n1976 -> 1977 ;\\n1978 [label=\"gini = 0.0\\\\nsamples = 8\\\\nvalue = [0, 0, 0, 0, 0, 0, 10]\", fillcolor=\"#e53986\"] ;\\n1977 -> 1978 ;\\n1979 [label=\"gini = 0.0\\\\nsamples = 1\\\\nvalue = [0, 0, 0, 0, 0, 1, 0]\", fillcolor=\"#b139e5\"] ;\\n1977 -> 1979 ;\\n1980 [label=\"gini = 0.0\\\\nsamples = 1\\\\nvalue = [0, 0, 0, 0, 0, 1, 0]\", fillcolor=\"#b139e5\"] ;\\n1976 -> 1980 ;\\n1981 [label=\"tempo <= 120.994\\\\ngini = 0.656\\\\nsamples = 6\\\\nvalue = [0, 1, 0, 4, 1, 0, 2]\", fillcolor=\"#bdf6f5\"] ;\\n1975 -> 1981 ;\\n1982 [label=\"gini = 0.0\\\\nsamples = 2\\\\nvalue = [0, 0, 0, 4, 0, 0, 0]\", fillcolor=\"#39e5e2\"] ;\\n1981 -> 1982 ;\\n1983 [label=\"tempo <= 136.052\\\\ngini = 0.625\\\\nsamples = 4\\\\nvalue = [0, 1, 0, 0, 1, 0, 2]\", fillcolor=\"#f6bdd7\"] ;\\n1981 -> 1983 ;\\n1984 [label=\"acousticness <= 0.343\\\\ngini = 0.5\\\\nsamples = 2\\\\nvalue = [0, 1, 0, 0, 1, 0, 0]\", fillcolor=\"#ffffff\"] ;\\n1983 -> 1984 ;\\n1985 [label=\"gini = 0.0\\\\nsamples = 1\\\\nvalue = [0, 0, 0, 0, 1, 0, 0]\", fillcolor=\"#3956e5\"] ;\\n1984 -> 1985 ;\\n1986 [label=\"gini = 0.0\\\\nsamples = 1\\\\nvalue = [0, 1, 0, 0, 0, 0, 0]\", fillcolor=\"#b7e539\"] ;\\n1984 -> 1986 ;\\n1987 [label=\"gini = 0.0\\\\nsamples = 2\\\\nvalue = [0, 0, 0, 0, 0, 0, 2]\", fillcolor=\"#e53986\"] ;\\n1983 -> 1987 ;\\n1988 [label=\"energy <= 0.796\\\\ngini = 0.219\\\\nsamples = 4\\\\nvalue = [0, 0, 0, 0, 1, 0, 7]\", fillcolor=\"#e95597\"] ;\\n1952 -> 1988 ;\\n1989 [label=\"gini = 0.0\\\\nsamples = 3\\\\nvalue = [0, 0, 0, 0, 0, 0, 7]\", fillcolor=\"#e53986\"] ;\\n1988 -> 1989 ;\\n1990 [label=\"gini = 0.0\\\\nsamples = 1\\\\nvalue = [0, 0, 0, 0, 1, 0, 0]\", fillcolor=\"#3956e5\"] ;\\n1988 -> 1990 ;\\n1991 [label=\"popularity <= 74.635\\\\ngini = 0.525\\\\nsamples = 38\\\\nvalue = [0, 0, 13, 0, 36, 4, 3]\", fillcolor=\"#95a5f1\"] ;\\n1951 -> 1991 ;\\n1992 [label=\"duration_ms <= 571745.125\\\\ngini = 0.475\\\\nsamples = 36\\\\nvalue = [0, 0, 13, 0, 36, 1, 3]\", fillcolor=\"#8d9ef0\"] ;\\n1991 -> 1992 ;\\n1993 [label=\"acousticness <= 0.019\\\\ngini = 0.422\\\\nsamples = 34\\\\nvalue = [0, 0, 9, 0, 36, 1, 3]\", fillcolor=\"#798ded\"] ;\\n1992 -> 1993 ;\\n1994 [label=\"speechiness <= 0.056\\\\ngini = 0.494\\\\nsamples = 6\\\\nvalue = [0, 0, 5, 0, 4, 0, 0]\", fillcolor=\"#d7fadb\"] ;\\n1993 -> 1994 ;\\n1995 [label=\"danceability <= 0.788\\\\ngini = 0.444\\\\nsamples = 3\\\\nvalue = [0, 0, 2, 0, 4, 0, 0]\", fillcolor=\"#9caaf2\"] ;\\n1994 -> 1995 ;\\n1996 [label=\"gini = 0.0\\\\nsamples = 1\\\\nvalue = [0, 0, 2, 0, 0, 0, 0]\", fillcolor=\"#39e54d\"] ;\\n1995 -> 1996 ;\\n1997 [label=\"gini = 0.0\\\\nsamples = 2\\\\nvalue = [0, 0, 0, 0, 4, 0, 0]\", fillcolor=\"#3956e5\"] ;\\n1995 -> 1997 ;\\n1998 [label=\"gini = 0.0\\\\nsamples = 3\\\\nvalue = [0, 0, 3, 0, 0, 0, 0]\", fillcolor=\"#39e54d\"] ;\\n1994 -> 1998 ;\\n1999 [label=\"valence <= 0.211\\\\ngini = 0.344\\\\nsamples = 28\\\\nvalue = [0, 0, 4, 0, 32, 1, 3]\", fillcolor=\"#657ceb\"] ;\\n1993 -> 1999 ;\\n2000 [label=\"popularity <= 62.363\\\\ngini = 0.375\\\\nsamples = 3\\\\nvalue = [0, 0, 3, 0, 1, 0, 0]\", fillcolor=\"#7bee88\"] ;\\n1999 -> 2000 ;\\n2001 [label=\"gini = 0.0\\\\nsamples = 2\\\\nvalue = [0, 0, 3, 0, 0, 0, 0]\", fillcolor=\"#39e54d\"] ;\\n2000 -> 2001 ;\\n2002 [label=\"gini = 0.0\\\\nsamples = 1\\\\nvalue = [0, 0, 0, 0, 1, 0, 0]\", fillcolor=\"#3956e5\"] ;\\n2000 -> 2002 ;\\n2003 [label=\"tempo <= 129.015\\\\ngini = 0.25\\\\nsamples = 25\\\\nvalue = [0, 0, 1, 0, 31, 1, 3]\", fillcolor=\"#5770e9\"] ;\\n1999 -> 2003 ;\\n2004 [label=\"popularity <= 54.377\\\\ngini = 0.123\\\\nsamples = 22\\\\nvalue = [0, 0, 1, 0, 29, 1, 0]\", fillcolor=\"#4661e7\"] ;\\n2003 -> 2004 ;\\n2005 [label=\"gini = 0.0\\\\nsamples = 15\\\\nvalue = [0, 0, 0, 0, 23, 0, 0]\", fillcolor=\"#3956e5\"] ;\\n2004 -> 2005 ;\\n2006 [label=\"popularity <= 55.368\\\\ngini = 0.406\\\\nsamples = 7\\\\nvalue = [0, 0, 1, 0, 6, 1, 0]\", fillcolor=\"#7286ec\"] ;\\n2004 -> 2006 ;\\n2007 [label=\"gini = 0.0\\\\nsamples = 1\\\\nvalue = [0, 0, 1, 0, 0, 0, 0]\", fillcolor=\"#39e54d\"] ;\\n2006 -> 2007 ;\\n2008 [label=\"duration_ms <= 432733.125\\\\ngini = 0.245\\\\nsamples = 6\\\\nvalue = [0, 0, 0, 0, 6, 1, 0]\", fillcolor=\"#5a72e9\"] ;\\n2006 -> 2008 ;\\n2009 [label=\"gini = 0.0\\\\nsamples = 4\\\\nvalue = [0, 0, 0, 0, 4, 0, 0]\", fillcolor=\"#3956e5\"] ;\\n2008 -> 2009 ;\\n2010 [label=\"instrumentalness <= 0.453\\\\ngini = 0.444\\\\nsamples = 2\\\\nvalue = [0, 0, 0, 0, 2, 1, 0]\", fillcolor=\"#9caaf2\"] ;\\n2008 -> 2010 ;\\n2011 [label=\"gini = 0.0\\\\nsamples = 1\\\\nvalue = [0, 0, 0, 0, 0, 1, 0]\", fillcolor=\"#b139e5\"] ;\\n2010 -> 2011 ;\\n2012 [label=\"gini = 0.0\\\\nsamples = 1\\\\nvalue = [0, 0, 0, 0, 2, 0, 0]\", fillcolor=\"#3956e5\"] ;\\n2010 -> 2012 ;\\n2013 [label=\"loudness <= -12.438\\\\ngini = 0.48\\\\nsamples = 3\\\\nvalue = [0, 0, 0, 0, 2, 0, 3]\", fillcolor=\"#f6bdd7\"] ;\\n2003 -> 2013 ;\\n2014 [label=\"gini = 0.0\\\\nsamples = 1\\\\nvalue = [0, 0, 0, 0, 2, 0, 0]\", fillcolor=\"#3956e5\"] ;\\n2013 -> 2014 ;\\n2015 [label=\"gini = 0.0\\\\nsamples = 2\\\\nvalue = [0, 0, 0, 0, 0, 0, 3]\", fillcolor=\"#e53986\"] ;\\n2013 -> 2015 ;\\n2016 [label=\"gini = 0.0\\\\nsamples = 2\\\\nvalue = [0, 0, 4, 0, 0, 0, 0]\", fillcolor=\"#39e54d\"] ;\\n1992 -> 2016 ;\\n2017 [label=\"gini = 0.0\\\\nsamples = 2\\\\nvalue = [0, 0, 0, 0, 0, 3, 0]\", fillcolor=\"#b139e5\"] ;\\n1991 -> 2017 ;\\n2018 [label=\"loudness <= -10.72\\\\ngini = 0.459\\\\nsamples = 715\\\\nvalue = [0, 11, 23, 127, 122, 814, 37]\", fillcolor=\"#ca78ed\"] ;\\n1630 -> 2018 ;\\n2019 [label=\"energy <= 0.294\\\\ngini = 0.65\\\\nsamples = 89\\\\nvalue = [0, 4, 6, 9, 50, 69, 8]\", fillcolor=\"#f0d8fa\"] ;\\n2018 -> 2019 ;\\n2020 [label=\"instrumentalness <= 0.001\\\\ngini = 0.464\\\\nsamples = 11\\\\nvalue = [0, 0, 0, 3, 12, 1, 1]\", fillcolor=\"#8092ee\"] ;\\n2019 -> 2020 ;\\n2021 [label=\"loudness <= -12.465\\\\ngini = 0.375\\\\nsamples = 2\\\\nvalue = [0, 0, 0, 3, 1, 0, 0]\", fillcolor=\"#7beeec\"] ;\\n2020 -> 2021 ;\\n2022 [label=\"gini = 0.0\\\\nsamples = 1\\\\nvalue = [0, 0, 0, 3, 0, 0, 0]\", fillcolor=\"#39e5e2\"] ;\\n2021 -> 2022 ;\\n2023 [label=\"gini = 0.0\\\\nsamples = 1\\\\nvalue = [0, 0, 0, 0, 1, 0, 0]\", fillcolor=\"#3956e5\"] ;\\n2021 -> 2023 ;\\n2024 [label=\"acousticness <= 0.277\\\\ngini = 0.272\\\\nsamples = 9\\\\nvalue = [0, 0, 0, 0, 11, 1, 1]\", fillcolor=\"#5a72e9\"] ;\\n2020 -> 2024 ;\\n2025 [label=\"loudness <= -12.713\\\\ngini = 0.444\\\\nsamples = 3\\\\nvalue = [0, 0, 0, 0, 2, 0, 1]\", fillcolor=\"#9caaf2\"] ;\\n2024 -> 2025 ;\\n2026 [label=\"gini = 0.0\\\\nsamples = 1\\\\nvalue = [0, 0, 0, 0, 0, 0, 1]\", fillcolor=\"#e53986\"] ;\\n2025 -> 2026 ;\\n2027 [label=\"gini = 0.0\\\\nsamples = 2\\\\nvalue = [0, 0, 0, 0, 2, 0, 0]\", fillcolor=\"#3956e5\"] ;\\n2025 -> 2027 ;\\n2028 [label=\"valence <= 0.832\\\\ngini = 0.18\\\\nsamples = 6\\\\nvalue = [0, 0, 0, 0, 9, 1, 0]\", fillcolor=\"#4f69e8\"] ;\\n2024 -> 2028 ;\\n2029 [label=\"gini = 0.0\\\\nsamples = 4\\\\nvalue = [0, 0, 0, 0, 5, 0, 0]\", fillcolor=\"#3956e5\"] ;\\n2028 -> 2029 ;\\n2030 [label=\"acousticness <= 0.417\\\\ngini = 0.32\\\\nsamples = 2\\\\nvalue = [0, 0, 0, 0, 4, 1, 0]\", fillcolor=\"#6a80ec\"] ;\\n2028 -> 2030 ;\\n2031 [label=\"gini = 0.0\\\\nsamples = 1\\\\nvalue = [0, 0, 0, 0, 4, 0, 0]\", fillcolor=\"#3956e5\"] ;\\n2030 -> 2031 ;\\n2032 [label=\"gini = 0.0\\\\nsamples = 1\\\\nvalue = [0, 0, 0, 0, 0, 1, 0]\", fillcolor=\"#b139e5\"] ;\\n2030 -> 2032 ;\\n2033 [label=\"loudness <= -14.098\\\\ngini = 0.627\\\\nsamples = 78\\\\nvalue = [0, 4, 6, 6, 38, 68, 7]\", fillcolor=\"#e5bef6\"] ;\\n2019 -> 2033 ;\\n2034 [label=\"instrumentalness <= 0.0\\\\ngini = 0.717\\\\nsamples = 23\\\\nvalue = [0, 0, 3, 4, 15, 9, 4]\", fillcolor=\"#d1d8f9\"] ;\\n2033 -> 2034 ;\\n2035 [label=\"duration_ms <= 231611.0\\\\ngini = 0.58\\\\nsamples = 7\\\\nvalue = [0, 0, 0, 4, 1, 5, 0]\", fillcolor=\"#f2defb\"] ;\\n2034 -> 2035 ;\\n2036 [label=\"gini = 0.0\\\\nsamples = 3\\\\nvalue = [0, 0, 0, 0, 0, 4, 0]\", fillcolor=\"#b139e5\"] ;\\n2035 -> 2036 ;\\n2037 [label=\"speechiness <= 0.281\\\\ngini = 0.5\\\\nsamples = 4\\\\nvalue = [0, 0, 0, 4, 1, 1, 0]\", fillcolor=\"#88efee\"] ;\\n2035 -> 2037 ;\\n2038 [label=\"gini = 0.0\\\\nsamples = 2\\\\nvalue = [0, 0, 0, 4, 0, 0, 0]\", fillcolor=\"#39e5e2\"] ;\\n2037 -> 2038 ;\\n2039 [label=\"energy <= 0.377\\\\ngini = 0.5\\\\nsamples = 2\\\\nvalue = [0, 0, 0, 0, 1, 1, 0]\", fillcolor=\"#ffffff\"] ;\\n2037 -> 2039 ;\\n2040 [label=\"gini = 0.0\\\\nsamples = 1\\\\nvalue = [0, 0, 0, 0, 0, 1, 0]\", fillcolor=\"#b139e5\"] ;\\n2039 -> 2040 ;\\n2041 [label=\"gini = 0.0\\\\nsamples = 1\\\\nvalue = [0, 0, 0, 0, 1, 0, 0]\", fillcolor=\"#3956e5\"] ;\\n2039 -> 2041 ;\\n2042 [label=\"tempo <= 84.625\\\\ngini = 0.621\\\\nsamples = 16\\\\nvalue = [0, 0, 3, 0, 14, 4, 4]\", fillcolor=\"#a1aff3\"] ;\\n2034 -> 2042 ;\\n2043 [label=\"valence <= 0.835\\\\ngini = 0.56\\\\nsamples = 4\\\\nvalue = [0, 0, 3, 0, 1, 0, 1]\", fillcolor=\"#9cf2a6\"] ;\\n2042 -> 2043 ;\\n2044 [label=\"gini = 0.0\\\\nsamples = 2\\\\nvalue = [0, 0, 3, 0, 0, 0, 0]\", fillcolor=\"#39e54d\"] ;\\n2043 -> 2044 ;\\n2045 [label=\"liveness <= 0.096\\\\ngini = 0.5\\\\nsamples = 2\\\\nvalue = [0, 0, 0, 0, 1, 0, 1]\", fillcolor=\"#ffffff\"] ;\\n2043 -> 2045 ;\\n2046 [label=\"gini = 0.0\\\\nsamples = 1\\\\nvalue = [0, 0, 0, 0, 1, 0, 0]\", fillcolor=\"#3956e5\"] ;\\n2045 -> 2046 ;\\n2047 [label=\"gini = 0.0\\\\nsamples = 1\\\\nvalue = [0, 0, 0, 0, 0, 0, 1]\", fillcolor=\"#e53986\"] ;\\n2045 -> 2047 ;\\n2048 [label=\"liveness <= 0.189\\\\ngini = 0.515\\\\nsamples = 12\\\\nvalue = [0, 0, 0, 0, 13, 4, 3]\", fillcolor=\"#90a0f0\"] ;\\n2042 -> 2048 ;\\n2049 [label=\"gini = 0.0\\\\nsamples = 6\\\\nvalue = [0, 0, 0, 0, 8, 0, 0]\", fillcolor=\"#3956e5\"] ;\\n2048 -> 2049 ;\\n2050 [label=\"valence <= 0.867\\\\ngini = 0.653\\\\nsamples = 6\\\\nvalue = [0, 0, 0, 0, 5, 4, 3]\", fillcolor=\"#e6eafc\"] ;\\n2048 -> 2050 ;\\n2051 [label=\"energy <= 0.385\\\\ngini = 0.408\\\\nsamples = 4\\\\nvalue = [0, 0, 0, 0, 5, 2, 0]\", fillcolor=\"#889aef\"] ;\\n2050 -> 2051 ;\\n2052 [label=\"gini = 0.0\\\\nsamples = 1\\\\nvalue = [0, 0, 0, 0, 0, 2, 0]\", fillcolor=\"#b139e5\"] ;\\n2051 -> 2052 ;\\n2053 [label=\"gini = 0.0\\\\nsamples = 3\\\\nvalue = [0, 0, 0, 0, 5, 0, 0]\", fillcolor=\"#3956e5\"] ;\\n2051 -> 2053 ;\\n2054 [label=\"liveness <= 0.237\\\\ngini = 0.48\\\\nsamples = 2\\\\nvalue = [0, 0, 0, 0, 0, 2, 3]\", fillcolor=\"#f6bdd7\"] ;\\n2050 -> 2054 ;\\n2055 [label=\"gini = 0.0\\\\nsamples = 1\\\\nvalue = [0, 0, 0, 0, 0, 0, 3]\", fillcolor=\"#e53986\"] ;\\n2054 -> 2055 ;\\n2056 [label=\"gini = 0.0\\\\nsamples = 1\\\\nvalue = [0, 0, 0, 0, 0, 2, 0]\", fillcolor=\"#b139e5\"] ;\\n2054 -> 2056 ;\\n2057 [label=\"valence <= 0.836\\\\ngini = 0.542\\\\nsamples = 55\\\\nvalue = [0, 4, 3, 2, 23, 59, 3]\", fillcolor=\"#d79bf2\"] ;\\n2033 -> 2057 ;\\n2058 [label=\"instrumentalness <= 0.0\\\\ngini = 0.454\\\\nsamples = 46\\\\nvalue = [0, 2, 2, 2, 14, 58, 3]\", fillcolor=\"#cc7dee\"] ;\\n2057 -> 2058 ;\\n2059 [label=\"acousticness <= 0.015\\\\ngini = 0.206\\\\nsamples = 32\\\\nvalue = [0, 2, 0, 2, 2, 48, 0]\", fillcolor=\"#ba50e8\"] ;\\n2058 -> 2059 ;\\n2060 [label=\"gini = 0.0\\\\nsamples = 2\\\\nvalue = [0, 0, 0, 2, 0, 0, 0]\", fillcolor=\"#39e5e2\"] ;\\n2059 -> 2060 ;\\n2061 [label=\"duration_ms <= 150272.375\\\\ngini = 0.145\\\\nsamples = 30\\\\nvalue = [0, 2, 0, 0, 2, 48, 0]\", fillcolor=\"#b749e7\"] ;\\n2059 -> 2061 ;\\n2062 [label=\"loudness <= -13.396\\\\ngini = 0.5\\\\nsamples = 9\\\\nvalue = [0, 2, 0, 0, 2, 8, 0]\", fillcolor=\"#d088ef\"] ;\\n2061 -> 2062 ;\\n2063 [label=\"gini = 0.0\\\\nsamples = 1\\\\nvalue = [0, 2, 0, 0, 0, 0, 0]\", fillcolor=\"#b7e539\"] ;\\n2062 -> 2063 ;\\n2064 [label=\"popularity <= 49.976\\\\ngini = 0.32\\\\nsamples = 8\\\\nvalue = [0, 0, 0, 0, 2, 8, 0]\", fillcolor=\"#c46aec\"] ;\\n2062 -> 2064 ;\\n2065 [label=\"gini = 0.0\\\\nsamples = 2\\\\nvalue = [0, 0, 0, 0, 2, 0, 0]\", fillcolor=\"#3956e5\"] ;\\n2064 -> 2065 ;\\n2066 [label=\"gini = 0.0\\\\nsamples = 6\\\\nvalue = [0, 0, 0, 0, 0, 8, 0]\", fillcolor=\"#b139e5\"] ;\\n2064 -> 2066 ;\\n2067 [label=\"gini = 0.0\\\\nsamples = 21\\\\nvalue = [0, 0, 0, 0, 0, 40, 0]\", fillcolor=\"#b139e5\"] ;\\n2061 -> 2067 ;\\n2068 [label=\"speechiness <= 0.248\\\\ngini = 0.647\\\\nsamples = 14\\\\nvalue = [0, 0, 2, 0, 12, 10, 3]\", fillcolor=\"#e8ebfc\"] ;\\n2058 -> 2068 ;\\n2069 [label=\"popularity <= 40.969\\\\ngini = 0.554\\\\nsamples = 10\\\\nvalue = [0, 0, 2, 0, 12, 2, 3]\", fillcolor=\"#90a0f0\"] ;\\n2068 -> 2069 ;\\n2070 [label=\"gini = 0.0\\\\nsamples = 1\\\\nvalue = [0, 0, 2, 0, 0, 0, 0]\", fillcolor=\"#39e54d\"] ;\\n2069 -> 2070 ;\\n2071 [label=\"loudness <= -11.728\\\\ngini = 0.457\\\\nsamples = 9\\\\nvalue = [0, 0, 0, 0, 12, 2, 3]\", fillcolor=\"#8092ee\"] ;\\n2069 -> 2071 ;\\n2072 [label=\"loudness <= -12.174\\\\ngini = 0.56\\\\nsamples = 3\\\\nvalue = [0, 0, 0, 0, 1, 1, 3]\", fillcolor=\"#f29cc2\"] ;\\n2071 -> 2072 ;\\n2073 [label=\"instrumentalness <= 0.105\\\\ngini = 0.5\\\\nsamples = 2\\\\nvalue = [0, 0, 0, 0, 1, 1, 0]\", fillcolor=\"#ffffff\"] ;\\n2072 -> 2073 ;\\n2074 [label=\"gini = 0.0\\\\nsamples = 1\\\\nvalue = [0, 0, 0, 0, 1, 0, 0]\", fillcolor=\"#3956e5\"] ;\\n2073 -> 2074 ;\\n2075 [label=\"gini = 0.0\\\\nsamples = 1\\\\nvalue = [0, 0, 0, 0, 0, 1, 0]\", fillcolor=\"#b139e5\"] ;\\n2073 -> 2075 ;\\n2076 [label=\"gini = 0.0\\\\nsamples = 1\\\\nvalue = [0, 0, 0, 0, 0, 0, 3]\", fillcolor=\"#e53986\"] ;\\n2072 -> 2076 ;\\n2077 [label=\"liveness <= 0.115\\\\ngini = 0.153\\\\nsamples = 6\\\\nvalue = [0, 0, 0, 0, 11, 1, 0]\", fillcolor=\"#4b65e7\"] ;\\n2071 -> 2077 ;\\n2078 [label=\"gini = 0.0\\\\nsamples = 5\\\\nvalue = [0, 0, 0, 0, 11, 0, 0]\", fillcolor=\"#3956e5\"] ;\\n2077 -> 2078 ;\\n2079 [label=\"gini = 0.0\\\\nsamples = 1\\\\nvalue = [0, 0, 0, 0, 0, 1, 0]\", fillcolor=\"#b139e5\"] ;\\n2077 -> 2079 ;\\n2080 [label=\"gini = 0.0\\\\nsamples = 4\\\\nvalue = [0, 0, 0, 0, 0, 8, 0]\", fillcolor=\"#b139e5\"] ;\\n2068 -> 2080 ;\\n2081 [label=\"liveness <= 0.165\\\\ngini = 0.485\\\\nsamples = 9\\\\nvalue = [0, 2, 1, 0, 9, 1, 0]\", fillcolor=\"#8193ee\"] ;\\n2057 -> 2081 ;\\n2082 [label=\"gini = 0.0\\\\nsamples = 5\\\\nvalue = [0, 0, 0, 0, 8, 0, 0]\", fillcolor=\"#3956e5\"] ;\\n2081 -> 2082 ;\\n2083 [label=\"valence <= 1.023\\\\ngini = 0.72\\\\nsamples = 4\\\\nvalue = [0, 2, 1, 0, 1, 1, 0]\", fillcolor=\"#edf8ce\"] ;\\n2081 -> 2083 ;\\n2084 [label=\"danceability <= 0.842\\\\ngini = 0.667\\\\nsamples = 3\\\\nvalue = [0, 0, 1, 0, 1, 1, 0]\", fillcolor=\"#ffffff\"] ;\\n2083 -> 2084 ;\\n2085 [label=\"gini = 0.0\\\\nsamples = 1\\\\nvalue = [0, 0, 0, 0, 0, 1, 0]\", fillcolor=\"#b139e5\"] ;\\n2084 -> 2085 ;\\n2086 [label=\"duration_ms <= 291864.633\\\\ngini = 0.5\\\\nsamples = 2\\\\nvalue = [0, 0, 1, 0, 1, 0, 0]\", fillcolor=\"#ffffff\"] ;\\n2084 -> 2086 ;\\n2087 [label=\"gini = 0.0\\\\nsamples = 1\\\\nvalue = [0, 0, 0, 0, 1, 0, 0]\", fillcolor=\"#3956e5\"] ;\\n2086 -> 2087 ;\\n2088 [label=\"gini = 0.0\\\\nsamples = 1\\\\nvalue = [0, 0, 1, 0, 0, 0, 0]\", fillcolor=\"#39e54d\"] ;\\n2086 -> 2088 ;\\n2089 [label=\"gini = 0.0\\\\nsamples = 1\\\\nvalue = [0, 2, 0, 0, 0, 0, 0]\", fillcolor=\"#b7e539\"] ;\\n2083 -> 2089 ;\\n2090 [label=\"instrumentalness <= 0.293\\\\ngini = 0.411\\\\nsamples = 626\\\\nvalue = [0, 7, 17, 118, 72, 745, 29]\", fillcolor=\"#c770ec\"] ;\\n2018 -> 2090 ;\\n2091 [label=\"popularity <= 49.713\\\\ngini = 0.357\\\\nsamples = 594\\\\nvalue = [0, 7, 12, 116, 33, 745, 29]\", fillcolor=\"#c468eb\"] ;\\n2090 -> 2091 ;\\n2092 [label=\"acousticness <= 0.012\\\\ngini = 0.546\\\\nsamples = 31\\\\nvalue = [0, 6, 8, 1, 25, 0, 0]\", fillcolor=\"#96a5f1\"] ;\\n2091 -> 2092 ;\\n2093 [label=\"instrumentalness <= 0.001\\\\ngini = 0.5\\\\nsamples = 2\\\\nvalue = [0, 2, 2, 0, 0, 0, 0]\", fillcolor=\"#ffffff\"] ;\\n2092 -> 2093 ;\\n2094 [label=\"gini = 0.0\\\\nsamples = 1\\\\nvalue = [0, 2, 0, 0, 0, 0, 0]\", fillcolor=\"#b7e539\"] ;\\n2093 -> 2094 ;\\n2095 [label=\"gini = 0.0\\\\nsamples = 1\\\\nvalue = [0, 0, 2, 0, 0, 0, 0]\", fillcolor=\"#39e54d\"] ;\\n2093 -> 2095 ;\\n2096 [label=\"valence <= 0.558\\\\ngini = 0.477\\\\nsamples = 29\\\\nvalue = [0, 4, 6, 1, 25, 0, 0]\", fillcolor=\"#8294ef\"] ;\\n2092 -> 2096 ;\\n2097 [label=\"energy <= 0.635\\\\ngini = 0.645\\\\nsamples = 9\\\\nvalue = [0, 3, 5, 0, 3, 0, 0]\", fillcolor=\"#cef8d2\"] ;\\n2096 -> 2097 ;\\n2098 [label=\"energy <= -0.282\\\\ngini = 0.375\\\\nsamples = 4\\\\nvalue = [0, 0, 1, 0, 3, 0, 0]\", fillcolor=\"#7b8eee\"] ;\\n2097 -> 2098 ;\\n2099 [label=\"gini = 0.0\\\\nsamples = 1\\\\nvalue = [0, 0, 1, 0, 0, 0, 0]\", fillcolor=\"#39e54d\"] ;\\n2098 -> 2099 ;\\n2100 [label=\"gini = 0.0\\\\nsamples = 3\\\\nvalue = [0, 0, 0, 0, 3, 0, 0]\", fillcolor=\"#3956e5\"] ;\\n2098 -> 2100 ;\\n2101 [label=\"instrumentalness <= 0.001\\\\ngini = 0.49\\\\nsamples = 5\\\\nvalue = [0, 3, 4, 0, 0, 0, 0]\", fillcolor=\"#cef8d2\"] ;\\n2097 -> 2101 ;\\n2102 [label=\"tempo <= 84.531\\\\ngini = 0.375\\\\nsamples = 3\\\\nvalue = [0, 3, 1, 0, 0, 0, 0]\", fillcolor=\"#cfee7b\"] ;\\n2101 -> 2102 ;\\n2103 [label=\"gini = 0.0\\\\nsamples = 1\\\\nvalue = [0, 0, 1, 0, 0, 0, 0]\", fillcolor=\"#39e54d\"] ;\\n2102 -> 2103 ;\\n2104 [label=\"gini = 0.0\\\\nsamples = 2\\\\nvalue = [0, 3, 0, 0, 0, 0, 0]\", fillcolor=\"#b7e539\"] ;\\n2102 -> 2104 ;\\n2105 [label=\"gini = 0.0\\\\nsamples = 2\\\\nvalue = [0, 0, 3, 0, 0, 0, 0]\", fillcolor=\"#39e54d\"] ;\\n2101 -> 2105 ;\\n2106 [label=\"liveness <= 0.098\\\\ngini = 0.221\\\\nsamples = 20\\\\nvalue = [0, 1, 1, 1, 22, 0, 0]\", fillcolor=\"#526be8\"] ;\\n2096 -> 2106 ;\\n2107 [label=\"liveness <= 0.095\\\\ngini = 0.406\\\\nsamples = 7\\\\nvalue = [0, 1, 1, 0, 6, 0, 0]\", fillcolor=\"#7286ec\"] ;\\n2106 -> 2107 ;\\n2108 [label=\"gini = 0.0\\\\nsamples = 5\\\\nvalue = [0, 0, 0, 0, 6, 0, 0]\", fillcolor=\"#3956e5\"] ;\\n2107 -> 2108 ;\\n2109 [label=\"duration_ms <= 206205.102\\\\ngini = 0.5\\\\nsamples = 2\\\\nvalue = [0, 1, 1, 0, 0, 0, 0]\", fillcolor=\"#ffffff\"] ;\\n2107 -> 2109 ;\\n2110 [label=\"gini = 0.0\\\\nsamples = 1\\\\nvalue = [0, 0, 1, 0, 0, 0, 0]\", fillcolor=\"#39e54d\"] ;\\n2109 -> 2110 ;\\n2111 [label=\"gini = 0.0\\\\nsamples = 1\\\\nvalue = [0, 1, 0, 0, 0, 0, 0]\", fillcolor=\"#b7e539\"] ;\\n2109 -> 2111 ;\\n2112 [label=\"popularity <= 40.517\\\\ngini = 0.111\\\\nsamples = 13\\\\nvalue = [0, 0, 0, 1, 16, 0, 0]\", fillcolor=\"#4561e7\"] ;\\n2106 -> 2112 ;\\n2113 [label=\"instrumentalness <= 0.004\\\\ngini = 0.245\\\\nsamples = 5\\\\nvalue = [0, 0, 0, 1, 6, 0, 0]\", fillcolor=\"#5a72e9\"] ;\\n2112 -> 2113 ;\\n2114 [label=\"gini = 0.0\\\\nsamples = 4\\\\nvalue = [0, 0, 0, 0, 6, 0, 0]\", fillcolor=\"#3956e5\"] ;\\n2113 -> 2114 ;\\n2115 [label=\"gini = 0.0\\\\nsamples = 1\\\\nvalue = [0, 0, 0, 1, 0, 0, 0]\", fillcolor=\"#39e5e2\"] ;\\n2113 -> 2115 ;\\n2116 [label=\"gini = 0.0\\\\nsamples = 8\\\\nvalue = [0, 0, 0, 0, 10, 0, 0]\", fillcolor=\"#3956e5\"] ;\\n2112 -> 2116 ;\\n2117 [label=\"loudness <= -5.737\\\\ngini = 0.3\\\\nsamples = 563\\\\nvalue = [0, 1, 4, 115, 8, 745, 29]\", fillcolor=\"#c160ea\"] ;\\n2091 -> 2117 ;\\n2118 [label=\"acousticness <= 0.54\\\\ngini = 0.239\\\\nsamples = 410\\\\nvalue = [0, 1, 4, 69, 6, 560, 7]\", fillcolor=\"#bd57e9\"] ;\\n2117 -> 2118 ;\\n2119 [label=\"popularity <= 54.277\\\\ngini = 0.215\\\\nsamples = 386\\\\nvalue = [0, 1, 4, 59, 5, 540, 4]\", fillcolor=\"#bb53e8\"] ;\\n2118 -> 2119 ;\\n2120 [label=\"popularity <= 53.856\\\\ngini = 0.535\\\\nsamples = 40\\\\nvalue = [0, 0, 3, 15, 4, 37, 0]\", fillcolor=\"#d89cf2\"] ;\\n2119 -> 2120 ;\\n2121 [label=\"danceability <= 0.752\\\\ngini = 0.477\\\\nsamples = 35\\\\nvalue = [0, 0, 3, 10, 3, 36, 0]\", fillcolor=\"#cf84ef\"] ;\\n2120 -> 2121 ;\\n2122 [label=\"gini = 0.0\\\\nsamples = 2\\\\nvalue = [0, 0, 0, 3, 0, 0, 0]\", fillcolor=\"#39e5e2\"] ;\\n2121 -> 2122 ;\\n2123 [label=\"popularity <= 50.642\\\\ngini = 0.432\\\\nsamples = 33\\\\nvalue = [0, 0, 3, 7, 3, 36, 0]\", fillcolor=\"#c976ed\"] ;\\n2121 -> 2123 ;\\n2124 [label=\"instrumentalness <= 0.0\\\\ngini = 0.375\\\\nsamples = 3\\\\nvalue = [0, 0, 0, 3, 0, 1, 0]\", fillcolor=\"#7beeec\"] ;\\n2123 -> 2124 ;\\n2125 [label=\"gini = 0.0\\\\nsamples = 1\\\\nvalue = [0, 0, 0, 0, 0, 1, 0]\", fillcolor=\"#b139e5\"] ;\\n2124 -> 2125 ;\\n2126 [label=\"gini = 0.0\\\\nsamples = 2\\\\nvalue = [0, 0, 0, 3, 0, 0, 0]\", fillcolor=\"#39e5e2\"] ;\\n2124 -> 2126 ;\\n2127 [label=\"loudness <= -6.571\\\\ngini = 0.378\\\\nsamples = 30\\\\nvalue = [0, 0, 3, 4, 3, 35, 0]\", fillcolor=\"#c469eb\"] ;\\n2123 -> 2127 ;\\n2128 [label=\"tempo <= 121.497\\\\ngini = 0.119\\\\nsamples = 23\\\\nvalue = [0, 0, 0, 1, 1, 30, 0]\", fillcolor=\"#b646e7\"] ;\\n2127 -> 2128 ;\\n2129 [label=\"popularity <= 53.434\\\\ngini = 0.194\\\\nsamples = 13\\\\nvalue = [0, 0, 0, 1, 1, 17, 0]\", fillcolor=\"#ba4fe8\"] ;\\n2128 -> 2129 ;\\n2130 [label=\"speechiness <= 0.402\\\\ngini = 0.111\\\\nsamples = 11\\\\nvalue = [0, 0, 0, 0, 1, 16, 0]\", fillcolor=\"#b645e7\"] ;\\n2129 -> 2130 ;\\n2131 [label=\"gini = 0.0\\\\nsamples = 9\\\\nvalue = [0, 0, 0, 0, 0, 15, 0]\", fillcolor=\"#b139e5\"] ;\\n2130 -> 2131 ;\\n2132 [label=\"speechiness <= 0.44\\\\ngini = 0.5\\\\nsamples = 2\\\\nvalue = [0, 0, 0, 0, 1, 1, 0]\", fillcolor=\"#ffffff\"] ;\\n2130 -> 2132 ;\\n2133 [label=\"gini = 0.0\\\\nsamples = 1\\\\nvalue = [0, 0, 0, 0, 1, 0, 0]\", fillcolor=\"#3956e5\"] ;\\n2132 -> 2133 ;\\n2134 [label=\"gini = 0.0\\\\nsamples = 1\\\\nvalue = [0, 0, 0, 0, 0, 1, 0]\", fillcolor=\"#b139e5\"] ;\\n2132 -> 2134 ;\\n2135 [label=\"acousticness <= 0.135\\\\ngini = 0.5\\\\nsamples = 2\\\\nvalue = [0, 0, 0, 1, 0, 1, 0]\", fillcolor=\"#ffffff\"] ;\\n2129 -> 2135 ;\\n2136 [label=\"gini = 0.0\\\\nsamples = 1\\\\nvalue = [0, 0, 0, 1, 0, 0, 0]\", fillcolor=\"#39e5e2\"] ;\\n2135 -> 2136 ;\\n2137 [label=\"gini = 0.0\\\\nsamples = 1\\\\nvalue = [0, 0, 0, 0, 0, 1, 0]\", fillcolor=\"#b139e5\"] ;\\n2135 -> 2137 ;\\n2138 [label=\"gini = 0.0\\\\nsamples = 10\\\\nvalue = [0, 0, 0, 0, 0, 13, 0]\", fillcolor=\"#b139e5\"] ;\\n2128 -> 2138 ;\\n2139 [label=\"instrumentalness <= 0.0\\\\ngini = 0.722\\\\nsamples = 7\\\\nvalue = [0, 0, 3, 3, 2, 5, 0]\", fillcolor=\"#efd7fa\"] ;\\n2127 -> 2139 ;\\n2140 [label=\"popularity <= 51.567\\\\ngini = 0.469\\\\nsamples = 5\\\\nvalue = [0, 0, 0, 3, 0, 5, 0]\", fillcolor=\"#e0b0f5\"] ;\\n2139 -> 2140 ;\\n2141 [label=\"gini = 0.0\\\\nsamples = 2\\\\nvalue = [0, 0, 0, 0, 0, 3, 0]\", fillcolor=\"#b139e5\"] ;\\n2140 -> 2141 ;\\n2142 [label=\"tempo <= 107.028\\\\ngini = 0.48\\\\nsamples = 3\\\\nvalue = [0, 0, 0, 3, 0, 2, 0]\", fillcolor=\"#bdf6f5\"] ;\\n2140 -> 2142 ;\\n2143 [label=\"gini = 0.0\\\\nsamples = 1\\\\nvalue = [0, 0, 0, 3, 0, 0, 0]\", fillcolor=\"#39e5e2\"] ;\\n2142 -> 2143 ;\\n2144 [label=\"gini = 0.0\\\\nsamples = 2\\\\nvalue = [0, 0, 0, 0, 0, 2, 0]\", fillcolor=\"#b139e5\"] ;\\n2142 -> 2144 ;\\n2145 [label=\"loudness <= -6.377\\\\ngini = 0.48\\\\nsamples = 2\\\\nvalue = [0, 0, 3, 0, 2, 0, 0]\", fillcolor=\"#bdf6c4\"] ;\\n2139 -> 2145 ;\\n2146 [label=\"gini = 0.0\\\\nsamples = 1\\\\nvalue = [0, 0, 0, 0, 2, 0, 0]\", fillcolor=\"#3956e5\"] ;\\n2145 -> 2146 ;\\n2147 [label=\"gini = 0.0\\\\nsamples = 1\\\\nvalue = [0, 0, 3, 0, 0, 0, 0]\", fillcolor=\"#39e54d\"] ;\\n2145 -> 2147 ;\\n2148 [label=\"acousticness <= 0.297\\\\ngini = 0.449\\\\nsamples = 5\\\\nvalue = [0, 0, 0, 5, 1, 1, 0]\", fillcolor=\"#7beeec\"] ;\\n2120 -> 2148 ;\\n2149 [label=\"valence <= 0.589\\\\ngini = 0.278\\\\nsamples = 4\\\\nvalue = [0, 0, 0, 5, 0, 1, 0]\", fillcolor=\"#61eae8\"] ;\\n2148 -> 2149 ;\\n2150 [label=\"gini = 0.0\\\\nsamples = 2\\\\nvalue = [0, 0, 0, 4, 0, 0, 0]\", fillcolor=\"#39e5e2\"] ;\\n2149 -> 2150 ;\\n2151 [label=\"acousticness <= 0.148\\\\ngini = 0.5\\\\nsamples = 2\\\\nvalue = [0, 0, 0, 1, 0, 1, 0]\", fillcolor=\"#ffffff\"] ;\\n2149 -> 2151 ;\\n2152 [label=\"gini = 0.0\\\\nsamples = 1\\\\nvalue = [0, 0, 0, 0, 0, 1, 0]\", fillcolor=\"#b139e5\"] ;\\n2151 -> 2152 ;\\n2153 [label=\"gini = 0.0\\\\nsamples = 1\\\\nvalue = [0, 0, 0, 1, 0, 0, 0]\", fillcolor=\"#39e5e2\"] ;\\n2151 -> 2153 ;\\n2154 [label=\"gini = 0.0\\\\nsamples = 1\\\\nvalue = [0, 0, 0, 0, 1, 0, 0]\", fillcolor=\"#3956e5\"] ;\\n2148 -> 2154 ;\\n2155 [label=\"duration_ms <= 351109.672\\\\ngini = 0.169\\\\nsamples = 346\\\\nvalue = [0, 1, 1, 44, 1, 503, 4]\", fillcolor=\"#b94de8\"] ;\\n2119 -> 2155 ;\\n2156 [label=\"loudness <= -8.13\\\\ngini = 0.164\\\\nsamples = 337\\\\nvalue = [0, 1, 1, 41, 1, 492, 4]\", fillcolor=\"#b94ce8\"] ;\\n2155 -> 2156 ;\\n2157 [label=\"instrumentalness <= 0.006\\\\ngini = 0.239\\\\nsamples = 117\\\\nvalue = [0, 0, 1, 21, 1, 160, 2]\", fillcolor=\"#bd57e9\"] ;\\n2156 -> 2157 ;\\n2158 [label=\"duration_ms <= 249059.031\\\\ngini = 0.198\\\\nsamples = 110\\\\nvalue = [0, 0, 1, 16, 0, 155, 2]\", fillcolor=\"#ba51e8\"] ;\\n2157 -> 2158 ;\\n2159 [label=\"loudness <= -9.559\\\\ngini = 0.153\\\\nsamples = 85\\\\nvalue = [0, 0, 1, 10, 0, 122, 0]\", fillcolor=\"#b84be7\"] ;\\n2158 -> 2159 ;\\n2160 [label=\"gini = 0.0\\\\nsamples = 30\\\\nvalue = [0, 0, 0, 0, 0, 46, 0]\", fillcolor=\"#b139e5\"] ;\\n2159 -> 2160 ;\\n2161 [label=\"valence <= 0.091\\\\ngini = 0.224\\\\nsamples = 55\\\\nvalue = [0, 0, 1, 10, 0, 76, 0]\", fillcolor=\"#bc55e9\"] ;\\n2159 -> 2161 ;\\n2162 [label=\"gini = 0.0\\\\nsamples = 1\\\\nvalue = [0, 0, 0, 2, 0, 0, 0]\", fillcolor=\"#39e5e2\"] ;\\n2161 -> 2162 ;\\n2163 [label=\"valence <= 0.641\\\\ngini = 0.192\\\\nsamples = 54\\\\nvalue = [0, 0, 1, 8, 0, 76, 0]\", fillcolor=\"#ba50e8\"] ;\\n2161 -> 2163 ;\\n2164 [label=\"instrumentalness <= 0.0\\\\ngini = 0.151\\\\nsamples = 45\\\\nvalue = [0, 0, 1, 5, 0, 68, 0]\", fillcolor=\"#b84ae7\"] ;\\n2163 -> 2164 ;\\n2165 [label=\"tempo <= 98.028\\\\ngini = 0.099\\\\nsamples = 33\\\\nvalue = [0, 0, 1, 2, 0, 55, 0]\", fillcolor=\"#b544e6\"] ;\\n2164 -> 2165 ;\\n2166 [label=\"liveness <= 0.096\\\\ngini = 0.375\\\\nsamples = 3\\\\nvalue = [0, 0, 1, 0, 0, 3, 0]\", fillcolor=\"#cb7bee\"] ;\\n2165 -> 2166 ;\\n2167 [label=\"gini = 0.0\\\\nsamples = 1\\\\nvalue = [0, 0, 1, 0, 0, 0, 0]\", fillcolor=\"#39e54d\"] ;\\n2166 -> 2167 ;\\n2168 [label=\"gini = 0.0\\\\nsamples = 2\\\\nvalue = [0, 0, 0, 0, 0, 3, 0]\", fillcolor=\"#b139e5\"] ;\\n2166 -> 2168 ;\\n2169 [label=\"speechiness <= 0.443\\\\ngini = 0.071\\\\nsamples = 30\\\\nvalue = [0, 0, 0, 2, 0, 52, 0]\", fillcolor=\"#b441e6\"] ;\\n2165 -> 2169 ;\\n2170 [label=\"valence <= 0.549\\\\ngini = 0.038\\\\nsamples = 28\\\\nvalue = [0, 0, 0, 1, 0, 50, 0]\", fillcolor=\"#b33de6\"] ;\\n2169 -> 2170 ;\\n2171 [label=\"gini = 0.0\\\\nsamples = 20\\\\nvalue = [0, 0, 0, 0, 0, 39, 0]\", fillcolor=\"#b139e5\"] ;\\n2170 -> 2171 ;\\n2172 [label=\"duration_ms <= 175814.172\\\\ngini = 0.153\\\\nsamples = 8\\\\nvalue = [0, 0, 0, 1, 0, 11, 0]\", fillcolor=\"#b84be7\"] ;\\n2170 -> 2172 ;\\n2173 [label=\"duration_ms <= 159901.609\\\\ngini = 0.5\\\\nsamples = 2\\\\nvalue = [0, 0, 0, 1, 0, 1, 0]\", fillcolor=\"#ffffff\"] ;\\n2172 -> 2173 ;\\n2174 [label=\"gini = 0.0\\\\nsamples = 1\\\\nvalue = [0, 0, 0, 0, 0, 1, 0]\", fillcolor=\"#b139e5\"] ;\\n2173 -> 2174 ;\\n2175 [label=\"gini = 0.0\\\\nsamples = 1\\\\nvalue = [0, 0, 0, 1, 0, 0, 0]\", fillcolor=\"#39e5e2\"] ;\\n2173 -> 2175 ;\\n2176 [label=\"gini = 0.0\\\\nsamples = 6\\\\nvalue = [0, 0, 0, 0, 0, 10, 0]\", fillcolor=\"#b139e5\"] ;\\n2172 -> 2176 ;\\n2177 [label=\"tempo <= 146.601\\\\ngini = 0.444\\\\nsamples = 2\\\\nvalue = [0, 0, 0, 1, 0, 2, 0]\", fillcolor=\"#d89cf2\"] ;\\n2169 -> 2177 ;\\n2178 [label=\"gini = 0.0\\\\nsamples = 1\\\\nvalue = [0, 0, 0, 0, 0, 2, 0]\", fillcolor=\"#b139e5\"] ;\\n2177 -> 2178 ;\\n2179 [label=\"gini = 0.0\\\\nsamples = 1\\\\nvalue = [0, 0, 0, 1, 0, 0, 0]\", fillcolor=\"#39e5e2\"] ;\\n2177 -> 2179 ;\\n2180 [label=\"duration_ms <= 135917.531\\\\ngini = 0.305\\\\nsamples = 12\\\\nvalue = [0, 0, 0, 3, 0, 13, 0]\", fillcolor=\"#c367eb\"] ;\\n2164 -> 2180 ;\\n2181 [label=\"danceability <= 0.911\\\\ngini = 0.5\\\\nsamples = 3\\\\nvalue = [0, 0, 0, 2, 0, 2, 0]\", fillcolor=\"#ffffff\"] ;\\n2180 -> 2181 ;\\n2182 [label=\"gini = 0.0\\\\nsamples = 2\\\\nvalue = [0, 0, 0, 2, 0, 0, 0]\", fillcolor=\"#39e5e2\"] ;\\n2181 -> 2182 ;\\n2183 [label=\"gini = 0.0\\\\nsamples = 1\\\\nvalue = [0, 0, 0, 0, 0, 2, 0]\", fillcolor=\"#b139e5\"] ;\\n2181 -> 2183 ;\\n2184 [label=\"valence <= 0.267\\\\ngini = 0.153\\\\nsamples = 9\\\\nvalue = [0, 0, 0, 1, 0, 11, 0]\", fillcolor=\"#b84be7\"] ;\\n2180 -> 2184 ;\\n2185 [label=\"acousticness <= 0.083\\\\ngini = 0.278\\\\nsamples = 3\\\\nvalue = [0, 0, 0, 1, 0, 5, 0]\", fillcolor=\"#c161ea\"] ;\\n2184 -> 2185 ;\\n2186 [label=\"gini = 0.0\\\\nsamples = 2\\\\nvalue = [0, 0, 0, 0, 0, 5, 0]\", fillcolor=\"#b139e5\"] ;\\n2185 -> 2186 ;\\n2187 [label=\"gini = 0.0\\\\nsamples = 1\\\\nvalue = [0, 0, 0, 1, 0, 0, 0]\", fillcolor=\"#39e5e2\"] ;\\n2185 -> 2187 ;\\n2188 [label=\"gini = 0.0\\\\nsamples = 6\\\\nvalue = [0, 0, 0, 0, 0, 6, 0]\", fillcolor=\"#b139e5\"] ;\\n2184 -> 2188 ;\\n2189 [label=\"loudness <= -8.431\\\\ngini = 0.397\\\\nsamples = 9\\\\nvalue = [0, 0, 0, 3, 0, 8, 0]\", fillcolor=\"#ce83ef\"] ;\\n2163 -> 2189 ;\\n2190 [label=\"popularity <= 57.268\\\\ngini = 0.198\\\\nsamples = 7\\\\nvalue = [0, 0, 0, 1, 0, 8, 0]\", fillcolor=\"#bb52e8\"] ;\\n2189 -> 2190 ;\\n2191 [label=\"gini = 0.0\\\\nsamples = 1\\\\nvalue = [0, 0, 0, 1, 0, 0, 0]\", fillcolor=\"#39e5e2\"] ;\\n2190 -> 2191 ;\\n2192 [label=\"gini = 0.0\\\\nsamples = 6\\\\nvalue = [0, 0, 0, 0, 0, 8, 0]\", fillcolor=\"#b139e5\"] ;\\n2190 -> 2192 ;\\n2193 [label=\"gini = 0.0\\\\nsamples = 2\\\\nvalue = [0, 0, 0, 2, 0, 0, 0]\", fillcolor=\"#39e5e2\"] ;\\n2189 -> 2193 ;\\n2194 [label=\"acousticness <= 0.17\\\\ngini = 0.328\\\\nsamples = 25\\\\nvalue = [0, 0, 0, 6, 0, 33, 2]\", fillcolor=\"#c366eb\"] ;\\n2158 -> 2194 ;\\n2195 [label=\"loudness <= -9.204\\\\ngini = 0.184\\\\nsamples = 18\\\\nvalue = [0, 0, 0, 2, 0, 27, 1]\", fillcolor=\"#b94ee8\"] ;\\n2194 -> 2195 ;\\n2196 [label=\"gini = 0.0\\\\nsamples = 7\\\\nvalue = [0, 0, 0, 0, 0, 14, 0]\", fillcolor=\"#b139e5\"] ;\\n2195 -> 2196 ;\\n2197 [label=\"tempo <= 135.943\\\\ngini = 0.32\\\\nsamples = 11\\\\nvalue = [0, 0, 0, 2, 0, 13, 1]\", fillcolor=\"#c263eb\"] ;\\n2195 -> 2197 ;\\n2198 [label=\"acousticness <= 0.125\\\\ngini = 0.24\\\\nsamples = 10\\\\nvalue = [0, 0, 0, 1, 0, 13, 1]\", fillcolor=\"#bc55e9\"] ;\\n2197 -> 2198 ;\\n2199 [label=\"duration_ms <= 257055.977\\\\ngini = 0.142\\\\nsamples = 8\\\\nvalue = [0, 0, 0, 1, 0, 12, 0]\", fillcolor=\"#b749e7\"] ;\\n2198 -> 2199 ;\\n2200 [label=\"danceability <= 0.817\\\\ngini = 0.32\\\\nsamples = 3\\\\nvalue = [0, 0, 0, 1, 0, 4, 0]\", fillcolor=\"#c46aec\"] ;\\n2199 -> 2200 ;\\n2201 [label=\"gini = 0.0\\\\nsamples = 1\\\\nvalue = [0, 0, 0, 1, 0, 0, 0]\", fillcolor=\"#39e5e2\"] ;\\n2200 -> 2201 ;\\n2202 [label=\"gini = 0.0\\\\nsamples = 2\\\\nvalue = [0, 0, 0, 0, 0, 4, 0]\", fillcolor=\"#b139e5\"] ;\\n2200 -> 2202 ;\\n2203 [label=\"gini = 0.0\\\\nsamples = 5\\\\nvalue = [0, 0, 0, 0, 0, 8, 0]\", fillcolor=\"#b139e5\"] ;\\n2199 -> 2203 ;\\n2204 [label=\"energy <= 0.609\\\\ngini = 0.5\\\\nsamples = 2\\\\nvalue = [0, 0, 0, 0, 0, 1, 1]\", fillcolor=\"#ffffff\"] ;\\n2198 -> 2204 ;\\n2205 [label=\"gini = 0.0\\\\nsamples = 1\\\\nvalue = [0, 0, 0, 0, 0, 1, 0]\", fillcolor=\"#b139e5\"] ;\\n2204 -> 2205 ;\\n2206 [label=\"gini = 0.0\\\\nsamples = 1\\\\nvalue = [0, 0, 0, 0, 0, 0, 1]\", fillcolor=\"#e53986\"] ;\\n2204 -> 2206 ;\\n2207 [label=\"gini = 0.0\\\\nsamples = 1\\\\nvalue = [0, 0, 0, 1, 0, 0, 0]\", fillcolor=\"#39e5e2\"] ;\\n2197 -> 2207 ;\\n2208 [label=\"liveness <= 0.137\\\\ngini = 0.562\\\\nsamples = 7\\\\nvalue = [0, 0, 0, 4, 0, 6, 1]\", fillcolor=\"#e9c6f8\"] ;\\n2194 -> 2208 ;\\n2209 [label=\"gini = 0.0\\\\nsamples = 3\\\\nvalue = [0, 0, 0, 0, 0, 6, 0]\", fillcolor=\"#b139e5\"] ;\\n2208 -> 2209 ;\\n2210 [label=\"acousticness <= 0.195\\\\ngini = 0.32\\\\nsamples = 4\\\\nvalue = [0, 0, 0, 4, 0, 0, 1]\", fillcolor=\"#6aece9\"] ;\\n2208 -> 2210 ;\\n2211 [label=\"gini = 0.0\\\\nsamples = 1\\\\nvalue = [0, 0, 0, 0, 0, 0, 1]\", fillcolor=\"#e53986\"] ;\\n2210 -> 2211 ;\\n2212 [label=\"gini = 0.0\\\\nsamples = 3\\\\nvalue = [0, 0, 0, 4, 0, 0, 0]\", fillcolor=\"#39e5e2\"] ;\\n2210 -> 2212 ;\\n2213 [label=\"instrumentalness <= 0.159\\\\ngini = 0.579\\\\nsamples = 7\\\\nvalue = [0, 0, 0, 5, 1, 5, 0]\", fillcolor=\"#ffffff\"] ;\\n2157 -> 2213 ;\\n2214 [label=\"acousticness <= 0.001\\\\ngini = 0.531\\\\nsamples = 6\\\\nvalue = [0, 0, 0, 5, 1, 2, 0]\", fillcolor=\"#9cf2f0\"] ;\\n2213 -> 2214 ;\\n2215 [label=\"gini = 0.0\\\\nsamples = 1\\\\nvalue = [0, 0, 0, 0, 0, 1, 0]\", fillcolor=\"#b139e5\"] ;\\n2214 -> 2215 ;\\n2216 [label=\"acousticness <= 0.039\\\\ngini = 0.449\\\\nsamples = 5\\\\nvalue = [0, 0, 0, 5, 1, 1, 0]\", fillcolor=\"#7beeec\"] ;\\n2214 -> 2216 ;\\n2217 [label=\"gini = 0.0\\\\nsamples = 2\\\\nvalue = [0, 0, 0, 3, 0, 0, 0]\", fillcolor=\"#39e5e2\"] ;\\n2216 -> 2217 ;\\n2218 [label=\"popularity <= 55.407\\\\ngini = 0.625\\\\nsamples = 3\\\\nvalue = [0, 0, 0, 2, 1, 1, 0]\", fillcolor=\"#bdf6f5\"] ;\\n2216 -> 2218 ;\\n2219 [label=\"gini = 0.0\\\\nsamples = 1\\\\nvalue = [0, 0, 0, 2, 0, 0, 0]\", fillcolor=\"#39e5e2\"] ;\\n2218 -> 2219 ;\\n2220 [label=\"popularity <= 61.812\\\\ngini = 0.5\\\\nsamples = 2\\\\nvalue = [0, 0, 0, 0, 1, 1, 0]\", fillcolor=\"#ffffff\"] ;\\n2218 -> 2220 ;\\n2221 [label=\"gini = 0.0\\\\nsamples = 1\\\\nvalue = [0, 0, 0, 0, 1, 0, 0]\", fillcolor=\"#3956e5\"] ;\\n2220 -> 2221 ;\\n2222 [label=\"gini = 0.0\\\\nsamples = 1\\\\nvalue = [0, 0, 0, 0, 0, 1, 0]\", fillcolor=\"#b139e5\"] ;\\n2220 -> 2222 ;\\n2223 [label=\"gini = 0.0\\\\nsamples = 1\\\\nvalue = [0, 0, 0, 0, 0, 3, 0]\", fillcolor=\"#b139e5\"] ;\\n2213 -> 2223 ;\\n2224 [label=\"liveness <= 0.078\\\\ngini = 0.122\\\\nsamples = 220\\\\nvalue = [0, 1, 0, 20, 0, 332, 2]\", fillcolor=\"#b647e7\"] ;\\n2156 -> 2224 ;\\n2225 [label=\"popularity <= 57.208\\\\ngini = 0.245\\\\nsamples = 21\\\\nvalue = [0, 0, 0, 4, 0, 31, 1]\", fillcolor=\"#bd58e9\"] ;\\n2224 -> 2225 ;\\n2226 [label=\"popularity <= 54.525\\\\ngini = 0.5\\\\nsamples = 4\\\\nvalue = [0, 0, 0, 3, 0, 3, 0]\", fillcolor=\"#ffffff\"] ;\\n2225 -> 2226 ;\\n2227 [label=\"gini = 0.0\\\\nsamples = 1\\\\nvalue = [0, 0, 0, 0, 0, 2, 0]\", fillcolor=\"#b139e5\"] ;\\n2226 -> 2227 ;\\n2228 [label=\"instrumentalness <= 0.0\\\\ngini = 0.375\\\\nsamples = 3\\\\nvalue = [0, 0, 0, 3, 0, 1, 0]\", fillcolor=\"#7beeec\"] ;\\n2226 -> 2228 ;\\n2229 [label=\"liveness <= 0.061\\\\ngini = 0.5\\\\nsamples = 2\\\\nvalue = [0, 0, 0, 1, 0, 1, 0]\", fillcolor=\"#ffffff\"] ;\\n2228 -> 2229 ;\\n2230 [label=\"gini = 0.0\\\\nsamples = 1\\\\nvalue = [0, 0, 0, 0, 0, 1, 0]\", fillcolor=\"#b139e5\"] ;\\n2229 -> 2230 ;\\n2231 [label=\"gini = 0.0\\\\nsamples = 1\\\\nvalue = [0, 0, 0, 1, 0, 0, 0]\", fillcolor=\"#39e5e2\"] ;\\n2229 -> 2231 ;\\n2232 [label=\"gini = 0.0\\\\nsamples = 1\\\\nvalue = [0, 0, 0, 2, 0, 0, 0]\", fillcolor=\"#39e5e2\"] ;\\n2228 -> 2232 ;\\n2233 [label=\"speechiness <= 0.403\\\\ngini = 0.127\\\\nsamples = 17\\\\nvalue = [0, 0, 0, 1, 0, 28, 1]\", fillcolor=\"#b647e7\"] ;\\n2225 -> 2233 ;\\n2234 [label=\"loudness <= -6.0\\\\ngini = 0.067\\\\nsamples = 16\\\\nvalue = [0, 0, 0, 0, 0, 28, 1]\", fillcolor=\"#b440e6\"] ;\\n2233 -> 2234 ;\\n2235 [label=\"gini = 0.0\\\\nsamples = 12\\\\nvalue = [0, 0, 0, 0, 0, 24, 0]\", fillcolor=\"#b139e5\"] ;\\n2234 -> 2235 ;\\n2236 [label=\"instrumentalness <= 0.0\\\\ngini = 0.32\\\\nsamples = 4\\\\nvalue = [0, 0, 0, 0, 0, 4, 1]\", fillcolor=\"#c46aec\"] ;\\n2234 -> 2236 ;\\n2237 [label=\"gini = 0.0\\\\nsamples = 3\\\\nvalue = [0, 0, 0, 0, 0, 4, 0]\", fillcolor=\"#b139e5\"] ;\\n2236 -> 2237 ;\\n2238 [label=\"gini = 0.0\\\\nsamples = 1\\\\nvalue = [0, 0, 0, 0, 0, 0, 1]\", fillcolor=\"#e53986\"] ;\\n2236 -> 2238 ;\\n2239 [label=\"gini = 0.0\\\\nsamples = 1\\\\nvalue = [0, 0, 0, 1, 0, 0, 0]\", fillcolor=\"#39e5e2\"] ;\\n2233 -> 2239 ;\\n2240 [label=\"valence <= 0.984\\\\ngini = 0.107\\\\nsamples = 199\\\\nvalue = [0, 1, 0, 16, 0, 301, 1]\", fillcolor=\"#b645e7\"] ;\\n2224 -> 2240 ;\\n2241 [label=\"valence <= 0.073\\\\ngini = 0.102\\\\nsamples = 198\\\\nvalue = [0, 1, 0, 16, 0, 301, 0]\", fillcolor=\"#b544e6\"] ;\\n2240 -> 2241 ;\\n2242 [label=\"speechiness <= 0.317\\\\ngini = 0.408\\\\nsamples = 3\\\\nvalue = [0, 0, 0, 2, 0, 5, 0]\", fillcolor=\"#d088ef\"] ;\\n2241 -> 2242 ;\\n2243 [label=\"gini = 0.0\\\\nsamples = 1\\\\nvalue = [0, 0, 0, 2, 0, 0, 0]\", fillcolor=\"#39e5e2\"] ;\\n2242 -> 2243 ;\\n2244 [label=\"gini = 0.0\\\\nsamples = 2\\\\nvalue = [0, 0, 0, 0, 0, 5, 0]\", fillcolor=\"#b139e5\"] ;\\n2242 -> 2244 ;\\n2245 [label=\"popularity <= 54.487\\\\ngini = 0.092\\\\nsamples = 195\\\\nvalue = [0, 1, 0, 14, 0, 296, 0]\", fillcolor=\"#b543e6\"] ;\\n2241 -> 2245 ;\\n2246 [label=\"duration_ms <= 201501.32\\\\ngini = 0.444\\\\nsamples = 2\\\\nvalue = [0, 0, 0, 1, 0, 2, 0]\", fillcolor=\"#d89cf2\"] ;\\n2245 -> 2246 ;\\n2247 [label=\"gini = 0.0\\\\nsamples = 1\\\\nvalue = [0, 0, 0, 0, 0, 2, 0]\", fillcolor=\"#b139e5\"] ;\\n2246 -> 2247 ;\\n2248 [label=\"gini = 0.0\\\\nsamples = 1\\\\nvalue = [0, 0, 0, 1, 0, 0, 0]\", fillcolor=\"#39e5e2\"] ;\\n2246 -> 2248 ;\\n2249 [label=\"acousticness <= 0.117\\\\ngini = 0.087\\\\nsamples = 193\\\\nvalue = [0, 1, 0, 13, 0, 294, 0]\", fillcolor=\"#b542e6\"] ;\\n2245 -> 2249 ;\\n2250 [label=\"loudness <= -6.328\\\\ngini = 0.011\\\\nsamples = 113\\\\nvalue = [0, 1, 0, 0, 0, 181, 0]\", fillcolor=\"#b13ae5\"] ;\\n2249 -> 2250 ;\\n2251 [label=\"gini = 0.0\\\\nsamples = 89\\\\nvalue = [0, 0, 0, 0, 0, 153, 0]\", fillcolor=\"#b139e5\"] ;\\n2250 -> 2251 ;\\n2252 [label=\"valence <= 0.82\\\\ngini = 0.067\\\\nsamples = 24\\\\nvalue = [0, 1, 0, 0, 0, 28, 0]\", fillcolor=\"#b440e6\"] ;\\n2250 -> 2252 ;\\n2253 [label=\"gini = 0.0\\\\nsamples = 21\\\\nvalue = [0, 0, 0, 0, 0, 26, 0]\", fillcolor=\"#b139e5\"] ;\\n2252 -> 2253 ;\\n2254 [label=\"tempo <= 84.158\\\\ngini = 0.444\\\\nsamples = 3\\\\nvalue = [0, 1, 0, 0, 0, 2, 0]\", fillcolor=\"#d89cf2\"] ;\\n2252 -> 2254 ;\\n2255 [label=\"gini = 0.0\\\\nsamples = 1\\\\nvalue = [0, 1, 0, 0, 0, 0, 0]\", fillcolor=\"#b7e539\"] ;\\n2254 -> 2255 ;\\n2256 [label=\"gini = 0.0\\\\nsamples = 2\\\\nvalue = [0, 0, 0, 0, 0, 2, 0]\", fillcolor=\"#b139e5\"] ;\\n2254 -> 2256 ;\\n2257 [label=\"acousticness <= 0.118\\\\ngini = 0.185\\\\nsamples = 80\\\\nvalue = [0, 0, 0, 13, 0, 113, 0]\", fillcolor=\"#ba50e8\"] ;\\n2249 -> 2257 ;\\n2258 [label=\"gini = 0.0\\\\nsamples = 1\\\\nvalue = [0, 0, 0, 3, 0, 0, 0]\", fillcolor=\"#39e5e2\"] ;\\n2257 -> 2258 ;\\n2259 [label=\"valence <= 0.604\\\\ngini = 0.149\\\\nsamples = 79\\\\nvalue = [0, 0, 0, 10, 0, 113, 0]\", fillcolor=\"#b84be7\"] ;\\n2257 -> 2259 ;\\n2260 [label=\"speechiness <= 0.196\\\\ngini = 0.229\\\\nsamples = 50\\\\nvalue = [0, 0, 0, 10, 0, 66, 0]\", fillcolor=\"#bd57e9\"] ;\\n2259 -> 2260 ;\\n2261 [label=\"loudness <= -7.949\\\\ngini = 0.057\\\\nsamples = 21\\\\nvalue = [0, 0, 0, 1, 0, 33, 0]\", fillcolor=\"#b33fe6\"] ;\\n2260 -> 2261 ;\\n2262 [label=\"popularity <= 73.395\\\\ngini = 0.219\\\\nsamples = 4\\\\nvalue = [0, 0, 0, 1, 0, 7, 0]\", fillcolor=\"#bc55e9\"] ;\\n2261 -> 2262 ;\\n2263 [label=\"gini = 0.0\\\\nsamples = 1\\\\nvalue = [0, 0, 0, 1, 0, 0, 0]\", fillcolor=\"#39e5e2\"] ;\\n2262 -> 2263 ;\\n2264 [label=\"gini = 0.0\\\\nsamples = 3\\\\nvalue = [0, 0, 0, 0, 0, 7, 0]\", fillcolor=\"#b139e5\"] ;\\n2262 -> 2264 ;\\n2265 [label=\"gini = 0.0\\\\nsamples = 17\\\\nvalue = [0, 0, 0, 0, 0, 26, 0]\", fillcolor=\"#b139e5\"] ;\\n2261 -> 2265 ;\\n2266 [label=\"speechiness <= 0.218\\\\ngini = 0.337\\\\nsamples = 29\\\\nvalue = [0, 0, 0, 9, 0, 33, 0]\", fillcolor=\"#c66fec\"] ;\\n2260 -> 2266 ;\\n2267 [label=\"liveness <= 0.086\\\\ngini = 0.49\\\\nsamples = 3\\\\nvalue = [0, 0, 0, 4, 0, 3, 0]\", fillcolor=\"#cef8f8\"] ;\\n2266 -> 2267 ;\\n2268 [label=\"gini = 0.0\\\\nsamples = 1\\\\nvalue = [0, 0, 0, 0, 0, 3, 0]\", fillcolor=\"#b139e5\"] ;\\n2267 -> 2268 ;\\n2269 [label=\"gini = 0.0\\\\nsamples = 2\\\\nvalue = [0, 0, 0, 4, 0, 0, 0]\", fillcolor=\"#39e5e2\"] ;\\n2267 -> 2269 ;\\n2270 [label=\"loudness <= -6.454\\\\ngini = 0.245\\\\nsamples = 26\\\\nvalue = [0, 0, 0, 5, 0, 30, 0]\", fillcolor=\"#be5ae9\"] ;\\n2266 -> 2270 ;\\n2271 [label=\"duration_ms <= 210490.625\\\\ngini = 0.137\\\\nsamples = 21\\\\nvalue = [0, 0, 0, 2, 0, 25, 0]\", fillcolor=\"#b749e7\"] ;\\n2270 -> 2271 ;\\n2272 [label=\"liveness <= 0.399\\\\ngini = 0.26\\\\nsamples = 11\\\\nvalue = [0, 0, 0, 2, 0, 11, 0]\", fillcolor=\"#bf5dea\"] ;\\n2271 -> 2272 ;\\n2273 [label=\"duration_ms <= 203038.766\\\\ngini = 0.153\\\\nsamples = 10\\\\nvalue = [0, 0, 0, 1, 0, 11, 0]\", fillcolor=\"#b84be7\"] ;\\n2272 -> 2273 ;\\n2274 [label=\"gini = 0.0\\\\nsamples = 9\\\\nvalue = [0, 0, 0, 0, 0, 11, 0]\", fillcolor=\"#b139e5\"] ;\\n2273 -> 2274 ;\\n2275 [label=\"gini = 0.0\\\\nsamples = 1\\\\nvalue = [0, 0, 0, 1, 0, 0, 0]\", fillcolor=\"#39e5e2\"] ;\\n2273 -> 2275 ;\\n2276 [label=\"gini = 0.0\\\\nsamples = 1\\\\nvalue = [0, 0, 0, 1, 0, 0, 0]\", fillcolor=\"#39e5e2\"] ;\\n2272 -> 2276 ;\\n2277 [label=\"gini = 0.0\\\\nsamples = 10\\\\nvalue = [0, 0, 0, 0, 0, 14, 0]\", fillcolor=\"#b139e5\"] ;\\n2271 -> 2277 ;\\n2278 [label=\"acousticness <= 0.234\\\\ngini = 0.469\\\\nsamples = 5\\\\nvalue = [0, 0, 0, 3, 0, 5, 0]\", fillcolor=\"#e0b0f5\"] ;\\n2270 -> 2278 ;\\n2279 [label=\"duration_ms <= 110333.961\\\\ngini = 0.48\\\\nsamples = 3\\\\nvalue = [0, 0, 0, 3, 0, 2, 0]\", fillcolor=\"#bdf6f5\"] ;\\n2278 -> 2279 ;\\n2280 [label=\"gini = 0.0\\\\nsamples = 1\\\\nvalue = [0, 0, 0, 0, 0, 2, 0]\", fillcolor=\"#b139e5\"] ;\\n2279 -> 2280 ;\\n2281 [label=\"gini = 0.0\\\\nsamples = 2\\\\nvalue = [0, 0, 0, 3, 0, 0, 0]\", fillcolor=\"#39e5e2\"] ;\\n2279 -> 2281 ;\\n2282 [label=\"gini = 0.0\\\\nsamples = 2\\\\nvalue = [0, 0, 0, 0, 0, 3, 0]\", fillcolor=\"#b139e5\"] ;\\n2278 -> 2282 ;\\n2283 [label=\"gini = 0.0\\\\nsamples = 29\\\\nvalue = [0, 0, 0, 0, 0, 47, 0]\", fillcolor=\"#b139e5\"] ;\\n2259 -> 2283 ;\\n2284 [label=\"gini = 0.0\\\\nsamples = 1\\\\nvalue = [0, 0, 0, 0, 0, 0, 1]\", fillcolor=\"#e53986\"] ;\\n2240 -> 2284 ;\\n2285 [label=\"acousticness <= 0.232\\\\ngini = 0.337\\\\nsamples = 9\\\\nvalue = [0, 0, 0, 3, 0, 11, 0]\", fillcolor=\"#c66fec\"] ;\\n2155 -> 2285 ;\\n2286 [label=\"loudness <= -7.559\\\\ngini = 0.469\\\\nsamples = 6\\\\nvalue = [0, 0, 0, 3, 0, 5, 0]\", fillcolor=\"#e0b0f5\"] ;\\n2285 -> 2286 ;\\n2287 [label=\"gini = 0.0\\\\nsamples = 3\\\\nvalue = [0, 0, 0, 0, 0, 4, 0]\", fillcolor=\"#b139e5\"] ;\\n2286 -> 2287 ;\\n2288 [label=\"danceability <= 0.824\\\\ngini = 0.375\\\\nsamples = 3\\\\nvalue = [0, 0, 0, 3, 0, 1, 0]\", fillcolor=\"#7beeec\"] ;\\n2286 -> 2288 ;\\n2289 [label=\"gini = 0.0\\\\nsamples = 1\\\\nvalue = [0, 0, 0, 0, 0, 1, 0]\", fillcolor=\"#b139e5\"] ;\\n2288 -> 2289 ;\\n2290 [label=\"gini = 0.0\\\\nsamples = 2\\\\nvalue = [0, 0, 0, 3, 0, 0, 0]\", fillcolor=\"#39e5e2\"] ;\\n2288 -> 2290 ;\\n2291 [label=\"gini = 0.0\\\\nsamples = 3\\\\nvalue = [0, 0, 0, 0, 0, 6, 0]\", fillcolor=\"#b139e5\"] ;\\n2285 -> 2291 ;\\n2292 [label=\"valence <= 0.587\\\\ngini = 0.559\\\\nsamples = 24\\\\nvalue = [0, 0, 0, 10, 1, 20, 3]\", fillcolor=\"#deacf4\"] ;\\n2118 -> 2292 ;\\n2293 [label=\"acousticness <= 0.583\\\\ngini = 0.405\\\\nsamples = 14\\\\nvalue = [0, 0, 0, 2, 0, 15, 3]\", fillcolor=\"#c873ed\"] ;\\n2292 -> 2293 ;\\n2294 [label=\"loudness <= -8.78\\\\ngini = 0.5\\\\nsamples = 2\\\\nvalue = [0, 0, 0, 1, 0, 0, 1]\", fillcolor=\"#ffffff\"] ;\\n2293 -> 2294 ;\\n2295 [label=\"gini = 0.0\\\\nsamples = 1\\\\nvalue = [0, 0, 0, 1, 0, 0, 0]\", fillcolor=\"#39e5e2\"] ;\\n2294 -> 2295 ;\\n2296 [label=\"gini = 0.0\\\\nsamples = 1\\\\nvalue = [0, 0, 0, 0, 0, 0, 1]\", fillcolor=\"#e53986\"] ;\\n2294 -> 2296 ;\\n2297 [label=\"danceability <= 0.788\\\\ngini = 0.29\\\\nsamples = 12\\\\nvalue = [0, 0, 0, 1, 0, 15, 2]\", fillcolor=\"#c05eea\"] ;\\n2293 -> 2297 ;\\n2298 [label=\"gini = 0.0\\\\nsamples = 2\\\\nvalue = [0, 0, 0, 0, 0, 0, 2]\", fillcolor=\"#e53986\"] ;\\n2297 -> 2298 ;\\n2299 [label=\"loudness <= -6.947\\\\ngini = 0.117\\\\nsamples = 10\\\\nvalue = [0, 0, 0, 1, 0, 15, 0]\", fillcolor=\"#b646e7\"] ;\\n2297 -> 2299 ;\\n2300 [label=\"gini = 0.0\\\\nsamples = 9\\\\nvalue = [0, 0, 0, 0, 0, 15, 0]\", fillcolor=\"#b139e5\"] ;\\n2299 -> 2300 ;\\n2301 [label=\"gini = 0.0\\\\nsamples = 1\\\\nvalue = [0, 0, 0, 1, 0, 0, 0]\", fillcolor=\"#39e5e2\"] ;\\n2299 -> 2301 ;\\n2302 [label=\"speechiness <= 0.419\\\\ngini = 0.541\\\\nsamples = 10\\\\nvalue = [0, 0, 0, 8, 1, 5, 0]\", fillcolor=\"#bdf6f5\"] ;\\n2292 -> 2302 ;\\n2303 [label=\"energy <= -0.233\\\\ngini = 0.43\\\\nsamples = 8\\\\nvalue = [0, 0, 0, 8, 1, 2, 0]\", fillcolor=\"#7beeec\"] ;\\n2302 -> 2303 ;\\n2304 [label=\"gini = 0.0\\\\nsamples = 1\\\\nvalue = [0, 0, 0, 0, 1, 0, 0]\", fillcolor=\"#3956e5\"] ;\\n2303 -> 2304 ;\\n2305 [label=\"acousticness <= 0.561\\\\ngini = 0.32\\\\nsamples = 7\\\\nvalue = [0, 0, 0, 8, 0, 2, 0]\", fillcolor=\"#6aece9\"] ;\\n2303 -> 2305 ;\\n2306 [label=\"gini = 0.0\\\\nsamples = 1\\\\nvalue = [0, 0, 0, 0, 0, 1, 0]\", fillcolor=\"#b139e5\"] ;\\n2305 -> 2306 ;\\n2307 [label=\"danceability <= 0.807\\\\ngini = 0.198\\\\nsamples = 6\\\\nvalue = [0, 0, 0, 8, 0, 1, 0]\", fillcolor=\"#52e8e6\"] ;\\n2305 -> 2307 ;\\n2308 [label=\"acousticness <= 0.633\\\\ngini = 0.5\\\\nsamples = 2\\\\nvalue = [0, 0, 0, 1, 0, 1, 0]\", fillcolor=\"#ffffff\"] ;\\n2307 -> 2308 ;\\n2309 [label=\"gini = 0.0\\\\nsamples = 1\\\\nvalue = [0, 0, 0, 1, 0, 0, 0]\", fillcolor=\"#39e5e2\"] ;\\n2308 -> 2309 ;\\n2310 [label=\"gini = 0.0\\\\nsamples = 1\\\\nvalue = [0, 0, 0, 0, 0, 1, 0]\", fillcolor=\"#b139e5\"] ;\\n2308 -> 2310 ;\\n2311 [label=\"gini = 0.0\\\\nsamples = 4\\\\nvalue = [0, 0, 0, 7, 0, 0, 0]\", fillcolor=\"#39e5e2\"] ;\\n2307 -> 2311 ;\\n2312 [label=\"gini = 0.0\\\\nsamples = 2\\\\nvalue = [0, 0, 0, 0, 0, 3, 0]\", fillcolor=\"#b139e5\"] ;\\n2302 -> 2312 ;\\n2313 [label=\"popularity <= 70.327\\\\ngini = 0.434\\\\nsamples = 153\\\\nvalue = [0, 0, 0, 46, 2, 185, 22]\", fillcolor=\"#cb7bee\"] ;\\n2117 -> 2313 ;\\n2314 [label=\"energy <= -0.296\\\\ngini = 0.377\\\\nsamples = 117\\\\nvalue = [0, 0, 0, 25, 2, 147, 16]\", fillcolor=\"#c56dec\"] ;\\n2313 -> 2314 ;\\n2315 [label=\"valence <= 0.949\\\\ngini = 0.597\\\\nsamples = 19\\\\nvalue = [0, 0, 0, 7, 0, 17, 7]\", fillcolor=\"#deadf4\"] ;\\n2314 -> 2315 ;\\n2316 [label=\"instrumentalness <= 0.0\\\\ngini = 0.524\\\\nsamples = 18\\\\nvalue = [0, 0, 0, 7, 0, 17, 3]\", fillcolor=\"#d89cf2\"] ;\\n2315 -> 2316 ;\\n2317 [label=\"tempo <= 89.005\\\\ngini = 0.469\\\\nsamples = 15\\\\nvalue = [0, 0, 0, 4, 0, 16, 3]\", fillcolor=\"#ce82ef\"] ;\\n2316 -> 2317 ;\\n2318 [label=\"popularity <= 63.178\\\\ngini = 0.5\\\\nsamples = 4\\\\nvalue = [0, 0, 0, 3, 0, 3, 0]\", fillcolor=\"#ffffff\"] ;\\n2317 -> 2318 ;\\n2319 [label=\"instrumentalness <= 0.0\\\\ngini = 0.375\\\\nsamples = 3\\\\nvalue = [0, 0, 0, 1, 0, 3, 0]\", fillcolor=\"#cb7bee\"] ;\\n2318 -> 2319 ;\\n2320 [label=\"gini = 0.0\\\\nsamples = 2\\\\nvalue = [0, 0, 0, 0, 0, 3, 0]\", fillcolor=\"#b139e5\"] ;\\n2319 -> 2320 ;\\n2321 [label=\"gini = 0.0\\\\nsamples = 1\\\\nvalue = [0, 0, 0, 1, 0, 0, 0]\", fillcolor=\"#39e5e2\"] ;\\n2319 -> 2321 ;\\n2322 [label=\"gini = 0.0\\\\nsamples = 1\\\\nvalue = [0, 0, 0, 2, 0, 0, 0]\", fillcolor=\"#39e5e2\"] ;\\n2318 -> 2322 ;\\n2323 [label=\"speechiness <= 0.333\\\\ngini = 0.381\\\\nsamples = 11\\\\nvalue = [0, 0, 0, 1, 0, 13, 3]\", fillcolor=\"#c772ec\"] ;\\n2317 -> 2323 ;\\n2324 [label=\"popularity <= 58.04\\\\ngini = 0.305\\\\nsamples = 10\\\\nvalue = [0, 0, 0, 0, 0, 13, 3]\", fillcolor=\"#c367eb\"] ;\\n2323 -> 2324 ;\\n2325 [label=\"tempo <= 121.062\\\\ngini = 0.469\\\\nsamples = 4\\\\nvalue = [0, 0, 0, 0, 0, 5, 3]\", fillcolor=\"#e0b0f5\"] ;\\n2324 -> 2325 ;\\n2326 [label=\"popularity <= 55.438\\\\ngini = 0.375\\\\nsamples = 2\\\\nvalue = [0, 0, 0, 0, 0, 1, 3]\", fillcolor=\"#ee7bae\"] ;\\n2325 -> 2326 ;\\n2327 [label=\"gini = 0.0\\\\nsamples = 1\\\\nvalue = [0, 0, 0, 0, 0, 1, 0]\", fillcolor=\"#b139e5\"] ;\\n2326 -> 2327 ;\\n2328 [label=\"gini = 0.0\\\\nsamples = 1\\\\nvalue = [0, 0, 0, 0, 0, 0, 3]\", fillcolor=\"#e53986\"] ;\\n2326 -> 2328 ;\\n2329 [label=\"gini = 0.0\\\\nsamples = 2\\\\nvalue = [0, 0, 0, 0, 0, 4, 0]\", fillcolor=\"#b139e5\"] ;\\n2325 -> 2329 ;\\n2330 [label=\"gini = 0.0\\\\nsamples = 6\\\\nvalue = [0, 0, 0, 0, 0, 8, 0]\", fillcolor=\"#b139e5\"] ;\\n2324 -> 2330 ;\\n2331 [label=\"gini = 0.0\\\\nsamples = 1\\\\nvalue = [0, 0, 0, 1, 0, 0, 0]\", fillcolor=\"#39e5e2\"] ;\\n2323 -> 2331 ;\\n2332 [label=\"tempo <= 99.476\\\\ngini = 0.375\\\\nsamples = 3\\\\nvalue = [0, 0, 0, 3, 0, 1, 0]\", fillcolor=\"#7beeec\"] ;\\n2316 -> 2332 ;\\n2333 [label=\"gini = 0.0\\\\nsamples = 2\\\\nvalue = [0, 0, 0, 3, 0, 0, 0]\", fillcolor=\"#39e5e2\"] ;\\n2332 -> 2333 ;\\n2334 [label=\"gini = 0.0\\\\nsamples = 1\\\\nvalue = [0, 0, 0, 0, 0, 1, 0]\", fillcolor=\"#b139e5\"] ;\\n2332 -> 2334 ;\\n2335 [label=\"gini = 0.0\\\\nsamples = 1\\\\nvalue = [0, 0, 0, 0, 0, 0, 4]\", fillcolor=\"#e53986\"] ;\\n2315 -> 2335 ;\\n2336 [label=\"valence <= 0.567\\\\ngini = 0.315\\\\nsamples = 98\\\\nvalue = [0, 0, 0, 18, 2, 130, 9]\", fillcolor=\"#c162ea\"] ;\\n2314 -> 2336 ;\\n2337 [label=\"loudness <= -5.039\\\\ngini = 0.046\\\\nsamples = 51\\\\nvalue = [0, 0, 0, 2, 0, 82, 0]\", fillcolor=\"#b33ee6\"] ;\\n2336 -> 2337 ;\\n2338 [label=\"liveness <= 0.22\\\\ngini = 0.133\\\\nsamples = 18\\\\nvalue = [0, 0, 0, 2, 0, 26, 0]\", fillcolor=\"#b748e7\"] ;\\n2337 -> 2338 ;\\n2339 [label=\"gini = 0.0\\\\nsamples = 13\\\\nvalue = [0, 0, 0, 0, 0, 22, 0]\", fillcolor=\"#b139e5\"] ;\\n2338 -> 2339 ;\\n2340 [label=\"acousticness <= 0.389\\\\ngini = 0.444\\\\nsamples = 5\\\\nvalue = [0, 0, 0, 2, 0, 4, 0]\", fillcolor=\"#d89cf2\"] ;\\n2338 -> 2340 ;\\n2341 [label=\"gini = 0.0\\\\nsamples = 4\\\\nvalue = [0, 0, 0, 0, 0, 4, 0]\", fillcolor=\"#b139e5\"] ;\\n2340 -> 2341 ;\\n2342 [label=\"gini = 0.0\\\\nsamples = 1\\\\nvalue = [0, 0, 0, 2, 0, 0, 0]\", fillcolor=\"#39e5e2\"] ;\\n2340 -> 2342 ;\\n2343 [label=\"gini = 0.0\\\\nsamples = 33\\\\nvalue = [0, 0, 0, 0, 0, 56, 0]\", fillcolor=\"#b139e5\"] ;\\n2337 -> 2343 ;\\n2344 [label=\"loudness <= -1.538\\\\ngini = 0.53\\\\nsamples = 47\\\\nvalue = [0, 0, 0, 16, 2, 48, 9]\", fillcolor=\"#d594f1\"] ;\\n2336 -> 2344 ;\\n2345 [label=\"valence <= 0.75\\\\ngini = 0.395\\\\nsamples = 37\\\\nvalue = [0, 0, 0, 16, 0, 43, 0]\", fillcolor=\"#ce83ef\"] ;\\n2344 -> 2345 ;\\n2346 [label=\"danceability <= 0.864\\\\ngini = 0.498\\\\nsamples = 21\\\\nvalue = [0, 0, 0, 14, 0, 16, 0]\", fillcolor=\"#f5e6fc\"] ;\\n2345 -> 2346 ;\\n2347 [label=\"speechiness <= 0.158\\\\ngini = 0.245\\\\nsamples = 10\\\\nvalue = [0, 0, 0, 2, 0, 12, 0]\", fillcolor=\"#be5ae9\"] ;\\n2346 -> 2347 ;\\n2348 [label=\"duration_ms <= 218757.453\\\\ngini = 0.5\\\\nsamples = 2\\\\nvalue = [0, 0, 0, 2, 0, 2, 0]\", fillcolor=\"#ffffff\"] ;\\n2347 -> 2348 ;\\n2349 [label=\"gini = 0.0\\\\nsamples = 1\\\\nvalue = [0, 0, 0, 2, 0, 0, 0]\", fillcolor=\"#39e5e2\"] ;\\n2348 -> 2349 ;\\n2350 [label=\"gini = 0.0\\\\nsamples = 1\\\\nvalue = [0, 0, 0, 0, 0, 2, 0]\", fillcolor=\"#b139e5\"] ;\\n2348 -> 2350 ;\\n2351 [label=\"gini = 0.0\\\\nsamples = 8\\\\nvalue = [0, 0, 0, 0, 0, 10, 0]\", fillcolor=\"#b139e5\"] ;\\n2347 -> 2351 ;\\n2352 [label=\"popularity <= 56.484\\\\ngini = 0.375\\\\nsamples = 11\\\\nvalue = [0, 0, 0, 12, 0, 4, 0]\", fillcolor=\"#7beeec\"] ;\\n2346 -> 2352 ;\\n2353 [label=\"gini = 0.0\\\\nsamples = 3\\\\nvalue = [0, 0, 0, 6, 0, 0, 0]\", fillcolor=\"#39e5e2\"] ;\\n2352 -> 2353 ;\\n2354 [label=\"tempo <= 117.509\\\\ngini = 0.48\\\\nsamples = 8\\\\nvalue = [0, 0, 0, 6, 0, 4, 0]\", fillcolor=\"#bdf6f5\"] ;\\n2352 -> 2354 ;\\n2355 [label=\"gini = 0.0\\\\nsamples = 4\\\\nvalue = [0, 0, 0, 5, 0, 0, 0]\", fillcolor=\"#39e5e2\"] ;\\n2354 -> 2355 ;\\n2356 [label=\"danceability <= 0.923\\\\ngini = 0.32\\\\nsamples = 4\\\\nvalue = [0, 0, 0, 1, 0, 4, 0]\", fillcolor=\"#c46aec\"] ;\\n2354 -> 2356 ;\\n2357 [label=\"gini = 0.0\\\\nsamples = 2\\\\nvalue = [0, 0, 0, 0, 0, 3, 0]\", fillcolor=\"#b139e5\"] ;\\n2356 -> 2357 ;\\n2358 [label=\"speechiness <= 0.313\\\\ngini = 0.5\\\\nsamples = 2\\\\nvalue = [0, 0, 0, 1, 0, 1, 0]\", fillcolor=\"#ffffff\"] ;\\n2356 -> 2358 ;\\n2359 [label=\"gini = 0.0\\\\nsamples = 1\\\\nvalue = [0, 0, 0, 0, 0, 1, 0]\", fillcolor=\"#b139e5\"] ;\\n2358 -> 2359 ;\\n2360 [label=\"gini = 0.0\\\\nsamples = 1\\\\nvalue = [0, 0, 0, 1, 0, 0, 0]\", fillcolor=\"#39e5e2\"] ;\\n2358 -> 2360 ;\\n2361 [label=\"acousticness <= 0.142\\\\ngini = 0.128\\\\nsamples = 16\\\\nvalue = [0, 0, 0, 2, 0, 27, 0]\", fillcolor=\"#b748e7\"] ;\\n2345 -> 2361 ;\\n2362 [label=\"gini = 0.0\\\\nsamples = 11\\\\nvalue = [0, 0, 0, 0, 0, 21, 0]\", fillcolor=\"#b139e5\"] ;\\n2361 -> 2362 ;\\n2363 [label=\"acousticness <= 0.207\\\\ngini = 0.375\\\\nsamples = 5\\\\nvalue = [0, 0, 0, 2, 0, 6, 0]\", fillcolor=\"#cb7bee\"] ;\\n2361 -> 2363 ;\\n2364 [label=\"gini = 0.0\\\\nsamples = 1\\\\nvalue = [0, 0, 0, 1, 0, 0, 0]\", fillcolor=\"#39e5e2\"] ;\\n2363 -> 2364 ;\\n2365 [label=\"loudness <= -5.385\\\\ngini = 0.245\\\\nsamples = 4\\\\nvalue = [0, 0, 0, 1, 0, 6, 0]\", fillcolor=\"#be5ae9\"] ;\\n2363 -> 2365 ;\\n2366 [label=\"gini = 0.0\\\\nsamples = 1\\\\nvalue = [0, 0, 0, 1, 0, 0, 0]\", fillcolor=\"#39e5e2\"] ;\\n2365 -> 2366 ;\\n2367 [label=\"gini = 0.0\\\\nsamples = 3\\\\nvalue = [0, 0, 0, 0, 0, 6, 0]\", fillcolor=\"#b139e5\"] ;\\n2365 -> 2367 ;\\n2368 [label=\"energy <= 0.767\\\\ngini = 0.57\\\\nsamples = 10\\\\nvalue = [0, 0, 0, 0, 2, 5, 9]\", fillcolor=\"#f6b7d3\"] ;\\n2344 -> 2368 ;\\n2369 [label=\"instrumentalness <= 0.002\\\\ngini = 0.459\\\\nsamples = 9\\\\nvalue = [0, 0, 0, 0, 0, 5, 9]\", fillcolor=\"#f3a7c9\"] ;\\n2368 -> 2369 ;\\n2370 [label=\"valence <= 0.598\\\\ngini = 0.469\\\\nsamples = 6\\\\nvalue = [0, 0, 0, 0, 0, 5, 3]\", fillcolor=\"#e0b0f5\"] ;\\n2369 -> 2370 ;\\n2371 [label=\"valence <= 0.581\\\\ngini = 0.375\\\\nsamples = 2\\\\nvalue = [0, 0, 0, 0, 0, 1, 3]\", fillcolor=\"#ee7bae\"] ;\\n2370 -> 2371 ;\\n2372 [label=\"gini = 0.0\\\\nsamples = 1\\\\nvalue = [0, 0, 0, 0, 0, 1, 0]\", fillcolor=\"#b139e5\"] ;\\n2371 -> 2372 ;\\n2373 [label=\"gini = 0.0\\\\nsamples = 1\\\\nvalue = [0, 0, 0, 0, 0, 0, 3]\", fillcolor=\"#e53986\"] ;\\n2371 -> 2373 ;\\n2374 [label=\"gini = 0.0\\\\nsamples = 4\\\\nvalue = [0, 0, 0, 0, 0, 4, 0]\", fillcolor=\"#b139e5\"] ;\\n2370 -> 2374 ;\\n2375 [label=\"gini = 0.0\\\\nsamples = 3\\\\nvalue = [0, 0, 0, 0, 0, 0, 6]\", fillcolor=\"#e53986\"] ;\\n2369 -> 2375 ;\\n2376 [label=\"gini = 0.0\\\\nsamples = 1\\\\nvalue = [0, 0, 0, 0, 2, 0, 0]\", fillcolor=\"#3956e5\"] ;\\n2368 -> 2376 ;\\n2377 [label=\"valence <= 0.585\\\\ngini = 0.545\\\\nsamples = 36\\\\nvalue = [0, 0, 0, 21, 0, 38, 6]\", fillcolor=\"#e1b2f5\"] ;\\n2313 -> 2377 ;\\n2378 [label=\"speechiness <= 0.18\\\\ngini = 0.231\\\\nsamples = 20\\\\nvalue = [0, 0, 0, 4, 0, 26, 0]\", fillcolor=\"#bd57e9\"] ;\\n2377 -> 2378 ;\\n2379 [label=\"gini = 0.0\\\\nsamples = 8\\\\nvalue = [0, 0, 0, 0, 0, 15, 0]\", fillcolor=\"#b139e5\"] ;\\n2378 -> 2379 ;\\n2380 [label=\"loudness <= -5.014\\\\ngini = 0.391\\\\nsamples = 12\\\\nvalue = [0, 0, 0, 4, 0, 11, 0]\", fillcolor=\"#cd81ee\"] ;\\n2378 -> 2380 ;\\n2381 [label=\"energy <= 0.709\\\\ngini = 0.32\\\\nsamples = 4\\\\nvalue = [0, 0, 0, 4, 0, 1, 0]\", fillcolor=\"#6aece9\"] ;\\n2380 -> 2381 ;\\n2382 [label=\"gini = 0.0\\\\nsamples = 3\\\\nvalue = [0, 0, 0, 4, 0, 0, 0]\", fillcolor=\"#39e5e2\"] ;\\n2381 -> 2382 ;\\n2383 [label=\"gini = 0.0\\\\nsamples = 1\\\\nvalue = [0, 0, 0, 0, 0, 1, 0]\", fillcolor=\"#b139e5\"] ;\\n2381 -> 2383 ;\\n2384 [label=\"gini = 0.0\\\\nsamples = 8\\\\nvalue = [0, 0, 0, 0, 0, 10, 0]\", fillcolor=\"#b139e5\"] ;\\n2380 -> 2384 ;\\n2385 [label=\"liveness <= 0.087\\\\ngini = 0.617\\\\nsamples = 16\\\\nvalue = [0, 0, 0, 17, 0, 12, 6]\", fillcolor=\"#d4f9f9\"] ;\\n2377 -> 2385 ;\\n2386 [label=\"gini = 0.0\\\\nsamples = 4\\\\nvalue = [0, 0, 0, 0, 0, 6, 0]\", fillcolor=\"#b139e5\"] ;\\n2385 -> 2386 ;\\n2387 [label=\"danceability <= 0.901\\\\ngini = 0.571\\\\nsamples = 12\\\\nvalue = [0, 0, 0, 17, 0, 6, 6]\", fillcolor=\"#a0f3f1\"] ;\\n2385 -> 2387 ;\\n2388 [label=\"duration_ms <= 222595.703\\\\ngini = 0.658\\\\nsamples = 7\\\\nvalue = [0, 0, 0, 4, 0, 5, 6]\", fillcolor=\"#fcebf3\"] ;\\n2387 -> 2388 ;\\n2389 [label=\"valence <= 0.984\\\\ngini = 0.375\\\\nsamples = 3\\\\nvalue = [0, 0, 0, 2, 0, 0, 6]\", fillcolor=\"#ee7bae\"] ;\\n2388 -> 2389 ;\\n2390 [label=\"speechiness <= 0.248\\\\ngini = 0.5\\\\nsamples = 2\\\\nvalue = [0, 0, 0, 2, 0, 0, 2]\", fillcolor=\"#ffffff\"] ;\\n2389 -> 2390 ;\\n2391 [label=\"gini = 0.0\\\\nsamples = 1\\\\nvalue = [0, 0, 0, 0, 0, 0, 2]\", fillcolor=\"#e53986\"] ;\\n2390 -> 2391 ;\\n2392 [label=\"gini = 0.0\\\\nsamples = 1\\\\nvalue = [0, 0, 0, 2, 0, 0, 0]\", fillcolor=\"#39e5e2\"] ;\\n2390 -> 2392 ;\\n2393 [label=\"gini = 0.0\\\\nsamples = 1\\\\nvalue = [0, 0, 0, 0, 0, 0, 4]\", fillcolor=\"#e53986\"] ;\\n2389 -> 2393 ;\\n2394 [label=\"acousticness <= 0.4\\\\ngini = 0.408\\\\nsamples = 4\\\\nvalue = [0, 0, 0, 2, 0, 5, 0]\", fillcolor=\"#d088ef\"] ;\\n2388 -> 2394 ;\\n2395 [label=\"gini = 0.0\\\\nsamples = 3\\\\nvalue = [0, 0, 0, 0, 0, 5, 0]\", fillcolor=\"#b139e5\"] ;\\n2394 -> 2395 ;\\n2396 [label=\"gini = 0.0\\\\nsamples = 1\\\\nvalue = [0, 0, 0, 2, 0, 0, 0]\", fillcolor=\"#39e5e2\"] ;\\n2394 -> 2396 ;\\n2397 [label=\"speechiness <= 0.28\\\\ngini = 0.133\\\\nsamples = 5\\\\nvalue = [0, 0, 0, 13, 0, 1, 0]\", fillcolor=\"#48e7e4\"] ;\\n2387 -> 2397 ;\\n2398 [label=\"gini = 0.0\\\\nsamples = 3\\\\nvalue = [0, 0, 0, 8, 0, 0, 0]\", fillcolor=\"#39e5e2\"] ;\\n2397 -> 2398 ;\\n2399 [label=\"popularity <= 81.554\\\\ngini = 0.278\\\\nsamples = 2\\\\nvalue = [0, 0, 0, 5, 0, 1, 0]\", fillcolor=\"#61eae8\"] ;\\n2397 -> 2399 ;\\n2400 [label=\"gini = 0.0\\\\nsamples = 1\\\\nvalue = [0, 0, 0, 5, 0, 0, 0]\", fillcolor=\"#39e5e2\"] ;\\n2399 -> 2400 ;\\n2401 [label=\"gini = 0.0\\\\nsamples = 1\\\\nvalue = [0, 0, 0, 0, 0, 1, 0]\", fillcolor=\"#b139e5\"] ;\\n2399 -> 2401 ;\\n2402 [label=\"acousticness <= 0.048\\\\ngini = 0.267\\\\nsamples = 32\\\\nvalue = [0, 0, 5, 2, 39, 0, 0]\", fillcolor=\"#5b73e9\"] ;\\n2090 -> 2402 ;\\n2403 [label=\"instrumentalness <= 0.844\\\\ngini = 0.628\\\\nsamples = 8\\\\nvalue = [0, 0, 4, 2, 5, 0, 0]\", fillcolor=\"#e3e7fb\"] ;\\n2402 -> 2403 ;\\n2404 [label=\"speechiness <= 0.134\\\\ngini = 0.48\\\\nsamples = 3\\\\nvalue = [0, 0, 3, 2, 0, 0, 0]\", fillcolor=\"#bdf6c4\"] ;\\n2403 -> 2404 ;\\n2405 [label=\"gini = 0.0\\\\nsamples = 1\\\\nvalue = [0, 0, 0, 2, 0, 0, 0]\", fillcolor=\"#39e5e2\"] ;\\n2404 -> 2405 ;\\n2406 [label=\"gini = 0.0\\\\nsamples = 2\\\\nvalue = [0, 0, 3, 0, 0, 0, 0]\", fillcolor=\"#39e54d\"] ;\\n2404 -> 2406 ;\\n2407 [label=\"instrumentalness <= 0.953\\\\ngini = 0.278\\\\nsamples = 5\\\\nvalue = [0, 0, 1, 0, 5, 0, 0]\", fillcolor=\"#6178ea\"] ;\\n2403 -> 2407 ;\\n2408 [label=\"gini = 0.0\\\\nsamples = 4\\\\nvalue = [0, 0, 0, 0, 5, 0, 0]\", fillcolor=\"#3956e5\"] ;\\n2407 -> 2408 ;\\n2409 [label=\"gini = 0.0\\\\nsamples = 1\\\\nvalue = [0, 0, 1, 0, 0, 0, 0]\", fillcolor=\"#39e54d\"] ;\\n2407 -> 2409 ;\\n2410 [label=\"liveness <= 0.089\\\\ngini = 0.056\\\\nsamples = 24\\\\nvalue = [0, 0, 1, 0, 34, 0, 0]\", fillcolor=\"#3f5be6\"] ;\\n2402 -> 2410 ;\\n2411 [label=\"speechiness <= 0.126\\\\ngini = 0.5\\\\nsamples = 2\\\\nvalue = [0, 0, 1, 0, 1, 0, 0]\", fillcolor=\"#ffffff\"] ;\\n2410 -> 2411 ;\\n2412 [label=\"gini = 0.0\\\\nsamples = 1\\\\nvalue = [0, 0, 1, 0, 0, 0, 0]\", fillcolor=\"#39e54d\"] ;\\n2411 -> 2412 ;\\n2413 [label=\"gini = 0.0\\\\nsamples = 1\\\\nvalue = [0, 0, 0, 0, 1, 0, 0]\", fillcolor=\"#3956e5\"] ;\\n2411 -> 2413 ;\\n2414 [label=\"gini = 0.0\\\\nsamples = 22\\\\nvalue = [0, 0, 0, 0, 33, 0, 0]\", fillcolor=\"#3956e5\"] ;\\n2410 -> 2414 ;\\n2415 [label=\"popularity <= 50.77\\\\ngini = 0.712\\\\nsamples = 1434\\\\nvalue = [148, 117, 199, 60, 212, 452, 1065]\", fillcolor=\"#f6bcd6\"] ;\\n1 -> 2415 ;\\n2416 [label=\"energy <= 0.996\\\\ngini = 0.743\\\\nsamples = 340\\\\nvalue = [129, 62, 167, 0, 168, 5, 16]\", fillcolor=\"#feffff\"] ;\\n2415 -> 2416 ;\\n2417 [label=\"popularity <= 36.937\\\\ngini = 0.731\\\\nsamples = 236\\\\nvalue = [49, 58, 110, 0, 138, 5, 11]\", fillcolor=\"#eaedfc\"] ;\\n2416 -> 2417 ;\\n2418 [label=\"acousticness <= 0.038\\\\ngini = 0.618\\\\nsamples = 78\\\\nvalue = [10, 5, 70, 0, 36, 3, 5]\", fillcolor=\"#b7f5be\"] ;\\n2417 -> 2418 ;\\n2419 [label=\"acousticness <= 0.001\\\\ngini = 0.464\\\\nsamples = 40\\\\nvalue = [5, 2, 47, 0, 13, 0, 0]\", fillcolor=\"#82ef8f\"] ;\\n2418 -> 2419 ;\\n2420 [label=\"danceability <= 0.375\\\\ngini = 0.549\\\\nsamples = 10\\\\nvalue = [1, 0, 8, 0, 9, 0, 0]\", fillcolor=\"#ebeefc\"] ;\\n2419 -> 2420 ;\\n2421 [label=\"gini = 0.0\\\\nsamples = 3\\\\nvalue = [0, 0, 0, 0, 6, 0, 0]\", fillcolor=\"#3956e5\"] ;\\n2420 -> 2421 ;\\n2422 [label=\"valence <= 0.741\\\\ngini = 0.486\\\\nsamples = 7\\\\nvalue = [1, 0, 8, 0, 3, 0, 0]\", fillcolor=\"#91f19c\"] ;\\n2420 -> 2422 ;\\n2423 [label=\"duration_ms <= 436351.828\\\\ngini = 0.198\\\\nsamples = 6\\\\nvalue = [1, 0, 8, 0, 0, 0, 0]\", fillcolor=\"#52e863\"] ;\\n2422 -> 2423 ;\\n2424 [label=\"gini = 0.0\\\\nsamples = 5\\\\nvalue = [0, 0, 8, 0, 0, 0, 0]\", fillcolor=\"#39e54d\"] ;\\n2423 -> 2424 ;\\n2425 [label=\"gini = 0.0\\\\nsamples = 1\\\\nvalue = [1, 0, 0, 0, 0, 0, 0]\", fillcolor=\"#e58139\"] ;\\n2423 -> 2425 ;\\n2426 [label=\"gini = 0.0\\\\nsamples = 1\\\\nvalue = [0, 0, 0, 0, 3, 0, 0]\", fillcolor=\"#3956e5\"] ;\\n2422 -> 2426 ;\\n2427 [label=\"danceability <= 0.529\\\\ngini = 0.352\\\\nsamples = 30\\\\nvalue = [4, 2, 39, 0, 4, 0, 0]\", fillcolor=\"#65eb75\"] ;\\n2419 -> 2427 ;\\n2428 [label=\"liveness <= 0.123\\\\ngini = 0.735\\\\nsamples = 5\\\\nvalue = [2, 2, 1, 0, 2, 0, 0]\", fillcolor=\"#ffffff\"] ;\\n2427 -> 2428 ;\\n2429 [label=\"gini = 0.0\\\\nsamples = 1\\\\nvalue = [0, 2, 0, 0, 0, 0, 0]\", fillcolor=\"#b7e539\"] ;\\n2428 -> 2429 ;\\n2430 [label=\"speechiness <= 0.059\\\\ngini = 0.64\\\\nsamples = 4\\\\nvalue = [2, 0, 1, 0, 2, 0, 0]\", fillcolor=\"#ffffff\"] ;\\n2428 -> 2430 ;\\n2431 [label=\"gini = 0.0\\\\nsamples = 1\\\\nvalue = [0, 0, 0, 0, 2, 0, 0]\", fillcolor=\"#3956e5\"] ;\\n2430 -> 2431 ;\\n2432 [label=\"valence <= 0.207\\\\ngini = 0.444\\\\nsamples = 3\\\\nvalue = [2, 0, 1, 0, 0, 0, 0]\", fillcolor=\"#f2c09c\"] ;\\n2430 -> 2432 ;\\n2433 [label=\"gini = 0.0\\\\nsamples = 2\\\\nvalue = [2, 0, 0, 0, 0, 0, 0]\", fillcolor=\"#e58139\"] ;\\n2432 -> 2433 ;\\n2434 [label=\"gini = 0.0\\\\nsamples = 1\\\\nvalue = [0, 0, 1, 0, 0, 0, 0]\", fillcolor=\"#39e54d\"] ;\\n2432 -> 2434 ;\\n2435 [label=\"energy <= 0.963\\\\ngini = 0.177\\\\nsamples = 25\\\\nvalue = [2, 0, 38, 0, 2, 0, 0]\", fillcolor=\"#4de85f\"] ;\\n2427 -> 2435 ;\\n2436 [label=\"danceability <= 0.842\\\\ngini = 0.109\\\\nsamples = 20\\\\nvalue = [1, 0, 33, 0, 1, 0, 0]\", fillcolor=\"#45e757\"] ;\\n2435 -> 2436 ;\\n2437 [label=\"energy <= 0.875\\\\ngini = 0.057\\\\nsamples = 19\\\\nvalue = [1, 0, 33, 0, 0, 0, 0]\", fillcolor=\"#3fe652\"] ;\\n2436 -> 2437 ;\\n2438 [label=\"speechiness <= 0.047\\\\ngini = 0.375\\\\nsamples = 3\\\\nvalue = [1, 0, 3, 0, 0, 0, 0]\", fillcolor=\"#7bee88\"] ;\\n2437 -> 2438 ;\\n2439 [label=\"gini = 0.0\\\\nsamples = 1\\\\nvalue = [1, 0, 0, 0, 0, 0, 0]\", fillcolor=\"#e58139\"] ;\\n2438 -> 2439 ;\\n2440 [label=\"gini = 0.0\\\\nsamples = 2\\\\nvalue = [0, 0, 3, 0, 0, 0, 0]\", fillcolor=\"#39e54d\"] ;\\n2438 -> 2440 ;\\n2441 [label=\"gini = 0.0\\\\nsamples = 16\\\\nvalue = [0, 0, 30, 0, 0, 0, 0]\", fillcolor=\"#39e54d\"] ;\\n2437 -> 2441 ;\\n2442 [label=\"gini = 0.0\\\\nsamples = 1\\\\nvalue = [0, 0, 0, 0, 1, 0, 0]\", fillcolor=\"#3956e5\"] ;\\n2436 -> 2442 ;\\n2443 [label=\"loudness <= -3.31\\\\ngini = 0.449\\\\nsamples = 5\\\\nvalue = [1, 0, 5, 0, 1, 0, 0]\", fillcolor=\"#7bee88\"] ;\\n2435 -> 2443 ;\\n2444 [label=\"danceability <= 0.743\\\\ngini = 0.278\\\\nsamples = 4\\\\nvalue = [1, 0, 5, 0, 0, 0, 0]\", fillcolor=\"#61ea71\"] ;\\n2443 -> 2444 ;\\n2445 [label=\"liveness <= 0.139\\\\ngini = 0.5\\\\nsamples = 2\\\\nvalue = [1, 0, 1, 0, 0, 0, 0]\", fillcolor=\"#ffffff\"] ;\\n2444 -> 2445 ;\\n2446 [label=\"gini = 0.0\\\\nsamples = 1\\\\nvalue = [0, 0, 1, 0, 0, 0, 0]\", fillcolor=\"#39e54d\"] ;\\n2445 -> 2446 ;\\n2447 [label=\"gini = 0.0\\\\nsamples = 1\\\\nvalue = [1, 0, 0, 0, 0, 0, 0]\", fillcolor=\"#e58139\"] ;\\n2445 -> 2447 ;\\n2448 [label=\"gini = 0.0\\\\nsamples = 2\\\\nvalue = [0, 0, 4, 0, 0, 0, 0]\", fillcolor=\"#39e54d\"] ;\\n2444 -> 2448 ;\\n2449 [label=\"gini = 0.0\\\\nsamples = 1\\\\nvalue = [0, 0, 0, 0, 1, 0, 0]\", fillcolor=\"#3956e5\"] ;\\n2443 -> 2449 ;\\n2450 [label=\"tempo <= 121.318\\\\ngini = 0.707\\\\nsamples = 38\\\\nvalue = [5, 3, 23, 0, 23, 3, 5]\", fillcolor=\"#ffffff\"] ;\\n2418 -> 2450 ;\\n2451 [label=\"valence <= 0.493\\\\ngini = 0.56\\\\nsamples = 19\\\\nvalue = [2, 0, 7, 0, 19, 0, 3]\", fillcolor=\"#9caaf2\"] ;\\n2450 -> 2451 ;\\n2452 [label=\"danceability <= 0.477\\\\ngini = 0.531\\\\nsamples = 5\\\\nvalue = [2, 0, 5, 0, 0, 0, 1]\", fillcolor=\"#9cf2a6\"] ;\\n2451 -> 2452 ;\\n2453 [label=\"gini = 0.0\\\\nsamples = 1\\\\nvalue = [2, 0, 0, 0, 0, 0, 0]\", fillcolor=\"#e58139\"] ;\\n2452 -> 2453 ;\\n2454 [label=\"popularity <= 17.44\\\\ngini = 0.278\\\\nsamples = 4\\\\nvalue = [0, 0, 5, 0, 0, 0, 1]\", fillcolor=\"#61ea71\"] ;\\n2452 -> 2454 ;\\n2455 [label=\"gini = 0.0\\\\nsamples = 1\\\\nvalue = [0, 0, 0, 0, 0, 0, 1]\", fillcolor=\"#e53986\"] ;\\n2454 -> 2455 ;\\n2456 [label=\"gini = 0.0\\\\nsamples = 3\\\\nvalue = [0, 0, 5, 0, 0, 0, 0]\", fillcolor=\"#39e54d\"] ;\\n2454 -> 2456 ;\\n2457 [label=\"instrumentalness <= 0.971\\\\ngini = 0.302\\\\nsamples = 14\\\\nvalue = [0, 0, 2, 0, 19, 0, 2]\", fillcolor=\"#5f76ea\"] ;\\n2451 -> 2457 ;\\n2458 [label=\"valence <= 0.903\\\\ngini = 0.244\\\\nsamples = 13\\\\nvalue = [0, 0, 1, 0, 19, 0, 2]\", fillcolor=\"#576fe9\"] ;\\n2457 -> 2458 ;\\n2459 [label=\"instrumentalness <= 0.049\\\\ngini = 0.117\\\\nsamples = 9\\\\nvalue = [0, 0, 1, 0, 15, 0, 0]\", fillcolor=\"#4661e7\"] ;\\n2458 -> 2459 ;\\n2460 [label=\"liveness <= 0.146\\\\ngini = 0.444\\\\nsamples = 2\\\\nvalue = [0, 0, 1, 0, 2, 0, 0]\", fillcolor=\"#9caaf2\"] ;\\n2459 -> 2460 ;\\n2461 [label=\"gini = 0.0\\\\nsamples = 1\\\\nvalue = [0, 0, 0, 0, 2, 0, 0]\", fillcolor=\"#3956e5\"] ;\\n2460 -> 2461 ;\\n2462 [label=\"gini = 0.0\\\\nsamples = 1\\\\nvalue = [0, 0, 1, 0, 0, 0, 0]\", fillcolor=\"#39e54d\"] ;\\n2460 -> 2462 ;\\n2463 [label=\"gini = 0.0\\\\nsamples = 7\\\\nvalue = [0, 0, 0, 0, 13, 0, 0]\", fillcolor=\"#3956e5\"] ;\\n2459 -> 2463 ;\\n2464 [label=\"instrumentalness <= 0.0\\\\ngini = 0.444\\\\nsamples = 4\\\\nvalue = [0, 0, 0, 0, 4, 0, 2]\", fillcolor=\"#9caaf2\"] ;\\n2458 -> 2464 ;\\n2465 [label=\"gini = 0.0\\\\nsamples = 1\\\\nvalue = [0, 0, 0, 0, 0, 0, 2]\", fillcolor=\"#e53986\"] ;\\n2464 -> 2465 ;\\n2466 [label=\"gini = 0.0\\\\nsamples = 3\\\\nvalue = [0, 0, 0, 0, 4, 0, 0]\", fillcolor=\"#3956e5\"] ;\\n2464 -> 2466 ;\\n2467 [label=\"gini = 0.0\\\\nsamples = 1\\\\nvalue = [0, 0, 1, 0, 0, 0, 0]\", fillcolor=\"#39e54d\"] ;\\n2457 -> 2467 ;\\n2468 [label=\"speechiness <= 0.046\\\\ngini = 0.685\\\\nsamples = 19\\\\nvalue = [3, 3, 16, 0, 4, 3, 2]\", fillcolor=\"#a7f3b0\"] ;\\n2450 -> 2468 ;\\n2469 [label=\"gini = 0.0\\\\nsamples = 2\\\\nvalue = [0, 0, 0, 0, 3, 0, 0]\", fillcolor=\"#3956e5\"] ;\\n2468 -> 2469 ;\\n2470 [label=\"popularity <= 28.104\\\\ngini = 0.633\\\\nsamples = 17\\\\nvalue = [3, 3, 16, 0, 1, 3, 2]\", fillcolor=\"#98f1a2\"] ;\\n2468 -> 2470 ;\\n2471 [label=\"liveness <= 0.509\\\\ngini = 0.716\\\\nsamples = 6\\\\nvalue = [0, 3, 1, 0, 0, 3, 2]\", fillcolor=\"#ffffff\"] ;\\n2470 -> 2471 ;\\n2472 [label=\"speechiness <= 0.066\\\\ngini = 0.611\\\\nsamples = 4\\\\nvalue = [0, 3, 1, 0, 0, 0, 2]\", fillcolor=\"#edf8ce\"] ;\\n2471 -> 2472 ;\\n2473 [label=\"gini = 0.0\\\\nsamples = 2\\\\nvalue = [0, 3, 0, 0, 0, 0, 0]\", fillcolor=\"#b7e539\"] ;\\n2472 -> 2473 ;\\n2474 [label=\"popularity <= 27.349\\\\ngini = 0.444\\\\nsamples = 2\\\\nvalue = [0, 0, 1, 0, 0, 0, 2]\", fillcolor=\"#f29cc2\"] ;\\n2472 -> 2474 ;\\n2475 [label=\"gini = 0.0\\\\nsamples = 1\\\\nvalue = [0, 0, 0, 0, 0, 0, 2]\", fillcolor=\"#e53986\"] ;\\n2474 -> 2475 ;\\n2476 [label=\"gini = 0.0\\\\nsamples = 1\\\\nvalue = [0, 0, 1, 0, 0, 0, 0]\", fillcolor=\"#39e54d\"] ;\\n2474 -> 2476 ;\\n2477 [label=\"gini = 0.0\\\\nsamples = 2\\\\nvalue = [0, 0, 0, 0, 0, 3, 0]\", fillcolor=\"#b139e5\"] ;\\n2471 -> 2477 ;\\n2478 [label=\"danceability <= 0.522\\\\ngini = 0.349\\\\nsamples = 11\\\\nvalue = [3, 0, 15, 0, 1, 0, 0]\", fillcolor=\"#6aec7a\"] ;\\n2470 -> 2478 ;\\n2479 [label=\"gini = 0.0\\\\nsamples = 1\\\\nvalue = [2, 0, 0, 0, 0, 0, 0]\", fillcolor=\"#e58139\"] ;\\n2478 -> 2479 ;\\n2480 [label=\"acousticness <= 0.061\\\\ngini = 0.215\\\\nsamples = 10\\\\nvalue = [1, 0, 15, 0, 1, 0, 0]\", fillcolor=\"#52e863\"] ;\\n2478 -> 2480 ;\\n2481 [label=\"gini = 0.0\\\\nsamples = 1\\\\nvalue = [0, 0, 0, 0, 1, 0, 0]\", fillcolor=\"#3956e5\"] ;\\n2480 -> 2481 ;\\n2482 [label=\"danceability <= 0.633\\\\ngini = 0.117\\\\nsamples = 9\\\\nvalue = [1, 0, 15, 0, 0, 0, 0]\", fillcolor=\"#46e759\"] ;\\n2480 -> 2482 ;\\n2483 [label=\"valence <= 0.58\\\\ngini = 0.375\\\\nsamples = 2\\\\nvalue = [1, 0, 3, 0, 0, 0, 0]\", fillcolor=\"#7bee88\"] ;\\n2482 -> 2483 ;\\n2484 [label=\"gini = 0.0\\\\nsamples = 1\\\\nvalue = [1, 0, 0, 0, 0, 0, 0]\", fillcolor=\"#e58139\"] ;\\n2483 -> 2484 ;\\n2485 [label=\"gini = 0.0\\\\nsamples = 1\\\\nvalue = [0, 0, 3, 0, 0, 0, 0]\", fillcolor=\"#39e54d\"] ;\\n2483 -> 2485 ;\\n2486 [label=\"gini = 0.0\\\\nsamples = 7\\\\nvalue = [0, 0, 12, 0, 0, 0, 0]\", fillcolor=\"#39e54d\"] ;\\n2482 -> 2486 ;\\n2487 [label=\"instrumentalness <= 0.0\\\\ngini = 0.72\\\\nsamples = 158\\\\nvalue = [39, 53, 40, 0, 102, 2, 6]\", fillcolor=\"#ccd3f8\"] ;\\n2417 -> 2487 ;\\n2488 [label=\"acousticness <= 0.013\\\\ngini = 0.605\\\\nsamples = 61\\\\nvalue = [10, 53, 5, 0, 18, 1, 4]\", fillcolor=\"#dcf3a0\"] ;\\n2487 -> 2488 ;\\n2489 [label=\"loudness <= -7.627\\\\ngini = 0.462\\\\nsamples = 11\\\\nvalue = [9, 3, 0, 0, 0, 1, 0]\", fillcolor=\"#efb388\"] ;\\n2488 -> 2489 ;\\n2490 [label=\"gini = 0.0\\\\nsamples = 1\\\\nvalue = [0, 0, 0, 0, 0, 1, 0]\", fillcolor=\"#b139e5\"] ;\\n2489 -> 2490 ;\\n2491 [label=\"liveness <= 0.173\\\\ngini = 0.375\\\\nsamples = 10\\\\nvalue = [9, 3, 0, 0, 0, 0, 0]\", fillcolor=\"#eeab7b\"] ;\\n2489 -> 2491 ;\\n2492 [label=\"gini = 0.0\\\\nsamples = 5\\\\nvalue = [6, 0, 0, 0, 0, 0, 0]\", fillcolor=\"#e58139\"] ;\\n2491 -> 2492 ;\\n2493 [label=\"duration_ms <= 292198.992\\\\ngini = 0.5\\\\nsamples = 5\\\\nvalue = [3, 3, 0, 0, 0, 0, 0]\", fillcolor=\"#ffffff\"] ;\\n2491 -> 2493 ;\\n2494 [label=\"gini = 0.0\\\\nsamples = 3\\\\nvalue = [0, 3, 0, 0, 0, 0, 0]\", fillcolor=\"#b7e539\"] ;\\n2493 -> 2494 ;\\n2495 [label=\"gini = 0.0\\\\nsamples = 2\\\\nvalue = [3, 0, 0, 0, 0, 0, 0]\", fillcolor=\"#e58139\"] ;\\n2493 -> 2495 ;\\n2496 [label=\"danceability <= 0.803\\\\ngini = 0.529\\\\nsamples = 50\\\\nvalue = [1, 50, 5, 0, 18, 0, 4]\", fillcolor=\"#d9f195\"] ;\\n2488 -> 2496 ;\\n2497 [label=\"popularity <= 50.076\\\\ngini = 0.5\\\\nsamples = 48\\\\nvalue = [1, 50, 5, 0, 14, 0, 4]\", fillcolor=\"#d4ef88\"] ;\\n2496 -> 2497 ;\\n2498 [label=\"liveness <= 0.083\\\\ngini = 0.468\\\\nsamples = 44\\\\nvalue = [1, 45, 5, 0, 14, 0, 0]\", fillcolor=\"#d3ef87\"] ;\\n2497 -> 2498 ;\\n2499 [label=\"tempo <= 109.353\\\\ngini = 0.56\\\\nsamples = 4\\\\nvalue = [0, 1, 3, 0, 1, 0, 0]\", fillcolor=\"#9cf2a6\"] ;\\n2498 -> 2499 ;\\n2500 [label=\"tempo <= 85.796\\\\ngini = 0.5\\\\nsamples = 2\\\\nvalue = [0, 1, 0, 0, 1, 0, 0]\", fillcolor=\"#ffffff\"] ;\\n2499 -> 2500 ;\\n2501 [label=\"gini = 0.0\\\\nsamples = 1\\\\nvalue = [0, 1, 0, 0, 0, 0, 0]\", fillcolor=\"#b7e539\"] ;\\n2500 -> 2501 ;\\n2502 [label=\"gini = 0.0\\\\nsamples = 1\\\\nvalue = [0, 0, 0, 0, 1, 0, 0]\", fillcolor=\"#3956e5\"] ;\\n2500 -> 2502 ;\\n2503 [label=\"gini = 0.0\\\\nsamples = 2\\\\nvalue = [0, 0, 3, 0, 0, 0, 0]\", fillcolor=\"#39e54d\"] ;\\n2499 -> 2503 ;\\n2504 [label=\"popularity <= 49.684\\\\ngini = 0.414\\\\nsamples = 40\\\\nvalue = [1, 44, 2, 0, 13, 0, 0]\", fillcolor=\"#d0ee7c\"] ;\\n2498 -> 2504 ;\\n2505 [label=\"acousticness <= 0.043\\\\ngini = 0.401\\\\nsamples = 39\\\\nvalue = [1, 44, 2, 0, 12, 0, 0]\", fillcolor=\"#ceed78\"] ;\\n2504 -> 2505 ;\\n2506 [label=\"gini = 0.0\\\\nsamples = 10\\\\nvalue = [0, 17, 0, 0, 0, 0, 0]\", fillcolor=\"#b7e539\"] ;\\n2505 -> 2506 ;\\n2507 [label=\"duration_ms <= 230775.758\\\\ngini = 0.502\\\\nsamples = 29\\\\nvalue = [1, 27, 2, 0, 12, 0, 0]\", fillcolor=\"#dbf29c\"] ;\\n2505 -> 2507 ;\\n2508 [label=\"acousticness <= 0.35\\\\ngini = 0.21\\\\nsamples = 17\\\\nvalue = [0, 23, 1, 0, 2, 0, 0]\", fillcolor=\"#c0e852\"] ;\\n2507 -> 2508 ;\\n2509 [label=\"speechiness <= 0.192\\\\ngini = 0.338\\\\nsamples = 13\\\\nvalue = [0, 12, 1, 0, 2, 0, 0]\", fillcolor=\"#c8eb67\"] ;\\n2508 -> 2509 ;\\n2510 [label=\"duration_ms <= 199477.008\\\\ngini = 0.255\\\\nsamples = 12\\\\nvalue = [0, 12, 1, 0, 1, 0, 0]\", fillcolor=\"#c2e957\"] ;\\n2509 -> 2510 ;\\n2511 [label=\"gini = 0.0\\\\nsamples = 6\\\\nvalue = [0, 6, 0, 0, 0, 0, 0]\", fillcolor=\"#b7e539\"] ;\\n2510 -> 2511 ;\\n2512 [label=\"energy <= 0.916\\\\ngini = 0.406\\\\nsamples = 6\\\\nvalue = [0, 6, 1, 0, 1, 0, 0]\", fillcolor=\"#ccec72\"] ;\\n2510 -> 2512 ;\\n2513 [label=\"acousticness <= 0.175\\\\ngini = 0.245\\\\nsamples = 5\\\\nvalue = [0, 6, 1, 0, 0, 0, 0]\", fillcolor=\"#c3e95a\"] ;\\n2512 -> 2513 ;\\n2514 [label=\"gini = 0.0\\\\nsamples = 4\\\\nvalue = [0, 6, 0, 0, 0, 0, 0]\", fillcolor=\"#b7e539\"] ;\\n2513 -> 2514 ;\\n2515 [label=\"gini = 0.0\\\\nsamples = 1\\\\nvalue = [0, 0, 1, 0, 0, 0, 0]\", fillcolor=\"#39e54d\"] ;\\n2513 -> 2515 ;\\n2516 [label=\"gini = 0.0\\\\nsamples = 1\\\\nvalue = [0, 0, 0, 0, 1, 0, 0]\", fillcolor=\"#3956e5\"] ;\\n2512 -> 2516 ;\\n2517 [label=\"gini = 0.0\\\\nsamples = 1\\\\nvalue = [0, 0, 0, 0, 1, 0, 0]\", fillcolor=\"#3956e5\"] ;\\n2509 -> 2517 ;\\n2518 [label=\"gini = 0.0\\\\nsamples = 4\\\\nvalue = [0, 11, 0, 0, 0, 0, 0]\", fillcolor=\"#b7e539\"] ;\\n2508 -> 2518 ;\\n2519 [label=\"liveness <= 0.22\\\\ngini = 0.539\\\\nsamples = 12\\\\nvalue = [1, 4, 1, 0, 10, 0, 0]\", fillcolor=\"#9caaf2\"] ;\\n2507 -> 2519 ;\\n2520 [label=\"danceability <= 0.72\\\\ngini = 0.198\\\\nsamples = 6\\\\nvalue = [0, 0, 1, 0, 8, 0, 0]\", fillcolor=\"#526be8\"] ;\\n2519 -> 2520 ;\\n2521 [label=\"gini = 0.0\\\\nsamples = 5\\\\nvalue = [0, 0, 0, 0, 8, 0, 0]\", fillcolor=\"#3956e5\"] ;\\n2520 -> 2521 ;\\n2522 [label=\"gini = 0.0\\\\nsamples = 1\\\\nvalue = [0, 0, 1, 0, 0, 0, 0]\", fillcolor=\"#39e54d\"] ;\\n2520 -> 2522 ;\\n2523 [label=\"duration_ms <= 294653.234\\\\ngini = 0.571\\\\nsamples = 6\\\\nvalue = [1, 4, 0, 0, 2, 0, 0]\", fillcolor=\"#e2f5b0\"] ;\\n2519 -> 2523 ;\\n2524 [label=\"valence <= 0.432\\\\ngini = 0.32\\\\nsamples = 4\\\\nvalue = [1, 4, 0, 0, 0, 0, 0]\", fillcolor=\"#c9ec6a\"] ;\\n2523 -> 2524 ;\\n2525 [label=\"gini = 0.0\\\\nsamples = 1\\\\nvalue = [1, 0, 0, 0, 0, 0, 0]\", fillcolor=\"#e58139\"] ;\\n2524 -> 2525 ;\\n2526 [label=\"gini = 0.0\\\\nsamples = 3\\\\nvalue = [0, 4, 0, 0, 0, 0, 0]\", fillcolor=\"#b7e539\"] ;\\n2524 -> 2526 ;\\n2527 [label=\"gini = 0.0\\\\nsamples = 2\\\\nvalue = [0, 0, 0, 0, 2, 0, 0]\", fillcolor=\"#3956e5\"] ;\\n2523 -> 2527 ;\\n2528 [label=\"gini = 0.0\\\\nsamples = 1\\\\nvalue = [0, 0, 0, 0, 1, 0, 0]\", fillcolor=\"#3956e5\"] ;\\n2504 -> 2528 ;\\n2529 [label=\"valence <= 0.669\\\\ngini = 0.494\\\\nsamples = 4\\\\nvalue = [0, 5, 0, 0, 0, 0, 4]\", fillcolor=\"#f1fad7\"] ;\\n2497 -> 2529 ;\\n2530 [label=\"gini = 0.0\\\\nsamples = 1\\\\nvalue = [0, 0, 0, 0, 0, 0, 4]\", fillcolor=\"#e53986\"] ;\\n2529 -> 2530 ;\\n2531 [label=\"gini = 0.0\\\\nsamples = 3\\\\nvalue = [0, 5, 0, 0, 0, 0, 0]\", fillcolor=\"#b7e539\"] ;\\n2529 -> 2531 ;\\n2532 [label=\"gini = 0.0\\\\nsamples = 2\\\\nvalue = [0, 0, 0, 0, 4, 0, 0]\", fillcolor=\"#3956e5\"] ;\\n2496 -> 2532 ;\\n2533 [label=\"acousticness <= 0.006\\\\ngini = 0.6\\\\nsamples = 97\\\\nvalue = [29, 0, 35, 0, 84, 1, 2]\", fillcolor=\"#abb8f4\"] ;\\n2487 -> 2533 ;\\n2534 [label=\"danceability <= 0.6\\\\ngini = 0.655\\\\nsamples = 36\\\\nvalue = [22, 0, 14, 0, 17, 0, 0]\", fillcolor=\"#fbeee3\"] ;\\n2533 -> 2534 ;\\n2535 [label=\"duration_ms <= 461747.812\\\\ngini = 0.555\\\\nsamples = 23\\\\nvalue = [22, 0, 5, 0, 10, 0, 0]\", fillcolor=\"#f3c7a7\"] ;\\n2534 -> 2535 ;\\n2536 [label=\"liveness <= 0.225\\\\ngini = 0.376\\\\nsamples = 14\\\\nvalue = [17, 0, 2, 0, 3, 0, 0]\", fillcolor=\"#eca26d\"] ;\\n2535 -> 2536 ;\\n2537 [label=\"gini = 0.0\\\\nsamples = 8\\\\nvalue = [15, 0, 0, 0, 0, 0, 0]\", fillcolor=\"#e58139\"] ;\\n2536 -> 2537 ;\\n2538 [label=\"danceability <= 0.516\\\\ngini = 0.653\\\\nsamples = 6\\\\nvalue = [2, 0, 2, 0, 3, 0, 0]\", fillcolor=\"#d7ddfa\"] ;\\n2536 -> 2538 ;\\n2539 [label=\"gini = 0.0\\\\nsamples = 3\\\\nvalue = [0, 0, 0, 0, 3, 0, 0]\", fillcolor=\"#3956e5\"] ;\\n2538 -> 2539 ;\\n2540 [label=\"tempo <= 162.307\\\\ngini = 0.5\\\\nsamples = 3\\\\nvalue = [2, 0, 2, 0, 0, 0, 0]\", fillcolor=\"#ffffff\"] ;\\n2538 -> 2540 ;\\n2541 [label=\"gini = 0.0\\\\nsamples = 2\\\\nvalue = [2, 0, 0, 0, 0, 0, 0]\", fillcolor=\"#e58139\"] ;\\n2540 -> 2541 ;\\n2542 [label=\"gini = 0.0\\\\nsamples = 1\\\\nvalue = [0, 0, 2, 0, 0, 0, 0]\", fillcolor=\"#39e54d\"] ;\\n2540 -> 2542 ;\\n2543 [label=\"popularity <= 39.734\\\\ngini = 0.631\\\\nsamples = 9\\\\nvalue = [5, 0, 3, 0, 7, 0, 0]\", fillcolor=\"#d7ddfa\"] ;\\n2535 -> 2543 ;\\n2544 [label=\"gini = 0.0\\\\nsamples = 1\\\\nvalue = [0, 0, 3, 0, 0, 0, 0]\", fillcolor=\"#39e54d\"] ;\\n2543 -> 2544 ;\\n2545 [label=\"valence <= 0.231\\\\ngini = 0.486\\\\nsamples = 8\\\\nvalue = [5, 0, 0, 0, 7, 0, 0]\", fillcolor=\"#c6cff8\"] ;\\n2543 -> 2545 ;\\n2546 [label=\"gini = 0.0\\\\nsamples = 4\\\\nvalue = [0, 0, 0, 0, 5, 0, 0]\", fillcolor=\"#3956e5\"] ;\\n2545 -> 2546 ;\\n2547 [label=\"instrumentalness <= 0.042\\\\ngini = 0.408\\\\nsamples = 4\\\\nvalue = [5, 0, 0, 0, 2, 0, 0]\", fillcolor=\"#efb388\"] ;\\n2545 -> 2547 ;\\n2548 [label=\"instrumentalness <= 0.001\\\\ngini = 0.278\\\\nsamples = 3\\\\nvalue = [5, 0, 0, 0, 1, 0, 0]\", fillcolor=\"#ea9a61\"] ;\\n2547 -> 2548 ;\\n2549 [label=\"valence <= 0.299\\\\ngini = 0.444\\\\nsamples = 2\\\\nvalue = [2, 0, 0, 0, 1, 0, 0]\", fillcolor=\"#f2c09c\"] ;\\n2548 -> 2549 ;\\n2550 [label=\"gini = 0.0\\\\nsamples = 1\\\\nvalue = [2, 0, 0, 0, 0, 0, 0]\", fillcolor=\"#e58139\"] ;\\n2549 -> 2550 ;\\n2551 [label=\"gini = 0.0\\\\nsamples = 1\\\\nvalue = [0, 0, 0, 0, 1, 0, 0]\", fillcolor=\"#3956e5\"] ;\\n2549 -> 2551 ;\\n2552 [label=\"gini = 0.0\\\\nsamples = 1\\\\nvalue = [3, 0, 0, 0, 0, 0, 0]\", fillcolor=\"#e58139\"] ;\\n2548 -> 2552 ;\\n2553 [label=\"gini = 0.0\\\\nsamples = 1\\\\nvalue = [0, 0, 0, 0, 1, 0, 0]\", fillcolor=\"#3956e5\"] ;\\n2547 -> 2553 ;\\n2554 [label=\"valence <= 0.328\\\\ngini = 0.492\\\\nsamples = 13\\\\nvalue = [0, 0, 9, 0, 7, 0, 0]\", fillcolor=\"#d3f9d7\"] ;\\n2534 -> 2554 ;\\n2555 [label=\"gini = 0.0\\\\nsamples = 3\\\\nvalue = [0, 0, 0, 0, 5, 0, 0]\", fillcolor=\"#3956e5\"] ;\\n2554 -> 2555 ;\\n2556 [label=\"speechiness <= 0.091\\\\ngini = 0.298\\\\nsamples = 10\\\\nvalue = [0, 0, 9, 0, 2, 0, 0]\", fillcolor=\"#65eb75\"] ;\\n2554 -> 2556 ;\\n2557 [label=\"acousticness <= 0.0\\\\ngini = 0.18\\\\nsamples = 9\\\\nvalue = [0, 0, 9, 0, 1, 0, 0]\", fillcolor=\"#4fe861\"] ;\\n2556 -> 2557 ;\\n2558 [label=\"liveness <= 0.152\\\\ngini = 0.5\\\\nsamples = 2\\\\nvalue = [0, 0, 1, 0, 1, 0, 0]\", fillcolor=\"#ffffff\"] ;\\n2557 -> 2558 ;\\n2559 [label=\"gini = 0.0\\\\nsamples = 1\\\\nvalue = [0, 0, 0, 0, 1, 0, 0]\", fillcolor=\"#3956e5\"] ;\\n2558 -> 2559 ;\\n2560 [label=\"gini = 0.0\\\\nsamples = 1\\\\nvalue = [0, 0, 1, 0, 0, 0, 0]\", fillcolor=\"#39e54d\"] ;\\n2558 -> 2560 ;\\n2561 [label=\"gini = 0.0\\\\nsamples = 7\\\\nvalue = [0, 0, 8, 0, 0, 0, 0]\", fillcolor=\"#39e54d\"] ;\\n2557 -> 2561 ;\\n2562 [label=\"gini = 0.0\\\\nsamples = 1\\\\nvalue = [0, 0, 0, 0, 1, 0, 0]\", fillcolor=\"#3956e5\"] ;\\n2556 -> 2562 ;\\n2563 [label=\"danceability <= 0.702\\\\ngini = 0.481\\\\nsamples = 61\\\\nvalue = [7, 0, 21, 0, 67, 1, 2]\", fillcolor=\"#899aef\"] ;\\n2533 -> 2563 ;\\n2564 [label=\"tempo <= 101.644\\\\ngini = 0.624\\\\nsamples = 30\\\\nvalue = [5, 0, 15, 0, 21, 0, 2]\", fillcolor=\"#d5dbf9\"] ;\\n2563 -> 2564 ;\\n2565 [label=\"acousticness <= 0.031\\\\ngini = 0.304\\\\nsamples = 12\\\\nvalue = [1, 0, 2, 0, 14, 0, 0]\", fillcolor=\"#6178ea\"] ;\\n2564 -> 2565 ;\\n2566 [label=\"acousticness <= 0.014\\\\ngini = 0.5\\\\nsamples = 5\\\\nvalue = [1, 0, 1, 0, 4, 0, 0]\", fillcolor=\"#889aef\"] ;\\n2565 -> 2566 ;\\n2567 [label=\"gini = 0.0\\\\nsamples = 3\\\\nvalue = [0, 0, 0, 0, 4, 0, 0]\", fillcolor=\"#3956e5\"] ;\\n2566 -> 2567 ;\\n2568 [label=\"instrumentalness <= 0.089\\\\ngini = 0.5\\\\nsamples = 2\\\\nvalue = [1, 0, 1, 0, 0, 0, 0]\", fillcolor=\"#ffffff\"] ;\\n2566 -> 2568 ;\\n2569 [label=\"gini = 0.0\\\\nsamples = 1\\\\nvalue = [1, 0, 0, 0, 0, 0, 0]\", fillcolor=\"#e58139\"] ;\\n2568 -> 2569 ;\\n2570 [label=\"gini = 0.0\\\\nsamples = 1\\\\nvalue = [0, 0, 1, 0, 0, 0, 0]\", fillcolor=\"#39e54d\"] ;\\n2568 -> 2570 ;\\n2571 [label=\"loudness <= -11.083\\\\ngini = 0.165\\\\nsamples = 7\\\\nvalue = [0, 0, 1, 0, 10, 0, 0]\", fillcolor=\"#4d67e8\"] ;\\n2565 -> 2571 ;\\n2572 [label=\"gini = 0.0\\\\nsamples = 1\\\\nvalue = [0, 0, 1, 0, 0, 0, 0]\", fillcolor=\"#39e54d\"] ;\\n2571 -> 2572 ;\\n2573 [label=\"gini = 0.0\\\\nsamples = 6\\\\nvalue = [0, 0, 0, 0, 10, 0, 0]\", fillcolor=\"#3956e5\"] ;\\n2571 -> 2573 ;\\n2574 [label=\"instrumentalness <= 0.012\\\\ngini = 0.648\\\\nsamples = 18\\\\nvalue = [4, 0, 13, 0, 7, 0, 2]\", fillcolor=\"#c0f7c7\"] ;\\n2564 -> 2574 ;\\n2575 [label=\"valence <= 0.309\\\\ngini = 0.571\\\\nsamples = 5\\\\nvalue = [4, 0, 0, 0, 1, 0, 2]\", fillcolor=\"#f5cdb0\"] ;\\n2574 -> 2575 ;\\n2576 [label=\"tempo <= 147.144\\\\ngini = 0.32\\\\nsamples = 4\\\\nvalue = [4, 0, 0, 0, 1, 0, 0]\", fillcolor=\"#eca06a\"] ;\\n2575 -> 2576 ;\\n2577 [label=\"gini = 0.0\\\\nsamples = 3\\\\nvalue = [4, 0, 0, 0, 0, 0, 0]\", fillcolor=\"#e58139\"] ;\\n2576 -> 2577 ;\\n2578 [label=\"gini = 0.0\\\\nsamples = 1\\\\nvalue = [0, 0, 0, 0, 1, 0, 0]\", fillcolor=\"#3956e5\"] ;\\n2576 -> 2578 ;\\n2579 [label=\"gini = 0.0\\\\nsamples = 1\\\\nvalue = [0, 0, 0, 0, 0, 0, 2]\", fillcolor=\"#e53986\"] ;\\n2575 -> 2579 ;\\n2580 [label=\"duration_ms <= 249599.953\\\\ngini = 0.432\\\\nsamples = 13\\\\nvalue = [0, 0, 13, 0, 6, 0, 0]\", fillcolor=\"#94f19f\"] ;\\n2574 -> 2580 ;\\n2581 [label=\"energy <= 0.882\\\\ngini = 0.18\\\\nsamples = 5\\\\nvalue = [0, 0, 9, 0, 1, 0, 0]\", fillcolor=\"#4fe861\"] ;\\n2580 -> 2581 ;\\n2582 [label=\"loudness <= -8.129\\\\ngini = 0.375\\\\nsamples = 2\\\\nvalue = [0, 0, 3, 0, 1, 0, 0]\", fillcolor=\"#7bee88\"] ;\\n2581 -> 2582 ;\\n2583 [label=\"gini = 0.0\\\\nsamples = 1\\\\nvalue = [0, 0, 3, 0, 0, 0, 0]\", fillcolor=\"#39e54d\"] ;\\n2582 -> 2583 ;\\n2584 [label=\"gini = 0.0\\\\nsamples = 1\\\\nvalue = [0, 0, 0, 0, 1, 0, 0]\", fillcolor=\"#3956e5\"] ;\\n2582 -> 2584 ;\\n2585 [label=\"gini = 0.0\\\\nsamples = 3\\\\nvalue = [0, 0, 6, 0, 0, 0, 0]\", fillcolor=\"#39e54d\"] ;\\n2581 -> 2585 ;\\n2586 [label=\"danceability <= 0.58\\\\ngini = 0.494\\\\nsamples = 8\\\\nvalue = [0, 0, 4, 0, 5, 0, 0]\", fillcolor=\"#d7ddfa\"] ;\\n2580 -> 2586 ;\\n2587 [label=\"gini = 0.0\\\\nsamples = 3\\\\nvalue = [0, 0, 0, 0, 3, 0, 0]\", fillcolor=\"#3956e5\"] ;\\n2586 -> 2587 ;\\n2588 [label=\"tempo <= 141.003\\\\ngini = 0.444\\\\nsamples = 5\\\\nvalue = [0, 0, 4, 0, 2, 0, 0]\", fillcolor=\"#9cf2a6\"] ;\\n2586 -> 2588 ;\\n2589 [label=\"gini = 0.0\\\\nsamples = 3\\\\nvalue = [0, 0, 4, 0, 0, 0, 0]\", fillcolor=\"#39e54d\"] ;\\n2588 -> 2589 ;\\n2590 [label=\"gini = 0.0\\\\nsamples = 2\\\\nvalue = [0, 0, 0, 0, 2, 0, 0]\", fillcolor=\"#3956e5\"] ;\\n2588 -> 2590 ;\\n2591 [label=\"duration_ms <= 387059.922\\\\ngini = 0.287\\\\nsamples = 31\\\\nvalue = [2, 0, 6, 0, 46, 1, 0]\", fillcolor=\"#5d75ea\"] ;\\n2563 -> 2591 ;\\n2592 [label=\"liveness <= 0.121\\\\ngini = 0.186\\\\nsamples = 28\\\\nvalue = [2, 0, 2, 0, 45, 1, 0]\", fillcolor=\"#4e68e8\"] ;\\n2591 -> 2592 ;\\n2593 [label=\"gini = 0.0\\\\nsamples = 14\\\\nvalue = [0, 0, 0, 0, 25, 0, 0]\", fillcolor=\"#3956e5\"] ;\\n2592 -> 2593 ;\\n2594 [label=\"instrumentalness <= 0.92\\\\ngini = 0.346\\\\nsamples = 14\\\\nvalue = [2, 0, 2, 0, 20, 1, 0]\", fillcolor=\"#647beb\"] ;\\n2592 -> 2594 ;\\n2595 [label=\"liveness <= 0.127\\\\ngini = 0.244\\\\nsamples = 12\\\\nvalue = [0, 0, 2, 0, 19, 1, 0]\", fillcolor=\"#576fe9\"] ;\\n2594 -> 2595 ;\\n2596 [label=\"gini = 0.0\\\\nsamples = 1\\\\nvalue = [0, 0, 2, 0, 0, 0, 0]\", fillcolor=\"#39e54d\"] ;\\n2595 -> 2596 ;\\n2597 [label=\"instrumentalness <= 0.001\\\\ngini = 0.095\\\\nsamples = 11\\\\nvalue = [0, 0, 0, 0, 19, 1, 0]\", fillcolor=\"#435fe6\"] ;\\n2595 -> 2597 ;\\n2598 [label=\"gini = 0.0\\\\nsamples = 1\\\\nvalue = [0, 0, 0, 0, 0, 1, 0]\", fillcolor=\"#b139e5\"] ;\\n2597 -> 2598 ;\\n2599 [label=\"gini = 0.0\\\\nsamples = 10\\\\nvalue = [0, 0, 0, 0, 19, 0, 0]\", fillcolor=\"#3956e5\"] ;\\n2597 -> 2599 ;\\n2600 [label=\"valence <= 0.805\\\\ngini = 0.444\\\\nsamples = 2\\\\nvalue = [2, 0, 0, 0, 1, 0, 0]\", fillcolor=\"#f2c09c\"] ;\\n2594 -> 2600 ;\\n2601 [label=\"gini = 0.0\\\\nsamples = 1\\\\nvalue = [0, 0, 0, 0, 1, 0, 0]\", fillcolor=\"#3956e5\"] ;\\n2600 -> 2601 ;\\n2602 [label=\"gini = 0.0\\\\nsamples = 1\\\\nvalue = [2, 0, 0, 0, 0, 0, 0]\", fillcolor=\"#e58139\"] ;\\n2600 -> 2602 ;\\n2603 [label=\"loudness <= -6.102\\\\ngini = 0.32\\\\nsamples = 3\\\\nvalue = [0, 0, 4, 0, 1, 0, 0]\", fillcolor=\"#6aec79\"] ;\\n2591 -> 2603 ;\\n2604 [label=\"gini = 0.0\\\\nsamples = 2\\\\nvalue = [0, 0, 4, 0, 0, 0, 0]\", fillcolor=\"#39e54d\"] ;\\n2603 -> 2604 ;\\n2605 [label=\"gini = 0.0\\\\nsamples = 1\\\\nvalue = [0, 0, 0, 0, 1, 0, 0]\", fillcolor=\"#3956e5\"] ;\\n2603 -> 2605 ;\\n2606 [label=\"acousticness <= 0.001\\\\ngini = 0.658\\\\nsamples = 104\\\\nvalue = [80, 4, 57, 0, 30, 0, 5]\", fillcolor=\"#fae7d9\"] ;\\n2416 -> 2606 ;\\n2607 [label=\"energy <= 1.035\\\\ngini = 0.366\\\\nsamples = 44\\\\nvalue = [60, 0, 6, 0, 11, 0, 0]\", fillcolor=\"#eca16c\"] ;\\n2606 -> 2607 ;\\n2608 [label=\"loudness <= -5.102\\\\ngini = 0.461\\\\nsamples = 19\\\\nvalue = [22, 0, 2, 0, 8, 0, 0]\", fillcolor=\"#f0b68c\"] ;\\n2607 -> 2608 ;\\n2609 [label=\"loudness <= -5.525\\\\ngini = 0.498\\\\nsamples = 7\\\\nvalue = [9, 0, 0, 0, 8, 0, 0]\", fillcolor=\"#fcf1e9\"] ;\\n2608 -> 2609 ;\\n2610 [label=\"gini = 0.0\\\\nsamples = 4\\\\nvalue = [9, 0, 0, 0, 0, 0, 0]\", fillcolor=\"#e58139\"] ;\\n2609 -> 2610 ;\\n2611 [label=\"gini = 0.0\\\\nsamples = 3\\\\nvalue = [0, 0, 0, 0, 8, 0, 0]\", fillcolor=\"#3956e5\"] ;\\n2609 -> 2611 ;\\n2612 [label=\"tempo <= 39.499\\\\ngini = 0.231\\\\nsamples = 12\\\\nvalue = [13, 0, 2, 0, 0, 0, 0]\", fillcolor=\"#e99457\"] ;\\n2608 -> 2612 ;\\n2613 [label=\"gini = 0.0\\\\nsamples = 1\\\\nvalue = [0, 0, 1, 0, 0, 0, 0]\", fillcolor=\"#39e54d\"] ;\\n2612 -> 2613 ;\\n2614 [label=\"loudness <= -4.684\\\\ngini = 0.133\\\\nsamples = 11\\\\nvalue = [13, 0, 1, 0, 0, 0, 0]\", fillcolor=\"#e78b48\"] ;\\n2612 -> 2614 ;\\n2615 [label=\"energy <= 1.024\\\\ngini = 0.5\\\\nsamples = 2\\\\nvalue = [1, 0, 1, 0, 0, 0, 0]\", fillcolor=\"#ffffff\"] ;\\n2614 -> 2615 ;\\n2616 [label=\"gini = 0.0\\\\nsamples = 1\\\\nvalue = [0, 0, 1, 0, 0, 0, 0]\", fillcolor=\"#39e54d\"] ;\\n2615 -> 2616 ;\\n2617 [label=\"gini = 0.0\\\\nsamples = 1\\\\nvalue = [1, 0, 0, 0, 0, 0, 0]\", fillcolor=\"#e58139\"] ;\\n2615 -> 2617 ;\\n2618 [label=\"gini = 0.0\\\\nsamples = 9\\\\nvalue = [12, 0, 0, 0, 0, 0, 0]\", fillcolor=\"#e58139\"] ;\\n2614 -> 2618 ;\\n2619 [label=\"valence <= 0.186\\\\ngini = 0.275\\\\nsamples = 25\\\\nvalue = [38, 0, 4, 0, 3, 0, 0]\", fillcolor=\"#e9975b\"] ;\\n2607 -> 2619 ;\\n2620 [label=\"duration_ms <= 288575.508\\\\ngini = 0.56\\\\nsamples = 5\\\\nvalue = [1, 0, 1, 0, 3, 0, 0]\", fillcolor=\"#9caaf2\"] ;\\n2619 -> 2620 ;\\n2621 [label=\"gini = 0.0\\\\nsamples = 1\\\\nvalue = [0, 0, 1, 0, 0, 0, 0]\", fillcolor=\"#39e54d\"] ;\\n2620 -> 2621 ;\\n2622 [label=\"danceability <= 0.339\\\\ngini = 0.375\\\\nsamples = 4\\\\nvalue = [1, 0, 0, 0, 3, 0, 0]\", fillcolor=\"#7b8eee\"] ;\\n2620 -> 2622 ;\\n2623 [label=\"gini = 0.0\\\\nsamples = 2\\\\nvalue = [0, 0, 0, 0, 2, 0, 0]\", fillcolor=\"#3956e5\"] ;\\n2622 -> 2623 ;\\n2624 [label=\"energy <= 1.046\\\\ngini = 0.5\\\\nsamples = 2\\\\nvalue = [1, 0, 0, 0, 1, 0, 0]\", fillcolor=\"#ffffff\"] ;\\n2622 -> 2624 ;\\n2625 [label=\"gini = 0.0\\\\nsamples = 1\\\\nvalue = [1, 0, 0, 0, 0, 0, 0]\", fillcolor=\"#e58139\"] ;\\n2624 -> 2625 ;\\n2626 [label=\"gini = 0.0\\\\nsamples = 1\\\\nvalue = [0, 0, 0, 0, 1, 0, 0]\", fillcolor=\"#3956e5\"] ;\\n2624 -> 2626 ;\\n2627 [label=\"valence <= 0.632\\\\ngini = 0.139\\\\nsamples = 20\\\\nvalue = [37, 0, 3, 0, 0, 0, 0]\", fillcolor=\"#e78b49\"] ;\\n2619 -> 2627 ;\\n2628 [label=\"energy <= 1.073\\\\ngini = 0.051\\\\nsamples = 19\\\\nvalue = [37, 0, 1, 0, 0, 0, 0]\", fillcolor=\"#e6843e\"] ;\\n2627 -> 2628 ;\\n2629 [label=\"gini = 0.0\\\\nsamples = 17\\\\nvalue = [36, 0, 0, 0, 0, 0, 0]\", fillcolor=\"#e58139\"] ;\\n2628 -> 2629 ;\\n2630 [label=\"popularity <= 44.048\\\\ngini = 0.5\\\\nsamples = 2\\\\nvalue = [1, 0, 1, 0, 0, 0, 0]\", fillcolor=\"#ffffff\"] ;\\n2628 -> 2630 ;\\n2631 [label=\"gini = 0.0\\\\nsamples = 1\\\\nvalue = [0, 0, 1, 0, 0, 0, 0]\", fillcolor=\"#39e54d\"] ;\\n2630 -> 2631 ;\\n2632 [label=\"gini = 0.0\\\\nsamples = 1\\\\nvalue = [1, 0, 0, 0, 0, 0, 0]\", fillcolor=\"#e58139\"] ;\\n2630 -> 2632 ;\\n2633 [label=\"gini = 0.0\\\\nsamples = 1\\\\nvalue = [0, 0, 2, 0, 0, 0, 0]\", fillcolor=\"#39e54d\"] ;\\n2627 -> 2633 ;\\n2634 [label=\"liveness <= 0.091\\\\ngini = 0.653\\\\nsamples = 60\\\\nvalue = [20, 4, 51, 0, 19, 0, 5]\", fillcolor=\"#b1f5b9\"] ;\\n2606 -> 2634 ;\\n2635 [label=\"valence <= 0.468\\\\ngini = 0.66\\\\nsamples = 12\\\\nvalue = [10, 2, 4, 0, 4, 0, 0]\", fillcolor=\"#f5d0b5\"] ;\\n2634 -> 2635 ;\\n2636 [label=\"instrumentalness <= 0.449\\\\ngini = 0.298\\\\nsamples = 6\\\\nvalue = [9, 0, 0, 0, 2, 0, 0]\", fillcolor=\"#eb9d65\"] ;\\n2635 -> 2636 ;\\n2637 [label=\"gini = 0.0\\\\nsamples = 5\\\\nvalue = [9, 0, 0, 0, 0, 0, 0]\", fillcolor=\"#e58139\"] ;\\n2636 -> 2637 ;\\n2638 [label=\"gini = 0.0\\\\nsamples = 1\\\\nvalue = [0, 0, 0, 0, 2, 0, 0]\", fillcolor=\"#3956e5\"] ;\\n2636 -> 2638 ;\\n2639 [label=\"duration_ms <= 203197.008\\\\ngini = 0.691\\\\nsamples = 6\\\\nvalue = [1, 2, 4, 0, 2, 0, 0]\", fillcolor=\"#c6f8cc\"] ;\\n2635 -> 2639 ;\\n2640 [label=\"gini = 0.0\\\\nsamples = 2\\\\nvalue = [0, 0, 4, 0, 0, 0, 0]\", fillcolor=\"#39e54d\"] ;\\n2639 -> 2640 ;\\n2641 [label=\"loudness <= -4.641\\\\ngini = 0.64\\\\nsamples = 4\\\\nvalue = [1, 2, 0, 0, 2, 0, 0]\", fillcolor=\"#ffffff\"] ;\\n2639 -> 2641 ;\\n2642 [label=\"acousticness <= 0.007\\\\ngini = 0.444\\\\nsamples = 2\\\\nvalue = [1, 2, 0, 0, 0, 0, 0]\", fillcolor=\"#dbf29c\"] ;\\n2641 -> 2642 ;\\n2643 [label=\"gini = 0.0\\\\nsamples = 1\\\\nvalue = [1, 0, 0, 0, 0, 0, 0]\", fillcolor=\"#e58139\"] ;\\n2642 -> 2643 ;\\n2644 [label=\"gini = 0.0\\\\nsamples = 1\\\\nvalue = [0, 2, 0, 0, 0, 0, 0]\", fillcolor=\"#b7e539\"] ;\\n2642 -> 2644 ;\\n2645 [label=\"gini = 0.0\\\\nsamples = 2\\\\nvalue = [0, 0, 0, 0, 2, 0, 0]\", fillcolor=\"#3956e5\"] ;\\n2641 -> 2645 ;\\n2646 [label=\"popularity <= 36.944\\\\ngini = 0.589\\\\nsamples = 48\\\\nvalue = [10, 2, 47, 0, 15, 0, 5]\", fillcolor=\"#9cf2a6\"] ;\\n2634 -> 2646 ;\\n2647 [label=\"liveness <= 0.549\\\\ngini = 0.198\\\\nsamples = 18\\\\nvalue = [3, 0, 24, 0, 0, 0, 0]\", fillcolor=\"#52e863\"] ;\\n2646 -> 2647 ;\\n2648 [label=\"loudness <= -4.329\\\\ngini = 0.091\\\\nsamples = 14\\\\nvalue = [1, 0, 20, 0, 0, 0, 0]\", fillcolor=\"#43e656\"] ;\\n2647 -> 2648 ;\\n2649 [label=\"instrumentalness <= 0.277\\\\ngini = 0.32\\\\nsamples = 4\\\\nvalue = [1, 0, 4, 0, 0, 0, 0]\", fillcolor=\"#6aec79\"] ;\\n2648 -> 2649 ;\\n2650 [label=\"gini = 0.0\\\\nsamples = 1\\\\nvalue = [1, 0, 0, 0, 0, 0, 0]\", fillcolor=\"#e58139\"] ;\\n2649 -> 2650 ;\\n2651 [label=\"gini = 0.0\\\\nsamples = 3\\\\nvalue = [0, 0, 4, 0, 0, 0, 0]\", fillcolor=\"#39e54d\"] ;\\n2649 -> 2651 ;\\n2652 [label=\"gini = 0.0\\\\nsamples = 10\\\\nvalue = [0, 0, 16, 0, 0, 0, 0]\", fillcolor=\"#39e54d\"] ;\\n2648 -> 2652 ;\\n2653 [label=\"liveness <= 0.587\\\\ngini = 0.444\\\\nsamples = 4\\\\nvalue = [2, 0, 4, 0, 0, 0, 0]\", fillcolor=\"#9cf2a6\"] ;\\n2647 -> 2653 ;\\n2654 [label=\"gini = 0.0\\\\nsamples = 1\\\\nvalue = [2, 0, 0, 0, 0, 0, 0]\", fillcolor=\"#e58139\"] ;\\n2653 -> 2654 ;\\n2655 [label=\"gini = 0.0\\\\nsamples = 3\\\\nvalue = [0, 0, 4, 0, 0, 0, 0]\", fillcolor=\"#39e54d\"] ;\\n2653 -> 2655 ;\\n2656 [label=\"valence <= 0.644\\\\ngini = 0.692\\\\nsamples = 30\\\\nvalue = [7, 2, 23, 0, 15, 0, 5]\", fillcolor=\"#d4f9d9\"] ;\\n2646 -> 2656 ;\\n2657 [label=\"energy <= 1.049\\\\ngini = 0.547\\\\nsamples = 15\\\\nvalue = [7, 0, 19, 0, 5, 0, 0]\", fillcolor=\"#9cf2a6\"] ;\\n2656 -> 2657 ;\\n2658 [label=\"liveness <= 0.243\\\\ngini = 0.413\\\\nsamples = 12\\\\nvalue = [7, 0, 17, 0, 0, 0, 0]\", fillcolor=\"#8bf096\"] ;\\n2657 -> 2658 ;\\n2659 [label=\"gini = 0.0\\\\nsamples = 7\\\\nvalue = [0, 0, 14, 0, 0, 0, 0]\", fillcolor=\"#39e54d\"] ;\\n2658 -> 2659 ;\\n2660 [label=\"duration_ms <= 219018.047\\\\ngini = 0.42\\\\nsamples = 5\\\\nvalue = [7, 0, 3, 0, 0, 0, 0]\", fillcolor=\"#f0b78e\"] ;\\n2658 -> 2660 ;\\n2661 [label=\"gini = 0.0\\\\nsamples = 1\\\\nvalue = [0, 0, 3, 0, 0, 0, 0]\", fillcolor=\"#39e54d\"] ;\\n2660 -> 2661 ;\\n2662 [label=\"gini = 0.0\\\\nsamples = 4\\\\nvalue = [7, 0, 0, 0, 0, 0, 0]\", fillcolor=\"#e58139\"] ;\\n2660 -> 2662 ;\\n2663 [label=\"tempo <= 48.301\\\\ngini = 0.408\\\\nsamples = 3\\\\nvalue = [0, 0, 2, 0, 5, 0, 0]\", fillcolor=\"#889aef\"] ;\\n2657 -> 2663 ;\\n2664 [label=\"gini = 0.0\\\\nsamples = 1\\\\nvalue = [0, 0, 2, 0, 0, 0, 0]\", fillcolor=\"#39e54d\"] ;\\n2663 -> 2664 ;\\n2665 [label=\"gini = 0.0\\\\nsamples = 2\\\\nvalue = [0, 0, 0, 0, 5, 0, 0]\", fillcolor=\"#3956e5\"] ;\\n2663 -> 2665 ;\\n2666 [label=\"energy <= 1.006\\\\ngini = 0.671\\\\nsamples = 15\\\\nvalue = [0, 2, 4, 0, 10, 0, 5]\", fillcolor=\"#c1caf7\"] ;\\n2656 -> 2666 ;\\n2667 [label=\"energy <= 1.002\\\\ngini = 0.32\\\\nsamples = 3\\\\nvalue = [0, 1, 0, 0, 0, 0, 4]\", fillcolor=\"#ec6aa4\"] ;\\n2666 -> 2667 ;\\n2668 [label=\"gini = 0.0\\\\nsamples = 1\\\\nvalue = [0, 0, 0, 0, 0, 0, 2]\", fillcolor=\"#e53986\"] ;\\n2667 -> 2668 ;\\n2669 [label=\"tempo <= 109.166\\\\ngini = 0.444\\\\nsamples = 2\\\\nvalue = [0, 1, 0, 0, 0, 0, 2]\", fillcolor=\"#f29cc2\"] ;\\n2667 -> 2669 ;\\n2670 [label=\"gini = 0.0\\\\nsamples = 1\\\\nvalue = [0, 1, 0, 0, 0, 0, 0]\", fillcolor=\"#b7e539\"] ;\\n2669 -> 2670 ;\\n2671 [label=\"gini = 0.0\\\\nsamples = 1\\\\nvalue = [0, 0, 0, 0, 0, 0, 2]\", fillcolor=\"#e53986\"] ;\\n2669 -> 2671 ;\\n2672 [label=\"instrumentalness <= 0.0\\\\ngini = 0.539\\\\nsamples = 12\\\\nvalue = [0, 1, 4, 0, 10, 0, 1]\", fillcolor=\"#9caaf2\"] ;\\n2666 -> 2672 ;\\n2673 [label=\"loudness <= -3.873\\\\ngini = 0.5\\\\nsamples = 2\\\\nvalue = [0, 1, 0, 0, 0, 0, 1]\", fillcolor=\"#ffffff\"] ;\\n2672 -> 2673 ;\\n2674 [label=\"gini = 0.0\\\\nsamples = 1\\\\nvalue = [0, 1, 0, 0, 0, 0, 0]\", fillcolor=\"#b7e539\"] ;\\n2673 -> 2674 ;\\n2675 [label=\"gini = 0.0\\\\nsamples = 1\\\\nvalue = [0, 0, 0, 0, 0, 0, 1]\", fillcolor=\"#e53986\"] ;\\n2673 -> 2675 ;\\n2676 [label=\"duration_ms <= 178667.602\\\\ngini = 0.408\\\\nsamples = 10\\\\nvalue = [0, 0, 4, 0, 10, 0, 0]\", fillcolor=\"#889aef\"] ;\\n2672 -> 2676 ;\\n2677 [label=\"popularity <= 38.557\\\\ngini = 0.375\\\\nsamples = 3\\\\nvalue = [0, 0, 3, 0, 1, 0, 0]\", fillcolor=\"#7bee88\"] ;\\n2676 -> 2677 ;\\n2678 [label=\"gini = 0.0\\\\nsamples = 1\\\\nvalue = [0, 0, 0, 0, 1, 0, 0]\", fillcolor=\"#3956e5\"] ;\\n2677 -> 2678 ;\\n2679 [label=\"gini = 0.0\\\\nsamples = 2\\\\nvalue = [0, 0, 3, 0, 0, 0, 0]\", fillcolor=\"#39e54d\"] ;\\n2677 -> 2679 ;\\n2680 [label=\"acousticness <= 0.125\\\\ngini = 0.18\\\\nsamples = 7\\\\nvalue = [0, 0, 1, 0, 9, 0, 0]\", fillcolor=\"#4f69e8\"] ;\\n2676 -> 2680 ;\\n2681 [label=\"gini = 0.0\\\\nsamples = 4\\\\nvalue = [0, 0, 0, 0, 6, 0, 0]\", fillcolor=\"#3956e5\"] ;\\n2680 -> 2681 ;\\n2682 [label=\"popularity <= 47.55\\\\ngini = 0.375\\\\nsamples = 3\\\\nvalue = [0, 0, 1, 0, 3, 0, 0]\", fillcolor=\"#7b8eee\"] ;\\n2680 -> 2682 ;\\n2683 [label=\"gini = 0.0\\\\nsamples = 2\\\\nvalue = [0, 0, 0, 0, 3, 0, 0]\", fillcolor=\"#3956e5\"] ;\\n2682 -> 2683 ;\\n2684 [label=\"gini = 0.0\\\\nsamples = 1\\\\nvalue = [0, 0, 1, 0, 0, 0, 0]\", fillcolor=\"#39e54d\"] ;\\n2682 -> 2684 ;\\n2685 [label=\"danceability <= 0.727\\\\ngini = 0.55\\\\nsamples = 1094\\\\nvalue = [19, 55, 32, 60, 44, 447, 1049]\", fillcolor=\"#f3a0c5\"] ;\\n2415 -> 2685 ;\\n2686 [label=\"popularity <= 53.563\\\\ngini = 0.456\\\\nsamples = 863\\\\nvalue = [19, 45, 20, 28, 20, 257, 957]\", fillcolor=\"#ee80b1\"] ;\\n2685 -> 2686 ;\\n2687 [label=\"speechiness <= 0.254\\\\ngini = 0.738\\\\nsamples = 89\\\\nvalue = [17, 15, 11, 7, 12, 16, 66]\", fillcolor=\"#f5b3d0\"] ;\\n2686 -> 2687 ;\\n2688 [label=\"speechiness <= 0.086\\\\ngini = 0.688\\\\nsamples = 81\\\\nvalue = [17, 15, 11, 0, 12, 8, 66]\", fillcolor=\"#f4a8ca\"] ;\\n2687 -> 2688 ;\\n2689 [label=\"danceability <= 0.28\\\\ngini = 0.583\\\\nsamples = 57\\\\nvalue = [10, 14, 2, 0, 7, 3, 57]\", fillcolor=\"#f193bd\"] ;\\n2688 -> 2689 ;\\n2690 [label=\"energy <= 0.949\\\\ngini = 0.444\\\\nsamples = 3\\\\nvalue = [1, 0, 0, 0, 2, 0, 0]\", fillcolor=\"#9caaf2\"] ;\\n2689 -> 2690 ;\\n2691 [label=\"gini = 0.0\\\\nsamples = 1\\\\nvalue = [1, 0, 0, 0, 0, 0, 0]\", fillcolor=\"#e58139\"] ;\\n2690 -> 2691 ;\\n2692 [label=\"gini = 0.0\\\\nsamples = 2\\\\nvalue = [0, 0, 0, 0, 2, 0, 0]\", fillcolor=\"#3956e5\"] ;\\n2690 -> 2692 ;\\n2693 [label=\"acousticness <= 0.156\\\\ngini = 0.56\\\\nsamples = 54\\\\nvalue = [9, 14, 2, 0, 5, 3, 57]\", fillcolor=\"#f08fbb\"] ;\\n2689 -> 2693 ;\\n2694 [label=\"valence <= 0.438\\\\ngini = 0.505\\\\nsamples = 46\\\\nvalue = [9, 8, 1, 0, 5, 2, 54]\", fillcolor=\"#ee80b1\"] ;\\n2693 -> 2694 ;\\n2695 [label=\"liveness <= 0.086\\\\ngini = 0.706\\\\nsamples = 11\\\\nvalue = [7, 0, 1, 0, 3, 1, 5]\", fillcolor=\"#fbeade\"] ;\\n2694 -> 2695 ;\\n2696 [label=\"gini = 0.0\\\\nsamples = 2\\\\nvalue = [0, 0, 0, 0, 3, 0, 0]\", fillcolor=\"#3956e5\"] ;\\n2695 -> 2696 ;\\n2697 [label=\"tempo <= 123.938\\\\ngini = 0.612\\\\nsamples = 9\\\\nvalue = [7, 0, 1, 0, 0, 1, 5]\", fillcolor=\"#f9e3d3\"] ;\\n2695 -> 2697 ;\\n2698 [label=\"duration_ms <= 326935.969\\\\ngini = 0.56\\\\nsamples = 5\\\\nvalue = [0, 0, 1, 0, 0, 1, 3]\", fillcolor=\"#f29cc2\"] ;\\n2697 -> 2698 ;\\n2699 [label=\"tempo <= 110.702\\\\ngini = 0.375\\\\nsamples = 4\\\\nvalue = [0, 0, 1, 0, 0, 0, 3]\", fillcolor=\"#ee7bae\"] ;\\n2698 -> 2699 ;\\n2700 [label=\"danceability <= 0.562\\\\ngini = 0.5\\\\nsamples = 2\\\\nvalue = [0, 0, 1, 0, 0, 0, 1]\", fillcolor=\"#ffffff\"] ;\\n2699 -> 2700 ;\\n2701 [label=\"gini = 0.0\\\\nsamples = 1\\\\nvalue = [0, 0, 0, 0, 0, 0, 1]\", fillcolor=\"#e53986\"] ;\\n2700 -> 2701 ;\\n2702 [label=\"gini = 0.0\\\\nsamples = 1\\\\nvalue = [0, 0, 1, 0, 0, 0, 0]\", fillcolor=\"#39e54d\"] ;\\n2700 -> 2702 ;\\n2703 [label=\"gini = 0.0\\\\nsamples = 2\\\\nvalue = [0, 0, 0, 0, 0, 0, 2]\", fillcolor=\"#e53986\"] ;\\n2699 -> 2703 ;\\n2704 [label=\"gini = 0.0\\\\nsamples = 1\\\\nvalue = [0, 0, 0, 0, 0, 1, 0]\", fillcolor=\"#b139e5\"] ;\\n2698 -> 2704 ;\\n2705 [label=\"loudness <= -8.09\\\\ngini = 0.346\\\\nsamples = 4\\\\nvalue = [7, 0, 0, 0, 0, 0, 2]\", fillcolor=\"#eca572\"] ;\\n2697 -> 2705 ;\\n2706 [label=\"gini = 0.0\\\\nsamples = 1\\\\nvalue = [0, 0, 0, 0, 0, 0, 2]\", fillcolor=\"#e53986\"] ;\\n2705 -> 2706 ;\\n2707 [label=\"gini = 0.0\\\\nsamples = 3\\\\nvalue = [7, 0, 0, 0, 0, 0, 0]\", fillcolor=\"#e58139\"] ;\\n2705 -> 2707 ;\\n2708 [label=\"duration_ms <= 224102.547\\\\ngini = 0.356\\\\nsamples = 35\\\\nvalue = [2, 8, 0, 0, 2, 1, 49]\", fillcolor=\"#eb69a3\"] ;\\n2694 -> 2708 ;\\n2709 [label=\"acousticness <= 0.073\\\\ngini = 0.626\\\\nsamples = 12\\\\nvalue = [2, 7, 0, 0, 0, 1, 9]\", fillcolor=\"#fbdeeb\"] ;\\n2708 -> 2709 ;\\n2710 [label=\"instrumentalness <= 0.0\\\\ngini = 0.578\\\\nsamples = 11\\\\nvalue = [2, 3, 0, 0, 0, 1, 9]\", fillcolor=\"#f29cc2\"] ;\\n2709 -> 2710 ;\\n2711 [label=\"popularity <= 51.771\\\\ngini = 0.678\\\\nsamples = 8\\\\nvalue = [2, 3, 0, 0, 0, 1, 5]\", fillcolor=\"#f8cee1\"] ;\\n2710 -> 2711 ;\\n2712 [label=\"speechiness <= 0.064\\\\ngini = 0.278\\\\nsamples = 5\\\\nvalue = [0, 0, 0, 0, 0, 1, 5]\", fillcolor=\"#ea619e\"] ;\\n2711 -> 2712 ;\\n2713 [label=\"gini = 0.0\\\\nsamples = 4\\\\nvalue = [0, 0, 0, 0, 0, 0, 5]\", fillcolor=\"#e53986\"] ;\\n2712 -> 2713 ;\\n2714 [label=\"gini = 0.0\\\\nsamples = 1\\\\nvalue = [0, 0, 0, 0, 0, 1, 0]\", fillcolor=\"#b139e5\"] ;\\n2712 -> 2714 ;\\n2715 [label=\"valence <= 0.814\\\\ngini = 0.48\\\\nsamples = 3\\\\nvalue = [2, 3, 0, 0, 0, 0, 0]\", fillcolor=\"#e7f6bd\"] ;\\n2711 -> 2715 ;\\n2716 [label=\"gini = 0.0\\\\nsamples = 1\\\\nvalue = [2, 0, 0, 0, 0, 0, 0]\", fillcolor=\"#e58139\"] ;\\n2715 -> 2716 ;\\n2717 [label=\"gini = 0.0\\\\nsamples = 2\\\\nvalue = [0, 3, 0, 0, 0, 0, 0]\", fillcolor=\"#b7e539\"] ;\\n2715 -> 2717 ;\\n2718 [label=\"gini = 0.0\\\\nsamples = 3\\\\nvalue = [0, 0, 0, 0, 0, 0, 4]\", fillcolor=\"#e53986\"] ;\\n2710 -> 2718 ;\\n2719 [label=\"gini = 0.0\\\\nsamples = 1\\\\nvalue = [0, 4, 0, 0, 0, 0, 0]\", fillcolor=\"#b7e539\"] ;\\n2709 -> 2719 ;\\n2720 [label=\"popularity <= 53.298\\\\ngini = 0.132\\\\nsamples = 23\\\\nvalue = [0, 1, 0, 0, 2, 0, 40]\", fillcolor=\"#e7478f\"] ;\\n2708 -> 2720 ;\\n2721 [label=\"instrumentalness <= 0.767\\\\ngini = 0.091\\\\nsamples = 22\\\\nvalue = [0, 0, 0, 0, 2, 0, 40]\", fillcolor=\"#e6438c\"] ;\\n2720 -> 2721 ;\\n2722 [label=\"loudness <= -9.321\\\\ngini = 0.048\\\\nsamples = 21\\\\nvalue = [0, 0, 0, 0, 1, 0, 40]\", fillcolor=\"#e63e89\"] ;\\n2721 -> 2722 ;\\n2723 [label=\"gini = 0.0\\\\nsamples = 1\\\\nvalue = [0, 0, 0, 0, 1, 0, 0]\", fillcolor=\"#3956e5\"] ;\\n2722 -> 2723 ;\\n2724 [label=\"gini = 0.0\\\\nsamples = 20\\\\nvalue = [0, 0, 0, 0, 0, 0, 40]\", fillcolor=\"#e53986\"] ;\\n2722 -> 2724 ;\\n2725 [label=\"gini = 0.0\\\\nsamples = 1\\\\nvalue = [0, 0, 0, 0, 1, 0, 0]\", fillcolor=\"#3956e5\"] ;\\n2721 -> 2725 ;\\n2726 [label=\"gini = 0.0\\\\nsamples = 1\\\\nvalue = [0, 1, 0, 0, 0, 0, 0]\", fillcolor=\"#b7e539\"] ;\\n2720 -> 2726 ;\\n2727 [label=\"popularity <= 52.03\\\\ngini = 0.612\\\\nsamples = 8\\\\nvalue = [0, 6, 1, 0, 0, 1, 3]\", fillcolor=\"#e4f5b5\"] ;\\n2693 -> 2727 ;\\n2728 [label=\"danceability <= 0.566\\\\ngini = 0.667\\\\nsamples = 5\\\\nvalue = [0, 1, 1, 0, 0, 1, 3]\", fillcolor=\"#f5b0cf\"] ;\\n2727 -> 2728 ;\\n2729 [label=\"gini = 0.0\\\\nsamples = 2\\\\nvalue = [0, 0, 0, 0, 0, 0, 3]\", fillcolor=\"#e53986\"] ;\\n2728 -> 2729 ;\\n2730 [label=\"duration_ms <= 194657.164\\\\ngini = 0.667\\\\nsamples = 3\\\\nvalue = [0, 1, 1, 0, 0, 1, 0]\", fillcolor=\"#ffffff\"] ;\\n2728 -> 2730 ;\\n2731 [label=\"gini = 0.0\\\\nsamples = 1\\\\nvalue = [0, 0, 1, 0, 0, 0, 0]\", fillcolor=\"#39e54d\"] ;\\n2730 -> 2731 ;\\n2732 [label=\"loudness <= -5.793\\\\ngini = 0.5\\\\nsamples = 2\\\\nvalue = [0, 1, 0, 0, 0, 1, 0]\", fillcolor=\"#ffffff\"] ;\\n2730 -> 2732 ;\\n2733 [label=\"gini = 0.0\\\\nsamples = 1\\\\nvalue = [0, 0, 0, 0, 0, 1, 0]\", fillcolor=\"#b139e5\"] ;\\n2732 -> 2733 ;\\n2734 [label=\"gini = 0.0\\\\nsamples = 1\\\\nvalue = [0, 1, 0, 0, 0, 0, 0]\", fillcolor=\"#b7e539\"] ;\\n2732 -> 2734 ;\\n2735 [label=\"gini = 0.0\\\\nsamples = 3\\\\nvalue = [0, 5, 0, 0, 0, 0, 0]\", fillcolor=\"#b7e539\"] ;\\n2727 -> 2735 ;\\n2736 [label=\"valence <= 0.499\\\\ngini = 0.798\\\\nsamples = 24\\\\nvalue = [7, 1, 9, 0, 5, 5, 9]\", fillcolor=\"#ffffff\"] ;\\n2688 -> 2736 ;\\n2737 [label=\"danceability <= 0.536\\\\ngini = 0.69\\\\nsamples = 15\\\\nvalue = [7, 0, 9, 0, 0, 2, 4]\", fillcolor=\"#e5fce7\"] ;\\n2736 -> 2737 ;\\n2738 [label=\"danceability <= 0.382\\\\ngini = 0.42\\\\nsamples = 7\\\\nvalue = [7, 0, 0, 0, 0, 0, 3]\", fillcolor=\"#f0b78e\"] ;\\n2737 -> 2738 ;\\n2739 [label=\"gini = 0.0\\\\nsamples = 3\\\\nvalue = [0, 0, 0, 0, 0, 0, 3]\", fillcolor=\"#e53986\"] ;\\n2738 -> 2739 ;\\n2740 [label=\"gini = 0.0\\\\nsamples = 4\\\\nvalue = [7, 0, 0, 0, 0, 0, 0]\", fillcolor=\"#e58139\"] ;\\n2738 -> 2740 ;\\n2741 [label=\"tempo <= 88.503\\\\ngini = 0.403\\\\nsamples = 8\\\\nvalue = [0, 0, 9, 0, 0, 2, 1]\", fillcolor=\"#74ed82\"] ;\\n2737 -> 2741 ;\\n2742 [label=\"gini = 0.0\\\\nsamples = 2\\\\nvalue = [0, 0, 4, 0, 0, 0, 0]\", fillcolor=\"#39e54d\"] ;\\n2741 -> 2742 ;\\n2743 [label=\"instrumentalness <= 0.001\\\\ngini = 0.531\\\\nsamples = 6\\\\nvalue = [0, 0, 5, 0, 0, 2, 1]\", fillcolor=\"#9cf2a6\"] ;\\n2741 -> 2743 ;\\n2744 [label=\"acousticness <= 0.036\\\\ngini = 0.444\\\\nsamples = 3\\\\nvalue = [0, 0, 0, 0, 0, 2, 1]\", fillcolor=\"#d89cf2\"] ;\\n2743 -> 2744 ;\\n2745 [label=\"gini = 0.0\\\\nsamples = 1\\\\nvalue = [0, 0, 0, 0, 0, 0, 1]\", fillcolor=\"#e53986\"] ;\\n2744 -> 2745 ;\\n2746 [label=\"gini = 0.0\\\\nsamples = 2\\\\nvalue = [0, 0, 0, 0, 0, 2, 0]\", fillcolor=\"#b139e5\"] ;\\n2744 -> 2746 ;\\n2747 [label=\"gini = 0.0\\\\nsamples = 3\\\\nvalue = [0, 0, 5, 0, 0, 0, 0]\", fillcolor=\"#39e54d\"] ;\\n2743 -> 2747 ;\\n2748 [label=\"duration_ms <= 190229.055\\\\ngini = 0.694\\\\nsamples = 9\\\\nvalue = [0, 1, 0, 0, 5, 3, 5]\", fillcolor=\"#ffffff\"] ;\\n2736 -> 2748 ;\\n2749 [label=\"acousticness <= 0.015\\\\ngini = 0.375\\\\nsamples = 3\\\\nvalue = [0, 1, 0, 0, 0, 3, 0]\", fillcolor=\"#cb7bee\"] ;\\n2748 -> 2749 ;\\n2750 [label=\"gini = 0.0\\\\nsamples = 2\\\\nvalue = [0, 0, 0, 0, 0, 3, 0]\", fillcolor=\"#b139e5\"] ;\\n2749 -> 2750 ;\\n2751 [label=\"gini = 0.0\\\\nsamples = 1\\\\nvalue = [0, 1, 0, 0, 0, 0, 0]\", fillcolor=\"#b7e539\"] ;\\n2749 -> 2751 ;\\n2752 [label=\"valence <= 0.654\\\\ngini = 0.5\\\\nsamples = 6\\\\nvalue = [0, 0, 0, 0, 5, 0, 5]\", fillcolor=\"#ffffff\"] ;\\n2748 -> 2752 ;\\n2753 [label=\"gini = 0.0\\\\nsamples = 2\\\\nvalue = [0, 0, 0, 0, 4, 0, 0]\", fillcolor=\"#3956e5\"] ;\\n2752 -> 2753 ;\\n2754 [label=\"acousticness <= 0.02\\\\ngini = 0.278\\\\nsamples = 4\\\\nvalue = [0, 0, 0, 0, 1, 0, 5]\", fillcolor=\"#ea619e\"] ;\\n2752 -> 2754 ;\\n2755 [label=\"acousticness <= 0.006\\\\ngini = 0.444\\\\nsamples = 2\\\\nvalue = [0, 0, 0, 0, 1, 0, 2]\", fillcolor=\"#f29cc2\"] ;\\n2754 -> 2755 ;\\n2756 [label=\"gini = 0.0\\\\nsamples = 1\\\\nvalue = [0, 0, 0, 0, 0, 0, 2]\", fillcolor=\"#e53986\"] ;\\n2755 -> 2756 ;\\n2757 [label=\"gini = 0.0\\\\nsamples = 1\\\\nvalue = [0, 0, 0, 0, 1, 0, 0]\", fillcolor=\"#3956e5\"] ;\\n2755 -> 2757 ;\\n2758 [label=\"gini = 0.0\\\\nsamples = 2\\\\nvalue = [0, 0, 0, 0, 0, 0, 3]\", fillcolor=\"#e53986\"] ;\\n2754 -> 2758 ;\\n2759 [label=\"liveness <= 0.352\\\\ngini = 0.498\\\\nsamples = 8\\\\nvalue = [0, 0, 0, 7, 0, 8, 0]\", fillcolor=\"#f5e6fc\"] ;\\n2687 -> 2759 ;\\n2760 [label=\"valence <= 0.555\\\\ngini = 0.346\\\\nsamples = 5\\\\nvalue = [0, 0, 0, 7, 0, 2, 0]\", fillcolor=\"#72ecea\"] ;\\n2759 -> 2760 ;\\n2761 [label=\"gini = 0.0\\\\nsamples = 2\\\\nvalue = [0, 0, 0, 6, 0, 0, 0]\", fillcolor=\"#39e5e2\"] ;\\n2760 -> 2761 ;\\n2762 [label=\"tempo <= 106.959\\\\ngini = 0.444\\\\nsamples = 3\\\\nvalue = [0, 0, 0, 1, 0, 2, 0]\", fillcolor=\"#d89cf2\"] ;\\n2760 -> 2762 ;\\n2763 [label=\"gini = 0.0\\\\nsamples = 1\\\\nvalue = [0, 0, 0, 1, 0, 0, 0]\", fillcolor=\"#39e5e2\"] ;\\n2762 -> 2763 ;\\n2764 [label=\"gini = 0.0\\\\nsamples = 2\\\\nvalue = [0, 0, 0, 0, 0, 2, 0]\", fillcolor=\"#b139e5\"] ;\\n2762 -> 2764 ;\\n2765 [label=\"gini = 0.0\\\\nsamples = 3\\\\nvalue = [0, 0, 0, 0, 0, 6, 0]\", fillcolor=\"#b139e5\"] ;\\n2759 -> 2765 ;\\n2766 [label=\"valence <= 0.73\\\\ngini = 0.409\\\\nsamples = 774\\\\nvalue = [2, 30, 9, 21, 8, 241, 891]\", fillcolor=\"#ed79ad\"] ;\\n2686 -> 2766 ;\\n2767 [label=\"loudness <= -4.057\\\\ngini = 0.451\\\\nsamples = 582\\\\nvalue = [2, 20, 9, 15, 6, 220, 633]\", fillcolor=\"#ef88b6\"] ;\\n2766 -> 2767 ;\\n2768 [label=\"energy <= 1.041\\\\ngini = 0.417\\\\nsamples = 405\\\\nvalue = [0, 17, 6, 11, 6, 130, 473]\", fillcolor=\"#ee7bae\"] ;\\n2767 -> 2768 ;\\n2769 [label=\"valence <= 0.149\\\\ngini = 0.426\\\\nsamples = 389\\\\nvalue = [0, 17, 6, 11, 6, 128, 450]\", fillcolor=\"#ee7daf\"] ;\\n2768 -> 2769 ;\\n2770 [label=\"popularity <= 66.399\\\\ngini = 0.545\\\\nsamples = 10\\\\nvalue = [0, 0, 1, 0, 0, 10, 9]\", fillcolor=\"#f8edfd\"] ;\\n2769 -> 2770 ;\\n2771 [label=\"instrumentalness <= 0.003\\\\ngini = 0.5\\\\nsamples = 8\\\\nvalue = [0, 0, 1, 0, 0, 4, 9]\", fillcolor=\"#f29cc2\"] ;\\n2770 -> 2771 ;\\n2772 [label=\"gini = 0.0\\\\nsamples = 2\\\\nvalue = [0, 0, 0, 0, 0, 3, 0]\", fillcolor=\"#b139e5\"] ;\\n2771 -> 2772 ;\\n2773 [label=\"duration_ms <= 199233.102\\\\ngini = 0.314\\\\nsamples = 6\\\\nvalue = [0, 0, 1, 0, 0, 1, 9]\", fillcolor=\"#ea619e\"] ;\\n2771 -> 2773 ;\\n2774 [label=\"tempo <= 111.027\\\\ngini = 0.5\\\\nsamples = 2\\\\nvalue = [0, 0, 1, 0, 0, 1, 0]\", fillcolor=\"#ffffff\"] ;\\n2773 -> 2774 ;\\n2775 [label=\"gini = 0.0\\\\nsamples = 1\\\\nvalue = [0, 0, 0, 0, 0, 1, 0]\", fillcolor=\"#b139e5\"] ;\\n2774 -> 2775 ;\\n2776 [label=\"gini = 0.0\\\\nsamples = 1\\\\nvalue = [0, 0, 1, 0, 0, 0, 0]\", fillcolor=\"#39e54d\"] ;\\n2774 -> 2776 ;\\n2777 [label=\"gini = 0.0\\\\nsamples = 4\\\\nvalue = [0, 0, 0, 0, 0, 0, 9]\", fillcolor=\"#e53986\"] ;\\n2773 -> 2777 ;\\n2778 [label=\"gini = 0.0\\\\nsamples = 2\\\\nvalue = [0, 0, 0, 0, 0, 6, 0]\", fillcolor=\"#b139e5\"] ;\\n2770 -> 2778 ;\\n2779 [label=\"instrumentalness <= 0.0\\\\ngini = 0.416\\\\nsamples = 379\\\\nvalue = [0, 17, 5, 11, 6, 118, 441]\", fillcolor=\"#ee7aae\"] ;\\n2769 -> 2779 ;\\n2780 [label=\"duration_ms <= 261246.234\\\\ngini = 0.561\\\\nsamples = 182\\\\nvalue = [0, 14, 0, 10, 6, 89, 164]\", fillcolor=\"#f5b2d0\"] ;\\n2779 -> 2780 ;\\n2781 [label=\"acousticness <= 0.471\\\\ngini = 0.538\\\\nsamples = 143\\\\nvalue = [0, 14, 0, 8, 4, 56, 137]\", fillcolor=\"#f29dc3\"] ;\\n2780 -> 2781 ;\\n2782 [label=\"valence <= 0.232\\\\ngini = 0.532\\\\nsamples = 141\\\\nvalue = [0, 14, 0, 8, 4, 53, 137]\", fillcolor=\"#f299c1\"] ;\\n2781 -> 2782 ;\\n2783 [label=\"valence <= 0.215\\\\ngini = 0.625\\\\nsamples = 5\\\\nvalue = [0, 0, 0, 2, 0, 4, 2]\", fillcolor=\"#e5bdf6\"] ;\\n2782 -> 2783 ;\\n2784 [label=\"gini = 0.0\\\\nsamples = 2\\\\nvalue = [0, 0, 0, 0, 0, 0, 2]\", fillcolor=\"#e53986\"] ;\\n2783 -> 2784 ;\\n2785 [label=\"tempo <= 42.98\\\\ngini = 0.444\\\\nsamples = 3\\\\nvalue = [0, 0, 0, 2, 0, 4, 0]\", fillcolor=\"#d89cf2\"] ;\\n2783 -> 2785 ;\\n2786 [label=\"gini = 0.0\\\\nsamples = 1\\\\nvalue = [0, 0, 0, 0, 0, 2, 0]\", fillcolor=\"#b139e5\"] ;\\n2785 -> 2786 ;\\n2787 [label=\"speechiness <= 0.797\\\\ngini = 0.5\\\\nsamples = 2\\\\nvalue = [0, 0, 0, 2, 0, 2, 0]\", fillcolor=\"#ffffff\"] ;\\n2785 -> 2787 ;\\n2788 [label=\"gini = 0.0\\\\nsamples = 1\\\\nvalue = [0, 0, 0, 0, 0, 2, 0]\", fillcolor=\"#b139e5\"] ;\\n2787 -> 2788 ;\\n2789 [label=\"gini = 0.0\\\\nsamples = 1\\\\nvalue = [0, 0, 0, 2, 0, 0, 0]\", fillcolor=\"#39e5e2\"] ;\\n2787 -> 2789 ;\\n2790 [label=\"instrumentalness <= 0.0\\\\ngini = 0.518\\\\nsamples = 136\\\\nvalue = [0, 14, 0, 6, 4, 49, 135]\", fillcolor=\"#f194be\"] ;\\n2782 -> 2790 ;\\n2791 [label=\"liveness <= 0.286\\\\ngini = 0.507\\\\nsamples = 134\\\\nvalue = [0, 14, 0, 6, 4, 45, 135]\", fillcolor=\"#f08fbb\"] ;\\n2790 -> 2791 ;\\n2792 [label=\"liveness <= 0.05\\\\ngini = 0.394\\\\nsamples = 98\\\\nvalue = [0, 10, 0, 2, 1, 23, 114]\", fillcolor=\"#ec71a8\"] ;\\n2791 -> 2792 ;\\n2793 [label=\"acousticness <= 0.013\\\\ngini = 0.5\\\\nsamples = 3\\\\nvalue = [0, 2, 0, 0, 0, 2, 0]\", fillcolor=\"#ffffff\"] ;\\n2792 -> 2793 ;\\n2794 [label=\"gini = 0.0\\\\nsamples = 2\\\\nvalue = [0, 0, 0, 0, 0, 2, 0]\", fillcolor=\"#b139e5\"] ;\\n2793 -> 2794 ;\\n2795 [label=\"gini = 0.0\\\\nsamples = 1\\\\nvalue = [0, 2, 0, 0, 0, 0, 0]\", fillcolor=\"#b7e539\"] ;\\n2793 -> 2795 ;\\n2796 [label=\"popularity <= 56.865\\\\ngini = 0.366\\\\nsamples = 95\\\\nvalue = [0, 8, 0, 2, 1, 21, 114]\", fillcolor=\"#ec6ca5\"] ;\\n2792 -> 2796 ;\\n2797 [label=\"tempo <= 96.547\\\\ngini = 0.491\\\\nsamples = 11\\\\nvalue = [0, 5, 0, 1, 0, 0, 11]\", fillcolor=\"#f29cc2\"] ;\\n2796 -> 2797 ;\\n2798 [label=\"gini = 0.0\\\\nsamples = 2\\\\nvalue = [0, 0, 0, 0, 0, 0, 4]\", fillcolor=\"#e53986\"] ;\\n2797 -> 2798 ;\\n2799 [label=\"energy <= 0.898\\\\ngini = 0.556\\\\nsamples = 9\\\\nvalue = [0, 5, 0, 1, 0, 0, 7]\", fillcolor=\"#f8cee1\"] ;\\n2797 -> 2799 ;\\n2800 [label=\"tempo <= 132.093\\\\ngini = 0.32\\\\nsamples = 3\\\\nvalue = [0, 4, 0, 1, 0, 0, 0]\", fillcolor=\"#c9ec6a\"] ;\\n2799 -> 2800 ;\\n2801 [label=\"gini = 0.0\\\\nsamples = 2\\\\nvalue = [0, 4, 0, 0, 0, 0, 0]\", fillcolor=\"#b7e539\"] ;\\n2800 -> 2801 ;\\n2802 [label=\"gini = 0.0\\\\nsamples = 1\\\\nvalue = [0, 0, 0, 1, 0, 0, 0]\", fillcolor=\"#39e5e2\"] ;\\n2800 -> 2802 ;\\n2803 [label=\"duration_ms <= 226065.945\\\\ngini = 0.219\\\\nsamples = 6\\\\nvalue = [0, 1, 0, 0, 0, 0, 7]\", fillcolor=\"#e95597\"] ;\\n2799 -> 2803 ;\\n2804 [label=\"gini = 0.0\\\\nsamples = 4\\\\nvalue = [0, 0, 0, 0, 0, 0, 6]\", fillcolor=\"#e53986\"] ;\\n2803 -> 2804 ;\\n2805 [label=\"danceability <= 0.599\\\\ngini = 0.5\\\\nsamples = 2\\\\nvalue = [0, 1, 0, 0, 0, 0, 1]\", fillcolor=\"#ffffff\"] ;\\n2803 -> 2805 ;\\n2806 [label=\"gini = 0.0\\\\nsamples = 1\\\\nvalue = [0, 1, 0, 0, 0, 0, 0]\", fillcolor=\"#b7e539\"] ;\\n2805 -> 2806 ;\\n2807 [label=\"gini = 0.0\\\\nsamples = 1\\\\nvalue = [0, 0, 0, 0, 0, 0, 1]\", fillcolor=\"#e53986\"] ;\\n2805 -> 2807 ;\\n2808 [label=\"speechiness <= 0.279\\\\ngini = 0.335\\\\nsamples = 84\\\\nvalue = [0, 3, 0, 1, 1, 21, 103]\", fillcolor=\"#eb69a3\"] ;\\n2796 -> 2808 ;\\n2809 [label=\"duration_ms <= 238975.82\\\\ngini = 0.242\\\\nsamples = 75\\\\nvalue = [0, 3, 0, 0, 1, 12, 102]\", fillcolor=\"#e95798\"] ;\\n2808 -> 2809 ;\\n2810 [label=\"speechiness <= 0.129\\\\ngini = 0.176\\\\nsamples = 62\\\\nvalue = [0, 3, 0, 0, 0, 6, 86]\", fillcolor=\"#e84d92\"] ;\\n2809 -> 2810 ;\\n2811 [label=\"valence <= 0.688\\\\ngini = 0.21\\\\nsamples = 55\\\\nvalue = [0, 3, 0, 0, 0, 6, 69]\", fillcolor=\"#e85295\"] ;\\n2810 -> 2811 ;\\n2812 [label=\"duration_ms <= 89832.266\\\\ngini = 0.154\\\\nsamples = 51\\\\nvalue = [0, 3, 0, 0, 0, 3, 67]\", fillcolor=\"#e74a90\"] ;\\n2811 -> 2812 ;\\n2813 [label=\"popularity <= 67.53\\\\ngini = 0.403\\\\nsamples = 8\\\\nvalue = [0, 1, 0, 0, 0, 2, 9]\", fillcolor=\"#ed74aa\"] ;\\n2812 -> 2813 ;\\n2814 [label=\"liveness <= 0.122\\\\ngini = 0.444\\\\nsamples = 2\\\\nvalue = [0, 0, 0, 0, 0, 2, 1]\", fillcolor=\"#d89cf2\"] ;\\n2813 -> 2814 ;\\n2815 [label=\"gini = 0.0\\\\nsamples = 1\\\\nvalue = [0, 0, 0, 0, 0, 2, 0]\", fillcolor=\"#b139e5\"] ;\\n2814 -> 2815 ;\\n2816 [label=\"gini = 0.0\\\\nsamples = 1\\\\nvalue = [0, 0, 0, 0, 0, 0, 1]\", fillcolor=\"#e53986\"] ;\\n2814 -> 2816 ;\\n2817 [label=\"liveness <= 0.19\\\\ngini = 0.198\\\\nsamples = 6\\\\nvalue = [0, 1, 0, 0, 0, 0, 8]\", fillcolor=\"#e85295\"] ;\\n2813 -> 2817 ;\\n2818 [label=\"gini = 0.0\\\\nsamples = 4\\\\nvalue = [0, 0, 0, 0, 0, 0, 5]\", fillcolor=\"#e53986\"] ;\\n2817 -> 2818 ;\\n2819 [label=\"energy <= 0.887\\\\ngini = 0.375\\\\nsamples = 2\\\\nvalue = [0, 1, 0, 0, 0, 0, 3]\", fillcolor=\"#ee7bae\"] ;\\n2817 -> 2819 ;\\n2820 [label=\"gini = 0.0\\\\nsamples = 1\\\\nvalue = [0, 0, 0, 0, 0, 0, 3]\", fillcolor=\"#e53986\"] ;\\n2819 -> 2820 ;\\n2821 [label=\"gini = 0.0\\\\nsamples = 1\\\\nvalue = [0, 1, 0, 0, 0, 0, 0]\", fillcolor=\"#b7e539\"] ;\\n2819 -> 2821 ;\\n2822 [label=\"tempo <= 171.584\\\\ngini = 0.095\\\\nsamples = 43\\\\nvalue = [0, 2, 0, 0, 0, 1, 58]\", fillcolor=\"#e6438c\"] ;\\n2812 -> 2822 ;\\n2823 [label=\"popularity <= 73.736\\\\ngini = 0.068\\\\nsamples = 40\\\\nvalue = [0, 1, 0, 0, 0, 1, 55]\", fillcolor=\"#e6408a\"] ;\\n2822 -> 2823 ;\\n2824 [label=\"liveness <= 0.082\\\\ngini = 0.038\\\\nsamples = 35\\\\nvalue = [0, 1, 0, 0, 0, 0, 50]\", fillcolor=\"#e63d88\"] ;\\n2823 -> 2824 ;\\n2825 [label=\"acousticness <= 0.036\\\\ngini = 0.278\\\\nsamples = 4\\\\nvalue = [0, 1, 0, 0, 0, 0, 5]\", fillcolor=\"#ea619e\"] ;\\n2824 -> 2825 ;\\n2826 [label=\"gini = 0.0\\\\nsamples = 3\\\\nvalue = [0, 0, 0, 0, 0, 0, 5]\", fillcolor=\"#e53986\"] ;\\n2825 -> 2826 ;\\n2827 [label=\"gini = 0.0\\\\nsamples = 1\\\\nvalue = [0, 1, 0, 0, 0, 0, 0]\", fillcolor=\"#b7e539\"] ;\\n2825 -> 2827 ;\\n2828 [label=\"gini = 0.0\\\\nsamples = 31\\\\nvalue = [0, 0, 0, 0, 0, 0, 45]\", fillcolor=\"#e53986\"] ;\\n2824 -> 2828 ;\\n2829 [label=\"speechiness <= 0.091\\\\ngini = 0.278\\\\nsamples = 5\\\\nvalue = [0, 0, 0, 0, 0, 1, 5]\", fillcolor=\"#ea619e\"] ;\\n2823 -> 2829 ;\\n2830 [label=\"gini = 0.0\\\\nsamples = 4\\\\nvalue = [0, 0, 0, 0, 0, 0, 5]\", fillcolor=\"#e53986\"] ;\\n2829 -> 2830 ;\\n2831 [label=\"gini = 0.0\\\\nsamples = 1\\\\nvalue = [0, 0, 0, 0, 0, 1, 0]\", fillcolor=\"#b139e5\"] ;\\n2829 -> 2831 ;\\n2832 [label=\"loudness <= -4.483\\\\ngini = 0.375\\\\nsamples = 3\\\\nvalue = [0, 1, 0, 0, 0, 0, 3]\", fillcolor=\"#ee7bae\"] ;\\n2822 -> 2832 ;\\n2833 [label=\"gini = 0.0\\\\nsamples = 2\\\\nvalue = [0, 0, 0, 0, 0, 0, 3]\", fillcolor=\"#e53986\"] ;\\n2832 -> 2833 ;\\n2834 [label=\"gini = 0.0\\\\nsamples = 1\\\\nvalue = [0, 1, 0, 0, 0, 0, 0]\", fillcolor=\"#b7e539\"] ;\\n2832 -> 2834 ;\\n2835 [label=\"popularity <= 58.991\\\\ngini = 0.48\\\\nsamples = 4\\\\nvalue = [0, 0, 0, 0, 0, 3, 2]\", fillcolor=\"#e5bdf6\"] ;\\n2811 -> 2835 ;\\n2836 [label=\"gini = 0.0\\\\nsamples = 1\\\\nvalue = [0, 0, 0, 0, 0, 0, 2]\", fillcolor=\"#e53986\"] ;\\n2835 -> 2836 ;\\n2837 [label=\"gini = 0.0\\\\nsamples = 3\\\\nvalue = [0, 0, 0, 0, 0, 3, 0]\", fillcolor=\"#b139e5\"] ;\\n2835 -> 2837 ;\\n2838 [label=\"gini = 0.0\\\\nsamples = 7\\\\nvalue = [0, 0, 0, 0, 0, 0, 17]\", fillcolor=\"#e53986\"] ;\\n2810 -> 2838 ;\\n2839 [label=\"tempo <= 155.052\\\\ngini = 0.446\\\\nsamples = 13\\\\nvalue = [0, 0, 0, 0, 1, 6, 16]\", fillcolor=\"#f08bb8\"] ;\\n2809 -> 2839 ;\\n2840 [label=\"tempo <= 123.495\\\\ngini = 0.526\\\\nsamples = 11\\\\nvalue = [0, 0, 0, 0, 1, 6, 10]\", fillcolor=\"#f6b7d3\"] ;\\n2839 -> 2840 ;\\n2841 [label=\"danceability <= 0.683\\\\ngini = 0.292\\\\nsamples = 7\\\\nvalue = [0, 0, 0, 0, 1, 1, 10]\", fillcolor=\"#ea5d9c\"] ;\\n2840 -> 2841 ;\\n2842 [label=\"gini = 0.0\\\\nsamples = 5\\\\nvalue = [0, 0, 0, 0, 0, 0, 10]\", fillcolor=\"#e53986\"] ;\\n2841 -> 2842 ;\\n2843 [label=\"duration_ms <= 248087.094\\\\ngini = 0.5\\\\nsamples = 2\\\\nvalue = [0, 0, 0, 0, 1, 1, 0]\", fillcolor=\"#ffffff\"] ;\\n2841 -> 2843 ;\\n2844 [label=\"gini = 0.0\\\\nsamples = 1\\\\nvalue = [0, 0, 0, 0, 1, 0, 0]\", fillcolor=\"#3956e5\"] ;\\n2843 -> 2844 ;\\n2845 [label=\"gini = 0.0\\\\nsamples = 1\\\\nvalue = [0, 0, 0, 0, 0, 1, 0]\", fillcolor=\"#b139e5\"] ;\\n2843 -> 2845 ;\\n2846 [label=\"gini = 0.0\\\\nsamples = 4\\\\nvalue = [0, 0, 0, 0, 0, 5, 0]\", fillcolor=\"#b139e5\"] ;\\n2840 -> 2846 ;\\n2847 [label=\"gini = 0.0\\\\nsamples = 2\\\\nvalue = [0, 0, 0, 0, 0, 0, 6]\", fillcolor=\"#e53986\"] ;\\n2839 -> 2847 ;\\n2848 [label=\"liveness <= 0.181\\\\ngini = 0.314\\\\nsamples = 9\\\\nvalue = [0, 0, 0, 1, 0, 9, 1]\", fillcolor=\"#c161ea\"] ;\\n2808 -> 2848 ;\\n2849 [label=\"energy <= 0.979\\\\ngini = 0.18\\\\nsamples = 8\\\\nvalue = [0, 0, 0, 1, 0, 9, 0]\", fillcolor=\"#ba4fe8\"] ;\\n2848 -> 2849 ;\\n2850 [label=\"gini = 0.0\\\\nsamples = 6\\\\nvalue = [0, 0, 0, 0, 0, 8, 0]\", fillcolor=\"#b139e5\"] ;\\n2849 -> 2850 ;\\n2851 [label=\"acousticness <= 0.061\\\\ngini = 0.5\\\\nsamples = 2\\\\nvalue = [0, 0, 0, 1, 0, 1, 0]\", fillcolor=\"#ffffff\"] ;\\n2849 -> 2851 ;\\n2852 [label=\"gini = 0.0\\\\nsamples = 1\\\\nvalue = [0, 0, 0, 0, 0, 1, 0]\", fillcolor=\"#b139e5\"] ;\\n2851 -> 2852 ;\\n2853 [label=\"gini = 0.0\\\\nsamples = 1\\\\nvalue = [0, 0, 0, 1, 0, 0, 0]\", fillcolor=\"#39e5e2\"] ;\\n2851 -> 2853 ;\\n2854 [label=\"gini = 0.0\\\\nsamples = 1\\\\nvalue = [0, 0, 0, 0, 0, 0, 1]\", fillcolor=\"#e53986\"] ;\\n2848 -> 2854 ;\\n2855 [label=\"acousticness <= 0.051\\\\ngini = 0.669\\\\nsamples = 36\\\\nvalue = [0, 4, 0, 4, 3, 22, 21]\", fillcolor=\"#fdf9fe\"] ;\\n2791 -> 2855 ;\\n2856 [label=\"speechiness <= 0.096\\\\ngini = 0.564\\\\nsamples = 27\\\\nvalue = [0, 0, 0, 3, 0, 18, 20]\", fillcolor=\"#fdeef4\"] ;\\n2855 -> 2856 ;\\n2857 [label=\"valence <= 0.553\\\\ngini = 0.393\\\\nsamples = 17\\\\nvalue = [0, 0, 0, 0, 0, 7, 19]\", fillcolor=\"#ef82b3\"] ;\\n2856 -> 2857 ;\\n2858 [label=\"popularity <= 58.914\\\\ngini = 0.208\\\\nsamples = 11\\\\nvalue = [0, 0, 0, 0, 0, 2, 15]\", fillcolor=\"#e85396\"] ;\\n2857 -> 2858 ;\\n2859 [label=\"loudness <= -5.257\\\\ngini = 0.408\\\\nsamples = 5\\\\nvalue = [0, 0, 0, 0, 0, 2, 5]\", fillcolor=\"#ef88b6\"] ;\\n2858 -> 2859 ;\\n2860 [label=\"gini = 0.0\\\\nsamples = 3\\\\nvalue = [0, 0, 0, 0, 0, 0, 5]\", fillcolor=\"#e53986\"] ;\\n2859 -> 2860 ;\\n2861 [label=\"gini = 0.0\\\\nsamples = 2\\\\nvalue = [0, 0, 0, 0, 0, 2, 0]\", fillcolor=\"#b139e5\"] ;\\n2859 -> 2861 ;\\n2862 [label=\"gini = 0.0\\\\nsamples = 6\\\\nvalue = [0, 0, 0, 0, 0, 0, 10]\", fillcolor=\"#e53986\"] ;\\n2858 -> 2862 ;\\n2863 [label=\"duration_ms <= 98672.156\\\\ngini = 0.494\\\\nsamples = 6\\\\nvalue = [0, 0, 0, 0, 0, 5, 4]\", fillcolor=\"#efd7fa\"] ;\\n2857 -> 2863 ;\\n2864 [label=\"gini = 0.0\\\\nsamples = 1\\\\nvalue = [0, 0, 0, 0, 0, 2, 0]\", fillcolor=\"#b139e5\"] ;\\n2863 -> 2864 ;\\n2865 [label=\"tempo <= 128.942\\\\ngini = 0.49\\\\nsamples = 5\\\\nvalue = [0, 0, 0, 0, 0, 3, 4]\", fillcolor=\"#f8cee1\"] ;\\n2863 -> 2865 ;\\n2866 [label=\"gini = 0.0\\\\nsamples = 3\\\\nvalue = [0, 0, 0, 0, 0, 0, 4]\", fillcolor=\"#e53986\"] ;\\n2865 -> 2866 ;\\n2867 [label=\"gini = 0.0\\\\nsamples = 2\\\\nvalue = [0, 0, 0, 0, 0, 3, 0]\", fillcolor=\"#b139e5\"] ;\\n2865 -> 2867 ;\\n2868 [label=\"loudness <= -5.713\\\\ngini = 0.418\\\\nsamples = 10\\\\nvalue = [0, 0, 0, 3, 0, 11, 1]\", fillcolor=\"#cb7bee\"] ;\\n2856 -> 2868 ;\\n2869 [label=\"energy <= 0.911\\\\ngini = 0.375\\\\nsamples = 3\\\\nvalue = [0, 0, 0, 3, 0, 1, 0]\", fillcolor=\"#7beeec\"] ;\\n2868 -> 2869 ;\\n2870 [label=\"gini = 0.0\\\\nsamples = 1\\\\nvalue = [0, 0, 0, 0, 0, 1, 0]\", fillcolor=\"#b139e5\"] ;\\n2869 -> 2870 ;\\n2871 [label=\"gini = 0.0\\\\nsamples = 2\\\\nvalue = [0, 0, 0, 3, 0, 0, 0]\", fillcolor=\"#39e5e2\"] ;\\n2869 -> 2871 ;\\n2872 [label=\"loudness <= -4.557\\\\ngini = 0.165\\\\nsamples = 7\\\\nvalue = [0, 0, 0, 0, 0, 10, 1]\", fillcolor=\"#b94de8\"] ;\\n2868 -> 2872 ;\\n2873 [label=\"danceability <= 0.551\\\\ngini = 0.375\\\\nsamples = 4\\\\nvalue = [0, 0, 0, 0, 0, 3, 1]\", fillcolor=\"#cb7bee\"] ;\\n2872 -> 2873 ;\\n2874 [label=\"gini = 0.0\\\\nsamples = 1\\\\nvalue = [0, 0, 0, 0, 0, 0, 1]\", fillcolor=\"#e53986\"] ;\\n2873 -> 2874 ;\\n2875 [label=\"gini = 0.0\\\\nsamples = 3\\\\nvalue = [0, 0, 0, 0, 0, 3, 0]\", fillcolor=\"#b139e5\"] ;\\n2873 -> 2875 ;\\n2876 [label=\"gini = 0.0\\\\nsamples = 3\\\\nvalue = [0, 0, 0, 0, 0, 7, 0]\", fillcolor=\"#b139e5\"] ;\\n2872 -> 2876 ;\\n2877 [label=\"acousticness <= 0.134\\\\ngini = 0.746\\\\nsamples = 9\\\\nvalue = [0, 4, 0, 1, 3, 4, 1]\", fillcolor=\"#ffffff\"] ;\\n2855 -> 2877 ;\\n2878 [label=\"valence <= 0.574\\\\ngini = 0.594\\\\nsamples = 5\\\\nvalue = [0, 4, 0, 0, 3, 0, 1]\", fillcolor=\"#f1fad7\"] ;\\n2877 -> 2878 ;\\n2879 [label=\"danceability <= 0.648\\\\ngini = 0.571\\\\nsamples = 4\\\\nvalue = [0, 4, 0, 0, 2, 0, 1]\", fillcolor=\"#e2f5b0\"] ;\\n2878 -> 2879 ;\\n2880 [label=\"liveness <= 0.302\\\\ngini = 0.32\\\\nsamples = 3\\\\nvalue = [0, 4, 0, 0, 0, 0, 1]\", fillcolor=\"#c9ec6a\"] ;\\n2879 -> 2880 ;\\n2881 [label=\"gini = 0.0\\\\nsamples = 1\\\\nvalue = [0, 0, 0, 0, 0, 0, 1]\", fillcolor=\"#e53986\"] ;\\n2880 -> 2881 ;\\n2882 [label=\"gini = 0.0\\\\nsamples = 2\\\\nvalue = [0, 4, 0, 0, 0, 0, 0]\", fillcolor=\"#b7e539\"] ;\\n2880 -> 2882 ;\\n2883 [label=\"gini = 0.0\\\\nsamples = 1\\\\nvalue = [0, 0, 0, 0, 2, 0, 0]\", fillcolor=\"#3956e5\"] ;\\n2879 -> 2883 ;\\n2884 [label=\"gini = 0.0\\\\nsamples = 1\\\\nvalue = [0, 0, 0, 0, 1, 0, 0]\", fillcolor=\"#3956e5\"] ;\\n2878 -> 2884 ;\\n2885 [label=\"liveness <= 0.346\\\\ngini = 0.32\\\\nsamples = 4\\\\nvalue = [0, 0, 0, 1, 0, 4, 0]\", fillcolor=\"#c46aec\"] ;\\n2877 -> 2885 ;\\n2886 [label=\"gini = 0.0\\\\nsamples = 1\\\\nvalue = [0, 0, 0, 1, 0, 0, 0]\", fillcolor=\"#39e5e2\"] ;\\n2885 -> 2886 ;\\n2887 [label=\"gini = 0.0\\\\nsamples = 3\\\\nvalue = [0, 0, 0, 0, 0, 4, 0]\", fillcolor=\"#b139e5\"] ;\\n2885 -> 2887 ;\\n2888 [label=\"gini = 0.0\\\\nsamples = 2\\\\nvalue = [0, 0, 0, 0, 0, 4, 0]\", fillcolor=\"#b139e5\"] ;\\n2790 -> 2888 ;\\n2889 [label=\"gini = 0.0\\\\nsamples = 2\\\\nvalue = [0, 0, 0, 0, 0, 3, 0]\", fillcolor=\"#b139e5\"] ;\\n2781 -> 2889 ;\\n2890 [label=\"valence <= 0.648\\\\ngini = 0.554\\\\nsamples = 39\\\\nvalue = [0, 0, 0, 2, 2, 33, 27]\", fillcolor=\"#f2dffb\"] ;\\n2780 -> 2890 ;\\n2891 [label=\"valence <= 0.361\\\\ngini = 0.475\\\\nsamples = 29\\\\nvalue = [0, 0, 0, 1, 1, 31, 14]\", fillcolor=\"#d799f2\"] ;\\n2890 -> 2891 ;\\n2892 [label=\"liveness <= 0.115\\\\ngini = 0.521\\\\nsamples = 6\\\\nvalue = [0, 0, 0, 1, 0, 4, 8]\", fillcolor=\"#f3a7c9\"] ;\\n2891 -> 2892 ;\\n2893 [label=\"gini = 0.0\\\\nsamples = 3\\\\nvalue = [0, 0, 0, 0, 0, 0, 8]\", fillcolor=\"#e53986\"] ;\\n2892 -> 2893 ;\\n2894 [label=\"liveness <= 0.217\\\\ngini = 0.32\\\\nsamples = 3\\\\nvalue = [0, 0, 0, 1, 0, 4, 0]\", fillcolor=\"#c46aec\"] ;\\n2892 -> 2894 ;\\n2895 [label=\"gini = 0.0\\\\nsamples = 1\\\\nvalue = [0, 0, 0, 1, 0, 0, 0]\", fillcolor=\"#39e5e2\"] ;\\n2894 -> 2895 ;\\n2896 [label=\"gini = 0.0\\\\nsamples = 2\\\\nvalue = [0, 0, 0, 0, 0, 4, 0]\", fillcolor=\"#b139e5\"] ;\\n2894 -> 2896 ;\\n2897 [label=\"tempo <= 171.438\\\\ngini = 0.337\\\\nsamples = 23\\\\nvalue = [0, 0, 0, 0, 1, 27, 6]\", fillcolor=\"#c46bec\"] ;\\n2891 -> 2897 ;\\n2898 [label=\"danceability <= 0.551\\\\ngini = 0.271\\\\nsamples = 22\\\\nvalue = [0, 0, 0, 0, 1, 27, 4]\", fillcolor=\"#bf5cea\"] ;\\n2897 -> 2898 ;\\n2899 [label=\"valence <= 0.504\\\\ngini = 0.426\\\\nsamples = 8\\\\nvalue = [0, 0, 0, 0, 0, 9, 4]\", fillcolor=\"#d491f1\"] ;\\n2898 -> 2899 ;\\n2900 [label=\"gini = 0.0\\\\nsamples = 5\\\\nvalue = [0, 0, 0, 0, 0, 9, 0]\", fillcolor=\"#b139e5\"] ;\\n2899 -> 2900 ;\\n2901 [label=\"gini = 0.0\\\\nsamples = 3\\\\nvalue = [0, 0, 0, 0, 0, 0, 4]\", fillcolor=\"#e53986\"] ;\\n2899 -> 2901 ;\\n2902 [label=\"liveness <= 0.062\\\\ngini = 0.1\\\\nsamples = 14\\\\nvalue = [0, 0, 0, 0, 1, 18, 0]\", fillcolor=\"#b544e6\"] ;\\n2898 -> 2902 ;\\n2903 [label=\"gini = 0.0\\\\nsamples = 1\\\\nvalue = [0, 0, 0, 0, 1, 0, 0]\", fillcolor=\"#3956e5\"] ;\\n2902 -> 2903 ;\\n2904 [label=\"gini = 0.0\\\\nsamples = 13\\\\nvalue = [0, 0, 0, 0, 0, 18, 0]\", fillcolor=\"#b139e5\"] ;\\n2902 -> 2904 ;\\n2905 [label=\"gini = 0.0\\\\nsamples = 1\\\\nvalue = [0, 0, 0, 0, 0, 0, 2]\", fillcolor=\"#e53986\"] ;\\n2897 -> 2905 ;\\n2906 [label=\"popularity <= 56.392\\\\ngini = 0.394\\\\nsamples = 10\\\\nvalue = [0, 0, 0, 1, 1, 2, 13]\", fillcolor=\"#ec6ea6\"] ;\\n2890 -> 2906 ;\\n2907 [label=\"gini = 0.0\\\\nsamples = 1\\\\nvalue = [0, 0, 0, 0, 1, 0, 0]\", fillcolor=\"#3956e5\"] ;\\n2906 -> 2907 ;\\n2908 [label=\"danceability <= 0.657\\\\ngini = 0.32\\\\nsamples = 9\\\\nvalue = [0, 0, 0, 1, 0, 2, 13]\", fillcolor=\"#eb63a0\"] ;\\n2906 -> 2908 ;\\n2909 [label=\"speechiness <= 0.329\\\\ngini = 0.133\\\\nsamples = 7\\\\nvalue = [0, 0, 0, 1, 0, 0, 13]\", fillcolor=\"#e7488f\"] ;\\n2908 -> 2909 ;\\n2910 [label=\"gini = 0.0\\\\nsamples = 6\\\\nvalue = [0, 0, 0, 0, 0, 0, 13]\", fillcolor=\"#e53986\"] ;\\n2909 -> 2910 ;\\n2911 [label=\"gini = 0.0\\\\nsamples = 1\\\\nvalue = [0, 0, 0, 1, 0, 0, 0]\", fillcolor=\"#39e5e2\"] ;\\n2909 -> 2911 ;\\n2912 [label=\"gini = 0.0\\\\nsamples = 2\\\\nvalue = [0, 0, 0, 0, 0, 2, 0]\", fillcolor=\"#b139e5\"] ;\\n2908 -> 2912 ;\\n2913 [label=\"speechiness <= 0.444\\\\ngini = 0.218\\\\nsamples = 197\\\\nvalue = [0, 3, 5, 1, 0, 29, 277]\", fillcolor=\"#e85396\"] ;\\n2779 -> 2913 ;\\n2914 [label=\"acousticness <= 0.754\\\\ngini = 0.195\\\\nsamples = 194\\\\nvalue = [0, 3, 5, 1, 0, 24, 277]\", fillcolor=\"#e85094\"] ;\\n2913 -> 2914 ;\\n2915 [label=\"acousticness <= 0.0\\\\ngini = 0.185\\\\nsamples = 193\\\\nvalue = [0, 1, 5, 1, 0, 24, 277]\", fillcolor=\"#e84f93\"] ;\\n2914 -> 2915 ;\\n2916 [label=\"loudness <= -7.017\\\\ngini = 0.303\\\\nsamples = 51\\\\nvalue = [0, 0, 1, 0, 0, 14, 67]\", fillcolor=\"#eb65a1\"] ;\\n2915 -> 2916 ;\\n2917 [label=\"gini = 0.0\\\\nsamples = 10\\\\nvalue = [0, 0, 0, 0, 0, 0, 18]\", fillcolor=\"#e53986\"] ;\\n2916 -> 2917 ;\\n2918 [label=\"energy <= 0.892\\\\ngini = 0.366\\\\nsamples = 41\\\\nvalue = [0, 0, 1, 0, 0, 14, 49]\", fillcolor=\"#ed74aa\"] ;\\n2916 -> 2918 ;\\n2919 [label=\"loudness <= -5.522\\\\ngini = 0.48\\\\nsamples = 5\\\\nvalue = [0, 0, 0, 0, 0, 3, 2]\", fillcolor=\"#e5bdf6\"] ;\\n2918 -> 2919 ;\\n2920 [label=\"gini = 0.0\\\\nsamples = 3\\\\nvalue = [0, 0, 0, 0, 0, 3, 0]\", fillcolor=\"#b139e5\"] ;\\n2919 -> 2920 ;\\n2921 [label=\"gini = 0.0\\\\nsamples = 2\\\\nvalue = [0, 0, 0, 0, 0, 0, 2]\", fillcolor=\"#e53986\"] ;\\n2919 -> 2921 ;\\n2922 [label=\"tempo <= 82.698\\\\ngini = 0.33\\\\nsamples = 36\\\\nvalue = [0, 0, 1, 0, 0, 11, 47]\", fillcolor=\"#ec6ba4\"] ;\\n2918 -> 2922 ;\\n2923 [label=\"duration_ms <= 281683.688\\\\ngini = 0.49\\\\nsamples = 5\\\\nvalue = [0, 0, 0, 0, 0, 4, 3]\", fillcolor=\"#eccef8\"] ;\\n2922 -> 2923 ;\\n2924 [label=\"popularity <= 64.632\\\\ngini = 0.375\\\\nsamples = 3\\\\nvalue = [0, 0, 0, 0, 0, 1, 3]\", fillcolor=\"#ee7bae\"] ;\\n2923 -> 2924 ;\\n2925 [label=\"gini = 0.0\\\\nsamples = 1\\\\nvalue = [0, 0, 0, 0, 0, 1, 0]\", fillcolor=\"#b139e5\"] ;\\n2924 -> 2925 ;\\n2926 [label=\"gini = 0.0\\\\nsamples = 2\\\\nvalue = [0, 0, 0, 0, 0, 0, 3]\", fillcolor=\"#e53986\"] ;\\n2924 -> 2926 ;\\n2927 [label=\"gini = 0.0\\\\nsamples = 2\\\\nvalue = [0, 0, 0, 0, 0, 3, 0]\", fillcolor=\"#b139e5\"] ;\\n2923 -> 2927 ;\\n2928 [label=\"danceability <= 0.57\\\\ngini = 0.266\\\\nsamples = 31\\\\nvalue = [0, 0, 1, 0, 0, 7, 44]\", fillcolor=\"#ea5c9c\"] ;\\n2922 -> 2928 ;\\n2929 [label=\"energy <= 0.99\\\\ngini = 0.145\\\\nsamples = 21\\\\nvalue = [0, 0, 1, 0, 0, 2, 36]\", fillcolor=\"#e74990\"] ;\\n2928 -> 2929 ;\\n2930 [label=\"gini = 0.0\\\\nsamples = 13\\\\nvalue = [0, 0, 0, 0, 0, 0, 26]\", fillcolor=\"#e53986\"] ;\\n2929 -> 2930 ;\\n2931 [label=\"speechiness <= 0.049\\\\ngini = 0.379\\\\nsamples = 8\\\\nvalue = [0, 0, 1, 0, 0, 2, 10]\", fillcolor=\"#ec6fa7\"] ;\\n2929 -> 2931 ;\\n2932 [label=\"gini = 0.0\\\\nsamples = 1\\\\nvalue = [0, 0, 1, 0, 0, 0, 0]\", fillcolor=\"#39e54d\"] ;\\n2931 -> 2932 ;\\n2933 [label=\"popularity <= 67.646\\\\ngini = 0.278\\\\nsamples = 7\\\\nvalue = [0, 0, 0, 0, 0, 2, 10]\", fillcolor=\"#ea619e\"] ;\\n2931 -> 2933 ;\\n2934 [label=\"gini = 0.0\\\\nsamples = 5\\\\nvalue = [0, 0, 0, 0, 0, 0, 10]\", fillcolor=\"#e53986\"] ;\\n2933 -> 2934 ;\\n2935 [label=\"gini = 0.0\\\\nsamples = 2\\\\nvalue = [0, 0, 0, 0, 0, 2, 0]\", fillcolor=\"#b139e5\"] ;\\n2933 -> 2935 ;\\n2936 [label=\"danceability <= 0.607\\\\ngini = 0.473\\\\nsamples = 10\\\\nvalue = [0, 0, 0, 0, 0, 5, 8]\", fillcolor=\"#f5b5d2\"] ;\\n2928 -> 2936 ;\\n2937 [label=\"valence <= 0.303\\\\ngini = 0.278\\\\nsamples = 4\\\\nvalue = [0, 0, 0, 0, 0, 5, 1]\", fillcolor=\"#c161ea\"] ;\\n2936 -> 2937 ;\\n2938 [label=\"gini = 0.0\\\\nsamples = 1\\\\nvalue = [0, 0, 0, 0, 0, 0, 1]\", fillcolor=\"#e53986\"] ;\\n2937 -> 2938 ;\\n2939 [label=\"gini = 0.0\\\\nsamples = 3\\\\nvalue = [0, 0, 0, 0, 0, 5, 0]\", fillcolor=\"#b139e5\"] ;\\n2937 -> 2939 ;\\n2940 [label=\"gini = 0.0\\\\nsamples = 6\\\\nvalue = [0, 0, 0, 0, 0, 0, 7]\", fillcolor=\"#e53986\"] ;\\n2936 -> 2940 ;\\n2941 [label=\"acousticness <= 0.01\\\\ngini = 0.134\\\\nsamples = 142\\\\nvalue = [0, 1, 4, 1, 0, 10, 210]\", fillcolor=\"#e7488f\"] ;\\n2915 -> 2941 ;\\n2942 [label=\"tempo <= 95.872\\\\ngini = 0.054\\\\nsamples = 68\\\\nvalue = [0, 0, 0, 0, 0, 3, 106]\", fillcolor=\"#e63f89\"] ;\\n2941 -> 2942 ;\\n2943 [label=\"instrumentalness <= 0.15\\\\ngini = 0.153\\\\nsamples = 14\\\\nvalue = [0, 0, 0, 0, 0, 2, 22]\", fillcolor=\"#e74b91\"] ;\\n2942 -> 2943 ;\\n2944 [label=\"popularity <= 62.989\\\\ngini = 0.083\\\\nsamples = 13\\\\nvalue = [0, 0, 0, 0, 0, 1, 22]\", fillcolor=\"#e6428c\"] ;\\n2943 -> 2944 ;\\n2945 [label=\"tempo <= 93.261\\\\ngini = 0.18\\\\nsamples = 6\\\\nvalue = [0, 0, 0, 0, 0, 1, 9]\", fillcolor=\"#e84f93\"] ;\\n2944 -> 2945 ;\\n2946 [label=\"gini = 0.0\\\\nsamples = 5\\\\nvalue = [0, 0, 0, 0, 0, 0, 9]\", fillcolor=\"#e53986\"] ;\\n2945 -> 2946 ;\\n2947 [label=\"gini = 0.0\\\\nsamples = 1\\\\nvalue = [0, 0, 0, 0, 0, 1, 0]\", fillcolor=\"#b139e5\"] ;\\n2945 -> 2947 ;\\n2948 [label=\"gini = 0.0\\\\nsamples = 7\\\\nvalue = [0, 0, 0, 0, 0, 0, 13]\", fillcolor=\"#e53986\"] ;\\n2944 -> 2948 ;\\n2949 [label=\"gini = 0.0\\\\nsamples = 1\\\\nvalue = [0, 0, 0, 0, 0, 1, 0]\", fillcolor=\"#b139e5\"] ;\\n2943 -> 2949 ;\\n2950 [label=\"acousticness <= 0.001\\\\ngini = 0.023\\\\nsamples = 54\\\\nvalue = [0, 0, 0, 0, 0, 1, 84]\", fillcolor=\"#e53b87\"] ;\\n2942 -> 2950 ;\\n2951 [label=\"danceability <= 0.534\\\\ngini = 0.105\\\\nsamples = 12\\\\nvalue = [0, 0, 0, 0, 0, 1, 17]\", fillcolor=\"#e7458d\"] ;\\n2950 -> 2951 ;\\n2952 [label=\"danceability <= 0.527\\\\ngini = 0.278\\\\nsamples = 4\\\\nvalue = [0, 0, 0, 0, 0, 1, 5]\", fillcolor=\"#ea619e\"] ;\\n2951 -> 2952 ;\\n2953 [label=\"gini = 0.0\\\\nsamples = 3\\\\nvalue = [0, 0, 0, 0, 0, 0, 5]\", fillcolor=\"#e53986\"] ;\\n2952 -> 2953 ;\\n2954 [label=\"gini = 0.0\\\\nsamples = 1\\\\nvalue = [0, 0, 0, 0, 0, 1, 0]\", fillcolor=\"#b139e5\"] ;\\n2952 -> 2954 ;\\n2955 [label=\"gini = 0.0\\\\nsamples = 8\\\\nvalue = [0, 0, 0, 0, 0, 0, 12]\", fillcolor=\"#e53986\"] ;\\n2951 -> 2955 ;\\n2956 [label=\"gini = 0.0\\\\nsamples = 42\\\\nvalue = [0, 0, 0, 0, 0, 0, 67]\", fillcolor=\"#e53986\"] ;\\n2950 -> 2956 ;\\n2957 [label=\"popularity <= 77.589\\\\ngini = 0.205\\\\nsamples = 74\\\\nvalue = [0, 1, 4, 1, 0, 7, 104]\", fillcolor=\"#e85094\"] ;\\n2941 -> 2957 ;\\n2958 [label=\"danceability <= 0.699\\\\ngini = 0.182\\\\nsamples = 71\\\\nvalue = [0, 1, 4, 1, 0, 5, 102]\", fillcolor=\"#e84d92\"] ;\\n2957 -> 2958 ;\\n2959 [label=\"speechiness <= 0.35\\\\ngini = 0.126\\\\nsamples = 65\\\\nvalue = [0, 1, 3, 1, 0, 2, 99]\", fillcolor=\"#e7468e\"] ;\\n2958 -> 2959 ;\\n2960 [label=\"duration_ms <= 244058.758\\\\ngini = 0.11\\\\nsamples = 64\\\\nvalue = [0, 1, 3, 0, 0, 2, 99]\", fillcolor=\"#e7458d\"] ;\\n2959 -> 2960 ;\\n2961 [label=\"energy <= 1.008\\\\ngini = 0.054\\\\nsamples = 39\\\\nvalue = [0, 0, 0, 0, 0, 2, 70]\", fillcolor=\"#e63f89\"] ;\\n2960 -> 2961 ;\\n2962 [label=\"tempo <= 81.488\\\\ngini = 0.029\\\\nsamples = 36\\\\nvalue = [0, 0, 0, 0, 0, 1, 67]\", fillcolor=\"#e53c88\"] ;\\n2961 -> 2962 ;\\n2963 [label=\"duration_ms <= 172004.227\\\\ngini = 0.5\\\\nsamples = 2\\\\nvalue = [0, 0, 0, 0, 0, 1, 1]\", fillcolor=\"#ffffff\"] ;\\n2962 -> 2963 ;\\n2964 [label=\"gini = 0.0\\\\nsamples = 1\\\\nvalue = [0, 0, 0, 0, 0, 1, 0]\", fillcolor=\"#b139e5\"] ;\\n2963 -> 2964 ;\\n2965 [label=\"gini = 0.0\\\\nsamples = 1\\\\nvalue = [0, 0, 0, 0, 0, 0, 1]\", fillcolor=\"#e53986\"] ;\\n2963 -> 2965 ;\\n2966 [label=\"gini = 0.0\\\\nsamples = 34\\\\nvalue = [0, 0, 0, 0, 0, 0, 66]\", fillcolor=\"#e53986\"] ;\\n2962 -> 2966 ;\\n2967 [label=\"popularity <= 68.386\\\\ngini = 0.375\\\\nsamples = 3\\\\nvalue = [0, 0, 0, 0, 0, 1, 3]\", fillcolor=\"#ee7bae\"] ;\\n2961 -> 2967 ;\\n2968 [label=\"gini = 0.0\\\\nsamples = 1\\\\nvalue = [0, 0, 0, 0, 0, 1, 0]\", fillcolor=\"#b139e5\"] ;\\n2967 -> 2968 ;\\n2969 [label=\"gini = 0.0\\\\nsamples = 2\\\\nvalue = [0, 0, 0, 0, 0, 0, 3]\", fillcolor=\"#e53986\"] ;\\n2967 -> 2969 ;\\n2970 [label=\"speechiness <= 0.047\\\\ngini = 0.219\\\\nsamples = 25\\\\nvalue = [0, 1, 3, 0, 0, 0, 29]\", fillcolor=\"#e85396\"] ;\\n2960 -> 2970 ;\\n2971 [label=\"liveness <= 0.082\\\\ngini = 0.379\\\\nsamples = 11\\\\nvalue = [0, 1, 2, 0, 0, 0, 10]\", fillcolor=\"#ec6fa7\"] ;\\n2970 -> 2971 ;\\n2972 [label=\"gini = 0.0\\\\nsamples = 1\\\\nvalue = [0, 0, 2, 0, 0, 0, 0]\", fillcolor=\"#39e54d\"] ;\\n2971 -> 2972 ;\\n2973 [label=\"valence <= 0.595\\\\ngini = 0.165\\\\nsamples = 10\\\\nvalue = [0, 1, 0, 0, 0, 0, 10]\", fillcolor=\"#e84d92\"] ;\\n2971 -> 2973 ;\\n2974 [label=\"gini = 0.0\\\\nsamples = 8\\\\nvalue = [0, 0, 0, 0, 0, 0, 9]\", fillcolor=\"#e53986\"] ;\\n2973 -> 2974 ;\\n2975 [label=\"tempo <= 45.044\\\\ngini = 0.5\\\\nsamples = 2\\\\nvalue = [0, 1, 0, 0, 0, 0, 1]\", fillcolor=\"#ffffff\"] ;\\n2973 -> 2975 ;\\n2976 [label=\"gini = 0.0\\\\nsamples = 1\\\\nvalue = [0, 1, 0, 0, 0, 0, 0]\", fillcolor=\"#b7e539\"] ;\\n2975 -> 2976 ;\\n2977 [label=\"gini = 0.0\\\\nsamples = 1\\\\nvalue = [0, 0, 0, 0, 0, 0, 1]\", fillcolor=\"#e53986\"] ;\\n2975 -> 2977 ;\\n2978 [label=\"loudness <= -4.247\\\\ngini = 0.095\\\\nsamples = 14\\\\nvalue = [0, 0, 1, 0, 0, 0, 19]\", fillcolor=\"#e6438c\"] ;\\n2970 -> 2978 ;\\n2979 [label=\"gini = 0.0\\\\nsamples = 12\\\\nvalue = [0, 0, 0, 0, 0, 0, 18]\", fillcolor=\"#e53986\"] ;\\n2978 -> 2979 ;\\n2980 [label=\"speechiness <= 0.143\\\\ngini = 0.5\\\\nsamples = 2\\\\nvalue = [0, 0, 1, 0, 0, 0, 1]\", fillcolor=\"#ffffff\"] ;\\n2978 -> 2980 ;\\n2981 [label=\"gini = 0.0\\\\nsamples = 1\\\\nvalue = [0, 0, 1, 0, 0, 0, 0]\", fillcolor=\"#39e54d\"] ;\\n2980 -> 2981 ;\\n2982 [label=\"gini = 0.0\\\\nsamples = 1\\\\nvalue = [0, 0, 0, 0, 0, 0, 1]\", fillcolor=\"#e53986\"] ;\\n2980 -> 2982 ;\\n2983 [label=\"gini = 0.0\\\\nsamples = 1\\\\nvalue = [0, 0, 0, 1, 0, 0, 0]\", fillcolor=\"#39e5e2\"] ;\\n2959 -> 2983 ;\\n2984 [label=\"energy <= 0.881\\\\ngini = 0.612\\\\nsamples = 6\\\\nvalue = [0, 0, 1, 0, 0, 3, 3]\", fillcolor=\"#ffffff\"] ;\\n2958 -> 2984 ;\\n2985 [label=\"gini = 0.0\\\\nsamples = 3\\\\nvalue = [0, 0, 0, 0, 0, 0, 3]\", fillcolor=\"#e53986\"] ;\\n2984 -> 2985 ;\\n2986 [label=\"popularity <= 58.825\\\\ngini = 0.375\\\\nsamples = 3\\\\nvalue = [0, 0, 1, 0, 0, 3, 0]\", fillcolor=\"#cb7bee\"] ;\\n2984 -> 2986 ;\\n2987 [label=\"gini = 0.0\\\\nsamples = 1\\\\nvalue = [0, 0, 1, 0, 0, 0, 0]\", fillcolor=\"#39e54d\"] ;\\n2986 -> 2987 ;\\n2988 [label=\"gini = 0.0\\\\nsamples = 2\\\\nvalue = [0, 0, 0, 0, 0, 3, 0]\", fillcolor=\"#b139e5\"] ;\\n2986 -> 2988 ;\\n2989 [label=\"valence <= 0.679\\\\ngini = 0.5\\\\nsamples = 3\\\\nvalue = [0, 0, 0, 0, 0, 2, 2]\", fillcolor=\"#ffffff\"] ;\\n2957 -> 2989 ;\\n2990 [label=\"gini = 0.0\\\\nsamples = 2\\\\nvalue = [0, 0, 0, 0, 0, 0, 2]\", fillcolor=\"#e53986\"] ;\\n2989 -> 2990 ;\\n2991 [label=\"gini = 0.0\\\\nsamples = 1\\\\nvalue = [0, 0, 0, 0, 0, 2, 0]\", fillcolor=\"#b139e5\"] ;\\n2989 -> 2991 ;\\n2992 [label=\"gini = 0.0\\\\nsamples = 1\\\\nvalue = [0, 2, 0, 0, 0, 0, 0]\", fillcolor=\"#b7e539\"] ;\\n2914 -> 2992 ;\\n2993 [label=\"gini = 0.0\\\\nsamples = 3\\\\nvalue = [0, 0, 0, 0, 0, 5, 0]\", fillcolor=\"#b139e5\"] ;\\n2913 -> 2993 ;\\n2994 [label=\"popularity <= 65.282\\\\ngini = 0.147\\\\nsamples = 16\\\\nvalue = [0, 0, 0, 0, 0, 2, 23]\", fillcolor=\"#e74a91\"] ;\\n2768 -> 2994 ;\\n2995 [label=\"gini = 0.0\\\\nsamples = 10\\\\nvalue = [0, 0, 0, 0, 0, 0, 17]\", fillcolor=\"#e53986\"] ;\\n2994 -> 2995 ;\\n2996 [label=\"liveness <= 0.385\\\\ngini = 0.375\\\\nsamples = 6\\\\nvalue = [0, 0, 0, 0, 0, 2, 6]\", fillcolor=\"#ee7bae\"] ;\\n2994 -> 2996 ;\\n2997 [label=\"gini = 0.0\\\\nsamples = 4\\\\nvalue = [0, 0, 0, 0, 0, 0, 6]\", fillcolor=\"#e53986\"] ;\\n2996 -> 2997 ;\\n2998 [label=\"gini = 0.0\\\\nsamples = 2\\\\nvalue = [0, 0, 0, 0, 0, 2, 0]\", fillcolor=\"#b139e5\"] ;\\n2996 -> 2998 ;\\n2999 [label=\"speechiness <= 0.06\\\\ngini = 0.509\\\\nsamples = 177\\\\nvalue = [2, 3, 3, 4, 0, 90, 160]\", fillcolor=\"#f4aece\"] ;\\n2767 -> 2999 ;\\n3000 [label=\"valence <= 0.151\\\\ngini = 0.277\\\\nsamples = 68\\\\nvalue = [0, 2, 0, 0, 0, 14, 83]\", fillcolor=\"#ea5e9d\"] ;\\n2999 -> 3000 ;\\n3001 [label=\"gini = 0.0\\\\nsamples = 4\\\\nvalue = [0, 0, 0, 0, 0, 6, 0]\", fillcolor=\"#b139e5\"] ;\\n3000 -> 3001 ;\\n3002 [label=\"energy <= 1.015\\\\ngini = 0.196\\\\nsamples = 64\\\\nvalue = [0, 2, 0, 0, 0, 8, 83]\", fillcolor=\"#e85094\"] ;\\n3000 -> 3002 ;\\n3003 [label=\"popularity <= 65.024\\\\ngini = 0.127\\\\nsamples = 62\\\\nvalue = [0, 1, 0, 0, 0, 5, 83]\", fillcolor=\"#e7478f\"] ;\\n3002 -> 3003 ;\\n3004 [label=\"valence <= 0.658\\\\ngini = 0.035\\\\nsamples = 38\\\\nvalue = [0, 1, 0, 0, 0, 0, 55]\", fillcolor=\"#e53d88\"] ;\\n3003 -> 3004 ;\\n3005 [label=\"gini = 0.0\\\\nsamples = 32\\\\nvalue = [0, 0, 0, 0, 0, 0, 50]\", fillcolor=\"#e53986\"] ;\\n3004 -> 3005 ;\\n3006 [label=\"valence <= 0.667\\\\ngini = 0.278\\\\nsamples = 6\\\\nvalue = [0, 1, 0, 0, 0, 0, 5]\", fillcolor=\"#ea619e\"] ;\\n3004 -> 3006 ;\\n3007 [label=\"gini = 0.0\\\\nsamples = 1\\\\nvalue = [0, 1, 0, 0, 0, 0, 0]\", fillcolor=\"#b7e539\"] ;\\n3006 -> 3007 ;\\n3008 [label=\"gini = 0.0\\\\nsamples = 5\\\\nvalue = [0, 0, 0, 0, 0, 0, 5]\", fillcolor=\"#e53986\"] ;\\n3006 -> 3008 ;\\n3009 [label=\"energy <= 0.983\\\\ngini = 0.257\\\\nsamples = 24\\\\nvalue = [0, 0, 0, 0, 0, 5, 28]\", fillcolor=\"#ea5c9c\"] ;\\n3003 -> 3009 ;\\n3010 [label=\"loudness <= -2.683\\\\ngini = 0.175\\\\nsamples = 23\\\\nvalue = [0, 0, 0, 0, 0, 3, 28]\", fillcolor=\"#e84e93\"] ;\\n3009 -> 3010 ;\\n3011 [label=\"tempo <= 45.828\\\\ngini = 0.305\\\\nsamples = 13\\\\nvalue = [0, 0, 0, 0, 0, 3, 13]\", fillcolor=\"#eb67a2\"] ;\\n3010 -> 3011 ;\\n3012 [label=\"gini = 0.0\\\\nsamples = 1\\\\nvalue = [0, 0, 0, 0, 0, 1, 0]\", fillcolor=\"#b139e5\"] ;\\n3011 -> 3012 ;\\n3013 [label=\"loudness <= -3.049\\\\ngini = 0.231\\\\nsamples = 12\\\\nvalue = [0, 0, 0, 0, 0, 2, 13]\", fillcolor=\"#e95799\"] ;\\n3011 -> 3013 ;\\n3014 [label=\"acousticness <= 0.001\\\\ngini = 0.133\\\\nsamples = 11\\\\nvalue = [0, 0, 0, 0, 0, 1, 13]\", fillcolor=\"#e7488f\"] ;\\n3013 -> 3014 ;\\n3015 [label=\"instrumentalness <= 0.294\\\\ngini = 0.444\\\\nsamples = 3\\\\nvalue = [0, 0, 0, 0, 0, 1, 2]\", fillcolor=\"#f29cc2\"] ;\\n3014 -> 3015 ;\\n3016 [label=\"gini = 0.0\\\\nsamples = 1\\\\nvalue = [0, 0, 0, 0, 0, 1, 0]\", fillcolor=\"#b139e5\"] ;\\n3015 -> 3016 ;\\n3017 [label=\"gini = 0.0\\\\nsamples = 2\\\\nvalue = [0, 0, 0, 0, 0, 0, 2]\", fillcolor=\"#e53986\"] ;\\n3015 -> 3017 ;\\n3018 [label=\"gini = 0.0\\\\nsamples = 8\\\\nvalue = [0, 0, 0, 0, 0, 0, 11]\", fillcolor=\"#e53986\"] ;\\n3014 -> 3018 ;\\n3019 [label=\"gini = 0.0\\\\nsamples = 1\\\\nvalue = [0, 0, 0, 0, 0, 1, 0]\", fillcolor=\"#b139e5\"] ;\\n3013 -> 3019 ;\\n3020 [label=\"gini = 0.0\\\\nsamples = 10\\\\nvalue = [0, 0, 0, 0, 0, 0, 15]\", fillcolor=\"#e53986\"] ;\\n3010 -> 3020 ;\\n3021 [label=\"gini = 0.0\\\\nsamples = 1\\\\nvalue = [0, 0, 0, 0, 0, 2, 0]\", fillcolor=\"#b139e5\"] ;\\n3009 -> 3021 ;\\n3022 [label=\"tempo <= 115.312\\\\ngini = 0.375\\\\nsamples = 2\\\\nvalue = [0, 1, 0, 0, 0, 3, 0]\", fillcolor=\"#cb7bee\"] ;\\n3002 -> 3022 ;\\n3023 [label=\"gini = 0.0\\\\nsamples = 1\\\\nvalue = [0, 0, 0, 0, 0, 3, 0]\", fillcolor=\"#b139e5\"] ;\\n3022 -> 3023 ;\\n3024 [label=\"gini = 0.0\\\\nsamples = 1\\\\nvalue = [0, 1, 0, 0, 0, 0, 0]\", fillcolor=\"#b7e539\"] ;\\n3022 -> 3024 ;\\n3025 [label=\"speechiness <= 0.295\\\\ngini = 0.558\\\\nsamples = 109\\\\nvalue = [2, 1, 3, 4, 0, 76, 77]\", fillcolor=\"#fffdfe\"] ;\\n2999 -> 3025 ;\\n3026 [label=\"danceability <= 0.629\\\\ngini = 0.548\\\\nsamples = 101\\\\nvalue = [2, 1, 3, 2, 0, 66, 77]\", fillcolor=\"#fce5ef\"] ;\\n3025 -> 3026 ;\\n3027 [label=\"duration_ms <= 249282.727\\\\ngini = 0.507\\\\nsamples = 78\\\\nvalue = [2, 0, 1, 1, 0, 43, 70]\", fillcolor=\"#f6b7d3\"] ;\\n3026 -> 3027 ;\\n3028 [label=\"duration_ms <= 236809.891\\\\ngini = 0.415\\\\nsamples = 51\\\\nvalue = [0, 0, 1, 1, 0, 20, 57]\", fillcolor=\"#ef83b3\"] ;\\n3027 -> 3028 ;\\n3029 [label=\"loudness <= -3.99\\\\ngini = 0.491\\\\nsamples = 43\\\\nvalue = [0, 0, 1, 1, 0, 20, 37]\", fillcolor=\"#f4a9ca\"] ;\\n3028 -> 3029 ;\\n3030 [label=\"gini = 0.0\\\\nsamples = 2\\\\nvalue = [0, 0, 0, 0, 0, 4, 0]\", fillcolor=\"#b139e5\"] ;\\n3029 -> 3030 ;\\n3031 [label=\"tempo <= 124.335\\\\ngini = 0.462\\\\nsamples = 41\\\\nvalue = [0, 0, 1, 1, 0, 16, 37]\", fillcolor=\"#f194be\"] ;\\n3029 -> 3031 ;\\n3032 [label=\"speechiness <= 0.162\\\\ngini = 0.545\\\\nsamples = 16\\\\nvalue = [0, 0, 0, 1, 0, 10, 9]\", fillcolor=\"#f8edfd\"] ;\\n3031 -> 3032 ;\\n3033 [label=\"danceability <= 0.606\\\\ngini = 0.462\\\\nsamples = 11\\\\nvalue = [0, 0, 0, 1, 0, 9, 3]\", fillcolor=\"#d088ef\"] ;\\n3032 -> 3033 ;\\n3034 [label=\"loudness <= -1.586\\\\ngini = 0.314\\\\nsamples = 9\\\\nvalue = [0, 0, 0, 1, 0, 9, 1]\", fillcolor=\"#c161ea\"] ;\\n3033 -> 3034 ;\\n3035 [label=\"danceability <= 0.487\\\\ngini = 0.18\\\\nsamples = 8\\\\nvalue = [0, 0, 0, 0, 0, 9, 1]\", fillcolor=\"#ba4fe8\"] ;\\n3034 -> 3035 ;\\n3036 [label=\"duration_ms <= 202258.023\\\\ngini = 0.5\\\\nsamples = 2\\\\nvalue = [0, 0, 0, 0, 0, 1, 1]\", fillcolor=\"#ffffff\"] ;\\n3035 -> 3036 ;\\n3037 [label=\"gini = 0.0\\\\nsamples = 1\\\\nvalue = [0, 0, 0, 0, 0, 0, 1]\", fillcolor=\"#e53986\"] ;\\n3036 -> 3037 ;\\n3038 [label=\"gini = 0.0\\\\nsamples = 1\\\\nvalue = [0, 0, 0, 0, 0, 1, 0]\", fillcolor=\"#b139e5\"] ;\\n3036 -> 3038 ;\\n3039 [label=\"gini = 0.0\\\\nsamples = 6\\\\nvalue = [0, 0, 0, 0, 0, 8, 0]\", fillcolor=\"#b139e5\"] ;\\n3035 -> 3039 ;\\n3040 [label=\"gini = 0.0\\\\nsamples = 1\\\\nvalue = [0, 0, 0, 1, 0, 0, 0]\", fillcolor=\"#39e5e2\"] ;\\n3034 -> 3040 ;\\n3041 [label=\"gini = 0.0\\\\nsamples = 2\\\\nvalue = [0, 0, 0, 0, 0, 0, 2]\", fillcolor=\"#e53986\"] ;\\n3033 -> 3041 ;\\n3042 [label=\"popularity <= 73.444\\\\ngini = 0.245\\\\nsamples = 5\\\\nvalue = [0, 0, 0, 0, 0, 1, 6]\", fillcolor=\"#e95a9a\"] ;\\n3032 -> 3042 ;\\n3043 [label=\"gini = 0.0\\\\nsamples = 4\\\\nvalue = [0, 0, 0, 0, 0, 0, 6]\", fillcolor=\"#e53986\"] ;\\n3042 -> 3043 ;\\n3044 [label=\"gini = 0.0\\\\nsamples = 1\\\\nvalue = [0, 0, 0, 0, 0, 1, 0]\", fillcolor=\"#b139e5\"] ;\\n3042 -> 3044 ;\\n3045 [label=\"danceability <= 0.369\\\\ngini = 0.33\\\\nsamples = 25\\\\nvalue = [0, 0, 1, 0, 0, 6, 28]\", fillcolor=\"#eb69a3\"] ;\\n3031 -> 3045 ;\\n3046 [label=\"valence <= 0.494\\\\ngini = 0.375\\\\nsamples = 3\\\\nvalue = [0, 0, 0, 0, 0, 3, 1]\", fillcolor=\"#cb7bee\"] ;\\n3045 -> 3046 ;\\n3047 [label=\"gini = 0.0\\\\nsamples = 2\\\\nvalue = [0, 0, 0, 0, 0, 3, 0]\", fillcolor=\"#b139e5\"] ;\\n3046 -> 3047 ;\\n3048 [label=\"gini = 0.0\\\\nsamples = 1\\\\nvalue = [0, 0, 0, 0, 0, 0, 1]\", fillcolor=\"#e53986\"] ;\\n3046 -> 3048 ;\\n3049 [label=\"instrumentalness <= 0.0\\\\ngini = 0.231\\\\nsamples = 22\\\\nvalue = [0, 0, 1, 0, 0, 3, 27]\", fillcolor=\"#e95597\"] ;\\n3045 -> 3049 ;\\n3050 [label=\"duration_ms <= 226639.656\\\\ngini = 0.32\\\\nsamples = 12\\\\nvalue = [0, 0, 0, 0, 0, 3, 12]\", fillcolor=\"#ec6aa4\"] ;\\n3049 -> 3050 ;\\n3051 [label=\"energy <= 1.067\\\\ngini = 0.245\\\\nsamples = 11\\\\nvalue = [0, 0, 0, 0, 0, 2, 12]\", fillcolor=\"#e95a9a\"] ;\\n3050 -> 3051 ;\\n3052 [label=\"loudness <= -2.765\\\\ngini = 0.142\\\\nsamples = 10\\\\nvalue = [0, 0, 0, 0, 0, 1, 12]\", fillcolor=\"#e74990\"] ;\\n3051 -> 3052 ;\\n3053 [label=\"tempo <= 150.796\\\\ngini = 0.32\\\\nsamples = 5\\\\nvalue = [0, 0, 0, 0, 0, 1, 4]\", fillcolor=\"#ec6aa4\"] ;\\n3052 -> 3053 ;\\n3054 [label=\"gini = 0.0\\\\nsamples = 1\\\\nvalue = [0, 0, 0, 0, 0, 1, 0]\", fillcolor=\"#b139e5\"] ;\\n3053 -> 3054 ;\\n3055 [label=\"gini = 0.0\\\\nsamples = 4\\\\nvalue = [0, 0, 0, 0, 0, 0, 4]\", fillcolor=\"#e53986\"] ;\\n3053 -> 3055 ;\\n3056 [label=\"gini = 0.0\\\\nsamples = 5\\\\nvalue = [0, 0, 0, 0, 0, 0, 8]\", fillcolor=\"#e53986\"] ;\\n3052 -> 3056 ;\\n3057 [label=\"gini = 0.0\\\\nsamples = 1\\\\nvalue = [0, 0, 0, 0, 0, 1, 0]\", fillcolor=\"#b139e5\"] ;\\n3051 -> 3057 ;\\n3058 [label=\"gini = 0.0\\\\nsamples = 1\\\\nvalue = [0, 0, 0, 0, 0, 1, 0]\", fillcolor=\"#b139e5\"] ;\\n3050 -> 3058 ;\\n3059 [label=\"danceability <= 0.6\\\\ngini = 0.117\\\\nsamples = 10\\\\nvalue = [0, 0, 1, 0, 0, 0, 15]\", fillcolor=\"#e7468e\"] ;\\n3049 -> 3059 ;\\n3060 [label=\"gini = 0.0\\\\nsamples = 9\\\\nvalue = [0, 0, 0, 0, 0, 0, 15]\", fillcolor=\"#e53986\"] ;\\n3059 -> 3060 ;\\n3061 [label=\"gini = 0.0\\\\nsamples = 1\\\\nvalue = [0, 0, 1, 0, 0, 0, 0]\", fillcolor=\"#39e54d\"] ;\\n3059 -> 3061 ;\\n3062 [label=\"gini = 0.0\\\\nsamples = 8\\\\nvalue = [0, 0, 0, 0, 0, 0, 20]\", fillcolor=\"#e53986\"] ;\\n3028 -> 3062 ;\\n3063 [label=\"tempo <= 181.025\\\\ngini = 0.514\\\\nsamples = 27\\\\nvalue = [2, 0, 0, 0, 0, 23, 13]\", fillcolor=\"#e0b0f5\"] ;\\n3027 -> 3063 ;\\n3064 [label=\"danceability <= 0.484\\\\ngini = 0.495\\\\nsamples = 26\\\\nvalue = [2, 0, 0, 0, 0, 23, 11]\", fillcolor=\"#daa0f3\"] ;\\n3063 -> 3064 ;\\n3065 [label=\"instrumentalness <= 0.044\\\\ngini = 0.265\\\\nsamples = 14\\\\nvalue = [1, 0, 0, 0, 0, 17, 2]\", fillcolor=\"#be5ae9\"] ;\\n3064 -> 3065 ;\\n3066 [label=\"duration_ms <= 260787.992\\\\ngini = 0.188\\\\nsamples = 13\\\\nvalue = [0, 0, 0, 0, 0, 17, 2]\", fillcolor=\"#ba50e8\"] ;\\n3065 -> 3066 ;\\n3067 [label=\"gini = 0.0\\\\nsamples = 1\\\\nvalue = [0, 0, 0, 0, 0, 0, 1]\", fillcolor=\"#e53986\"] ;\\n3066 -> 3067 ;\\n3068 [label=\"duration_ms <= 269170.812\\\\ngini = 0.105\\\\nsamples = 12\\\\nvalue = [0, 0, 0, 0, 0, 17, 1]\", fillcolor=\"#b645e7\"] ;\\n3066 -> 3068 ;\\n3069 [label=\"gini = 0.0\\\\nsamples = 7\\\\nvalue = [0, 0, 0, 0, 0, 11, 0]\", fillcolor=\"#b139e5\"] ;\\n3068 -> 3069 ;\\n3070 [label=\"acousticness <= 0.133\\\\ngini = 0.245\\\\nsamples = 5\\\\nvalue = [0, 0, 0, 0, 0, 6, 1]\", fillcolor=\"#be5ae9\"] ;\\n3068 -> 3070 ;\\n3071 [label=\"gini = 0.0\\\\nsamples = 4\\\\nvalue = [0, 0, 0, 0, 0, 6, 0]\", fillcolor=\"#b139e5\"] ;\\n3070 -> 3071 ;\\n3072 [label=\"gini = 0.0\\\\nsamples = 1\\\\nvalue = [0, 0, 0, 0, 0, 0, 1]\", fillcolor=\"#e53986\"] ;\\n3070 -> 3072 ;\\n3073 [label=\"gini = 0.0\\\\nsamples = 1\\\\nvalue = [1, 0, 0, 0, 0, 0, 0]\", fillcolor=\"#e58139\"] ;\\n3065 -> 3073 ;\\n3074 [label=\"liveness <= 0.159\\\\ngini = 0.539\\\\nsamples = 12\\\\nvalue = [1, 0, 0, 0, 0, 6, 9]\", fillcolor=\"#f7c4db\"] ;\\n3064 -> 3074 ;\\n3075 [label=\"gini = 0.0\\\\nsamples = 4\\\\nvalue = [0, 0, 0, 0, 0, 0, 5]\", fillcolor=\"#e53986\"] ;\\n3074 -> 3075 ;\\n3076 [label=\"duration_ms <= 257965.047\\\\ngini = 0.562\\\\nsamples = 8\\\\nvalue = [1, 0, 0, 0, 0, 6, 4]\", fillcolor=\"#e9c6f8\"] ;\\n3074 -> 3076 ;\\n3077 [label=\"gini = 0.0\\\\nsamples = 2\\\\nvalue = [0, 0, 0, 0, 0, 4, 0]\", fillcolor=\"#b139e5\"] ;\\n3076 -> 3077 ;\\n3078 [label=\"valence <= 0.333\\\\ngini = 0.571\\\\nsamples = 6\\\\nvalue = [1, 0, 0, 0, 0, 2, 4]\", fillcolor=\"#f5b0cf\"] ;\\n3076 -> 3078 ;\\n3079 [label=\"energy <= 1.081\\\\ngini = 0.625\\\\nsamples = 4\\\\nvalue = [1, 0, 0, 0, 0, 2, 1]\", fillcolor=\"#e5bdf6\"] ;\\n3078 -> 3079 ;\\n3080 [label=\"danceability <= 0.577\\\\ngini = 0.444\\\\nsamples = 3\\\\nvalue = [0, 0, 0, 0, 0, 2, 1]\", fillcolor=\"#d89cf2\"] ;\\n3079 -> 3080 ;\\n3081 [label=\"gini = 0.0\\\\nsamples = 2\\\\nvalue = [0, 0, 0, 0, 0, 2, 0]\", fillcolor=\"#b139e5\"] ;\\n3080 -> 3081 ;\\n3082 [label=\"gini = 0.0\\\\nsamples = 1\\\\nvalue = [0, 0, 0, 0, 0, 0, 1]\", fillcolor=\"#e53986\"] ;\\n3080 -> 3082 ;\\n3083 [label=\"gini = 0.0\\\\nsamples = 1\\\\nvalue = [1, 0, 0, 0, 0, 0, 0]\", fillcolor=\"#e58139\"] ;\\n3079 -> 3083 ;\\n3084 [label=\"gini = 0.0\\\\nsamples = 2\\\\nvalue = [0, 0, 0, 0, 0, 0, 3]\", fillcolor=\"#e53986\"] ;\\n3078 -> 3084 ;\\n3085 [label=\"gini = 0.0\\\\nsamples = 1\\\\nvalue = [0, 0, 0, 0, 0, 0, 2]\", fillcolor=\"#e53986\"] ;\\n3063 -> 3085 ;\\n3086 [label=\"duration_ms <= 314385.578\\\\ngini = 0.495\\\\nsamples = 23\\\\nvalue = [0, 1, 2, 1, 0, 23, 7]\", fillcolor=\"#d18af0\"] ;\\n3026 -> 3086 ;\\n3087 [label=\"danceability <= 0.669\\\\ngini = 0.434\\\\nsamples = 21\\\\nvalue = [0, 1, 0, 1, 0, 23, 7]\", fillcolor=\"#cd80ee\"] ;\\n3086 -> 3087 ;\\n3088 [label=\"liveness <= 0.14\\\\ngini = 0.198\\\\nsamples = 9\\\\nvalue = [0, 0, 0, 0, 0, 16, 2]\", fillcolor=\"#bb52e8\"] ;\\n3087 -> 3088 ;\\n3089 [label=\"duration_ms <= 80944.367\\\\ngini = 0.5\\\\nsamples = 2\\\\nvalue = [0, 0, 0, 0, 0, 1, 1]\", fillcolor=\"#ffffff\"] ;\\n3088 -> 3089 ;\\n3090 [label=\"gini = 0.0\\\\nsamples = 1\\\\nvalue = [0, 0, 0, 0, 0, 0, 1]\", fillcolor=\"#e53986\"] ;\\n3089 -> 3090 ;\\n3091 [label=\"gini = 0.0\\\\nsamples = 1\\\\nvalue = [0, 0, 0, 0, 0, 1, 0]\", fillcolor=\"#b139e5\"] ;\\n3089 -> 3091 ;\\n3092 [label=\"loudness <= -4.007\\\\ngini = 0.117\\\\nsamples = 7\\\\nvalue = [0, 0, 0, 0, 0, 15, 1]\", fillcolor=\"#b646e7\"] ;\\n3088 -> 3092 ;\\n3093 [label=\"gini = 0.0\\\\nsamples = 1\\\\nvalue = [0, 0, 0, 0, 0, 0, 1]\", fillcolor=\"#e53986\"] ;\\n3092 -> 3093 ;\\n3094 [label=\"gini = 0.0\\\\nsamples = 6\\\\nvalue = [0, 0, 0, 0, 0, 15, 0]\", fillcolor=\"#b139e5\"] ;\\n3092 -> 3094 ;\\n3095 [label=\"popularity <= 67.526\\\\ngini = 0.612\\\\nsamples = 12\\\\nvalue = [0, 1, 0, 1, 0, 7, 5]\", fillcolor=\"#eed3f9\"] ;\\n3087 -> 3095 ;\\n3096 [label=\"liveness <= 0.112\\\\ngini = 0.449\\\\nsamples = 6\\\\nvalue = [0, 1, 0, 1, 0, 0, 5]\", fillcolor=\"#ee7bae\"] ;\\n3095 -> 3096 ;\\n3097 [label=\"gini = 0.0\\\\nsamples = 1\\\\nvalue = [0, 1, 0, 0, 0, 0, 0]\", fillcolor=\"#b7e539\"] ;\\n3096 -> 3097 ;\\n3098 [label=\"tempo <= 77.268\\\\ngini = 0.278\\\\nsamples = 5\\\\nvalue = [0, 0, 0, 1, 0, 0, 5]\", fillcolor=\"#ea619e\"] ;\\n3096 -> 3098 ;\\n3099 [label=\"gini = 0.0\\\\nsamples = 1\\\\nvalue = [0, 0, 0, 1, 0, 0, 0]\", fillcolor=\"#39e5e2\"] ;\\n3098 -> 3099 ;\\n3100 [label=\"gini = 0.0\\\\nsamples = 4\\\\nvalue = [0, 0, 0, 0, 0, 0, 5]\", fillcolor=\"#e53986\"] ;\\n3098 -> 3100 ;\\n3101 [label=\"gini = 0.0\\\\nsamples = 6\\\\nvalue = [0, 0, 0, 0, 0, 7, 0]\", fillcolor=\"#b139e5\"] ;\\n3095 -> 3101 ;\\n3102 [label=\"gini = 0.0\\\\nsamples = 2\\\\nvalue = [0, 0, 2, 0, 0, 0, 0]\", fillcolor=\"#39e54d\"] ;\\n3086 -> 3102 ;\\n3103 [label=\"popularity <= 58.179\\\\ngini = 0.278\\\\nsamples = 8\\\\nvalue = [0, 0, 0, 2, 0, 10, 0]\", fillcolor=\"#c161ea\"] ;\\n3025 -> 3103 ;\\n3104 [label=\"gini = 0.0\\\\nsamples = 1\\\\nvalue = [0, 0, 0, 2, 0, 0, 0]\", fillcolor=\"#39e5e2\"] ;\\n3103 -> 3104 ;\\n3105 [label=\"gini = 0.0\\\\nsamples = 7\\\\nvalue = [0, 0, 0, 0, 0, 10, 0]\", fillcolor=\"#b139e5\"] ;\\n3103 -> 3105 ;\\n3106 [label=\"speechiness <= 0.28\\\\ngini = 0.239\\\\nsamples = 192\\\\nvalue = [0, 10, 0, 6, 2, 21, 258]\", fillcolor=\"#e95597\"] ;\\n2766 -> 3106 ;\\n3107 [label=\"acousticness <= 0.592\\\\ngini = 0.177\\\\nsamples = 182\\\\nvalue = [0, 10, 0, 3, 2, 12, 258]\", fillcolor=\"#e84d92\"] ;\\n3106 -> 3107 ;\\n3108 [label=\"popularity <= 55.709\\\\ngini = 0.161\\\\nsamples = 178\\\\nvalue = [0, 10, 0, 3, 0, 11, 256]\", fillcolor=\"#e74b91\"] ;\\n3107 -> 3108 ;\\n3109 [label=\"popularity <= 54.748\\\\ngini = 0.515\\\\nsamples = 15\\\\nvalue = [0, 7, 0, 0, 0, 1, 12]\", fillcolor=\"#f5b3d0\"] ;\\n3108 -> 3109 ;\\n3110 [label=\"gini = 0.0\\\\nsamples = 6\\\\nvalue = [0, 0, 0, 0, 0, 0, 9]\", fillcolor=\"#e53986\"] ;\\n3109 -> 3110 ;\\n3111 [label=\"instrumentalness <= 0.0\\\\ngini = 0.512\\\\nsamples = 9\\\\nvalue = [0, 7, 0, 0, 0, 1, 3]\", fillcolor=\"#dbf29c\"] ;\\n3109 -> 3111 ;\\n3112 [label=\"liveness <= 0.53\\\\ngini = 0.37\\\\nsamples = 7\\\\nvalue = [0, 7, 0, 0, 0, 1, 1]\", fillcolor=\"#c9ec6a\"] ;\\n3111 -> 3112 ;\\n3113 [label=\"danceability <= 0.66\\\\ngini = 0.219\\\\nsamples = 6\\\\nvalue = [0, 7, 0, 0, 0, 1, 0]\", fillcolor=\"#c1e955\"] ;\\n3112 -> 3113 ;\\n3114 [label=\"gini = 0.0\\\\nsamples = 5\\\\nvalue = [0, 7, 0, 0, 0, 0, 0]\", fillcolor=\"#b7e539\"] ;\\n3113 -> 3114 ;\\n3115 [label=\"gini = 0.0\\\\nsamples = 1\\\\nvalue = [0, 0, 0, 0, 0, 1, 0]\", fillcolor=\"#b139e5\"] ;\\n3113 -> 3115 ;\\n3116 [label=\"gini = 0.0\\\\nsamples = 1\\\\nvalue = [0, 0, 0, 0, 0, 0, 1]\", fillcolor=\"#e53986\"] ;\\n3112 -> 3116 ;\\n3117 [label=\"gini = 0.0\\\\nsamples = 2\\\\nvalue = [0, 0, 0, 0, 0, 0, 2]\", fillcolor=\"#e53986\"] ;\\n3111 -> 3117 ;\\n3118 [label=\"speechiness <= 0.132\\\\ngini = 0.118\\\\nsamples = 163\\\\nvalue = [0, 3, 0, 3, 0, 10, 244]\", fillcolor=\"#e7468e\"] ;\\n3108 -> 3118 ;\\n3119 [label=\"loudness <= -1.355\\\\ngini = 0.08\\\\nsamples = 151\\\\nvalue = [0, 3, 0, 1, 0, 6, 234]\", fillcolor=\"#e6418b\"] ;\\n3118 -> 3119 ;\\n3120 [label=\"instrumentalness <= 0.9\\\\ngini = 0.06\\\\nsamples = 142\\\\nvalue = [0, 3, 0, 1, 0, 3, 220]\", fillcolor=\"#e63f8a\"] ;\\n3119 -> 3120 ;\\n3121 [label=\"acousticness <= 0.052\\\\ngini = 0.052\\\\nsamples = 140\\\\nvalue = [0, 3, 0, 0, 0, 3, 219]\", fillcolor=\"#e63e89\"] ;\\n3120 -> 3121 ;\\n3122 [label=\"duration_ms <= 70001.062\\\\ngini = 0.015\\\\nsamples = 81\\\\nvalue = [0, 0, 0, 0, 0, 1, 135]\", fillcolor=\"#e53a87\"] ;\\n3121 -> 3122 ;\\n3123 [label=\"popularity <= 59.543\\\\ngini = 0.142\\\\nsamples = 10\\\\nvalue = [0, 0, 0, 0, 0, 1, 12]\", fillcolor=\"#e74990\"] ;\\n3122 -> 3123 ;\\n3124 [label=\"loudness <= -4.324\\\\ngini = 0.444\\\\nsamples = 2\\\\nvalue = [0, 0, 0, 0, 0, 1, 2]\", fillcolor=\"#f29cc2\"] ;\\n3123 -> 3124 ;\\n3125 [label=\"gini = 0.0\\\\nsamples = 1\\\\nvalue = [0, 0, 0, 0, 0, 1, 0]\", fillcolor=\"#b139e5\"] ;\\n3124 -> 3125 ;\\n3126 [label=\"gini = 0.0\\\\nsamples = 1\\\\nvalue = [0, 0, 0, 0, 0, 0, 2]\", fillcolor=\"#e53986\"] ;\\n3124 -> 3126 ;\\n3127 [label=\"gini = 0.0\\\\nsamples = 8\\\\nvalue = [0, 0, 0, 0, 0, 0, 10]\", fillcolor=\"#e53986\"] ;\\n3123 -> 3127 ;\\n3128 [label=\"gini = 0.0\\\\nsamples = 71\\\\nvalue = [0, 0, 0, 0, 0, 0, 123]\", fillcolor=\"#e53986\"] ;\\n3122 -> 3128 ;\\n3129 [label=\"acousticness <= 0.054\\\\ngini = 0.108\\\\nsamples = 59\\\\nvalue = [0, 3, 0, 0, 0, 2, 84]\", fillcolor=\"#e7458d\"] ;\\n3121 -> 3129 ;\\n3130 [label=\"gini = 0.0\\\\nsamples = 1\\\\nvalue = [0, 1, 0, 0, 0, 0, 0]\", fillcolor=\"#b7e539\"] ;\\n3129 -> 3130 ;\\n3131 [label=\"loudness <= -4.089\\\\ngini = 0.088\\\\nsamples = 58\\\\nvalue = [0, 2, 0, 0, 0, 2, 84]\", fillcolor=\"#e6428c\"] ;\\n3129 -> 3131 ;\\n3132 [label=\"energy <= 0.959\\\\ngini = 0.055\\\\nsamples = 46\\\\nvalue = [0, 1, 0, 0, 0, 1, 69]\", fillcolor=\"#e63f89\"] ;\\n3131 -> 3132 ;\\n3133 [label=\"duration_ms <= 178772.906\\\\ngini = 0.03\\\\nsamples = 41\\\\nvalue = [0, 0, 0, 0, 0, 1, 64]\", fillcolor=\"#e53c88\"] ;\\n3132 -> 3133 ;\\n3134 [label=\"loudness <= -7.258\\\\ngini = 0.153\\\\nsamples = 11\\\\nvalue = [0, 0, 0, 0, 0, 1, 11]\", fillcolor=\"#e74b91\"] ;\\n3133 -> 3134 ;\\n3135 [label=\"loudness <= -7.497\\\\ngini = 0.375\\\\nsamples = 4\\\\nvalue = [0, 0, 0, 0, 0, 1, 3]\", fillcolor=\"#ee7bae\"] ;\\n3134 -> 3135 ;\\n3136 [label=\"gini = 0.0\\\\nsamples = 3\\\\nvalue = [0, 0, 0, 0, 0, 0, 3]\", fillcolor=\"#e53986\"] ;\\n3135 -> 3136 ;\\n3137 [label=\"gini = 0.0\\\\nsamples = 1\\\\nvalue = [0, 0, 0, 0, 0, 1, 0]\", fillcolor=\"#b139e5\"] ;\\n3135 -> 3137 ;\\n3138 [label=\"gini = 0.0\\\\nsamples = 7\\\\nvalue = [0, 0, 0, 0, 0, 0, 8]\", fillcolor=\"#e53986\"] ;\\n3134 -> 3138 ;\\n3139 [label=\"gini = 0.0\\\\nsamples = 30\\\\nvalue = [0, 0, 0, 0, 0, 0, 53]\", fillcolor=\"#e53986\"] ;\\n3133 -> 3139 ;\\n3140 [label=\"liveness <= 0.238\\\\ngini = 0.278\\\\nsamples = 5\\\\nvalue = [0, 1, 0, 0, 0, 0, 5]\", fillcolor=\"#ea619e\"] ;\\n3132 -> 3140 ;\\n3141 [label=\"gini = 0.0\\\\nsamples = 3\\\\nvalue = [0, 0, 0, 0, 0, 0, 4]\", fillcolor=\"#e53986\"] ;\\n3140 -> 3141 ;\\n3142 [label=\"speechiness <= 0.043\\\\ngini = 0.5\\\\nsamples = 2\\\\nvalue = [0, 1, 0, 0, 0, 0, 1]\", fillcolor=\"#ffffff\"] ;\\n3140 -> 3142 ;\\n3143 [label=\"gini = 0.0\\\\nsamples = 1\\\\nvalue = [0, 1, 0, 0, 0, 0, 0]\", fillcolor=\"#b7e539\"] ;\\n3142 -> 3143 ;\\n3144 [label=\"gini = 0.0\\\\nsamples = 1\\\\nvalue = [0, 0, 0, 0, 0, 0, 1]\", fillcolor=\"#e53986\"] ;\\n3142 -> 3144 ;\\n3145 [label=\"popularity <= 75.883\\\\ngini = 0.215\\\\nsamples = 12\\\\nvalue = [0, 1, 0, 0, 0, 1, 15]\", fillcolor=\"#e85295\"] ;\\n3131 -> 3145 ;\\n3146 [label=\"gini = 0.0\\\\nsamples = 10\\\\nvalue = [0, 0, 0, 0, 0, 0, 15]\", fillcolor=\"#e53986\"] ;\\n3145 -> 3146 ;\\n3147 [label=\"speechiness <= 0.044\\\\ngini = 0.5\\\\nsamples = 2\\\\nvalue = [0, 1, 0, 0, 0, 1, 0]\", fillcolor=\"#ffffff\"] ;\\n3145 -> 3147 ;\\n3148 [label=\"gini = 0.0\\\\nsamples = 1\\\\nvalue = [0, 0, 0, 0, 0, 1, 0]\", fillcolor=\"#b139e5\"] ;\\n3147 -> 3148 ;\\n3149 [label=\"gini = 0.0\\\\nsamples = 1\\\\nvalue = [0, 1, 0, 0, 0, 0, 0]\", fillcolor=\"#b7e539\"] ;\\n3147 -> 3149 ;\\n3150 [label=\"speechiness <= 0.033\\\\ngini = 0.5\\\\nsamples = 2\\\\nvalue = [0, 0, 0, 1, 0, 0, 1]\", fillcolor=\"#ffffff\"] ;\\n3120 -> 3150 ;\\n3151 [label=\"gini = 0.0\\\\nsamples = 1\\\\nvalue = [0, 0, 0, 0, 0, 0, 1]\", fillcolor=\"#e53986\"] ;\\n3150 -> 3151 ;\\n3152 [label=\"gini = 0.0\\\\nsamples = 1\\\\nvalue = [0, 0, 0, 1, 0, 0, 0]\", fillcolor=\"#39e5e2\"] ;\\n3150 -> 3152 ;\\n3153 [label=\"duration_ms <= 200861.125\\\\ngini = 0.291\\\\nsamples = 9\\\\nvalue = [0, 0, 0, 0, 0, 3, 14]\", fillcolor=\"#eb63a0\"] ;\\n3119 -> 3153 ;\\n3154 [label=\"gini = 0.0\\\\nsamples = 3\\\\nvalue = [0, 0, 0, 0, 0, 0, 7]\", fillcolor=\"#e53986\"] ;\\n3153 -> 3154 ;\\n3155 [label=\"duration_ms <= 230697.375\\\\ngini = 0.42\\\\nsamples = 6\\\\nvalue = [0, 0, 0, 0, 0, 3, 7]\", fillcolor=\"#f08eba\"] ;\\n3153 -> 3155 ;\\n3156 [label=\"gini = 0.0\\\\nsamples = 2\\\\nvalue = [0, 0, 0, 0, 0, 3, 0]\", fillcolor=\"#b139e5\"] ;\\n3155 -> 3156 ;\\n3157 [label=\"gini = 0.0\\\\nsamples = 4\\\\nvalue = [0, 0, 0, 0, 0, 0, 7]\", fillcolor=\"#e53986\"] ;\\n3155 -> 3157 ;\\n3158 [label=\"tempo <= 97.341\\\\ngini = 0.531\\\\nsamples = 12\\\\nvalue = [0, 0, 0, 2, 0, 4, 10]\", fillcolor=\"#f29cc2\"] ;\\n3118 -> 3158 ;\\n3159 [label=\"gini = 0.0\\\\nsamples = 3\\\\nvalue = [0, 0, 0, 0, 0, 3, 0]\", fillcolor=\"#b139e5\"] ;\\n3158 -> 3159 ;\\n3160 [label=\"speechiness <= 0.14\\\\ngini = 0.379\\\\nsamples = 9\\\\nvalue = [0, 0, 0, 2, 0, 1, 10]\", fillcolor=\"#ec6fa7\"] ;\\n3158 -> 3160 ;\\n3161 [label=\"gini = 0.0\\\\nsamples = 1\\\\nvalue = [0, 0, 0, 2, 0, 0, 0]\", fillcolor=\"#39e5e2\"] ;\\n3160 -> 3161 ;\\n3162 [label=\"duration_ms <= 74394.109\\\\ngini = 0.165\\\\nsamples = 8\\\\nvalue = [0, 0, 0, 0, 0, 1, 10]\", fillcolor=\"#e84d92\"] ;\\n3160 -> 3162 ;\\n3163 [label=\"acousticness <= 0.009\\\\ngini = 0.5\\\\nsamples = 2\\\\nvalue = [0, 0, 0, 0, 0, 1, 1]\", fillcolor=\"#ffffff\"] ;\\n3162 -> 3163 ;\\n3164 [label=\"gini = 0.0\\\\nsamples = 1\\\\nvalue = [0, 0, 0, 0, 0, 0, 1]\", fillcolor=\"#e53986\"] ;\\n3163 -> 3164 ;\\n3165 [label=\"gini = 0.0\\\\nsamples = 1\\\\nvalue = [0, 0, 0, 0, 0, 1, 0]\", fillcolor=\"#b139e5\"] ;\\n3163 -> 3165 ;\\n3166 [label=\"gini = 0.0\\\\nsamples = 6\\\\nvalue = [0, 0, 0, 0, 0, 0, 9]\", fillcolor=\"#e53986\"] ;\\n3162 -> 3166 ;\\n3167 [label=\"acousticness <= 0.738\\\\ngini = 0.64\\\\nsamples = 4\\\\nvalue = [0, 0, 0, 0, 2, 1, 2]\", fillcolor=\"#ffffff\"] ;\\n3107 -> 3167 ;\\n3168 [label=\"energy <= 0.942\\\\ngini = 0.444\\\\nsamples = 2\\\\nvalue = [0, 0, 0, 0, 2, 1, 0]\", fillcolor=\"#9caaf2\"] ;\\n3167 -> 3168 ;\\n3169 [label=\"gini = 0.0\\\\nsamples = 1\\\\nvalue = [0, 0, 0, 0, 2, 0, 0]\", fillcolor=\"#3956e5\"] ;\\n3168 -> 3169 ;\\n3170 [label=\"gini = 0.0\\\\nsamples = 1\\\\nvalue = [0, 0, 0, 0, 0, 1, 0]\", fillcolor=\"#b139e5\"] ;\\n3168 -> 3170 ;\\n3171 [label=\"gini = 0.0\\\\nsamples = 2\\\\nvalue = [0, 0, 0, 0, 0, 0, 2]\", fillcolor=\"#e53986\"] ;\\n3167 -> 3171 ;\\n3172 [label=\"tempo <= 147.049\\\\ngini = 0.375\\\\nsamples = 10\\\\nvalue = [0, 0, 0, 3, 0, 9, 0]\", fillcolor=\"#cb7bee\"] ;\\n3106 -> 3172 ;\\n3173 [label=\"acousticness <= 0.053\\\\ngini = 0.18\\\\nsamples = 9\\\\nvalue = [0, 0, 0, 1, 0, 9, 0]\", fillcolor=\"#ba4fe8\"] ;\\n3172 -> 3173 ;\\n3174 [label=\"gini = 0.0\\\\nsamples = 1\\\\nvalue = [0, 0, 0, 1, 0, 0, 0]\", fillcolor=\"#39e5e2\"] ;\\n3173 -> 3174 ;\\n3175 [label=\"gini = 0.0\\\\nsamples = 8\\\\nvalue = [0, 0, 0, 0, 0, 9, 0]\", fillcolor=\"#b139e5\"] ;\\n3173 -> 3175 ;\\n3176 [label=\"gini = 0.0\\\\nsamples = 1\\\\nvalue = [0, 0, 0, 2, 0, 0, 0]\", fillcolor=\"#39e5e2\"] ;\\n3172 -> 3176 ;\\n3177 [label=\"valence <= 0.769\\\\ngini = 0.642\\\\nsamples = 231\\\\nvalue = [0, 10, 12, 32, 24, 190, 92]\", fillcolor=\"#e2b7f5\"] ;\\n2685 -> 3177 ;\\n3178 [label=\"loudness <= -9.902\\\\ngini = 0.565\\\\nsamples = 134\\\\nvalue = [0, 4, 11, 23, 13, 133, 26]\", fillcolor=\"#d28cf0\"] ;\\n3177 -> 3178 ;\\n3179 [label=\"loudness <= -10.244\\\\ngini = 0.5\\\\nsamples = 3\\\\nvalue = [0, 0, 0, 0, 3, 0, 3]\", fillcolor=\"#ffffff\"] ;\\n3178 -> 3179 ;\\n3180 [label=\"gini = 0.0\\\\nsamples = 2\\\\nvalue = [0, 0, 0, 0, 0, 0, 3]\", fillcolor=\"#e53986\"] ;\\n3179 -> 3180 ;\\n3181 [label=\"gini = 0.0\\\\nsamples = 1\\\\nvalue = [0, 0, 0, 0, 3, 0, 0]\", fillcolor=\"#3956e5\"] ;\\n3179 -> 3181 ;\\n3182 [label=\"acousticness <= 0.161\\\\ngini = 0.544\\\\nsamples = 131\\\\nvalue = [0, 4, 11, 23, 10, 133, 23]\", fillcolor=\"#d087ef\"] ;\\n3178 -> 3182 ;\\n3183 [label=\"duration_ms <= 320928.359\\\\ngini = 0.451\\\\nsamples = 91\\\\nvalue = [0, 0, 9, 9, 5, 101, 15]\", fillcolor=\"#c976ed\"] ;\\n3182 -> 3183 ;\\n3184 [label=\"loudness <= -7.091\\\\ngini = 0.408\\\\nsamples = 81\\\\nvalue = [0, 0, 4, 8, 3, 93, 15]\", fillcolor=\"#c770ec\"] ;\\n3183 -> 3184 ;\\n3185 [label=\"liveness <= 0.323\\\\ngini = 0.772\\\\nsamples = 13\\\\nvalue = [0, 0, 2, 3, 3, 6, 4]\", fillcolor=\"#f4e3fb\"] ;\\n3184 -> 3185 ;\\n3186 [label=\"popularity <= 62.232\\\\ngini = 0.769\\\\nsamples = 9\\\\nvalue = [0, 0, 2, 3, 3, 1, 4]\", fillcolor=\"#fcebf3\"] ;\\n3185 -> 3186 ;\\n3187 [label=\"duration_ms <= 175747.633\\\\ngini = 0.656\\\\nsamples = 6\\\\nvalue = [0, 0, 2, 3, 3, 0, 0]\", fillcolor=\"#ffffff\"] ;\\n3186 -> 3187 ;\\n3188 [label=\"gini = 0.0\\\\nsamples = 2\\\\nvalue = [0, 0, 0, 3, 0, 0, 0]\", fillcolor=\"#39e5e2\"] ;\\n3187 -> 3188 ;\\n3189 [label=\"tempo <= 120.517\\\\ngini = 0.48\\\\nsamples = 4\\\\nvalue = [0, 0, 2, 0, 3, 0, 0]\", fillcolor=\"#bdc7f6\"] ;\\n3187 -> 3189 ;\\n3190 [label=\"gini = 0.0\\\\nsamples = 2\\\\nvalue = [0, 0, 0, 0, 3, 0, 0]\", fillcolor=\"#3956e5\"] ;\\n3189 -> 3190 ;\\n3191 [label=\"gini = 0.0\\\\nsamples = 2\\\\nvalue = [0, 0, 2, 0, 0, 0, 0]\", fillcolor=\"#39e54d\"] ;\\n3189 -> 3191 ;\\n3192 [label=\"duration_ms <= 273880.234\\\\ngini = 0.32\\\\nsamples = 3\\\\nvalue = [0, 0, 0, 0, 0, 1, 4]\", fillcolor=\"#ec6aa4\"] ;\\n3186 -> 3192 ;\\n3193 [label=\"gini = 0.0\\\\nsamples = 2\\\\nvalue = [0, 0, 0, 0, 0, 0, 4]\", fillcolor=\"#e53986\"] ;\\n3192 -> 3193 ;\\n3194 [label=\"gini = 0.0\\\\nsamples = 1\\\\nvalue = [0, 0, 0, 0, 0, 1, 0]\", fillcolor=\"#b139e5\"] ;\\n3192 -> 3194 ;\\n3195 [label=\"gini = 0.0\\\\nsamples = 4\\\\nvalue = [0, 0, 0, 0, 0, 5, 0]\", fillcolor=\"#b139e5\"] ;\\n3185 -> 3195 ;\\n3196 [label=\"energy <= 0.999\\\\ngini = 0.3\\\\nsamples = 68\\\\nvalue = [0, 0, 2, 5, 0, 87, 11]\", fillcolor=\"#c05fea\"] ;\\n3184 -> 3196 ;\\n3197 [label=\"speechiness <= 0.033\\\\ngini = 0.276\\\\nsamples = 65\\\\nvalue = [0, 0, 2, 3, 0, 86, 11]\", fillcolor=\"#bf5cea\"] ;\\n3196 -> 3197 ;\\n3198 [label=\"gini = 0.0\\\\nsamples = 1\\\\nvalue = [0, 0, 0, 0, 0, 0, 5]\", fillcolor=\"#e53986\"] ;\\n3197 -> 3198 ;\\n3199 [label=\"loudness <= -3.083\\\\ngini = 0.209\\\\nsamples = 64\\\\nvalue = [0, 0, 2, 3, 0, 86, 6]\", fillcolor=\"#ba51e8\"] ;\\n3197 -> 3199 ;\\n3200 [label=\"danceability <= 0.73\\\\ngini = 0.112\\\\nsamples = 56\\\\nvalue = [0, 0, 0, 1, 0, 80, 4]\", fillcolor=\"#b645e7\"] ;\\n3199 -> 3200 ;\\n3201 [label=\"energy <= 0.923\\\\ngini = 0.444\\\\nsamples = 2\\\\nvalue = [0, 0, 0, 0, 0, 2, 1]\", fillcolor=\"#d89cf2\"] ;\\n3200 -> 3201 ;\\n3202 [label=\"gini = 0.0\\\\nsamples = 1\\\\nvalue = [0, 0, 0, 0, 0, 0, 1]\", fillcolor=\"#e53986\"] ;\\n3201 -> 3202 ;\\n3203 [label=\"gini = 0.0\\\\nsamples = 1\\\\nvalue = [0, 0, 0, 0, 0, 2, 0]\", fillcolor=\"#b139e5\"] ;\\n3201 -> 3203 ;\\n3204 [label=\"liveness <= 0.657\\\\ngini = 0.094\\\\nsamples = 54\\\\nvalue = [0, 0, 0, 1, 0, 78, 3]\", fillcolor=\"#b543e6\"] ;\\n3200 -> 3204 ;\\n3205 [label=\"liveness <= 0.224\\\\ngini = 0.075\\\\nsamples = 51\\\\nvalue = [0, 0, 0, 1, 0, 75, 2]\", fillcolor=\"#b441e6\"] ;\\n3204 -> 3205 ;\\n3206 [label=\"popularity <= 56.924\\\\ngini = 0.038\\\\nsamples = 33\\\\nvalue = [0, 0, 0, 1, 0, 51, 0]\", fillcolor=\"#b33de6\"] ;\\n3205 -> 3206 ;\\n3207 [label=\"danceability <= 0.805\\\\ngini = 0.105\\\\nsamples = 12\\\\nvalue = [0, 0, 0, 1, 0, 17, 0]\", fillcolor=\"#b645e7\"] ;\\n3206 -> 3207 ;\\n3208 [label=\"tempo <= 143.063\\\\ngini = 0.5\\\\nsamples = 2\\\\nvalue = [0, 0, 0, 1, 0, 1, 0]\", fillcolor=\"#ffffff\"] ;\\n3207 -> 3208 ;\\n3209 [label=\"gini = 0.0\\\\nsamples = 1\\\\nvalue = [0, 0, 0, 1, 0, 0, 0]\", fillcolor=\"#39e5e2\"] ;\\n3208 -> 3209 ;\\n3210 [label=\"gini = 0.0\\\\nsamples = 1\\\\nvalue = [0, 0, 0, 0, 0, 1, 0]\", fillcolor=\"#b139e5\"] ;\\n3208 -> 3210 ;\\n3211 [label=\"gini = 0.0\\\\nsamples = 10\\\\nvalue = [0, 0, 0, 0, 0, 16, 0]\", fillcolor=\"#b139e5\"] ;\\n3207 -> 3211 ;\\n3212 [label=\"gini = 0.0\\\\nsamples = 21\\\\nvalue = [0, 0, 0, 0, 0, 34, 0]\", fillcolor=\"#b139e5\"] ;\\n3206 -> 3212 ;\\n3213 [label=\"instrumentalness <= 0.004\\\\ngini = 0.142\\\\nsamples = 18\\\\nvalue = [0, 0, 0, 0, 0, 24, 2]\", fillcolor=\"#b749e7\"] ;\\n3205 -> 3213 ;\\n3214 [label=\"acousticness <= 0.083\\\\ngini = 0.077\\\\nsamples = 17\\\\nvalue = [0, 0, 0, 0, 0, 24, 1]\", fillcolor=\"#b441e6\"] ;\\n3213 -> 3214 ;\\n3215 [label=\"gini = 0.0\\\\nsamples = 15\\\\nvalue = [0, 0, 0, 0, 0, 23, 0]\", fillcolor=\"#b139e5\"] ;\\n3214 -> 3215 ;\\n3216 [label=\"popularity <= 60.656\\\\ngini = 0.5\\\\nsamples = 2\\\\nvalue = [0, 0, 0, 0, 0, 1, 1]\", fillcolor=\"#ffffff\"] ;\\n3214 -> 3216 ;\\n3217 [label=\"gini = 0.0\\\\nsamples = 1\\\\nvalue = [0, 0, 0, 0, 0, 1, 0]\", fillcolor=\"#b139e5\"] ;\\n3216 -> 3217 ;\\n3218 [label=\"gini = 0.0\\\\nsamples = 1\\\\nvalue = [0, 0, 0, 0, 0, 0, 1]\", fillcolor=\"#e53986\"] ;\\n3216 -> 3218 ;\\n3219 [label=\"gini = 0.0\\\\nsamples = 1\\\\nvalue = [0, 0, 0, 0, 0, 0, 1]\", fillcolor=\"#e53986\"] ;\\n3213 -> 3219 ;\\n3220 [label=\"duration_ms <= 250322.984\\\\ngini = 0.375\\\\nsamples = 3\\\\nvalue = [0, 0, 0, 0, 0, 3, 1]\", fillcolor=\"#cb7bee\"] ;\\n3204 -> 3220 ;\\n3221 [label=\"gini = 0.0\\\\nsamples = 2\\\\nvalue = [0, 0, 0, 0, 0, 3, 0]\", fillcolor=\"#b139e5\"] ;\\n3220 -> 3221 ;\\n3222 [label=\"gini = 0.0\\\\nsamples = 1\\\\nvalue = [0, 0, 0, 0, 0, 0, 1]\", fillcolor=\"#e53986\"] ;\\n3220 -> 3222 ;\\n3223 [label=\"speechiness <= 0.044\\\\ngini = 0.667\\\\nsamples = 8\\\\nvalue = [0, 0, 2, 2, 0, 6, 2]\", fillcolor=\"#e0b0f5\"] ;\\n3199 -> 3223 ;\\n3224 [label=\"gini = 0.0\\\\nsamples = 1\\\\nvalue = [0, 0, 0, 2, 0, 0, 0]\", fillcolor=\"#39e5e2\"] ;\\n3223 -> 3224 ;\\n3225 [label=\"popularity <= 55.326\\\\ngini = 0.56\\\\nsamples = 7\\\\nvalue = [0, 0, 2, 0, 0, 6, 2]\", fillcolor=\"#d89cf2\"] ;\\n3223 -> 3225 ;\\n3226 [label=\"gini = 0.0\\\\nsamples = 2\\\\nvalue = [0, 0, 2, 0, 0, 0, 0]\", fillcolor=\"#39e54d\"] ;\\n3225 -> 3226 ;\\n3227 [label=\"energy <= 0.923\\\\ngini = 0.375\\\\nsamples = 5\\\\nvalue = [0, 0, 0, 0, 0, 6, 2]\", fillcolor=\"#cb7bee\"] ;\\n3225 -> 3227 ;\\n3228 [label=\"speechiness <= 0.063\\\\ngini = 0.5\\\\nsamples = 3\\\\nvalue = [0, 0, 0, 0, 0, 2, 2]\", fillcolor=\"#ffffff\"] ;\\n3227 -> 3228 ;\\n3229 [label=\"gini = 0.0\\\\nsamples = 1\\\\nvalue = [0, 0, 0, 0, 0, 0, 2]\", fillcolor=\"#e53986\"] ;\\n3228 -> 3229 ;\\n3230 [label=\"gini = 0.0\\\\nsamples = 2\\\\nvalue = [0, 0, 0, 0, 0, 2, 0]\", fillcolor=\"#b139e5\"] ;\\n3228 -> 3230 ;\\n3231 [label=\"gini = 0.0\\\\nsamples = 2\\\\nvalue = [0, 0, 0, 0, 0, 4, 0]\", fillcolor=\"#b139e5\"] ;\\n3227 -> 3231 ;\\n3232 [label=\"liveness <= 0.216\\\\ngini = 0.444\\\\nsamples = 3\\\\nvalue = [0, 0, 0, 2, 0, 1, 0]\", fillcolor=\"#9cf2f0\"] ;\\n3196 -> 3232 ;\\n3233 [label=\"gini = 0.0\\\\nsamples = 2\\\\nvalue = [0, 0, 0, 2, 0, 0, 0]\", fillcolor=\"#39e5e2\"] ;\\n3232 -> 3233 ;\\n3234 [label=\"gini = 0.0\\\\nsamples = 1\\\\nvalue = [0, 0, 0, 0, 0, 1, 0]\", fillcolor=\"#b139e5\"] ;\\n3232 -> 3234 ;\\n3235 [label=\"instrumentalness <= 0.0\\\\ngini = 0.633\\\\nsamples = 10\\\\nvalue = [0, 0, 5, 1, 2, 8, 0]\", fillcolor=\"#eac9f8\"] ;\\n3183 -> 3235 ;\\n3236 [label=\"gini = 0.0\\\\nsamples = 5\\\\nvalue = [0, 0, 0, 0, 0, 8, 0]\", fillcolor=\"#b139e5\"] ;\\n3235 -> 3236 ;\\n3237 [label=\"tempo <= 122.014\\\\ngini = 0.531\\\\nsamples = 5\\\\nvalue = [0, 0, 5, 1, 2, 0, 0]\", fillcolor=\"#9cf2a6\"] ;\\n3235 -> 3237 ;\\n3238 [label=\"gini = 0.0\\\\nsamples = 3\\\\nvalue = [0, 0, 5, 0, 0, 0, 0]\", fillcolor=\"#39e54d\"] ;\\n3237 -> 3238 ;\\n3239 [label=\"energy <= 0.881\\\\ngini = 0.444\\\\nsamples = 2\\\\nvalue = [0, 0, 0, 1, 2, 0, 0]\", fillcolor=\"#9caaf2\"] ;\\n3237 -> 3239 ;\\n3240 [label=\"gini = 0.0\\\\nsamples = 1\\\\nvalue = [0, 0, 0, 1, 0, 0, 0]\", fillcolor=\"#39e5e2\"] ;\\n3239 -> 3240 ;\\n3241 [label=\"gini = 0.0\\\\nsamples = 1\\\\nvalue = [0, 0, 0, 0, 2, 0, 0]\", fillcolor=\"#3956e5\"] ;\\n3239 -> 3241 ;\\n3242 [label=\"tempo <= 113.419\\\\ngini = 0.685\\\\nsamples = 40\\\\nvalue = [0, 4, 2, 14, 5, 32, 8]\", fillcolor=\"#e3b9f6\"] ;\\n3182 -> 3242 ;\\n3243 [label=\"speechiness <= 0.037\\\\ngini = 0.757\\\\nsamples = 26\\\\nvalue = [0, 3, 1, 13, 5, 15, 8]\", fillcolor=\"#faf3fd\"] ;\\n3242 -> 3243 ;\\n3244 [label=\"gini = 0.0\\\\nsamples = 4\\\\nvalue = [0, 0, 0, 0, 0, 0, 8]\", fillcolor=\"#e53986\"] ;\\n3243 -> 3244 ;\\n3245 [label=\"speechiness <= 0.042\\\\ngini = 0.687\\\\nsamples = 22\\\\nvalue = [0, 3, 1, 13, 5, 15, 0]\", fillcolor=\"#f8eefd\"] ;\\n3243 -> 3245 ;\\n3246 [label=\"instrumentalness <= 0.119\\\\ngini = 0.375\\\\nsamples = 2\\\\nvalue = [0, 1, 0, 0, 3, 0, 0]\", fillcolor=\"#7b8eee\"] ;\\n3245 -> 3246 ;\\n3247 [label=\"gini = 0.0\\\\nsamples = 1\\\\nvalue = [0, 1, 0, 0, 0, 0, 0]\", fillcolor=\"#b7e539\"] ;\\n3246 -> 3247 ;\\n3248 [label=\"gini = 0.0\\\\nsamples = 1\\\\nvalue = [0, 0, 0, 0, 3, 0, 0]\", fillcolor=\"#3956e5\"] ;\\n3246 -> 3248 ;\\n3249 [label=\"speechiness <= 0.212\\\\ngini = 0.63\\\\nsamples = 20\\\\nvalue = [0, 2, 1, 13, 2, 15, 0]\", fillcolor=\"#f7ebfc\"] ;\\n3245 -> 3249 ;\\n3250 [label=\"gini = 0.0\\\\nsamples = 5\\\\nvalue = [0, 0, 0, 0, 0, 7, 0]\", fillcolor=\"#b139e5\"] ;\\n3249 -> 3250 ;\\n3251 [label=\"duration_ms <= 68618.383\\\\ngini = 0.642\\\\nsamples = 15\\\\nvalue = [0, 2, 1, 13, 2, 8, 0]\", fillcolor=\"#c8f8f7\"] ;\\n3249 -> 3251 ;\\n3252 [label=\"gini = 0.0\\\\nsamples = 2\\\\nvalue = [0, 0, 0, 0, 0, 4, 0]\", fillcolor=\"#b139e5\"] ;\\n3251 -> 3252 ;\\n3253 [label=\"tempo <= 81.512\\\\ngini = 0.599\\\\nsamples = 13\\\\nvalue = [0, 2, 1, 13, 2, 4, 0]\", fillcolor=\"#9cf2f0\"] ;\\n3251 -> 3253 ;\\n3254 [label=\"valence <= 0.418\\\\ngini = 0.48\\\\nsamples = 4\\\\nvalue = [0, 0, 0, 0, 2, 3, 0]\", fillcolor=\"#e5bdf6\"] ;\\n3253 -> 3254 ;\\n3255 [label=\"gini = 0.0\\\\nsamples = 3\\\\nvalue = [0, 0, 0, 0, 0, 3, 0]\", fillcolor=\"#b139e5\"] ;\\n3254 -> 3255 ;\\n3256 [label=\"gini = 0.0\\\\nsamples = 1\\\\nvalue = [0, 0, 0, 0, 2, 0, 0]\", fillcolor=\"#3956e5\"] ;\\n3254 -> 3256 ;\\n3257 [label=\"energy <= 0.87\\\\ngini = 0.394\\\\nsamples = 9\\\\nvalue = [0, 2, 1, 13, 0, 1, 0]\", fillcolor=\"#6eecea\"] ;\\n3253 -> 3257 ;\\n3258 [label=\"instrumentalness <= 0.001\\\\ngini = 0.667\\\\nsamples = 3\\\\nvalue = [0, 0, 1, 1, 0, 1, 0]\", fillcolor=\"#ffffff\"] ;\\n3257 -> 3258 ;\\n3259 [label=\"gini = 0.0\\\\nsamples = 1\\\\nvalue = [0, 0, 1, 0, 0, 0, 0]\", fillcolor=\"#39e54d\"] ;\\n3258 -> 3259 ;\\n3260 [label=\"valence <= 0.672\\\\ngini = 0.5\\\\nsamples = 2\\\\nvalue = [0, 0, 0, 1, 0, 1, 0]\", fillcolor=\"#ffffff\"] ;\\n3258 -> 3260 ;\\n3261 [label=\"gini = 0.0\\\\nsamples = 1\\\\nvalue = [0, 0, 0, 0, 0, 1, 0]\", fillcolor=\"#b139e5\"] ;\\n3260 -> 3261 ;\\n3262 [label=\"gini = 0.0\\\\nsamples = 1\\\\nvalue = [0, 0, 0, 1, 0, 0, 0]\", fillcolor=\"#39e5e2\"] ;\\n3260 -> 3262 ;\\n3263 [label=\"valence <= 0.542\\\\ngini = 0.245\\\\nsamples = 6\\\\nvalue = [0, 2, 0, 12, 0, 0, 0]\", fillcolor=\"#5ae9e7\"] ;\\n3257 -> 3263 ;\\n3264 [label=\"valence <= 0.451\\\\ngini = 0.48\\\\nsamples = 2\\\\nvalue = [0, 2, 0, 3, 0, 0, 0]\", fillcolor=\"#bdf6f5\"] ;\\n3263 -> 3264 ;\\n3265 [label=\"gini = 0.0\\\\nsamples = 1\\\\nvalue = [0, 0, 0, 3, 0, 0, 0]\", fillcolor=\"#39e5e2\"] ;\\n3264 -> 3265 ;\\n3266 [label=\"gini = 0.0\\\\nsamples = 1\\\\nvalue = [0, 2, 0, 0, 0, 0, 0]\", fillcolor=\"#b7e539\"] ;\\n3264 -> 3266 ;\\n3267 [label=\"gini = 0.0\\\\nsamples = 4\\\\nvalue = [0, 0, 0, 9, 0, 0, 0]\", fillcolor=\"#39e5e2\"] ;\\n3263 -> 3267 ;\\n3268 [label=\"instrumentalness <= 0.48\\\\ngini = 0.27\\\\nsamples = 14\\\\nvalue = [0, 1, 1, 1, 0, 17, 0]\", fillcolor=\"#bd58e9\"] ;\\n3242 -> 3268 ;\\n3269 [label=\"tempo <= 152.991\\\\ngini = 0.194\\\\nsamples = 13\\\\nvalue = [0, 1, 0, 1, 0, 17, 0]\", fillcolor=\"#ba4fe8\"] ;\\n3268 -> 3269 ;\\n3270 [label=\"danceability <= 0.891\\\\ngini = 0.105\\\\nsamples = 12\\\\nvalue = [0, 1, 0, 0, 0, 17, 0]\", fillcolor=\"#b645e7\"] ;\\n3269 -> 3270 ;\\n3271 [label=\"gini = 0.0\\\\nsamples = 7\\\\nvalue = [0, 0, 0, 0, 0, 12, 0]\", fillcolor=\"#b139e5\"] ;\\n3270 -> 3271 ;\\n3272 [label=\"valence <= 0.571\\\\ngini = 0.278\\\\nsamples = 5\\\\nvalue = [0, 1, 0, 0, 0, 5, 0]\", fillcolor=\"#c161ea\"] ;\\n3270 -> 3272 ;\\n3273 [label=\"gini = 0.0\\\\nsamples = 3\\\\nvalue = [0, 0, 0, 0, 0, 4, 0]\", fillcolor=\"#b139e5\"] ;\\n3272 -> 3273 ;\\n3274 [label=\"tempo <= 129.982\\\\ngini = 0.5\\\\nsamples = 2\\\\nvalue = [0, 1, 0, 0, 0, 1, 0]\", fillcolor=\"#ffffff\"] ;\\n3272 -> 3274 ;\\n3275 [label=\"gini = 0.0\\\\nsamples = 1\\\\nvalue = [0, 0, 0, 0, 0, 1, 0]\", fillcolor=\"#b139e5\"] ;\\n3274 -> 3275 ;\\n3276 [label=\"gini = 0.0\\\\nsamples = 1\\\\nvalue = [0, 1, 0, 0, 0, 0, 0]\", fillcolor=\"#b7e539\"] ;\\n3274 -> 3276 ;\\n3277 [label=\"gini = 0.0\\\\nsamples = 1\\\\nvalue = [0, 0, 0, 1, 0, 0, 0]\", fillcolor=\"#39e5e2\"] ;\\n3269 -> 3277 ;\\n3278 [label=\"gini = 0.0\\\\nsamples = 1\\\\nvalue = [0, 0, 1, 0, 0, 0, 0]\", fillcolor=\"#39e54d\"] ;\\n3268 -> 3278 ;\\n3279 [label=\"duration_ms <= 184346.969\\\\ngini = 0.651\\\\nsamples = 97\\\\nvalue = [0, 6, 1, 9, 11, 57, 66]\", fillcolor=\"#fcecf3\"] ;\\n3177 -> 3279 ;\\n3280 [label=\"valence <= 0.894\\\\ngini = 0.633\\\\nsamples = 21\\\\nvalue = [0, 4, 1, 3, 1, 18, 5]\", fillcolor=\"#d9a0f2\"] ;\\n3279 -> 3280 ;\\n3281 [label=\"acousticness <= 0.002\\\\ngini = 0.255\\\\nsamples = 9\\\\nvalue = [0, 0, 1, 0, 0, 12, 1]\", fillcolor=\"#bd57e9\"] ;\\n3280 -> 3281 ;\\n3282 [label=\"gini = 0.0\\\\nsamples = 1\\\\nvalue = [0, 0, 1, 0, 0, 0, 0]\", fillcolor=\"#39e54d\"] ;\\n3281 -> 3282 ;\\n3283 [label=\"popularity <= 58.525\\\\ngini = 0.142\\\\nsamples = 8\\\\nvalue = [0, 0, 0, 0, 0, 12, 1]\", fillcolor=\"#b749e7\"] ;\\n3281 -> 3283 ;\\n3284 [label=\"valence <= 0.812\\\\ngini = 0.375\\\\nsamples = 3\\\\nvalue = [0, 0, 0, 0, 0, 3, 1]\", fillcolor=\"#cb7bee\"] ;\\n3283 -> 3284 ;\\n3285 [label=\"gini = 0.0\\\\nsamples = 1\\\\nvalue = [0, 0, 0, 0, 0, 0, 1]\", fillcolor=\"#e53986\"] ;\\n3284 -> 3285 ;\\n3286 [label=\"gini = 0.0\\\\nsamples = 2\\\\nvalue = [0, 0, 0, 0, 0, 3, 0]\", fillcolor=\"#b139e5\"] ;\\n3284 -> 3286 ;\\n3287 [label=\"gini = 0.0\\\\nsamples = 5\\\\nvalue = [0, 0, 0, 0, 0, 9, 0]\", fillcolor=\"#b139e5\"] ;\\n3283 -> 3287 ;\\n3288 [label=\"valence <= 1.049\\\\ngini = 0.759\\\\nsamples = 12\\\\nvalue = [0, 4, 0, 3, 1, 6, 4]\", fillcolor=\"#f4e3fb\"] ;\\n3280 -> 3288 ;\\n3289 [label=\"popularity <= 63.041\\\\ngini = 0.75\\\\nsamples = 9\\\\nvalue = [0, 3, 0, 3, 1, 1, 4]\", fillcolor=\"#fce9f2\"] ;\\n3288 -> 3289 ;\\n3290 [label=\"speechiness <= 0.071\\\\ngini = 0.688\\\\nsamples = 6\\\\nvalue = [0, 3, 0, 3, 1, 1, 0]\", fillcolor=\"#ffffff\"] ;\\n3289 -> 3290 ;\\n3291 [label=\"gini = 0.0\\\\nsamples = 2\\\\nvalue = [0, 3, 0, 0, 0, 0, 0]\", fillcolor=\"#b7e539\"] ;\\n3290 -> 3291 ;\\n3292 [label=\"loudness <= -2.327\\\\ngini = 0.56\\\\nsamples = 4\\\\nvalue = [0, 0, 0, 3, 1, 1, 0]\", fillcolor=\"#9cf2f0\"] ;\\n3290 -> 3292 ;\\n3293 [label=\"speechiness <= 0.12\\\\ngini = 0.375\\\\nsamples = 3\\\\nvalue = [0, 0, 0, 3, 0, 1, 0]\", fillcolor=\"#7beeec\"] ;\\n3292 -> 3293 ;\\n3294 [label=\"gini = 0.0\\\\nsamples = 1\\\\nvalue = [0, 0, 0, 0, 0, 1, 0]\", fillcolor=\"#b139e5\"] ;\\n3293 -> 3294 ;\\n3295 [label=\"gini = 0.0\\\\nsamples = 2\\\\nvalue = [0, 0, 0, 3, 0, 0, 0]\", fillcolor=\"#39e5e2\"] ;\\n3293 -> 3295 ;\\n3296 [label=\"gini = 0.0\\\\nsamples = 1\\\\nvalue = [0, 0, 0, 0, 1, 0, 0]\", fillcolor=\"#3956e5\"] ;\\n3292 -> 3296 ;\\n3297 [label=\"gini = 0.0\\\\nsamples = 3\\\\nvalue = [0, 0, 0, 0, 0, 0, 4]\", fillcolor=\"#e53986\"] ;\\n3289 -> 3297 ;\\n3298 [label=\"valence <= 1.054\\\\ngini = 0.278\\\\nsamples = 3\\\\nvalue = [0, 1, 0, 0, 0, 5, 0]\", fillcolor=\"#c161ea\"] ;\\n3288 -> 3298 ;\\n3299 [label=\"gini = 0.0\\\\nsamples = 2\\\\nvalue = [0, 0, 0, 0, 0, 5, 0]\", fillcolor=\"#b139e5\"] ;\\n3298 -> 3299 ;\\n3300 [label=\"gini = 0.0\\\\nsamples = 1\\\\nvalue = [0, 1, 0, 0, 0, 0, 0]\", fillcolor=\"#b7e539\"] ;\\n3298 -> 3300 ;\\n3301 [label=\"instrumentalness <= 0.0\\\\ngini = 0.613\\\\nsamples = 76\\\\nvalue = [0, 2, 0, 6, 10, 39, 61]\", fillcolor=\"#f8c8dd\"] ;\\n3279 -> 3301 ;\\n3302 [label=\"speechiness <= 0.106\\\\ngini = 0.645\\\\nsamples = 43\\\\nvalue = [0, 2, 0, 5, 5, 31, 25]\", fillcolor=\"#f4e3fb\"] ;\\n3301 -> 3302 ;\\n3303 [label=\"instrumentalness <= 0.0\\\\ngini = 0.647\\\\nsamples = 26\\\\nvalue = [0, 2, 0, 3, 5, 10, 22]\", fillcolor=\"#f5b5d2\"] ;\\n3302 -> 3303 ;\\n3304 [label=\"danceability <= 0.83\\\\ngini = 0.537\\\\nsamples = 21\\\\nvalue = [0, 2, 0, 3, 2, 4, 21]\", fillcolor=\"#ef87b6\"] ;\\n3303 -> 3304 ;\\n3305 [label=\"loudness <= -3.086\\\\ngini = 0.328\\\\nsamples = 17\\\\nvalue = [0, 0, 0, 2, 0, 3, 21]\", fillcolor=\"#eb64a0\"] ;\\n3304 -> 3305 ;\\n3306 [label=\"tempo <= 131.309\\\\ngini = 0.226\\\\nsamples = 16\\\\nvalue = [0, 0, 0, 2, 0, 1, 21]\", fillcolor=\"#e95496\"] ;\\n3305 -> 3306 ;\\n3307 [label=\"liveness <= 0.117\\\\ngini = 0.095\\\\nsamples = 13\\\\nvalue = [0, 0, 0, 1, 0, 0, 19]\", fillcolor=\"#e6438c\"] ;\\n3306 -> 3307 ;\\n3308 [label=\"liveness <= 0.1\\\\ngini = 0.278\\\\nsamples = 5\\\\nvalue = [0, 0, 0, 1, 0, 0, 5]\", fillcolor=\"#ea619e\"] ;\\n3307 -> 3308 ;\\n3309 [label=\"gini = 0.0\\\\nsamples = 4\\\\nvalue = [0, 0, 0, 0, 0, 0, 5]\", fillcolor=\"#e53986\"] ;\\n3308 -> 3309 ;\\n3310 [label=\"gini = 0.0\\\\nsamples = 1\\\\nvalue = [0, 0, 0, 1, 0, 0, 0]\", fillcolor=\"#39e5e2\"] ;\\n3308 -> 3310 ;\\n3311 [label=\"gini = 0.0\\\\nsamples = 8\\\\nvalue = [0, 0, 0, 0, 0, 0, 14]\", fillcolor=\"#e53986\"] ;\\n3307 -> 3311 ;\\n3312 [label=\"valence <= 1.036\\\\ngini = 0.625\\\\nsamples = 3\\\\nvalue = [0, 0, 0, 1, 0, 1, 2]\", fillcolor=\"#f6bdd7\"] ;\\n3306 -> 3312 ;\\n3313 [label=\"liveness <= 0.272\\\\ngini = 0.5\\\\nsamples = 2\\\\nvalue = [0, 0, 0, 1, 0, 1, 0]\", fillcolor=\"#ffffff\"] ;\\n3312 -> 3313 ;\\n3314 [label=\"gini = 0.0\\\\nsamples = 1\\\\nvalue = [0, 0, 0, 1, 0, 0, 0]\", fillcolor=\"#39e5e2\"] ;\\n3313 -> 3314 ;\\n3315 [label=\"gini = 0.0\\\\nsamples = 1\\\\nvalue = [0, 0, 0, 0, 0, 1, 0]\", fillcolor=\"#b139e5\"] ;\\n3313 -> 3315 ;\\n3316 [label=\"gini = 0.0\\\\nsamples = 1\\\\nvalue = [0, 0, 0, 0, 0, 0, 2]\", fillcolor=\"#e53986\"] ;\\n3312 -> 3316 ;\\n3317 [label=\"gini = 0.0\\\\nsamples = 1\\\\nvalue = [0, 0, 0, 0, 0, 2, 0]\", fillcolor=\"#b139e5\"] ;\\n3305 -> 3317 ;\\n3318 [label=\"danceability <= 0.849\\\\ngini = 0.722\\\\nsamples = 4\\\\nvalue = [0, 2, 0, 1, 2, 1, 0]\", fillcolor=\"#ffffff\"] ;\\n3304 -> 3318 ;\\n3319 [label=\"valence <= 0.851\\\\ngini = 0.444\\\\nsamples = 2\\\\nvalue = [0, 0, 0, 1, 2, 0, 0]\", fillcolor=\"#9caaf2\"] ;\\n3318 -> 3319 ;\\n3320 [label=\"gini = 0.0\\\\nsamples = 1\\\\nvalue = [0, 0, 0, 1, 0, 0, 0]\", fillcolor=\"#39e5e2\"] ;\\n3319 -> 3320 ;\\n3321 [label=\"gini = 0.0\\\\nsamples = 1\\\\nvalue = [0, 0, 0, 0, 2, 0, 0]\", fillcolor=\"#3956e5\"] ;\\n3319 -> 3321 ;\\n3322 [label=\"popularity <= 62.204\\\\ngini = 0.444\\\\nsamples = 2\\\\nvalue = [0, 2, 0, 0, 0, 1, 0]\", fillcolor=\"#dbf29c\"] ;\\n3318 -> 3322 ;\\n3323 [label=\"gini = 0.0\\\\nsamples = 1\\\\nvalue = [0, 0, 0, 0, 0, 1, 0]\", fillcolor=\"#b139e5\"] ;\\n3322 -> 3323 ;\\n3324 [label=\"gini = 0.0\\\\nsamples = 1\\\\nvalue = [0, 2, 0, 0, 0, 0, 0]\", fillcolor=\"#b7e539\"] ;\\n3322 -> 3324 ;\\n3325 [label=\"speechiness <= 0.044\\\\ngini = 0.54\\\\nsamples = 5\\\\nvalue = [0, 0, 0, 0, 3, 6, 1]\", fillcolor=\"#deaaf4\"] ;\\n3303 -> 3325 ;\\n3326 [label=\"gini = 0.0\\\\nsamples = 1\\\\nvalue = [0, 0, 0, 0, 3, 0, 0]\", fillcolor=\"#3956e5\"] ;\\n3325 -> 3326 ;\\n3327 [label=\"tempo <= 91.418\\\\ngini = 0.245\\\\nsamples = 4\\\\nvalue = [0, 0, 0, 0, 0, 6, 1]\", fillcolor=\"#be5ae9\"] ;\\n3325 -> 3327 ;\\n3328 [label=\"gini = 0.0\\\\nsamples = 1\\\\nvalue = [0, 0, 0, 0, 0, 0, 1]\", fillcolor=\"#e53986\"] ;\\n3327 -> 3328 ;\\n3329 [label=\"gini = 0.0\\\\nsamples = 3\\\\nvalue = [0, 0, 0, 0, 0, 6, 0]\", fillcolor=\"#b139e5\"] ;\\n3327 -> 3329 ;\\n3330 [label=\"energy <= 0.855\\\\ngini = 0.328\\\\nsamples = 17\\\\nvalue = [0, 0, 0, 2, 0, 21, 3]\", fillcolor=\"#c264eb\"] ;\\n3302 -> 3330 ;\\n3331 [label=\"valence <= 0.855\\\\ngini = 0.48\\\\nsamples = 2\\\\nvalue = [0, 0, 0, 0, 0, 2, 3]\", fillcolor=\"#f6bdd7\"] ;\\n3330 -> 3331 ;\\n3332 [label=\"gini = 0.0\\\\nsamples = 1\\\\nvalue = [0, 0, 0, 0, 0, 2, 0]\", fillcolor=\"#b139e5\"] ;\\n3331 -> 3332 ;\\n3333 [label=\"gini = 0.0\\\\nsamples = 1\\\\nvalue = [0, 0, 0, 0, 0, 0, 3]\", fillcolor=\"#e53986\"] ;\\n3331 -> 3333 ;\\n3334 [label=\"duration_ms <= 208891.727\\\\ngini = 0.172\\\\nsamples = 15\\\\nvalue = [0, 0, 0, 2, 0, 19, 0]\", fillcolor=\"#b94ee8\"] ;\\n3330 -> 3334 ;\\n3335 [label=\"gini = 0.0\\\\nsamples = 1\\\\nvalue = [0, 0, 0, 1, 0, 0, 0]\", fillcolor=\"#39e5e2\"] ;\\n3334 -> 3335 ;\\n3336 [label=\"loudness <= -8.617\\\\ngini = 0.095\\\\nsamples = 14\\\\nvalue = [0, 0, 0, 1, 0, 19, 0]\", fillcolor=\"#b543e6\"] ;\\n3334 -> 3336 ;\\n3337 [label=\"gini = 0.0\\\\nsamples = 1\\\\nvalue = [0, 0, 0, 1, 0, 0, 0]\", fillcolor=\"#39e5e2\"] ;\\n3336 -> 3337 ;\\n3338 [label=\"gini = 0.0\\\\nsamples = 13\\\\nvalue = [0, 0, 0, 0, 0, 19, 0]\", fillcolor=\"#b139e5\"] ;\\n3336 -> 3338 ;\\n3339 [label=\"tempo <= 94.736\\\\ngini = 0.446\\\\nsamples = 33\\\\nvalue = [0, 0, 0, 1, 5, 8, 36]\", fillcolor=\"#ee7bae\"] ;\\n3301 -> 3339 ;\\n3340 [label=\"valence <= 0.911\\\\ngini = 0.562\\\\nsamples = 6\\\\nvalue = [0, 0, 0, 1, 0, 6, 4]\", fillcolor=\"#e9c6f8\"] ;\\n3339 -> 3340 ;\\n3341 [label=\"popularity <= 71.4\\\\ngini = 0.444\\\\nsamples = 2\\\\nvalue = [0, 0, 0, 1, 0, 0, 2]\", fillcolor=\"#f29cc2\"] ;\\n3340 -> 3341 ;\\n3342 [label=\"gini = 0.0\\\\nsamples = 1\\\\nvalue = [0, 0, 0, 0, 0, 0, 2]\", fillcolor=\"#e53986\"] ;\\n3341 -> 3342 ;\\n3343 [label=\"gini = 0.0\\\\nsamples = 1\\\\nvalue = [0, 0, 0, 1, 0, 0, 0]\", fillcolor=\"#39e5e2\"] ;\\n3341 -> 3343 ;\\n3344 [label=\"energy <= 0.888\\\\ngini = 0.375\\\\nsamples = 4\\\\nvalue = [0, 0, 0, 0, 0, 6, 2]\", fillcolor=\"#cb7bee\"] ;\\n3340 -> 3344 ;\\n3345 [label=\"gini = 0.0\\\\nsamples = 2\\\\nvalue = [0, 0, 0, 0, 0, 5, 0]\", fillcolor=\"#b139e5\"] ;\\n3344 -> 3345 ;\\n3346 [label=\"danceability <= 0.847\\\\ngini = 0.444\\\\nsamples = 2\\\\nvalue = [0, 0, 0, 0, 0, 1, 2]\", fillcolor=\"#f29cc2\"] ;\\n3344 -> 3346 ;\\n3347 [label=\"gini = 0.0\\\\nsamples = 1\\\\nvalue = [0, 0, 0, 0, 0, 0, 2]\", fillcolor=\"#e53986\"] ;\\n3346 -> 3347 ;\\n3348 [label=\"gini = 0.0\\\\nsamples = 1\\\\nvalue = [0, 0, 0, 0, 0, 1, 0]\", fillcolor=\"#b139e5\"] ;\\n3346 -> 3348 ;\\n3349 [label=\"acousticness <= 0.391\\\\ngini = 0.308\\\\nsamples = 27\\\\nvalue = [0, 0, 0, 0, 5, 2, 32]\", fillcolor=\"#ea629f\"] ;\\n3339 -> 3349 ;\\n3350 [label=\"acousticness <= 0.009\\\\ngini = 0.255\\\\nsamples = 24\\\\nvalue = [0, 0, 0, 0, 3, 2, 30]\", fillcolor=\"#e95899\"] ;\\n3349 -> 3350 ;\\n3351 [label=\"instrumentalness <= 0.003\\\\ngini = 0.32\\\\nsamples = 5\\\\nvalue = [0, 0, 0, 0, 0, 2, 8]\", fillcolor=\"#ec6aa4\"] ;\\n3350 -> 3351 ;\\n3352 [label=\"tempo <= 105.458\\\\ngini = 0.48\\\\nsamples = 2\\\\nvalue = [0, 0, 0, 0, 0, 2, 3]\", fillcolor=\"#f6bdd7\"] ;\\n3351 -> 3352 ;\\n3353 [label=\"gini = 0.0\\\\nsamples = 1\\\\nvalue = [0, 0, 0, 0, 0, 0, 3]\", fillcolor=\"#e53986\"] ;\\n3352 -> 3353 ;\\n3354 [label=\"gini = 0.0\\\\nsamples = 1\\\\nvalue = [0, 0, 0, 0, 0, 2, 0]\", fillcolor=\"#b139e5\"] ;\\n3352 -> 3354 ;\\n3355 [label=\"gini = 0.0\\\\nsamples = 3\\\\nvalue = [0, 0, 0, 0, 0, 0, 5]\", fillcolor=\"#e53986\"] ;\\n3351 -> 3355 ;\\n3356 [label=\"danceability <= 0.887\\\\ngini = 0.211\\\\nsamples = 19\\\\nvalue = [0, 0, 0, 0, 3, 0, 22]\", fillcolor=\"#e95496\"] ;\\n3350 -> 3356 ;\\n3357 [label=\"duration_ms <= 217188.898\\\\ngini = 0.083\\\\nsamples = 17\\\\nvalue = [0, 0, 0, 0, 1, 0, 22]\", fillcolor=\"#e6428c\"] ;\\n3356 -> 3357 ;\\n3358 [label=\"energy <= 0.947\\\\ngini = 0.245\\\\nsamples = 4\\\\nvalue = [0, 0, 0, 0, 1, 0, 6]\", fillcolor=\"#e95a9a\"] ;\\n3357 -> 3358 ;\\n3359 [label=\"gini = 0.0\\\\nsamples = 1\\\\nvalue = [0, 0, 0, 0, 1, 0, 0]\", fillcolor=\"#3956e5\"] ;\\n3358 -> 3359 ;\\n3360 [label=\"gini = 0.0\\\\nsamples = 3\\\\nvalue = [0, 0, 0, 0, 0, 0, 6]\", fillcolor=\"#e53986\"] ;\\n3358 -> 3360 ;\\n3361 [label=\"gini = 0.0\\\\nsamples = 13\\\\nvalue = [0, 0, 0, 0, 0, 0, 16]\", fillcolor=\"#e53986\"] ;\\n3357 -> 3361 ;\\n3362 [label=\"gini = 0.0\\\\nsamples = 2\\\\nvalue = [0, 0, 0, 0, 2, 0, 0]\", fillcolor=\"#3956e5\"] ;\\n3356 -> 3362 ;\\n3363 [label=\"speechiness <= 0.112\\\\ngini = 0.5\\\\nsamples = 3\\\\nvalue = [0, 0, 0, 0, 2, 0, 2]\", fillcolor=\"#ffffff\"] ;\\n3349 -> 3363 ;\\n3364 [label=\"gini = 0.0\\\\nsamples = 2\\\\nvalue = [0, 0, 0, 0, 0, 0, 2]\", fillcolor=\"#e53986\"] ;\\n3363 -> 3364 ;\\n3365 [label=\"gini = 0.0\\\\nsamples = 1\\\\nvalue = [0, 0, 0, 0, 2, 0, 0]\", fillcolor=\"#3956e5\"] ;\\n3363 -> 3365 ;\\n3366 [label=\"acousticness <= 0.964\\\\ngini = 0.311\\\\nsamples = 1823\\\\nvalue = [2373, 25, 3, 2, 409, 11, 79]\", fillcolor=\"#eb9c63\"] ;\\n0 -> 3366 [labeldistance=2.5, labelangle=-45, headlabel=\"False\"] ;\\n3367 [label=\"instrumentalness <= 0.002\\\\ngini = 0.62\\\\nsamples = 205\\\\nvalue = [167, 10, 3, 2, 121, 9, 26]\", fillcolor=\"#f9e4d5\"] ;\\n3366 -> 3367 ;\\n3368 [label=\"popularity <= 31.854\\\\ngini = 0.674\\\\nsamples = 67\\\\nvalue = [18, 9, 0, 2, 56, 6, 19]\", fillcolor=\"#aebaf4\"] ;\\n3367 -> 3368 ;\\n3369 [label=\"gini = 0.0\\\\nsamples = 5\\\\nvalue = [8, 0, 0, 0, 0, 0, 0]\", fillcolor=\"#e58139\"] ;\\n3368 -> 3369 ;\\n3370 [label=\"energy <= 0.356\\\\ngini = 0.643\\\\nsamples = 62\\\\nvalue = [10, 9, 0, 2, 56, 6, 19]\", fillcolor=\"#a7b4f3\"] ;\\n3368 -> 3370 ;\\n3371 [label=\"valence <= 0.422\\\\ngini = 0.491\\\\nsamples = 44\\\\nvalue = [4, 3, 0, 0, 49, 0, 17]\", fillcolor=\"#8e9ef0\"] ;\\n3370 -> 3371 ;\\n3372 [label=\"duration_ms <= 385161.266\\\\ngini = 0.602\\\\nsamples = 28\\\\nvalue = [2, 3, 0, 0, 20, 0, 16]\", fillcolor=\"#dfe4fb\"] ;\\n3371 -> 3372 ;\\n3373 [label=\"instrumentalness <= 0.001\\\\ngini = 0.543\\\\nsamples = 26\\\\nvalue = [0, 2, 0, 0, 20, 0, 16]\", fillcolor=\"#dbe0fa\"] ;\\n3372 -> 3373 ;\\n3374 [label=\"speechiness <= 0.049\\\\ngini = 0.516\\\\nsamples = 23\\\\nvalue = [0, 2, 0, 0, 19, 0, 10]\", fillcolor=\"#aab7f4\"] ;\\n3373 -> 3374 ;\\n3375 [label=\"danceability <= 0.325\\\\ngini = 0.43\\\\nsamples = 17\\\\nvalue = [0, 2, 0, 0, 16, 0, 4]\", fillcolor=\"#7b8eee\"] ;\\n3374 -> 3375 ;\\n3376 [label=\"gini = 0.0\\\\nsamples = 3\\\\nvalue = [0, 0, 0, 0, 6, 0, 0]\", fillcolor=\"#3956e5\"] ;\\n3375 -> 3376 ;\\n3377 [label=\"instrumentalness <= 0.0\\\\ngini = 0.531\\\\nsamples = 14\\\\nvalue = [0, 2, 0, 0, 10, 0, 4]\", fillcolor=\"#9caaf2\"] ;\\n3375 -> 3377 ;\\n3378 [label=\"energy <= -0.478\\\\ngini = 0.56\\\\nsamples = 5\\\\nvalue = [0, 1, 0, 0, 1, 0, 3]\", fillcolor=\"#f29cc2\"] ;\\n3377 -> 3378 ;\\n3379 [label=\"gini = 0.0\\\\nsamples = 1\\\\nvalue = [0, 0, 0, 0, 1, 0, 0]\", fillcolor=\"#3956e5\"] ;\\n3378 -> 3379 ;\\n3380 [label=\"acousticness <= 0.929\\\\ngini = 0.375\\\\nsamples = 4\\\\nvalue = [0, 1, 0, 0, 0, 0, 3]\", fillcolor=\"#ee7bae\"] ;\\n3378 -> 3380 ;\\n3381 [label=\"acousticness <= 0.922\\\\ngini = 0.5\\\\nsamples = 2\\\\nvalue = [0, 1, 0, 0, 0, 0, 1]\", fillcolor=\"#ffffff\"] ;\\n3380 -> 3381 ;\\n3382 [label=\"gini = 0.0\\\\nsamples = 1\\\\nvalue = [0, 0, 0, 0, 0, 0, 1]\", fillcolor=\"#e53986\"] ;\\n3381 -> 3382 ;\\n3383 [label=\"gini = 0.0\\\\nsamples = 1\\\\nvalue = [0, 1, 0, 0, 0, 0, 0]\", fillcolor=\"#b7e539\"] ;\\n3381 -> 3383 ;\\n3384 [label=\"gini = 0.0\\\\nsamples = 2\\\\nvalue = [0, 0, 0, 0, 0, 0, 2]\", fillcolor=\"#e53986\"] ;\\n3380 -> 3384 ;\\n3385 [label=\"danceability <= 0.334\\\\ngini = 0.314\\\\nsamples = 9\\\\nvalue = [0, 1, 0, 0, 9, 0, 1]\", fillcolor=\"#6178ea\"] ;\\n3377 -> 3385 ;\\n3386 [label=\"gini = 0.0\\\\nsamples = 1\\\\nvalue = [0, 0, 0, 0, 0, 0, 1]\", fillcolor=\"#e53986\"] ;\\n3385 -> 3386 ;\\n3387 [label=\"tempo <= 151.345\\\\ngini = 0.18\\\\nsamples = 8\\\\nvalue = [0, 1, 0, 0, 9, 0, 0]\", fillcolor=\"#4f69e8\"] ;\\n3385 -> 3387 ;\\n3388 [label=\"gini = 0.0\\\\nsamples = 7\\\\nvalue = [0, 0, 0, 0, 9, 0, 0]\", fillcolor=\"#3956e5\"] ;\\n3387 -> 3388 ;\\n3389 [label=\"gini = 0.0\\\\nsamples = 1\\\\nvalue = [0, 1, 0, 0, 0, 0, 0]\", fillcolor=\"#b7e539\"] ;\\n3387 -> 3389 ;\\n3390 [label=\"tempo <= 99.389\\\\ngini = 0.444\\\\nsamples = 6\\\\nvalue = [0, 0, 0, 0, 3, 0, 6]\", fillcolor=\"#f29cc2\"] ;\\n3374 -> 3390 ;\\n3391 [label=\"speechiness <= 0.069\\\\ngini = 0.245\\\\nsamples = 4\\\\nvalue = [0, 0, 0, 0, 1, 0, 6]\", fillcolor=\"#e95a9a\"] ;\\n3390 -> 3391 ;\\n3392 [label=\"gini = 0.0\\\\nsamples = 2\\\\nvalue = [0, 0, 0, 0, 0, 0, 5]\", fillcolor=\"#e53986\"] ;\\n3391 -> 3392 ;\\n3393 [label=\"tempo <= 82.76\\\\ngini = 0.5\\\\nsamples = 2\\\\nvalue = [0, 0, 0, 0, 1, 0, 1]\", fillcolor=\"#ffffff\"] ;\\n3391 -> 3393 ;\\n3394 [label=\"gini = 0.0\\\\nsamples = 1\\\\nvalue = [0, 0, 0, 0, 0, 0, 1]\", fillcolor=\"#e53986\"] ;\\n3393 -> 3394 ;\\n3395 [label=\"gini = 0.0\\\\nsamples = 1\\\\nvalue = [0, 0, 0, 0, 1, 0, 0]\", fillcolor=\"#3956e5\"] ;\\n3393 -> 3395 ;\\n3396 [label=\"gini = 0.0\\\\nsamples = 2\\\\nvalue = [0, 0, 0, 0, 2, 0, 0]\", fillcolor=\"#3956e5\"] ;\\n3390 -> 3396 ;\\n3397 [label=\"valence <= 0.323\\\\ngini = 0.245\\\\nsamples = 3\\\\nvalue = [0, 0, 0, 0, 1, 0, 6]\", fillcolor=\"#e95a9a\"] ;\\n3373 -> 3397 ;\\n3398 [label=\"gini = 0.0\\\\nsamples = 2\\\\nvalue = [0, 0, 0, 0, 0, 0, 6]\", fillcolor=\"#e53986\"] ;\\n3397 -> 3398 ;\\n3399 [label=\"gini = 0.0\\\\nsamples = 1\\\\nvalue = [0, 0, 0, 0, 1, 0, 0]\", fillcolor=\"#3956e5\"] ;\\n3397 -> 3399 ;\\n3400 [label=\"popularity <= 51.054\\\\ngini = 0.444\\\\nsamples = 2\\\\nvalue = [2, 1, 0, 0, 0, 0, 0]\", fillcolor=\"#f2c09c\"] ;\\n3372 -> 3400 ;\\n3401 [label=\"gini = 0.0\\\\nsamples = 1\\\\nvalue = [2, 0, 0, 0, 0, 0, 0]\", fillcolor=\"#e58139\"] ;\\n3400 -> 3401 ;\\n3402 [label=\"gini = 0.0\\\\nsamples = 1\\\\nvalue = [0, 1, 0, 0, 0, 0, 0]\", fillcolor=\"#b7e539\"] ;\\n3400 -> 3402 ;\\n3403 [label=\"valence <= 0.647\\\\ngini = 0.174\\\\nsamples = 16\\\\nvalue = [2, 0, 0, 0, 29, 0, 1]\", fillcolor=\"#4d67e8\"] ;\\n3371 -> 3403 ;\\n3404 [label=\"gini = 0.0\\\\nsamples = 12\\\\nvalue = [0, 0, 0, 0, 26, 0, 0]\", fillcolor=\"#3956e5\"] ;\\n3403 -> 3404 ;\\n3405 [label=\"popularity <= 50.204\\\\ngini = 0.611\\\\nsamples = 4\\\\nvalue = [2, 0, 0, 0, 3, 0, 1]\", fillcolor=\"#ced5f8\"] ;\\n3403 -> 3405 ;\\n3406 [label=\"gini = 0.0\\\\nsamples = 1\\\\nvalue = [0, 0, 0, 0, 3, 0, 0]\", fillcolor=\"#3956e5\"] ;\\n3405 -> 3406 ;\\n3407 [label=\"loudness <= -15.66\\\\ngini = 0.444\\\\nsamples = 3\\\\nvalue = [2, 0, 0, 0, 0, 0, 1]\", fillcolor=\"#f2c09c\"] ;\\n3405 -> 3407 ;\\n3408 [label=\"gini = 0.0\\\\nsamples = 1\\\\nvalue = [0, 0, 0, 0, 0, 0, 1]\", fillcolor=\"#e53986\"] ;\\n3407 -> 3408 ;\\n3409 [label=\"gini = 0.0\\\\nsamples = 2\\\\nvalue = [2, 0, 0, 0, 0, 0, 0]\", fillcolor=\"#e58139\"] ;\\n3407 -> 3409 ;\\n3410 [label=\"valence <= 0.731\\\\ngini = 0.804\\\\nsamples = 18\\\\nvalue = [6, 6, 0, 2, 7, 6, 2]\", fillcolor=\"#f6f8fe\"] ;\\n3370 -> 3410 ;\\n3411 [label=\"loudness <= -13.548\\\\ngini = 0.779\\\\nsamples = 14\\\\nvalue = [6, 6, 0, 2, 6, 1, 2]\", fillcolor=\"#ffffff\"] ;\\n3410 -> 3411 ;\\n3412 [label=\"gini = 0.0\\\\nsamples = 2\\\\nvalue = [0, 5, 0, 0, 0, 0, 0]\", fillcolor=\"#b7e539\"] ;\\n3411 -> 3412 ;\\n3413 [label=\"acousticness <= 0.929\\\\ngini = 0.747\\\\nsamples = 12\\\\nvalue = [6, 1, 0, 2, 6, 1, 2]\", fillcolor=\"#ffffff\"] ;\\n3411 -> 3413 ;\\n3414 [label=\"duration_ms <= 187478.891\\\\ngini = 0.278\\\\nsamples = 4\\\\nvalue = [5, 0, 0, 0, 0, 1, 0]\", fillcolor=\"#ea9a61\"] ;\\n3413 -> 3414 ;\\n3415 [label=\"energy <= 0.505\\\\ngini = 0.5\\\\nsamples = 2\\\\nvalue = [1, 0, 0, 0, 0, 1, 0]\", fillcolor=\"#ffffff\"] ;\\n3414 -> 3415 ;\\n3416 [label=\"gini = 0.0\\\\nsamples = 1\\\\nvalue = [1, 0, 0, 0, 0, 0, 0]\", fillcolor=\"#e58139\"] ;\\n3415 -> 3416 ;\\n3417 [label=\"gini = 0.0\\\\nsamples = 1\\\\nvalue = [0, 0, 0, 0, 0, 1, 0]\", fillcolor=\"#b139e5\"] ;\\n3415 -> 3417 ;\\n3418 [label=\"gini = 0.0\\\\nsamples = 2\\\\nvalue = [4, 0, 0, 0, 0, 0, 0]\", fillcolor=\"#e58139\"] ;\\n3414 -> 3418 ;\\n3419 [label=\"speechiness <= 0.07\\\\ngini = 0.681\\\\nsamples = 8\\\\nvalue = [1, 1, 0, 2, 6, 0, 2]\", fillcolor=\"#b0bbf5\"] ;\\n3413 -> 3419 ;\\n3420 [label=\"loudness <= -7.835\\\\ngini = 0.58\\\\nsamples = 7\\\\nvalue = [1, 1, 0, 0, 6, 0, 2]\", fillcolor=\"#9caaf2\"] ;\\n3419 -> 3420 ;\\n3421 [label=\"liveness <= 0.151\\\\ngini = 0.278\\\\nsamples = 4\\\\nvalue = [0, 1, 0, 0, 5, 0, 0]\", fillcolor=\"#6178ea\"] ;\\n3420 -> 3421 ;\\n3422 [label=\"gini = 0.0\\\\nsamples = 3\\\\nvalue = [0, 0, 0, 0, 5, 0, 0]\", fillcolor=\"#3956e5\"] ;\\n3421 -> 3422 ;\\n3423 [label=\"gini = 0.0\\\\nsamples = 1\\\\nvalue = [0, 1, 0, 0, 0, 0, 0]\", fillcolor=\"#b7e539\"] ;\\n3421 -> 3423 ;\\n3424 [label=\"duration_ms <= 245141.438\\\\ngini = 0.625\\\\nsamples = 3\\\\nvalue = [1, 0, 0, 0, 1, 0, 2]\", fillcolor=\"#f6bdd7\"] ;\\n3420 -> 3424 ;\\n3425 [label=\"gini = 0.0\\\\nsamples = 1\\\\nvalue = [0, 0, 0, 0, 0, 0, 2]\", fillcolor=\"#e53986\"] ;\\n3424 -> 3425 ;\\n3426 [label=\"liveness <= 0.107\\\\ngini = 0.5\\\\nsamples = 2\\\\nvalue = [1, 0, 0, 0, 1, 0, 0]\", fillcolor=\"#ffffff\"] ;\\n3424 -> 3426 ;\\n3427 [label=\"gini = 0.0\\\\nsamples = 1\\\\nvalue = [0, 0, 0, 0, 1, 0, 0]\", fillcolor=\"#3956e5\"] ;\\n3426 -> 3427 ;\\n3428 [label=\"gini = 0.0\\\\nsamples = 1\\\\nvalue = [1, 0, 0, 0, 0, 0, 0]\", fillcolor=\"#e58139\"] ;\\n3426 -> 3428 ;\\n3429 [label=\"gini = 0.0\\\\nsamples = 1\\\\nvalue = [0, 0, 0, 2, 0, 0, 0]\", fillcolor=\"#39e5e2\"] ;\\n3419 -> 3429 ;\\n3430 [label=\"loudness <= -8.829\\\\ngini = 0.278\\\\nsamples = 4\\\\nvalue = [0, 0, 0, 0, 1, 5, 0]\", fillcolor=\"#c161ea\"] ;\\n3410 -> 3430 ;\\n3431 [label=\"valence <= 0.796\\\\ngini = 0.5\\\\nsamples = 2\\\\nvalue = [0, 0, 0, 0, 1, 1, 0]\", fillcolor=\"#ffffff\"] ;\\n3430 -> 3431 ;\\n3432 [label=\"gini = 0.0\\\\nsamples = 1\\\\nvalue = [0, 0, 0, 0, 1, 0, 0]\", fillcolor=\"#3956e5\"] ;\\n3431 -> 3432 ;\\n3433 [label=\"gini = 0.0\\\\nsamples = 1\\\\nvalue = [0, 0, 0, 0, 0, 1, 0]\", fillcolor=\"#b139e5\"] ;\\n3431 -> 3433 ;\\n3434 [label=\"gini = 0.0\\\\nsamples = 2\\\\nvalue = [0, 0, 0, 0, 0, 4, 0]\", fillcolor=\"#b139e5\"] ;\\n3430 -> 3434 ;\\n3435 [label=\"popularity <= 40.779\\\\ngini = 0.49\\\\nsamples = 138\\\\nvalue = [149, 1, 3, 0, 65, 3, 7]\", fillcolor=\"#f2be99\"] ;\\n3367 -> 3435 ;\\n3436 [label=\"danceability <= 0.579\\\\ngini = 0.214\\\\nsamples = 86\\\\nvalue = [126, 0, 3, 0, 14, 0, 0]\", fillcolor=\"#e89253\"] ;\\n3435 -> 3436 ;\\n3437 [label=\"valence <= 0.55\\\\ngini = 0.163\\\\nsamples = 82\\\\nvalue = [125, 0, 3, 0, 9, 0, 0]\", fillcolor=\"#e78d4c\"] ;\\n3436 -> 3437 ;\\n3438 [label=\"duration_ms <= 38283.676\\\\ngini = 0.066\\\\nsamples = 71\\\\nvalue = [114, 0, 3, 0, 1, 0, 0]\", fillcolor=\"#e68540\"] ;\\n3437 -> 3438 ;\\n3439 [label=\"acousticness <= 0.947\\\\ngini = 0.26\\\\nsamples = 7\\\\nvalue = [11, 0, 2, 0, 0, 0, 0]\", fillcolor=\"#ea985d\"] ;\\n3438 -> 3439 ;\\n3440 [label=\"gini = 0.0\\\\nsamples = 6\\\\nvalue = [11, 0, 0, 0, 0, 0, 0]\", fillcolor=\"#e58139\"] ;\\n3439 -> 3440 ;\\n3441 [label=\"gini = 0.0\\\\nsamples = 1\\\\nvalue = [0, 0, 2, 0, 0, 0, 0]\", fillcolor=\"#39e54d\"] ;\\n3439 -> 3441 ;\\n3442 [label=\"valence <= 0.165\\\\ngini = 0.038\\\\nsamples = 64\\\\nvalue = [103, 0, 1, 0, 1, 0, 0]\", fillcolor=\"#e6833d\"] ;\\n3438 -> 3442 ;\\n3443 [label=\"gini = 0.0\\\\nsamples = 35\\\\nvalue = [58, 0, 0, 0, 0, 0, 0]\", fillcolor=\"#e58139\"] ;\\n3442 -> 3443 ;\\n3444 [label=\"loudness <= -3.546\\\\ngini = 0.082\\\\nsamples = 29\\\\nvalue = [45, 0, 1, 0, 1, 0, 0]\", fillcolor=\"#e68642\"] ;\\n3442 -> 3444 ;\\n3445 [label=\"instrumentalness <= 0.967\\\\ngini = 0.046\\\\nsamples = 26\\\\nvalue = [41, 0, 0, 0, 1, 0, 0]\", fillcolor=\"#e6843e\"] ;\\n3444 -> 3445 ;\\n3446 [label=\"gini = 0.0\\\\nsamples = 22\\\\nvalue = [36, 0, 0, 0, 0, 0, 0]\", fillcolor=\"#e58139\"] ;\\n3445 -> 3446 ;\\n3447 [label=\"danceability <= 0.361\\\\ngini = 0.278\\\\nsamples = 4\\\\nvalue = [5, 0, 0, 0, 1, 0, 0]\", fillcolor=\"#ea9a61\"] ;\\n3445 -> 3447 ;\\n3448 [label=\"gini = 0.0\\\\nsamples = 3\\\\nvalue = [5, 0, 0, 0, 0, 0, 0]\", fillcolor=\"#e58139\"] ;\\n3447 -> 3448 ;\\n3449 [label=\"gini = 0.0\\\\nsamples = 1\\\\nvalue = [0, 0, 0, 0, 1, 0, 0]\", fillcolor=\"#3956e5\"] ;\\n3447 -> 3449 ;\\n3450 [label=\"instrumentalness <= 0.224\\\\ngini = 0.32\\\\nsamples = 3\\\\nvalue = [4, 0, 1, 0, 0, 0, 0]\", fillcolor=\"#eca06a\"] ;\\n3444 -> 3450 ;\\n3451 [label=\"gini = 0.0\\\\nsamples = 1\\\\nvalue = [0, 0, 1, 0, 0, 0, 0]\", fillcolor=\"#39e54d\"] ;\\n3450 -> 3451 ;\\n3452 [label=\"gini = 0.0\\\\nsamples = 2\\\\nvalue = [4, 0, 0, 0, 0, 0, 0]\", fillcolor=\"#e58139\"] ;\\n3450 -> 3452 ;\\n3453 [label=\"popularity <= 32.217\\\\ngini = 0.488\\\\nsamples = 11\\\\nvalue = [11, 0, 0, 0, 8, 0, 0]\", fillcolor=\"#f8ddc9\"] ;\\n3437 -> 3453 ;\\n3454 [label=\"gini = 0.0\\\\nsamples = 6\\\\nvalue = [10, 0, 0, 0, 0, 0, 0]\", fillcolor=\"#e58139\"] ;\\n3453 -> 3454 ;\\n3455 [label=\"loudness <= -17.659\\\\ngini = 0.198\\\\nsamples = 5\\\\nvalue = [1, 0, 0, 0, 8, 0, 0]\", fillcolor=\"#526be8\"] ;\\n3453 -> 3455 ;\\n3456 [label=\"gini = 0.0\\\\nsamples = 3\\\\nvalue = [0, 0, 0, 0, 6, 0, 0]\", fillcolor=\"#3956e5\"] ;\\n3455 -> 3456 ;\\n3457 [label=\"tempo <= 94.084\\\\ngini = 0.444\\\\nsamples = 2\\\\nvalue = [1, 0, 0, 0, 2, 0, 0]\", fillcolor=\"#9caaf2\"] ;\\n3455 -> 3457 ;\\n3458 [label=\"gini = 0.0\\\\nsamples = 1\\\\nvalue = [0, 0, 0, 0, 2, 0, 0]\", fillcolor=\"#3956e5\"] ;\\n3457 -> 3458 ;\\n3459 [label=\"gini = 0.0\\\\nsamples = 1\\\\nvalue = [1, 0, 0, 0, 0, 0, 0]\", fillcolor=\"#e58139\"] ;\\n3457 -> 3459 ;\\n3460 [label=\"acousticness <= 0.943\\\\ngini = 0.278\\\\nsamples = 4\\\\nvalue = [1, 0, 0, 0, 5, 0, 0]\", fillcolor=\"#6178ea\"] ;\\n3436 -> 3460 ;\\n3461 [label=\"gini = 0.0\\\\nsamples = 2\\\\nvalue = [0, 0, 0, 0, 4, 0, 0]\", fillcolor=\"#3956e5\"] ;\\n3460 -> 3461 ;\\n3462 [label=\"danceability <= 0.7\\\\ngini = 0.5\\\\nsamples = 2\\\\nvalue = [1, 0, 0, 0, 1, 0, 0]\", fillcolor=\"#ffffff\"] ;\\n3460 -> 3462 ;\\n3463 [label=\"gini = 0.0\\\\nsamples = 1\\\\nvalue = [1, 0, 0, 0, 0, 0, 0]\", fillcolor=\"#e58139\"] ;\\n3462 -> 3463 ;\\n3464 [label=\"gini = 0.0\\\\nsamples = 1\\\\nvalue = [0, 0, 0, 0, 1, 0, 0]\", fillcolor=\"#3956e5\"] ;\\n3462 -> 3464 ;\\n3465 [label=\"liveness <= 0.096\\\\ngini = 0.559\\\\nsamples = 52\\\\nvalue = [23, 1, 0, 0, 51, 3, 7]\", fillcolor=\"#a6b3f3\"] ;\\n3435 -> 3465 ;\\n3466 [label=\"liveness <= 0.05\\\\ngini = 0.444\\\\nsamples = 9\\\\nvalue = [10, 0, 0, 0, 5, 0, 0]\", fillcolor=\"#f2c09c\"] ;\\n3465 -> 3466 ;\\n3467 [label=\"gini = 0.0\\\\nsamples = 1\\\\nvalue = [0, 0, 0, 0, 3, 0, 0]\", fillcolor=\"#3956e5\"] ;\\n3466 -> 3467 ;\\n3468 [label=\"tempo <= 73.37\\\\ngini = 0.278\\\\nsamples = 8\\\\nvalue = [10, 0, 0, 0, 2, 0, 0]\", fillcolor=\"#ea9a61\"] ;\\n3466 -> 3468 ;\\n3469 [label=\"tempo <= 35.861\\\\ngini = 0.444\\\\nsamples = 2\\\\nvalue = [1, 0, 0, 0, 2, 0, 0]\", fillcolor=\"#9caaf2\"] ;\\n3468 -> 3469 ;\\n3470 [label=\"gini = 0.0\\\\nsamples = 1\\\\nvalue = [1, 0, 0, 0, 0, 0, 0]\", fillcolor=\"#e58139\"] ;\\n3469 -> 3470 ;\\n3471 [label=\"gini = 0.0\\\\nsamples = 1\\\\nvalue = [0, 0, 0, 0, 2, 0, 0]\", fillcolor=\"#3956e5\"] ;\\n3469 -> 3471 ;\\n3472 [label=\"gini = 0.0\\\\nsamples = 6\\\\nvalue = [9, 0, 0, 0, 0, 0, 0]\", fillcolor=\"#e58139\"] ;\\n3468 -> 3472 ;\\n3473 [label=\"danceability <= 0.407\\\\ngini = 0.522\\\\nsamples = 43\\\\nvalue = [13, 1, 0, 0, 46, 3, 7]\", fillcolor=\"#8c9df0\"] ;\\n3465 -> 3473 ;\\n3474 [label=\"speechiness <= 0.045\\\\ngini = 0.499\\\\nsamples = 10\\\\nvalue = [10, 0, 0, 0, 9, 0, 0]\", fillcolor=\"#fcf2eb\"] ;\\n3473 -> 3474 ;\\n3475 [label=\"gini = 0.0\\\\nsamples = 4\\\\nvalue = [0, 0, 0, 0, 7, 0, 0]\", fillcolor=\"#3956e5\"] ;\\n3474 -> 3475 ;\\n3476 [label=\"valence <= 0.039\\\\ngini = 0.278\\\\nsamples = 6\\\\nvalue = [10, 0, 0, 0, 2, 0, 0]\", fillcolor=\"#ea9a61\"] ;\\n3474 -> 3476 ;\\n3477 [label=\"gini = 0.0\\\\nsamples = 1\\\\nvalue = [0, 0, 0, 0, 2, 0, 0]\", fillcolor=\"#3956e5\"] ;\\n3476 -> 3477 ;\\n3478 [label=\"gini = 0.0\\\\nsamples = 5\\\\nvalue = [10, 0, 0, 0, 0, 0, 0]\", fillcolor=\"#e58139\"] ;\\n3476 -> 3478 ;\\n3479 [label=\"acousticness <= 0.962\\\\ngini = 0.448\\\\nsamples = 33\\\\nvalue = [3, 1, 0, 0, 37, 3, 7]\", fillcolor=\"#788ced\"] ;\\n3473 -> 3479 ;\\n3480 [label=\"instrumentalness <= 0.023\\\\ngini = 0.385\\\\nsamples = 31\\\\nvalue = [3, 1, 0, 0, 37, 1, 6]\", fillcolor=\"#6d82ec\"] ;\\n3479 -> 3480 ;\\n3481 [label=\"tempo <= 140.817\\\\ngini = 0.716\\\\nsamples = 7\\\\nvalue = [1, 1, 0, 0, 2, 1, 4]\", fillcolor=\"#f8c6dc\"] ;\\n3480 -> 3481 ;\\n3482 [label=\"energy <= 0.25\\\\ngini = 0.72\\\\nsamples = 5\\\\nvalue = [1, 1, 0, 0, 2, 1, 0]\", fillcolor=\"#ced5f8\"] ;\\n3481 -> 3482 ;\\n3483 [label=\"gini = 0.0\\\\nsamples = 2\\\\nvalue = [0, 0, 0, 0, 2, 0, 0]\", fillcolor=\"#3956e5\"] ;\\n3482 -> 3483 ;\\n3484 [label=\"popularity <= 55.112\\\\ngini = 0.667\\\\nsamples = 3\\\\nvalue = [1, 1, 0, 0, 0, 1, 0]\", fillcolor=\"#ffffff\"] ;\\n3482 -> 3484 ;\\n3485 [label=\"gini = 0.0\\\\nsamples = 1\\\\nvalue = [0, 1, 0, 0, 0, 0, 0]\", fillcolor=\"#b7e539\"] ;\\n3484 -> 3485 ;\\n3486 [label=\"acousticness <= 0.958\\\\ngini = 0.5\\\\nsamples = 2\\\\nvalue = [1, 0, 0, 0, 0, 1, 0]\", fillcolor=\"#ffffff\"] ;\\n3484 -> 3486 ;\\n3487 [label=\"gini = 0.0\\\\nsamples = 1\\\\nvalue = [0, 0, 0, 0, 0, 1, 0]\", fillcolor=\"#b139e5\"] ;\\n3486 -> 3487 ;\\n3488 [label=\"gini = 0.0\\\\nsamples = 1\\\\nvalue = [1, 0, 0, 0, 0, 0, 0]\", fillcolor=\"#e58139\"] ;\\n3486 -> 3488 ;\\n3489 [label=\"gini = 0.0\\\\nsamples = 2\\\\nvalue = [0, 0, 0, 0, 0, 0, 4]\", fillcolor=\"#e53986\"] ;\\n3481 -> 3489 ;\\n3490 [label=\"duration_ms <= 467946.547\\\\ngini = 0.189\\\\nsamples = 24\\\\nvalue = [2, 0, 0, 0, 35, 0, 2]\", fillcolor=\"#4e68e8\"] ;\\n3480 -> 3490 ;\\n3491 [label=\"acousticness <= 0.931\\\\ngini = 0.105\\\\nsamples = 22\\\\nvalue = [0, 0, 0, 0, 34, 0, 2]\", fillcolor=\"#4560e7\"] ;\\n3490 -> 3491 ;\\n3492 [label=\"valence <= 0.146\\\\ngini = 0.208\\\\nsamples = 11\\\\nvalue = [0, 0, 0, 0, 15, 0, 2]\", fillcolor=\"#536de8\"] ;\\n3491 -> 3492 ;\\n3493 [label=\"gini = 0.0\\\\nsamples = 2\\\\nvalue = [0, 0, 0, 0, 0, 0, 2]\", fillcolor=\"#e53986\"] ;\\n3492 -> 3493 ;\\n3494 [label=\"gini = 0.0\\\\nsamples = 9\\\\nvalue = [0, 0, 0, 0, 15, 0, 0]\", fillcolor=\"#3956e5\"] ;\\n3492 -> 3494 ;\\n3495 [label=\"gini = 0.0\\\\nsamples = 11\\\\nvalue = [0, 0, 0, 0, 19, 0, 0]\", fillcolor=\"#3956e5\"] ;\\n3491 -> 3495 ;\\n3496 [label=\"danceability <= 0.539\\\\ngini = 0.444\\\\nsamples = 2\\\\nvalue = [2, 0, 0, 0, 1, 0, 0]\", fillcolor=\"#f2c09c\"] ;\\n3490 -> 3496 ;\\n3497 [label=\"gini = 0.0\\\\nsamples = 1\\\\nvalue = [0, 0, 0, 0, 1, 0, 0]\", fillcolor=\"#3956e5\"] ;\\n3496 -> 3497 ;\\n3498 [label=\"gini = 0.0\\\\nsamples = 1\\\\nvalue = [2, 0, 0, 0, 0, 0, 0]\", fillcolor=\"#e58139\"] ;\\n3496 -> 3498 ;\\n3499 [label=\"energy <= 0.32\\\\ngini = 0.444\\\\nsamples = 2\\\\nvalue = [0, 0, 0, 0, 0, 2, 1]\", fillcolor=\"#d89cf2\"] ;\\n3479 -> 3499 ;\\n3500 [label=\"gini = 0.0\\\\nsamples = 1\\\\nvalue = [0, 0, 0, 0, 0, 0, 1]\", fillcolor=\"#e53986\"] ;\\n3499 -> 3500 ;\\n3501 [label=\"gini = 0.0\\\\nsamples = 1\\\\nvalue = [0, 0, 0, 0, 0, 2, 0]\", fillcolor=\"#b139e5\"] ;\\n3499 -> 3501 ;\\n3502 [label=\"loudness <= -16.924\\\\ngini = 0.247\\\\nsamples = 1618\\\\nvalue = [2206, 15, 0, 0, 288, 2, 53]\", fillcolor=\"#e99558\"] ;\\n3366 -> 3502 ;\\n3503 [label=\"popularity <= 51.251\\\\ngini = 0.131\\\\nsamples = 1293\\\\nvalue = [1917, 0, 0, 0, 124, 0, 20]\", fillcolor=\"#e78a48\"] ;\\n3502 -> 3503 ;\\n3504 [label=\"popularity <= 32.809\\\\ngini = 0.088\\\\nsamples = 1195\\\\nvalue = [1809, 0, 0, 0, 88, 0, 0]\", fillcolor=\"#e68743\"] ;\\n3503 -> 3504 ;\\n3505 [label=\"speechiness <= 0.04\\\\ngini = 0.012\\\\nsamples = 549\\\\nvalue = [839, 0, 0, 0, 5, 0, 0]\", fillcolor=\"#e5823a\"] ;\\n3504 -> 3505 ;\\n3506 [label=\"popularity <= 29.958\\\\ngini = 0.063\\\\nsamples = 67\\\\nvalue = [89, 0, 0, 0, 3, 0, 0]\", fillcolor=\"#e68540\"] ;\\n3505 -> 3506 ;\\n3507 [label=\"gini = 0.0\\\\nsamples = 51\\\\nvalue = [72, 0, 0, 0, 0, 0, 0]\", fillcolor=\"#e58139\"] ;\\n3506 -> 3507 ;\\n3508 [label=\"popularity <= 30.461\\\\ngini = 0.255\\\\nsamples = 16\\\\nvalue = [17, 0, 0, 0, 3, 0, 0]\", fillcolor=\"#ea975c\"] ;\\n3506 -> 3508 ;\\n3509 [label=\"gini = 0.0\\\\nsamples = 1\\\\nvalue = [0, 0, 0, 0, 2, 0, 0]\", fillcolor=\"#3956e5\"] ;\\n3508 -> 3509 ;\\n3510 [label=\"loudness <= -18.431\\\\ngini = 0.105\\\\nsamples = 15\\\\nvalue = [17, 0, 0, 0, 1, 0, 0]\", fillcolor=\"#e78845\"] ;\\n3508 -> 3510 ;\\n3511 [label=\"gini = 0.0\\\\nsamples = 14\\\\nvalue = [17, 0, 0, 0, 0, 0, 0]\", fillcolor=\"#e58139\"] ;\\n3510 -> 3511 ;\\n3512 [label=\"gini = 0.0\\\\nsamples = 1\\\\nvalue = [0, 0, 0, 0, 1, 0, 0]\", fillcolor=\"#3956e5\"] ;\\n3510 -> 3512 ;\\n3513 [label=\"loudness <= -18.953\\\\ngini = 0.005\\\\nsamples = 482\\\\nvalue = [750, 0, 0, 0, 2, 0, 0]\", fillcolor=\"#e5813a\"] ;\\n3505 -> 3513 ;\\n3514 [label=\"energy <= -0.499\\\\ngini = 0.003\\\\nsamples = 450\\\\nvalue = [701, 0, 0, 0, 1, 0, 0]\", fillcolor=\"#e58139\"] ;\\n3513 -> 3514 ;\\n3515 [label=\"danceability <= 0.531\\\\ngini = 0.045\\\\nsamples = 26\\\\nvalue = [42, 0, 0, 0, 1, 0, 0]\", fillcolor=\"#e6843e\"] ;\\n3514 -> 3515 ;\\n3516 [label=\"gini = 0.0\\\\nsamples = 22\\\\nvalue = [37, 0, 0, 0, 0, 0, 0]\", fillcolor=\"#e58139\"] ;\\n3515 -> 3516 ;\\n3517 [label=\"speechiness <= 0.072\\\\ngini = 0.278\\\\nsamples = 4\\\\nvalue = [5, 0, 0, 0, 1, 0, 0]\", fillcolor=\"#ea9a61\"] ;\\n3515 -> 3517 ;\\n3518 [label=\"gini = 0.0\\\\nsamples = 1\\\\nvalue = [0, 0, 0, 0, 1, 0, 0]\", fillcolor=\"#3956e5\"] ;\\n3517 -> 3518 ;\\n3519 [label=\"gini = 0.0\\\\nsamples = 3\\\\nvalue = [5, 0, 0, 0, 0, 0, 0]\", fillcolor=\"#e58139\"] ;\\n3517 -> 3519 ;\\n3520 [label=\"gini = 0.0\\\\nsamples = 424\\\\nvalue = [659, 0, 0, 0, 0, 0, 0]\", fillcolor=\"#e58139\"] ;\\n3514 -> 3520 ;\\n3521 [label=\"tempo <= 137.493\\\\ngini = 0.039\\\\nsamples = 32\\\\nvalue = [49, 0, 0, 0, 1, 0, 0]\", fillcolor=\"#e6843d\"] ;\\n3513 -> 3521 ;\\n3522 [label=\"gini = 0.0\\\\nsamples = 27\\\\nvalue = [41, 0, 0, 0, 0, 0, 0]\", fillcolor=\"#e58139\"] ;\\n3521 -> 3522 ;\\n3523 [label=\"energy <= 0.17\\\\ngini = 0.198\\\\nsamples = 5\\\\nvalue = [8, 0, 0, 0, 1, 0, 0]\", fillcolor=\"#e89152\"] ;\\n3521 -> 3523 ;\\n3524 [label=\"gini = 0.0\\\\nsamples = 1\\\\nvalue = [0, 0, 0, 0, 1, 0, 0]\", fillcolor=\"#3956e5\"] ;\\n3523 -> 3524 ;\\n3525 [label=\"gini = 0.0\\\\nsamples = 4\\\\nvalue = [8, 0, 0, 0, 0, 0, 0]\", fillcolor=\"#e58139\"] ;\\n3523 -> 3525 ;\\n3526 [label=\"danceability <= 0.529\\\\ngini = 0.145\\\\nsamples = 646\\\\nvalue = [970, 0, 0, 0, 83, 0, 0]\", fillcolor=\"#e78c4a\"] ;\\n3504 -> 3526 ;\\n3527 [label=\"danceability <= 0.318\\\\ngini = 0.086\\\\nsamples = 571\\\\nvalue = [894, 0, 0, 0, 42, 0, 0]\", fillcolor=\"#e68742\"] ;\\n3526 -> 3527 ;\\n3528 [label=\"loudness <= -23.211\\\\ngini = 0.028\\\\nsamples = 308\\\\nvalue = [493, 0, 0, 0, 7, 0, 0]\", fillcolor=\"#e5833c\"] ;\\n3527 -> 3528 ;\\n3529 [label=\"loudness <= -26.017\\\\ngini = 0.011\\\\nsamples = 226\\\\nvalue = [359, 0, 0, 0, 2, 0, 0]\", fillcolor=\"#e5823a\"] ;\\n3528 -> 3529 ;\\n3530 [label=\"gini = 0.0\\\\nsamples = 163\\\\nvalue = [243, 0, 0, 0, 0, 0, 0]\", fillcolor=\"#e58139\"] ;\\n3529 -> 3530 ;\\n3531 [label=\"loudness <= -25.995\\\\ngini = 0.033\\\\nsamples = 63\\\\nvalue = [116, 0, 0, 0, 2, 0, 0]\", fillcolor=\"#e5833c\"] ;\\n3529 -> 3531 ;\\n3532 [label=\"gini = 0.0\\\\nsamples = 1\\\\nvalue = [0, 0, 0, 0, 1, 0, 0]\", fillcolor=\"#3956e5\"] ;\\n3531 -> 3532 ;\\n3533 [label=\"instrumentalness <= 0.969\\\\ngini = 0.017\\\\nsamples = 62\\\\nvalue = [116, 0, 0, 0, 1, 0, 0]\", fillcolor=\"#e5823b\"] ;\\n3531 -> 3533 ;\\n3534 [label=\"gini = 0.0\\\\nsamples = 49\\\\nvalue = [95, 0, 0, 0, 0, 0, 0]\", fillcolor=\"#e58139\"] ;\\n3533 -> 3534 ;\\n3535 [label=\"popularity <= 40.969\\\\ngini = 0.087\\\\nsamples = 13\\\\nvalue = [21, 0, 0, 0, 1, 0, 0]\", fillcolor=\"#e68742\"] ;\\n3533 -> 3535 ;\\n3536 [label=\"loudness <= -25.229\\\\ngini = 0.245\\\\nsamples = 5\\\\nvalue = [6, 0, 0, 0, 1, 0, 0]\", fillcolor=\"#e9965a\"] ;\\n3535 -> 3536 ;\\n3537 [label=\"danceability <= 0.156\\\\ngini = 0.5\\\\nsamples = 2\\\\nvalue = [1, 0, 0, 0, 1, 0, 0]\", fillcolor=\"#ffffff\"] ;\\n3536 -> 3537 ;\\n3538 [label=\"gini = 0.0\\\\nsamples = 1\\\\nvalue = [1, 0, 0, 0, 0, 0, 0]\", fillcolor=\"#e58139\"] ;\\n3537 -> 3538 ;\\n3539 [label=\"gini = 0.0\\\\nsamples = 1\\\\nvalue = [0, 0, 0, 0, 1, 0, 0]\", fillcolor=\"#3956e5\"] ;\\n3537 -> 3539 ;\\n3540 [label=\"gini = 0.0\\\\nsamples = 3\\\\nvalue = [5, 0, 0, 0, 0, 0, 0]\", fillcolor=\"#e58139\"] ;\\n3536 -> 3540 ;\\n3541 [label=\"gini = 0.0\\\\nsamples = 8\\\\nvalue = [15, 0, 0, 0, 0, 0, 0]\", fillcolor=\"#e58139\"] ;\\n3535 -> 3541 ;\\n3542 [label=\"loudness <= -23.153\\\\ngini = 0.069\\\\nsamples = 82\\\\nvalue = [134, 0, 0, 0, 5, 0, 0]\", fillcolor=\"#e68640\"] ;\\n3528 -> 3542 ;\\n3543 [label=\"gini = 0.0\\\\nsamples = 1\\\\nvalue = [0, 0, 0, 0, 2, 0, 0]\", fillcolor=\"#3956e5\"] ;\\n3542 -> 3543 ;\\n3544 [label=\"acousticness <= 1.081\\\\ngini = 0.043\\\\nsamples = 81\\\\nvalue = [134, 0, 0, 0, 3, 0, 0]\", fillcolor=\"#e6843d\"] ;\\n3542 -> 3544 ;\\n3545 [label=\"liveness <= 0.15\\\\ngini = 0.029\\\\nsamples = 79\\\\nvalue = [132, 0, 0, 0, 2, 0, 0]\", fillcolor=\"#e5833c\"] ;\\n3544 -> 3545 ;\\n3546 [label=\"energy <= 0.116\\\\ngini = 0.043\\\\nsamples = 58\\\\nvalue = [88, 0, 0, 0, 2, 0, 0]\", fillcolor=\"#e6843d\"] ;\\n3545 -> 3546 ;\\n3547 [label=\"danceability <= 0.242\\\\ngini = 0.121\\\\nsamples = 22\\\\nvalue = [29, 0, 0, 0, 2, 0, 0]\", fillcolor=\"#e78a47\"] ;\\n3546 -> 3547 ;\\n3548 [label=\"gini = 0.0\\\\nsamples = 14\\\\nvalue = [21, 0, 0, 0, 0, 0, 0]\", fillcolor=\"#e58139\"] ;\\n3547 -> 3548 ;\\n3549 [label=\"liveness <= 0.138\\\\ngini = 0.32\\\\nsamples = 8\\\\nvalue = [8, 0, 0, 0, 2, 0, 0]\", fillcolor=\"#eca06a\"] ;\\n3547 -> 3549 ;\\n3550 [label=\"valence <= 0.09\\\\ngini = 0.198\\\\nsamples = 7\\\\nvalue = [8, 0, 0, 0, 1, 0, 0]\", fillcolor=\"#e89152\"] ;\\n3549 -> 3550 ;\\n3551 [label=\"liveness <= 0.097\\\\ngini = 0.5\\\\nsamples = 2\\\\nvalue = [1, 0, 0, 0, 1, 0, 0]\", fillcolor=\"#ffffff\"] ;\\n3550 -> 3551 ;\\n3552 [label=\"gini = 0.0\\\\nsamples = 1\\\\nvalue = [0, 0, 0, 0, 1, 0, 0]\", fillcolor=\"#3956e5\"] ;\\n3551 -> 3552 ;\\n3553 [label=\"gini = 0.0\\\\nsamples = 1\\\\nvalue = [1, 0, 0, 0, 0, 0, 0]\", fillcolor=\"#e58139\"] ;\\n3551 -> 3553 ;\\n3554 [label=\"gini = 0.0\\\\nsamples = 5\\\\nvalue = [7, 0, 0, 0, 0, 0, 0]\", fillcolor=\"#e58139\"] ;\\n3550 -> 3554 ;\\n3555 [label=\"gini = 0.0\\\\nsamples = 1\\\\nvalue = [0, 0, 0, 0, 1, 0, 0]\", fillcolor=\"#3956e5\"] ;\\n3549 -> 3555 ;\\n3556 [label=\"gini = 0.0\\\\nsamples = 36\\\\nvalue = [59, 0, 0, 0, 0, 0, 0]\", fillcolor=\"#e58139\"] ;\\n3546 -> 3556 ;\\n3557 [label=\"gini = 0.0\\\\nsamples = 21\\\\nvalue = [44, 0, 0, 0, 0, 0, 0]\", fillcolor=\"#e58139\"] ;\\n3545 -> 3557 ;\\n3558 [label=\"instrumentalness <= 0.964\\\\ngini = 0.444\\\\nsamples = 2\\\\nvalue = [2, 0, 0, 0, 1, 0, 0]\", fillcolor=\"#f2c09c\"] ;\\n3544 -> 3558 ;\\n3559 [label=\"gini = 0.0\\\\nsamples = 1\\\\nvalue = [0, 0, 0, 0, 1, 0, 0]\", fillcolor=\"#3956e5\"] ;\\n3558 -> 3559 ;\\n3560 [label=\"gini = 0.0\\\\nsamples = 1\\\\nvalue = [2, 0, 0, 0, 0, 0, 0]\", fillcolor=\"#e58139\"] ;\\n3558 -> 3560 ;\\n3561 [label=\"popularity <= 32.858\\\\ngini = 0.148\\\\nsamples = 263\\\\nvalue = [401, 0, 0, 0, 35, 0, 0]\", fillcolor=\"#e78c4a\"] ;\\n3527 -> 3561 ;\\n3562 [label=\"gini = 0.0\\\\nsamples = 1\\\\nvalue = [0, 0, 0, 0, 2, 0, 0]\", fillcolor=\"#3956e5\"] ;\\n3561 -> 3562 ;\\n3563 [label=\"valence <= 0.256\\\\ngini = 0.141\\\\nsamples = 262\\\\nvalue = [401, 0, 0, 0, 33, 0, 0]\", fillcolor=\"#e78b49\"] ;\\n3561 -> 3563 ;\\n3564 [label=\"speechiness <= 0.035\\\\ngini = 0.212\\\\nsamples = 162\\\\nvalue = [233, 0, 0, 0, 32, 0, 0]\", fillcolor=\"#e99254\"] ;\\n3563 -> 3564 ;\\n3565 [label=\"acousticness <= 1.053\\\\ngini = 0.32\\\\nsamples = 4\\\\nvalue = [1, 0, 0, 0, 4, 0, 0]\", fillcolor=\"#6a80ec\"] ;\\n3564 -> 3565 ;\\n3566 [label=\"gini = 0.0\\\\nsamples = 3\\\\nvalue = [0, 0, 0, 0, 4, 0, 0]\", fillcolor=\"#3956e5\"] ;\\n3565 -> 3566 ;\\n3567 [label=\"gini = 0.0\\\\nsamples = 1\\\\nvalue = [1, 0, 0, 0, 0, 0, 0]\", fillcolor=\"#e58139\"] ;\\n3565 -> 3567 ;\\n3568 [label=\"loudness <= -26.522\\\\ngini = 0.192\\\\nsamples = 158\\\\nvalue = [232, 0, 0, 0, 28, 0, 0]\", fillcolor=\"#e89051\"] ;\\n3564 -> 3568 ;\\n3569 [label=\"danceability <= 0.401\\\\ngini = 0.031\\\\nsamples = 78\\\\nvalue = [124, 0, 0, 0, 2, 0, 0]\", fillcolor=\"#e5833c\"] ;\\n3568 -> 3569 ;\\n3570 [label=\"instrumentalness <= 0.977\\\\ngini = 0.061\\\\nsamples = 41\\\\nvalue = [61, 0, 0, 0, 2, 0, 0]\", fillcolor=\"#e6853f\"] ;\\n3569 -> 3570 ;\\n3571 [label=\"gini = 0.0\\\\nsamples = 24\\\\nvalue = [38, 0, 0, 0, 0, 0, 0]\", fillcolor=\"#e58139\"] ;\\n3570 -> 3571 ;\\n3572 [label=\"danceability <= 0.394\\\\ngini = 0.147\\\\nsamples = 17\\\\nvalue = [23, 0, 0, 0, 2, 0, 0]\", fillcolor=\"#e78c4a\"] ;\\n3570 -> 3572 ;\\n3573 [label=\"gini = 0.0\\\\nsamples = 15\\\\nvalue = [23, 0, 0, 0, 0, 0, 0]\", fillcolor=\"#e58139\"] ;\\n3572 -> 3573 ;\\n3574 [label=\"gini = 0.0\\\\nsamples = 2\\\\nvalue = [0, 0, 0, 0, 2, 0, 0]\", fillcolor=\"#3956e5\"] ;\\n3572 -> 3574 ;\\n3575 [label=\"gini = 0.0\\\\nsamples = 37\\\\nvalue = [63, 0, 0, 0, 0, 0, 0]\", fillcolor=\"#e58139\"] ;\\n3569 -> 3575 ;\\n3576 [label=\"energy <= 0.057\\\\ngini = 0.313\\\\nsamples = 80\\\\nvalue = [108, 0, 0, 0, 26, 0, 0]\", fillcolor=\"#eb9f69\"] ;\\n3568 -> 3576 ;\\n3577 [label=\"liveness <= 0.155\\\\ngini = 0.5\\\\nsamples = 25\\\\nvalue = [21, 0, 0, 0, 21, 0, 0]\", fillcolor=\"#ffffff\"] ;\\n3576 -> 3577 ;\\n3578 [label=\"valence <= 0.048\\\\ngini = 0.472\\\\nsamples = 21\\\\nvalue = [13, 0, 0, 0, 21, 0, 0]\", fillcolor=\"#b4bff5\"] ;\\n3577 -> 3578 ;\\n3579 [label=\"gini = 0.0\\\\nsamples = 3\\\\nvalue = [6, 0, 0, 0, 0, 0, 0]\", fillcolor=\"#e58139\"] ;\\n3578 -> 3579 ;\\n3580 [label=\"popularity <= 33.85\\\\ngini = 0.375\\\\nsamples = 18\\\\nvalue = [7, 0, 0, 0, 21, 0, 0]\", fillcolor=\"#7b8eee\"] ;\\n3578 -> 3580 ;\\n3581 [label=\"gini = 0.0\\\\nsamples = 2\\\\nvalue = [3, 0, 0, 0, 0, 0, 0]\", fillcolor=\"#e58139\"] ;\\n3580 -> 3581 ;\\n3582 [label=\"acousticness <= 1.072\\\\ngini = 0.269\\\\nsamples = 16\\\\nvalue = [4, 0, 0, 0, 21, 0, 0]\", fillcolor=\"#5f76ea\"] ;\\n3580 -> 3582 ;\\n3583 [label=\"popularity <= 40.049\\\\ngini = 0.091\\\\nsamples = 12\\\\nvalue = [1, 0, 0, 0, 20, 0, 0]\", fillcolor=\"#435ee6\"] ;\\n3582 -> 3583 ;\\n3584 [label=\"popularity <= 38.288\\\\ngini = 0.245\\\\nsamples = 4\\\\nvalue = [1, 0, 0, 0, 6, 0, 0]\", fillcolor=\"#5a72e9\"] ;\\n3583 -> 3584 ;\\n3585 [label=\"gini = 0.0\\\\nsamples = 3\\\\nvalue = [0, 0, 0, 0, 6, 0, 0]\", fillcolor=\"#3956e5\"] ;\\n3584 -> 3585 ;\\n3586 [label=\"gini = 0.0\\\\nsamples = 1\\\\nvalue = [1, 0, 0, 0, 0, 0, 0]\", fillcolor=\"#e58139\"] ;\\n3584 -> 3586 ;\\n3587 [label=\"gini = 0.0\\\\nsamples = 8\\\\nvalue = [0, 0, 0, 0, 14, 0, 0]\", fillcolor=\"#3956e5\"] ;\\n3583 -> 3587 ;\\n3588 [label=\"acousticness <= 1.086\\\\ngini = 0.375\\\\nsamples = 4\\\\nvalue = [3, 0, 0, 0, 1, 0, 0]\", fillcolor=\"#eeab7b\"] ;\\n3582 -> 3588 ;\\n3589 [label=\"duration_ms <= 271260.672\\\\ngini = 0.5\\\\nsamples = 2\\\\nvalue = [1, 0, 0, 0, 1, 0, 0]\", fillcolor=\"#ffffff\"] ;\\n3588 -> 3589 ;\\n3590 [label=\"gini = 0.0\\\\nsamples = 1\\\\nvalue = [0, 0, 0, 0, 1, 0, 0]\", fillcolor=\"#3956e5\"] ;\\n3589 -> 3590 ;\\n3591 [label=\"gini = 0.0\\\\nsamples = 1\\\\nvalue = [1, 0, 0, 0, 0, 0, 0]\", fillcolor=\"#e58139\"] ;\\n3589 -> 3591 ;\\n3592 [label=\"gini = 0.0\\\\nsamples = 2\\\\nvalue = [2, 0, 0, 0, 0, 0, 0]\", fillcolor=\"#e58139\"] ;\\n3588 -> 3592 ;\\n3593 [label=\"gini = 0.0\\\\nsamples = 4\\\\nvalue = [8, 0, 0, 0, 0, 0, 0]\", fillcolor=\"#e58139\"] ;\\n3577 -> 3593 ;\\n3594 [label=\"duration_ms <= 639293.781\\\\ngini = 0.103\\\\nsamples = 55\\\\nvalue = [87, 0, 0, 0, 5, 0, 0]\", fillcolor=\"#e68844\"] ;\\n3576 -> 3594 ;\\n3595 [label=\"danceability <= 0.408\\\\ngini = 0.048\\\\nsamples = 48\\\\nvalue = [79, 0, 0, 0, 2, 0, 0]\", fillcolor=\"#e6843e\"] ;\\n3594 -> 3595 ;\\n3596 [label=\"gini = 0.0\\\\nsamples = 33\\\\nvalue = [54, 0, 0, 0, 0, 0, 0]\", fillcolor=\"#e58139\"] ;\\n3595 -> 3596 ;\\n3597 [label=\"loudness <= -17.917\\\\ngini = 0.137\\\\nsamples = 15\\\\nvalue = [25, 0, 0, 0, 2, 0, 0]\", fillcolor=\"#e78b49\"] ;\\n3595 -> 3597 ;\\n3598 [label=\"loudness <= -22.893\\\\ngini = 0.074\\\\nsamples = 14\\\\nvalue = [25, 0, 0, 0, 1, 0, 0]\", fillcolor=\"#e68641\"] ;\\n3597 -> 3598 ;\\n3599 [label=\"acousticness <= 1.039\\\\ngini = 0.219\\\\nsamples = 5\\\\nvalue = [7, 0, 0, 0, 1, 0, 0]\", fillcolor=\"#e99355\"] ;\\n3598 -> 3599 ;\\n3600 [label=\"energy <= 0.119\\\\ngini = 0.5\\\\nsamples = 2\\\\nvalue = [1, 0, 0, 0, 1, 0, 0]\", fillcolor=\"#ffffff\"] ;\\n3599 -> 3600 ;\\n3601 [label=\"gini = 0.0\\\\nsamples = 1\\\\nvalue = [0, 0, 0, 0, 1, 0, 0]\", fillcolor=\"#3956e5\"] ;\\n3600 -> 3601 ;\\n3602 [label=\"gini = 0.0\\\\nsamples = 1\\\\nvalue = [1, 0, 0, 0, 0, 0, 0]\", fillcolor=\"#e58139\"] ;\\n3600 -> 3602 ;\\n3603 [label=\"gini = 0.0\\\\nsamples = 3\\\\nvalue = [6, 0, 0, 0, 0, 0, 0]\", fillcolor=\"#e58139\"] ;\\n3599 -> 3603 ;\\n3604 [label=\"gini = 0.0\\\\nsamples = 9\\\\nvalue = [18, 0, 0, 0, 0, 0, 0]\", fillcolor=\"#e58139\"] ;\\n3598 -> 3604 ;\\n3605 [label=\"gini = 0.0\\\\nsamples = 1\\\\nvalue = [0, 0, 0, 0, 1, 0, 0]\", fillcolor=\"#3956e5\"] ;\\n3597 -> 3605 ;\\n3606 [label=\"valence <= 0.129\\\\ngini = 0.397\\\\nsamples = 7\\\\nvalue = [8, 0, 0, 0, 3, 0, 0]\", fillcolor=\"#efb083\"] ;\\n3594 -> 3606 ;\\n3607 [label=\"gini = 0.0\\\\nsamples = 4\\\\nvalue = [6, 0, 0, 0, 0, 0, 0]\", fillcolor=\"#e58139\"] ;\\n3606 -> 3607 ;\\n3608 [label=\"danceability <= 0.401\\\\ngini = 0.48\\\\nsamples = 3\\\\nvalue = [2, 0, 0, 0, 3, 0, 0]\", fillcolor=\"#bdc7f6\"] ;\\n3606 -> 3608 ;\\n3609 [label=\"gini = 0.0\\\\nsamples = 2\\\\nvalue = [2, 0, 0, 0, 0, 0, 0]\", fillcolor=\"#e58139\"] ;\\n3608 -> 3609 ;\\n3610 [label=\"gini = 0.0\\\\nsamples = 1\\\\nvalue = [0, 0, 0, 0, 3, 0, 0]\", fillcolor=\"#3956e5\"] ;\\n3608 -> 3610 ;\\n3611 [label=\"liveness <= 0.13\\\\ngini = 0.012\\\\nsamples = 100\\\\nvalue = [168, 0, 0, 0, 1, 0, 0]\", fillcolor=\"#e5823a\"] ;\\n3563 -> 3611 ;\\n3612 [label=\"gini = 0.0\\\\nsamples = 63\\\\nvalue = [106, 0, 0, 0, 0, 0, 0]\", fillcolor=\"#e58139\"] ;\\n3611 -> 3612 ;\\n3613 [label=\"energy <= 0.023\\\\ngini = 0.031\\\\nsamples = 37\\\\nvalue = [62, 0, 0, 0, 1, 0, 0]\", fillcolor=\"#e5833c\"] ;\\n3611 -> 3613 ;\\n3614 [label=\"loudness <= -23.375\\\\ngini = 0.278\\\\nsamples = 4\\\\nvalue = [5, 0, 0, 0, 1, 0, 0]\", fillcolor=\"#ea9a61\"] ;\\n3613 -> 3614 ;\\n3615 [label=\"gini = 0.0\\\\nsamples = 1\\\\nvalue = [0, 0, 0, 0, 1, 0, 0]\", fillcolor=\"#3956e5\"] ;\\n3614 -> 3615 ;\\n3616 [label=\"gini = 0.0\\\\nsamples = 3\\\\nvalue = [5, 0, 0, 0, 0, 0, 0]\", fillcolor=\"#e58139\"] ;\\n3614 -> 3616 ;\\n3617 [label=\"gini = 0.0\\\\nsamples = 33\\\\nvalue = [57, 0, 0, 0, 0, 0, 0]\", fillcolor=\"#e58139\"] ;\\n3613 -> 3617 ;\\n3618 [label=\"loudness <= -21.319\\\\ngini = 0.455\\\\nsamples = 75\\\\nvalue = [76, 0, 0, 0, 41, 0, 0]\", fillcolor=\"#f3c5a4\"] ;\\n3526 -> 3618 ;\\n3619 [label=\"danceability <= 0.666\\\\ngini = 0.281\\\\nsamples = 48\\\\nvalue = [64, 0, 0, 0, 13, 0, 0]\", fillcolor=\"#ea9b61\"] ;\\n3618 -> 3619 ;\\n3620 [label=\"liveness <= 0.357\\\\ngini = 0.185\\\\nsamples = 42\\\\nvalue = [61, 0, 0, 0, 7, 0, 0]\", fillcolor=\"#e88f50\"] ;\\n3619 -> 3620 ;\\n3621 [label=\"instrumentalness <= 0.033\\\\ngini = 0.14\\\\nsamples = 41\\\\nvalue = [61, 0, 0, 0, 5, 0, 0]\", fillcolor=\"#e78b49\"] ;\\n3620 -> 3621 ;\\n3622 [label=\"gini = 0.0\\\\nsamples = 1\\\\nvalue = [0, 0, 0, 0, 1, 0, 0]\", fillcolor=\"#3956e5\"] ;\\n3621 -> 3622 ;\\n3623 [label=\"valence <= 0.142\\\\ngini = 0.116\\\\nsamples = 40\\\\nvalue = [61, 0, 0, 0, 4, 0, 0]\", fillcolor=\"#e78946\"] ;\\n3621 -> 3623 ;\\n3624 [label=\"duration_ms <= 361737.25\\\\ngini = 0.36\\\\nsamples = 11\\\\nvalue = [13, 0, 0, 0, 4, 0, 0]\", fillcolor=\"#eda876\"] ;\\n3623 -> 3624 ;\\n3625 [label=\"gini = 0.0\\\\nsamples = 8\\\\nvalue = [12, 0, 0, 0, 0, 0, 0]\", fillcolor=\"#e58139\"] ;\\n3624 -> 3625 ;\\n3626 [label=\"tempo <= 99.648\\\\ngini = 0.32\\\\nsamples = 3\\\\nvalue = [1, 0, 0, 0, 4, 0, 0]\", fillcolor=\"#6a80ec\"] ;\\n3624 -> 3626 ;\\n3627 [label=\"gini = 0.0\\\\nsamples = 1\\\\nvalue = [1, 0, 0, 0, 0, 0, 0]\", fillcolor=\"#e58139\"] ;\\n3626 -> 3627 ;\\n3628 [label=\"gini = 0.0\\\\nsamples = 2\\\\nvalue = [0, 0, 0, 0, 4, 0, 0]\", fillcolor=\"#3956e5\"] ;\\n3626 -> 3628 ;\\n3629 [label=\"gini = 0.0\\\\nsamples = 29\\\\nvalue = [48, 0, 0, 0, 0, 0, 0]\", fillcolor=\"#e58139\"] ;\\n3623 -> 3629 ;\\n3630 [label=\"gini = 0.0\\\\nsamples = 1\\\\nvalue = [0, 0, 0, 0, 2, 0, 0]\", fillcolor=\"#3956e5\"] ;\\n3620 -> 3630 ;\\n3631 [label=\"speechiness <= 0.052\\\\ngini = 0.444\\\\nsamples = 6\\\\nvalue = [3, 0, 0, 0, 6, 0, 0]\", fillcolor=\"#9caaf2\"] ;\\n3619 -> 3631 ;\\n3632 [label=\"duration_ms <= 146803.527\\\\ngini = 0.375\\\\nsamples = 3\\\\nvalue = [3, 0, 0, 0, 1, 0, 0]\", fillcolor=\"#eeab7b\"] ;\\n3631 -> 3632 ;\\n3633 [label=\"gini = 0.0\\\\nsamples = 1\\\\nvalue = [0, 0, 0, 0, 1, 0, 0]\", fillcolor=\"#3956e5\"] ;\\n3632 -> 3633 ;\\n3634 [label=\"gini = 0.0\\\\nsamples = 2\\\\nvalue = [3, 0, 0, 0, 0, 0, 0]\", fillcolor=\"#e58139\"] ;\\n3632 -> 3634 ;\\n3635 [label=\"gini = 0.0\\\\nsamples = 3\\\\nvalue = [0, 0, 0, 0, 5, 0, 0]\", fillcolor=\"#3956e5\"] ;\\n3631 -> 3635 ;\\n3636 [label=\"danceability <= 0.537\\\\ngini = 0.42\\\\nsamples = 27\\\\nvalue = [12, 0, 0, 0, 28, 0, 0]\", fillcolor=\"#8e9ef0\"] ;\\n3618 -> 3636 ;\\n3637 [label=\"gini = 0.0\\\\nsamples = 2\\\\nvalue = [4, 0, 0, 0, 0, 0, 0]\", fillcolor=\"#e58139\"] ;\\n3636 -> 3637 ;\\n3638 [label=\"danceability <= 0.591\\\\ngini = 0.346\\\\nsamples = 25\\\\nvalue = [8, 0, 0, 0, 28, 0, 0]\", fillcolor=\"#7286ec\"] ;\\n3636 -> 3638 ;\\n3639 [label=\"loudness <= -20.591\\\\ngini = 0.18\\\\nsamples = 11\\\\nvalue = [2, 0, 0, 0, 18, 0, 0]\", fillcolor=\"#4f69e8\"] ;\\n3638 -> 3639 ;\\n3640 [label=\"gini = 0.0\\\\nsamples = 3\\\\nvalue = [0, 0, 0, 0, 7, 0, 0]\", fillcolor=\"#3956e5\"] ;\\n3639 -> 3640 ;\\n3641 [label=\"popularity <= 37.409\\\\ngini = 0.26\\\\nsamples = 8\\\\nvalue = [2, 0, 0, 0, 11, 0, 0]\", fillcolor=\"#5d75ea\"] ;\\n3639 -> 3641 ;\\n3642 [label=\"gini = 0.0\\\\nsamples = 2\\\\nvalue = [2, 0, 0, 0, 0, 0, 0]\", fillcolor=\"#e58139\"] ;\\n3641 -> 3642 ;\\n3643 [label=\"gini = 0.0\\\\nsamples = 6\\\\nvalue = [0, 0, 0, 0, 11, 0, 0]\", fillcolor=\"#3956e5\"] ;\\n3641 -> 3643 ;\\n3644 [label=\"danceability <= 0.697\\\\ngini = 0.469\\\\nsamples = 14\\\\nvalue = [6, 0, 0, 0, 10, 0, 0]\", fillcolor=\"#b0bbf5\"] ;\\n3638 -> 3644 ;\\n3645 [label=\"instrumentalness <= 0.0\\\\ngini = 0.48\\\\nsamples = 10\\\\nvalue = [6, 0, 0, 0, 4, 0, 0]\", fillcolor=\"#f6d5bd\"] ;\\n3644 -> 3645 ;\\n3646 [label=\"gini = 0.0\\\\nsamples = 2\\\\nvalue = [0, 0, 0, 0, 2, 0, 0]\", fillcolor=\"#3956e5\"] ;\\n3645 -> 3646 ;\\n3647 [label=\"loudness <= -20.686\\\\ngini = 0.375\\\\nsamples = 8\\\\nvalue = [6, 0, 0, 0, 2, 0, 0]\", fillcolor=\"#eeab7b\"] ;\\n3645 -> 3647 ;\\n3648 [label=\"gini = 0.0\\\\nsamples = 1\\\\nvalue = [0, 0, 0, 0, 1, 0, 0]\", fillcolor=\"#3956e5\"] ;\\n3647 -> 3648 ;\\n3649 [label=\"energy <= 0.098\\\\ngini = 0.245\\\\nsamples = 7\\\\nvalue = [6, 0, 0, 0, 1, 0, 0]\", fillcolor=\"#e9965a\"] ;\\n3647 -> 3649 ;\\n3650 [label=\"duration_ms <= 164007.723\\\\ngini = 0.444\\\\nsamples = 3\\\\nvalue = [2, 0, 0, 0, 1, 0, 0]\", fillcolor=\"#f2c09c\"] ;\\n3649 -> 3650 ;\\n3651 [label=\"gini = 0.0\\\\nsamples = 2\\\\nvalue = [2, 0, 0, 0, 0, 0, 0]\", fillcolor=\"#e58139\"] ;\\n3650 -> 3651 ;\\n3652 [label=\"gini = 0.0\\\\nsamples = 1\\\\nvalue = [0, 0, 0, 0, 1, 0, 0]\", fillcolor=\"#3956e5\"] ;\\n3650 -> 3652 ;\\n3653 [label=\"gini = 0.0\\\\nsamples = 4\\\\nvalue = [4, 0, 0, 0, 0, 0, 0]\", fillcolor=\"#e58139\"] ;\\n3649 -> 3653 ;\\n3654 [label=\"gini = 0.0\\\\nsamples = 4\\\\nvalue = [0, 0, 0, 0, 6, 0, 0]\", fillcolor=\"#3956e5\"] ;\\n3644 -> 3654 ;\\n3655 [label=\"tempo <= 74.654\\\\ngini = 0.503\\\\nsamples = 98\\\\nvalue = [108, 0, 0, 0, 36, 0, 20]\", fillcolor=\"#f0b890\"] ;\\n3503 -> 3655 ;\\n3656 [label=\"loudness <= -18.617\\\\ngini = 0.054\\\\nsamples = 23\\\\nvalue = [35, 0, 0, 0, 0, 0, 1]\", fillcolor=\"#e6853f\"] ;\\n3655 -> 3656 ;\\n3657 [label=\"gini = 0.0\\\\nsamples = 22\\\\nvalue = [35, 0, 0, 0, 0, 0, 0]\", fillcolor=\"#e58139\"] ;\\n3656 -> 3657 ;\\n3658 [label=\"gini = 0.0\\\\nsamples = 1\\\\nvalue = [0, 0, 0, 0, 0, 0, 1]\", fillcolor=\"#e53986\"] ;\\n3656 -> 3658 ;\\n3659 [label=\"danceability <= 0.388\\\\ngini = 0.574\\\\nsamples = 75\\\\nvalue = [73, 0, 0, 0, 36, 0, 19]\", fillcolor=\"#f5ccaf\"] ;\\n3655 -> 3659 ;\\n3660 [label=\"instrumentalness <= 1.018\\\\ngini = 0.298\\\\nsamples = 44\\\\nvalue = [63, 0, 0, 0, 6, 0, 7]\", fillcolor=\"#ea995e\"] ;\\n3659 -> 3660 ;\\n3661 [label=\"liveness <= 0.152\\\\ngini = 0.226\\\\nsamples = 42\\\\nvalue = [63, 0, 0, 0, 6, 0, 3]\", fillcolor=\"#e99254\"] ;\\n3660 -> 3661 ;\\n3662 [label=\"instrumentalness <= 0.129\\\\ngini = 0.124\\\\nsamples = 35\\\\nvalue = [57, 0, 0, 0, 1, 0, 3]\", fillcolor=\"#e78a47\"] ;\\n3661 -> 3662 ;\\n3663 [label=\"gini = 0.0\\\\nsamples = 1\\\\nvalue = [0, 0, 0, 0, 0, 0, 2]\", fillcolor=\"#e53986\"] ;\\n3662 -> 3663 ;\\n3664 [label=\"acousticness <= 1.042\\\\ngini = 0.066\\\\nsamples = 34\\\\nvalue = [57, 0, 0, 0, 1, 0, 1]\", fillcolor=\"#e68540\"] ;\\n3662 -> 3664 ;\\n3665 [label=\"tempo <= 75.25\\\\ngini = 0.15\\\\nsamples = 14\\\\nvalue = [23, 0, 0, 0, 1, 0, 1]\", fillcolor=\"#e78c49\"] ;\\n3664 -> 3665 ;\\n3666 [label=\"gini = 0.0\\\\nsamples = 1\\\\nvalue = [0, 0, 0, 0, 0, 0, 1]\", fillcolor=\"#e53986\"] ;\\n3665 -> 3666 ;\\n3667 [label=\"energy <= 0.013\\\\ngini = 0.08\\\\nsamples = 13\\\\nvalue = [23, 0, 0, 0, 1, 0, 0]\", fillcolor=\"#e68642\"] ;\\n3665 -> 3667 ;\\n3668 [label=\"gini = 0.0\\\\nsamples = 1\\\\nvalue = [0, 0, 0, 0, 1, 0, 0]\", fillcolor=\"#3956e5\"] ;\\n3667 -> 3668 ;\\n3669 [label=\"gini = 0.0\\\\nsamples = 12\\\\nvalue = [23, 0, 0, 0, 0, 0, 0]\", fillcolor=\"#e58139\"] ;\\n3667 -> 3669 ;\\n3670 [label=\"gini = 0.0\\\\nsamples = 20\\\\nvalue = [34, 0, 0, 0, 0, 0, 0]\", fillcolor=\"#e58139\"] ;\\n3664 -> 3670 ;\\n3671 [label=\"speechiness <= 0.053\\\\ngini = 0.496\\\\nsamples = 7\\\\nvalue = [6, 0, 0, 0, 5, 0, 0]\", fillcolor=\"#fbeade\"] ;\\n3661 -> 3671 ;\\n3672 [label=\"energy <= 0.031\\\\ngini = 0.494\\\\nsamples = 6\\\\nvalue = [4, 0, 0, 0, 5, 0, 0]\", fillcolor=\"#d7ddfa\"] ;\\n3671 -> 3672 ;\\n3673 [label=\"gini = 0.0\\\\nsamples = 2\\\\nvalue = [3, 0, 0, 0, 0, 0, 0]\", fillcolor=\"#e58139\"] ;\\n3672 -> 3673 ;\\n3674 [label=\"instrumentalness <= 0.004\\\\ngini = 0.278\\\\nsamples = 4\\\\nvalue = [1, 0, 0, 0, 5, 0, 0]\", fillcolor=\"#6178ea\"] ;\\n3672 -> 3674 ;\\n3675 [label=\"gini = 0.0\\\\nsamples = 1\\\\nvalue = [1, 0, 0, 0, 0, 0, 0]\", fillcolor=\"#e58139\"] ;\\n3674 -> 3675 ;\\n3676 [label=\"gini = 0.0\\\\nsamples = 3\\\\nvalue = [0, 0, 0, 0, 5, 0, 0]\", fillcolor=\"#3956e5\"] ;\\n3674 -> 3676 ;\\n3677 [label=\"gini = 0.0\\\\nsamples = 1\\\\nvalue = [2, 0, 0, 0, 0, 0, 0]\", fillcolor=\"#e58139\"] ;\\n3671 -> 3677 ;\\n3678 [label=\"gini = 0.0\\\\nsamples = 2\\\\nvalue = [0, 0, 0, 0, 0, 0, 4]\", fillcolor=\"#e53986\"] ;\\n3660 -> 3678 ;\\n3679 [label=\"duration_ms <= 142609.73\\\\ngini = 0.577\\\\nsamples = 31\\\\nvalue = [10, 0, 0, 0, 30, 0, 12]\", fillcolor=\"#a6b3f3\"] ;\\n3659 -> 3679 ;\\n3680 [label=\"tempo <= 103.532\\\\ngini = 0.198\\\\nsamples = 7\\\\nvalue = [8, 0, 0, 0, 1, 0, 0]\", fillcolor=\"#e89152\"] ;\\n3679 -> 3680 ;\\n3681 [label=\"instrumentalness <= 0.977\\\\ngini = 0.375\\\\nsamples = 3\\\\nvalue = [3, 0, 0, 0, 1, 0, 0]\", fillcolor=\"#eeab7b\"] ;\\n3680 -> 3681 ;\\n3682 [label=\"gini = 0.0\\\\nsamples = 1\\\\nvalue = [0, 0, 0, 0, 1, 0, 0]\", fillcolor=\"#3956e5\"] ;\\n3681 -> 3682 ;\\n3683 [label=\"gini = 0.0\\\\nsamples = 2\\\\nvalue = [3, 0, 0, 0, 0, 0, 0]\", fillcolor=\"#e58139\"] ;\\n3681 -> 3683 ;\\n3684 [label=\"gini = 0.0\\\\nsamples = 4\\\\nvalue = [5, 0, 0, 0, 0, 0, 0]\", fillcolor=\"#e58139\"] ;\\n3680 -> 3684 ;\\n3685 [label=\"energy <= 0.157\\\\ngini = 0.465\\\\nsamples = 24\\\\nvalue = [2, 0, 0, 0, 29, 0, 12]\", fillcolor=\"#92a2f1\"] ;\\n3679 -> 3685 ;\\n3686 [label=\"tempo <= 153.54\\\\ngini = 0.268\\\\nsamples = 18\\\\nvalue = [2, 0, 0, 0, 28, 0, 3]\", fillcolor=\"#5a72e9\"] ;\\n3685 -> 3686 ;\\n3687 [label=\"liveness <= 0.128\\\\ngini = 0.227\\\\nsamples = 17\\\\nvalue = [2, 0, 0, 0, 28, 0, 2]\", fillcolor=\"#536de8\"] ;\\n3686 -> 3687 ;\\n3688 [label=\"popularity <= 53.108\\\\ngini = 0.137\\\\nsamples = 13\\\\nvalue = [2, 0, 0, 0, 25, 0, 0]\", fillcolor=\"#4964e7\"] ;\\n3687 -> 3688 ;\\n3689 [label=\"gini = 0.0\\\\nsamples = 4\\\\nvalue = [0, 0, 0, 0, 9, 0, 0]\", fillcolor=\"#3956e5\"] ;\\n3688 -> 3689 ;\\n3690 [label=\"valence <= 0.086\\\\ngini = 0.198\\\\nsamples = 9\\\\nvalue = [2, 0, 0, 0, 16, 0, 0]\", fillcolor=\"#526be8\"] ;\\n3688 -> 3690 ;\\n3691 [label=\"gini = 0.0\\\\nsamples = 2\\\\nvalue = [2, 0, 0, 0, 0, 0, 0]\", fillcolor=\"#e58139\"] ;\\n3690 -> 3691 ;\\n3692 [label=\"gini = 0.0\\\\nsamples = 7\\\\nvalue = [0, 0, 0, 0, 16, 0, 0]\", fillcolor=\"#3956e5\"] ;\\n3690 -> 3692 ;\\n3693 [label=\"acousticness <= 1.055\\\\ngini = 0.48\\\\nsamples = 4\\\\nvalue = [0, 0, 0, 0, 3, 0, 2]\", fillcolor=\"#bdc7f6\"] ;\\n3687 -> 3693 ;\\n3694 [label=\"gini = 0.0\\\\nsamples = 3\\\\nvalue = [0, 0, 0, 0, 3, 0, 0]\", fillcolor=\"#3956e5\"] ;\\n3693 -> 3694 ;\\n3695 [label=\"gini = 0.0\\\\nsamples = 1\\\\nvalue = [0, 0, 0, 0, 0, 0, 2]\", fillcolor=\"#e53986\"] ;\\n3693 -> 3695 ;\\n3696 [label=\"gini = 0.0\\\\nsamples = 1\\\\nvalue = [0, 0, 0, 0, 0, 0, 1]\", fillcolor=\"#e53986\"] ;\\n3686 -> 3696 ;\\n3697 [label=\"speechiness <= 0.035\\\\ngini = 0.18\\\\nsamples = 6\\\\nvalue = [0, 0, 0, 0, 1, 0, 9]\", fillcolor=\"#e84f93\"] ;\\n3685 -> 3697 ;\\n3698 [label=\"gini = 0.0\\\\nsamples = 3\\\\nvalue = [0, 0, 0, 0, 0, 0, 7]\", fillcolor=\"#e53986\"] ;\\n3697 -> 3698 ;\\n3699 [label=\"loudness <= -17.628\\\\ngini = 0.444\\\\nsamples = 3\\\\nvalue = [0, 0, 0, 0, 1, 0, 2]\", fillcolor=\"#f29cc2\"] ;\\n3697 -> 3699 ;\\n3700 [label=\"gini = 0.0\\\\nsamples = 2\\\\nvalue = [0, 0, 0, 0, 0, 0, 2]\", fillcolor=\"#e53986\"] ;\\n3699 -> 3700 ;\\n3701 [label=\"gini = 0.0\\\\nsamples = 1\\\\nvalue = [0, 0, 0, 0, 1, 0, 0]\", fillcolor=\"#3956e5\"] ;\\n3699 -> 3701 ;\\n3702 [label=\"instrumentalness <= 0.864\\\\ngini = 0.558\\\\nsamples = 325\\\\nvalue = [289, 15, 0, 0, 164, 2, 33]\", fillcolor=\"#f5d1b6\"] ;\\n3502 -> 3702 ;\\n3703 [label=\"acousticness <= 1.034\\\\ngini = 0.632\\\\nsamples = 196\\\\nvalue = [134, 15, 0, 0, 114, 0, 33]\", fillcolor=\"#fcf1e9\"] ;\\n3702 -> 3703 ;\\n3704 [label=\"energy <= 0.227\\\\ngini = 0.676\\\\nsamples = 122\\\\nvalue = [65, 15, 0, 0, 77, 0, 29]\", fillcolor=\"#ebeefc\"] ;\\n3703 -> 3704 ;\\n3705 [label=\"danceability <= 0.709\\\\ngini = 0.606\\\\nsamples = 58\\\\nvalue = [16, 9, 0, 0, 50, 0, 12]\", fillcolor=\"#a0aef3\"] ;\\n3704 -> 3705 ;\\n3706 [label=\"valence <= 0.397\\\\ngini = 0.561\\\\nsamples = 54\\\\nvalue = [16, 3, 0, 0, 49, 0, 12]\", fillcolor=\"#99a8f2\"] ;\\n3705 -> 3706 ;\\n3707 [label=\"acousticness <= 0.973\\\\ngini = 0.46\\\\nsamples = 42\\\\nvalue = [10, 2, 0, 0, 44, 0, 6]\", fillcolor=\"#7e90ee\"] ;\\n3706 -> 3707 ;\\n3708 [label=\"danceability <= 0.433\\\\ngini = 0.278\\\\nsamples = 5\\\\nvalue = [5, 0, 0, 0, 1, 0, 0]\", fillcolor=\"#ea9a61\"] ;\\n3707 -> 3708 ;\\n3709 [label=\"gini = 0.0\\\\nsamples = 4\\\\nvalue = [5, 0, 0, 0, 0, 0, 0]\", fillcolor=\"#e58139\"] ;\\n3708 -> 3709 ;\\n3710 [label=\"gini = 0.0\\\\nsamples = 1\\\\nvalue = [0, 0, 0, 0, 1, 0, 0]\", fillcolor=\"#3956e5\"] ;\\n3708 -> 3710 ;\\n3711 [label=\"valence <= 0.081\\\\ngini = 0.39\\\\nsamples = 37\\\\nvalue = [5, 2, 0, 0, 43, 0, 6]\", fillcolor=\"#6c82ec\"] ;\\n3707 -> 3711 ;\\n3712 [label=\"duration_ms <= 462561.797\\\\ngini = 0.48\\\\nsamples = 4\\\\nvalue = [2, 0, 0, 0, 0, 0, 3]\", fillcolor=\"#f6bdd7\"] ;\\n3711 -> 3712 ;\\n3713 [label=\"gini = 0.0\\\\nsamples = 2\\\\nvalue = [0, 0, 0, 0, 0, 0, 3]\", fillcolor=\"#e53986\"] ;\\n3712 -> 3713 ;\\n3714 [label=\"gini = 0.0\\\\nsamples = 2\\\\nvalue = [2, 0, 0, 0, 0, 0, 0]\", fillcolor=\"#e58139\"] ;\\n3712 -> 3714 ;\\n3715 [label=\"speechiness <= 0.091\\\\ngini = 0.281\\\\nsamples = 33\\\\nvalue = [3, 2, 0, 0, 43, 0, 3]\", fillcolor=\"#5a72e9\"] ;\\n3711 -> 3715 ;\\n3716 [label=\"duration_ms <= 74377.695\\\\ngini = 0.254\\\\nsamples = 32\\\\nvalue = [2, 2, 0, 0, 43, 0, 3]\", fillcolor=\"#566fe9\"] ;\\n3715 -> 3716 ;\\n3717 [label=\"instrumentalness <= 0.004\\\\ngini = 0.444\\\\nsamples = 2\\\\nvalue = [0, 0, 0, 0, 1, 0, 2]\", fillcolor=\"#f29cc2\"] ;\\n3716 -> 3717 ;\\n3718 [label=\"gini = 0.0\\\\nsamples = 1\\\\nvalue = [0, 0, 0, 0, 0, 0, 2]\", fillcolor=\"#e53986\"] ;\\n3717 -> 3718 ;\\n3719 [label=\"gini = 0.0\\\\nsamples = 1\\\\nvalue = [0, 0, 0, 0, 1, 0, 0]\", fillcolor=\"#3956e5\"] ;\\n3717 -> 3719 ;\\n3720 [label=\"acousticness <= 1.027\\\\ngini = 0.197\\\\nsamples = 30\\\\nvalue = [2, 2, 0, 0, 42, 0, 1]\", fillcolor=\"#4f69e8\"] ;\\n3716 -> 3720 ;\\n3721 [label=\"speechiness <= 0.039\\\\ngini = 0.135\\\\nsamples = 27\\\\nvalue = [2, 0, 0, 0, 39, 0, 1]\", fillcolor=\"#4863e7\"] ;\\n3720 -> 3721 ;\\n3722 [label=\"popularity <= 58.743\\\\ngini = 0.077\\\\nsamples = 15\\\\nvalue = [0, 0, 0, 0, 24, 0, 1]\", fillcolor=\"#415de6\"] ;\\n3721 -> 3722 ;\\n3723 [label=\"gini = 0.0\\\\nsamples = 13\\\\nvalue = [0, 0, 0, 0, 22, 0, 0]\", fillcolor=\"#3956e5\"] ;\\n3722 -> 3723 ;\\n3724 [label=\"speechiness <= 0.037\\\\ngini = 0.444\\\\nsamples = 2\\\\nvalue = [0, 0, 0, 0, 2, 0, 1]\", fillcolor=\"#9caaf2\"] ;\\n3722 -> 3724 ;\\n3725 [label=\"gini = 0.0\\\\nsamples = 1\\\\nvalue = [0, 0, 0, 0, 0, 0, 1]\", fillcolor=\"#e53986\"] ;\\n3724 -> 3725 ;\\n3726 [label=\"gini = 0.0\\\\nsamples = 1\\\\nvalue = [0, 0, 0, 0, 2, 0, 0]\", fillcolor=\"#3956e5\"] ;\\n3724 -> 3726 ;\\n3727 [label=\"acousticness <= 1.007\\\\ngini = 0.208\\\\nsamples = 12\\\\nvalue = [2, 0, 0, 0, 15, 0, 0]\", fillcolor=\"#536de8\"] ;\\n3721 -> 3727 ;\\n3728 [label=\"gini = 0.0\\\\nsamples = 8\\\\nvalue = [0, 0, 0, 0, 13, 0, 0]\", fillcolor=\"#3956e5\"] ;\\n3727 -> 3728 ;\\n3729 [label=\"duration_ms <= 271517.094\\\\ngini = 0.5\\\\nsamples = 4\\\\nvalue = [2, 0, 0, 0, 2, 0, 0]\", fillcolor=\"#ffffff\"] ;\\n3727 -> 3729 ;\\n3730 [label=\"gini = 0.0\\\\nsamples = 2\\\\nvalue = [0, 0, 0, 0, 2, 0, 0]\", fillcolor=\"#3956e5\"] ;\\n3729 -> 3730 ;\\n3731 [label=\"gini = 0.0\\\\nsamples = 2\\\\nvalue = [2, 0, 0, 0, 0, 0, 0]\", fillcolor=\"#e58139\"] ;\\n3729 -> 3731 ;\\n3732 [label=\"energy <= 0.128\\\\ngini = 0.48\\\\nsamples = 3\\\\nvalue = [0, 2, 0, 0, 3, 0, 0]\", fillcolor=\"#bdc7f6\"] ;\\n3720 -> 3732 ;\\n3733 [label=\"gini = 0.0\\\\nsamples = 2\\\\nvalue = [0, 0, 0, 0, 3, 0, 0]\", fillcolor=\"#3956e5\"] ;\\n3732 -> 3733 ;\\n3734 [label=\"gini = 0.0\\\\nsamples = 1\\\\nvalue = [0, 2, 0, 0, 0, 0, 0]\", fillcolor=\"#b7e539\"] ;\\n3732 -> 3734 ;\\n3735 [label=\"gini = 0.0\\\\nsamples = 1\\\\nvalue = [1, 0, 0, 0, 0, 0, 0]\", fillcolor=\"#e58139\"] ;\\n3715 -> 3735 ;\\n3736 [label=\"speechiness <= 0.045\\\\ngini = 0.698\\\\nsamples = 12\\\\nvalue = [6, 1, 0, 0, 5, 0, 6]\", fillcolor=\"#ffffff\"] ;\\n3706 -> 3736 ;\\n3737 [label=\"duration_ms <= 191196.039\\\\ngini = 0.406\\\\nsamples = 6\\\\nvalue = [0, 1, 0, 0, 1, 0, 6]\", fillcolor=\"#ec72a9\"] ;\\n3736 -> 3737 ;\\n3738 [label=\"gini = 0.0\\\\nsamples = 1\\\\nvalue = [0, 0, 0, 0, 1, 0, 0]\", fillcolor=\"#3956e5\"] ;\\n3737 -> 3738 ;\\n3739 [label=\"popularity <= 48.571\\\\ngini = 0.245\\\\nsamples = 5\\\\nvalue = [0, 1, 0, 0, 0, 0, 6]\", fillcolor=\"#e95a9a\"] ;\\n3737 -> 3739 ;\\n3740 [label=\"gini = 0.0\\\\nsamples = 1\\\\nvalue = [0, 1, 0, 0, 0, 0, 0]\", fillcolor=\"#b7e539\"] ;\\n3739 -> 3740 ;\\n3741 [label=\"gini = 0.0\\\\nsamples = 4\\\\nvalue = [0, 0, 0, 0, 0, 0, 6]\", fillcolor=\"#e53986\"] ;\\n3739 -> 3741 ;\\n3742 [label=\"energy <= 0.159\\\\ngini = 0.48\\\\nsamples = 6\\\\nvalue = [6, 0, 0, 0, 4, 0, 0]\", fillcolor=\"#f6d5bd\"] ;\\n3736 -> 3742 ;\\n3743 [label=\"gini = 0.0\\\\nsamples = 3\\\\nvalue = [6, 0, 0, 0, 0, 0, 0]\", fillcolor=\"#e58139\"] ;\\n3742 -> 3743 ;\\n3744 [label=\"gini = 0.0\\\\nsamples = 3\\\\nvalue = [0, 0, 0, 0, 4, 0, 0]\", fillcolor=\"#3956e5\"] ;\\n3742 -> 3744 ;\\n3745 [label=\"instrumentalness <= 0.329\\\\ngini = 0.245\\\\nsamples = 4\\\\nvalue = [0, 6, 0, 0, 1, 0, 0]\", fillcolor=\"#c3e95a\"] ;\\n3705 -> 3745 ;\\n3746 [label=\"gini = 0.0\\\\nsamples = 3\\\\nvalue = [0, 6, 0, 0, 0, 0, 0]\", fillcolor=\"#b7e539\"] ;\\n3745 -> 3746 ;\\n3747 [label=\"gini = 0.0\\\\nsamples = 1\\\\nvalue = [0, 0, 0, 0, 1, 0, 0]\", fillcolor=\"#3956e5\"] ;\\n3745 -> 3747 ;\\n3748 [label=\"tempo <= 134.202\\\\ngini = 0.647\\\\nsamples = 64\\\\nvalue = [49, 6, 0, 0, 27, 0, 17]\", fillcolor=\"#f7d8c2\"] ;\\n3704 -> 3748 ;\\n3749 [label=\"valence <= 0.309\\\\ngini = 0.587\\\\nsamples = 52\\\\nvalue = [47, 6, 0, 0, 20, 0, 8]\", fillcolor=\"#f3c7a7\"] ;\\n3748 -> 3749 ;\\n3750 [label=\"liveness <= 0.341\\\\ngini = 0.061\\\\nsamples = 20\\\\nvalue = [31, 0, 0, 0, 1, 0, 0]\", fillcolor=\"#e6853f\"] ;\\n3749 -> 3750 ;\\n3751 [label=\"gini = 0.0\\\\nsamples = 18\\\\nvalue = [30, 0, 0, 0, 0, 0, 0]\", fillcolor=\"#e58139\"] ;\\n3750 -> 3751 ;\\n3752 [label=\"instrumentalness <= 0.368\\\\ngini = 0.5\\\\nsamples = 2\\\\nvalue = [1, 0, 0, 0, 1, 0, 0]\", fillcolor=\"#ffffff\"] ;\\n3750 -> 3752 ;\\n3753 [label=\"gini = 0.0\\\\nsamples = 1\\\\nvalue = [1, 0, 0, 0, 0, 0, 0]\", fillcolor=\"#e58139\"] ;\\n3752 -> 3753 ;\\n3754 [label=\"gini = 0.0\\\\nsamples = 1\\\\nvalue = [0, 0, 0, 0, 1, 0, 0]\", fillcolor=\"#3956e5\"] ;\\n3752 -> 3754 ;\\n3755 [label=\"speechiness <= 0.036\\\\ngini = 0.701\\\\nsamples = 32\\\\nvalue = [16, 6, 0, 0, 19, 0, 8]\", fillcolor=\"#edf0fd\"] ;\\n3749 -> 3755 ;\\n3756 [label=\"acousticness <= 1.01\\\\ngini = 0.64\\\\nsamples = 10\\\\nvalue = [0, 6, 0, 0, 3, 0, 6]\", fillcolor=\"#ffffff\"] ;\\n3755 -> 3756 ;\\n3757 [label=\"loudness <= -13.469\\\\ngini = 0.595\\\\nsamples = 8\\\\nvalue = [0, 6, 0, 0, 3, 0, 2]\", fillcolor=\"#e4f5b5\"] ;\\n3756 -> 3757 ;\\n3758 [label=\"gini = 0.0\\\\nsamples = 2\\\\nvalue = [0, 0, 0, 0, 2, 0, 0]\", fillcolor=\"#3956e5\"] ;\\n3757 -> 3758 ;\\n3759 [label=\"danceability <= 0.588\\\\ngini = 0.494\\\\nsamples = 6\\\\nvalue = [0, 6, 0, 0, 1, 0, 2]\", fillcolor=\"#d6f08e\"] ;\\n3757 -> 3759 ;\\n3760 [label=\"popularity <= 53.783\\\\ngini = 0.245\\\\nsamples = 4\\\\nvalue = [0, 6, 0, 0, 0, 0, 1]\", fillcolor=\"#c3e95a\"] ;\\n3759 -> 3760 ;\\n3761 [label=\"gini = 0.0\\\\nsamples = 3\\\\nvalue = [0, 6, 0, 0, 0, 0, 0]\", fillcolor=\"#b7e539\"] ;\\n3760 -> 3761 ;\\n3762 [label=\"gini = 0.0\\\\nsamples = 1\\\\nvalue = [0, 0, 0, 0, 0, 0, 1]\", fillcolor=\"#e53986\"] ;\\n3760 -> 3762 ;\\n3763 [label=\"liveness <= 0.152\\\\ngini = 0.5\\\\nsamples = 2\\\\nvalue = [0, 0, 0, 0, 1, 0, 1]\", fillcolor=\"#ffffff\"] ;\\n3759 -> 3763 ;\\n3764 [label=\"gini = 0.0\\\\nsamples = 1\\\\nvalue = [0, 0, 0, 0, 0, 0, 1]\", fillcolor=\"#e53986\"] ;\\n3763 -> 3764 ;\\n3765 [label=\"gini = 0.0\\\\nsamples = 1\\\\nvalue = [0, 0, 0, 0, 1, 0, 0]\", fillcolor=\"#3956e5\"] ;\\n3763 -> 3765 ;\\n3766 [label=\"gini = 0.0\\\\nsamples = 2\\\\nvalue = [0, 0, 0, 0, 0, 0, 4]\", fillcolor=\"#e53986\"] ;\\n3756 -> 3766 ;\\n3767 [label=\"popularity <= 67.796\\\\ngini = 0.554\\\\nsamples = 22\\\\nvalue = [16, 0, 0, 0, 16, 0, 2]\", fillcolor=\"#ffffff\"] ;\\n3755 -> 3767 ;\\n3768 [label=\"liveness <= 0.087\\\\ngini = 0.5\\\\nsamples = 21\\\\nvalue = [16, 0, 0, 0, 16, 0, 0]\", fillcolor=\"#ffffff\"] ;\\n3767 -> 3768 ;\\n3769 [label=\"valence <= 0.391\\\\ngini = 0.298\\\\nsamples = 7\\\\nvalue = [9, 0, 0, 0, 2, 0, 0]\", fillcolor=\"#eb9d65\"] ;\\n3768 -> 3769 ;\\n3770 [label=\"gini = 0.0\\\\nsamples = 1\\\\nvalue = [0, 0, 0, 0, 1, 0, 0]\", fillcolor=\"#3956e5\"] ;\\n3769 -> 3770 ;\\n3771 [label=\"speechiness <= 0.197\\\\ngini = 0.18\\\\nsamples = 6\\\\nvalue = [9, 0, 0, 0, 1, 0, 0]\", fillcolor=\"#e88f4f\"] ;\\n3769 -> 3771 ;\\n3772 [label=\"gini = 0.0\\\\nsamples = 5\\\\nvalue = [9, 0, 0, 0, 0, 0, 0]\", fillcolor=\"#e58139\"] ;\\n3771 -> 3772 ;\\n3773 [label=\"gini = 0.0\\\\nsamples = 1\\\\nvalue = [0, 0, 0, 0, 1, 0, 0]\", fillcolor=\"#3956e5\"] ;\\n3771 -> 3773 ;\\n3774 [label=\"liveness <= 0.281\\\\ngini = 0.444\\\\nsamples = 14\\\\nvalue = [7, 0, 0, 0, 14, 0, 0]\", fillcolor=\"#9caaf2\"] ;\\n3768 -> 3774 ;\\n3775 [label=\"instrumentalness <= 0.0\\\\ngini = 0.165\\\\nsamples = 7\\\\nvalue = [1, 0, 0, 0, 10, 0, 0]\", fillcolor=\"#4d67e8\"] ;\\n3774 -> 3775 ;\\n3776 [label=\"danceability <= 0.73\\\\ngini = 0.375\\\\nsamples = 3\\\\nvalue = [1, 0, 0, 0, 3, 0, 0]\", fillcolor=\"#7b8eee\"] ;\\n3775 -> 3776 ;\\n3777 [label=\"gini = 0.0\\\\nsamples = 2\\\\nvalue = [0, 0, 0, 0, 3, 0, 0]\", fillcolor=\"#3956e5\"] ;\\n3776 -> 3777 ;\\n3778 [label=\"gini = 0.0\\\\nsamples = 1\\\\nvalue = [1, 0, 0, 0, 0, 0, 0]\", fillcolor=\"#e58139\"] ;\\n3776 -> 3778 ;\\n3779 [label=\"gini = 0.0\\\\nsamples = 4\\\\nvalue = [0, 0, 0, 0, 7, 0, 0]\", fillcolor=\"#3956e5\"] ;\\n3775 -> 3779 ;\\n3780 [label=\"speechiness <= 0.3\\\\ngini = 0.48\\\\nsamples = 7\\\\nvalue = [6, 0, 0, 0, 4, 0, 0]\", fillcolor=\"#f6d5bd\"] ;\\n3774 -> 3780 ;\\n3781 [label=\"gini = 0.0\\\\nsamples = 4\\\\nvalue = [6, 0, 0, 0, 0, 0, 0]\", fillcolor=\"#e58139\"] ;\\n3780 -> 3781 ;\\n3782 [label=\"gini = 0.0\\\\nsamples = 3\\\\nvalue = [0, 0, 0, 0, 4, 0, 0]\", fillcolor=\"#3956e5\"] ;\\n3780 -> 3782 ;\\n3783 [label=\"gini = 0.0\\\\nsamples = 1\\\\nvalue = [0, 0, 0, 0, 0, 0, 2]\", fillcolor=\"#e53986\"] ;\\n3767 -> 3783 ;\\n3784 [label=\"acousticness <= 0.999\\\\ngini = 0.586\\\\nsamples = 12\\\\nvalue = [2, 0, 0, 0, 7, 0, 9]\", fillcolor=\"#fadbe9\"] ;\\n3748 -> 3784 ;\\n3785 [label=\"acousticness <= 0.978\\\\ngini = 0.298\\\\nsamples = 7\\\\nvalue = [2, 0, 0, 0, 0, 0, 9]\", fillcolor=\"#eb65a1\"] ;\\n3784 -> 3785 ;\\n3786 [label=\"gini = 0.0\\\\nsamples = 2\\\\nvalue = [2, 0, 0, 0, 0, 0, 0]\", fillcolor=\"#e58139\"] ;\\n3785 -> 3786 ;\\n3787 [label=\"gini = 0.0\\\\nsamples = 5\\\\nvalue = [0, 0, 0, 0, 0, 0, 9]\", fillcolor=\"#e53986\"] ;\\n3785 -> 3787 ;\\n3788 [label=\"gini = 0.0\\\\nsamples = 5\\\\nvalue = [0, 0, 0, 0, 7, 0, 0]\", fillcolor=\"#3956e5\"] ;\\n3784 -> 3788 ;\\n3789 [label=\"danceability <= 0.61\\\\ngini = 0.492\\\\nsamples = 74\\\\nvalue = [69, 0, 0, 0, 37, 0, 4]\", fillcolor=\"#f4c8a8\"] ;\\n3703 -> 3789 ;\\n3790 [label=\"valence <= 0.334\\\\ngini = 0.433\\\\nsamples = 62\\\\nvalue = [64, 0, 0, 0, 22, 0, 4]\", fillcolor=\"#efb185\"] ;\\n3789 -> 3790 ;\\n3791 [label=\"popularity <= 40.537\\\\ngini = 0.497\\\\nsamples = 45\\\\nvalue = [38, 0, 0, 0, 22, 0, 2]\", fillcolor=\"#f5cdb0\"] ;\\n3790 -> 3791 ;\\n3792 [label=\"danceability <= 0.455\\\\ngini = 0.062\\\\nsamples = 25\\\\nvalue = [30, 0, 0, 0, 1, 0, 0]\", fillcolor=\"#e68540\"] ;\\n3791 -> 3792 ;\\n3793 [label=\"gini = 0.0\\\\nsamples = 24\\\\nvalue = [30, 0, 0, 0, 0, 0, 0]\", fillcolor=\"#e58139\"] ;\\n3792 -> 3793 ;\\n3794 [label=\"gini = 0.0\\\\nsamples = 1\\\\nvalue = [0, 0, 0, 0, 1, 0, 0]\", fillcolor=\"#3956e5\"] ;\\n3792 -> 3794 ;\\n3795 [label=\"valence <= 0.104\\\\ngini = 0.47\\\\nsamples = 20\\\\nvalue = [8, 0, 0, 0, 21, 0, 2]\", fillcolor=\"#8f9ff0\"] ;\\n3791 -> 3795 ;\\n3796 [label=\"gini = 0.0\\\\nsamples = 3\\\\nvalue = [4, 0, 0, 0, 0, 0, 0]\", fillcolor=\"#e58139\"] ;\\n3795 -> 3796 ;\\n3797 [label=\"valence <= 0.221\\\\ngini = 0.368\\\\nsamples = 17\\\\nvalue = [4, 0, 0, 0, 21, 0, 2]\", fillcolor=\"#6d82ec\"] ;\\n3795 -> 3797 ;\\n3798 [label=\"instrumentalness <= 0.0\\\\ngini = 0.592\\\\nsamples = 10\\\\nvalue = [4, 0, 0, 0, 7, 0, 2]\", fillcolor=\"#bdc7f6\"] ;\\n3797 -> 3798 ;\\n3799 [label=\"gini = 0.0\\\\nsamples = 1\\\\nvalue = [1, 0, 0, 0, 0, 0, 0]\", fillcolor=\"#e58139\"] ;\\n3798 -> 3799 ;\\n3800 [label=\"valence <= 0.166\\\\ngini = 0.569\\\\nsamples = 9\\\\nvalue = [3, 0, 0, 0, 7, 0, 2]\", fillcolor=\"#a7b4f3\"] ;\\n3798 -> 3800 ;\\n3801 [label=\"gini = 0.0\\\\nsamples = 4\\\\nvalue = [0, 0, 0, 0, 6, 0, 0]\", fillcolor=\"#3956e5\"] ;\\n3800 -> 3801 ;\\n3802 [label=\"valence <= 0.205\\\\ngini = 0.611\\\\nsamples = 5\\\\nvalue = [3, 0, 0, 0, 1, 0, 2]\", fillcolor=\"#f8e0ce\"] ;\\n3800 -> 3802 ;\\n3803 [label=\"gini = 0.0\\\\nsamples = 3\\\\nvalue = [3, 0, 0, 0, 0, 0, 0]\", fillcolor=\"#e58139\"] ;\\n3802 -> 3803 ;\\n3804 [label=\"speechiness <= 0.054\\\\ngini = 0.444\\\\nsamples = 2\\\\nvalue = [0, 0, 0, 0, 1, 0, 2]\", fillcolor=\"#f29cc2\"] ;\\n3802 -> 3804 ;\\n3805 [label=\"gini = 0.0\\\\nsamples = 1\\\\nvalue = [0, 0, 0, 0, 0, 0, 2]\", fillcolor=\"#e53986\"] ;\\n3804 -> 3805 ;\\n3806 [label=\"gini = 0.0\\\\nsamples = 1\\\\nvalue = [0, 0, 0, 0, 1, 0, 0]\", fillcolor=\"#3956e5\"] ;\\n3804 -> 3806 ;\\n3807 [label=\"gini = 0.0\\\\nsamples = 7\\\\nvalue = [0, 0, 0, 0, 14, 0, 0]\", fillcolor=\"#3956e5\"] ;\\n3797 -> 3807 ;\\n3808 [label=\"popularity <= 57.841\\\\ngini = 0.133\\\\nsamples = 17\\\\nvalue = [26, 0, 0, 0, 0, 0, 2]\", fillcolor=\"#e78b48\"] ;\\n3790 -> 3808 ;\\n3809 [label=\"gini = 0.0\\\\nsamples = 15\\\\nvalue = [26, 0, 0, 0, 0, 0, 0]\", fillcolor=\"#e58139\"] ;\\n3808 -> 3809 ;\\n3810 [label=\"gini = 0.0\\\\nsamples = 2\\\\nvalue = [0, 0, 0, 0, 0, 0, 2]\", fillcolor=\"#e53986\"] ;\\n3808 -> 3810 ;\\n3811 [label=\"instrumentalness <= 0.0\\\\ngini = 0.375\\\\nsamples = 12\\\\nvalue = [5, 0, 0, 0, 15, 0, 0]\", fillcolor=\"#7b8eee\"] ;\\n3789 -> 3811 ;\\n3812 [label=\"energy <= 0.201\\\\ngini = 0.32\\\\nsamples = 3\\\\nvalue = [4, 0, 0, 0, 1, 0, 0]\", fillcolor=\"#eca06a\"] ;\\n3811 -> 3812 ;\\n3813 [label=\"gini = 0.0\\\\nsamples = 2\\\\nvalue = [4, 0, 0, 0, 0, 0, 0]\", fillcolor=\"#e58139\"] ;\\n3812 -> 3813 ;\\n3814 [label=\"gini = 0.0\\\\nsamples = 1\\\\nvalue = [0, 0, 0, 0, 1, 0, 0]\", fillcolor=\"#3956e5\"] ;\\n3812 -> 3814 ;\\n3815 [label=\"duration_ms <= 280528.172\\\\ngini = 0.124\\\\nsamples = 9\\\\nvalue = [1, 0, 0, 0, 14, 0, 0]\", fillcolor=\"#4762e7\"] ;\\n3811 -> 3815 ;\\n3816 [label=\"gini = 0.0\\\\nsamples = 8\\\\nvalue = [0, 0, 0, 0, 14, 0, 0]\", fillcolor=\"#3956e5\"] ;\\n3815 -> 3816 ;\\n3817 [label=\"gini = 0.0\\\\nsamples = 1\\\\nvalue = [1, 0, 0, 0, 0, 0, 0]\", fillcolor=\"#e58139\"] ;\\n3815 -> 3817 ;\\n3818 [label=\"loudness <= -4.806\\\\ngini = 0.381\\\\nsamples = 129\\\\nvalue = [155, 0, 0, 0, 50, 2, 0]\", fillcolor=\"#eeab7b\"] ;\\n3702 -> 3818 ;\\n3819 [label=\"danceability <= 0.527\\\\ngini = 0.517\\\\nsamples = 68\\\\nvalue = [52, 0, 0, 0, 45, 2, 0]\", fillcolor=\"#fcefe5\"] ;\\n3818 -> 3819 ;\\n3820 [label=\"acousticness <= 1.06\\\\ngini = 0.438\\\\nsamples = 49\\\\nvalue = [46, 0, 0, 0, 22, 0, 0]\", fillcolor=\"#f1bd98\"] ;\\n3819 -> 3820 ;\\n3821 [label=\"loudness <= -16.797\\\\ngini = 0.311\\\\nsamples = 38\\\\nvalue = [42, 0, 0, 0, 10, 0, 0]\", fillcolor=\"#eb9f68\"] ;\\n3820 -> 3821 ;\\n3822 [label=\"gini = 0.0\\\\nsamples = 3\\\\nvalue = [0, 0, 0, 0, 5, 0, 0]\", fillcolor=\"#3956e5\"] ;\\n3821 -> 3822 ;\\n3823 [label=\"acousticness <= 1.046\\\\ngini = 0.19\\\\nsamples = 35\\\\nvalue = [42, 0, 0, 0, 5, 0, 0]\", fillcolor=\"#e89051\"] ;\\n3821 -> 3823 ;\\n3824 [label=\"acousticness <= 1.044\\\\ngini = 0.234\\\\nsamples = 28\\\\nvalue = [32, 0, 0, 0, 5, 0, 0]\", fillcolor=\"#e99558\"] ;\\n3823 -> 3824 ;\\n3825 [label=\"loudness <= -14.13\\\\ngini = 0.157\\\\nsamples = 27\\\\nvalue = [32, 0, 0, 0, 3, 0, 0]\", fillcolor=\"#e78d4c\"] ;\\n3824 -> 3825 ;\\n3826 [label=\"gini = 0.0\\\\nsamples = 18\\\\nvalue = [23, 0, 0, 0, 0, 0, 0]\", fillcolor=\"#e58139\"] ;\\n3825 -> 3826 ;\\n3827 [label=\"popularity <= 44.698\\\\ngini = 0.375\\\\nsamples = 9\\\\nvalue = [9, 0, 0, 0, 3, 0, 0]\", fillcolor=\"#eeab7b\"] ;\\n3825 -> 3827 ;\\n3828 [label=\"gini = 0.0\\\\nsamples = 6\\\\nvalue = [8, 0, 0, 0, 0, 0, 0]\", fillcolor=\"#e58139\"] ;\\n3827 -> 3828 ;\\n3829 [label=\"acousticness <= 0.992\\\\ngini = 0.375\\\\nsamples = 3\\\\nvalue = [1, 0, 0, 0, 3, 0, 0]\", fillcolor=\"#7b8eee\"] ;\\n3827 -> 3829 ;\\n3830 [label=\"gini = 0.0\\\\nsamples = 1\\\\nvalue = [1, 0, 0, 0, 0, 0, 0]\", fillcolor=\"#e58139\"] ;\\n3829 -> 3830 ;\\n3831 [label=\"gini = 0.0\\\\nsamples = 2\\\\nvalue = [0, 0, 0, 0, 3, 0, 0]\", fillcolor=\"#3956e5\"] ;\\n3829 -> 3831 ;\\n3832 [label=\"gini = 0.0\\\\nsamples = 1\\\\nvalue = [0, 0, 0, 0, 2, 0, 0]\", fillcolor=\"#3956e5\"] ;\\n3824 -> 3832 ;\\n3833 [label=\"gini = 0.0\\\\nsamples = 7\\\\nvalue = [10, 0, 0, 0, 0, 0, 0]\", fillcolor=\"#e58139\"] ;\\n3823 -> 3833 ;\\n3834 [label=\"danceability <= 0.252\\\\ngini = 0.375\\\\nsamples = 11\\\\nvalue = [4, 0, 0, 0, 12, 0, 0]\", fillcolor=\"#7b8eee\"] ;\\n3820 -> 3834 ;\\n3835 [label=\"gini = 0.0\\\\nsamples = 2\\\\nvalue = [2, 0, 0, 0, 0, 0, 0]\", fillcolor=\"#e58139\"] ;\\n3834 -> 3835 ;\\n3836 [label=\"popularity <= 17.966\\\\ngini = 0.245\\\\nsamples = 9\\\\nvalue = [2, 0, 0, 0, 12, 0, 0]\", fillcolor=\"#5a72e9\"] ;\\n3834 -> 3836 ;\\n3837 [label=\"gini = 0.0\\\\nsamples = 1\\\\nvalue = [1, 0, 0, 0, 0, 0, 0]\", fillcolor=\"#e58139\"] ;\\n3836 -> 3837 ;\\n3838 [label=\"duration_ms <= 478764.453\\\\ngini = 0.142\\\\nsamples = 8\\\\nvalue = [1, 0, 0, 0, 12, 0, 0]\", fillcolor=\"#4964e7\"] ;\\n3836 -> 3838 ;\\n3839 [label=\"gini = 0.0\\\\nsamples = 7\\\\nvalue = [0, 0, 0, 0, 12, 0, 0]\", fillcolor=\"#3956e5\"] ;\\n3838 -> 3839 ;\\n3840 [label=\"gini = 0.0\\\\nsamples = 1\\\\nvalue = [1, 0, 0, 0, 0, 0, 0]\", fillcolor=\"#e58139\"] ;\\n3838 -> 3840 ;\\n3841 [label=\"energy <= 0.519\\\\ngini = 0.408\\\\nsamples = 19\\\\nvalue = [6, 0, 0, 0, 23, 2, 0]\", fillcolor=\"#788ced\"] ;\\n3819 -> 3841 ;\\n3842 [label=\"tempo <= 31.007\\\\ngini = 0.328\\\\nsamples = 18\\\\nvalue = [6, 0, 0, 0, 23, 0, 0]\", fillcolor=\"#6d82ec\"] ;\\n3841 -> 3842 ;\\n3843 [label=\"duration_ms <= 212091.055\\\\ngini = 0.375\\\\nsamples = 3\\\\nvalue = [3, 0, 0, 0, 1, 0, 0]\", fillcolor=\"#eeab7b\"] ;\\n3842 -> 3843 ;\\n3844 [label=\"gini = 0.0\\\\nsamples = 2\\\\nvalue = [3, 0, 0, 0, 0, 0, 0]\", fillcolor=\"#e58139\"] ;\\n3843 -> 3844 ;\\n3845 [label=\"gini = 0.0\\\\nsamples = 1\\\\nvalue = [0, 0, 0, 0, 1, 0, 0]\", fillcolor=\"#3956e5\"] ;\\n3843 -> 3845 ;\\n3846 [label=\"popularity <= 33.236\\\\ngini = 0.211\\\\nsamples = 15\\\\nvalue = [3, 0, 0, 0, 22, 0, 0]\", fillcolor=\"#546de9\"] ;\\n3842 -> 3846 ;\\n3847 [label=\"gini = 0.0\\\\nsamples = 3\\\\nvalue = [3, 0, 0, 0, 0, 0, 0]\", fillcolor=\"#e58139\"] ;\\n3846 -> 3847 ;\\n3848 [label=\"gini = 0.0\\\\nsamples = 12\\\\nvalue = [0, 0, 0, 0, 22, 0, 0]\", fillcolor=\"#3956e5\"] ;\\n3846 -> 3848 ;\\n3849 [label=\"gini = 0.0\\\\nsamples = 1\\\\nvalue = [0, 0, 0, 0, 0, 2, 0]\", fillcolor=\"#b139e5\"] ;\\n3841 -> 3849 ;\\n3850 [label=\"popularity <= 55.741\\\\ngini = 0.088\\\\nsamples = 61\\\\nvalue = [103, 0, 0, 0, 5, 0, 0]\", fillcolor=\"#e68743\"] ;\\n3818 -> 3850 ;\\n3851 [label=\"energy <= 0.204\\\\ngini = 0.038\\\\nsamples = 57\\\\nvalue = [100, 0, 0, 0, 2, 0, 0]\", fillcolor=\"#e6843d\"] ;\\n3850 -> 3851 ;\\n3852 [label=\"gini = 0.0\\\\nsamples = 48\\\\nvalue = [89, 0, 0, 0, 0, 0, 0]\", fillcolor=\"#e58139\"] ;\\n3851 -> 3852 ;\\n3853 [label=\"energy <= 0.212\\\\ngini = 0.26\\\\nsamples = 9\\\\nvalue = [11, 0, 0, 0, 2, 0, 0]\", fillcolor=\"#ea985d\"] ;\\n3851 -> 3853 ;\\n3854 [label=\"gini = 0.0\\\\nsamples = 1\\\\nvalue = [0, 0, 0, 0, 2, 0, 0]\", fillcolor=\"#3956e5\"] ;\\n3853 -> 3854 ;\\n3855 [label=\"gini = 0.0\\\\nsamples = 8\\\\nvalue = [11, 0, 0, 0, 0, 0, 0]\", fillcolor=\"#e58139\"] ;\\n3853 -> 3855 ;\\n3856 [label=\"speechiness <= 0.038\\\\ngini = 0.5\\\\nsamples = 4\\\\nvalue = [3, 0, 0, 0, 3, 0, 0]\", fillcolor=\"#ffffff\"] ;\\n3850 -> 3856 ;\\n3857 [label=\"gini = 0.0\\\\nsamples = 2\\\\nvalue = [0, 0, 0, 0, 3, 0, 0]\", fillcolor=\"#3956e5\"] ;\\n3856 -> 3857 ;\\n3858 [label=\"gini = 0.0\\\\nsamples = 2\\\\nvalue = [3, 0, 0, 0, 0, 0, 0]\", fillcolor=\"#e58139\"] ;\\n3856 -> 3858 ;\\n}'"
            ]
          },
          "metadata": {},
          "execution_count": 213
        }
      ]
    },
    {
      "cell_type": "code",
      "source": [
        "import os\n",
        "os.system('dot -Tpng tree.dot -o tree.png')"
      ],
      "metadata": {
        "colab": {
          "base_uri": "https://localhost:8080/"
        },
        "id": "EdEmfbwkN7jH",
        "outputId": "2635956e-011f-4210-ed73-2d662a689bf3"
      },
      "execution_count": 214,
      "outputs": [
        {
          "output_type": "execute_result",
          "data": {
            "text/plain": [
              "512"
            ]
          },
          "metadata": {},
          "execution_count": 214
        }
      ]
    },
    {
      "cell_type": "code",
      "source": [
        "from sklearn.tree import DecisionTreeClassifier\n",
        "clf = DecisionTreeClassifier()\n",
        "clf.fit(X_train, y_train)\n"
      ],
      "metadata": {
        "colab": {
          "base_uri": "https://localhost:8080/"
        },
        "id": "PGvawPL5fUlG",
        "outputId": "91943217-c843-4b1e-9b90-9cca50e14555"
      },
      "execution_count": 192,
      "outputs": [
        {
          "output_type": "execute_result",
          "data": {
            "text/plain": [
              "DecisionTreeClassifier()"
            ]
          },
          "metadata": {},
          "execution_count": 192
        }
      ]
    },
    {
      "cell_type": "code",
      "source": [
        "prediction = clf.predict(X_test)"
      ],
      "metadata": {
        "id": "FFBV2gump_I3"
      },
      "execution_count": 136,
      "outputs": []
    },
    {
      "cell_type": "code",
      "source": [
        "print(\"Accuracy:\",metrics.accuracy_score(y_test, prediction))"
      ],
      "metadata": {
        "colab": {
          "base_uri": "https://localhost:8080/"
        },
        "id": "pu6xCgBNp_l8",
        "outputId": "9efc94e8-538b-41df-edf7-384efc6588eb"
      },
      "execution_count": 137,
      "outputs": [
        {
          "output_type": "stream",
          "name": "stdout",
          "text": [
            "Accuracy: 0.6637619553666313\n"
          ]
        }
      ]
    },
    {
      "cell_type": "code",
      "source": [
        "X_train[\"tempo\"] = X_train[\"tempo\"].astype(\"float\")"
      ],
      "metadata": {
        "id": "ztrjGs0ByQxD"
      },
      "execution_count": 198,
      "outputs": []
    },
    {
      "cell_type": "code",
      "source": [
        "X_test[\"tempo\"] = X_test[\"tempo\"].astype(\"float\")"
      ],
      "metadata": {
        "id": "WVCe-ccr0mUI"
      },
      "execution_count": 200,
      "outputs": []
    },
    {
      "cell_type": "code",
      "source": [
        "import xgboost"
      ],
      "metadata": {
        "id": "FMh4bKmLx8Im"
      },
      "execution_count": 190,
      "outputs": []
    },
    {
      "cell_type": "code",
      "source": [
        "from xgboost import XGBClassifier\n",
        "xg = xgboost.XGBClassifier(max_depth=7, n_estimators=1000)\n",
        "\n",
        "xg.fit(X_train, y_train)\n",
        "f = xg.predict(X_test)"
      ],
      "metadata": {
        "id": "RiTTKEEXxF2M"
      },
      "execution_count": 201,
      "outputs": []
    },
    {
      "cell_type": "code",
      "source": [
        "print(\"Accuracy:\",metrics.accuracy_score(y_test, f))"
      ],
      "metadata": {
        "colab": {
          "base_uri": "https://localhost:8080/"
        },
        "id": "fU9nYBbNxF-B",
        "outputId": "04e60beb-6a41-4528-820c-8ef4b86b437f"
      },
      "execution_count": 202,
      "outputs": [
        {
          "output_type": "stream",
          "name": "stdout",
          "text": [
            "Accuracy: 0.7747077577045696\n"
          ]
        }
      ]
    },
    {
      "cell_type": "code",
      "source": [
        "test"
      ],
      "metadata": {
        "colab": {
          "base_uri": "https://localhost:8080/",
          "height": 443
        },
        "id": "kw7_Mi4QsKFW",
        "outputId": "a677252a-af1e-47d0-b70e-1f93eee6ff79"
      },
      "execution_count": 144,
      "outputs": [
        {
          "output_type": "execute_result",
          "data": {
            "text/html": [
              "<div>\n",
              "<style scoped>\n",
              "    .dataframe tbody tr th:only-of-type {\n",
              "        vertical-align: middle;\n",
              "    }\n",
              "\n",
              "    .dataframe tbody tr th {\n",
              "        vertical-align: top;\n",
              "    }\n",
              "\n",
              "    .dataframe thead th {\n",
              "        text-align: right;\n",
              "    }\n",
              "</style>\n",
              "<table border=\"1\" class=\"dataframe\">\n",
              "  <thead>\n",
              "    <tr style=\"text-align: right;\">\n",
              "      <th></th>\n",
              "      <th>instance_id</th>\n",
              "      <th>track_name</th>\n",
              "      <th>popularity</th>\n",
              "      <th>acousticness</th>\n",
              "      <th>danceability</th>\n",
              "      <th>duration_ms</th>\n",
              "      <th>energy</th>\n",
              "      <th>instrumentalness</th>\n",
              "      <th>key</th>\n",
              "      <th>liveness</th>\n",
              "      <th>loudness</th>\n",
              "      <th>voice_gender</th>\n",
              "      <th>mode</th>\n",
              "      <th>speechiness</th>\n",
              "      <th>tempo</th>\n",
              "      <th>musician_category</th>\n",
              "      <th>valence</th>\n",
              "    </tr>\n",
              "  </thead>\n",
              "  <tbody>\n",
              "    <tr>\n",
              "      <th>0</th>\n",
              "      <td>0</td>\n",
              "      <td>4</td>\n",
              "      <td>26.101</td>\n",
              "      <td>0.823765</td>\n",
              "      <td>0.115490</td>\n",
              "      <td>211462.287</td>\n",
              "      <td>0.125325</td>\n",
              "      <td>0.945272</td>\n",
              "      <td>1</td>\n",
              "      <td>0.120392</td>\n",
              "      <td>-25.541</td>\n",
              "      <td>5</td>\n",
              "      <td>2</td>\n",
              "      <td>0.038657</td>\n",
              "      <td>80.777</td>\n",
              "      <td>3</td>\n",
              "      <td>0.041238</td>\n",
              "    </tr>\n",
              "    <tr>\n",
              "      <th>1</th>\n",
              "      <td>0</td>\n",
              "      <td>4</td>\n",
              "      <td>66.325</td>\n",
              "      <td>0.015441</td>\n",
              "      <td>0.592838</td>\n",
              "      <td>249151.238</td>\n",
              "      <td>0.870798</td>\n",
              "      <td>0.000108</td>\n",
              "      <td>1</td>\n",
              "      <td>0.406722</td>\n",
              "      <td>-3.905</td>\n",
              "      <td>5</td>\n",
              "      <td>2</td>\n",
              "      <td>0.051368</td>\n",
              "      <td>76.00399999999999</td>\n",
              "      <td>3</td>\n",
              "      <td>0.456309</td>\n",
              "    </tr>\n",
              "    <tr>\n",
              "      <th>2</th>\n",
              "      <td>0</td>\n",
              "      <td>4</td>\n",
              "      <td>71.871</td>\n",
              "      <td>0.001006</td>\n",
              "      <td>0.510340</td>\n",
              "      <td>215693.240</td>\n",
              "      <td>0.683077</td>\n",
              "      <td>0.000000</td>\n",
              "      <td>1</td>\n",
              "      <td>0.084608</td>\n",
              "      <td>-6.825</td>\n",
              "      <td>5</td>\n",
              "      <td>2</td>\n",
              "      <td>0.034303</td>\n",
              "      <td>144.458</td>\n",
              "      <td>3</td>\n",
              "      <td>0.193332</td>\n",
              "    </tr>\n",
              "    <tr>\n",
              "      <th>3</th>\n",
              "      <td>0</td>\n",
              "      <td>4</td>\n",
              "      <td>56.151</td>\n",
              "      <td>0.315650</td>\n",
              "      <td>0.338336</td>\n",
              "      <td>307056.179</td>\n",
              "      <td>0.608904</td>\n",
              "      <td>0.000000</td>\n",
              "      <td>1</td>\n",
              "      <td>0.276811</td>\n",
              "      <td>-8.382</td>\n",
              "      <td>5</td>\n",
              "      <td>2</td>\n",
              "      <td>0.036934</td>\n",
              "      <td>118.145</td>\n",
              "      <td>3</td>\n",
              "      <td>0.214906</td>\n",
              "    </tr>\n",
              "    <tr>\n",
              "      <th>4</th>\n",
              "      <td>0</td>\n",
              "      <td>4</td>\n",
              "      <td>43.687</td>\n",
              "      <td>0.038336</td>\n",
              "      <td>0.773904</td>\n",
              "      <td>352802.872</td>\n",
              "      <td>0.955500</td>\n",
              "      <td>0.000007</td>\n",
              "      <td>1</td>\n",
              "      <td>0.301726</td>\n",
              "      <td>-4.733</td>\n",
              "      <td>5</td>\n",
              "      <td>2</td>\n",
              "      <td>0.079688</td>\n",
              "      <td>95.012</td>\n",
              "      <td>3</td>\n",
              "      <td>0.757347</td>\n",
              "    </tr>\n",
              "    <tr>\n",
              "      <th>...</th>\n",
              "      <td>...</td>\n",
              "      <td>...</td>\n",
              "      <td>...</td>\n",
              "      <td>...</td>\n",
              "      <td>...</td>\n",
              "      <td>...</td>\n",
              "      <td>...</td>\n",
              "      <td>...</td>\n",
              "      <td>...</td>\n",
              "      <td>...</td>\n",
              "      <td>...</td>\n",
              "      <td>...</td>\n",
              "      <td>...</td>\n",
              "      <td>...</td>\n",
              "      <td>...</td>\n",
              "      <td>...</td>\n",
              "      <td>...</td>\n",
              "    </tr>\n",
              "    <tr>\n",
              "      <th>3916</th>\n",
              "      <td>0</td>\n",
              "      <td>4</td>\n",
              "      <td>28.296</td>\n",
              "      <td>0.880373</td>\n",
              "      <td>0.239413</td>\n",
              "      <td>334617.187</td>\n",
              "      <td>0.046885</td>\n",
              "      <td>0.000008</td>\n",
              "      <td>1</td>\n",
              "      <td>0.149835</td>\n",
              "      <td>-26.465</td>\n",
              "      <td>5</td>\n",
              "      <td>2</td>\n",
              "      <td>0.044304</td>\n",
              "      <td>0</td>\n",
              "      <td>3</td>\n",
              "      <td>0.159485</td>\n",
              "    </tr>\n",
              "    <tr>\n",
              "      <th>3917</th>\n",
              "      <td>0</td>\n",
              "      <td>4</td>\n",
              "      <td>57.506</td>\n",
              "      <td>0.002973</td>\n",
              "      <td>0.658013</td>\n",
              "      <td>266627.734</td>\n",
              "      <td>-1.000000</td>\n",
              "      <td>0.000000</td>\n",
              "      <td>1</td>\n",
              "      <td>0.308676</td>\n",
              "      <td>-6.282</td>\n",
              "      <td>5</td>\n",
              "      <td>2</td>\n",
              "      <td>0.033955</td>\n",
              "      <td>120.04799999999999</td>\n",
              "      <td>3</td>\n",
              "      <td>0.384031</td>\n",
              "    </tr>\n",
              "    <tr>\n",
              "      <th>3918</th>\n",
              "      <td>0</td>\n",
              "      <td>4</td>\n",
              "      <td>40.085</td>\n",
              "      <td>1.065965</td>\n",
              "      <td>0.199430</td>\n",
              "      <td>237468.634</td>\n",
              "      <td>0.066235</td>\n",
              "      <td>0.998231</td>\n",
              "      <td>1</td>\n",
              "      <td>0.074738</td>\n",
              "      <td>-30.092</td>\n",
              "      <td>5</td>\n",
              "      <td>2</td>\n",
              "      <td>0.051459</td>\n",
              "      <td>66.095</td>\n",
              "      <td>3</td>\n",
              "      <td>0.333884</td>\n",
              "    </tr>\n",
              "    <tr>\n",
              "      <th>3919</th>\n",
              "      <td>0</td>\n",
              "      <td>4</td>\n",
              "      <td>52.468</td>\n",
              "      <td>0.607947</td>\n",
              "      <td>0.677778</td>\n",
              "      <td>237945.370</td>\n",
              "      <td>0.313435</td>\n",
              "      <td>0.000002</td>\n",
              "      <td>1</td>\n",
              "      <td>0.115475</td>\n",
              "      <td>-14.411</td>\n",
              "      <td>5</td>\n",
              "      <td>2</td>\n",
              "      <td>0.032643</td>\n",
              "      <td>97.999</td>\n",
              "      <td>3</td>\n",
              "      <td>0.203295</td>\n",
              "    </tr>\n",
              "    <tr>\n",
              "      <th>3920</th>\n",
              "      <td>0</td>\n",
              "      <td>4</td>\n",
              "      <td>55.254</td>\n",
              "      <td>0.108211</td>\n",
              "      <td>0.805525</td>\n",
              "      <td>486815.224</td>\n",
              "      <td>0.421591</td>\n",
              "      <td>0.310566</td>\n",
              "      <td>1</td>\n",
              "      <td>0.098789</td>\n",
              "      <td>-11.934</td>\n",
              "      <td>5</td>\n",
              "      <td>2</td>\n",
              "      <td>0.051685</td>\n",
              "      <td>100.008</td>\n",
              "      <td>3</td>\n",
              "      <td>0.057954</td>\n",
              "    </tr>\n",
              "  </tbody>\n",
              "</table>\n",
              "<p>3921 rows × 17 columns</p>\n",
              "</div>"
            ],
            "text/plain": [
              "      instance_id  track_name  ...  musician_category   valence\n",
              "0               0           4  ...                  3  0.041238\n",
              "1               0           4  ...                  3  0.456309\n",
              "2               0           4  ...                  3  0.193332\n",
              "3               0           4  ...                  3  0.214906\n",
              "4               0           4  ...                  3  0.757347\n",
              "...           ...         ...  ...                ...       ...\n",
              "3916            0           4  ...                  3  0.159485\n",
              "3917            0           4  ...                  3  0.384031\n",
              "3918            0           4  ...                  3  0.333884\n",
              "3919            0           4  ...                  3  0.203295\n",
              "3920            0           4  ...                  3  0.057954\n",
              "\n",
              "[3921 rows x 17 columns]"
            ]
          },
          "metadata": {},
          "execution_count": 144
        }
      ]
    },
    {
      "cell_type": "code",
      "source": [
        "out = clfr.predict(test)"
      ],
      "metadata": {
        "id": "IcRVOveklFJ-"
      },
      "execution_count": 149,
      "outputs": []
    },
    {
      "cell_type": "code",
      "source": [
        "out"
      ],
      "metadata": {
        "colab": {
          "base_uri": "https://localhost:8080/"
        },
        "id": "XfMWb_PkqMtv",
        "outputId": "2336c3fd-b6b7-420e-f3e0-d52f5eb0fecf"
      },
      "execution_count": 150,
      "outputs": [
        {
          "output_type": "execute_result",
          "data": {
            "text/plain": [
              "array(['Classical', 'Rock', 'Rock', ..., 'Classical', 'Jazz', 'Jazz'],\n",
              "      dtype=object)"
            ]
          },
          "metadata": {},
          "execution_count": 150
        }
      ]
    },
    {
      "cell_type": "code",
      "source": [
        "final_output = pd.DataFrame(out)"
      ],
      "metadata": {
        "id": "8TI-qZMNsP0T"
      },
      "execution_count": 152,
      "outputs": []
    },
    {
      "cell_type": "code",
      "source": [
        "final_output['music_genre'] = final_output[0]"
      ],
      "metadata": {
        "id": "D_C_PxnKsWGi"
      },
      "execution_count": 157,
      "outputs": []
    },
    {
      "cell_type": "code",
      "source": [
        "final_output.drop(0, axis = 1, inplace= True)"
      ],
      "metadata": {
        "id": "tpTyCRYfsr2x"
      },
      "execution_count": 159,
      "outputs": []
    },
    {
      "cell_type": "code",
      "source": [
        "final_output"
      ],
      "metadata": {
        "colab": {
          "base_uri": "https://localhost:8080/",
          "height": 423
        },
        "id": "W-kw_8nmtnyh",
        "outputId": "32dc8fa1-ad20-429a-b839-a0fc8fc2ddd0"
      },
      "execution_count": 177,
      "outputs": [
        {
          "output_type": "execute_result",
          "data": {
            "text/html": [
              "<div>\n",
              "<style scoped>\n",
              "    .dataframe tbody tr th:only-of-type {\n",
              "        vertical-align: middle;\n",
              "    }\n",
              "\n",
              "    .dataframe tbody tr th {\n",
              "        vertical-align: top;\n",
              "    }\n",
              "\n",
              "    .dataframe thead th {\n",
              "        text-align: right;\n",
              "    }\n",
              "</style>\n",
              "<table border=\"1\" class=\"dataframe\">\n",
              "  <thead>\n",
              "    <tr style=\"text-align: right;\">\n",
              "      <th></th>\n",
              "      <th>music_genre</th>\n",
              "    </tr>\n",
              "  </thead>\n",
              "  <tbody>\n",
              "    <tr>\n",
              "      <th>0</th>\n",
              "      <td>Classical</td>\n",
              "    </tr>\n",
              "    <tr>\n",
              "      <th>1</th>\n",
              "      <td>Rock</td>\n",
              "    </tr>\n",
              "    <tr>\n",
              "      <th>2</th>\n",
              "      <td>Rock</td>\n",
              "    </tr>\n",
              "    <tr>\n",
              "      <th>3</th>\n",
              "      <td>Rock</td>\n",
              "    </tr>\n",
              "    <tr>\n",
              "      <th>4</th>\n",
              "      <td>Jazz</td>\n",
              "    </tr>\n",
              "    <tr>\n",
              "      <th>...</th>\n",
              "      <td>...</td>\n",
              "    </tr>\n",
              "    <tr>\n",
              "      <th>3916</th>\n",
              "      <td>Classical</td>\n",
              "    </tr>\n",
              "    <tr>\n",
              "      <th>3917</th>\n",
              "      <td>Rock</td>\n",
              "    </tr>\n",
              "    <tr>\n",
              "      <th>3918</th>\n",
              "      <td>Classical</td>\n",
              "    </tr>\n",
              "    <tr>\n",
              "      <th>3919</th>\n",
              "      <td>Jazz</td>\n",
              "    </tr>\n",
              "    <tr>\n",
              "      <th>3920</th>\n",
              "      <td>Jazz</td>\n",
              "    </tr>\n",
              "  </tbody>\n",
              "</table>\n",
              "<p>3921 rows × 1 columns</p>\n",
              "</div>"
            ],
            "text/plain": [
              "     music_genre\n",
              "0      Classical\n",
              "1           Rock\n",
              "2           Rock\n",
              "3           Rock\n",
              "4           Jazz\n",
              "...          ...\n",
              "3916   Classical\n",
              "3917        Rock\n",
              "3918   Classical\n",
              "3919        Jazz\n",
              "3920        Jazz\n",
              "\n",
              "[3921 rows x 1 columns]"
            ]
          },
          "metadata": {},
          "execution_count": 177
        }
      ]
    },
    {
      "cell_type": "code",
      "source": [
        "initial_test = pd.read_csv(\"/content/test.csv\")"
      ],
      "metadata": {
        "id": "_kjEGEiruQ8y"
      },
      "execution_count": 171,
      "outputs": []
    },
    {
      "cell_type": "code",
      "source": [
        "a = pd.DataFrame(initial_test[\"instance_id\"])"
      ],
      "metadata": {
        "id": "tbyQZLD7ukVz"
      },
      "execution_count": 175,
      "outputs": []
    },
    {
      "cell_type": "code",
      "source": [
        "a"
      ],
      "metadata": {
        "colab": {
          "base_uri": "https://localhost:8080/",
          "height": 423
        },
        "id": "OKiuoF3Mu7yv",
        "outputId": "e2ec1312-5db1-4eb9-82cb-4ca57d2793d2"
      },
      "execution_count": 176,
      "outputs": [
        {
          "output_type": "execute_result",
          "data": {
            "text/html": [
              "<div>\n",
              "<style scoped>\n",
              "    .dataframe tbody tr th:only-of-type {\n",
              "        vertical-align: middle;\n",
              "    }\n",
              "\n",
              "    .dataframe tbody tr th {\n",
              "        vertical-align: top;\n",
              "    }\n",
              "\n",
              "    .dataframe thead th {\n",
              "        text-align: right;\n",
              "    }\n",
              "</style>\n",
              "<table border=\"1\" class=\"dataframe\">\n",
              "  <thead>\n",
              "    <tr style=\"text-align: right;\">\n",
              "      <th></th>\n",
              "      <th>instance_id</th>\n",
              "    </tr>\n",
              "  </thead>\n",
              "  <tbody>\n",
              "    <tr>\n",
              "      <th>0</th>\n",
              "      <td>MSC_70753.0</td>\n",
              "    </tr>\n",
              "    <tr>\n",
              "      <th>1</th>\n",
              "      <td>MSC_24064.0</td>\n",
              "    </tr>\n",
              "    <tr>\n",
              "      <th>2</th>\n",
              "      <td>MSC_22731.0</td>\n",
              "    </tr>\n",
              "    <tr>\n",
              "      <th>3</th>\n",
              "      <td>MSC_32095.0</td>\n",
              "    </tr>\n",
              "    <tr>\n",
              "      <th>4</th>\n",
              "      <td>MSC_24198.0</td>\n",
              "    </tr>\n",
              "    <tr>\n",
              "      <th>...</th>\n",
              "      <td>...</td>\n",
              "    </tr>\n",
              "    <tr>\n",
              "      <th>3916</th>\n",
              "      <td>MSC_80955.0</td>\n",
              "    </tr>\n",
              "    <tr>\n",
              "      <th>3917</th>\n",
              "      <td>MSC_72767.0</td>\n",
              "    </tr>\n",
              "    <tr>\n",
              "      <th>3918</th>\n",
              "      <td>MSC_40192.0</td>\n",
              "    </tr>\n",
              "    <tr>\n",
              "      <th>3919</th>\n",
              "      <td>MSC_56067.0</td>\n",
              "    </tr>\n",
              "    <tr>\n",
              "      <th>3920</th>\n",
              "      <td>MSC_90169.0</td>\n",
              "    </tr>\n",
              "  </tbody>\n",
              "</table>\n",
              "<p>3921 rows × 1 columns</p>\n",
              "</div>"
            ],
            "text/plain": [
              "      instance_id\n",
              "0     MSC_70753.0\n",
              "1     MSC_24064.0\n",
              "2     MSC_22731.0\n",
              "3     MSC_32095.0\n",
              "4     MSC_24198.0\n",
              "...           ...\n",
              "3916  MSC_80955.0\n",
              "3917  MSC_72767.0\n",
              "3918  MSC_40192.0\n",
              "3919  MSC_56067.0\n",
              "3920  MSC_90169.0\n",
              "\n",
              "[3921 rows x 1 columns]"
            ]
          },
          "metadata": {},
          "execution_count": 176
        }
      ]
    },
    {
      "cell_type": "code",
      "source": [
        "final_submission = pd.concat([final_output, a], axis =1)"
      ],
      "metadata": {
        "id": "2IrLarjptGfD"
      },
      "execution_count": 180,
      "outputs": []
    },
    {
      "cell_type": "code",
      "source": [
        "final_submission"
      ],
      "metadata": {
        "colab": {
          "base_uri": "https://localhost:8080/",
          "height": 423
        },
        "id": "HTV3D4hutTnj",
        "outputId": "7c58f6f9-3f3a-485b-e7c3-f01089fed729"
      },
      "execution_count": 181,
      "outputs": [
        {
          "output_type": "execute_result",
          "data": {
            "text/html": [
              "<div>\n",
              "<style scoped>\n",
              "    .dataframe tbody tr th:only-of-type {\n",
              "        vertical-align: middle;\n",
              "    }\n",
              "\n",
              "    .dataframe tbody tr th {\n",
              "        vertical-align: top;\n",
              "    }\n",
              "\n",
              "    .dataframe thead th {\n",
              "        text-align: right;\n",
              "    }\n",
              "</style>\n",
              "<table border=\"1\" class=\"dataframe\">\n",
              "  <thead>\n",
              "    <tr style=\"text-align: right;\">\n",
              "      <th></th>\n",
              "      <th>music_genre</th>\n",
              "      <th>instance_id</th>\n",
              "    </tr>\n",
              "  </thead>\n",
              "  <tbody>\n",
              "    <tr>\n",
              "      <th>0</th>\n",
              "      <td>Classical</td>\n",
              "      <td>MSC_70753.0</td>\n",
              "    </tr>\n",
              "    <tr>\n",
              "      <th>1</th>\n",
              "      <td>Rock</td>\n",
              "      <td>MSC_24064.0</td>\n",
              "    </tr>\n",
              "    <tr>\n",
              "      <th>2</th>\n",
              "      <td>Rock</td>\n",
              "      <td>MSC_22731.0</td>\n",
              "    </tr>\n",
              "    <tr>\n",
              "      <th>3</th>\n",
              "      <td>Rock</td>\n",
              "      <td>MSC_32095.0</td>\n",
              "    </tr>\n",
              "    <tr>\n",
              "      <th>4</th>\n",
              "      <td>Jazz</td>\n",
              "      <td>MSC_24198.0</td>\n",
              "    </tr>\n",
              "    <tr>\n",
              "      <th>...</th>\n",
              "      <td>...</td>\n",
              "      <td>...</td>\n",
              "    </tr>\n",
              "    <tr>\n",
              "      <th>3916</th>\n",
              "      <td>Classical</td>\n",
              "      <td>MSC_80955.0</td>\n",
              "    </tr>\n",
              "    <tr>\n",
              "      <th>3917</th>\n",
              "      <td>Rock</td>\n",
              "      <td>MSC_72767.0</td>\n",
              "    </tr>\n",
              "    <tr>\n",
              "      <th>3918</th>\n",
              "      <td>Classical</td>\n",
              "      <td>MSC_40192.0</td>\n",
              "    </tr>\n",
              "    <tr>\n",
              "      <th>3919</th>\n",
              "      <td>Jazz</td>\n",
              "      <td>MSC_56067.0</td>\n",
              "    </tr>\n",
              "    <tr>\n",
              "      <th>3920</th>\n",
              "      <td>Jazz</td>\n",
              "      <td>MSC_90169.0</td>\n",
              "    </tr>\n",
              "  </tbody>\n",
              "</table>\n",
              "<p>3921 rows × 2 columns</p>\n",
              "</div>"
            ],
            "text/plain": [
              "     music_genre  instance_id\n",
              "0      Classical  MSC_70753.0\n",
              "1           Rock  MSC_24064.0\n",
              "2           Rock  MSC_22731.0\n",
              "3           Rock  MSC_32095.0\n",
              "4           Jazz  MSC_24198.0\n",
              "...          ...          ...\n",
              "3916   Classical  MSC_80955.0\n",
              "3917        Rock  MSC_72767.0\n",
              "3918   Classical  MSC_40192.0\n",
              "3919        Jazz  MSC_56067.0\n",
              "3920        Jazz  MSC_90169.0\n",
              "\n",
              "[3921 rows x 2 columns]"
            ]
          },
          "metadata": {},
          "execution_count": 181
        }
      ]
    },
    {
      "cell_type": "code",
      "source": [
        "columns_name = [\"instance_id\", \"music_genre\"]\n",
        "final_submission = final_submission.reindex(columns = columns_name)"
      ],
      "metadata": {
        "id": "Jhn8Izt5vYP0"
      },
      "execution_count": 182,
      "outputs": []
    },
    {
      "cell_type": "code",
      "source": [
        "final_submission.to_csv(\"/content/final_submission_file.csv\", index = None)"
      ],
      "metadata": {
        "id": "TU2qtTaRv-iE"
      },
      "execution_count": 185,
      "outputs": []
    }
  ]
}