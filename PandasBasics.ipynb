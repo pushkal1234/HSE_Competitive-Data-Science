{
  "nbformat": 4,
  "nbformat_minor": 0,
  "metadata": {
    "hw_version": "1.0.0",
    "kernelspec": {
      "display_name": "Python 3",
      "language": "python",
      "name": "python3"
    },
    "language_info": {
      "codemirror_mode": {
        "name": "ipython",
        "version": 3
      },
      "file_extension": ".py",
      "mimetype": "text/x-python",
      "name": "python",
      "nbconvert_exporter": "python",
      "pygments_lexer": "ipython3",
      "version": "3.6.2"
    },
    "colab": {
      "name": "PandasBasics.ipynb",
      "provenance": [],
      "collapsed_sections": [],
      "include_colab_link": true
    }
  },
  "cells": [
    {
      "cell_type": "markdown",
      "metadata": {
        "id": "view-in-github",
        "colab_type": "text"
      },
      "source": [
        "<a href=\"https://colab.research.google.com/github/pushkal1234/HSE_Competitive-Data-Science/blob/main/PandasBasics.ipynb\" target=\"_parent\"><img src=\"https://colab.research.google.com/assets/colab-badge.svg\" alt=\"Open In Colab\"/></a>"
      ]
    },
    {
      "cell_type": "markdown",
      "metadata": {
        "id": "oc92QhH0Y6Hg"
      },
      "source": [
        "Version 1.0.3"
      ]
    },
    {
      "cell_type": "markdown",
      "metadata": {
        "id": "pMz6zl1MY6Hj"
      },
      "source": [
        "# Pandas basics "
      ]
    },
    {
      "cell_type": "markdown",
      "metadata": {
        "id": "8TvvPEIJY6Hj"
      },
      "source": [
        "Hi! In this programming assignment you need to refresh your `pandas` knowledge. You will need to do several [`groupby`](https://pandas.pydata.org/pandas-docs/stable/generated/pandas.DataFrame.groupby.html)s and [`join`]()`s to solve the task. "
      ]
    },
    {
      "cell_type": "code",
      "metadata": {
        "id": "WIKOhTxLdmPD"
      },
      "source": [
        "import requests\n",
        "import json\n",
        "import numpy as np\n",
        "from collections import OrderedDict\n",
        "\n",
        "def array_to_hash(x):\n",
        "    x_tupled = None\n",
        "    if type(x) == list:\n",
        "        x_tupled = tuple(x)\n",
        "    elif type(x) == np.ndarray:\n",
        "        x_tupled = tuple(list(x.flatten()))\n",
        "    elif type(x) == tuple:\n",
        "        x_tupled = x\n",
        "    else:\n",
        "        raise RuntimeError('unexpected type of input: {}'.format(type(x)))\n",
        "    return hash(tuple(map(float, x_tupled)))\n",
        "\n",
        "def almostEqual(x, y):\n",
        "    return abs(x - y) < 1e-3\n",
        "\n",
        "\n",
        "class Grader(object):\n",
        "    def __init__(self):\n",
        "        self.submission_page = 'https://hub.coursera-apps.org/api/onDemandProgrammingScriptSubmissions.v1'\n",
        "        self.assignment_key = 'S1UqVXp-EeelpgpYPAO2Og'\n",
        "        self.parts = OrderedDict([\n",
        "                    ('edAEq', 'max_revenue'),\n",
        "                    ('Xn0Ec', 'category_id_with_max_revenue'),\n",
        "                    ('CZDVZ', 'num_items_constant_price'),\n",
        "                    ('HlAjc', 'total_num_items_sold_var')])\n",
        "        self.answers = {key: None for key in self.parts}\n",
        "\n",
        "    @staticmethod\n",
        "    def ravel_output(output):\n",
        "        '''\n",
        "           If student accedentally submitted np.array with one\n",
        "           element instead of number, this function will submit\n",
        "           this number instead\n",
        "        '''\n",
        "        if isinstance(output, np.ndarray) and output.size == 1:\n",
        "            output = output.item(0)\n",
        "        return output\n",
        "\n",
        "    def submit(self, email, token):\n",
        "        submission = {\n",
        "                    \"assignmentKey\": self.assignment_key, \n",
        "                    \"submitterEmail\": email, \n",
        "                    \"secret\": token, \n",
        "                    \"parts\": {}\n",
        "                  }\n",
        "        for part, output in self.answers.items():\n",
        "            if output is not None:\n",
        "                submission[\"parts\"][part] = {\"output\": output}\n",
        "            else:\n",
        "                submission[\"parts\"][part] = dict()\n",
        "        request = requests.post(self.submission_page, data=json.dumps(submission))\n",
        "        response = request.json()\n",
        "        if request.status_code == 201:\n",
        "            print('Submitted to Coursera platform. See results on assignment page!')\n",
        "        elif u'details' in response and u'learnerMessage' in response[u'details']:\n",
        "            print(response[u'details'][u'learnerMessage'])\n",
        "        else:\n",
        "            print(\"Unknown response from Coursera: {}\".format(request.status_code))\n",
        "            print(response)\n",
        "\n",
        "    def status(self):\n",
        "        print(\"You want to submit these numbers:\")\n",
        "        for part_id, part_name in self.parts.items():\n",
        "            answer = self.answers[part_id]\n",
        "            if answer is None:\n",
        "                answer = '-'*10\n",
        "            print(\"Task {}: {}\".format(part_name, answer))\n",
        "               \n",
        "    def submit_part(self, part, output):\n",
        "        self.answers[part] = output\n",
        "        print(\"Current answer for task {} is: {}\".format(self.parts[part], output))\n",
        "\n",
        "    def submit_tag(self, tag, output):\n",
        "        part_id = [k for k, v in self.parts.items() if v == tag]\n",
        "        if len(part_id)!=1:\n",
        "            raise RuntimeError('cannot match tag with part_id: found {} matches'.format(len(part_id)))\n",
        "        part_id = part_id[0]\n",
        "        self.submit_part(part_id, str(self.ravel_output(output)))"
      ],
      "execution_count": 1,
      "outputs": []
    },
    {
      "cell_type": "code",
      "metadata": {
        "id": "HEB4u4AOcJP5"
      },
      "source": [
        "import pandas as pd\n",
        "import numpy as np\n",
        "import os\n",
        "import matplotlib.pyplot as plt\n",
        "%matplotlib inline "
      ],
      "execution_count": 2,
      "outputs": []
    },
    {
      "cell_type": "code",
      "metadata": {
        "collapsed": true,
        "id": "YAd4ylmPY6Hk"
      },
      "source": [
        "DATA_FOLDER = '/content/sample_data/Data_HSE'\n",
        "\n",
        "transactions    = pd.read_csv(os.path.join(DATA_FOLDER, '/content/sample_data/Data_HSE/sales_train.csv.gz'))\n",
        "items           = pd.read_csv(os.path.join(DATA_FOLDER, '/content/sample_data/Data_HSE/items.csv'))\n",
        "item_categories = pd.read_csv(os.path.join(DATA_FOLDER, '/content/sample_data/Data_HSE/item_categories.csv'))\n",
        "shops           = pd.read_csv(os.path.join(DATA_FOLDER, '/content/sample_data/Data_HSE/shops.csv'))"
      ],
      "execution_count": 3,
      "outputs": []
    },
    {
      "cell_type": "markdown",
      "metadata": {
        "id": "H06TLG_vY6Hl"
      },
      "source": [
        "The dataset we are going to use is taken from the competition, that serves as the final project for this course. You can find complete data description at the [competition web page](https://www.kaggle.com/c/competitive-data-science-final-project/data). To join the competition use [this link](https://www.kaggle.com/t/1ea93815dca248e99221df42ebde3540)."
      ]
    },
    {
      "cell_type": "markdown",
      "metadata": {
        "id": "UQzs8LXkY6Hl"
      },
      "source": [
        "## Grading"
      ]
    },
    {
      "cell_type": "markdown",
      "metadata": {
        "id": "n2Hw0ibDY6Hl"
      },
      "source": [
        "We will create a grader instace below and use it to collect your answers. When function `submit_tag` is called, grader will store your answer *locally*. The answers will *not* be submited to the platform immediately so you can call `submit_tag` function as many times as you need. \n",
        "\n",
        "When you are ready to push your answers to the platform you should fill your credentials and run `submit` function in the <a href=\"#Authorization-&-Submission\">last paragraph</a>  of the assignment."
      ]
    },
    {
      "cell_type": "code",
      "metadata": {
        "id": "XDOdogn8cNhr"
      },
      "source": [
        "grader = Grader()"
      ],
      "execution_count": 4,
      "outputs": []
    },
    {
      "cell_type": "markdown",
      "metadata": {
        "id": "Uehh2sWAY6Hm"
      },
      "source": [
        "# Task"
      ]
    },
    {
      "cell_type": "markdown",
      "metadata": {
        "id": "l9ZWz8NYY6Hm"
      },
      "source": [
        "Let's start with a simple task. \n",
        "\n",
        "<ol start=\"0\">\n",
        "  <li><b>Print the shape of the loaded dataframes and use [`df.head`](https://pandas.pydata.org/pandas-docs/stable/generated/pandas.DataFrame.head.html) function to print several rows. Examine the features you are given.</b></li>\n",
        "</ol>"
      ]
    },
    {
      "cell_type": "code",
      "metadata": {
        "collapsed": true,
        "colab": {
          "base_uri": "https://localhost:8080/"
        },
        "id": "ieRc5PkmY6Hn",
        "outputId": "d56967ec-6d59-48d1-826c-948d29bc416a"
      },
      "source": [
        "# YOUR CODE GOES HERE\n",
        "print(items.shape)\n",
        "print(item_categories.shape)\n",
        "print(shops.shape)\n",
        "print(transactions.shape)"
      ],
      "execution_count": 5,
      "outputs": [
        {
          "output_type": "stream",
          "text": [
            "(22170, 3)\n",
            "(84, 2)\n",
            "(60, 2)\n",
            "(2935849, 6)\n"
          ],
          "name": "stdout"
        }
      ]
    },
    {
      "cell_type": "code",
      "metadata": {
        "colab": {
          "base_uri": "https://localhost:8080/",
          "height": 206
        },
        "id": "YBSJWGygcTs6",
        "outputId": "9a7308f1-67b3-4fe9-d089-47da7df3ee81"
      },
      "source": [
        "items.head()"
      ],
      "execution_count": 6,
      "outputs": [
        {
          "output_type": "execute_result",
          "data": {
            "text/html": [
              "<div>\n",
              "<style scoped>\n",
              "    .dataframe tbody tr th:only-of-type {\n",
              "        vertical-align: middle;\n",
              "    }\n",
              "\n",
              "    .dataframe tbody tr th {\n",
              "        vertical-align: top;\n",
              "    }\n",
              "\n",
              "    .dataframe thead th {\n",
              "        text-align: right;\n",
              "    }\n",
              "</style>\n",
              "<table border=\"1\" class=\"dataframe\">\n",
              "  <thead>\n",
              "    <tr style=\"text-align: right;\">\n",
              "      <th></th>\n",
              "      <th>item_name</th>\n",
              "      <th>item_id</th>\n",
              "      <th>item_category_id</th>\n",
              "    </tr>\n",
              "  </thead>\n",
              "  <tbody>\n",
              "    <tr>\n",
              "      <th>0</th>\n",
              "      <td>! ВО ВЛАСТИ НАВАЖДЕНИЯ (ПЛАСТ.)         D</td>\n",
              "      <td>0</td>\n",
              "      <td>40</td>\n",
              "    </tr>\n",
              "    <tr>\n",
              "      <th>1</th>\n",
              "      <td>!ABBYY FineReader 12 Professional Edition Full...</td>\n",
              "      <td>1</td>\n",
              "      <td>76</td>\n",
              "    </tr>\n",
              "    <tr>\n",
              "      <th>2</th>\n",
              "      <td>***В ЛУЧАХ СЛАВЫ   (UNV)                    D</td>\n",
              "      <td>2</td>\n",
              "      <td>40</td>\n",
              "    </tr>\n",
              "    <tr>\n",
              "      <th>3</th>\n",
              "      <td>***ГОЛУБАЯ ВОЛНА  (Univ)                      D</td>\n",
              "      <td>3</td>\n",
              "      <td>40</td>\n",
              "    </tr>\n",
              "    <tr>\n",
              "      <th>4</th>\n",
              "      <td>***КОРОБКА (СТЕКЛО)                       D</td>\n",
              "      <td>4</td>\n",
              "      <td>40</td>\n",
              "    </tr>\n",
              "  </tbody>\n",
              "</table>\n",
              "</div>"
            ],
            "text/plain": [
              "                                           item_name  item_id  item_category_id\n",
              "0          ! ВО ВЛАСТИ НАВАЖДЕНИЯ (ПЛАСТ.)         D        0                40\n",
              "1  !ABBYY FineReader 12 Professional Edition Full...        1                76\n",
              "2      ***В ЛУЧАХ СЛАВЫ   (UNV)                    D        2                40\n",
              "3    ***ГОЛУБАЯ ВОЛНА  (Univ)                      D        3                40\n",
              "4        ***КОРОБКА (СТЕКЛО)                       D        4                40"
            ]
          },
          "metadata": {
            "tags": []
          },
          "execution_count": 6
        }
      ]
    },
    {
      "cell_type": "code",
      "metadata": {
        "colab": {
          "base_uri": "https://localhost:8080/",
          "height": 206
        },
        "id": "TIhV-Y1lcZpA",
        "outputId": "ad3dc478-5541-4c1e-d41f-c3796199651a"
      },
      "source": [
        "item_categories.head()"
      ],
      "execution_count": 8,
      "outputs": [
        {
          "output_type": "execute_result",
          "data": {
            "text/html": [
              "<div>\n",
              "<style scoped>\n",
              "    .dataframe tbody tr th:only-of-type {\n",
              "        vertical-align: middle;\n",
              "    }\n",
              "\n",
              "    .dataframe tbody tr th {\n",
              "        vertical-align: top;\n",
              "    }\n",
              "\n",
              "    .dataframe thead th {\n",
              "        text-align: right;\n",
              "    }\n",
              "</style>\n",
              "<table border=\"1\" class=\"dataframe\">\n",
              "  <thead>\n",
              "    <tr style=\"text-align: right;\">\n",
              "      <th></th>\n",
              "      <th>item_category_name</th>\n",
              "      <th>item_category_id</th>\n",
              "    </tr>\n",
              "  </thead>\n",
              "  <tbody>\n",
              "    <tr>\n",
              "      <th>0</th>\n",
              "      <td>PC - Гарнитуры/Наушники</td>\n",
              "      <td>0</td>\n",
              "    </tr>\n",
              "    <tr>\n",
              "      <th>1</th>\n",
              "      <td>Аксессуары - PS2</td>\n",
              "      <td>1</td>\n",
              "    </tr>\n",
              "    <tr>\n",
              "      <th>2</th>\n",
              "      <td>Аксессуары - PS3</td>\n",
              "      <td>2</td>\n",
              "    </tr>\n",
              "    <tr>\n",
              "      <th>3</th>\n",
              "      <td>Аксессуары - PS4</td>\n",
              "      <td>3</td>\n",
              "    </tr>\n",
              "    <tr>\n",
              "      <th>4</th>\n",
              "      <td>Аксессуары - PSP</td>\n",
              "      <td>4</td>\n",
              "    </tr>\n",
              "  </tbody>\n",
              "</table>\n",
              "</div>"
            ],
            "text/plain": [
              "        item_category_name  item_category_id\n",
              "0  PC - Гарнитуры/Наушники                 0\n",
              "1         Аксессуары - PS2                 1\n",
              "2         Аксессуары - PS3                 2\n",
              "3         Аксессуары - PS4                 3\n",
              "4         Аксессуары - PSP                 4"
            ]
          },
          "metadata": {
            "tags": []
          },
          "execution_count": 8
        }
      ]
    },
    {
      "cell_type": "code",
      "metadata": {
        "colab": {
          "base_uri": "https://localhost:8080/",
          "height": 206
        },
        "id": "WVTV-4r7cZ-n",
        "outputId": "8123d163-6e99-4853-db06-29ddf8e529cc"
      },
      "source": [
        "shops.head()"
      ],
      "execution_count": 9,
      "outputs": [
        {
          "output_type": "execute_result",
          "data": {
            "text/html": [
              "<div>\n",
              "<style scoped>\n",
              "    .dataframe tbody tr th:only-of-type {\n",
              "        vertical-align: middle;\n",
              "    }\n",
              "\n",
              "    .dataframe tbody tr th {\n",
              "        vertical-align: top;\n",
              "    }\n",
              "\n",
              "    .dataframe thead th {\n",
              "        text-align: right;\n",
              "    }\n",
              "</style>\n",
              "<table border=\"1\" class=\"dataframe\">\n",
              "  <thead>\n",
              "    <tr style=\"text-align: right;\">\n",
              "      <th></th>\n",
              "      <th>shop_name</th>\n",
              "      <th>shop_id</th>\n",
              "    </tr>\n",
              "  </thead>\n",
              "  <tbody>\n",
              "    <tr>\n",
              "      <th>0</th>\n",
              "      <td>!Якутск Орджоникидзе, 56 фран</td>\n",
              "      <td>0</td>\n",
              "    </tr>\n",
              "    <tr>\n",
              "      <th>1</th>\n",
              "      <td>!Якутск ТЦ \"Центральный\" фран</td>\n",
              "      <td>1</td>\n",
              "    </tr>\n",
              "    <tr>\n",
              "      <th>2</th>\n",
              "      <td>Адыгея ТЦ \"Мега\"</td>\n",
              "      <td>2</td>\n",
              "    </tr>\n",
              "    <tr>\n",
              "      <th>3</th>\n",
              "      <td>Балашиха ТРК \"Октябрь-Киномир\"</td>\n",
              "      <td>3</td>\n",
              "    </tr>\n",
              "    <tr>\n",
              "      <th>4</th>\n",
              "      <td>Волжский ТЦ \"Волга Молл\"</td>\n",
              "      <td>4</td>\n",
              "    </tr>\n",
              "  </tbody>\n",
              "</table>\n",
              "</div>"
            ],
            "text/plain": [
              "                        shop_name  shop_id\n",
              "0   !Якутск Орджоникидзе, 56 фран        0\n",
              "1   !Якутск ТЦ \"Центральный\" фран        1\n",
              "2                Адыгея ТЦ \"Мега\"        2\n",
              "3  Балашиха ТРК \"Октябрь-Киномир\"        3\n",
              "4        Волжский ТЦ \"Волга Молл\"        4"
            ]
          },
          "metadata": {
            "tags": []
          },
          "execution_count": 9
        }
      ]
    },
    {
      "cell_type": "code",
      "metadata": {
        "colab": {
          "base_uri": "https://localhost:8080/",
          "height": 206
        },
        "id": "4pmRNn97cojz",
        "outputId": "326b43ca-1e12-4a9b-c91a-e00699505253"
      },
      "source": [
        "transactions.head()"
      ],
      "execution_count": 10,
      "outputs": [
        {
          "output_type": "execute_result",
          "data": {
            "text/html": [
              "<div>\n",
              "<style scoped>\n",
              "    .dataframe tbody tr th:only-of-type {\n",
              "        vertical-align: middle;\n",
              "    }\n",
              "\n",
              "    .dataframe tbody tr th {\n",
              "        vertical-align: top;\n",
              "    }\n",
              "\n",
              "    .dataframe thead th {\n",
              "        text-align: right;\n",
              "    }\n",
              "</style>\n",
              "<table border=\"1\" class=\"dataframe\">\n",
              "  <thead>\n",
              "    <tr style=\"text-align: right;\">\n",
              "      <th></th>\n",
              "      <th>date</th>\n",
              "      <th>date_block_num</th>\n",
              "      <th>shop_id</th>\n",
              "      <th>item_id</th>\n",
              "      <th>item_price</th>\n",
              "      <th>item_cnt_day</th>\n",
              "    </tr>\n",
              "  </thead>\n",
              "  <tbody>\n",
              "    <tr>\n",
              "      <th>0</th>\n",
              "      <td>02.01.2013</td>\n",
              "      <td>0</td>\n",
              "      <td>59</td>\n",
              "      <td>22154</td>\n",
              "      <td>999.00</td>\n",
              "      <td>1.0</td>\n",
              "    </tr>\n",
              "    <tr>\n",
              "      <th>1</th>\n",
              "      <td>03.01.2013</td>\n",
              "      <td>0</td>\n",
              "      <td>25</td>\n",
              "      <td>2552</td>\n",
              "      <td>899.00</td>\n",
              "      <td>1.0</td>\n",
              "    </tr>\n",
              "    <tr>\n",
              "      <th>2</th>\n",
              "      <td>05.01.2013</td>\n",
              "      <td>0</td>\n",
              "      <td>25</td>\n",
              "      <td>2552</td>\n",
              "      <td>899.00</td>\n",
              "      <td>-1.0</td>\n",
              "    </tr>\n",
              "    <tr>\n",
              "      <th>3</th>\n",
              "      <td>06.01.2013</td>\n",
              "      <td>0</td>\n",
              "      <td>25</td>\n",
              "      <td>2554</td>\n",
              "      <td>1709.05</td>\n",
              "      <td>1.0</td>\n",
              "    </tr>\n",
              "    <tr>\n",
              "      <th>4</th>\n",
              "      <td>15.01.2013</td>\n",
              "      <td>0</td>\n",
              "      <td>25</td>\n",
              "      <td>2555</td>\n",
              "      <td>1099.00</td>\n",
              "      <td>1.0</td>\n",
              "    </tr>\n",
              "  </tbody>\n",
              "</table>\n",
              "</div>"
            ],
            "text/plain": [
              "         date  date_block_num  shop_id  item_id  item_price  item_cnt_day\n",
              "0  02.01.2013               0       59    22154      999.00           1.0\n",
              "1  03.01.2013               0       25     2552      899.00           1.0\n",
              "2  05.01.2013               0       25     2552      899.00          -1.0\n",
              "3  06.01.2013               0       25     2554     1709.05           1.0\n",
              "4  15.01.2013               0       25     2555     1099.00           1.0"
            ]
          },
          "metadata": {
            "tags": []
          },
          "execution_count": 10
        }
      ]
    },
    {
      "cell_type": "markdown",
      "metadata": {
        "id": "CULF97K8Y6Hn"
      },
      "source": [
        "Now use your `pandas` skills to get answers for the following questions. \n",
        "The first question is:\n",
        "\n",
        "1. ** What was the maximum total revenue among all the shops in September, 2014?** \n",
        "\n",
        "\n",
        "* Hereinafter *revenue* refers to total sales minus value of goods returned.\n",
        "\n",
        "*Hints:*\n",
        "\n",
        "* Sometimes items are returned, find such examples in the dataset. \n",
        "* It is handy to split `date` field into [`day`, `month`, `year`] components and use `df.year == 14` and `df.month == 9` in order to select target subset of dates.\n",
        "* You may work with `date` feature as with strings, or you may first convert it to `pd.datetime` type with `pd.to_datetime` function, but do not forget to set correct `format` argument."
      ]
    },
    {
      "cell_type": "code",
      "metadata": {
        "collapsed": true,
        "id": "q2LTgysvY6Hn",
        "colab": {
          "base_uri": "https://localhost:8080/"
        },
        "outputId": "92b3faac-1db6-41e6-ceeb-35cd09b05e6e"
      },
      "source": [
        "# YOUR CODE GOES HERE\n",
        "trans = transactions[transactions['date'].str.endswith('09.2014')]\n",
        "max_revenue = (trans['item_price'] * trans['item_cnt_day']).groupby(trans['shop_id']).sum().max()\n",
        "grader.submit_tag('max_revenue', max_revenue)\n",
        "#max_revenue = max(transactions[\"item_price\"])\n",
        "#grader.submit_tag('max_revenue', max_revenue)"
      ],
      "execution_count": 11,
      "outputs": [
        {
          "output_type": "stream",
          "text": [
            "Current answer for task max_revenue is: 7982852.199999956\n"
          ],
          "name": "stdout"
        }
      ]
    },
    {
      "cell_type": "code",
      "metadata": {
        "id": "lopjNPdYez7G"
      },
      "source": [
        ""
      ],
      "execution_count": null,
      "outputs": []
    },
    {
      "cell_type": "markdown",
      "metadata": {
        "id": "Uk0scqmlY6Hn"
      },
      "source": [
        "Great! Let's move on and answer another question:\n",
        "\n",
        "<ol start=\"2\">\n",
        "  <li><b>What item category generated the highest revenue in summer 2014?</b></li>\n",
        "</ol>\n",
        "\n",
        "* Submit `id` of the category found.\n",
        "    \n",
        "* Here we call \"summer\" the period from June to August.\n",
        "\n",
        "*Hints:*\n",
        "\n",
        "* Note, that for an object `x` of type `pd.Series`: `x.argmax()` returns **index** of the maximum element. `pd.Series` can have non-trivial index (not `[1, 2, 3, ... ]`)."
      ]
    },
    {
      "cell_type": "code",
      "metadata": {
        "collapsed": true,
        "id": "GIj6NTlVY6Ho"
      },
      "source": [
        "# YOUR CODE GOES HERE\n",
        "\n",
        "category_id_with_max_revenue = # PUT YOUR ANSWER IN THIS VARIABLE\n",
        "grader.submit_tag('category_id_with_max_revenue', category_id_with_max_revenue)"
      ],
      "execution_count": null,
      "outputs": []
    },
    {
      "cell_type": "markdown",
      "metadata": {
        "id": "I__WbYsSY6Ho"
      },
      "source": [
        "<ol start=\"3\">\n",
        "  <li><b>How many items are there, such that their price stays constant (to the best of our knowledge) during the whole period of time?</b></li>\n",
        "</ol>\n",
        "\n",
        "* Let's assume, that the items are returned for the same price as they had been sold."
      ]
    },
    {
      "cell_type": "code",
      "metadata": {
        "collapsed": true,
        "id": "D3Z7kshnY6Ho"
      },
      "source": [
        "# YOUR CODE GOES HERE\n",
        "\n",
        "num_items_constant_price = # PUT YOUR ANSWER IN THIS VARIABLE\n",
        "grader.submit_tag('num_items_constant_price', num_items_constant_price)"
      ],
      "execution_count": null,
      "outputs": []
    },
    {
      "cell_type": "markdown",
      "metadata": {
        "id": "xaqVYDPaY6Ho"
      },
      "source": [
        "Remember, the data can sometimes be noisy."
      ]
    },
    {
      "cell_type": "markdown",
      "metadata": {
        "id": "cDKuQO0rY6Ho"
      },
      "source": [
        "<ol start=\"4\">\n",
        "  <li><b>What was the variance of the number of sold items per day sequence for the shop with `shop_id = 25` in December, 2014? Do not count the items, that were sold but returned back later.</b></li>\n",
        "</ol>\n",
        "\n",
        "* Fill `total_num_items_sold` and `days` arrays, and plot the sequence with the code below.\n",
        "* Then compute variance. Remember, there can be differences in how you normalize variance (biased or unbiased estimate, see [link](https://math.stackexchange.com/questions/496627/the-difference-between-unbiased-biased-estimator-variance)). Compute ***unbiased*** estimate (use the right value for `ddof` argument in `pd.var` or `np.var`). \n",
        "* If there were no sales at a given day, ***do not*** impute missing value with zero, just ignore that day"
      ]
    },
    {
      "cell_type": "code",
      "metadata": {
        "collapsed": true,
        "id": "2H5AQzdBY6Hp"
      },
      "source": [
        "shop_id = 25\n",
        "\n",
        "total_num_items_sold = # YOUR CODE GOES HERE\n",
        "days = # YOUR CODE GOES HERE\n",
        "\n",
        "# Plot it\n",
        "plt.plot(days, total_num_items_sold)\n",
        "plt.ylabel('Num items')\n",
        "plt.xlabel('Day')\n",
        "plt.title(\"Daily revenue for shop_id = 25\")\n",
        "plt.show()\n",
        "\n",
        "total_num_items_sold_var = # PUT YOUR ANSWER IN THIS VARIABLE\n",
        "grader.submit_tag('total_num_items_sold_var', total_num_items_sold_var)"
      ],
      "execution_count": null,
      "outputs": []
    },
    {
      "cell_type": "markdown",
      "metadata": {
        "id": "yH5Cun_5Y6Hp"
      },
      "source": [
        "## Authorization & Submission\n",
        "To submit assignment to Cousera platform, please, enter your e-mail and token into the variables below. You can generate token on the programming assignment page. *Note:* Token expires 30 minutes after generation."
      ]
    },
    {
      "cell_type": "code",
      "metadata": {
        "collapsed": true,
        "id": "Ap2TCcSeY6Hp"
      },
      "source": [
        "STUDENT_EMAIL = # EMAIL HERE\n",
        "STUDENT_TOKEN = # TOKEN HERE\n",
        "grader.status()"
      ],
      "execution_count": null,
      "outputs": []
    },
    {
      "cell_type": "code",
      "metadata": {
        "collapsed": true,
        "id": "jACzA5RQY6Hq"
      },
      "source": [
        "grader.submit(STUDENT_EMAIL, STUDENT_TOKEN)"
      ],
      "execution_count": null,
      "outputs": []
    },
    {
      "cell_type": "markdown",
      "metadata": {
        "id": "lXwUsRkfY6Hq"
      },
      "source": [
        "Well done! :)"
      ]
    }
  ]
}